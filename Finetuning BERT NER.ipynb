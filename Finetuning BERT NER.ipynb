{
  "cells": [
    {
      "cell_type": "code",
      "execution_count": null,
      "metadata": {
        "colab": {
          "base_uri": "https://localhost:8080/"
        },
        "id": "Du11byuqhUw1",
        "outputId": "d8cb45f9-cc82-4375-ae2d-ae964745b320"
      },
      "outputs": [
        {
          "output_type": "stream",
          "name": "stdout",
          "text": [
            "Requirement already satisfied: ipywidgets in /usr/local/lib/python3.10/dist-packages (7.7.1)\n",
            "Requirement already satisfied: ipykernel>=4.5.1 in /usr/local/lib/python3.10/dist-packages (from ipywidgets) (5.5.6)\n",
            "Requirement already satisfied: ipython-genutils~=0.2.0 in /usr/local/lib/python3.10/dist-packages (from ipywidgets) (0.2.0)\n",
            "Requirement already satisfied: traitlets>=4.3.1 in /usr/local/lib/python3.10/dist-packages (from ipywidgets) (5.7.1)\n",
            "Requirement already satisfied: widgetsnbextension~=3.6.0 in /usr/local/lib/python3.10/dist-packages (from ipywidgets) (3.6.6)\n",
            "Requirement already satisfied: ipython>=4.0.0 in /usr/local/lib/python3.10/dist-packages (from ipywidgets) (7.34.0)\n",
            "Requirement already satisfied: jupyterlab-widgets>=1.0.0 in /usr/local/lib/python3.10/dist-packages (from ipywidgets) (3.0.10)\n",
            "Requirement already satisfied: jupyter-client in /usr/local/lib/python3.10/dist-packages (from ipykernel>=4.5.1->ipywidgets) (6.1.12)\n",
            "Requirement already satisfied: tornado>=4.2 in /usr/local/lib/python3.10/dist-packages (from ipykernel>=4.5.1->ipywidgets) (6.3.3)\n",
            "Requirement already satisfied: setuptools>=18.5 in /usr/local/lib/python3.10/dist-packages (from ipython>=4.0.0->ipywidgets) (67.7.2)\n",
            "Collecting jedi>=0.16 (from ipython>=4.0.0->ipywidgets)\n",
            "  Downloading jedi-0.19.1-py2.py3-none-any.whl (1.6 MB)\n",
            "\u001b[2K     \u001b[90m━━━━━━━━━━━━━━━━━━━━━━━━━━━━━━━━━━━━━━━━\u001b[0m \u001b[32m1.6/1.6 MB\u001b[0m \u001b[31m8.5 MB/s\u001b[0m eta \u001b[36m0:00:00\u001b[0m\n",
            "\u001b[?25hRequirement already satisfied: decorator in /usr/local/lib/python3.10/dist-packages (from ipython>=4.0.0->ipywidgets) (4.4.2)\n",
            "Requirement already satisfied: pickleshare in /usr/local/lib/python3.10/dist-packages (from ipython>=4.0.0->ipywidgets) (0.7.5)\n",
            "Requirement already satisfied: prompt-toolkit!=3.0.0,!=3.0.1,<3.1.0,>=2.0.0 in /usr/local/lib/python3.10/dist-packages (from ipython>=4.0.0->ipywidgets) (3.0.43)\n",
            "Requirement already satisfied: pygments in /usr/local/lib/python3.10/dist-packages (from ipython>=4.0.0->ipywidgets) (2.16.1)\n",
            "Requirement already satisfied: backcall in /usr/local/lib/python3.10/dist-packages (from ipython>=4.0.0->ipywidgets) (0.2.0)\n",
            "Requirement already satisfied: matplotlib-inline in /usr/local/lib/python3.10/dist-packages (from ipython>=4.0.0->ipywidgets) (0.1.7)\n",
            "Requirement already satisfied: pexpect>4.3 in /usr/local/lib/python3.10/dist-packages (from ipython>=4.0.0->ipywidgets) (4.9.0)\n",
            "Requirement already satisfied: notebook>=4.4.1 in /usr/local/lib/python3.10/dist-packages (from widgetsnbextension~=3.6.0->ipywidgets) (6.5.5)\n",
            "Requirement already satisfied: parso<0.9.0,>=0.8.3 in /usr/local/lib/python3.10/dist-packages (from jedi>=0.16->ipython>=4.0.0->ipywidgets) (0.8.4)\n",
            "Requirement already satisfied: jinja2 in /usr/local/lib/python3.10/dist-packages (from notebook>=4.4.1->widgetsnbextension~=3.6.0->ipywidgets) (3.1.4)\n",
            "Requirement already satisfied: pyzmq<25,>=17 in /usr/local/lib/python3.10/dist-packages (from notebook>=4.4.1->widgetsnbextension~=3.6.0->ipywidgets) (24.0.1)\n",
            "Requirement already satisfied: argon2-cffi in /usr/local/lib/python3.10/dist-packages (from notebook>=4.4.1->widgetsnbextension~=3.6.0->ipywidgets) (23.1.0)\n",
            "Requirement already satisfied: jupyter-core>=4.6.1 in /usr/local/lib/python3.10/dist-packages (from notebook>=4.4.1->widgetsnbextension~=3.6.0->ipywidgets) (5.7.2)\n",
            "Requirement already satisfied: nbformat in /usr/local/lib/python3.10/dist-packages (from notebook>=4.4.1->widgetsnbextension~=3.6.0->ipywidgets) (5.10.4)\n",
            "Requirement already satisfied: nbconvert>=5 in /usr/local/lib/python3.10/dist-packages (from notebook>=4.4.1->widgetsnbextension~=3.6.0->ipywidgets) (6.5.4)\n",
            "Requirement already satisfied: nest-asyncio>=1.5 in /usr/local/lib/python3.10/dist-packages (from notebook>=4.4.1->widgetsnbextension~=3.6.0->ipywidgets) (1.6.0)\n",
            "Requirement already satisfied: Send2Trash>=1.8.0 in /usr/local/lib/python3.10/dist-packages (from notebook>=4.4.1->widgetsnbextension~=3.6.0->ipywidgets) (1.8.3)\n",
            "Requirement already satisfied: terminado>=0.8.3 in /usr/local/lib/python3.10/dist-packages (from notebook>=4.4.1->widgetsnbextension~=3.6.0->ipywidgets) (0.18.1)\n",
            "Requirement already satisfied: prometheus-client in /usr/local/lib/python3.10/dist-packages (from notebook>=4.4.1->widgetsnbextension~=3.6.0->ipywidgets) (0.20.0)\n",
            "Requirement already satisfied: nbclassic>=0.4.7 in /usr/local/lib/python3.10/dist-packages (from notebook>=4.4.1->widgetsnbextension~=3.6.0->ipywidgets) (1.0.0)\n",
            "Requirement already satisfied: python-dateutil>=2.1 in /usr/local/lib/python3.10/dist-packages (from jupyter-client->ipykernel>=4.5.1->ipywidgets) (2.8.2)\n",
            "Requirement already satisfied: ptyprocess>=0.5 in /usr/local/lib/python3.10/dist-packages (from pexpect>4.3->ipython>=4.0.0->ipywidgets) (0.7.0)\n",
            "Requirement already satisfied: wcwidth in /usr/local/lib/python3.10/dist-packages (from prompt-toolkit!=3.0.0,!=3.0.1,<3.1.0,>=2.0.0->ipython>=4.0.0->ipywidgets) (0.2.13)\n",
            "Requirement already satisfied: platformdirs>=2.5 in /usr/local/lib/python3.10/dist-packages (from jupyter-core>=4.6.1->notebook>=4.4.1->widgetsnbextension~=3.6.0->ipywidgets) (4.2.1)\n",
            "Requirement already satisfied: jupyter-server>=1.8 in /usr/local/lib/python3.10/dist-packages (from nbclassic>=0.4.7->notebook>=4.4.1->widgetsnbextension~=3.6.0->ipywidgets) (1.24.0)\n",
            "Requirement already satisfied: notebook-shim>=0.2.3 in /usr/local/lib/python3.10/dist-packages (from nbclassic>=0.4.7->notebook>=4.4.1->widgetsnbextension~=3.6.0->ipywidgets) (0.2.4)\n",
            "Requirement already satisfied: lxml in /usr/local/lib/python3.10/dist-packages (from nbconvert>=5->notebook>=4.4.1->widgetsnbextension~=3.6.0->ipywidgets) (4.9.4)\n",
            "Requirement already satisfied: beautifulsoup4 in /usr/local/lib/python3.10/dist-packages (from nbconvert>=5->notebook>=4.4.1->widgetsnbextension~=3.6.0->ipywidgets) (4.12.3)\n",
            "Requirement already satisfied: bleach in /usr/local/lib/python3.10/dist-packages (from nbconvert>=5->notebook>=4.4.1->widgetsnbextension~=3.6.0->ipywidgets) (6.1.0)\n",
            "Requirement already satisfied: defusedxml in /usr/local/lib/python3.10/dist-packages (from nbconvert>=5->notebook>=4.4.1->widgetsnbextension~=3.6.0->ipywidgets) (0.7.1)\n",
            "Requirement already satisfied: entrypoints>=0.2.2 in /usr/local/lib/python3.10/dist-packages (from nbconvert>=5->notebook>=4.4.1->widgetsnbextension~=3.6.0->ipywidgets) (0.4)\n",
            "Requirement already satisfied: jupyterlab-pygments in /usr/local/lib/python3.10/dist-packages (from nbconvert>=5->notebook>=4.4.1->widgetsnbextension~=3.6.0->ipywidgets) (0.3.0)\n",
            "Requirement already satisfied: MarkupSafe>=2.0 in /usr/local/lib/python3.10/dist-packages (from nbconvert>=5->notebook>=4.4.1->widgetsnbextension~=3.6.0->ipywidgets) (2.1.5)\n",
            "Requirement already satisfied: mistune<2,>=0.8.1 in /usr/local/lib/python3.10/dist-packages (from nbconvert>=5->notebook>=4.4.1->widgetsnbextension~=3.6.0->ipywidgets) (0.8.4)\n",
            "Requirement already satisfied: nbclient>=0.5.0 in /usr/local/lib/python3.10/dist-packages (from nbconvert>=5->notebook>=4.4.1->widgetsnbextension~=3.6.0->ipywidgets) (0.10.0)\n",
            "Requirement already satisfied: packaging in /usr/local/lib/python3.10/dist-packages (from nbconvert>=5->notebook>=4.4.1->widgetsnbextension~=3.6.0->ipywidgets) (24.0)\n",
            "Requirement already satisfied: pandocfilters>=1.4.1 in /usr/local/lib/python3.10/dist-packages (from nbconvert>=5->notebook>=4.4.1->widgetsnbextension~=3.6.0->ipywidgets) (1.5.1)\n",
            "Requirement already satisfied: tinycss2 in /usr/local/lib/python3.10/dist-packages (from nbconvert>=5->notebook>=4.4.1->widgetsnbextension~=3.6.0->ipywidgets) (1.3.0)\n",
            "Requirement already satisfied: fastjsonschema>=2.15 in /usr/local/lib/python3.10/dist-packages (from nbformat->notebook>=4.4.1->widgetsnbextension~=3.6.0->ipywidgets) (2.19.1)\n",
            "Requirement already satisfied: jsonschema>=2.6 in /usr/local/lib/python3.10/dist-packages (from nbformat->notebook>=4.4.1->widgetsnbextension~=3.6.0->ipywidgets) (4.19.2)\n",
            "Requirement already satisfied: six>=1.5 in /usr/local/lib/python3.10/dist-packages (from python-dateutil>=2.1->jupyter-client->ipykernel>=4.5.1->ipywidgets) (1.16.0)\n",
            "Requirement already satisfied: argon2-cffi-bindings in /usr/local/lib/python3.10/dist-packages (from argon2-cffi->notebook>=4.4.1->widgetsnbextension~=3.6.0->ipywidgets) (21.2.0)\n",
            "Requirement already satisfied: attrs>=22.2.0 in /usr/local/lib/python3.10/dist-packages (from jsonschema>=2.6->nbformat->notebook>=4.4.1->widgetsnbextension~=3.6.0->ipywidgets) (23.2.0)\n",
            "Requirement already satisfied: jsonschema-specifications>=2023.03.6 in /usr/local/lib/python3.10/dist-packages (from jsonschema>=2.6->nbformat->notebook>=4.4.1->widgetsnbextension~=3.6.0->ipywidgets) (2023.12.1)\n",
            "Requirement already satisfied: referencing>=0.28.4 in /usr/local/lib/python3.10/dist-packages (from jsonschema>=2.6->nbformat->notebook>=4.4.1->widgetsnbextension~=3.6.0->ipywidgets) (0.35.1)\n",
            "Requirement already satisfied: rpds-py>=0.7.1 in /usr/local/lib/python3.10/dist-packages (from jsonschema>=2.6->nbformat->notebook>=4.4.1->widgetsnbextension~=3.6.0->ipywidgets) (0.18.1)\n",
            "Requirement already satisfied: anyio<4,>=3.1.0 in /usr/local/lib/python3.10/dist-packages (from jupyter-server>=1.8->nbclassic>=0.4.7->notebook>=4.4.1->widgetsnbextension~=3.6.0->ipywidgets) (3.7.1)\n",
            "Requirement already satisfied: websocket-client in /usr/local/lib/python3.10/dist-packages (from jupyter-server>=1.8->nbclassic>=0.4.7->notebook>=4.4.1->widgetsnbextension~=3.6.0->ipywidgets) (1.8.0)\n",
            "Requirement already satisfied: cffi>=1.0.1 in /usr/local/lib/python3.10/dist-packages (from argon2-cffi-bindings->argon2-cffi->notebook>=4.4.1->widgetsnbextension~=3.6.0->ipywidgets) (1.16.0)\n",
            "Requirement already satisfied: soupsieve>1.2 in /usr/local/lib/python3.10/dist-packages (from beautifulsoup4->nbconvert>=5->notebook>=4.4.1->widgetsnbextension~=3.6.0->ipywidgets) (2.5)\n",
            "Requirement already satisfied: webencodings in /usr/local/lib/python3.10/dist-packages (from bleach->nbconvert>=5->notebook>=4.4.1->widgetsnbextension~=3.6.0->ipywidgets) (0.5.1)\n",
            "Requirement already satisfied: idna>=2.8 in /usr/local/lib/python3.10/dist-packages (from anyio<4,>=3.1.0->jupyter-server>=1.8->nbclassic>=0.4.7->notebook>=4.4.1->widgetsnbextension~=3.6.0->ipywidgets) (3.7)\n",
            "Requirement already satisfied: sniffio>=1.1 in /usr/local/lib/python3.10/dist-packages (from anyio<4,>=3.1.0->jupyter-server>=1.8->nbclassic>=0.4.7->notebook>=4.4.1->widgetsnbextension~=3.6.0->ipywidgets) (1.3.1)\n",
            "Requirement already satisfied: exceptiongroup in /usr/local/lib/python3.10/dist-packages (from anyio<4,>=3.1.0->jupyter-server>=1.8->nbclassic>=0.4.7->notebook>=4.4.1->widgetsnbextension~=3.6.0->ipywidgets) (1.2.1)\n",
            "Requirement already satisfied: pycparser in /usr/local/lib/python3.10/dist-packages (from cffi>=1.0.1->argon2-cffi-bindings->argon2-cffi->notebook>=4.4.1->widgetsnbextension~=3.6.0->ipywidgets) (2.22)\n",
            "Installing collected packages: jedi\n",
            "Successfully installed jedi-0.19.1\n"
          ]
        }
      ],
      "source": [
        "!pip install ipywidgets"
      ]
    },
    {
      "cell_type": "code",
      "execution_count": null,
      "metadata": {
        "colab": {
          "base_uri": "https://localhost:8080/"
        },
        "id": "9KHuJQi9htT4",
        "outputId": "28cf4dfb-257b-4061-cb2c-cf28ccecbec3"
      },
      "outputs": [
        {
          "output_type": "stream",
          "name": "stdout",
          "text": [
            "Collecting datasets\n",
            "  Downloading datasets-2.19.1-py3-none-any.whl (542 kB)\n",
            "\u001b[2K     \u001b[90m━━━━━━━━━━━━━━━━━━━━━━━━━━━━━━━━━━━━━━━━\u001b[0m \u001b[32m542.0/542.0 kB\u001b[0m \u001b[31m3.4 MB/s\u001b[0m eta \u001b[36m0:00:00\u001b[0m\n",
            "\u001b[?25hRequirement already satisfied: filelock in /usr/local/lib/python3.10/dist-packages (from datasets) (3.14.0)\n",
            "Requirement already satisfied: numpy>=1.17 in /usr/local/lib/python3.10/dist-packages (from datasets) (1.25.2)\n",
            "Requirement already satisfied: pyarrow>=12.0.0 in /usr/local/lib/python3.10/dist-packages (from datasets) (14.0.2)\n",
            "Requirement already satisfied: pyarrow-hotfix in /usr/local/lib/python3.10/dist-packages (from datasets) (0.6)\n",
            "Collecting dill<0.3.9,>=0.3.0 (from datasets)\n",
            "  Downloading dill-0.3.8-py3-none-any.whl (116 kB)\n",
            "\u001b[2K     \u001b[90m━━━━━━━━━━━━━━━━━━━━━━━━━━━━━━━━━━━━━━━━\u001b[0m \u001b[32m116.3/116.3 kB\u001b[0m \u001b[31m20.3 MB/s\u001b[0m eta \u001b[36m0:00:00\u001b[0m\n",
            "\u001b[?25hRequirement already satisfied: pandas in /usr/local/lib/python3.10/dist-packages (from datasets) (2.0.3)\n",
            "Requirement already satisfied: requests>=2.19.0 in /usr/local/lib/python3.10/dist-packages (from datasets) (2.31.0)\n",
            "Requirement already satisfied: tqdm>=4.62.1 in /usr/local/lib/python3.10/dist-packages (from datasets) (4.66.4)\n",
            "Collecting xxhash (from datasets)\n",
            "  Downloading xxhash-3.4.1-cp310-cp310-manylinux_2_17_x86_64.manylinux2014_x86_64.whl (194 kB)\n",
            "\u001b[2K     \u001b[90m━━━━━━━━━━━━━━━━━━━━━━━━━━━━━━━━━━━━━━━━\u001b[0m \u001b[32m194.1/194.1 kB\u001b[0m \u001b[31m23.3 MB/s\u001b[0m eta \u001b[36m0:00:00\u001b[0m\n",
            "\u001b[?25hCollecting multiprocess (from datasets)\n",
            "  Downloading multiprocess-0.70.16-py310-none-any.whl (134 kB)\n",
            "\u001b[2K     \u001b[90m━━━━━━━━━━━━━━━━━━━━━━━━━━━━━━━━━━━━━━━━\u001b[0m \u001b[32m134.8/134.8 kB\u001b[0m \u001b[31m21.7 MB/s\u001b[0m eta \u001b[36m0:00:00\u001b[0m\n",
            "\u001b[?25hRequirement already satisfied: fsspec[http]<=2024.3.1,>=2023.1.0 in /usr/local/lib/python3.10/dist-packages (from datasets) (2023.6.0)\n",
            "Requirement already satisfied: aiohttp in /usr/local/lib/python3.10/dist-packages (from datasets) (3.9.5)\n",
            "Collecting huggingface-hub>=0.21.2 (from datasets)\n",
            "  Downloading huggingface_hub-0.23.0-py3-none-any.whl (401 kB)\n",
            "\u001b[2K     \u001b[90m━━━━━━━━━━━━━━━━━━━━━━━━━━━━━━━━━━━━━━━━\u001b[0m \u001b[32m401.2/401.2 kB\u001b[0m \u001b[31m25.0 MB/s\u001b[0m eta \u001b[36m0:00:00\u001b[0m\n",
            "\u001b[?25hRequirement already satisfied: packaging in /usr/local/lib/python3.10/dist-packages (from datasets) (24.0)\n",
            "Requirement already satisfied: pyyaml>=5.1 in /usr/local/lib/python3.10/dist-packages (from datasets) (6.0.1)\n",
            "Requirement already satisfied: aiosignal>=1.1.2 in /usr/local/lib/python3.10/dist-packages (from aiohttp->datasets) (1.3.1)\n",
            "Requirement already satisfied: attrs>=17.3.0 in /usr/local/lib/python3.10/dist-packages (from aiohttp->datasets) (23.2.0)\n",
            "Requirement already satisfied: frozenlist>=1.1.1 in /usr/local/lib/python3.10/dist-packages (from aiohttp->datasets) (1.4.1)\n",
            "Requirement already satisfied: multidict<7.0,>=4.5 in /usr/local/lib/python3.10/dist-packages (from aiohttp->datasets) (6.0.5)\n",
            "Requirement already satisfied: yarl<2.0,>=1.0 in /usr/local/lib/python3.10/dist-packages (from aiohttp->datasets) (1.9.4)\n",
            "Requirement already satisfied: async-timeout<5.0,>=4.0 in /usr/local/lib/python3.10/dist-packages (from aiohttp->datasets) (4.0.3)\n",
            "Requirement already satisfied: typing-extensions>=3.7.4.3 in /usr/local/lib/python3.10/dist-packages (from huggingface-hub>=0.21.2->datasets) (4.11.0)\n",
            "Requirement already satisfied: charset-normalizer<4,>=2 in /usr/local/lib/python3.10/dist-packages (from requests>=2.19.0->datasets) (3.3.2)\n",
            "Requirement already satisfied: idna<4,>=2.5 in /usr/local/lib/python3.10/dist-packages (from requests>=2.19.0->datasets) (3.7)\n",
            "Requirement already satisfied: urllib3<3,>=1.21.1 in /usr/local/lib/python3.10/dist-packages (from requests>=2.19.0->datasets) (2.0.7)\n",
            "Requirement already satisfied: certifi>=2017.4.17 in /usr/local/lib/python3.10/dist-packages (from requests>=2.19.0->datasets) (2024.2.2)\n",
            "Requirement already satisfied: python-dateutil>=2.8.2 in /usr/local/lib/python3.10/dist-packages (from pandas->datasets) (2.8.2)\n",
            "Requirement already satisfied: pytz>=2020.1 in /usr/local/lib/python3.10/dist-packages (from pandas->datasets) (2023.4)\n",
            "Requirement already satisfied: tzdata>=2022.1 in /usr/local/lib/python3.10/dist-packages (from pandas->datasets) (2024.1)\n",
            "Requirement already satisfied: six>=1.5 in /usr/local/lib/python3.10/dist-packages (from python-dateutil>=2.8.2->pandas->datasets) (1.16.0)\n",
            "Installing collected packages: xxhash, dill, multiprocess, huggingface-hub, datasets\n",
            "  Attempting uninstall: huggingface-hub\n",
            "    Found existing installation: huggingface-hub 0.20.3\n",
            "    Uninstalling huggingface-hub-0.20.3:\n",
            "      Successfully uninstalled huggingface-hub-0.20.3\n",
            "Successfully installed datasets-2.19.1 dill-0.3.8 huggingface-hub-0.23.0 multiprocess-0.70.16 xxhash-3.4.1\n"
          ]
        }
      ],
      "source": [
        "!pip install datasets"
      ]
    },
    {
      "cell_type": "code",
      "execution_count": null,
      "metadata": {
        "colab": {
          "base_uri": "https://localhost:8080/"
        },
        "id": "3tsPFJdBMBmv",
        "outputId": "aa966b58-a415-4eb9-df7b-1b309ed752e8"
      },
      "outputs": [
        {
          "output_type": "stream",
          "name": "stdout",
          "text": [
            "Collecting accelerate\n",
            "  Downloading accelerate-0.30.1-py3-none-any.whl (302 kB)\n",
            "\u001b[2K     \u001b[90m━━━━━━━━━━━━━━━━━━━━━━━━━━━━━━━━━━━━━━━━\u001b[0m \u001b[32m302.6/302.6 kB\u001b[0m \u001b[31m2.3 MB/s\u001b[0m eta \u001b[36m0:00:00\u001b[0m\n",
            "\u001b[?25hRequirement already satisfied: numpy>=1.17 in /usr/local/lib/python3.10/dist-packages (from accelerate) (1.25.2)\n",
            "Requirement already satisfied: packaging>=20.0 in /usr/local/lib/python3.10/dist-packages (from accelerate) (24.0)\n",
            "Requirement already satisfied: psutil in /usr/local/lib/python3.10/dist-packages (from accelerate) (5.9.5)\n",
            "Requirement already satisfied: pyyaml in /usr/local/lib/python3.10/dist-packages (from accelerate) (6.0.1)\n",
            "Requirement already satisfied: torch>=1.10.0 in /usr/local/lib/python3.10/dist-packages (from accelerate) (2.2.1+cu121)\n",
            "Requirement already satisfied: huggingface-hub in /usr/local/lib/python3.10/dist-packages (from accelerate) (0.23.0)\n",
            "Requirement already satisfied: safetensors>=0.3.1 in /usr/local/lib/python3.10/dist-packages (from accelerate) (0.4.3)\n",
            "Requirement already satisfied: filelock in /usr/local/lib/python3.10/dist-packages (from torch>=1.10.0->accelerate) (3.14.0)\n",
            "Requirement already satisfied: typing-extensions>=4.8.0 in /usr/local/lib/python3.10/dist-packages (from torch>=1.10.0->accelerate) (4.11.0)\n",
            "Requirement already satisfied: sympy in /usr/local/lib/python3.10/dist-packages (from torch>=1.10.0->accelerate) (1.12)\n",
            "Requirement already satisfied: networkx in /usr/local/lib/python3.10/dist-packages (from torch>=1.10.0->accelerate) (3.3)\n",
            "Requirement already satisfied: jinja2 in /usr/local/lib/python3.10/dist-packages (from torch>=1.10.0->accelerate) (3.1.4)\n",
            "Requirement already satisfied: fsspec in /usr/local/lib/python3.10/dist-packages (from torch>=1.10.0->accelerate) (2023.6.0)\n",
            "Collecting nvidia-cuda-nvrtc-cu12==12.1.105 (from torch>=1.10.0->accelerate)\n",
            "  Using cached nvidia_cuda_nvrtc_cu12-12.1.105-py3-none-manylinux1_x86_64.whl (23.7 MB)\n",
            "Collecting nvidia-cuda-runtime-cu12==12.1.105 (from torch>=1.10.0->accelerate)\n",
            "  Using cached nvidia_cuda_runtime_cu12-12.1.105-py3-none-manylinux1_x86_64.whl (823 kB)\n",
            "Collecting nvidia-cuda-cupti-cu12==12.1.105 (from torch>=1.10.0->accelerate)\n",
            "  Using cached nvidia_cuda_cupti_cu12-12.1.105-py3-none-manylinux1_x86_64.whl (14.1 MB)\n",
            "Collecting nvidia-cudnn-cu12==8.9.2.26 (from torch>=1.10.0->accelerate)\n",
            "  Using cached nvidia_cudnn_cu12-8.9.2.26-py3-none-manylinux1_x86_64.whl (731.7 MB)\n",
            "Collecting nvidia-cublas-cu12==12.1.3.1 (from torch>=1.10.0->accelerate)\n",
            "  Using cached nvidia_cublas_cu12-12.1.3.1-py3-none-manylinux1_x86_64.whl (410.6 MB)\n",
            "Collecting nvidia-cufft-cu12==11.0.2.54 (from torch>=1.10.0->accelerate)\n",
            "  Using cached nvidia_cufft_cu12-11.0.2.54-py3-none-manylinux1_x86_64.whl (121.6 MB)\n",
            "Collecting nvidia-curand-cu12==10.3.2.106 (from torch>=1.10.0->accelerate)\n",
            "  Using cached nvidia_curand_cu12-10.3.2.106-py3-none-manylinux1_x86_64.whl (56.5 MB)\n",
            "Collecting nvidia-cusolver-cu12==11.4.5.107 (from torch>=1.10.0->accelerate)\n",
            "  Using cached nvidia_cusolver_cu12-11.4.5.107-py3-none-manylinux1_x86_64.whl (124.2 MB)\n",
            "Collecting nvidia-cusparse-cu12==12.1.0.106 (from torch>=1.10.0->accelerate)\n",
            "  Using cached nvidia_cusparse_cu12-12.1.0.106-py3-none-manylinux1_x86_64.whl (196.0 MB)\n",
            "Collecting nvidia-nccl-cu12==2.19.3 (from torch>=1.10.0->accelerate)\n",
            "  Using cached nvidia_nccl_cu12-2.19.3-py3-none-manylinux1_x86_64.whl (166.0 MB)\n",
            "Collecting nvidia-nvtx-cu12==12.1.105 (from torch>=1.10.0->accelerate)\n",
            "  Using cached nvidia_nvtx_cu12-12.1.105-py3-none-manylinux1_x86_64.whl (99 kB)\n",
            "Requirement already satisfied: triton==2.2.0 in /usr/local/lib/python3.10/dist-packages (from torch>=1.10.0->accelerate) (2.2.0)\n",
            "Collecting nvidia-nvjitlink-cu12 (from nvidia-cusolver-cu12==11.4.5.107->torch>=1.10.0->accelerate)\n",
            "  Using cached nvidia_nvjitlink_cu12-12.4.127-py3-none-manylinux2014_x86_64.whl (21.1 MB)\n",
            "Requirement already satisfied: requests in /usr/local/lib/python3.10/dist-packages (from huggingface-hub->accelerate) (2.31.0)\n",
            "Requirement already satisfied: tqdm>=4.42.1 in /usr/local/lib/python3.10/dist-packages (from huggingface-hub->accelerate) (4.66.4)\n",
            "Requirement already satisfied: MarkupSafe>=2.0 in /usr/local/lib/python3.10/dist-packages (from jinja2->torch>=1.10.0->accelerate) (2.1.5)\n",
            "Requirement already satisfied: charset-normalizer<4,>=2 in /usr/local/lib/python3.10/dist-packages (from requests->huggingface-hub->accelerate) (3.3.2)\n",
            "Requirement already satisfied: idna<4,>=2.5 in /usr/local/lib/python3.10/dist-packages (from requests->huggingface-hub->accelerate) (3.7)\n",
            "Requirement already satisfied: urllib3<3,>=1.21.1 in /usr/local/lib/python3.10/dist-packages (from requests->huggingface-hub->accelerate) (2.0.7)\n",
            "Requirement already satisfied: certifi>=2017.4.17 in /usr/local/lib/python3.10/dist-packages (from requests->huggingface-hub->accelerate) (2024.2.2)\n",
            "Requirement already satisfied: mpmath>=0.19 in /usr/local/lib/python3.10/dist-packages (from sympy->torch>=1.10.0->accelerate) (1.3.0)\n",
            "Installing collected packages: nvidia-nvtx-cu12, nvidia-nvjitlink-cu12, nvidia-nccl-cu12, nvidia-curand-cu12, nvidia-cufft-cu12, nvidia-cuda-runtime-cu12, nvidia-cuda-nvrtc-cu12, nvidia-cuda-cupti-cu12, nvidia-cublas-cu12, nvidia-cusparse-cu12, nvidia-cudnn-cu12, nvidia-cusolver-cu12, accelerate\n",
            "Successfully installed accelerate-0.30.1 nvidia-cublas-cu12-12.1.3.1 nvidia-cuda-cupti-cu12-12.1.105 nvidia-cuda-nvrtc-cu12-12.1.105 nvidia-cuda-runtime-cu12-12.1.105 nvidia-cudnn-cu12-8.9.2.26 nvidia-cufft-cu12-11.0.2.54 nvidia-curand-cu12-10.3.2.106 nvidia-cusolver-cu12-11.4.5.107 nvidia-cusparse-cu12-12.1.0.106 nvidia-nccl-cu12-2.19.3 nvidia-nvjitlink-cu12-12.4.127 nvidia-nvtx-cu12-12.1.105\n"
          ]
        }
      ],
      "source": [
        "!pip install accelerate"
      ]
    },
    {
      "cell_type": "code",
      "execution_count": null,
      "metadata": {
        "colab": {
          "base_uri": "https://localhost:8080/"
        },
        "id": "yg3C-rjgMtP8",
        "outputId": "0edcdddc-d954-4139-bfd6-0e68bfa5594b"
      },
      "outputs": [
        {
          "output_type": "stream",
          "name": "stdout",
          "text": [
            "Requirement already satisfied: transformers[torch] in /usr/local/lib/python3.10/dist-packages (4.40.2)\n",
            "Requirement already satisfied: filelock in /usr/local/lib/python3.10/dist-packages (from transformers[torch]) (3.14.0)\n",
            "Requirement already satisfied: huggingface-hub<1.0,>=0.19.3 in /usr/local/lib/python3.10/dist-packages (from transformers[torch]) (0.23.0)\n",
            "Requirement already satisfied: numpy>=1.17 in /usr/local/lib/python3.10/dist-packages (from transformers[torch]) (1.25.2)\n",
            "Requirement already satisfied: packaging>=20.0 in /usr/local/lib/python3.10/dist-packages (from transformers[torch]) (24.0)\n",
            "Requirement already satisfied: pyyaml>=5.1 in /usr/local/lib/python3.10/dist-packages (from transformers[torch]) (6.0.1)\n",
            "Requirement already satisfied: regex!=2019.12.17 in /usr/local/lib/python3.10/dist-packages (from transformers[torch]) (2023.12.25)\n",
            "Requirement already satisfied: requests in /usr/local/lib/python3.10/dist-packages (from transformers[torch]) (2.31.0)\n",
            "Requirement already satisfied: tokenizers<0.20,>=0.19 in /usr/local/lib/python3.10/dist-packages (from transformers[torch]) (0.19.1)\n",
            "Requirement already satisfied: safetensors>=0.4.1 in /usr/local/lib/python3.10/dist-packages (from transformers[torch]) (0.4.3)\n",
            "Requirement already satisfied: tqdm>=4.27 in /usr/local/lib/python3.10/dist-packages (from transformers[torch]) (4.66.4)\n",
            "Requirement already satisfied: torch in /usr/local/lib/python3.10/dist-packages (from transformers[torch]) (2.2.1+cu121)\n",
            "Requirement already satisfied: accelerate>=0.21.0 in /usr/local/lib/python3.10/dist-packages (from transformers[torch]) (0.30.1)\n",
            "Requirement already satisfied: psutil in /usr/local/lib/python3.10/dist-packages (from accelerate>=0.21.0->transformers[torch]) (5.9.5)\n",
            "Requirement already satisfied: fsspec>=2023.5.0 in /usr/local/lib/python3.10/dist-packages (from huggingface-hub<1.0,>=0.19.3->transformers[torch]) (2023.6.0)\n",
            "Requirement already satisfied: typing-extensions>=3.7.4.3 in /usr/local/lib/python3.10/dist-packages (from huggingface-hub<1.0,>=0.19.3->transformers[torch]) (4.11.0)\n",
            "Requirement already satisfied: sympy in /usr/local/lib/python3.10/dist-packages (from torch->transformers[torch]) (1.12)\n",
            "Requirement already satisfied: networkx in /usr/local/lib/python3.10/dist-packages (from torch->transformers[torch]) (3.3)\n",
            "Requirement already satisfied: jinja2 in /usr/local/lib/python3.10/dist-packages (from torch->transformers[torch]) (3.1.4)\n",
            "Requirement already satisfied: nvidia-cuda-nvrtc-cu12==12.1.105 in /usr/local/lib/python3.10/dist-packages (from torch->transformers[torch]) (12.1.105)\n",
            "Requirement already satisfied: nvidia-cuda-runtime-cu12==12.1.105 in /usr/local/lib/python3.10/dist-packages (from torch->transformers[torch]) (12.1.105)\n",
            "Requirement already satisfied: nvidia-cuda-cupti-cu12==12.1.105 in /usr/local/lib/python3.10/dist-packages (from torch->transformers[torch]) (12.1.105)\n",
            "Requirement already satisfied: nvidia-cudnn-cu12==8.9.2.26 in /usr/local/lib/python3.10/dist-packages (from torch->transformers[torch]) (8.9.2.26)\n",
            "Requirement already satisfied: nvidia-cublas-cu12==12.1.3.1 in /usr/local/lib/python3.10/dist-packages (from torch->transformers[torch]) (12.1.3.1)\n",
            "Requirement already satisfied: nvidia-cufft-cu12==11.0.2.54 in /usr/local/lib/python3.10/dist-packages (from torch->transformers[torch]) (11.0.2.54)\n",
            "Requirement already satisfied: nvidia-curand-cu12==10.3.2.106 in /usr/local/lib/python3.10/dist-packages (from torch->transformers[torch]) (10.3.2.106)\n",
            "Requirement already satisfied: nvidia-cusolver-cu12==11.4.5.107 in /usr/local/lib/python3.10/dist-packages (from torch->transformers[torch]) (11.4.5.107)\n",
            "Requirement already satisfied: nvidia-cusparse-cu12==12.1.0.106 in /usr/local/lib/python3.10/dist-packages (from torch->transformers[torch]) (12.1.0.106)\n",
            "Requirement already satisfied: nvidia-nccl-cu12==2.19.3 in /usr/local/lib/python3.10/dist-packages (from torch->transformers[torch]) (2.19.3)\n",
            "Requirement already satisfied: nvidia-nvtx-cu12==12.1.105 in /usr/local/lib/python3.10/dist-packages (from torch->transformers[torch]) (12.1.105)\n",
            "Requirement already satisfied: triton==2.2.0 in /usr/local/lib/python3.10/dist-packages (from torch->transformers[torch]) (2.2.0)\n",
            "Requirement already satisfied: nvidia-nvjitlink-cu12 in /usr/local/lib/python3.10/dist-packages (from nvidia-cusolver-cu12==11.4.5.107->torch->transformers[torch]) (12.4.127)\n",
            "Requirement already satisfied: charset-normalizer<4,>=2 in /usr/local/lib/python3.10/dist-packages (from requests->transformers[torch]) (3.3.2)\n",
            "Requirement already satisfied: idna<4,>=2.5 in /usr/local/lib/python3.10/dist-packages (from requests->transformers[torch]) (3.7)\n",
            "Requirement already satisfied: urllib3<3,>=1.21.1 in /usr/local/lib/python3.10/dist-packages (from requests->transformers[torch]) (2.0.7)\n",
            "Requirement already satisfied: certifi>=2017.4.17 in /usr/local/lib/python3.10/dist-packages (from requests->transformers[torch]) (2024.2.2)\n",
            "Requirement already satisfied: MarkupSafe>=2.0 in /usr/local/lib/python3.10/dist-packages (from jinja2->torch->transformers[torch]) (2.1.5)\n",
            "Requirement already satisfied: mpmath>=0.19 in /usr/local/lib/python3.10/dist-packages (from sympy->torch->transformers[torch]) (1.3.0)\n"
          ]
        }
      ],
      "source": [
        "!pip install transformers[torch]"
      ]
    },
    {
      "cell_type": "code",
      "source": [
        "!pip install seqeval"
      ],
      "metadata": {
        "colab": {
          "base_uri": "https://localhost:8080/"
        },
        "id": "LQ-Zx-PMf0Df",
        "outputId": "67396adc-7086-40ce-87f0-df8ca82c5385"
      },
      "execution_count": null,
      "outputs": [
        {
          "output_type": "stream",
          "name": "stdout",
          "text": [
            "Collecting seqeval\n",
            "  Downloading seqeval-1.2.2.tar.gz (43 kB)\n",
            "\u001b[?25l     \u001b[90m━━━━━━━━━━━━━━━━━━━━━━━━━━━━━━━━━━━━━━━━\u001b[0m \u001b[32m0.0/43.6 kB\u001b[0m \u001b[31m?\u001b[0m eta \u001b[36m-:--:--\u001b[0m\r\u001b[2K     \u001b[91m━━━━━━━━━━━━━━━━━━━━━━━━━━━━\u001b[0m\u001b[90m╺\u001b[0m\u001b[90m━━━━━━━━━━━\u001b[0m \u001b[32m30.7/43.6 kB\u001b[0m \u001b[31m1.1 MB/s\u001b[0m eta \u001b[36m0:00:01\u001b[0m\r\u001b[2K     \u001b[90m━━━━━━━━━━━━━━━━━━━━━━━━━━━━━━━━━━━━━━━━\u001b[0m \u001b[32m43.6/43.6 kB\u001b[0m \u001b[31m843.9 kB/s\u001b[0m eta \u001b[36m0:00:00\u001b[0m\n",
            "\u001b[?25h  Preparing metadata (setup.py) ... \u001b[?25l\u001b[?25hdone\n",
            "Requirement already satisfied: numpy>=1.14.0 in /usr/local/lib/python3.10/dist-packages (from seqeval) (1.25.2)\n",
            "Requirement already satisfied: scikit-learn>=0.21.3 in /usr/local/lib/python3.10/dist-packages (from seqeval) (1.2.2)\n",
            "Requirement already satisfied: scipy>=1.3.2 in /usr/local/lib/python3.10/dist-packages (from scikit-learn>=0.21.3->seqeval) (1.11.4)\n",
            "Requirement already satisfied: joblib>=1.1.1 in /usr/local/lib/python3.10/dist-packages (from scikit-learn>=0.21.3->seqeval) (1.4.2)\n",
            "Requirement already satisfied: threadpoolctl>=2.0.0 in /usr/local/lib/python3.10/dist-packages (from scikit-learn>=0.21.3->seqeval) (3.5.0)\n",
            "Building wheels for collected packages: seqeval\n",
            "  Building wheel for seqeval (setup.py) ... \u001b[?25l\u001b[?25hdone\n",
            "  Created wheel for seqeval: filename=seqeval-1.2.2-py3-none-any.whl size=16161 sha256=638746e776c8f0e872d7af19ad22cf5ce5a4aa003bd2960e219af12fa387600e\n",
            "  Stored in directory: /root/.cache/pip/wheels/1a/67/4a/ad4082dd7dfc30f2abfe4d80a2ed5926a506eb8a972b4767fa\n",
            "Successfully built seqeval\n",
            "Installing collected packages: seqeval\n",
            "Successfully installed seqeval-1.2.2\n"
          ]
        }
      ]
    },
    {
      "cell_type": "code",
      "execution_count": null,
      "metadata": {
        "id": "Bu7G2Ad-hUw3"
      },
      "outputs": [],
      "source": [
        "import json\n",
        "import datasets\n",
        "from datasets import Dataset, ClassLabel, Value, Features, Sequence\n",
        "import os"
      ]
    },
    {
      "cell_type": "code",
      "execution_count": null,
      "metadata": {
        "id": "p_oU9XkphUw4"
      },
      "outputs": [],
      "source": [
        "def load_data(directory):\n",
        "    texts, labels = [], []\n",
        "    for filename in os.listdir(directory):\n",
        "        file_path = os.path.join(directory, filename)\n",
        "        with open(file_path, 'r', encoding='utf-8') as file:\n",
        "            data = json.load(file)\n",
        "            for item in data['annotations']:\n",
        "                if item == None:\n",
        "                  continue\n",
        "                text = item[0]\n",
        "                entities = item[1]['entities']\n",
        "                text_labels = ['O'] * len(text)  # Default label\n",
        "                for start, end, label in entities:\n",
        "                    if label == \"QUESTION\":\n",
        "                        text_labels[start] = 'B-QUESTION'\n",
        "                        for i in range(start + 1, end):\n",
        "                            text_labels[i] = 'I-QUESTION'\n",
        "                    # Assuming you do not want to include 'GARBAGE'\n",
        "                texts.append(text)\n",
        "                labels.append(text_labels)\n",
        "    return texts, labels"
      ]
    },
    {
      "cell_type": "code",
      "execution_count": null,
      "metadata": {
        "id": "E5JkflxMhUw5"
      },
      "outputs": [],
      "source": [
        "import re\n",
        "def create_dataset(texts, labels):\n",
        "    # Convert list of characters in texts to list of words (assuming words were intended)\n",
        "    tokenized_texts = [re.findall(r'\\S+|\\s', text) for text in texts]  # Example of simple whitespace tokenization\n",
        "    # Adjust labels to match the tokenization\n",
        "    adjusted_labels = []\n",
        "    for text, label in zip(tokenized_texts, labels):\n",
        "        word_labels = []\n",
        "        word_index = 0\n",
        "        for word in text:\n",
        "            if word_index < len(label):\n",
        "                word_labels.append(label[word_index])\n",
        "            word_index += len(word)  # Adjust based on actual tokenization\n",
        "        adjusted_labels.append(word_labels)\n",
        "\n",
        "    # Define features with correct types\n",
        "    features = Features({\n",
        "        'tokens': Sequence(Value('string')),\n",
        "        'ner_tags': Sequence(ClassLabel(names=['O', 'B-QUESTION', 'I-QUESTION']))\n",
        "    })\n",
        "\n",
        "    # Create a dictionary with the structured data\n",
        "    data = {'tokens': tokenized_texts, 'ner_tags': adjusted_labels}\n",
        "    # Print the tokens\n",
        "    print(data['tokens'])\n",
        "    return Dataset.from_dict(data, features=features)"
      ]
    },
    {
      "cell_type": "code",
      "execution_count": null,
      "metadata": {
        "id": "uUOb7GsihUw5"
      },
      "outputs": [],
      "source": [
        "# Load and create datasets\n",
        "directory = r\"/NERjson\""
      ]
    },
    {
      "cell_type": "code",
      "source": [
        "texts, labels = load_data(directory)"
      ],
      "metadata": {
        "id": "MKJ-SdccdKbW"
      },
      "execution_count": null,
      "outputs": []
    },
    {
      "cell_type": "code",
      "execution_count": null,
      "metadata": {
        "colab": {
          "base_uri": "https://localhost:8080/"
        },
        "id": "GOXjurx_muyx",
        "outputId": "d1997f17-9131-4eb2-d138-e763a9028d2d"
      },
      "outputs": [
        {
          "output_type": "stream",
          "name": "stdout",
          "text": [
            "[['Seção', ' ', 'BEM', ' ', '-', ' ', 'Escala', ' ', 'de', ' ', 'bem-estar', ' ', 'mental', ' ', 'Warwick-Edinbrugh', '\\r'], ['BEM1', ' ', 'Tenho', ' ', 'me', ' ', 'sentido', ' ', 'otimista', ' ', 'com', ' ', 'relação', ' ', 'ao', ' ', 'futuro', ' ', '(', ' ', ' ', ')', ' ', '1', ' ', ' ', '(', ' ', ' ', ')', ' ', '2', ' ', '(', ' ', ' ', ')', ' ', '3', ' ', '(', ' ', ' ', ')', ' ', '4', ' ', '(', ' ', ' ', ')', ' ', '5', '\\r'], ['Marque', ' ', 'com', ' ', 'um', ' ', '(X),', ' ', 'por', ' ', 'favor,', ' ', 'cada', ' ', 'uma', ' ', 'das', ' ', 'afirmações,', ' ', 'a', ' ', 'que', ' ', 'se', ' ', 'aproxima', ' ', 'mais', ' ', 'do', ' ', 'modo', ' ', 'como', ' ', 'você', ' ', 'tem', ' ', 'se', ' ', 'sentido', ' ', 'nas', ' ', 'últimas', ' ', 'duas', ' ', 'semanas.', '\\r'], ['Abaixo', ' ', 'se', ' ', 'encontram', ' ', 'algumas', ' ', 'afirmações', ' ', 'sobre', ' ', 'sentimentos', ' ', 'e', ' ', 'pensamentos.', '\\r'], ['BEM6', ' ', 'Tenho', ' ', 'me', ' ', 'sentido', ' ', 'próximo(a)', ' ', 'às', ' ', 'outras', ' ', 'pessoas', ' ', '(', ' ', ' ', ')', ' ', '1', ' ', ' ', '(', ' ', ' ', ')', ' ', '2', ' ', '(', ' ', ' ', ')', ' ', '3', ' ', '(', ' ', ' ', ')', ' ', '4', ' ', '(', ' ', ' ', ')', ' ', '5', '\\r'], [], ['This', ' ', 'form', ' ', 'is', ' ', 'about', ' ', 'how', ' ', 'you', ' ', 'might', ' ', 'have', ' ', 'been', ' ', 'feeling', ' ', 'or', ' ', 'acting', ' ', 'recently.', '\\r'], ['3.', ' ', 'I', ' ', 'felt', ' ', 'so', ' ', 'tired', ' ', 'I', ' ', 'just', ' ', 'sat', ' ', 'around', ' ', 'and', ' ', 'did', ' ', 'nothing.', '\\r'], ['7.', ' ', 'I', ' ', 'found', ' ', 'it', ' ', 'hard', ' ', 'to', ' ', 'think', ' ', 'properly', ' ', 'or', ' ', 'concentrate.', '\\r'], ['12.', ' ', 'I', ' ', 'thought', ' ', 'I', ' ', 'could', ' ', 'never', ' ', 'be', ' ', 'as', ' ', 'good', ' ', 'as', ' ', 'other', ' ', 'kids.', '\\r'], ['5.', ' ', 'I', ' ', 'felt', ' ', 'I', ' ', 'was', ' ', 'no', ' ', 'good', ' ', 'anymore.', '\\r'], ['11.', ' ', 'I', ' ', 'thought', ' ', 'nobody', ' ', 'really', ' ', 'loved', ' ', 'me.', '\\r'], ['For', ' ', 'each', ' ', 'question,', ' ', 'please', ' ', 'check', ' ', '(\\uf0fc)', ' ', 'how', ' ', 'you', ' ', 'have', ' ', 'been', ' ', 'feeling', ' ', 'or', ' ', 'acting', ' ', 'in', ' ', 'the', ' ', 'past', ' ', 'two', ' ', 'weeks.', '\\r'], ['2.', ' ', 'I', ' ', 'didn’t', ' ', 'enjoy', ' ', 'anything', ' ', 'at', ' ', 'all.', '\\r'], ['13.', ' ', 'I', ' ', 'did', ' ', 'everything', ' ', 'wrong.', '\\r'], ['4.', ' ', 'I', ' ', 'was', ' ', 'very', ' ', 'restless.', '\\r'], ['1.', ' ', 'I', ' ', 'felt', ' ', 'miserable', ' ', 'or', ' ', 'unhappy.', '\\r'], ['9.', ' ', 'I', ' ', 'was', ' ', 'a', ' ', 'bad', ' ', 'person.', '\\r'], ['10.', ' ', 'I', ' ', 'felt', ' ', 'lonely.', '\\r'], ['MOOD', ' ', 'AND', ' ', 'FEELINGS', ' ', 'QUESTIONNAIRE:', ' ', 'Short', ' ', 'Version', '\\r'], ['6.', ' ', 'I', ' ', 'cried', ' ', 'a', ' ', 'lot.', '\\r'], ['8.', ' ', 'I', ' ', 'hated', ' ', 'myself.', '\\r'], [], ['DSHI6.', ' ', 'Cravou', ' ', 'objetos', ' ', 'pontudos', ' ', 'na', ' ', 'pele', '\\r'], ['DSHI9.', ' ', 'Não', ' ', 'deixou', ' ', 'feridas', ' ', 'cicatrizarem', ' ', '0', ' ', '1', ' ', '2', ' ', '3', ' ', '4', ' ', '5', ' ', '6', ' ', '99', '\\r'], ['DSHI1.', ' ', 'Cortou', ' ', 'os', ' ', 'pulsos,', ' ', 'braços', ' ', 'ou', ' ', 'outras', ' ', 'partes', ' ', 'do', ' ', 'corpo', '\\r'], ['Pensando', ' ', 'nos', ' ', 'últimos', ' ', 'seis', ' ', 'meses,', ' ', 'você:', '\\r'], ['DSHI4.', ' ', 'Arranhou-se', ' ', 'gravemente', ' ', 'a', ' ', 'ponto', ' ', 'de', ' ', 'sangrar', '\\r'], ['DSHI5.', ' ', 'Mordeu-se', ' ', 'a', ' ', 'ponto', ' ', 'de', ' ', 'abrir', ' ', 'a', ' ', 'pele', '\\r'], ['DSHI2.', ' ', 'Queimou-se', ' ', 'com', ' ', 'cigarros,', ' ', 'isqueiros', ' ', 'ou', ' ', 'fósforos', '\\r'], ['DSHI7.', ' ', 'Bateu', ' ', 'a', ' ', 'cabeça', ' ', 'a', ' ', 'ponto', ' ', 'de', ' ', 'provocar', ' ', 'um', ' ', 'machucado', '\\r'], ['DSHI8.', ' ', 'Se', ' ', 'deu', ' ', 'socos', ' ', 'a', ' ', 'ponto', ' ', 'de', ' ', 'provocar', ' ', 'um', ' ', 'machucado', '\\r'], ['DSHI10a.', ' ', 'Outro', ' ', 'comportamento', ' ', 'auto', ' ', 'lesivo:', '\\r'], ['DSHI11.', ' ', 'Qualquer', ' ', 'comportamento', ' ', 'auto', ' ', 'lesivo', ' ', 'suficientemente', ' ', 'grave', ' ', 'para', ' ', 'precisar', ' ', 'de', ' ', 'hospitalização', ' ', 'ou', ' ', 'de', ' ', 'tratamento', ' ', 'médico', '\\r'], ['DSHI10b.', ' ', 'Quantas', ' ', 'vezes', ' ', 'realizou', ' ', 'o', ' ', 'comportamento', ' ', 'mencionado', ' ', 'anteriormente:', '\\r'], [], ['SDQ2.', ' ', 'Não', ' ', 'consegue', ' ', 'parar', ' ', 'sentado', ' ', 'quando', ' ', 'tem', ' ', 'que', ' ', 'fazer', ' ', 'a', ' ', 'lição', ' ', 'ou', ' ', 'comer;', ' ', 'mexe-se', ' ', 'muito,', ' ', 'etc.', ' ', '(0)', ' ', '(1)', ' ', '(2)', '\\r'], ['SDQ13.', ' ', 'Frequentemente', ' ', 'parece', ' ', 'triste,', ' ', 'desanimado', ' ', 'ou', ' ', 'choroso', ' ', '(0)', ' ', '(1)', ' ', '(2)', '\\r'], ['SDQ26g.', ' ', 'Estas', ' ', 'dificuldades', ' ', 'são', ' ', 'um', ' ', 'peso', ' ', 'para', ' ', 'você', ' ', 'ou', ' ', 'para', ' ', 'a', ' ', 'família', ' ', 'como', ' ', 'um', ' ', 'todo?', '\\r'], ['SDQ18.', ' ', 'Frequentemente', ' ', 'engana', ' ', 'ou', ' ', 'mente', ' ', '(0)', ' ', '(1)', ' ', '(2)', '\\r'], ['SDQ8.', ' ', 'Tem', ' ', 'muitas', ' ', 'preocupações,', ' ', 'muitas', ' ', 'vezes', ' ', 'parece', ' ', 'preocupado', ' ', 'com', ' ', 'tudo', ' ', '(0)', ' ', '(1)', ' ', '(2)', '\\r'], ['SDQ14.', ' ', 'Em', ' ', 'geral,', ' ', 'é', ' ', 'querido', ' ', 'por', ' ', 'outros', ' ', 'jovens', ' ', '(2)', ' ', '(1)', ' ', '(0)', '\\r'], ['SDQ20.', ' ', 'Frequentemente', ' ', 'se', ' ', 'oferece', ' ', 'para', ' ', 'ajudar', ' ', 'outras', ' ', 'pessoas', ' ', '(pais,', ' ', 'professores,', ' ', 'outras', ' ', 'crianças)', ' ', '(0)', ' ', '(1)', ' ', '(2)', '\\r'], ['SDQ26.', ' ', 'Você', ' ', 'acha', ' ', 'que', ' ', 'seu', ' ', 'filho/a', ' ', 'tem', ' ', 'alguma', ' ', 'dificuldade?', ' ', 'Pode', ' ', 'ser', ' ', 'uma', ' ', 'dificuldade', ' ', 'emocional,', ' ', 'de', ' ', 'comportamento,', ' ', 'pouca', ' ', 'concentração', ' ', 'ou', ' ', 'para', ' ', 'se', ' ', 'dar', ' ', 'bem', ' ', 'com', ' ', 'outras', ' ', 'pessoas.', '\\r'], ['SDQ26c.', ' ', 'Dia-a-dia', ' ', 'em', ' ', 'casa', ' ', '(', ' ', ' ', ')', ' ', '0', '\\r'], ['SDQ16.', ' ', 'Fica', ' ', 'inseguro', ' ', 'quando', ' ', 'tem', ' ', 'que', ' ', 'fazer', ' ', 'alguma', ' ', 'coisa', ' ', 'pela', ' ', 'primeira', ' ', 'vez,', ' ', 'facilmente', ' ', 'perde', ' ', 'a', ' ', 'confiança', ' ', 'em', ' ', 'si', ' ', 'mesmo', ' ', '(0)', ' ', '(1)', ' ', '(2)', '\\r'], ['SDQ22.', ' ', 'Rouba', ' ', 'coisas', ' ', 'de', ' ', 'casa,', ' ', 'da', ' ', 'escola', ' ', 'ou', ' ', 'de', ' ', 'outros', ' ', 'lugares', ' ', '(0)', ' ', '(1)', ' ', '(2)', '\\r'], ['SDQ3.', ' ', 'Muitas', ' ', 'vezes', ' ', 'se', ' ', 'queixa', ' ', 'de', ' ', 'dor', ' ', 'de', ' ', 'cabeça,', ' ', 'dor', ' ', 'de', ' ', 'barriga', ' ', 'ou', ' ', 'enjoo', ' ', '(0)', ' ', '(1)', ' ', '(2)', '\\r'], ['SDQ24.', ' ', 'Tem', ' ', 'muitos', ' ', 'medos,', ' ', 'assusta-se', ' ', 'facilmente', ' ', '(0)', ' ', '(1)', ' ', '(2)', '\\r'], ['Questionário', ' ', 'de', ' ', 'Capacidades', ' ', 'e', ' ', 'Dificuldades', ' ', '–', ' ', 'Relado', ' ', 'dos', ' ', 'pais', '\\r'], ['SDQ26b.', ' ', 'Estas', ' ', 'dificuldades', ' ', 'incomodam', ' ', 'ou', ' ', 'aborrecem', ' ', 'seu', ' ', 'filho/a?', '\\r'], ['SDQ4.', ' ', 'Tem', ' ', 'boa', ' ', 'vontade', ' ', 'em', ' ', 'compartilhar', ' ', 'doces,', ' ', 'brinquedos,', ' ', 'lápis...', ' ', 'com', ' ', 'outros', ' ', 'jovens', ' ', '(0)', ' ', '(1)', ' ', '(2)', '\\r'], ['Sim', ' ', '–', ' ', 'dificuldades', ' ', 'bem', ' ', 'definidas', '\\r'], ['SDQ21.', ' ', 'Pensa', ' ', 'nas', ' ', 'coisas', ' ', 'antes', ' ', 'de', ' ', 'fazê-las', ' ', '(2)', ' ', '(1)', ' ', '(0)', '\\r'], ['SDQ9.', ' ', 'Tenta', ' ', 'ser', ' ', 'atencioso', ' ', 'se', ' ', 'alguém', ' ', 'parece', ' ', 'magoado,', ' ', 'aflito', ' ', 'ou', ' ', 'se', ' ', 'sentindo', ' ', 'mal', ' ', '(0)', ' ', '(1)', ' ', '(2)', '\\r'], ['SDQ6.', ' ', 'É', ' ', 'solitário,', ' ', 'prefere', ' ', 'brincar', ' ', 'sozinho', ' ', '(0)', ' ', '(1)', ' ', '(2)', '\\r'], ['SDQ26f.', ' ', 'Atividades', ' ', 'de', ' ', 'lazer', ' ', '(passeios,', ' ', 'esportes', ' ', 'etc.)', '\\r'], ['SDQ26a.', ' ', 'Há', ' ', 'quanto', ' ', 'tempo', ' ', 'estas', ' ', 'dificuldades', ' ', 'existem?', ' ', 'Menos', ' ', 'de', ' ', '1', ' ', 'mês', ' ', ' ', ' ', ' ', ' ', ' ', ' ', ' ', ' ', ' ', ' ', ' ', ' ', ' ', ' ', ' ', ' ', ' ', ' ', ' ', ' ', ' ', ' ', ' ', ' ', ' ', ' ', ' ', ' ', ' ', ' ', ' ', '1-5', ' ', 'meses', ' ', ' ', ' ', ' ', ' ', ' ', ' ', ' ', ' ', ' ', ' ', ' ', ' ', ' ', ' ', ' ', ' ', ' ', ' ', ' ', ' ', ' ', ' ', ' ', ' ', ' ', ' ', '6-12', ' ', 'meses', ' ', ' ', ' ', ' ', ' ', ' ', ' ', ' ', ' ', ' ', ' ', ' ', ' ', ' ', ' ', ' ', ' ', ' ', ' ', ' ', ' ', ' ', ' ', ' ', ' ', ' ', ' ', ' ', ' ', ' ', ' ', ' ', ' ', ' ', ' ', ' ', ' ', ' ', ' ', ' ', ' ', ' ', ' ', ' ', ' ', 'Mais', ' ', 'de', ' ', '1', ' ', 'ano', ' ', '(', ' ', ' ', ')', ' ', '0', ' ', ' ', ' ', ' ', ' ', ' ', ' ', ' ', ' ', ' ', ' ', ' ', ' ', ' ', ' ', ' ', ' ', ' ', ' ', ' ', ' ', ' ', ' ', ' ', ' ', ' ', ' ', ' ', ' ', ' ', ' ', ' ', ' ', ' ', ' ', ' ', ' ', ' ', ' ', ' ', ' ', ' ', ' ', ' ', ' ', ' ', ' ', '(', ' ', ' ', ')', ' ', '1', ' ', ' ', ' ', ' ', ' ', ' ', ' ', ' ', ' ', ' ', ' ', ' ', ' ', ' ', ' ', ' ', ' ', ' ', ' ', ' ', ' ', ' ', ' ', ' ', ' ', ' ', ' ', ' ', ' ', ' ', ' ', ' ', ' ', ' ', ' ', '(', ' ', ' ', ')', ' ', '2', ' ', ' ', ' ', ' ', ' ', ' ', ' ', ' ', ' ', ' ', ' ', ' ', ' ', ' ', ' ', ' ', ' ', ' ', ' ', ' ', ' ', ' ', ' ', ' ', ' ', ' ', ' ', ' ', ' ', ' ', ' ', ' ', ' ', ' ', ' ', ' ', ' ', ' ', ' ', ' ', ' ', ' ', ' ', ' ', ' ', ' ', ' ', ' ', ' ', ' ', ' ', ' ', ' ', ' ', ' ', ' ', ' ', ' ', ' ', ' ', '(', ' ', ' ', ')', ' ', '3', '\\r'], ['SDQ23.', ' ', 'Se', ' ', 'dá', ' ', 'melhor', ' ', 'com', ' ', 'adultos', ' ', 'do', ' ', 'que', ' ', 'com', ' ', 'outros', ' ', 'jovens', ' ', '(0)', ' ', '(1)', ' ', '(2)', '\\r'], ['SDQ12.', ' ', 'Frequentemente', ' ', 'briga', ' ', 'com', ' ', 'outros', ' ', 'jovens', ' ', 'ou', ' ', 'os', ' ', 'amedronta', ' ', '(0)', ' ', '(1)', ' ', '(2)', '\\r'], ['SDQ7.', ' ', 'Geralmente', ' ', 'é', ' ', 'obediente', ' ', 'e', ' ', 'faz', ' ', 'normalmente', ' ', 'o', ' ', 'que', ' ', 'os', ' ', 'adultos', ' ', 'lhe', ' ', 'pedem', ' ', '(2)', ' ', '(1)', ' ', '(0)', '\\r'], ['SDQ10.', ' ', 'Está', ' ', 'sempre', ' ', 'agitado,', ' ', 'balançando', ' ', 'as', ' ', 'pernas', ' ', 'ou', ' ', 'mexendo', ' ', 'as', ' ', 'mãos', ' ', '(0)', ' ', '(1)', ' ', '(2)', '\\r'], ['SDQ1.', ' ', 'Tem', ' ', 'consideração', ' ', 'pelos', ' ', 'sentimentos', ' ', 'de', ' ', 'outras', ' ', 'pessoas', ' ', '(0)', ' ', '(1)', ' ', '(2)', '\\r'], ['SDQ5.', ' ', 'Frequentemente', ' ', 'tem', ' ', 'acessos', ' ', 'de', ' ', 'raiva', ' ', 'ou', ' ', 'crises', ' ', 'de', ' ', 'birra', ' ', '(0)', ' ', '(1)', ' ', '(2)', '\\r'], ['SDQ11.', ' ', 'Tem', ' ', 'pelo', ' ', 'menos', ' ', 'um', ' ', 'bom', ' ', 'amigo', ' ', 'ou', ' ', 'uma', ' ', 'boa', ' ', 'amiga', ' ', '(2)', ' ', '(1)', ' ', '(0)', '\\r'], ['SDQ17.', ' ', 'É', ' ', 'gentil', ' ', 'com', ' ', 'crianças', ' ', 'mais', ' ', 'novas', ' ', '(0)', ' ', '(1)', ' ', '(2)', '\\r'], ['•', ' ', 'Estas', ' ', 'dificuldades', ' ', 'atrapalham', ' ', 'o', ' ', 'dia-a-dia', ' ', 'do', ' ', 'seu', ' ', 'filho/a', ' ', 'em', ' ', 'alguma', ' ', 'das', ' ', 'situações', ' ', 'abaixo?', '\\r'], ['SDQ19.', ' ', 'Outras', ' ', 'crianças', ' ', 'pegam', ' ', 'no', ' ', 'pé', ' ', 'ou', ' ', 'a', ' ', 'atormentam', ' ', '(0)', ' ', '(1)', ' ', '(2)', '\\r'], [], ['PATIENT', ' ', 'HEALTH', ' ', 'QUESTIONNAIRE', ' ', '(PHQ-9)', '\\r'], ['2.', ' ', ' ', 'Feeling', ' ', 'down,', ' ', 'depressed', ' ', 'or', ' ', 'hopeless', '\\r'], ['1.', ' ', ' ', 'Little', ' ', 'interest', ' ', 'or', ' ', 'pleasure', ' ', 'in', ' ', 'doing', ' ', 'things', '\\r'], ['Over', ' ', 'the', ' ', 'last', ' ', '2', ' ', 'weeks,', ' ', 'how', ' ', 'often', ' ', 'have', ' ', 'you', ' ', 'been', ' ', 'Bothered', ' ', 'by', ' ', 'any', ' ', 'of', ' ', 'the', ' ', 'following', ' ', 'problems?', ' ', '(use', ' ', '“√”', ' ', 'to', ' ', 'indicate', ' ', 'your', ' ', 'answer)', '\\r'], ['9.', ' ', ' ', 'Thoughts', ' ', 'that', ' ', 'you', ' ', 'would', ' ', 'be', ' ', 'better', ' ', 'off', ' ', 'dead,', ' ', 'or', ' ', 'of', ' ', 'hurting', ' ', 'yourself', ' ', 'some', ' ', 'way.', '\\r'], ['(Healthcare', ' ', 'professional:', ' ', ' ', 'For', ' ', 'interpretation', ' ', 'of', ' ', 'TOTAL', ' ', ' ', ' ', ' ', ' ', ' ', ' ', ' ', ' ', ' ', ' ', 'TOTAL:', ' ', 'Please', ' ', 'refer', ' ', 'to', ' ', 'accompanying', ' ', 'scoring', ' ', 'card.)', '\\r'], ['5.', ' ', ' ', 'Poor', ' ', 'appetite', ' ', 'or', ' ', 'overeating', '\\r'], ['6.', ' ', ' ', 'Feeling', ' ', 'bad', ' ', 'about', ' ', 'yourself', ' ', '–', ' ', 'or', ' ', 'that', ' ', 'you', ' ', 'are', ' ', 'a', ' ', 'failure', ' ', 'or', ' ', 'have', ' ', 'let', ' ', 'yourself', ' ', 'or', ' ', 'your', ' ', 'family', ' ', 'down', '\\r'], ['3.', ' ', ' ', 'Trouble', ' ', 'falling', ' ', 'or', ' ', 'staying', ' ', 'asleep,', ' ', 'or', ' ', 'sleeping', ' ', 'too', ' ', 'much', '\\r'], ['4.', ' ', ' ', 'Feeling', ' ', 'tired', ' ', 'or', ' ', 'having', ' ', 'little', ' ', 'energy', '\\r'], ['10.', ' ', ' ', 'If', ' ', 'you', ' ', 'checked', ' ', 'off', ' ', 'any', ' ', 'problems,', ' ', 'how', ' ', ' ', ' ', ' ', ' ', ' ', ' ', ' ', ' ', ' ', ' ', ' ', ' ', ' ', ' ', ' ', ' ', ' ', ' ', ' ', ' ', ' ', ' ', ' ', ' ', ' ', ' ', ' ', ' ', ' ', ' ', ' ', ' ', ' ', ' ', ' ', ' ', ' ', ' ', ' ', ' ', ' ', ' ', ' ', ' ', ' ', ' ', ' ', ' ', ' ', ' ', ' ', ' ', ' ', ' ', ' ', ' ', ' ', ' ', ' ', ' ', ' ', ' ', ' ', ' ', ' ', ' ', ' ', ' ', ' ', ' ', ' ', ' ', ' ', ' ', ' ', ' ', ' ', ' ', ' ', ' ', ' ', ' ', ' ', ' ', ' ', ' ', ' ', ' ', ' ', 'Not', ' ', 'difficult', ' ', 'at', ' ', 'all', ' ', ' ', ' ', ' ', ' ', ' ', '________', ' ', 'difficult', ' ', 'have', ' ', 'these', ' ', 'problems', ' ', 'made', ' ', 'it', ' ', 'for', ' ', 'You', ' ', 'to', ' ', 'do', ' ', 'your', ' ', 'work,', ' ', 'take', ' ', 'care', ' ', 'of', ' ', 'things', ' ', 'at', ' ', ' ', ' ', ' ', ' ', ' ', ' ', ' ', ' ', ' ', ' ', ' ', ' ', ' ', ' ', ' ', ' ', ' ', ' ', ' ', ' ', ' ', ' ', ' ', ' ', ' ', ' ', ' ', ' ', ' ', ' ', ' ', ' ', ' ', ' ', ' ', ' ', ' ', ' ', ' ', ' ', ' ', ' ', ' ', ' ', ' ', ' ', ' ', ' ', ' ', ' ', ' ', ' ', ' ', ' ', ' ', ' ', ' ', ' ', ' ', ' ', ' ', ' ', ' ', ' ', ' ', ' ', ' ', ' ', ' ', ' ', ' ', ' ', ' ', ' ', ' ', ' ', ' ', ' ', ' ', ' ', ' ', 'Somewhat', ' ', 'difficult', ' ', ' ', ' ', '________', ' ', 'Home,', ' ', 'or', ' ', 'get', ' ', 'along', ' ', 'with', ' ', 'other', ' ', 'people?', ' ', 'Very', ' ', 'difficult', ' ', ' ', ' ', ' ', ' ', ' ', ' ', ' ', ' ', ' ', ' ', ' ', '________', '\\r'], ['8.', ' ', ' ', 'Moving', ' ', 'or', ' ', 'speaking', ' ', 'slowly', ' ', 'that', ' ', 'other', ' ', 'people', ' ', 'could', ' ', 'have', ' ', 'noticed.', ' ', ' ', 'Or', ' ', 'the', ' ', 'opposite', ' ', '–', ' ', 'being', ' ', 'so', ' ', 'fidgety', ' ', 'or', ' ', 'restless', ' ', 'that', ' ', 'you', ' ', 'have', ' ', 'been', ' ', 'moving', ' ', 'around', ' ', 'a', ' ', 'lot', ' ', 'more', ' ', 'than', ' ', 'usual.', '\\r'], ['7.', ' ', ' ', 'Trouble', ' ', 'concentrating', ' ', 'on', ' ', 'things,', ' ', 'such', ' ', 'as', ' ', 'reading', ' ', 'the', ' ', 'newspaper', ' ', 'or', ' ', 'watching', ' ', 'television', '\\r'], ['PHQ-9', ' ', 'is', ' ', 'adapted', ' ', 'from', ' ', 'PRIME', ' ', 'MD', ' ', 'TODAY,', ' ', 'developed', ' ', 'by', ' ', 'Drs', ' ', 'Robert', ' ', 'L', ' ', 'Spitzer,', ' ', 'Janet', ' ', 'B.W.', ' ', 'Williams,', ' ', 'Kurt', ' ', 'Kroenke,', ' ', 'and', ' ', 'colleagues', ' ', 'with', ' ', 'an', ' ', 'educational', ' ', 'grant', ' ', 'from', ' ', 'Pfizer', ' ', 'Inc.', ' ', ' ', 'For', ' ', 'research', ' ', 'information,', ' ', 'contact', ' ', 'Dr', ' ', 'Spitzer', ' ', 'at', ' ', 'rs8@columbia.edu.', ' ', ' ', 'Use', ' ', 'of', ' ', 'the', ' ', 'PHQ-9', ' ', 'may', ' ', 'only', ' ', 'be', ' ', 'made', ' ', 'in', ' ', 'accordance', ' ', 'with', ' ', 'the', ' ', 'Terms', ' ', 'of', ' ', 'Use', ' ', 'available', ' ', 'at', ' ', 'http://www.pfizer.com.', ' ', ' ', 'Copyright', ' ', '©1999', ' ', 'Pfizer', ' ', 'Inc..', ' ', ' ', 'All', ' ', 'rights', ' ', 'reserved.', ' ', ' ', 'PRIME', ' ', 'MD', ' ', 'TODAY', ' ', 'is', ' ', 'a', ' ', 'trademark', ' ', 'of', ' ', 'Pfizer', ' ', 'Inc.', '\\r'], [], ['5.', ' ', 'Do', ' ', 'you', ' ', 'often', ' ', 'get', ' ', 'worried', ' ', 'about', ' ', 'things?', '\\r'], ['1.', ' ', 'Do', ' ', 'you', ' ', 'often', ' ', 'have', ' ', 'backache?', '\\r'], ['15.', ' ', 'Are', ' ', 'you', ' ', 'frightened', ' ', 'of', ' ', 'going', ' ', 'out', ' ', 'alone', ' ', 'or', ' ', 'of', ' ', 'meeting', ' ', 'people?', '\\r'], ['16.', ' ', 'Are', ' ', 'you', ' ', 'constantly', ' ', 'keyed', ' ', 'up', ' ', 'and', ' ', 'jittery?', '\\r'], ['13.', ' ', 'Are', ' ', 'you', ' ', 'scared', ' ', 'to', ' ', 'be', ' ', 'alone', ' ', 'when', ' ', 'there', ' ', 'are', ' ', 'no', ' ', 'friends', ' ', 'near', ' ', 'you?', '\\r'], ['Rodgers,', ' ', 'B.,', ' ', 'Pickles,', ' ', 'A.,', ' ', 'Power,', ' ', 'C.,', ' ', 'Collishaw,', ' ', 'S.,', ' ', 'Maughan,', ' ', 'B.,', ' ', '1999.', ' ', 'Validity', ' ', 'of', ' ', 'the', ' ', 'malaise', ' ', 'inventory', ' ', 'in', ' ', 'general', ' ', 'population', ' ', 'samples.', ' ', 'Soc.', ' ', 'Psychiatry', ' ', 'Psychiatr.', ' ', 'Epidemiol.', ' ', '34,', ' ', '333–341.', '\\r'], ['17.', ' ', 'Do', ' ', 'you', ' ', 'suffer', ' ', 'from', ' ', 'indigestion?', '\\r'], ['20.', ' ', 'Does', ' ', 'every', ' ', 'little', ' ', 'thing', ' ', 'get', ' ', 'on', ' ', 'your', ' ', 'nerves', ' ', 'and', ' ', 'wear', ' ', 'you', ' ', 'out?', '\\r'], ['Brodman,', ' ', 'K.,', ' ', 'Erdmann,', ' ', 'A.,', ' ', 'Lorge,', ' ', 'I.,', ' ', 'Wolff,', ' ', 'H.,', ' ', 'Broadbent,', ' ', 'T.,', ' ', '1949.', ' ', 'The', ' ', 'Cornell', ' ', 'Medical', ' ', 'Index.', ' ', 'An', ' ', 'adjunct', ' ', 'to', ' ', 'medical', ' ', 'interview.', ' ', 'J.', ' ', 'Am.', ' ', 'Med.', ' ', 'Assoc.', ' ', '140,', ' ', '530–534.', '\\r'], ['21.', ' ', 'Does', ' ', 'your', ' ', 'heart', ' ', 'often', ' ', 'race', ' ', 'like', ' ', 'mad?', '\\r'], ['9.', ' ', 'Do', ' ', 'you', ' ', 'often', ' ', 'get', ' ', 'in', ' ', 'a', ' ', 'violent', ' ', 'rage?', '\\r'], ['12.', ' ', 'Do', ' ', 'you', ' ', 'often', ' ', 'suddenly', ' ', 'become', ' ', 'scared', ' ', 'for', ' ', 'no', ' ', 'good', ' ', 'reason?', '\\r'], ['22.', ' ', 'Do', ' ', 'you', ' ', 'often', ' ', 'have', ' ', 'bad', ' ', 'pains', ' ', 'in', ' ', 'your', ' ', 'eyes?', '\\r'], ['was', ' ', 'derived', ' ', 'from', ' ', 'the', ' ', 'Cornell', ' ', 'Medical', ' ', 'Index', ' ', 'Health', ' ', 'Questionnaire,', ' ', 'which', ' ', 'was', ' ', 'comprised', ' ', 'of', ' ', '195', ' ', 'self-', '\\r'], ['14.', ' ', 'Are', ' ', 'you', ' ', 'easily', ' ', 'upset', ' ', 'or', ' ', 'irritated?', '\\r'], ['24.', ' ', 'Have', ' ', 'you', ' ', 'ever', ' ', 'had', ' ', 'a', ' ', 'nervous', ' ', 'breakdown?', '\\r'], ['Rutter,', ' ', 'M.,', ' ', '1970.', ' ', 'Education,', ' ', 'health', ' ', 'and', ' ', 'behaviour.', ' ', 'Longman,', ' ', 'Harlow.', '\\r'], ['23.', ' ', 'Are', ' ', 'you', ' ', 'troubled', ' ', 'with', ' ', 'rheumatism', ' ', 'or', ' ', 'fibrositis?', '\\r'], ['8.', ' ', 'Do', ' ', 'you', ' ', 'wear', ' ', 'yourself', ' ', 'out', ' ', 'worrying', ' ', 'about', ' ', 'your', ' ', 'health?', '\\r'], ['7.', ' ', 'Do', ' ', 'you', ' ', 'usually', ' ', 'wake', ' ', 'unnecessarily', ' ', 'early', ' ', 'in', ' ', 'the', ' ', 'morning?', '\\r'], ['4.', ' ', 'Do', ' ', 'you', ' ', 'often', ' ', 'have', ' ', 'bad', ' ', 'headaches?', '\\r'], ['11.', ' ', 'Have', ' ', 'you', ' ', 'at', ' ', 'times', ' ', 'had', ' ', 'twitching', ' ', 'of', ' ', 'the', ' ', 'face,', ' ', 'head', ' ', 'or', ' ', 'shoulders?', '\\r'], ['How', ' ', 'are', ' ', 'you', ' ', 'feeling', ' ', 'generally…', '\\r'], ['19.', ' ', 'Is', ' ', 'your', ' ', 'appetite', ' ', 'poor?', '\\r'], ['3.', ' ', 'Do', ' ', 'you', ' ', 'often', ' ', 'feel', ' ', 'miserable', ' ', 'or', ' ', 'depressed?', '\\r'], ['10.', ' ', 'Do', ' ', 'people', ' ', 'often', ' ', 'annoy', ' ', 'and', ' ', 'irritate', ' ', 'you?', '\\r'], ['2.', ' ', 'Do', ' ', 'you', ' ', 'feel', ' ', 'tired', ' ', 'most', ' ', 'of', ' ', 'the', ' ', 'time?', '\\r'], ['18.', ' ', 'Do', ' ', 'you', ' ', 'suffer', ' ', 'from', ' ', 'an', ' ', 'upset', ' ', 'stomach?', '\\r'], ['6.', ' ', 'Do', ' ', 'you', ' ', 'usually', ' ', 'have', ' ', 'great', ' ', 'difficulty', ' ', 'in', ' ', 'falling', ' ', 'or', ' ', 'staying', ' ', 'asleep?', '\\r'], [], ['7', ' ', 'porque', ' ', 'foi', ' ', 'traduzido', ' ', 'do', ' ', 'inglês', ' ', 'Generalized', '\\xa0', 'Anxiety', '\\xa0', 'Disorder', '\\xa0', '7-item.', '\\r'], ['https://bit.ly/3cRf3Zv', ' ', 'https://dranadimme.com.br/politica-de-privacidade-lgpd/', ' ', 'tel:+55', ' ', '(11)', ' ', '3230-0542', ' ', 'mailto:nadimme.caloba@unifesp.br', '\\r'], ['https://www.uptodate.com/contents/calculator-gad-7-anxiety-scale-in-adults?', '\\r'], ['Bem-vindo', ' ', 'ao', ' ', 'site', ' ', 'da', ' ', 'Dra', ' ', 'Nadimme.', ' ', 'Ao', ' ', 'continuar', ' ', 'navegando', ' ', 'você', ' ', 'concorda', ' ', 'com', ' ', 'nossa', ' ', 'Política', ' ', 'de', ' ', 'Privacidade.', ' ', 'SIM', '\\r'], ['search=gad%207&topicRef=496&source=see_link', ' ', '(Accessed', '\\xa0', 'on', '\\xa0', 'June', '\\xa0', '27,', ' ', '2021).', '\\r'], ['2.', ' ', 'Não', ' ', 'ser', ' ', 'capaz', ' ', 'de', ' ', 'impedir', ' ', 'ou', ' ', 'de', ' ', 'controlar', ' ', 'as', ' ', 'preocupações', '\\r'], ['3.', ' ', 'Preocupar-se', ' ', 'muito', ' ', 'com', ' ', 'diversas', ' ', 'coisas', '\\r'], ['American', '\\xa0', ' ', 'Psychiatric', '\\xa0', ' ', 'Association.', ' ', 'DSM-5:', ' ', 'Manual', ' ', 'diagnóstico', ' ', 'e', ' ', 'estatístico', ' ', 'de', ' ', 'transtornos', ' ', 'mentais.', ' ', 'Artmed', '\\r'], ['Transtorno', ' ', 'de', ' ', 'Ansiedade', ' ', 'Generalizada', ' ', '(GAD-7).', ' ', 'Ele', ' ', 'é', ' ', 'representado', ' ', 'pela', ' ', 'sigla', ' ', 'GAD-', '\\r'], ['psiquiatra.', ' ', 'Assim', ' ', 'o', ' ', 'nosso', ' ', 'propósito', ' ', 'é', ' ', 'alertar', ' ', 'os', ' ', 'pacientes', ' ', 'sobre', ' ', 'a', ' ', 'necessidade', ' ', 'de', '\\r'], ['aqui', ' ', 'no', ' ', 'nosso', ' ', 'site.', '\\r'], ['5.', ' ', 'Ficar', ' ', 'tão', ' ', 'agitado/a', ' ', 'que', ' ', 'se', ' ', 'torna', ' ', 'difícil', ' ', 'permanecer', ' ', 'sentado/a', '\\r'], ['O', ' ', 'teste', ' ', 'de', ' ', 'ansiedade', ' ', 'disponível', ' ', 'aqui', ' ', 'no', ' ', 'nosso', ' ', 'site', ' ', 'tem', ' ', 'o', ' ', 'nome', ' ', 'de', ' ', 'Escala', ' ', 'de', '\\r'], ['DURANTE', ' ', 'AS', ' ', 'ÚLTIMAS', ' ', '2', ' ', 'SEMANAS,', ' ', 'COM', ' ', 'QUE', ' ', 'FREQÜÊNCIA', ' ', 'VOCÊ', ' ', 'FOI', ' ', 'INCOMODADO/A', ' ', 'PELOS', ' ', 'PROBLEMAS', ' ', 'ABAIXO?', '\\r'], ['1.', ' ', 'Sentir-se', ' ', 'nervoso/a,', ' ', 'ansioso/a', ' ', 'ou', ' ', 'muito', ' ', 'tenso/a', '\\r'], ['Transtorno', ' ', 'de', ' ', 'Ansiedade', ' ', 'Generalizada.', ' ', 'Há', ' ', 'um', ' ', 'texto', ' ', 'sobre', ' ', 'ansiedade', '\\xa0', ' ', 'disponível', '\\r'], ['continuar', ' ', 'a', ' ', 'investigação', ' ', 'clínica.', '\\r'], ['oncológicos:', ' ', 'comparação', ' ', 'psicométrica.', ' ', 'Psico-USF,', ' ', '19(2),', ' ', '187-197.', '\\r'], ['https://www.phqscreeners.com/select-screener', ' ', '(Accessed', ' ', 'on', ' ', 'June', ' ', '27,', ' ', '2021).', '\\r'], ['https://dranadimme.com.br/teste-de-ansiedade-gad-7/page/2/?et_blog', ' ', 'https://dranadimme.com.br/blog/terapias-alternativas-para-o-tratamento-de-ansiedade/', ' ', 'https://dranadimme.com.br/blog/terapias-alternativas-para-o-tratamento-de-ansiedade/', ' ', 'https://www.designkapital.com.br/', ' ', 'https://bit.ly/3cRf3Zv', ' ', 'https://dranadimme.com.br/politica-de-privacidade-lgpd/', ' ', 'tel:+55', ' ', '(11)', ' ', '3230-0542', ' ', 'mailto:nadimme.caloba@unifesp.br', '\\r'], ['https://www.uptodate.com/contents/calculator-gad-7-anxiety-scale-in-adults?search=gad%207&topicRef=496&source=see_link', ' ', 'https://www.phqscreeners.com/select-screener', ' ', 'https://bit.ly/3cRf3Zv', ' ', 'https://dranadimme.com.br/politica-de-privacidade-lgpd/', ' ', 'tel:+55', ' ', '(11)', ' ', '3230-0542', ' ', 'mailto:nadimme.caloba@unifesp.br', '\\r'], ['realizado', ' ', 'de', ' ', 'forma', ' ', 'anônima.', ' ', 'Não', ' ', 'é', ' ', 'necessário', ' ', 'cadastrar', ' ', 'o', ' ', 'seu', '\\xa0', ' ', 'email', '\\xa0', ' ', 'para', ' ', 'ter', '\\r'], ['https://calendly.com/dra-nadimme/1-vez-consulta-online?embed_domain=dranadimme.com.br&embed_type=Inline&hide_gdpr_banner=1&primary_color=99b2db&back=1', ' ', 'https://calendly.com/dra-nadimme/consulta-online?embed_domain=dranadimme.com.br&embed_type=Inline&hide_gdpr_banner=1&primary_color=99b2db&back=1', ' ', 'https://calendly.com/dra-nadimme/1-vez-consulta-presencial?embed_domain=dranadimme.com.br&embed_type=Inline&hide_gdpr_banner=1&primary_color=99b2db&back=1', ' ', 'https://calendly.com/dra-nadimme/consulta-na-vila-mariana?embed_domain=dranadimme.com.br&embed_type=Inline&hide_gdpr_banner=1&primary_color=99b2db&back=1', ' ', 'https://calendly.com/dra-nadimme/1-vez-consultorio-da-vila-olimpia?embed_domain=dranadimme.com.br&embed_type=Inline&hide_gdpr_banner=1&primary_color=99b2db&back=1', ' ', 'https://calendly.com/dra-nadimme/consulta-na-vila-olimpia?embed_domain=dranadimme.com.br&embed_type=Inline&hide_gdpr_banner=1&primary_color=99b2db&back=1', ' ', 'https://dranadimme.com.br/blog/psiquiatria/', ' ', 'https://dranadimme.com.br/blog/psiquiatra/', ' ', 'https://dranadimme.com.br/blog/psiquiatria/', ' ', 'https://dranadimme.com.br/blog/psiquiatra/', ' ', 'https://bit.ly/3cRf3Zv', ' ', 'https://dranadimme.com.br/politica-de-privacidade-lgpd/', ' ', 'tel:+55', ' ', '(11)', ' ', '3230-0542', ' ', 'mailto:nadimme.caloba@unifesp.br', '\\r'], ['Vários', ' ', 'dias', ' ', 'Bem-vindo', ' ', 'ao', ' ', 'site', ' ', 'da', ' ', 'Dra', ' ', 'Nadimme.', ' ', 'Ao', ' ', 'continuar', ' ', 'navegando', ' ', 'você', ' ', 'concorda', ' ', 'com', ' ', 'nossa', ' ', 'Política', ' ', 'de', ' ', 'Privacidade.', ' ', 'SIM', '\\r'], ['6.', ' ', 'Ficar', ' ', 'facilmente', ' ', 'aborrecido/a', ' ', 'ou', ' ', 'irritado/a', '\\r'], ['https://www.phqscreeners.com/select-screener', ' ', 'https://dranadimme.com.br/novo/transtornos-mentais/ansiedade/', ' ', 'https://bit.ly/3cRf3Zv', ' ', 'https://dranadimme.com.br/', ' ', 'https://dranadimme.com.br/politica-de-privacidade-lgpd/', ' ', 'tel:+55', ' ', '(11)', ' ', '3230-0542', ' ', 'mailto:nadimme.caloba@unifesp.br', '\\r'], ['7.', ' ', 'Sentir', ' ', 'medo', ' ', 'como', ' ', 'se', ' ', 'algo', ' ', 'horrível', ' ', 'fosse', ' ', 'acontecer', '\\r'], ['demonstraram', ' ', 'a', ' ', 'con�abilidade', ' ', 'e', ' ', 'validade', ' ', 'do', ' ', 'GAD-7,', ' ', 'inclusive', ' ', 'em', ' ', 'português', ' ', 'para', '\\r'], ['Generalizada.', ' ', 'Nem', ' ', 'mesmo', ' ', 'um', ' ', 'questionário', ' ', 'como', ' ', 'o', ' ', 'GAD-7,', ' ', 'amplamente', '\\r'], ['Encare', ' ', 'o', ' ', 'teste', ' ', 'como', ' ', 'um', ' ', 'ponto', ' ', 'de', ' ', 'partida', ' ', 'na', ' ', 'sua', ' ', 'jornada', ' ', 'em', ' ', 'busca', ' ', 'de', ' ', 'saúde', '\\r'], ['mental.', ' ', 'Vamos', ' ', 'começar?!', '\\r'], ['O', ' ', 'GAD-7', ' ', ' ', 'é', ' ', 'composto', ' ', 'por', ' ', '7', ' ', 'itens', ' ', 'com', ' ', 'o', ' ', 'objetivo', ' ', 'de', ' ', 'avaliar', ' ', 'os', ' ', 'sintomas', ' ', 'do', '\\r'], [], ['1.', ' ', 'Been', ' ', 'able', ' ', 'to', ' ', 'concentrate', ' ', 'on', ' ', 'what', ' ', 'you’re', ' ', 'doing?', ' ', 'Better', ' ', 'than', ' ', 'usual', ' ', 'Same', ' ', 'as', ' ', 'usual', ' ', ' ', 'Less', ' ', 'than', ' ', 'usual', ' ', 'Much', ' ', 'less', ' ', 'than', ' ', 'usual', '\\r'], ['10.', ' ', 'Been', ' ', 'losing', ' ', 'confidence', ' ', 'in', ' ', 'yourself?', ' ', 'Not', ' ', 'at', ' ', 'all', ' ', 'No', ' ', 'more', ' ', 'than', ' ', 'usual', '\\r'], ['8.', ' ', 'Been', ' ', 'able', ' ', 'to', ' ', 'face', ' ', 'up', ' ', 'to', ' ', 'your', ' ', 'problems?', ' ', 'More', ' ', 'so', ' ', 'than', ' ', 'usual', ' ', 'Same', ' ', 'as', ' ', 'usual', ' ', 'Less', ' ', 'so', ' ', 'than', ' ', 'usual', ' ', 'Much', ' ', 'less', ' ', 'able', ' ', '9.', ' ', 'Been', ' ', 'feeling', ' ', 'unhappy', ' ', 'and', ' ', 'depressed?', ' ', 'Not', ' ', 'at', ' ', 'all', ' ', 'No', ' ', 'more', ' ', 'than', '\\r'], ['7.', ' ', 'Been', ' ', 'able', ' ', 'to', ' ', 'enjoy', ' ', 'your', ' ', 'normal', ' ', 'day-to-day', ' ', 'activities?', ' ', 'More', ' ', 'so', ' ', 'than', ' ', 'usual', ' ', 'Same', ' ', 'as', ' ', 'usual', ' ', 'Less', ' ', 'so', ' ', 'than', ' ', 'usual', ' ', 'Much', ' ', 'less', ' ', 'than', ' ', 'usual', '\\r'], ['12.', ' ', 'Been', ' ', 'feeling', ' ', 'reasonably', ' ', 'happy,', ' ', 'all', ' ', 'things', ' ', 'considered', ' ', 'More', ' ', 'so', ' ', 'than', ' ', 'usual', ' ', 'About', ' ', 'same', ' ', 'as', ' ', 'usual', '\\r'], ['11.', ' ', 'Been', ' ', 'thinking', ' ', 'of', ' ', 'yourself', ' ', 'as', ' ', 'a', ' ', 'worthless', ' ', 'person?', ' ', 'Not', ' ', 'at', ' ', 'all', ' ', 'No', ' ', 'more', ' ', 'than', ' ', 'usual', '\\r'], ['3.', ' ', 'Felt', ' ', 'you', ' ', 'were', ' ', 'playing', ' ', 'a', ' ', 'useful', ' ', 'part', ' ', 'in', ' ', 'things?', ' ', 'More', ' ', 'so', ' ', 'than', ' ', 'usual', ' ', 'Same', ' ', 'as', ' ', 'usual', ' ', 'Less', ' ', 'useful', ' ', 'than', ' ', 'usual', '\\r'], ['4.', ' ', 'Felt', ' ', 'capable', ' ', 'of', ' ', 'making', ' ', 'decisions', ' ', 'about', ' ', 'things?', ' ', 'More', ' ', 'so', ' ', 'than', ' ', 'usual', ' ', 'Same', ' ', 'as', ' ', 'usual', ' ', 'Less', ' ', 'so', ' ', 'than', ' ', 'usual', ' ', 'Much', ' ', 'less', ' ', 'capable', ' ', '5.', ' ', 'Felt', ' ', 'constantly', ' ', 'under', ' ', 'strain?', ' ', 'Not', ' ', 'at', ' ', 'all', ' ', 'No', ' ', 'more', ' ', 'than', '\\r'], ['6.', ' ', 'Felt', ' ', 'you', ' ', 'couldn’t', ' ', 'overcome', ' ', 'your', ' ', 'difficulties?', ' ', 'Not', ' ', 'at', ' ', 'all', ' ', 'No', ' ', 'more', ' ', 'than', ' ', 'usual', '\\r'], ['Short', ' ', 'General', ' ', 'Health', ' ', 'Questionnaire', ' ', '(GHQ', ' ', '12)', '\\r'], ['2.', ' ', 'Lost', ' ', 'much', ' ', 'sleep', ' ', 'over', ' ', 'worry?', ' ', 'Not', ' ', 'at', ' ', 'all', ' ', 'No', ' ', 'more', ' ', 'than', ' ', 'usual', '\\r'], ['Have', ' ', 'you', ' ', 'recently?', '\\r'], [], ['5.', ' ', 'Poor', ' ', 'appetite', ' ', 'or', ' ', 'overeating...........ccccccccccecceeeceeenees', '\\r'], ['2.', ' ', 'Feeling', ' ', 'down,', ' ', 'depressed,', ' ', 'or', ' ', 'hopeless..................', '\\r'], ['9.', ' ', 'Thoughts', ' ', 'that', ' ', 'you', ' ', 'would', ' ', 'be', ' ', 'better', ' ', 'off', ' ', 'dead', ' ', 'or', ' ', 'of', ' ', 'hurting', ' ', 'yourself', ' ', 'in', ' ', 'SOME', ' ', 'WAY.........', ' ', '0', ' ', ':eceec', ' ', 'eee', ' ', 'ececeeeneeeceeeaeneeenenens', '\\r'], ['4.', ' ', 'Feeling', ' ', 'tired', ' ', 'or', ' ', 'having', ' ', 'little', ' ', 'energy................:0008', '\\r'], ['7.', ' ', 'Trouble', ' ', 'concentrating', ' ', 'on', ' ', 'things,', ' ', 'such', ' ', 'as', ' ', 'reading', ' ', 'the', ' ', 'newspaper', ' ', 'or', ' ', 'watching', ' ', 'television..................ececeeeeeees', '\\r'], ['From', ' ', 'the', ' ', 'Primary', ' ', 'Care', ' ', 'Evaluation', ' ', 'of', ' ', 'Mental', ' ', 'Disorders', ' ', 'Patient', ' ', 'Health', ' ', 'Questionnaire', ' ', '(PRIME-MD', ' ', 'PHQ).', ' ', 'The', ' ', 'PHQ', ' ', 'was', ' ', 'developed', ' ', 'by', ' ', 'Drs.', ' ', 'Robert', ' ', 'L.', ' ', 'Spitzer,', ' ', 'Janet', ' ', 'B.W.', ' ', 'Williams,', ' ', 'Kurt', ' ', 'Kroenke', ' ', 'and', ' ', 'colleagues.', ' ', 'For', ' ', 'research', ' ', 'information,', ' ', 'contact', ' ', 'Dr.', ' ', 'Spitzer', ' ', 'at', ' ', 'rls8@columbia.edu.', ' ', 'PRIME-MD@®', ' ', 'is', ' ', 'a', ' ', 'trademark', ' ', 'of', ' ', 'Pfizer', ' ', 'Inc.', ' ', 'Copyright©', ' ', '1999', '\\r'], ['PHQ-9', ' ', 'Depression', '\\r'], ['6.', ' ', 'Feeling', ' ', 'bad', ' ', 'about', ' ', 'yourself', ' ', '—', ' ', 'or', ' ', 'that', ' ', 'you', ' ', 'are', ' ', 'a', ' ', 'failure', ' ', 'or', ' ', 'have', ' ', 'let', ' ', 'yourself', ' ', 'or', ' ', 'your', ' ', 'family', ' ', 'down................2.0..08', '\\r'], ['1.', ' ', 'Little', ' ', 'interest', ' ', 'or', ' ', 'pleasure', ' ', 'in', ' ', 'doing', ' ', 'things................', '\\r'], ['Over', ' ', 'the', ' ', 'last', ' ', '2', ' ', 'weeks,', ' ', 'how', ' ', 'often', ' ', 'have', ' ', 'you', ' ', 'been', ' ', 'bothered', ' ', 'by', ' ', 'any', ' ', 'of', ' ', 'the', ' ', 'following', ' ', 'problems?', ' ', '(Use', ' ', '“s””', ' ', 'to', ' ', 'indicate', ' ', 'your', ' ', 'answer”', '\\r'], ['8.', ' ', 'Moving', ' ', 'or', ' ', 'speaking', ' ', 'so', ' ', 'slowly', ' ', 'that', ' ', 'other', ' ', 'people', ' ', 'could', ' ', 'have', ' ', 'noticed?', ' ', 'Or', ' ', 'the', ' ', 'opposite', ' ', '—', ' ', 'being', ' ', 'so', ' ', 'fidgety', ' ', 'or', ' ', 'restless', ' ', 'that', ' ', 'you', ' ', 'have', ' ', 'been', ' ', 'moving', ' ', '.around', ' ', 'a', ' ', 'lot', ' ', 'more', ' ', 'than', '\\r'], [], ['1.', ' ', 'Strongly', ' ', 'favour', ' ', 'humanitarian', ' ', 'grounds', ' ', '2.', ' ', 'Favour', ' ', 'humanitarian', ' ', 'grounds', ' ', '3.', ' ', 'Favour', ' ', 'commercial', ' ', 'and', ' ', 'political', ' ', 'interests', ' ', '4.', ' ', 'Strongly', ' ', 'favour', ' ', 'commercial', ' ', 'and', ' ', 'political', ' ', 'interests', ' ', '5.', ' ', '(Don’t', ' ', 'know)', ' ', '6.', ' ', '(Refused)', '\\r'], ['If', ' ', 'you', ' ', 'have', ' ', 'any', ' ', 'queries', ' ', 'or', ' ', 'concerns', ' ', 'about', ' ', 'the', ' ', 'survey', ' ', 'I', ' ', 'can', ' ', 'give', ' ', 'you', ' ', 'some', ' ', 'contact', ' ', 'details.', '\\r'], ['*(ALL)', ' ', 'DEM3', ' ', 'Were', ' ', 'both', ' ', 'of', ' ', 'your', ' ', 'parents', ' ', 'born', ' ', 'in', ' ', 'Australia?', '\\r'], ['United', ' ', 'States', ' ', 'or', ' ', 'Australia’s', ' ', 'relationship', ' ', 'with', ' ', 'China?', ' ', 'Would', ' ', 'you', ' ', 'say…', '\\r'], ['Australian', ' ', 'government', ' ', 'providing', ' ', 'aid', ' ', 'to', ' ', 'poorer', ' ', 'countries', ' ', 'around', ' ', 'the', ' ', 'world?', '\\r'], ['OK,', ' ', 'that’s', ' ', 'fine,', ' ', 'no', ' ', 'problem,', ' ', 'but', ' ', 'could', ' ', 'you', ' ', 'just', ' ', 'tell', ' ', 'me', ' ', 'the', ' ', 'main', ' ', 'reason', ' ', 'you', ' ', 'do', ' ', 'not', ' ', 'want', ' ', 'to', ' ', 'participate,', ' ', '\\r'], ['because', ' ', 'that’s', ' ', 'important', ' ', 'information', ' ', 'for', ' ', 'us?', ' ', '\\r'], ['1.', ' ', 'No', ' ', 'comment', ' ', '/', ' ', 'just', ' ', 'hung', ' ', 'up', ' ', '\\r'], ['2.', ' ', 'Too', ' ', 'busy', ' ', '\\r'], ['3.', ' ', 'Not', ' ', 'interested', ' ', '\\r'], ['4.', ' ', 'Too', ' ', 'personal', ' ', '/', ' ', 'intrusive', ' ', '\\r'], ['5.', ' ', 'Don’t', ' ', 'like', ' ', 'subject', ' ', 'matter', ' ', '\\r'], ['6.', ' ', 'Don’t', ' ', 'believe', ' ', 'surveys', ' ', 'are', ' ', 'confidential', ' ', '/', ' ', 'privacy', ' ', 'concerns', ' ', '\\r'], ['7.', ' ', 'Silent', ' ', 'number', ' ', '\\r'], ['8.', ' ', 'Don’t', ' ', 'trust', ' ', 'surveys', ' ', '/', ' ', 'government', ' ', '\\r'], ['9.', ' ', 'Never', ' ', 'do', ' ', 'surveys', ' ', '\\r'], ['10.', ' ', '12', ' ', 'minutes', ' ', 'is', ' ', 'too', ' ', 'long', ' ', '\\r'], ['11.', ' ', 'Get', ' ', 'too', ' ', 'many', ' ', 'calls', ' ', 'for', ' ', 'surveys', ' ', '/', ' ', 'telemarketing', ' ', '\\r'], ['12.', ' ', 'Too', ' ', 'old', ' ', '/', ' ', 'frail', ' ', '/', ' ', 'deaf', ' ', '/', ' ', 'unable', ' ', 'to', ' ', 'do', ' ', 'survey', ' ', '(CODE', ' ', 'AS', ' ', 'TOO', ' ', 'OLD', ' ', '/', ' ', 'FRAIL', ' ', '/', ' ', 'DEAF)', ' ', '\\r'], ['13.', ' ', 'Not', ' ', 'a', ' ', 'residential', ' ', 'number', ' ', '(business,', ' ', 'etc)', ' ', ' ', '(CODE', ' ', 'AS', ' ', 'NOT', ' ', 'A', ' ', 'RESIDENTIAL', ' ', 'NUMBER)', ' ', '\\r'], ['14.', ' ', 'Language', ' ', 'difficulty', ' ', '(CODE', ' ', 'AS', ' ', 'LANGUAGE', ' ', 'DIFFICULTY', ' ', 'NO', ' ', 'FOLLOW', ' ', 'UP)', ' ', '\\r'], ['15.', ' ', 'Going', ' ', 'away', ' ', '/', ' ', 'moving', ' ', 'house', ' ', '(CODE', ' ', 'AS', ' ', 'AWAY', ' ', 'DURATION)', ' ', '\\r'], ['16.', ' ', 'Asked', ' ', 'to', ' ', 'be', ' ', 'taken', ' ', 'off', ' ', 'list', ' ', '(add', ' ', 'to', ' ', 'do', ' ', 'not', ' ', 'call', ' ', 'register)', ' ', '\\r'], ['17.', ' ', 'Other', ' ', '(Specify)', ' ', '\\r'], ['18.', ' ', ' ', 'Objected', ' ', 'to', ' ', 'being', ' ', 'called', ' ', 'on', ' ', 'mobile', ' ', 'phone', ' ', '\\r'], [' ', '\\r'], ['RECORD', ' ', 'RE-CONTACT', ' ', 'TYPE', ' ', '\\r'], ['1.', ' ', 'Definitely', ' ', 'don’t', ' ', 'call', ' ', 'back', ' ', '\\r'], ['2.', ' ', 'Possible', ' ', 'conversion', '\\r'], ['*(ALL)', ' ', 'DEM2', ' ', 'How', ' ', 'would', ' ', 'you', ' ', 'describe', ' ', 'this', ' ', 'household?', ' ', ' ', 'For', ' ', 'example,', ' ', 'a', ' ', 'couple,', ' ', 'a', ' ', 'couple', ' ', 'with', ' ', 'children,', ' ', 'a', ' ', 'single', '\\r'], ['May', ' ', 'I', ' ', 'speak', ' ', 'to', ' ', 'that', ' ', 'person', ' ', 'please?', '\\r'], ['because', ' ', 'that’s', ' ', 'important', ' ', 'information', ' ', 'for', ' ', 'us?', '\\r'], ['parties', ' ', 'would', ' ', 'you', ' ', 'vote', ' ', 'for?', '\\r'], ['*(DEM2=2', ' ', 'OR', ' ', '3)', ' ', '(CHILDREN', ' ', 'IN', ' ', 'HOUSEHOLD)', ' ', 'DEM2a', ' ', 'What', ' ', 'are', ' ', 'the', ' ', 'ages', ' ', 'of', ' ', 'the', ' ', 'children', ' ', 'in', ' ', 'this', ' ', 'household?', '\\r'], ['*(SAMTYP=2', ' ', 'AND', ' ', 'S5=1,', ' ', 'MOBILE', ' ', 'SAMPLE', ' ', 'AGED', ' ', '18', ' ', 'OR', ' ', 'OVER)', ' ', 'S7', ' ', 'Could', ' ', 'I', ' ', 'also', ' ', 'just', ' ', 'check', ' ', 'whether', ' ', 'it', ' ', 'is', ' ', 'safe', ' ', 'for', ' ', 'you', ' ', 'to', ' ', 'take', ' ', 'this', ' ', 'call', ' ', 'at', ' ', 'the', ' ', 'moment?', ' ', 'If', ' ', 'not,', ' ', 'we’d', ' ', 'be', '\\r'], ['*(ALL)', ' ', 'C2', ' ', 'Now,', ' ', 'turning', ' ', 'to', ' ', 'China:', ' ', 'Do', ' ', 'you', ' ', 'think', ' ', 'the', ' ', 'growth', ' ', 'of', ' ', 'China', ' ', 'as', ' ', 'a', ' ', 'major', ' ', 'economy', ' ', 'is', ' ', 'a', ' ', 'positive', ' ', 'or', ' ', 'a', '\\r'], ['negative', ' ', 'development', ' ', 'for', ' ', 'Australia?', '\\r'], ['*(ALL)', ' ', 'DEM14', ' ', 'And', ' ', 'finally,', ' ', 'just', ' ', 'a', ' ', 'few', ' ', 'questions', ' ', 'to', ' ', 'make', ' ', 'sure', ' ', 'we’ve', ' ', 'spoken', ' ', 'to', ' ', 'a', ' ', 'good', ' ', 'range', ' ', 'of', ' ', 'people.', '\\r'], ['*(ALL)', ' ', 'B1', ' ', ' ', 'Thinking', ' ', 'now', ' ', 'about', ' ', 'the', ' ', 'issue', ' ', 'of', ' ', 'foreign', ' ', 'aid,', ' ', 'do', ' ', 'you', ' ', 'generally', ' ', 'approve', ' ', 'or', ' ', 'disapprove', ' ', 'of', ' ', 'the', '\\r'], ['Including', ' ', 'yourself,', ' ', 'how', ' ', 'many', ' ', 'people', ' ', 'aged', ' ', '18', ' ', 'years', ' ', 'and', ' ', 'over', ' ', 'live', ' ', 'in', ' ', 'your', ' ', 'household?', '\\r'], ['or', ' ', 'do', ' ', 'you', ' ', 'think', ' ', 'Australia’s', ' ', 'commercial', ' ', 'and', ' ', 'political', ' ', 'interests', ' ', 'should', ' ', 'play', ' ', 'a', ' ', 'significant', ' ', 'part?', '\\r'], ['*(ALL)', ' ', 'DEM7', ' ', 'What', ' ', 'is', ' ', 'your', ' ', 'religion', ' ', 'or', ' ', 'faith?', '\\r'], ['Aged', ' ', 'under', ' ', '18', '\\r'], ['Household', ' ', 'refusal', '\\r'], ['*(ALL)', ' ', 'DEM12', ' ', ' ', '(IF', ' ', 'LANDLINE,', ' ', 'SAMTYP', ' ', '=', ' ', '1)', ' ', 'Can', ' ', 'the', ' ', 'internet', ' ', 'be', ' ', 'accessed', ' ', 'at', ' ', 'this', ' ', 'dwelling?', ' ', '(IF', ' ', 'MOBILE,', ' ', 'SAMTYP', ' ', '=', ' ', '2)', ' ', 'Can', ' ', 'the', ' ', 'internet', ' ', 'be', ' ', 'accessed', ' ', 'at', ' ', 'your', ' ', 'home?', '\\r'], ['*(CHILDREN', ' ', 'UNDER', ' ', '18', ' ', 'IN', ' ', 'HOUSEHOLD', ' ', '(DEM2A=1,', ' ', '2', ' ', 'OR', ' ', '3))', ' ', 'DEM2b', ' ', 'Are', ' ', 'you', ' ', 'a', ' ', 'parent', ' ', 'of', ' ', 'any', ' ', 'of', ' ', 'the', ' ', 'children', ' ', 'under', ' ', 'the', ' ', 'age', ' ', 'of', ' ', '18', ' ', 'in', ' ', 'this', ' ', 'household?', '\\r'], ['*(LANDLINE', ' ', 'SAMPLE,', ' ', 'MOBILE', ' ', 'SAMPLE', ' ', 'WITH', ' ', 'LANDLINE)', ' ', '(SAMTYP=1', ' ', 'OR', ' ', '((SAMTYP=2', ' ', 'AND', ' ', 'W2', ' ', '=', ' ', '1))', ' ', 'W3', ' ', ' ', 'How', ' ', 'many', ' ', 'residential', ' ', 'phone', ' ', 'numbers', ' ', 'do', ' ', 'you', ' ', 'have', ' ', 'in', ' ', 'your', ' ', 'household', ' ', 'not', ' ', 'including', ' ', 'lines', ' ', 'dedicated', '\\r'], ['person', ' ', 'household', ' ', 'or', ' ', 'something', ' ', 'else?', '\\r'], ['*(DEM10=1,2)', ' ', '(WORKING)', ' ', 'DEM11', ' ', 'What’s', ' ', 'your', ' ', '(main)', ' ', 'occupation?', '\\r'], ['*(ALL)', ' ', 'DEM11a.', ' ', 'What', ' ', 'is', ' ', 'your', ' ', 'total', ' ', 'annual', ' ', 'household', ' ', 'income', ' ', 'before', ' ', 'tax', ' ', 'or', ' ', 'anything', ' ', 'else', ' ', 'is', ' ', 'taken', ' ', 'out?', ' ', 'Would', ' ', 'it', ' ', 'be…', '\\r'], ['terrorism?', '\\r'], ['*(ALL)', ' ', 'PREB4', ' ', 'The', ' ', 'next', ' ', 'set', ' ', 'of', ' ', 'questions', ' ', 'is', ' ', 'about', ' ', 'your', ' ', 'opinion', ' ', 'of', ' ', 'different', ' ', 'international', ' ', 'institutions.', '\\r'], ['living?', '\\r'], ['6.', ' ', 'Sales', ' ', 'workers', ' ', '(sales', ' ', 'reps', ' ', 'and', ' ', 'agents,', ' ', 'sales', ' ', 'assistants', ' ', 'and', ' ', 'sales', ' ', 'persons', ' ', 'and', ' ', 'sales', ' ', 'support', ' ', 'persons)', '\\r'], ['*(ALL)', ' ', 'S4', ' ', 'This', ' ', 'call', ' ', 'may', ' ', 'be', ' ', 'monitored', ' ', 'for', ' ', 'training', ' ', 'and', ' ', 'quality', ' ', 'purposes.', ' ', 'Is', ' ', 'that', ' ', 'OK?', '\\r'], ['*(ALL)', ' ', 'D2', ' ', 'Do', ' ', 'you', ' ', 'think', ' ', 'that', ' ', 'Indonesia', ' ', 'has', ' ', 'assisted', ' ', 'or', ' ', 'not', ' ', 'assisted', ' ', 'Australia', ' ', 'in', ' ', 'combating', ' ', 'people', ' ', 'smuggling?', '\\r'], ['*(ALL)', ' ', 'DEM5', ' ', 'Would', ' ', 'you', ' ', 'mind', ' ', 'telling', ' ', 'me', ' ', 'how', ' ', 'old', ' ', 'you', ' ', 'are?', '\\r'], ['4.', ' ', 'Community', ' ', 'and', ' ', 'personal', ' ', 'service', ' ', 'workers', ' ', '(Health', ' ', 'and', ' ', 'welfare', ' ', 'support', ' ', 'workers,', ' ', 'carers', ' ', 'and', ' ', 'aides,', ' ', 'hospitality', ' ', 'workers,', ' ', 'protective', ' ', 'service', ' ', 'workers', ' ', 'and', ' ', 'sports', ' ', 'and', ' ', 'service', ' ', 'workers)', '\\r'], ['*(ALL)', ' ', 'B2', ' ', 'Do', ' ', 'you', ' ', 'believe', ' ', 'that', ' ', 'globalization', ' ', 'is', ' ', 'mostly', ' ', 'good', ' ', 'or', ' ', 'mostly', ' ', 'bad', ' ', 'for', ' ', 'Australia’s', ' ', 'economy?', '\\r'], ['*(ALL)', ' ', 'C5', ' ', 'Which', ' ', 'relationship', ' ', 'do', ' ', 'you', ' ', 'think', ' ', 'is', ' ', 'more', ' ', 'important', ' ', 'to', ' ', 'Australia?', ' ', 'Australia’s', ' ', 'relationship', ' ', 'with', ' ', 'the', '\\r'], ['*(ALL)', ' ', 'B4', ' ', 'What', ' ', 'is', ' ', 'your', ' ', 'opinion', ' ', 'of', ' ', 'the', ' ', 'United', ' ', 'Nations?', ' ', 'Would', ' ', 'you', ' ', 'say…', '\\r'], ['*(SAMTYP=2,', ' ', 'MOBILE)', ' ', 'S5', ' ', 'For', ' ', 'this', ' ', 'survey,', ' ', 'we', ' ', 'are', ' ', 'interested', ' ', 'in', ' ', 'talking', ' ', 'to', ' ', 'people', ' ', 'aged', ' ', '18', ' ', 'or', ' ', 'over.', ' ', 'Can', ' ', 'I', ' ', 'check,', ' ', 'are', ' ', 'you', ' ', 'aged', '\\r'], ['*(ALL)', ' ', 'D1', ' ', 'Do', ' ', 'you', ' ', 'consider', ' ', 'Indonesia', ' ', 'an', ' ', 'ally', ' ', 'of', ' ', 'Australia?', ' ', 'Would', ' ', 'you', ' ', 'say', ' ', 'they', ' ', 'are', ' ', 'an…', '\\r'], ['For', ' ', 'each', ' ', 'of', ' ', 'the', ' ', 'following', ' ', 'please', ' ', 'tell', ' ', 'me', ' ', 'if', ' ', 'you', ' ', 'use', ' ', 'this', ' ', 'source', ' ', 'often,', ' ', 'sometimes,', ' ', 'rarely', ' ', 'or', ' ', 'never', ' ', 'get', '\\r'], ['*(LANDLINE', ' ', 'SAMPLE)', ' ', '(SAMTYP=1)', ' ', 'W4', ' ', ' ', ' ', ' ', ' ', ' ', ' ', ' ', 'Do', ' ', 'you', ' ', 'also', ' ', 'have', ' ', 'a', ' ', 'working', ' ', 'mobile', ' ', 'phone?', '\\r'], ['*(ALL)', ' ', 'A1', ' ', 'I’d', ' ', 'like', ' ', 'to', ' ', 'start', ' ', 'with', ' ', 'a', ' ', 'general', ' ', 'question', ' ', 'about', ' ', 'your', ' ', 'views', ' ', 'on', ' ', 'life', ' ', 'in', ' ', 'Australia.', ' ', ' ', 'All', ' ', 'things', ' ', 'considered,', ' ', 'are', ' ', 'you', ' ', 'satisfied', ' ', 'or', ' ', 'dissatisfied', ' ', 'with', ' ', 'the', ' ', 'way', ' ', 'the', ' ', 'country', ' ', 'is', ' ', 'heading?', '\\r'], ['*(SAMTYP=2,', ' ', 'MOBILE)', ' ', 'S6', ' ', 'Just', ' ', 'so', ' ', 'I', ' ', 'know', ' ', 'your', ' ', 'time', ' ', 'zone,', ' ', 'can', ' ', 'you', ' ', 'please', ' ', 'tell', ' ', 'me', ' ', 'which', ' ', 'state', ' ', 'or', ' ', 'territory', ' ', 'you’re', ' ', 'in?', '\\r'], ['on', ' ', 'behalf', ' ', 'of', ' ', 'the', ' ', 'Australian', ' ', 'National', ' ', 'University', ' ', 'from', ' ', 'the', ' ', 'Social', ' ', 'Research', ' ', 'Centre.', ' ', ' ', 'The', ' ', 'University', ' ', 'is', ' ', 'doing', ' ', 'a', ' ', 'short', ' ', 'survey', ' ', 'of', ' ', 'community', ' ', 'attitudes', ' ', 'towards', ' ', 'a', ' ', 'number', ' ', 'of', ' ', 'issues.', '\\r'], ['phone?', '\\r'], ['*(QUERIED', ' ', 'HOW', ' ', 'TELEPHONE', ' ', 'NUMBER', ' ', 'WAS', ' ', 'OBTAINED)', ' ', 'ATELQ', ' ', 'Your', ' ', 'telephone', ' ', 'number', ' ', 'has', ' ', 'been', ' ', 'chosen', ' ', 'at', ' ', 'random', ' ', 'from', ' ', 'all', ' ', 'possible', ' ', 'telephone', ' ', 'numbers', ' ', 'in', '\\r'], ['*(ALL)', ' ', 'B3', ' ', 'Do', ' ', 'you', ' ', 'believe', ' ', 'that', ' ', 'globalisation', ' ', 'has', ' ', 'a', ' ', 'mostly', ' ', 'good', ' ', 'or', ' ', 'mostly', ' ', 'bad', ' ', 'effect', ' ', 'on', ' ', 'your', ' ', 'own', ' ', 'standard', ' ', 'of', '\\r'], ['*(ALL)', ' ', 'DEM8', ' ', 'Apart', ' ', 'from', ' ', 'weddings,', ' ', 'funerals', ' ', 'and', ' ', 'baptisms,', ' ', 'about', ' ', 'how', ' ', 'often', ' ', 'do', ' ', 'you', ' ', 'attend', ' ', 'religious', ' ', 'services?', '\\r'], ['S1=7', ' ', 'No', ' ', 'one', ' ', 'aged', ' ', '18', ' ', 'over', ' ', 'in', ' ', 'household', ' ', 'Out', ' ', 'of', ' ', 'scope', '\\r'], ['deal', ' ', 'of', ' ', 'confidence', ' ', 'in', ' ', 'them,', ' ', 'quite', ' ', 'a', ' ', 'lot', ' ', 'of', ' ', 'confidence,', ' ', 'not', ' ', 'very', ' ', 'much', ' ', 'confidence,', ' ', 'or', ' ', 'none', ' ', 'at', ' ', 'all?', '\\r'], ['1.', ' ', 'Australia’s', ' ', 'relationship', ' ', 'with', ' ', 'US', ' ', 'much', ' ', 'more', ' ', 'important', ' ', '2.', ' ', 'Australia’s', ' ', 'relationship', ' ', 'with', ' ', 'US', ' ', 'more', ' ', 'important', ' ', '3.', ' ', 'Both', ' ', 'equally', ' ', '4.', ' ', 'Australia’s', ' ', 'relationship', ' ', 'with', ' ', 'China', ' ', 'more', ' ', 'important', ' ', '5.', ' ', 'Australia’s', ' ', 'relationship', ' ', 'with', ' ', 'China', ' ', 'much', ' ', 'more', ' ', 'important', ' ', '6.', ' ', '(Don’t', ' ', 'know)', ' ', '7.', ' ', '(Refused)', '\\r'], ['for', ' ', 'protecting', ' ', 'Australia’s', ' ', 'security?', '\\r'], ['receiving', ' ', 'calls?', '\\r'], ['TERM2', ' ', 'Thanks', ' ', 'anyway,', ' ', 'but', ' ', 'to', ' ', 'participate', ' ', 'in', ' ', 'this', ' ', 'study', ' ', 'I', ' ', 'need', ' ', 'to', ' ', 'confirm', ' ', 'which', ' ', 'state', ' ', '/', ' ', 'territory', ' ', 'you', ' ', 'are', ' ', 'in', '\\r'], ['*(ALL)', ' ', 'A2a', ' ', 'What', ' ', 'do', ' ', 'you', ' ', 'think', ' ', 'is', ' ', 'the', ' ', 'most', ' ', 'important', ' ', 'problem', ' ', 'facing', ' ', 'Australia', ' ', 'today?', '\\r'], ['*(ALL)', ' ', 'DEM10', ' ', ' ', 'Which', ' ', 'of', ' ', 'these', ' ', 'best', ' ', 'describes', ' ', 'your', ' ', 'current', ' ', 'employment', ' ', 'situation?', ' ', ' ', 'Are', ' ', 'you…', '\\r'], ['IF', ' ', 'NECESSARY:', ' ', 'It’s', ' ', 'about', ' ', 'a', ' ', 'range', ' ', 'of', ' ', 'issues', ' ', 'but', ' ', 'is', ' ', 'mainly', ' ', 'about', ' ', 'peoples’', ' ', 'attitudes', ' ', 'towards', ' ', 'foreign', ' ', 'affairs', ' ', 'and', ' ', 'foreign', ' ', 'policy', '\\r'], ['*(ALL)', ' ', 'D3', ' ', 'And', ' ', 'do', ' ', 'you', ' ', 'think', ' ', 'that', ' ', 'Indonesia', ' ', 'has', ' ', 'assisted', ' ', 'or', ' ', 'not', ' ', 'assisted', ' ', 'Australia', ' ', 'in', ' ', 'reducing', ' ', 'the', ' ', 'threat', ' ', 'of', '\\r'], ['*(ALL)', ' ', 'C4', ' ', 'Do', ' ', 'you', ' ', 'consider', ' ', 'China', ' ', 'to', ' ', 'be', ' ', 'an', ' ', 'economic', ' ', 'threat', ' ', 'to', ' ', 'Australia,', ' ', 'or', ' ', 'not?', '\\r'], ['No', ' ', 'one', ' ', 'aged', ' ', '18', ' ', 'over', ' ', 'in', ' ', 'household', '\\r'], ['http://www.srcentre.com.au/', '\\r'], ['Are', ' ', 'you', ' ', 'happy', ' ', 'to', ' ', 'continue?', '\\r'], ['*(ALL)', ' ', 'DEM4', ' ', 'In', ' ', 'which', ' ', 'country', ' ', 'were', ' ', 'you', ' ', 'born?', '\\r'], ['*(ALL)', ' ', 'DEM9', ' ', 'What', ' ', 'is', ' ', 'the', ' ', 'highest', ' ', 'level', ' ', 'of', ' ', 'education', ' ', 'you', ' ', 'have', ' ', 'completed?', '\\r'], ['*(ALL)', ' ', 'DEM13', ' ', 'And,', ' ', 'can', ' ', 'I', ' ', 'please', ' ', 'have', ' ', 'your', ' ', 'postcode?', '\\r'], ['A2b', ' ', 'And', ' ', 'what', ' ', 'do', ' ', 'you', ' ', 'think', ' ', 'is', ' ', 'the', ' ', 'second', ' ', 'most', ' ', 'important', ' ', 'problem', ' ', 'facing', ' ', 'Australia', ' ', 'today?', '\\r'], ['*(ALL)', ' ', 'POL5', ' ', 'The', ' ', 'next', ' ', 'question', ' ', 'is', ' ', 'about', ' ', 'where', ' ', 'you', ' ', 'get', ' ', 'your', ' ', 'own', ' ', 'information', ' ', 'about', ' ', 'international', ' ', 'news.', '\\r'], ['*(MOBILE', ' ', 'AND', ' ', 'NOT', ' ', 'SAFE', ' ', 'TO', ' ', 'TAKE', ' ', 'CALL)', ' ', 'S8', ' ', 'Do', ' ', 'you', ' ', 'want', ' ', 'me', ' ', 'to', ' ', 'call', ' ', 'you', ' ', 'back', ' ', 'on', ' ', 'this', ' ', 'number', ' ', 'or', ' ', 'would', ' ', 'you', ' ', 'prefer', ' ', 'I', ' ', 'call', ' ', 'back', ' ', 'on', ' ', 'your', ' ', 'home', '\\r'], ['18', ' ', 'years', ' ', 'or', ' ', 'over?', '\\r'], ['INTERVIEWER', ' ', 'NOTE:', ' ', 'IF', ' ', '‘UNCOMMITTED’,', ' ', 'SAY:', ' ', '‘TO', ' ', 'WHICH', ' ', 'ONE', ' ', 'OF', ' ', 'THESE', ' ', 'DO', ' ', 'YOU', ' ', 'HAVE', ' ', 'A', ' ', 'LEANING?’', '\\r'], ['a.', ' ', 'The', ' ', 'United', ' ', 'Nations', ' ', 'Development', ' ', 'Program', ' ', 'b.', ' ', 'The', ' ', 'World', ' ', 'Health', ' ', 'Organisation', ' ', 'c.', ' ', 'The', ' ', 'World', ' ', 'Bank', ' ', 'd.', ' ', 'The', ' ', 'World', ' ', 'Trade', ' ', 'Organisation', '\\r'], ['*(ALL)', ' ', 'C3', ' ', 'Do', ' ', 'you', ' ', 'consider', ' ', 'China', ' ', 'to', ' ', 'be', ' ', 'a', ' ', 'military', ' ', 'threat', ' ', 'to', ' ', 'Australia,', ' ', 'or', ' ', 'not?', '\\r'], ['PREDEM2B', ' ', 'IF', ' ', 'DEM2a=1,', ' ', '2', ' ', 'OR', ' ', '3', ' ', '(ANY', ' ', 'CHILD', ' ', 'UNDER', ' ', '18', ' ', 'IN', ' ', 'HOUSEHOLD)', ' ', 'CONTINUE,', ' ', 'OTHERWISE', ' ', 'GO', ' ', 'TO', ' ', 'DEM2c', '\\r'], ['IF', ' ', 'NECESSARY:', ' ', 'It’s', ' ', 'about', ' ', 'your', ' ', 'opinion', ' ', 'on', ' ', 'a', ' ', 'range', ' ', 'of', ' ', 'issues', ' ', '–', ' ', 'there', ' ', 'are', ' ', 'no', ' ', 'right', ' ', 'or', ' ', 'wrong', ' ', 'answers', ' ', '-', ' ', 'but', ' ', 'is', ' ', 'mainly', ' ', 'about', ' ', 'peoples’', ' ', 'attitudes', ' ', 'towards', ' ', 'foreign', ' ', 'affairs', ' ', 'and', ' ', 'foreign', ' ', 'policy', '\\r'], ['Appendix', ' ', '1', ' ', '-', ' ', 'Final', ' ', 'Questionnaire', '\\r'], ['*(DEM5=2)', ' ', '(REFUSED', ' ', 'AGE)', ' ', 'DEM6', ' ', 'Would', ' ', 'you', ' ', 'mind', ' ', 'telling', ' ', 'me', ' ', 'which', ' ', 'of', ' ', 'the', ' ', 'following', ' ', 'age', ' ', 'groups', ' ', 'you', ' ', 'are', ' ', 'in?', '\\r'], ['over', ' ', 'in', ' ', 'your', ' ', 'household', ' ', 'who', ' ', 'is', ' ', 'going', ' ', 'to', ' ', 'have', ' ', 'the', ' ', 'next', ' ', 'birthday.', '\\r'], ['*(WANTS', ' ', 'ADDITIONAL', ' ', 'INFORMATION)', ' ', 'AINFO', ' ', 'Further', ' ', 'information', ' ', 'can', ' ', 'also', ' ', 'be', ' ', 'found', ' ', 'on', ' ', 'our', ' ', 'website', ' ', 'www.srcentre.com.au', ' ', 'or', ' ', 'the', ' ', 'ANU', ' ', 'website', ' ', 'at', '\\r'], ['*(ALL)', ' ', 'W1', ' ', 'Now', ' ', 'just', ' ', 'a', ' ', 'question', ' ', 'or', ' ', 'two', ' ', 'about', ' ', 'your', ' ', 'use', ' ', 'of', ' ', 'telephone', ' ', 'services.', '\\r'], ['*(ALL)', ' ', 'PREB2', ' ', 'Now', ' ', 'some', ' ', 'questions', ' ', 'about', ' ', 'globalisation,', ' ', 'which', ' ', 'is', ' ', 'the', ' ', 'process', ' ', 'of', ' ', 'increasing', ' ', 'connections', ' ', 'of', ' ', 'our', ' ', 'economy', ' ', 'with', ' ', 'other', ' ', 'countries', ' ', 'around', ' ', 'the', ' ', 'world.', '\\r'], ['Thanks', ' ', 'anyway,', ' ', 'but', ' ', 'for', ' ', 'this', ' ', 'survey', ' ', 'we', ' ', 'need', ' ', 'to', ' ', 'speak', ' ', 'to', ' ', 'people', ' ', 'aged', ' ', '18', ' ', 'or', ' ', 'more.', ' ', ' ', 'Thanks', ' ', 'for', ' ', 'being', ' ', '\\r'], ['prepared', ' ', 'to', ' ', 'help.', ' ', '\\r'], [' ', 'participate', ' ', 'in', ' ', 'this', ' ', 'study', ' ', 'I', ' ', 'need', ' ', 'to', ' ', 'confirm', ' ', 'which', ' ', 'state', ' ', '/', ' ', 'territory', ' ', 'you', ' ', 'are', ' ', 'in', '\\r'], ['INTERVIEW', ' ', 'NOTE:', ' ', 'If', ' ', 'Christian,', ' ', 'PROBE:', ' ', 'What', ' ', 'denomination?', '\\r'], ['and', ' ', 'the', ' ', 'information', ' ', 'you', ' ', 'have', ' ', 'provided', ' ', 'will', ' ', 'only', ' ', 'be', ' ', 'used', ' ', 'for', ' ', 'research', ' ', 'purposes.', ' ', 'Our', ' ', 'Privacy', ' ', 'Policy', ' ', 'is', ' ', 'available', ' ', 'via', ' ', 'our', ' ', 'website,', ' ', 'www.srcentre.com.au,', ' ', 'if', ' ', 'you', ' ', 'require', ' ', 'further', ' ', 'information', ' ', 'please', ' ', 'click', ' ', 'on', ' ', 'the', ' ', 'Privacy', ' ', 'Policy', ' ', 'in', ' ', 'the', ' ', 'right', ' ', 'hand', ' ', 'menu.', '\\r'], ['Mobile', ' ', 'sample', ' ', 'refused', ' ', 'alternative', ' ', 'number', '\\r'], ['*(ALL)', ' ', 'POL4', ' ', 'Over', ' ', 'the', ' ', 'last', ' ', 'three', ' ', 'years,', ' ', 'about', ' ', 'how', ' ', 'many', ' ', 'times', ' ', 'have', ' ', 'you', ' ', 'travelled', ' ', 'overseas?', '\\r'], ['BACK)', ' ', '3.', ' ', 'Respondent', ' ', 'refusal', ' ', '(ATTEMPT', ' ', 'CONVERSION', ' ', '/', ' ', 'RECORD', ' ', 'REASON)', ' ', '(GO', ' ', 'TO', ' ', 'RR1)', ' ', '4.', ' ', 'Wants', ' ', 'further', ' ', 'information', ' ', 'about', ' ', 'survey', ' ', '(GO', ' ', 'TO', ' ', 'AINFO)', ' ', '5.', ' ', 'Queried', ' ', 'about', ' ', 'how', ' ', 'telephone', ' ', 'number', ' ', 'was', ' ', 'obtained', ' ', '(GO', ' ', 'TO', ' ', 'ATELQ)', '\\r'], ['ANU', ' ', 'Poll', ' ', '(May', ' ', '2014)', ' ', '–', ' ', 'Foreign', ' ', 'Affairs', ' ', 'Questionnaire', ' ', '–', ' ', 'Pilot', '\\r'], ['INTERVIEWER', ' ', 'NOTE:', ' ', 'If', ' ', 'needed', ' ', 'explain', ' ', 'as', ' ', 'how', ' ', 'many', ' ', 'individual', ' ', 'landline', ' ', 'numbers', ' ', 'are', ' ', 'there', ' ', 'at', ' ', 'your', ' ', 'house', ' ', 'that', ' ', 'you', ' ', 'can', ' ', 'use', ' ', 'to', ' ', 'make', ' ', 'and', ' ', 'receive', ' ', 'calls?', '\\r'], [], ['l)', ' ', 'Independente', ' ', '0', ' ', '1', ' ', '2', '\\r'], ['g)', ' ', 'Bom/Boa', ' ', 'em', ' ', 'trabalhos', ' ', 'escolares', ' ', '0', ' ', '1', ' ', '2', '\\r'], ['a)', ' ', 'Generoso(a)', ' ', '0', ' ', '1', ' ', '2', '\\r'], ['b)', ' ', 'Se', ' ', 'dá', ' ', 'bem', ' ', 'com', ' ', 'o', ' ', 'resto', ' ', 'da', ' ', 'família', ' ', '0', ' ', '1', ' ', '2', '\\r'], ['k)', ' ', 'Bom/boa', ' ', 'com', ' ', 'amigos', ' ', '0', ' ', '1', ' ', '2', '\\r'], ['j)', ' ', 'Se', ' ', 'algo', ' ', 'dá', ' ', 'errado,', ' ', 'levanta', ' ', 'a', ' ', 'cabeça', ' ', 'e', ' ', 'segue', ' ', 'em', ' ', 'frente', ' ', '0', ' ', '1', ' ', '2', '\\r'], ['f)', ' ', 'Fácil', ' ', 'de', ' ', 'lidar', ' ', '0', ' ', '1', ' ', '2', '\\r'], ['c)', ' ', 'Tem', ' ', 'vontade', ' ', 'de', ' ', 'aprender', ' ', '0', ' ', '1', ' ', '2', '\\r'], ['c)', ' ', 'Faz', ' ', 'a', ' ', 'lição', ' ', 'de', ' ', 'casa', ' ', 'sem', ' ', 'precisar', ' ', 'ser', ' ', 'lembrado(a)', ' ', '0', ' ', '1', ' ', '2', '\\r'], ['i)', ' ', 'Bom/boa', ' ', 'em', ' ', 'esportes', ' ', '0', ' ', '1', ' ', '2', '\\r'], ['b)', ' ', 'Animado(a)', ' ', '0', ' ', '1', ' ', '2', '\\r'], ['j)', ' ', 'Mantém', ' ', 'o', ' ', 'quarto', ' ', 'arrumado', ' ', '0', ' ', '1', ' ', '2', '\\r'], ['e)', ' ', 'Gosta', ' ', 'de', ' ', 'estar', ' ', 'envolvido(a)', ' ', 'em', ' ', 'atividades', ' ', 'familiares', ' ', '0', ' ', '1', ' ', '2', '\\r'], ['l)', ' ', 'Bem', ' ', 'comportado(a)', ' ', '0', ' ', '1', ' ', '2', '\\r'], ['h)', ' ', 'Educado(a)', ' ', '0', ' ', '1', ' ', '2', '\\r'], ['f)', ' ', 'Cuida', ' ', 'da', ' ', 'aparência', ' ', '0', ' ', '1', ' ', '2', '\\r'], ['a)', ' ', 'Ajuda', ' ', 'em', ' ', 'casa', ' ', '0', ' ', '1', ' ', '2', '\\r'], ['h)', ' ', 'Interessado', ' ', 'em', ' ', 'muitas', ' ', 'coisas', ' ', '0', ' ', '1', ' ', '2', '\\r'], ['i)', ' ', 'Carinhoso(a),', ' ', 'bom-coração', ' ', '0', ' ', '1', ' ', '2', '\\r'], ['g)', ' ', 'Divertido(a),', ' ', 'com', ' ', 'senso', ' ', 'de', ' ', 'humor', ' ', '0', ' ', '1', ' ', '2', '\\r'], ['N2', ' ', 'Quais', ' ', 'são', ' ', 'as', ' ', 'coisas', ' ', 'que', ' ', 'ele/a', ' ', 'faz', ' ', 'que', ' ', 'realmente', ' ', 'lhe', ' ', 'agradam?', ' ', 'Não', ' ', 'Um', '\\r'], ['d)', ' ', 'Afetuoso(a)', ' ', '0', ' ', '1', ' ', '2', '\\r'], ['d)', ' ', 'Atividades', ' ', 'criativas:', ' ', 'artes,', ' ', 'interpretação,', ' ', 'música,', ' ', 'trabalhos', ' ', 'manuais', ' ', '0', ' ', '1', ' ', '2', '\\r'], ['k)', ' ', 'Agradecido(a),', ' ', 'dá', ' ', 'valor', ' ', 'ao', ' ', 'que', ' ', 'recebe', ' ', '0', ' ', '1', ' ', '2', '\\r'], ['e)', ' ', 'Confiável', ' ', 'e', ' ', 'responsável', ' ', '0', ' ', '1', ' ', '2', '\\r'], [], ['Reaching', ' ', 'your', ' ', 'retirement', ' ', 'savings', ' ', 'target', ' ', '(4)', '\\r'], ['End', ' ', 'of', ' ', 'Block:', ' ', 'Retirement', ' ', 'planning,', ' ', 'etc', '\\r'], ['Q2.17', ' ', 'What', ' ', 'is', ' ', 'the', '\\xa0', 'home', ' ', 'ownership', ' ', 'status', ' ', 'for', ' ', 'you', ' ', 'and/or', ' ', 'your', ' ', 'partner?', ' ', 'We', ' ', 'own', ' ', 'our', ' ', 'home', ' ', 'outright', ' ', ' ', '(1)', ' ', 'We', ' ', 'are', ' ', 'paying', ' ', 'off', ' ', 'the', ' ', 'mortgage', ' ', 'on', ' ', 'our', ' ', 'home', ' ', ' ', '(2)', ' ', 'We', ' ', 'are', ' ', 'renting', ' ', 'privately', ' ', ' ', '(3)', ' ', 'We', ' ', 'are', ' ', 'living', ' ', 'with', ' ', 'family', ' ', 'or', ' ', 'friends', ' ', ' ', '(8)', ' ', 'We', ' ', 'are', ' ', 'living', ' ', 'in', ' ', 'social', ' ', 'or', ' ', 'public', ' ', 'housing', ' ', ' ', '(9)', ' ', 'Other', ' ', '(please', ' ', 'specify)', ' ', ' ', '(10)', ' ', '________________________________________________', '\\r'], ['Q3.4', ' ', 'Are', ' ', 'your', ' ', 'superannuation', ' ', 'contributions', ' ', '.', ' ', '.', ' ', '.', ' ', 'A', ' ', 'fixed', ' ', 'dollar', ' ', 'amount', ' ', 'each', ' ', 'period', ' ', ' ', '(1)', ' ', 'A', ' ', 'fixed', ' ', 'percentage', ' ', 'of', ' ', 'your', ' ', 'income', ' ', 'each', ' ', 'period', ' ', ' ', '(2)', ' ', 'A', ' ', 'varying', ' ', 'amount', ' ', 'each', ' ', 'period', ' ', '(that', ' ', 'is,', ' ', 'neither', ' ', 'a', ' ', 'fixed', ' ', 'dollar', ' ', 'nor', ' ', 'a', ' ', 'fixed', ' ', 'percentage)', ' ', ' ', '(3)', ' ', 'Occasional', ' ', 'contributions', ' ', 'when', ' ', 'you', ' ', 'can', ' ', 'afford', ' ', 'it', ' ', ' ', '(5)', ' ', 'Not', ' ', 'sure', ' ', ' ', '(4)', '\\r'], ['Q3.5', ' ', 'How', ' ', 'important', ' ', 'were', ' ', 'the', ' ', 'following', ' ', 'factors', ' ', 'in', ' ', 'your', ' ', 'decision', ' ', 'to', ' ', 'make', ' ', 'super', ' ', 'contributions?', '\\r'], ['It', ' ', 'stops', ' ', 'me', ' ', 'spending', ' ', 'the', ' ', 'money', ' ', 'now', ' ', '-', ' ', 'super', ' ', 'is', ' ', 'locked', ' ', 'away', ' ', 'until', ' ', 'retirement', ' ', '(3)', '\\r'], ['Q7.12', ' ', 'Please', ' ', 'assess', ' ', 'the', ' ', 'likelihood', ' ', 'of', ' ', 'the', ' ', 'following', ' ', 'statements', ' ', 'about', ' ', 'the', ' ', 'Age', ' ', 'Pension.', '\\r'], ['Q2.5', ' ', 'The', ' ', 'next', ' ', 'few', ' ', 'questions', ' ', 'are', ' ', 'about', ' ', 'the', ' ', 'job', ' ', 'or', ' ', 'business', ' ', 'in', ' ', 'which', ' ', 'you', ' ', 'usually', ' ', 'work', ' ', 'the', ' ', 'most', ' ', 'hours,', ' ', 'that', ' ', 'is,', ' ', 'your', ' ', 'main', ' ', 'job.', '\\r'], ['Q5.4', ' ', 'What', ' ', 'would', ' ', 'need', ' ', 'to', ' ', 'change', ' ', 'about', ' ', 'superannuation', ' ', 'for', ' ', 'you', ' ', 'to', ' ', 'start', ' ', 'making', ' ', 'voluntary', ' ', 'contributions?', ' ', '________________________________________________________________', '\\r'], ['Q6.2', ' ', 'Are', ' ', 'your', ' ', 'voluntary', ' ', 'contributions', ' ', '.', ' ', '.', ' ', '.', ' ', 'A', ' ', 'fixed', ' ', 'dollar', ' ', 'amount', ' ', 'each', ' ', 'period', ' ', ' ', '(1)', ' ', 'A', ' ', 'fixed', ' ', 'percentage', ' ', 'of', ' ', 'your', ' ', 'income', ' ', 'each', ' ', 'period', ' ', ' ', '(2)', ' ', 'A', ' ', 'varying', ' ', 'amount', ' ', 'each', ' ', 'period', ' ', '(that', ' ', 'is,', ' ', 'neither', ' ', 'a', ' ', 'fixed', ' ', 'dollar', ' ', 'nor', ' ', 'a', ' ', 'fixed', ' ', 'percentage)', ' ', ' ', '(5)', ' ', 'Occasional', ' ', 'contributions', ' ', 'when', ' ', 'you', ' ', 'can', ' ', 'afford', ' ', 'it', ' ', ' ', '(3)', ' ', 'Other', ' ', ' ', '(4)', ' ', '________________________________________________', '\\r'], ['Q7.2', ' ', 'Why', ' ', \"haven't\", ' ', 'you', ' ', 'worked', ' ', 'out', ' ', 'how', ' ', 'much', ' ', 'you', ' ', 'need', ' ', 'to', ' ', 'retire', ' ', 'on?', ' ', '(Please', ' ', 'select', ' ', 'all', ' ', 'that', ' ', 'apply.)', ' ', 'Retirement', ' ', 'is', ' ', 'long', ' ', 'way', ' ', 'off', ' ', ' ', '(2)', ' ', 'I', ' ', 'meant', ' ', 'to,', ' ', 'but', ' ', \"haven't\", ' ', 'gotten', ' ', 'around', ' ', 'to', ' ', 'it', ' ', ' ', '(3)', ' ', 'I', ' ', 'think', ' ', 'the', ' ', 'Age', ' ', 'Pension', ' ', 'will', ' ', 'be', ' ', 'enough', ' ', ' ', '(4)', ' ', 'I', ' ', 'don’t', ' ', 'have', ' ', 'enough', ' ', 'income', ' ', 'to', ' ', 'save', ' ', 'generally', ' ', '–', ' ', 'for', ' ', 'super', ' ', 'or', ' ', 'otherwise', ' ', ' ', '(5)', ' ', 'I', ' ', 'am', ' ', 'confident', ' ', 'that', ' ', 'I', ' ', 'will', ' ', 'have', ' ', 'enough', ' ', 'to', ' ', 'retire', ' ', 'on', ' ', ' ', '(7)', ' ', 'Other', ' ', ' ', '(6)', ' ', '________________________________________________', '\\r'], ['Q2.14', ' ', 'Please', ' ', 'describe', ' ', 'your', ' ', 'family.', '\\r'], ['Q4.3', ' ', 'Do', ' ', 'you', ' ', 'currently', ' ', 'make', ' ', 'voluntary', ' ', 'super', ' ', 'contributions', ' ', '(that', ' ', 'is', ' ', 'contributions', ' ', 'beyond', ' ', 'the', ' ', 'amount', ' ', 'that', ' ', 'employer', ' ', 'is', ' ', 'required', ' ', 'to', ' ', 'provide)?', ' ', 'Yes,', ' ', 'I', ' ', 'make', ' ', 'regular', ' ', 'voluntary', ' ', 'contributions', ' ', ' ', '(1)', ' ', 'Yes,', ' ', 'I', ' ', 'make', ' ', 'occasional', ' ', 'voluntary', ' ', 'contributions', ' ', ' ', '(3)', ' ', 'No', ' ', ' ', '(2)', '\\r'], ['Q2.12', ' ', 'What', ' ', 'is', ' ', 'your', ' ', 'gender?', ' ', 'Male', ' ', ' ', '(1)', ' ', 'Female', ' ', ' ', '(2)', ' ', 'X', ' ', '(Indeterminate/Intersex/Unspecified)', ' ', ' ', '(3)', ' ', 'Prefer', ' ', 'not', ' ', 'to', ' ', 'say', ' ', ' ', '(4)', '\\r'], ['Q2.11', ' ', 'What', ' ', 'is', ' ', 'your', ' ', 'current', ' ', 'annual', ' ', 'income', ' ', 'from', ' ', 'all', ' ', 'sources,', ' ', 'before', ' ', 'tax', ' ', 'or', ' ', 'other', ' ', 'deductions', ' ', 'are', ' ', 'taken', ' ', 'out?', ' ', 'Please', ' ', 'just', ' ', 'give', ' ', 'your', ' ', 'income,', ' ', 'excluding', ' ', 'other', ' ', 'members', ' ', 'of', ' ', 'your', ' ', 'household.', ' ', 'less', ' ', 'than', ' ', '$20,000', ' ', ' ', '(2)', ' ', '$20,000', ' ', 'to', ' ', '$29,999', ' ', ' ', '(3)', ' ', '$30,000', ' ', 'to', ' ', '$39,999', ' ', ' ', '(6)', ' ', '$40,000', ' ', 'to', ' ', '$49,999', ' ', ' ', '(8)', ' ', '$50,000', ' ', 'to', ' ', '$59,999', ' ', ' ', '(9)', ' ', '$60,000', ' ', 'to', ' ', '$69,999', ' ', ' ', '(4)', ' ', '$70,000', ' ', 'to', ' ', '$79,999', ' ', ' ', '(10)', ' ', '$80,000', ' ', 'to', ' ', '$89,999', ' ', ' ', '(11)', ' ', '$90,000', ' ', 'to', ' ', '$99,999', ' ', ' ', '(12)', ' ', '$100,000', ' ', 'to', ' ', '$119,999', ' ', ' ', '(13)', ' ', '$120,000', ' ', 'to', ' ', '$139,999', ' ', ' ', '(15)', ' ', '$140,000', ' ', 'to', ' ', '$159,999', ' ', ' ', '(17)', ' ', '$160,000', ' ', 'to', ' ', '$179,999', ' ', ' ', '(19)', ' ', '$180,000', ' ', 'or', ' ', 'more', ' ', ' ', '(5)', '\\r'], ['Q3.9', ' ', 'What', ' ', 'would', ' ', 'need', ' ', 'to', ' ', 'change', ' ', 'about', ' ', 'superannuation', ' ', 'for', ' ', 'you', ' ', 'to', ' ', 'start', ' ', 'making', ' ', 'regular', ' ', 'contributions?', ' ', '________________________________________________________________', '\\r'], ['Q2.8', ' ', 'How', ' ', 'long', ' ', 'have', ' ', 'you', ' ', 'worked', ' ', 'for', ' ', 'your', ' ', 'current', ' ', 'employer?', ' ', 'Less', ' ', 'than', ' ', '1', ' ', 'year', ' ', ' ', '(1)', ' ', '1', ' ', 'year', ' ', 'to', ' ', 'less', ' ', 'than', ' ', '2', ' ', 'years', ' ', ' ', '(2)', ' ', '2', ' ', 'years', ' ', 'to', ' ', 'less', ' ', 'than', ' ', '5', ' ', 'years', ' ', ' ', '(3)', ' ', '5', ' ', 'years', ' ', 'or', ' ', 'more', ' ', ' ', '(4)', '\\r'], ['Q4.1', ' ', 'Were', ' ', 'you', ' ', 'aware', ' ', 'of', ' ', 'that', ' ', 'you', ' ', 'can', ' ', 'receive', ' ', 'tax', ' ', 'concessions', ' ', 'when', ' ', 'you', ' ', 'make', ' ', 'voluntary', ' ', 'contributions', ' ', 'to', ' ', 'your', ' ', 'superannuation?', ' ', 'Yes,', ' ', 'and', ' ', 'I', ' ', 'have', ' ', 'a', ' ', 'good', ' ', 'sense', ' ', 'of', ' ', 'what', ' ', 'the', ' ', 'tax', ' ', 'concessions', ' ', 'are', ' ', ' ', '(1)', ' ', 'Yes,', ' ', 'but', ' ', 'I', ' ', \"don't\", ' ', 'have', ' ', 'a', ' ', 'good', ' ', 'sense', ' ', 'of', ' ', 'what', ' ', 'the', ' ', 'tax', ' ', 'concessions', ' ', 'are', ' ', ' ', '(3)', ' ', 'No,', ' ', 'I', ' ', \"wasn't\", ' ', 'aware', ' ', ' ', '(2)', '\\r'], ['Advice', ' ', 'from', ' ', 'a', ' ', 'financial', ' ', 'adviser', ' ', '(9)', '\\r'], ['Q5.3', ' ', 'What', ' ', 'rate', ' ', 'of', ' ', 'super', ' ', 'does', ' ', 'your', ' ', 'employer', ' ', 'pay?', ' ', '9.5%', ' ', ' ', '(1)', ' ', 'more', ' ', 'than', ' ', '9.5%', ' ', 'but', ' ', 'less', ' ', 'than', ' ', '15%', ' ', ' ', '(2)', ' ', '15%', ' ', 'or', ' ', 'more', ' ', ' ', '(3)', ' ', 'not', ' ', 'sure', ' ', ' ', '(5)', '\\r'], ['Q6.1', ' ', 'Are', ' ', 'these', ' ', 'contributions', ' ', 'made', ' ', 'from', ' ', 'your', ' ', 'before-tax', ' ', 'or', ' ', 'after-tax', ' ', 'wage?', ' ', 'Before-tax', ' ', ' ', '(1)', ' ', 'After-tax', ' ', ' ', '(2)', ' ', 'From', ' ', 'both', ' ', 'before-tax', ' ', 'and', ' ', 'after-tax', ' ', 'wage', ' ', ' ', '(3)', ' ', 'Not', ' ', 'sure', ' ', ' ', '(4)', '\\r'], ['Display', ' ', 'This', ' ', 'Question:', ' ', 'If', ' ', 'Q2.6', ' ', '=', ' ', 'Self-employed', '\\r'], ['Q7.1', ' ', 'Have', ' ', 'you', ' ', '(or', ' ', 'your', ' ', 'financial', ' ', 'adviser)', ' ', 'ever', ' ', 'estimated', ' ', 'how', ' ', 'much', ' ', 'money', ' ', 'you', ' ', 'will', ' ', 'need', ' ', 'for', ' ', 'your', ' ', 'retirement?', ' ', 'Yes', ' ', ' ', '(1)', ' ', 'No', ' ', ' ', '(2)', '\\r'], ['Q6.4', ' ', 'How', ' ', 'important', ' ', 'were', ' ', 'the', ' ', 'following', ' ', 'factors', ' ', 'in', ' ', 'your', ' ', 'decision', ' ', 'to', ' ', 'make', ' ', 'voluntary', '\\xa0', 'super', ' ', 'contributions?', '\\r'], ['Q3.1', ' ', 'Were', ' ', 'you', ' ', 'aware', ' ', 'of', ' ', 'that', ' ', 'you', ' ', 'can', ' ', 'receive', ' ', 'tax', ' ', 'concessions', ' ', 'when', ' ', 'you', ' ', 'make', ' ', 'contributions', ' ', 'to', ' ', 'your', ' ', 'superannuation?', ' ', 'Yes,', ' ', 'and', ' ', 'I', ' ', 'have', ' ', 'a', ' ', 'good', ' ', 'sense', ' ', 'of', ' ', 'what', ' ', 'the', ' ', 'tax', ' ', 'concessions', ' ', 'are', ' ', ' ', '(1)', ' ', 'Yes,', ' ', 'but', ' ', 'I', ' ', \"don't\", ' ', 'have', ' ', 'a', ' ', 'good', ' ', 'sense', ' ', 'of', ' ', 'what', ' ', 'the', ' ', 'tax', ' ', 'concessions', ' ', 'are', ' ', ' ', '(3)', ' ', 'No,', ' ', 'I', ' ', \"wasn't\", ' ', 'aware', ' ', ' ', '(2)', '\\r'], ['Q2.15', ' ', 'Given', ' ', 'your', ' ', 'current', ' ', 'needs', ' ', 'and', ' ', 'financial', ' ', 'responsibilities,', ' ', 'would', ' ', 'you', ' ', 'say', ' ', 'that', ' ', 'you', ' ', 'and', ' ', 'your', ' ', 'family', ' ', 'are', ' ', '.', ' ', '.', ' ', '.', ' ', 'Very', ' ', 'poor', ' ', ' ', '(6)', ' ', 'Poor', ' ', ' ', '(5)', ' ', 'Just', ' ', 'getting', ' ', 'along', ' ', ' ', '(1)', ' ', 'Reasonably', ' ', 'comfortable', ' ', ' ', '(2)', ' ', 'Very', ' ', 'comfortable', ' ', ' ', '(4)', ' ', 'Prosperous', ' ', ' ', '(3)', '\\r'], ['Q2.19', ' ', 'Do', ' ', 'you', ' ', 'think', ' ', 'you', ' ', 'will', ' ', 'own', ' ', 'your', ' ', 'own', ' ', 'home', ' ', 'outright', ' ', 'before', ' ', 'retirement?', ' ', 'Yes', ' ', ' ', '(1)', ' ', 'No,', ' ', 'I', ' ', 'will', ' ', 'still', ' ', 'have', ' ', 'a', ' ', 'mortgage', ' ', ' ', '(2)', ' ', 'No,', ' ', 'I', ' ', \"don't\", ' ', 'think', ' ', 'I', ' ', 'will', ' ', 'ever', ' ', 'be', ' ', 'able', ' ', 'to', ' ', 'afford', ' ', 'to', ' ', 'buy', ' ', 'my', ' ', 'own', ' ', 'home', ' ', ' ', '(4)', ' ', 'No,', ' ', 'I', ' ', \"don't\", ' ', 'want', ' ', 'to', ' ', 'own', ' ', 'my', ' ', 'home', ' ', ' ', '(3)', ' ', 'Other', ' ', '(please', ' ', 'specify)', ' ', ' ', '(5)', ' ', '________________________________________________', '\\r'], ['Display', ' ', 'This', ' ', 'Question:', ' ', 'If', ' ', 'Q5.1', ' ', '=', ' ', 'I', ' ', 'invest', ' ', 'my', ' ', 'savings', ' ', 'in', ' ', 'other', ' ', 'ways', ' ', 'than', ' ', 'super', ' ', '(eg', ' ', 'shares,', ' ', 'extra', ' ', 'mortgage', ' ', 'payments,', ' ', 'savings', ' ', 'account,', ' ', 'invest', ' ', 'in', ' ', 'my', ' ', 'business,', ' ', ' ', 'etc)', '\\r'], ['Q2.2', ' ', 'In', ' ', 'the', ' ', 'last', ' ', 'month,', ' ', 'did', ' ', 'you', ' ', 'do', ' ', 'any', ' ', 'work', ' ', 'at', ' ', 'all', ' ', 'in', ' ', 'a', ' ', 'job,', ' ', 'business', ' ', 'or', ' ', 'farm?', ' ', 'Yes', ' ', ' ', '(1)', ' ', 'No,', ' ', 'I', ' ', 'was', ' ', 'on', ' ', 'leave', ' ', '(for', ' ', 'example,', ' ', 'on', ' ', 'holidays', ' ', 'or', ' ', 'sick', ' ', 'leave)', ' ', ' ', '(2)', ' ', 'No,', ' ', 'and', ' ', 'I', ' ', 'was', ' ', 'not', ' ', 'on', ' ', 'leave', ' ', 'from', ' ', 'a', ' ', 'job,', ' ', 'business', ' ', 'or', ' ', 'farm', ' ', ' ', '(3)', '\\r'], ['Q7.3', ' ', 'Excluding', ' ', 'the', ' ', 'family', ' ', 'home,', ' ', 'approximately', ' ', 'how', ' ', 'much', ' ', 'in', ' ', 'superannuation', ' ', 'and', ' ', 'other', ' ', 'savings', ' ', 'do', ' ', 'you', ' ', 'aim', ' ', 'to', ' ', 'enter', ' ', 'retirement', ' ', 'with?', ' ', 'If', ' ', 'you', ' ', 'are', ' ', 'in', ' ', 'a', ' ', 'couple', ' ', 'please', ' ', 'provide', ' ', 'a', ' ', 'combined', ' ', 'amount.', '\\r'], ['Q3.6', ' ', 'Which', ' ', 'of', ' ', 'the', ' ', 'following', ' ', 'were', ' ', 'important', ' ', 'factors', ' ', 'in', ' ', 'deciding', ' ', 'how', ' ', 'much', ' ', 'your', ' ', 'periodic', ' ', 'superannuation', ' ', 'contributions', ' ', 'would', ' ', 'be?', ' ', '(Please', ' ', 'select', ' ', 'all', ' ', 'that', ' ', 'apply.)', ' ', 'The', ' ', 'help', ' ', 'of', ' ', 'my', ' ', 'accountant', ' ', 'or', ' ', 'financial', ' ', 'advisor', ' ', ' ', '(1)', ' ', 'My', ' ', 'own', ' ', 'careful', ' ', 'calculation', ' ', ' ', '(2)', ' ', 'Saving', ' ', 'too', ' ', 'much', ' ', 'superannuation', ' ', 'means', ' ', 'I', ' ', 'miss', ' ', 'out', ' ', 'on', ' ', 'the', ' ', 'Age', ' ', 'Pension', ' ', ' ', '(7)', ' ', 'I', ' ', 'think', ' ', 'I', ' ', 'will', ' ', 'get', ' ', 'better', ' ', 'returns', ' ', 'on', ' ', 'other', ' ', 'investments', ' ', ' ', '(10)', ' ', 'I', ' ', 'prefer', ' ', 'to', ' ', 'save', ' ', 'in', ' ', 'a', ' ', 'more', ' ', 'stable', ' ', 'investment', ' ', 'than', ' ', 'superannuation', ' ', ' ', '(12)', ' ', 'The', ' ', 'tax', ' ', 'concessions', ' ', 'for', ' ', 'superannuation', ' ', 'contributions', ' ', ' ', '(11)', ' ', 'I', ' ', 'followed', ' ', 'what', ' ', 'a', ' ', 'friend', ' ', 'or', ' ', 'family', ' ', 'member', ' ', 'suggested', ' ', ' ', '(4)', ' ', 'I', ' ', 'just', ' ', 'put', ' ', 'in', ' ', 'what', ' ', 'I', ' ', 'can', ' ', 'afford', ' ', ' ', '(5)', ' ', 'I', ' ', 'use', ' ', 'the', ' ', '9.5%', ' ', 'standard', ' ', 'that', ' ', 'employees', ' ', 'receive', ' ', ' ', '(8)', ' ', 'Other', ' ', '(please', ' ', 'specify)', ' ', ' ', '(9)', ' ', '________________________________________________', '\\r'], ['Q2.6', ' ', 'In', ' ', 'your', ' ', 'main', ' ', 'job,', ' ', 'do', ' ', 'you', ' ', 'work', ' ', 'for', ' ', 'an', ' ', 'employer,', ' ', 'or', ' ', 'in', ' ', 'your', ' ', 'own', ' ', 'business?', ' ', 'Employed', ' ', 'by', ' ', 'an', ' ', 'organisation', ' ', ' ', '(1)', ' ', 'Self-employed', ' ', ' ', '(2)', '\\r'], ['Advice', ' ', 'from', ' ', 'a', ' ', 'financial', ' ', 'adviser', ' ', '(3)', '\\r'], ['It', ' ', 'stops', ' ', 'me', ' ', 'spending', ' ', 'the', ' ', 'money', ' ', 'now', ' ', '-', ' ', 'super', ' ', 'is', ' ', 'locked', ' ', 'away', ' ', 'until', ' ', 'retirement', ' ', '(6)', '\\r'], ['Q4.2', ' ', 'Please', ' ', 'rate', ' ', 'your', ' ', 'agreement', ' ', 'with', ' ', 'the', ' ', 'following', ' ', 'statement.', '\\r'], ['Q3.2', ' ', 'Do', ' ', 'you', ' ', 'make', ' ', 'contributions', ' ', 'to', ' ', 'your', ' ', 'superannuation?', ' ', 'Yes,', ' ', 'I', ' ', 'make', ' ', 'regular', ' ', 'contributions', ' ', ' ', '(1)', ' ', 'Yes,', ' ', 'I', ' ', 'make', ' ', 'occasional', ' ', 'contributions', ' ', ' ', '(3)', ' ', 'No', ' ', ' ', '(2)', '\\r'], ['Q7.7', ' ', 'Did', ' ', 'you', ' ', 'change', ' ', 'how', ' ', 'much', ' ', 'you', ' ', 'are', ' ', 'contributing', ' ', 'to', ' ', 'super', ' ', 'as', ' ', 'a', ' ', 'result', ' ', 'of', ' ', 'calculating', ' ', 'how', ' ', 'much', ' ', 'money', ' ', 'you', ' ', 'need', ' ', 'for', ' ', 'retirement?', ' ', 'No,', ' ', 'I', ' ', 'am', ' ', 'already', ' ', 'saving', ' ', 'enough', ' ', 'so', ' ', 'I', ' ', \"didn't\", ' ', 'make', ' ', 'any', ' ', 'changes', ' ', 'to', ' ', 'my', ' ', 'savings', ' ', ' ', '(1)', ' ', 'No,', ' ', 'but', ' ', 'I', ' ', 'changed', ' ', 'my', ' ', 'savings', ' ', 'elsewhere', ' ', ' ', '(4)', ' ', 'Yes,', ' ', 'I', ' ', 'decreased', ' ', 'my', ' ', 'super', ' ', 'contributions', ' ', ' ', '(3)', ' ', 'Yes,', ' ', 'I', ' ', 'increased', ' ', 'my', ' ', 'super', ' ', 'contributions', ' ', ' ', '(2)', ' ', 'Other', ' ', '(please', ' ', 'sepcify)', ' ', ' ', '(5)', ' ', '________________________________________________', '\\r'], ['Q7.6', ' ', 'Did', ' ', 'you', ' ', 'change', ' ', 'how', ' ', 'much', ' ', 'you', ' ', 'are', ' ', 'contributing', ' ', 'to', ' ', 'super', ' ', 'as', ' ', 'a', ' ', 'result', ' ', 'of', ' ', 'calculating', ' ', 'how', ' ', 'much', ' ', 'money', ' ', 'you', ' ', 'need', ' ', 'for', ' ', 'retirement?', ' ', 'No,', ' ', 'I', ' ', 'am', ' ', 'already', ' ', 'saving', ' ', 'enough', ' ', 'so', ' ', 'I', ' ', \"didn't\", ' ', 'make', ' ', 'any', ' ', 'changes', ' ', 'to', ' ', 'my', ' ', 'savings', ' ', ' ', '(1)', ' ', 'No,', ' ', 'but', ' ', 'I', ' ', 'changed', ' ', 'my', ' ', 'savings', ' ', 'elsewhere', ' ', ' ', '(2)', ' ', 'Yes,', ' ', 'I', ' ', 'decreased', ' ', 'my', ' ', 'voluntary', ' ', 'contributions', ' ', ' ', '(5)', ' ', 'Yes,', ' ', 'I', ' ', 'increased', ' ', 'my', ' ', 'voluntary', ' ', 'contributions', ' ', ' ', '(3)', ' ', 'Other', ' ', '(please', ' ', 'specify)', ' ', ' ', '(4)', ' ', '________________________________________________', '\\r'], ['Q7.5', ' ', 'Have', ' ', 'you', ' ', 'worked', ' ', 'out', ' ', 'how', ' ', 'much', ' ', 'you', ' ', 'need', ' ', 'to', ' ', 'save', ' ', 'each', ' ', 'year', ' ', 'to', ' ', 'reach', ' ', 'your', ' ', 'retirement', ' ', 'savings', ' ', 'goal?', ' ', 'Yes,', ' ', 'I', ' ', 'have', ' ', 'worked', ' ', 'out', ' ', 'a', ' ', 'specific', ' ', 'amount', ' ', 'I', ' ', 'need', ' ', 'to', ' ', 'save', ' ', 'each', ' ', 'year', ' ', ' ', '(1)', ' ', 'Yes,', ' ', 'I', ' ', 'have', ' ', 'worked', ' ', 'out', ' ', 'a', ' ', 'rough', ' ', 'estimate', ' ', 'of', ' ', 'what', ' ', 'I', ' ', 'need', ' ', 'to', ' ', 'save', ' ', 'each', ' ', 'year', ' ', ' ', '(3)', ' ', 'No', ' ', ' ', '(2)', '\\r'], ['Q2.18', ' ', 'What', ' ', 'is', ' ', 'your', ' ', 'home', ' ', 'ownership', ' ', 'status?', ' ', 'I', ' ', 'own', ' ', 'my', ' ', 'home', ' ', 'outright', ' ', ' ', '(1)', ' ', 'I', ' ', 'am', ' ', 'paying', ' ', 'off', ' ', 'the', ' ', 'mortgage', ' ', 'on', ' ', 'my', ' ', 'home', ' ', ' ', '(2)', ' ', 'I', ' ', 'am', ' ', 'renting', ' ', 'privately', ' ', ' ', '(3)', ' ', 'I', ' ', 'am', ' ', 'living', ' ', 'with', ' ', 'family', ' ', 'or', ' ', 'friends', ' ', ' ', '(8)', ' ', 'I', ' ', 'am', ' ', 'living', ' ', 'in', ' ', 'social', ' ', 'or', ' ', 'public', ' ', 'housing', ' ', ' ', '(9)', ' ', 'Other', ' ', '(please', ' ', 'specify)', ' ', ' ', '(10)', ' ', '________________________________________________', '\\r'], ['Reaching', ' ', 'your', ' ', 'retirement', ' ', 'savings', ' ', 'target', ' ', '(8)', '\\r'], ['The', ' ', 'government', ' ', 'mandated', ' ', 'employer', ' ', 'contribution', ' ', 'to', ' ', 'superannuation', ' ', 'of', ' ', '9.5%', ' ', 'was', ' ', 'chosen', ' ', 'to', ' ', 'give', ' ', 'people', ' ', 'enough', ' ', 'to', ' ', 'retire', ' ', 'on.', '\\r'], ['Q2.20', ' ', 'Do', ' ', 'you', ' ', 'think', ' ', 'that', ' ', 'you', ' ', 'and', ' ', 'your', ' ', 'partner', ' ', 'will', ' ', 'own', ' ', 'your', ' ', 'own', ' ', 'home', ' ', 'outright', ' ', 'before', ' ', 'retirement?', ' ', 'Yes', ' ', ' ', '(1)', ' ', 'No,', ' ', 'we', ' ', 'will', ' ', 'still', ' ', 'have', ' ', 'a', ' ', 'mortgage', ' ', ' ', '(2)', ' ', 'No,', ' ', 'I', ' ', \"don't\", ' ', 'think', ' ', 'we', ' ', 'will', ' ', 'ever', ' ', 'be', ' ', 'able', ' ', 'to', ' ', 'afford', ' ', 'to', ' ', 'buy', ' ', 'our', ' ', 'own', ' ', 'home', ' ', ' ', '(4)', ' ', 'No,', ' ', 'we', ' ', \"don't\", ' ', 'want', ' ', 'to', ' ', 'own', ' ', 'our', ' ', 'home', ' ', ' ', '(3)', ' ', 'Other', ' ', '(please', ' ', 'specify)', ' ', ' ', '(5)', ' ', '________________________________________________', '\\r'], ['Project', ' ', 'Title:', ' ', 'Saving', ' ', 'for', ' ', 'retirement', ' ', 'survey', ' ', 'What', ' ', 'is', ' ', 'the', ' ', 'project', ' ', 'about?', ' ', 'The', ' ', 'aim', ' ', 'of', ' ', 'this', ' ', 'project', ' ', 'is', ' ', 'to', ' ', 'learn', ' ', 'about', ' ', 'people’s', ' ', 'saving', ' ', 'behaviour', ' ', 'in', ' ', 'Australia’s', ' ', 'retirement', ' ', 'system.', ' ', 'The', ' ', 'survey', ' ', 'you', ' ', 'are', ' ', 'about', ' ', 'to', ' ', 'undertake', ' ', 'will', ' ', 'ask', ' ', 'you', ' ', 'questions', ' ', 'about', ' ', 'your', ' ', 'approach', ' ', 'to', ' ', 'your', ' ', 'retirement', ' ', 'planning.', ' ', 'This', ' ', 'research', ' ', 'is', ' ', 'supported', ' ', 'by', ' ', 'the', ' ', 'Behavioural', ' ', 'Economics', ' ', 'Team', ' ', 'of', ' ', 'the', ' ', 'Australian', ' ', 'Government', ' ', '(BETA)', ' ', 'at', ' ', 'the', ' ', 'Department', ' ', 'of', ' ', 'the', ' ', 'Prime', ' ', 'Minister', ' ', 'and', ' ', 'Cabinet', ' ', '(PM&C)', ' ', 'and', ' ', 'the', ' ', 'Department', ' ', 'of', ' ', 'the', ' ', 'Treasury', ' ', '(Treasury).', ' ', 'Why', ' ', 'have', ' ', 'I', ' ', 'been', ' ', 'invited', ' ', 'to', ' ', 'participate?', ' ', 'You', ' ', 'have', ' ', 'been', ' ', 'invited', ' ', 'to', ' ', 'participate', ' ', 'because', ' ', 'you', ' ', 'are', ' ', 'a', ' ', 'member', ' ', 'of', ' ', 'the', ' ', 'Qualtrics', ' ', 'survey', ' ', 'panel.', ' ', 'You', ' ', 'can', ' ', 'pull', ' ', 'out', ' ', 'at', ' ', 'any', ' ', 'time', ' ', 'and', ' ', 'it', ' ', 'won’t', ' ', 'change', ' ', 'your', ' ', 'relationship', ' ', 'with', ' ', 'PM&C,', ' ', 'Treasury', ' ', 'or', ' ', 'anyone', ' ', 'else.', ' ', 'What', ' ', 'will', ' ', 'I', ' ', 'need', ' ', 'to', ' ', 'do?', ' ', 'We', ' ', 'will', ' ', 'ask', ' ', 'you', ' ', 'to', ' ', 'complete', ' ', 'a', ' ', 'short', ' ', 'survey', ' ', 'asking', ' ', 'about', ' ', 'your', ' ', 'pre-retirement', ' ', 'plans', ' ', 'and', ' ', 'decisions', ' ', 'around', ' ', 'retiring.', ' ', 'We', ' ', 'expect', ' ', 'it', ' ', 'to', ' ', 'take', ' ', 'less', ' ', 'than', ' ', '15', ' ', 'minutes', ' ', 'to', ' ', 'complete.', ' ', 'What', ' ', 'will', ' ', 'happen', ' ', 'to', ' ', 'my', ' ', 'information?', ' ', 'Your', ' ', 'responses', ' ', 'to', ' ', 'the', ' ', 'survey', ' ', 'questions', ' ', 'will', ' ', 'remain', ' ', 'completely', ' ', 'anonymous,', ' ', 'and', ' ', 'you', ' ', 'won’t', ' ', 'be', ' ', 'identified', ' ', 'in', ' ', 'any', ' ', 'way.', ' ', 'Your', ' ', 'responses', ' ', 'will', ' ', 'only', ' ', 'be', ' ', 'used', ' ', 'for', ' ', 'research', ' ', 'purposes', ' ', 'unless', ' ', 'required', ' ', 'by', ' ', 'law.', ' ', 'In', ' ', 'particular,', ' ', 'your', ' ', 'responses', ' ', 'will', ' ', 'be', ' ', 'used', ' ', 'to', ' ', 'inform', ' ', 'the', ' ', 'current', ' ', 'Retirement', ' ', 'Income', ' ', 'Review.', ' ', 'Your', ' ', 'data', ' ', 'will', ' ', 'be', ' ', 'held', ' ', 'securely', ' ', 'by', ' ', 'PM&C', ' ', 'for', ' ', 'at', ' ', 'least', ' ', '15', ' ', 'years.', ' ', 'It', ' ', 'may', ' ', 'also', ' ', 'be', ' ', 'shared', ' ', 'with', ' ', 'other', ' ', 'researchers', ' ', 'to', ' ', 'inform', ' ', 'their', ' ', 'work.', ' ', 'What', ' ', 'are', ' ', 'the', ' ', 'potential', ' ', 'risks?', ' ', 'We', ' ', 'do', ' ', 'not', ' ', 'think', ' ', 'there', ' ', 'are', ' ', 'any', ' ', 'risks', ' ', 'to', ' ', 'participating', ' ', 'in', ' ', 'this', ' ', 'research.', ' ', 'Contact', ' ', 'If', ' ', 'you', ' ', 'have', ' ', 'any', ' ', 'concerns', ' ', 'or', ' ', 'complaints', ' ', 'about', ' ', 'this', ' ', 'research,', ' ', 'please', ' ', 'contact', '\\xa0', 'BETA', ' ', 'at', ' ', 'BETA@pmc.gov.au.', ' ', 'Ethics', ' ', 'Committee', ' ', 'Clearance', ' ', 'This', ' ', 'research', ' ', 'project', ' ', 'have', ' ', 'been', ' ', 'approved', ' ', 'by', ' ', 'BETA’s', ' ', 'Ethics', ' ', 'Committee', ' ', 'of', ' ', 'Peers.', '\\r'], ['Q2.21', ' ', 'Have', ' ', 'you', ' ', 'ever', ' ', 'received', ' ', 'professional', ' ', 'financial', ' ', 'advice?', ' ', 'Yes', ' ', ' ', '(1)', ' ', 'No', ' ', ' ', '(2)', '\\r'], ['Q2.9', ' ', 'How', ' ', 'long', ' ', 'have', ' ', 'you', ' ', 'worked', ' ', 'in', ' ', 'your', ' ', 'current', ' ', 'business?', ' ', 'Less', ' ', 'than', ' ', '1', ' ', 'year', ' ', ' ', '(1)', ' ', '1', ' ', 'year', ' ', 'to', ' ', 'less', ' ', 'than', ' ', '2', ' ', 'years', ' ', ' ', '(2)', ' ', '2', ' ', 'years', ' ', 'to', ' ', 'less', ' ', 'than', ' ', '5', ' ', 'years', ' ', ' ', '(3)', ' ', '5', ' ', 'years', ' ', 'or', ' ', 'more', ' ', ' ', '(4)', '\\r'], ['Q3.8', ' ', 'Which', ' ', 'of', ' ', 'the', ' ', 'following', ' ', 'describes', ' ', 'why', ' ', 'you', ' ', \"don't\", ' ', 'make', ' ', 'super', ' ', 'contributions?', ' ', '(Please', ' ', 'select', ' ', 'all', ' ', 'that', ' ', 'apply.)', ' ', 'I', ' ', 'want', ' ', 'to', ' ', 'make', ' ', 'voluntary', ' ', 'contributions', ' ', 'to', ' ', 'my', ' ', 'super,', ' ', 'but', ' ', 'have', ' ', 'never', ' ', 'gotten', ' ', 'around', ' ', 'to', ' ', 'it.', ' ', ' ', '(8)', ' ', 'I', ' ', \"don't\", ' ', 'like', ' ', 'having', ' ', 'my', ' ', 'money', ' ', 'locked', ' ', 'away', ' ', 'until', ' ', 'retirement', ' ', ' ', '(2)', ' ', 'I', ' ', 'don’t', ' ', 'have', ' ', 'enough', ' ', 'income', ' ', 'to', ' ', 'save', ' ', 'generally', ' ', '–', ' ', 'for', ' ', 'super', ' ', 'or', ' ', 'otherwise', ' ', ' ', '(3)', ' ', 'I', ' ', 'think', ' ', 'I', ' ', 'can', ' ', 'achieve', ' ', 'better', ' ', 'investment', ' ', 'returns', ' ', 'elsewhere', ' ', ' ', '(7)', ' ', 'I', ' ', 'prefer', ' ', 'to', ' ', 'save', ' ', 'in', ' ', 'a', ' ', 'more', ' ', 'stable', ' ', 'investment', ' ', 'than', ' ', 'superannuation', ' ', ' ', '(13)', ' ', 'Based', ' ', 'on', ' ', 'financial', ' ', 'advice', ' ', 'I', ' ', 'received', ' ', ' ', '(10)', ' ', 'I', ' ', \"didn't\", ' ', 'know', ' ', 'that', ' ', 'I', ' ', 'could', ' ', ' ', '(11)', ' ', 'Other', ' ', '(please', ' ', 'specify)', ' ', ' ', '(12)', ' ', '________________________________________________', '\\r'], ['Q6.6', ' ', 'What', ' ', 'rate', ' ', 'of', ' ', 'superannuation', ' ', 'does', ' ', 'your', ' ', 'employer', ' ', 'pay', ' ', 'you?', ' ', '9.5%', ' ', ' ', '(1)', ' ', 'more', ' ', 'than', ' ', '9.5%', ' ', 'but', ' ', 'less', ' ', 'than', ' ', '15%', ' ', ' ', '(2)', ' ', '15%', ' ', 'or', ' ', 'more', ' ', ' ', '(3)', ' ', 'not', ' ', 'sure', ' ', ' ', '(5)', '\\r'], ['Q2.3', ' ', 'Have', ' ', 'you', ' ', 'retired?', ' ', 'Yes,', ' ', 'I', ' ', 'have', ' ', 'retired', ' ', ' ', '(1)', ' ', 'No,', ' ', 'I', ' ', 'have', ' ', 'never', ' ', 'retired', ' ', ' ', '(2)', '\\r'], ['End', ' ', 'of', ' ', 'Block:', ' ', 'Make', ' ', 'voluntary', ' ', 'contributions', '\\r'], ['Q2.7', ' ', 'For', ' ', 'your', ' ', 'main', ' ', 'job,', ' ', 'please', ' ', 'indicate', ' ', 'the', ' ', 'industry', ' ', 'you', ' ', 'work', ' ', 'in:', ' ', 'Agriculture,', ' ', 'Forestry', ' ', 'and', ' ', 'Fishing', ' ', ' ', '(1)', ' ', 'Mining', ' ', ' ', '(2)', ' ', 'Manufacturing', ' ', ' ', '(3)', ' ', 'Electricity,', ' ', 'Gas,', ' ', 'Water', ' ', 'and', ' ', 'Waste', ' ', 'Services', ' ', ' ', '(4)', ' ', 'Construction', ' ', ' ', '(6)', ' ', 'Wholesale', ' ', 'Trade', ' ', ' ', '(5)', ' ', 'Retail', ' ', 'Trade', ' ', ' ', '(7)', ' ', 'Accommodation', ' ', 'and', ' ', 'Food', ' ', 'Services', ' ', ' ', '(10)', ' ', 'Transport,', ' ', 'Postal', ' ', 'and', ' ', 'Warehousing', ' ', ' ', '(11)', ' ', 'Information', ' ', 'Media', ' ', 'and', ' ', 'Telecommunications', ' ', ' ', '(12)', ' ', 'Financial', ' ', 'and', ' ', 'Insurance', ' ', 'Services', ' ', ' ', '(13)', ' ', 'Rental,', ' ', 'Hiring', ' ', 'and', ' ', 'Real', ' ', 'Estate', ' ', 'Services', ' ', ' ', '(14)', ' ', 'Professional,', ' ', 'Scientific', ' ', 'and', ' ', 'Technical', ' ', 'Services', ' ', ' ', '(15)', ' ', 'Administrative', ' ', 'and', ' ', 'Support', ' ', 'Services', ' ', ' ', '(16)', ' ', 'Public', ' ', 'Administration', ' ', 'and', ' ', 'Safety', ' ', ' ', '(17)', ' ', 'Education', ' ', 'and', ' ', 'Training', ' ', ' ', '(18)', ' ', 'Health', ' ', 'Care', ' ', 'and', ' ', 'Social', ' ', 'Assistance', ' ', ' ', '(19)', ' ', 'Arts', ' ', 'and', ' ', 'Recreation', ' ', 'Services', ' ', ' ', '(20)', ' ', 'Other', ' ', 'Services', ' ', ' ', '(21)', '\\r'], ['Display', ' ', 'This', ' ', 'Question:', ' ', 'If', ' ', 'Q2.6', ' ', '=', ' ', 'Employed', ' ', 'by', ' ', 'an', ' ', 'organisation', '\\r'], ['Q2.22', ' ', 'Roughly', ' ', 'what', ' ', 'age', ' ', 'were', ' ', 'you', ' ', 'when', ' ', 'you', ' ', 'first', ' ', 'received', ' ', 'professional', ' ', 'financial', ' ', 'advice?', ' ', '18', ' ', '-', ' ', '24', ' ', ' ', '(1)', ' ', '25', ' ', '-', ' ', '29', ' ', ' ', '(2)', ' ', '30', ' ', '-', ' ', '34', ' ', ' ', '(3)', ' ', '35', ' ', '-', ' ', '39', ' ', ' ', '(4)', ' ', '40', ' ', '-', ' ', '44', ' ', ' ', '(6)', ' ', '45', ' ', '-', ' ', '49', ' ', ' ', '(7)', ' ', '50', ' ', '-', ' ', '54', ' ', ' ', '(9)', ' ', '55', ' ', '-', ' ', '59', ' ', ' ', '(10)', ' ', '60', ' ', '-', ' ', '64', ' ', ' ', '(11)', ' ', '65', ' ', 'or', ' ', 'older', ' ', ' ', '(12)', '\\r'], ['Display', ' ', 'This', ' ', 'Question:', ' ', 'If', ' ', 'Q2.6', ' ', '=', ' ', 'Self-employed', ' ', 'And', ' ', 'Q7.1', ' ', '=', ' ', 'Yes', '\\r'], ['Q6.3', ' ', 'Which', ' ', 'of', ' ', 'the', ' ', 'following', ' ', 'were', ' ', 'important', ' ', 'factors', ' ', 'in', ' ', 'deciding', ' ', 'how', ' ', 'much', ' ', 'your', ' ', 'voluntarily', '\\xa0', 'superannuation', ' ', 'contributions', ' ', 'would', ' ', 'be?', ' ', '(Please', ' ', 'select', ' ', 'all', ' ', 'that', ' ', 'apply.)', ' ', 'The', ' ', 'help', ' ', 'of', ' ', 'my', ' ', 'accountant', ' ', 'or', ' ', 'financial', ' ', 'advisor', ' ', ' ', '(1)', ' ', 'My', ' ', 'own', ' ', 'careful', ' ', 'calculation', ' ', ' ', '(2)', ' ', 'Saving', ' ', 'too', ' ', 'much', ' ', 'superannuation', ' ', 'means', ' ', 'I', ' ', 'miss', ' ', 'out', ' ', 'on', ' ', 'the', ' ', 'Age', ' ', 'Pension', ' ', ' ', '(9)', ' ', 'The', ' ', 'tax', ' ', 'concessions', ' ', 'for', ' ', 'superannuation', ' ', 'contributions', ' ', ' ', '(3)', ' ', 'I', ' ', 'prefer', ' ', 'to', ' ', 'save', ' ', 'in', ' ', 'a', ' ', 'more', ' ', 'stable', ' ', 'investment', ' ', 'than', ' ', 'superannuation', ' ', ' ', '(10)', ' ', 'I', ' ', 'followed', ' ', 'what', ' ', 'a', ' ', 'friend', ' ', 'or', ' ', 'family', ' ', 'member', ' ', 'suggested', ' ', ' ', '(4)', ' ', 'I', ' ', 'just', ' ', 'put', ' ', 'in', ' ', 'what', ' ', 'I', ' ', 'can', ' ', 'afford', ' ', ' ', '(5)', ' ', 'Other', ' ', '(please', ' ', 'specify)', ' ', ' ', '(8)', ' ', '________________________________________________', '\\r'], ['Q5.2', ' ', 'Which', ' ', 'of', ' ', 'the', ' ', 'following', ' ', 'describes', ' ', 'why', ' ', 'you', ' ', \"don't\", ' ', 'make', ' ', 'voluntary', ' ', 'super', ' ', 'contributions?', ' ', '(Please', ' ', 'select', ' ', 'all', ' ', 'that', ' ', 'apply.)', ' ', 'I', ' ', 'want', ' ', 'to', ' ', 'make', ' ', 'voluntary', ' ', 'contributions', ' ', 'to', ' ', 'my', ' ', 'super,', ' ', 'but', ' ', 'have', ' ', 'never', ' ', 'gotten', ' ', 'around', ' ', 'to', ' ', 'it.', ' ', ' ', '(2)', ' ', 'I', ' ', \"don't\", ' ', 'like', ' ', 'having', ' ', 'my', ' ', 'money', ' ', 'locked', ' ', 'away', ' ', 'until', ' ', 'retirement.', ' ', ' ', '(1)', ' ', 'I', ' ', 'don’t', ' ', 'have', ' ', 'enough', ' ', 'income', ' ', 'to', ' ', 'save', ' ', 'generally', ' ', '–', ' ', 'for', ' ', 'super', ' ', 'or', ' ', 'otherwise', ' ', ' ', '(13)', ' ', 'Saving', ' ', 'too', ' ', 'much', ' ', 'super', ' ', 'means', ' ', 'I', ' ', 'might', ' ', 'miss', ' ', 'out', ' ', 'on', ' ', 'the', ' ', 'Age', ' ', 'Pension.', ' ', ' ', '(5)', ' ', 'I', ' ', 'think', ' ', 'I', ' ', 'can', ' ', 'achieve', ' ', 'better', ' ', 'investment', ' ', 'returns', ' ', 'elsewhere', ' ', ' ', '(7)', ' ', 'I', ' ', 'prefer', ' ', 'to', ' ', 'save', ' ', 'in', ' ', 'a', ' ', 'more', ' ', 'stable', ' ', 'investment', ' ', 'than', ' ', 'superannuation', ' ', ' ', '(14)', ' ', 'Based', ' ', 'on', ' ', 'financial', ' ', 'advice', ' ', 'I', ' ', 'received', ' ', ' ', '(10)', ' ', 'I', ' ', \"didn't\", ' ', 'know', ' ', 'that', ' ', 'I', ' ', 'could', ' ', ' ', '(6)', ' ', 'Other', ' ', '(please', ' ', 'specify).', ' ', ' ', '(12)', ' ', '________________________________________________', '\\r'], ['Q2.10', ' ', 'For', ' ', 'your', ' ', 'main', ' ', 'job,', ' ', 'what', ' ', 'type', ' ', 'is', ' ', 'your', ' ', 'employment?', ' ', 'Permanent', ' ', 'or', ' ', 'fixed', ' ', 'term', ' ', ' ', '(1)', ' ', 'Casual', ' ', ' ', '(3)', ' ', 'Apprentice', ' ', 'or', ' ', 'trainee', ' ', ' ', '(2)', ' ', 'Labour', ' ', 'hire', ' ', ' ', '(4)', ' ', 'Contractor', ' ', 'or', ' ', 'sub-contractor', ' ', ' ', '(5)', ' ', 'Other', ' ', '(please', ' ', 'specify)', ' ', ' ', '(6)', ' ', '________________________________________________', '\\r'], ['Q6.7', ' ', 'Approximately', ' ', 'how', ' ', 'much', '\\xa0', 'of', ' ', 'your', ' ', 'pay', ' ', 'do', ' ', 'you', ' ', 'estimate', ' ', 'that', ' ', 'your', ' ', 'voluntary', ' ', 'contributions', ' ', 'represent?', ' ', 'Less', ' ', 'than', ' ', '2%', ' ', ' ', '(1)', ' ', '2%', ' ', 'to', ' ', 'less', ' ', 'than', ' ', '5%', ' ', ' ', '(2)', ' ', '5%', ' ', 'to', ' ', 'less', ' ', 'than', ' ', '10%', ' ', ' ', '(3)', ' ', 'More', ' ', 'than', ' ', '10%', ' ', ' ', '(4)', ' ', 'Not', ' ', 'sure', ' ', ' ', '(5)', '\\r'], ['For', ' ', 'the', ' ', 'purposes', ' ', 'of', ' ', 'this', ' ', 'question,', ' ', '‘dependent', ' ', 'child’', ' ', 'refers', ' ', 'to', ' ', 'any', ' ', 'child', ' ', 'under', ' ', '15', ' ', 'years,', ' ', 'and', ' ', 'dependent', ' ', 'students', ' ', 'aged', ' ', '15-24', ' ', 'years', ' ', 'and', ' ', 'studying', ' ', 'full-time.', ' ', 'Single,', ' ', 'no', ' ', 'dependent', ' ', 'children', ' ', ' ', '(1)', ' ', 'Single,', ' ', 'with', ' ', 'dependent', ' ', 'children', ' ', ' ', '(2)', ' ', 'Couple,', ' ', 'no', ' ', 'dependent', ' ', 'children', ' ', ' ', '(4)', ' ', 'Couple,', ' ', 'with', ' ', 'dependent', ' ', 'children', ' ', ' ', '(6)', '\\r'], [], ['THANK', ' ', 'YOU', ' ', 'FOR', ' ', 'YOUR', ' ', 'TIME', ' ', 'AND', ' ', 'PARTICIPATION!', '\\r'], ['14.', ' ', 'What', ' ', 'is', ' ', 'your', ' ', 'current', ' ', 'address', ' ', 'AND/OR', ' ', 'the', ' ', 'closest', ' ', 'cross', ' ', 'streets', ' ', 'to', ' ', 'your', ' ', 'home,', ' ', 'including', ' ', 'city/state,', ' ', 'zip', ' ', 'code,', ' ', 'and', ' ', 'how', ' ', 'long', ' ', 'you', ' ', 'have', ' ', 'lived', ' ', 'at', ' ', 'this', ' ', 'address?', ' ', 'PLEASE', ' ', 'NOTE', ' ', 'WE', ' ', 'WILL', ' ', 'DETACH', ' ', 'THIS', ' ', 'SHEET', ' ', 'FROM', ' ', 'THE', ' ', 'REST', ' ', 'OF', ' ', 'THE', ' ', 'SURVEY.', '\\r'], ['How', ' ', 'long', ' ', 'have', ' ', 'you', ' ', 'lived', ' ', 'at', ' ', 'this', ' ', 'address?', ' ', 'years', ' ', 'month', '\\r'], [], ['0', ' ', '1', ' ', '2', ' ', 'AL20.', ' ', 'Estraga', ' ', 'ou', ' ', 'destrói', ' ', 'as', ' ', 'suas', ' ', 'próprias', ' ', 'coisas', ' ', ' ', '0', ' ', '1', ' ', '2', ' ', 'AL52.', ' ', 'Sente-se', ' ', 'muito', ' ', 'culpado(a)', '\\r'], ['0', ' ', '1', ' ', '2', ' ', 'AL79.', ' ', 'Tem', ' ', 'problemas', ' ', 'de', ' ', 'fala', ' ', '(descreva):', ' ', '__________', ' ', ' ', '0', ' ', '1', ' ', '2', ' ', 'AL108.', ' ', 'Tem', ' ', 'tendência', ' ', 'a', ' ', 'perder', ' ', 'as', ' ', 'coisas', '\\r'], ['0', ' ', '1', ' ', '2', ' ', 'AL2.', ' ', 'Sabe', ' ', 'aproveitar', ' ', 'as', ' ', 'oportunidades', ' ', 'que', ' ', 'lhe', ' ', 'aparecem', ' ', ' ', '0', ' ', '1', ' ', '2', ' ', 'AL34.', ' ', 'Acha', ' ', 'que', ' ', 'os', ' ', 'outros', ' ', 'o(a)', ' ', 'perseguem', '\\r'], ['0', ' ', '1', ' ', '2', ' ', 'AL56e.', ' ', 'Problemas', ' ', 'de', ' ', 'pele', '\\r'], ['0', ' ', '1', ' ', '2', ' ', 'AL69.', ' ', 'É', ' ', 'reservado(a),', ' ', 'fechado(a),', ' ', 'não', ' ', 'conta', ' ', 'suas', ' ', 'coisas', ' ', 'para', ' ', 'ninguém', ' ', ' ', '0', ' ', '1', ' ', '2', ' ', 'AL98.', ' ', 'Gosta', ' ', 'de', ' ', 'ajudar', ' ', 'os', ' ', 'outros', '\\r'], ['0', ' ', '1', ' ', '2', ' ', 'AL116.', ' ', 'Fica', ' ', 'perturbado(a)', ' ', 'com', ' ', 'muita', ' ', 'facilidade', ' ', ' ', '0', ' ', '1', ' ', '2', ' ', 'AL123.', ' ', 'É', ' ', 'uma', ' ', 'pessoa', ' ', 'feliz', '\\r'], ['ABCL10.', ' ', 'Por', ' ', 'favor,', ' ', 'descreva', ' ', 'as', ' ', 'principais', ' ', 'qualidades', ' ', 'e', ' ', 'pontos', ' ', 'positivos', ' ', 'dele(a):', '\\r'], ['0', ' ', '1', ' ', '2', ' ', 'AL106.', ' ', 'Tenta', ' ', 'ser', ' ', 'justo(a)', ' ', 'com', ' ', 'os', ' ', 'outros', '\\r'], ['[ENTREVISTADOR]', ' ', 'MOSTRAR', ' ', 'C17', ' ', '[LEIA]', ' ', 'Logo', ' ', 'abaixo,', ' ', 'você', ' ', 'encontrará', ' ', 'uma', ' ', 'lista', ' ', 'de', ' ', 'afirmações', ' ', 'que', ' ', 'descrevem', ' ', 'as', ' ', 'pessoas.', ' ', 'Para', ' ', 'cada', ' ', 'afirmação', ' ', 'que', ' ', 'descreve', ' ', 'o', ' ', 'jovem', ' ', 'relacionado', ' ', 'a', ' ', 'você,', ' ', 'neste', ' ', 'momento', ' ', 'ou', ' ', 'nos', ' ', 'últimos', ' ', 'seis', ' ', 'meses.', ' ', 'Por', ' ', 'favor,', ' ', 'responda', ' ', 'a', ' ', 'todas', ' ', 'as', ' ', 'afirmações', ' ', 'o', ' ', 'melhor', ' ', 'que', ' ', 'possa,', ' ', 'mesmo', ' ', 'que', ' ', 'algumas', ' ', 'não', ' ', 'pareçam', ' ', 'aplicáveis', ' ', 'ao(à)', ' ', '[NOME', ' ', 'DO', ' ', 'JOVEM]', '\\r'], ['0', ' ', '1', ' ', '2', ' ', 'AL1.', ' ', 'É', ' ', 'muito', ' ', 'esquecido(a)', ' ', ' ', '0', ' ', '1', ' ', '2', ' ', 'AL33.', ' ', 'Acha', ' ', 'ou', ' ', 'reclama', ' ', 'que', ' ', 'ninguém', ' ', 'gosta', ' ', 'dele(a)', '\\r'], ['0', ' ', '1', ' ', '2', ' ', 'AL15.', ' ', 'É', ' ', 'bastante', ' ', 'honesto(a)', ' ', ' ', '0', ' ', '1', ' ', '2', ' ', 'AL47.', ' ', 'Falta-lhe', ' ', 'autoconfiança', '\\r'], ['0', ' ', '1', ' ', '2', ' ', 'AL12.', ' ', 'Reclama', ' ', 'de', ' ', 'solidão', ' ', ' ', '0', ' ', '1', ' ', '2', ' ', 'AL44.', ' ', 'Sente-se', ' ', 'sobrecarregado(a)', ' ', 'com', ' ', 'as', ' ', 'responsabilidades', '\\r'], ['0', ' ', '1', ' ', '2', ' ', 'AL21.', ' ', 'Estraga', ' ', 'ou', ' ', 'destrói', ' ', 'as', ' ', 'coisas', ' ', 'de', ' ', 'outros', ' ', ' ', '0', ' ', '1', ' ', '2', ' ', 'AL53.', ' ', 'Tem', ' ', 'problemas', ' ', 'em', ' ', 'fazer', ' ', 'planos', ' ', 'para', ' ', 'o', '\\r'], ['0', ' ', '1', ' ', '2', ' ', 'AL29.', ' ', 'Tem', ' ', 'medo', ' ', 'de', ' ', 'certos', ' ', 'animais,', ' ', 'situações', ' ', 'ou', ' ', 'lugares', ' ', '(descreva):', ' ', '__________________________', '\\r'], ['0', ' ', '1', ' ', '2', ' ', 'AL83.', ' ', 'Entedia-se', ' ', 'com', ' ', 'facilidade', ' ', ' ', '0', ' ', '1', ' ', '2', ' ', 'AL112.', ' ', 'É', ' ', 'preocupado(a)', '\\r'], ['futuro', ' ', '0', ' ', '1', ' ', '2', ' ', 'AL22.', ' ', 'Preocupa-se', ' ', 'com', ' ', 'seu', ' ', 'futuro', ' ', ' ', '0', ' ', '1', ' ', '2', ' ', 'AL54.', ' ', 'Sente-se', ' ', 'cansado(a)', ' ', 'demais', ' ', 'sem', ' ', 'motivo', '\\r'], ['0', ' ', '1', ' ', '2', ' ', 'AL41.', ' ', 'É', ' ', 'impulsivo(a)', ' ', 'ou', ' ', 'age', ' ', 'sem', ' ', 'pensar', '\\r'], ['0', ' ', '1', ' ', '2', ' ', 'AL61.', ' ', 'Seu', ' ', 'desempenho', ' ', 'no', ' ', 'trabalho', ' ', 'é', ' ', 'insatisfatório', ' ', ' ', '0', ' ', '1', ' ', '2', ' ', 'AL90.', ' ', 'Toma', ' ', 'muita', ' ', 'bebida', ' ', 'alcoólica', ' ', 'ou', ' ', 'fica', '\\r'], ['0', ' ', '1', ' ', '2', ' ', 'AL16.', ' ', 'É', ' ', 'cruel,', ' ', 'intimida', ' ', 'ou', ' ', 'faz', ' ', 'maldade', ' ', 'com', ' ', 'outros', ' ', ' ', '0', ' ', '1', ' ', '2', ' ', 'AL48.', ' ', 'As', ' ', 'outras', ' ', 'pessoas', ' ', 'não', ' ', 'gostam', ' ', 'dele(a)', '\\r'], ['0', ' ', '1', ' ', '2', ' ', 'AL121.', ' ', 'Tende', ' ', 'a', ' ', 'se', ' ', 'atrasar', ' ', 'nos', ' ', 'compromissos', '\\r'], ['0', ' ', '1', ' ', '2', ' ', 'AL30.', ' ', 'Suas', ' ', 'relações', ' ', 'com', ' ', 'o', ' ', 'sexo', ' ', 'oposto', ' ', 'são', ' ', 'insatisfatórias', ' ', ' ', '0', ' ', '1', ' ', '2', ' ', 'AL56f.', ' ', 'Dores', ' ', 'de', ' ', 'estômago', ' ', 'ou', ' ', 'de', ' ', 'barriga', '\\r'], ['2', ' ', 'AL95.', ' ', 'Tem', ' ', 'crises', ' ', 'de', ' ', 'birra', ' ', 'ou', ' ', 'é', ' ', 'esquentado(a)', '\\r'], ['0', ' ', '1', ' ', '2', ' ', 'AL5.', ' ', 'Culpa', ' ', 'os', ' ', 'outros', ' ', 'por', ' ', 'seus', ' ', 'próprios', ' ', 'problemas', ' ', ' ', '0', ' ', '1', ' ', '2', ' ', 'AL37.', ' ', 'Mete-se', ' ', 'em', ' ', 'muitas', ' ', 'brigas', '\\r'], ['AL117.', ' ', 'Tem', ' ', 'problemas', ' ', 'para', ' ', 'administrar', ' ', 'seu', ' ', 'dinheiro', ' ', 'ou', ' ', 'cartões', ' ', 'de', ' ', 'crédito', '\\r'], ['AL100.', ' ', 'Tem', ' ', 'problemas', ' ', 'com', ' ', 'o', ' ', 'sono', ' ', '(descreva):___________________________', '\\r'], ['0', ' ', '1', ' ', '2', ' ', 'AL85.', ' ', 'Tem', ' ', 'ideias', ' ', 'estranhas', ' ', '(descreva):', ' ', '___________', ' ', ' ', ' ', ' ', ' ', 'AL114.', ' ', 'Deixa', ' ', 'de', ' ', 'pagar', ' ', 'suas', ' ', 'dívidas', ' ', 'ou', ' ', 'cumprir', '\\r'], ['0', ' ', '1', ' ', '2', ' ', 'AL38.', ' ', 'Suas', ' ', 'relações', ' ', 'com', ' ', 'os', ' ', 'vizinhos', ' ', 'são', ' ', 'insatisfatórias', '\\r'], ['AL119.', ' ', 'Presta', ' ', 'pouca', ' ', 'atenção', ' ', 'aos', ' ', 'detalhes', '\\r'], ['0', ' ', '1', ' ', '2', ' ', 'AL24.', ' ', 'Não', ' ', 'come', ' ', 'tão', ' ', 'bem', ' ', 'quanto', ' ', 'deveria', ' ', ' ', '0', ' ', '1', ' ', '2', ' ', 'AL56.', ' ', 'Tem', ' ', 'problemas', ' ', 'físicos', ' ', 'de', ' ', 'fundo', ' ', 'emocional', ' ', '(sem', ' ', 'causa', ' ', 'médica)', '\\r'], ['0', ' ', '1', ' ', '2', ' ', 'AL73.', ' ', 'Cumpre', ' ', 'suas', ' ', 'responsabilidades', ' ', 'para', ' ', 'com', ' ', 'sua', ' ', 'família', ' ', ' ', '0', ' ', '1', ' ', '2', ' ', 'AL102.', ' ', 'É', ' ', 'pouco', ' ', 'ativo(a),', ' ', 'seus', ' ', 'movimentos', ' ', 'são', '\\r'], ['0', ' ', '1', ' ', '2', ' ', 'AL7.', ' ', 'Gosta', ' ', 'de', ' ', 'contar', ' ', 'vantagem', ' ', ' ', '0', ' ', '1', ' ', '2', ' ', 'AL39.', ' ', 'Anda', ' ', 'em', ' ', 'más', ' ', 'companhias', '\\r'], ['0', ' ', '1', ' ', '2', ' ', 'AL81.', ' ', 'Seu', ' ', 'comportamento', ' ', 'varia', ' ', 'muito', ' ', ' ', '0', ' ', '1', ' ', '2', ' ', 'AL110.', ' ', 'Toma', ' ', 'boas', ' ', 'decisões', '\\r'], ['ABCL5b.', ' ', 'Aproximadamente,', ' ', 'quantas', ' ', 'vezes', ' ', 'por', ' ', 'mês', ' ', 'ele(a)', ' ', 'tem', ' ', 'contato', ' ', 'com', ' ', 'qualquer', ' ', 'um', ' ', 'dos', ' ', 'amigo(a)', ' ', 'próximo(a)?', ' ', '(Incluir', ' ', 'contatos', ' ', 'pessoalmente,', ' ', 'por', ' ', 'telefonemas,', ' ', 'cartas,', ' ', 'e-mails.)', ' ', '(', ' ', ' ', ' ', ')', ' ', '0', ' ', 'Menos', ' ', 'de', ' ', 'um', ' ', '(', ' ', ' ', ' ', ')', ' ', '1', ' ', 'Um', ' ', 'ou', ' ', 'dois', ' ', '(', ' ', ' ', ' ', ')', ' ', '3', ' ', 'Três', ' ', 'ou', ' ', 'quatro', ' ', '(', ' ', ' ', ' ', ')', ' ', '5', ' ', 'Cinco', ' ', 'ou', ' ', 'mais', ' ', '(', ' ', ' ', ' ', ')', ' ', '99', ' ', 'NÃO', ' ', 'SABE', '\\r'], ['0', ' ', '1', ' ', '2', ' ', 'AL9.', ' ', 'Não', ' ', 'consegue', ' ', 'tirar', ' ', 'certos', ' ', 'pensamentos', ' ', 'da', ' ', 'cabeça;', ' ', 'obsessões', ' ', '(descreva):', ' ', '________________', '\\r'], ['ABCL7.', ' ', 'Em', ' ', 'algum', ' ', 'momento', ' ', 'nos', ' ', 'últimos', ' ', 'seis', ' ', 'meses,', ' ', 'ele(a)', ' ', 'viveu', ' ', 'com', ' ', 'um(a)', ' ', 'esposo(a)', ' ', 'ou', ' ', 'companheiro(a)?', ' ', '(', ' ', ' ', ' ', ')', ' ', '1', ' ', 'Sim', ' ', '↓', ' ', 'AB7a', ' ', '(', ' ', ' ', ' ', ')', ' ', '0', ' ', 'Não', ' ', 'à', ' ', 'AB8.', ' ', '(', ' ', ' ', ' ', ')', ' ', '99', ' ', 'NÃO', ' ', 'SABE', ' ', 'à', ' ', 'AB8.', '\\r'], ['0', ' ', '1', ' ', '2', ' ', 'AL115.', ' ', 'É', ' ', 'inquieto', ' ', 'ou', ' ', 'agitado', ' ', ' ', '0', ' ', '1', ' ', '2', ' ', 'AL122.', ' ', 'Tem', ' ', 'dificuldade', ' ', 'em', ' ', 'manter', ' ', 'um', ' ', 'emprego', '\\r'], ['0', ' ', '1', ' ', '2', ' ', 'AL19.', ' ', 'Exige', ' ', 'que', ' ', 'prestem', ' ', 'muita', ' ', 'atenção', ' ', 'nele(a)', ' ', ' ', '0', ' ', '1', ' ', '2', ' ', 'AL51.', ' ', 'Tem', ' ', 'tonturas', '\\r'], ['0', ' ', '1', ' ', '2', ' ', 'AL23.', ' ', 'Desrespeita', ' ', 'as', ' ', 'regras', ' ', 'no', ' ', 'trabalho', ' ', 'ou', ' ', 'em', ' ', 'outros', ' ', 'lugares', ' ', ' ', '0', ' ', '1', ' ', '2', ' ', 'AL55.', ' ', 'Seu', ' ', 'humor', ' ', 'oscila', ' ', 'entre', ' ', 'excitação', ' ', 'e', '\\r'], ['0', ' ', '1', ' ', '2', ' ', 'AL62.', ' ', 'É', ' ', 'desastrado(a),', ' ', 'desajeitado(a)', ' ', '(má', ' ', 'coordenação', ' ', 'motora)', ' ', ' ', '0', ' ', '1', ' ', '2', ' ', 'AL91.', ' ', 'Fala', ' ', 'que', ' ', 'vai', ' ', 'se', ' ', 'matar', '\\r'], ['0', ' ', '1', ' ', '2', ' ', 'AL84.', ' ', 'Tem', ' ', 'comportamento', ' ', 'estranho', ' ', '(descreva):', ' ', '___', ' ', ' ', '0', ' ', '1', ' ', '2', ' ', 'AL113.', ' ', 'Aborrece-se', ' ', 'muito', '\\r'], ['0', ' ', '1', ' ', '2', ' ', 'AL10.', ' ', 'Não', ' ', 'consegue', ' ', 'parar', ' ', 'sentado(a),', ' ', 'não', ' ', 'para', ' ', 'quieto(a)', ' ', 'ou', ' ', 'é', ' ', 'hiperativo(a)', ' ', ' ', '0', ' ', '1', ' ', '2', ' ', 'AL42.', ' ', 'Prefere', ' ', 'estar', ' ', 'sozinho(a)', ' ', 'do', ' ', 'que', ' ', 'ficar', ' ', 'em', '\\r'], ['0', ' ', '1', ' ', '2', ' ', 'AL4.', ' ', 'Desenvolve', ' ', 'suas', ' ', 'habilidades', ' ', ' ', '0', ' ', '1', ' ', '2', ' ', 'AL36.', ' ', 'Machuca-se', ' ', 'com', ' ', 'frequência,', ' ', 'tem', ' ', 'tendência', ' ', 'a', ' ', 'sofrer', ' ', 'acidentes', '\\r'], ['ABCL7a4.', ' ', 'Gosta', ' ', 'das', ' ', 'mesmas', ' ', 'atividades', ' ', 'que', ' ', 'o', ' ', 'esposo(a)', ' ', 'ou', ' ', 'companheiro(a)', ' ', '(', ' ', ' ', ')', ' ', '0', ' ', '(', ' ', ' ', ')', ' ', '1', ' ', '(', ' ', ' ', ')', ' ', '2', '\\r'], ['AL63.', ' ', 'Prefere', ' ', 'estar', ' ', 'com', ' ', 'pessoas', ' ', 'mais', ' ', 'velhas', ' ', 'a', ' ', 'estar', ' ', 'com', ' ', 'pessoas', ' ', 'da', ' ', 'sua', ' ', 'idade', '\\r'], ['AL124.', ' ', 'Nos', ' ', 'últimos', ' ', 'seis', ' ', 'meses,', ' ', 'aproximadamente', ' ', 'quantas', ' ', 'vezes', ' ', 'por', ' ', 'dia', ' ', 'ele(a)', ' ', 'usou', ' ', 'tabaco', ' ', '(inclusive', ' ', 'fumo', ' ', 'de', ' ', 'mascar)?', '\\r'], ['0', ' ', '1', ' ', '2', ' ', 'AL60.', ' ', 'Poucas', ' ', 'coisas', ' ', 'lhe', ' ', 'dão', ' ', 'prazer', ' ', ' ', '0', ' ', '1', ' ', '2', ' ', 'AL89.', ' ', 'Age', ' ', 'precipitadamente,', ' ', 'sem', ' ', 'pensar', ' ', 'nos', ' ', 'riscos', '\\r'], ['ABCL7a6.', ' ', 'Ele(a)', ' ', 'tem', ' ', 'problemas', ' ', 'com', ' ', 'a', ' ', 'família', ' ', 'do', ' ', 'esposo(a)', ' ', 'ou', ' ', 'companheiro(a)', ' ', '(', ' ', ' ', ')', ' ', '0', ' ', '(', ' ', ' ', ')', ' ', '1', ' ', '(', ' ', ' ', ')', ' ', '2', ' ', 'ABCL7a7.', ' ', 'Gosta', ' ', 'dos', ' ', 'amigos', ' ', 'do', ' ', 'esposo(a)', ' ', 'ou', ' ', 'companheiro(a)', ' ', '(', ' ', ' ', ')', ' ', '0', ' ', '(', ' ', ' ', ')', ' ', '1', ' ', '(', ' ', ' ', ')', ' ', '2', ' ', 'ABCL7a8.', ' ', 'Incomoda-se', ' ', 'com', ' ', 'o', ' ', 'comportamento', ' ', 'do', ' ', 'esposo(a)', ' ', 'ou', ' ', 'companheiro(a)', ' ', '(', ' ', ' ', ')', ' ', '0', ' ', '(', ' ', ' ', ')', ' ', '1', ' ', '(', ' ', ' ', ')', ' ', '2', '\\r'], ['0', ' ', '1', ' ', '2', ' ', 'AL75.', ' ', 'É', ' ', 'muito', ' ', 'acanhado(a)', ' ', 'ou', ' ', 'tímido(a)', ' ', ' ', '0', ' ', '1', ' ', '2', ' ', 'AL104.', ' ', 'É', ' ', 'barulhento(a)', ' ', 'demais', ' ', '0', ' ', '1', ' ', '2', ' ', 'AL76.', ' ', 'Comporta-se', ' ', 'de', ' ', 'maneira', ' ', 'irresponsável', ' ', ' ', '0', ' ', '1', ' ', '2', ' ', 'AL105.', ' ', 'É', ' ', 'desorganizado(a)', '\\r'], ['0', ' ', '1', ' ', '2', ' ', 'AL67.', ' ', 'Tem', ' ', 'dificuldades', ' ', 'para', ' ', 'fazer', ' ', 'ou', ' ', 'manter', ' ', 'amigos', ' ', ' ', '0', ' ', '1', ' ', '2', ' ', 'AL96.', ' ', 'É', ' ', 'passivo(a)', ' ', 'ou', ' ', 'sem', ' ', 'iniciativa', '\\r'], ['ABCL5a.', ' ', 'Aproximadamente', ' ', 'quantos(as)', ' ', 'amigos(as)', ' ', 'próximos(as)', ' ', 'ele(a)', ' ', 'tem?', ' ', '(Não', ' ', 'incluir', ' ', 'pessoas', ' ', 'da', ' ', 'família)', ' ', '(', ' ', ' ', ' ', ')', ' ', '0', ' ', 'Nenhum', ' ', '(', ' ', ' ', ' ', ')', ' ', '1', ' ', 'Um', ' ', '(', ' ', ' ', ' ', ')', ' ', '2', ' ', 'Dois', ' ', 'ou', ' ', 'três', ' ', '(', ' ', ' ', ' ', ')', ' ', '4', ' ', 'Quatro', ' ', 'ou', ' ', 'mais', ' ', '(', ' ', ' ', ' ', ')', ' ', '99', ' ', 'NÃO', ' ', 'SABE', '\\r'], ['AL126.', ' ', 'Nos', ' ', 'últimos', ' ', 'seis', ' ', 'meses,', ' ', 'quantos', ' ', 'dias', ' ', 'ele(a)', ' ', 'usou', ' ', 'drogas', ' ', 'para', ' ', 'fins', ' ', 'não', ' ', 'medicinais', ' ', '(inclusive', ' ', 'maconha,', ' ', 'cocaína', ' ', 'e', ' ', 'outras', ' ', 'drogas,', ' ', 'exceto', ' ', 'álcool', ' ', 'e', ' ', 'nicotina)?', '\\r'], ['ABCL7a5.', ' ', 'Discorda', ' ', 'do', ' ', 'esposo(a)', ' ', 'ou', ' ', 'companheiro(a)', ' ', 'sobre', ' ', 'questões', ' ', 'de', ' ', 'administração', ' ', 'do', ' ', 'lar,', ' ', 'como', ' ', 'onde', ' ', 'morar', ' ', '(', ' ', ' ', ')', ' ', '0', ' ', '(', ' ', ' ', ')', ' ', '1', ' ', '(', ' ', ' ', ')', ' ', '2', '\\r'], ['0', ' ', '1', ' ', '2', ' ', 'AL118.', ' ', 'É', ' ', 'muito', ' ', 'impaciente', ' ', '_____________dias', '\\r'], ['0', ' ', '1', ' ', '2', ' ', 'AL87.', ' ', 'Tem', ' ', 'mudanças', ' ', 'repentinas', ' ', 'de', ' ', 'humor', ' ', 'ou', ' ', 'de', ' ', 'sentimentos', '\\r'], ['0', ' ', '1', ' ', '2', ' ', 'AL28.', ' ', 'Não', ' ', 'se', ' ', 'dá', ' ', 'bem', ' ', 'com', ' ', 'a', ' ', 'família', ' ', ' ', '0', ' ', '1', ' ', '2', ' ', 'AL56d.', ' ', 'Problemas', ' ', 'com', ' ', 'os', ' ', 'olhos', ' ', '(que', ' ', 'não', ' ', 'são', ' ', 'corrigidos', ' ', 'com', ' ', 'o', ' ', 'uso', ' ', 'de', ' ', 'óculos)', ' ', '(descreva):', ' ', '______________', '\\r'], ['0', ' ', '1', ' ', '2', ' ', 'AL64.', ' ', 'Tem', ' ', 'dificuldades', ' ', 'em', ' ', 'estabelecer', ' ', 'prioridades', ' ', ' ', '0', ' ', '1', ' ', '2', ' ', 'AL93.', ' ', 'Fala', ' ', 'demais', '\\r'], ['AL71.', ' ', 'Fica', ' ', 'sem', ' ', 'jeito', ' ', 'na', ' ', 'frente', ' ', 'das', ' ', 'pessoas', ' ', 'com', ' ', 'facilidade,', ' ', 'preocupado(a)', ' ', 'com', ' ', 'o', ' ', 'que', ' ', 'os', ' ', 'outros', ' ', 'vão', ' ', 'pensar', ' ', 'dele(a)', '\\r'], ['0', ' ', '1', ' ', '2', ' ', 'AL59.', ' ', 'Deixa', ' ', 'incompletas', ' ', 'as', ' ', 'coisas', ' ', 'que', ' ', 'deveria', ' ', 'fazer', ' ', ' ', '0', ' ', '1', ' ', '2', ' ', 'AL88.', ' ', 'Gosta', ' ', 'de', ' ', 'estar', ' ', 'com', ' ', 'pessoas', '\\r'], ['0', ' ', '1', ' ', '2', ' ', 'AL25.', ' ', 'Não', ' ', 'se', ' ', 'dá', ' ', 'bem', ' ', 'com', ' ', 'outras', ' ', 'pessoas', ' ', ' ', '0', ' ', '1', ' ', '2', ' ', 'AL56a.', ' ', 'Dores', ' ', '(exceto', ' ', 'de', ' ', 'cabeça', ' ', 'e', ' ', 'de', ' ', 'estômago)', '\\r'], ['0', ' ', '1', ' ', '2', ' ', 'AL8.', ' ', 'Não', ' ', 'consegue', ' ', 'concentrar-se,', ' ', 'não', ' ', 'consegue', ' ', 'prestar', ' ', 'atenção', ' ', 'muito', ' ', 'tempo', ' ', ' ', '0', ' ', '1', ' ', '2', '\\r'], ['0', ' ', '1', ' ', '2', ' ', 'AL80.', ' ', 'Fica', ' ', 'com', ' ', 'o', ' ', 'olhar', ' ', 'parado,', ' ', '“olhando', ' ', 'o', ' ', 'vazio”', ' ', ' ', '0', ' ', '1', ' ', '2', ' ', 'AL109.', ' ', 'Gosta', ' ', 'de', ' ', 'experimentar', ' ', 'coisas', ' ', 'novas', '\\r'], ['0', ' ', '1', ' ', '2', ' ', 'AL27.', ' ', 'Sente', ' ', 'ciúme', ' ', 'ou', ' ', 'inveja', ' ', 'com', ' ', 'facilidade', ' ', ' ', '0', ' ', '1', ' ', '2', ' ', 'AL56c.', ' ', 'Náuseas,', ' ', 'enjoos', '\\r'], ['0', ' ', '1', ' ', '2', ' ', 'AL72.', ' ', 'Preocupa-se', ' ', 'com', ' ', 'sua', ' ', 'família', ' ', ' ', '0', ' ', '1', ' ', '2', ' ', 'AL101.', ' ', 'Falta', ' ', 'ao', ' ', 'trabalho,', ' ', 'mesmo', ' ', 'quando', ' ', 'não', ' ', 'está', ' ', 'doente', ' ', 'ou', ' ', 'de', ' ', 'férias', '\\r'], ['0', ' ', '1', ' ', '2', ' ', 'AL3.', ' ', 'Discute', ' ', 'muito', ' ', ' ', '0', ' ', '1', ' ', '2', ' ', 'AL35.', ' ', 'Sente-se', ' ', 'sem', ' ', 'valor', ' ', 'ou', ' ', 'inferior', ' ', 'aos', ' ', 'outros', '\\r'], ['ABCL9.', ' ', 'Por', ' ', 'favor,', ' ', 'descreva', ' ', 'quaisquer', ' ', 'preocupações', ' ', 'que', ' ', 'você', ' ', 'tenha', ' ', 'sobre', ' ', 'ele:', '\\r'], ['0', ' ', '1', ' ', '2', ' ', 'AL65.', ' ', 'Recusa-se', ' ', 'a', ' ', 'falar', ' ', ' ', '0', ' ', '1', ' ', '2', ' ', 'AL94.', ' ', 'Gosta', ' ', 'de', ' ', 'gozar', ' ', 'dos', ' ', 'outros', '\\r'], ['0', ' ', '1', ' ', '2', ' ', 'AL18.', ' ', 'Machuca-se', ' ', 'de', ' ', 'propósito', ' ', 'ou', ' ', 'já', ' ', 'tentou', ' ', 'se', ' ', 'matar', ' ', ' ', '0', ' ', '1', ' ', '2', ' ', 'AL50.', ' ', 'É', ' ', 'muito', ' ', 'medroso(a)', ' ', 'ou', ' ', 'ansioso(a)', '\\r'], ['AL125.', ' ', 'Nos', ' ', 'últimos', ' ', 'seis', ' ', 'meses,', ' ', 'quantos', ' ', 'dias', ' ', 'ele(a)', ' ', 'ficou', ' ', 'bêbado?', '\\r'], ['ABCL7a', ' ', 'Agora', ' ', 'por', ' ', 'favor,', ' ', 'circule', ' ', '0,', ' ', '1', ' ', 'ou', ' ', '2', ' ', 'ao', ' ', 'lado', ' ', 'das', ' ', 'afirmações', ' ', 'abaixo', ' ', 'para', ' ', 'descrever', ' ', 'o', ' ', 'relacionamento', ' ', 'dele(a)', ' ', 'nos', ' ', 'últimos', ' ', 'seis', ' ', 'meses:', '\\r'], ['ABCL5c.', ' ', 'Até', ' ', 'que', ' ', 'ponto', ' ', 'ele(a)', ' ', 'se', ' ', 'dá', ' ', 'bem', ' ', 'com', ' ', 'amigos(as)', ' ', 'próximos?', ' ', '(', ' ', ' ', ' ', ')', ' ', '0', ' ', 'Não', ' ', 'se', ' ', 'dá', ' ', 'bem', ' ', '(', ' ', ' ', ' ', ')', ' ', '1', ' ', 'Na', ' ', 'média', ' ', '(', ' ', ' ', ' ', ')', ' ', '2', ' ', 'Acima', ' ', 'da', ' ', 'média', ' ', '(', ' ', ' ', ' ', ')', ' ', '3', ' ', 'Bem', ' ', 'acima', ' ', 'da', ' ', 'média', ' ', '(', ' ', ' ', ' ', ')', ' ', '99', ' ', 'NÃO', ' ', 'SABE', '\\r'], ['O', ' ', 'jovem', ' ', '...', ' ', 'Não', ' ', 'é', ' ', 'verdadeira', '\\r'], ['0', ' ', '1', ' ', '2', ' ', 'AL31.', ' ', 'Tem', ' ', 'medo', ' ', 'de', ' ', 'pensar', ' ', 'ou', ' ', 'fazer', ' ', 'alguma', ' ', 'coisa', ' ', 'má', ' ', ' ', '0', ' ', '1', ' ', '2', ' ', 'AL56g.', ' ', 'Vômitos', '\\r'], ['0', ' ', '1', ' ', '2', ' ', 'AL32.', ' ', 'Acha', ' ', 'que', ' ', 'tem', ' ', 'que', ' ', 'fazer', ' ', 'tudo', ' ', 'perfeito', '\\r'], ['0', ' ', '1', ' ', '2', ' ', 'AL68.', ' ', 'Grita', ' ', 'muito', ' ', ' ', '0', ' ', '1', ' ', '2', ' ', 'AL97.', ' ', 'Ameaça', ' ', 'machucar', ' ', 'as', ' ', 'pessoas', '\\r'], ['0', ' ', '1', ' ', '2', ' ', 'AL17.', ' ', 'Vive', ' ', 'no', ' ', '“mundo', ' ', 'da', ' ', 'lua”', ' ', 'ou', ' ', 'perde-se', ' ', 'em', ' ', 'seus', ' ', 'pensamentos', ' ', ' ', '0', ' ', '1', ' ', '2', ' ', 'AL49.', ' ', 'Pode', ' ', 'fazer', ' ', 'certas', ' ', 'coisas', ' ', 'melhor', ' ', 'do', ' ', 'que', '\\r'], ['0', ' ', '1', ' ', '2', ' ', 'AL13.', ' ', 'Fica', ' ', 'confuso(a)', ' ', 'ou', ' ', 'desorientado(a)', ' ', ' ', '0', ' ', '1', ' ', '2', ' ', 'AL45.', ' ', 'É', ' ', 'nervoso(a)', ' ', 'ou', ' ', 'tenso(a)', '\\r'], ['0', ' ', '1', ' ', '2', ' ', 'AL77.', ' ', 'Dorme', ' ', 'mais', ' ', 'do', ' ', 'que', ' ', 'a', ' ', 'maioria', ' ', 'das', ' ', 'pessoas', ' ', 'durante', ' ', 'o', ' ', 'dia', ' ', 'e/ou', ' ', 'a', ' ', 'noite', ' ', '(descreva):', ' ', '__________', '\\r'], ['0', ' ', '1', ' ', '2', ' ', 'AL6.', ' ', 'Usa', ' ', 'drogas', ' ', '(que', ' ', 'não', ' ', 'álcool', ' ', 'ou', ' ', 'nicotina)', ' ', 'sem', ' ', 'fins', ' ', 'medicinais', ' ', '(descreva):', ' ', '_______________________', '\\r'], ['0', ' ', '1', ' ', '2', ' ', 'AL26.', ' ', 'Não', ' ', 'se', ' ', 'sente', ' ', 'culpado', ' ', 'depois', ' ', 'de', ' ', 'se', ' ', 'comportar', ' ', 'mal', ' ', ' ', '0', ' ', '1', ' ', '2', ' ', 'AL56b.', ' ', 'Dores', ' ', 'de', ' ', 'cabeça', '\\r'], ['0', ' ', '1', ' ', '2', ' ', 'AL57.', ' ', 'Ataca', ' ', 'fisicamente', ' ', 'as', ' ', 'pessoas', ' ', ' ', '0', ' ', '1', ' ', '2', ' ', 'AL86.', ' ', 'É', ' ', 'teimoso(a),', ' ', 'mal', ' ', 'humorado(a)', ' ', 'ou', ' ', 'fácil', ' ', 'de', ' ', 'se', ' ', 'irritar', '\\r'], ['0', ' ', '1', ' ', '2', ' ', 'AL78.', ' ', 'Tem', ' ', 'dificuldades', ' ', 'para', ' ', 'tomar', ' ', 'decisões', ' ', ' ', '0', ' ', '1', ' ', '2', ' ', 'AL107.', ' ', 'Sente', ' ', 'que', ' ', 'não', ' ', 'é', ' ', 'capaz', ' ', 'de', ' ', 'ter', ' ', 'sucesso', '\\r'], [], ['2', ' ', 'I', ' ', 'feel', ' ', 'sad', ' ', 'or', ' ', 'empty', ' ', 'Never', ' ', 'Sometimes', ' ', 'Often', ' ', 'Always', '\\r'], ['28', ' ', 'When', ' ', 'I', ' ', 'have', ' ', 'a', ' ', 'problem,', ' ', 'I', ' ', 'feel', ' ', 'shaky', ' ', 'Never', ' ', 'Sometimes', ' ', 'Often', ' ', 'Always', '\\r'], ['Please', ' ', 'put', ' ', 'a', ' ', 'circle', ' ', 'around', ' ', 'the', ' ', 'word', ' ', 'that', ' ', 'shows', ' ', 'how', ' ', 'often', ' ', 'each', ' ', 'of', ' ', 'these', ' ', 'things', ' ', 'happens', ' ', 'to', ' ', 'you.', ' ', 'There', ' ', 'are', ' ', 'no', ' ', 'right', ' ', 'or', ' ', 'wrong', ' ', 'answers.', '\\r'], ['32', ' ', 'I', ' ', 'worry', ' ', 'what', ' ', 'other', ' ', 'people', ' ', 'think', ' ', 'of', ' ', 'me', ' ', 'Never', ' ', 'Sometimes', ' ', 'Often', ' ', 'Always', '\\r'], ['4', ' ', 'I', ' ', 'worry', ' ', 'when', ' ', 'I', ' ', 'think', ' ', 'I', ' ', 'have', ' ', 'done', ' ', 'poorly', ' ', 'at', ' ', 'something', ' ', 'Never', ' ', 'Sometimes', ' ', 'Often', ' ', 'Always', '\\r'], ['35', ' ', 'I', ' ', 'worry', ' ', 'about', ' ', 'what', ' ', 'is', ' ', 'going', ' ', 'to', ' ', 'happen', ' ', 'Never', ' ', 'Sometimes', ' ', 'Often', ' ', 'Always', '\\r'], ['16', ' ', 'I', ' ', 'have', ' ', 'to', ' ', 'keep', ' ', 'checking', ' ', 'that', ' ', 'I', ' ', 'have', ' ', 'done', ' ', 'things', ' ', 'right', ' ', '(like', ' ', 'the', ' ', 'switch', ' ', 'is', ' ', 'off,', ' ', 'or', ' ', 'the', ' ', 'door', ' ', 'is', ' ', 'locked)', '\\r'], ['30', ' ', 'I', ' ', 'worry', ' ', 'about', ' ', 'making', ' ', 'mistakes', ' ', 'Never', ' ', 'Sometimes', ' ', 'Often', ' ', 'Always', '\\r'], ['11', ' ', 'I', ' ', 'have', ' ', 'trouble', ' ', 'sleeping', ' ', 'Never', ' ', 'Sometimes', ' ', 'Often', ' ', 'Always', '\\r'], ['24', ' ', 'When', ' ', 'I', ' ', 'have', ' ', 'a', ' ', 'problem,', ' ', 'my', ' ', 'heart', ' ', 'beats', ' ', 'really', ' ', 'fast', ' ', 'Never', ' ', 'Sometimes', ' ', 'Often', ' ', 'Always', '\\r'], ['9', ' ', 'I', ' ', 'worry', ' ', 'about', ' ', 'being', ' ', 'away', ' ', 'from', ' ', 'my', ' ', 'parent', ' ', 'Never', ' ', 'Sometimes', ' ', 'Often', ' ', 'Always', '\\r'], ['31', ' ', 'I', ' ', 'have', ' ', 'to', ' ', 'think', ' ', 'of', ' ', 'special', ' ', 'thoughts', ' ', '(like', ' ', 'numbers', ' ', 'or', ' ', 'words)', ' ', 'to', ' ', 'stop', ' ', 'bad', ' ', 'things', ' ', 'from', ' ', 'happening', '\\r'], ['17', ' ', 'I', ' ', 'feel', ' ', 'scared', ' ', 'if', ' ', 'I', ' ', 'have', ' ', 'to', ' ', 'sleep', ' ', 'on', ' ', 'my', ' ', 'own', ' ', 'Never', ' ', 'Sometimes', ' ', 'Often', ' ', 'Always', '\\r'], ['18', ' ', 'I', ' ', 'have', ' ', 'trouble', ' ', 'going', ' ', 'to', ' ', 'school', ' ', 'in', ' ', 'the', ' ', 'mornings', ' ', 'because', ' ', 'I', ' ', 'feel', ' ', 'nervous', ' ', 'or', ' ', 'afraid', '\\r'], ['27', ' ', 'I', ' ', 'worry', ' ', 'that', ' ', 'something', ' ', 'bad', ' ', 'will', ' ', 'happen', ' ', 'to', ' ', 'me', ' ', 'Never', ' ', 'Sometimes', ' ', 'Often', ' ', 'Always', '\\r'], ['39', ' ', 'My', ' ', 'heart', ' ', 'suddenly', ' ', 'starts', ' ', 'to', ' ', 'beat', ' ', 'too', ' ', 'quickly', ' ', 'for', ' ', 'no', ' ', 'reason', ' ', 'Never', ' ', 'Sometimes', ' ', 'Often', ' ', 'Always', '\\r'], ['43', ' ', 'I', ' ', 'feel', ' ', 'afraid', ' ', 'that', ' ', 'I', ' ', 'will', ' ', 'make', ' ', 'a', ' ', 'fool', ' ', 'of', ' ', 'myself', ' ', 'in', ' ', 'front', ' ', 'of', ' ', 'people', '\\r'], ['8', ' ', 'I', ' ', 'feel', ' ', 'worried', ' ', 'when', ' ', 'I', ' ', 'think', ' ', 'someone', ' ', 'is', ' ', 'angry', ' ', 'with', ' ', 'me', ' ', 'Never', ' ', 'Sometimes', ' ', 'Often', ' ', 'Always', '\\r'], ['20', ' ', 'I', ' ', 'worry', ' ', 'I', ' ', 'might', ' ', 'look', ' ', 'foolish', ' ', 'Never', ' ', 'Sometimes', ' ', 'Often', ' ', 'Always', '\\r'], ['15', ' ', 'I', ' ', 'have', ' ', 'problems', ' ', 'with', ' ', 'my', ' ', 'appetite', ' ', 'Never', ' ', 'Sometimes', ' ', 'Often', ' ', 'Always', '\\r'], ['37', ' ', 'I', ' ', 'think', ' ', 'about', ' ', 'death', ' ', 'Never', ' ', 'Sometimes', ' ', 'Often', ' ', 'Always', '\\r'], ['22', ' ', 'I', ' ', 'worry', ' ', 'that', ' ', 'bad', ' ', 'things', ' ', 'will', ' ', 'happen', ' ', 'to', ' ', 'me', ' ', 'Never', ' ', 'Sometimes', ' ', 'Often', ' ', 'Always', '\\r'], ['38', ' ', 'I', ' ', 'feel', ' ', 'afraid', ' ', 'if', ' ', 'I', ' ', 'have', ' ', 'to', ' ', 'talk', ' ', 'in', ' ', 'front', ' ', 'of', ' ', 'my', ' ', 'class', ' ', 'Never', ' ', 'Sometimes', ' ', 'Often', ' ', 'Always', '\\r'], ['33', ' ', 'I', ' ', 'am', ' ', 'afraid', ' ', 'of', ' ', 'being', ' ', 'in', ' ', 'crowded', ' ', 'places', ' ', '(like', ' ', 'shopping', ' ', 'centers,', ' ', 'the', ' ', 'movies,', ' ', 'buses,', ' ', 'busy', ' ', 'playgrounds)', '\\r'], ['44', ' ', 'I', ' ', 'have', ' ', 'to', ' ', 'do', ' ', 'some', ' ', 'things', ' ', 'in', ' ', 'just', ' ', 'the', ' ', 'right', ' ', 'way', ' ', 'to', ' ', 'stop', ' ', 'bad', ' ', 'things', ' ', 'from', ' ', 'happening', '\\r'], ['41', ' ', 'I', ' ', 'worry', ' ', 'that', ' ', 'I', ' ', 'will', ' ', 'suddenly', ' ', 'get', ' ', 'a', ' ', 'scared', ' ', 'feeling', ' ', 'when', ' ', 'there', ' ', 'is', ' ', 'nothing', ' ', 'to', ' ', 'be', ' ', 'afraid', ' ', 'of', '\\r'], ['47', ' ', 'I', ' ', 'feel', ' ', 'restless', ' ', 'Never', ' ', 'Sometimes', ' ', 'Often', ' ', 'Always', '\\r'], ['7', ' ', 'I', ' ', 'feel', ' ', 'scared', ' ', 'when', ' ', 'I', ' ', 'have', ' ', 'to', ' ', 'take', ' ', 'a', ' ', 'test', ' ', 'Never', ' ', 'Sometimes', ' ', 'Often', ' ', 'Always', '\\r'], ['3', ' ', 'When', ' ', 'I', ' ', 'have', ' ', 'a', ' ', 'problem,', ' ', 'I', ' ', 'get', ' ', 'a', ' ', 'funny', ' ', 'feeling', ' ', 'in', ' ', 'my', ' ', 'stomach', ' ', 'Never', ' ', 'Sometimes', ' ', 'Often', ' ', 'Always', '\\r'], ['45', ' ', 'I', ' ', 'worry', ' ', 'when', ' ', 'I', ' ', 'go', ' ', 'to', ' ', 'bed', ' ', 'at', ' ', 'night', ' ', 'Never', ' ', 'Sometimes', ' ', 'Often', ' ', 'Always', '\\r'], ['12', ' ', 'I', ' ', 'worry', ' ', 'that', ' ', 'I', ' ', 'will', ' ', 'do', ' ', 'badly', ' ', 'at', ' ', 'my', ' ', 'school', ' ', 'work', ' ', 'Never', ' ', 'Sometimes', ' ', 'Often', ' ', 'Always', '\\r'], ['1', ' ', 'I', ' ', 'worry', ' ', 'about', ' ', 'things', ' ', 'Never', ' ', 'Sometimes', ' ', 'Often', ' ', 'Always', '\\r'], ['26', ' ', 'I', ' ', 'suddenly', ' ', 'start', ' ', 'to', ' ', 'tremble', ' ', 'or', ' ', 'shake', ' ', 'when', ' ', 'there', ' ', 'is', ' ', 'no', ' ', 'reason', ' ', 'for', ' ', 'this', '\\r'], ['46', ' ', 'I', ' ', 'would', ' ', 'feel', ' ', 'scared', ' ', 'if', ' ', 'I', ' ', 'had', ' ', 'to', ' ', 'stay', ' ', 'away', ' ', 'from', ' ', 'home', ' ', 'overnight', '\\r'], ['Child/', ' ', 'Young', ' ', 'Person’s', ' ', 'NAME:', '\\r'], ['34', ' ', 'All', ' ', 'of', ' ', 'a', ' ', 'sudden', ' ', 'I', ' ', 'feel', ' ', 'really', ' ', 'scared', ' ', 'for', ' ', 'no', ' ', 'reason', ' ', 'at', ' ', 'all', ' ', 'Never', ' ', 'Sometimes', ' ', 'Often', ' ', 'Always', '\\r'], ['13', ' ', 'I', ' ', 'worry', ' ', 'that', ' ', 'something', ' ', 'awful', ' ', 'will', ' ', 'happen', ' ', 'to', ' ', 'someone', ' ', 'in', ' ', 'my', ' ', 'family', '\\r'], ['40', ' ', 'I', ' ', 'feel', ' ', 'like', ' ', 'I', ' ', 'don’t', ' ', 'want', ' ', 'to', ' ', 'move', ' ', 'Never', ' ', 'Sometimes', ' ', 'Often', ' ', 'Always', '\\r'], ['19', ' ', 'I', ' ', 'have', ' ', 'no', ' ', 'energy', ' ', 'for', ' ', 'things', ' ', 'Never', ' ', 'Sometimes', ' ', 'Often', ' ', 'Always', '\\r'], ['42', ' ', 'I', ' ', 'have', ' ', 'to', ' ', 'do', ' ', 'some', ' ', 'things', ' ', 'over', ' ', 'and', ' ', 'over', ' ', 'again', ' ', '(like', ' ', 'washing', ' ', 'my', ' ', 'hands,', ' ', 'cleaning', ' ', 'or', ' ', 'putting', ' ', 'things', ' ', 'in', ' ', 'a', ' ', 'certain', ' ', 'order)', '\\r'], ['5', ' ', 'I', ' ', 'would', ' ', 'feel', ' ', 'afraid', ' ', 'of', ' ', 'being', ' ', 'on', ' ', 'my', ' ', 'own', ' ', 'at', ' ', 'home', ' ', 'Never', ' ', 'Sometimes', ' ', 'Often', ' ', 'Always', '\\r'], [], ['Sim', ' ', '–', ' ', 'dificuldades', ' ', 'bem', ' ', 'definidas', '\\r'], ['SDQ1.', ' ', 'Tento', ' ', 'ser', ' ', 'legal', ' ', 'com', ' ', 'as', ' ', 'outras', ' ', 'pessoas.', ' ', 'Eu', ' ', 'me', ' ', 'preocupo', ' ', 'com', ' ', 'os', ' ', 'sentimentos', ' ', 'dos', ' ', 'outros', ' ', '0', ' ', '1', ' ', '2', ' ', 'SDQ2.', ' ', 'Sou', ' ', 'inquieto/a,', ' ', 'é', ' ', 'difícil', ' ', 'para', ' ', 'mim', ' ', 'ficar', ' ', 'sentado', ' ', 'por', ' ', 'muito', ' ', 'tempo', ' ', '0', ' ', '1', ' ', '2', ' ', 'SDQ3.', ' ', 'Muitas', ' ', 'vezes', ' ', 'tenho', ' ', 'dor', ' ', 'de', ' ', 'cabeça,', ' ', 'dor', ' ', 'de', ' ', 'barriga', ' ', 'ou', ' ', 'enjôo', ' ', '0', ' ', '1', ' ', '2', ' ', 'SDQ4.', ' ', 'Geralmente', ' ', 'me', ' ', 'disponho', ' ', 'a', ' ', 'dividir', ' ', 'com', ' ', 'os', ' ', 'outros', ' ', '(ex.', ' ', 'comida', ' ', 'ou', ' ', 'bebida)', ' ', '0', ' ', '1', ' ', '2', ' ', 'SDQ5.', ' ', 'Fico', ' ', 'muito', ' ', 'bravo/a', ' ', 'e', ' ', 'geralmente', ' ', 'perco', ' ', 'a', ' ', 'paciência', ' ', '0', ' ', '1', ' ', '2', ' ', 'SDQ6.', ' ', 'Prefiro', ' ', 'estar', ' ', 'sozinho/a', ' ', 'do', ' ', 'que', ' ', 'com', ' ', 'outras', ' ', 'pessoas', ' ', '0', ' ', '1', ' ', '2', ' ', 'SDQ7.', ' ', 'Geralmente', ' ', 'estou', ' ', 'disposto/a', ' ', 'a', ' ', 'fazer', ' ', 'o', ' ', 'que', ' ', 'as', ' ', 'outras', ' ', 'pessoas', ' ', 'querem', ' ', '2', ' ', '1', ' ', '0', ' ', 'SDQ8.', ' ', 'Tenho', ' ', 'muitas', ' ', 'preocupações,', ' ', 'muitas', ' ', 'vezes', ' ', 'pareço', ' ', 'preocupado/a', ' ', 'com', ' ', 'tudo', ' ', '0', ' ', '1', ' ', '2', ' ', 'SDQ9.', ' ', 'Tento', ' ', 'ajudar', ' ', 'se', ' ', 'alguém', ' ', 'parece', ' ', 'magoado,', ' ', 'aflito', ' ', 'ou', ' ', 'sentindo-', ' ', 'se', ' ', 'mal', ' ', '0', ' ', '1', ' ', '2', ' ', 'SDQ10.', ' ', 'Estou', ' ', 'sempre', ' ', 'agitado/a,', ' ', 'balançando', ' ', 'as', ' ', 'pernas', ' ', 'ou', ' ', 'mexendo', ' ', 'as', ' ', 'mãos', ' ', '0', ' ', '1', ' ', '2', ' ', 'SDQ11.', ' ', 'Eu', ' ', 'tenho', ' ', 'pelo', ' ', 'menos', ' ', 'um', ' ', 'bom', ' ', 'amigo', ' ', 'ou', ' ', 'amiga', ' ', '2', ' ', '1', ' ', '0', ' ', 'SDQ12.', ' ', 'Brigo', ' ', 'muito.', ' ', 'Consigo', ' ', 'fazer', ' ', 'com', ' ', 'que', ' ', 'as', ' ', 'pessoas', ' ', 'façam', ' ', 'o', ' ', 'que', ' ', 'eu', ' ', 'quero', ' ', '0', ' ', '1', ' ', '2', ' ', 'SDQ13.', ' ', 'Frequentemente', ' ', 'estou', ' ', 'chateado/a,', ' ', 'desanimado/a', ' ', 'ou', ' ', 'choroso/a', ' ', '0', ' ', '1', ' ', '2', ' ', 'SDQ14.', ' ', 'Outras', ' ', 'pessoas', ' ', 'geralmente', ' ', 'gostam', ' ', 'de', ' ', 'mim', ' ', '2', ' ', '1', ' ', '0', ' ', 'SDQ15.', ' ', 'Facilmente', ' ', 'perco', ' ', 'a', ' ', 'concentração', ' ', '0', ' ', '1', ' ', '2', ' ', 'SDQ16.', ' ', 'Fico', ' ', 'nervoso/a', ' ', 'quando', ' ', 'tenho', ' ', 'que', ' ', 'fazer', ' ', 'alguma', ' ', 'coisa', ' ', 'diferente,', ' ', 'facilmente', ' ', 'perco', ' ', 'a', ' ', 'confiança', ' ', 'em', ' ', 'mim', ' ', 'mesmo', ' ', '0', ' ', '1', ' ', '2', ' ', 'SDQ17.', ' ', 'Sou', ' ', 'legal', ' ', 'com', ' ', 'crianças', ' ', '0', ' ', '1', ' ', '2', ' ', 'SDQ18.', ' ', 'Frequentemente', ' ', 'sou', ' ', 'acusado/a', ' ', 'de', ' ', 'mentir', ' ', 'ou', ' ', 'trapacear', ' ', '0', ' ', '1', ' ', '2', ' ', 'SDQ19.', ' ', 'Outras', ' ', 'pessoas', ' ', '\"pegam', ' ', 'no', ' ', 'meu', ' ', 'pé\"', ' ', 'ou', ' ', 'fazem', ' ', 'bullying', ' ', 'comigo', ' ', '0', ' ', '1', ' ', '2', ' ', 'SDQ20.', ' ', 'Frequentemente', ' ', 'me', ' ', 'ofereço', ' ', 'para', ' ', 'ajudar', ' ', 'os', ' ', 'outros', ' ', '(pessoas', ' ', 'da', ' ', 'família,', ' ', 'amigos,', ' ', 'colegas)', ' ', '0', ' ', '1', ' ', '2', ' ', 'SDQ21.', ' ', 'Penso', ' ', 'antes', ' ', 'de', ' ', 'fazer', ' ', 'as', ' ', 'coisas', ' ', '2', ' ', '1', ' ', '0', ' ', 'SDQ22.', ' ', 'Pego', ' ', 'para', ' ', 'mim', ' ', 'coisas', ' ', 'que', ' ', 'não', ' ', 'são', ' ', 'minhas,', ' ', 'de', ' ', 'casa,', ' ', 'do', ' ', 'trabalho', ' ', 'ou', ' ', 'de', ' ', 'outros', ' ', 'lugares', ' ', '0', ' ', '1', ' ', '2', ' ', 'SDQ23.', ' ', 'Eu', ' ', 'me', ' ', 'dou', ' ', 'melhor', ' ', 'com', ' ', 'pessoas', ' ', 'mais', ' ', 'velhas', ' ', 'do', ' ', 'que', ' ', 'com', ' ', 'pessoas', ' ', 'da', ' ', 'minha', ' ', 'idade', ' ', '0', ' ', '1', ' ', '2', ' ', 'SDQ24.', ' ', 'Sinto', ' ', 'muito', ' ', 'medo.', ' ', 'Eu', ' ', 'me', ' ', 'assusto', ' ', 'facilmente', ' ', '0', ' ', '1', ' ', '2', ' ', 'SDQ25.', ' ', 'Consigo', ' ', 'terminar', ' ', 'as', ' ', 'atividades', ' ', 'que', ' ', 'começo', ' ', 'e', ' ', 'prestar', ' ', 'atenção', ' ', '2', ' ', '1', ' ', '0', ' ', 'SUB-TOTAIS', '\\r'], ['SDQ26.', ' ', 'De', ' ', 'forma', ' ', 'geral,', ' ', 'você', ' ', 'acha', ' ', 'que', ' ', 'você', ' ', 'tem', ' ', 'dificuldades', ' ', 'em', ' ', 'uma', ' ', 'ou', ' ', 'mais', ' ', 'das', ' ', 'seguintes', ' ', 'áreas:', ' ', 'emoções,', ' ', 'concentração,', ' ', 'comportamento', ' ', 'ou', ' ', 'ser', ' ', 'capaz', ' ', 'de', ' ', 'se', ' ', 'relacionar', ' ', 'com', ' ', 'outras', ' ', 'pessoas?', '\\r'], ['Nada', ' ', 'Um', ' ', 'pouco', ' ', 'Muito', ' ', 'Extremamente', ' ', 'SDQ26c.', ' ', 'Relacionamento', ' ', 'com', ' ', 'pessoas', ' ', 'próximas', ' ', '(ex.', ' ', 'família,', ' ', 'esposo/a)', '\\r'], ['•', ' ', 'Estas', ' ', 'dificuldades', ' ', 'atrapalham', ' ', 'o', ' ', 'seu', ' ', 'dia-a-dia', ' ', 'em', ' ', 'alguma', ' ', 'das', ' ', 'situações', ' ', 'abaixo?', '\\r'], ['SDQ26d.', ' ', 'Fazer', ' ', 'e', ' ', 'manter', ' ', 'amigos', ' ', '(', ' ', ' ', ')', ' ', '0', '\\r'], ['SDQ26a.', ' ', 'Há', ' ', 'quanto', ' ', 'tempo', ' ', 'estas', ' ', 'dificuldades', ' ', 'existem?', '\\r'], ['Questionário', ' ', 'de', ' ', 'Capacidades', ' ', 'e', ' ', 'Dificuldades', ' ', '–', ' ', 'Auto-relato', ' ', 'Instruções:', ' ', 'Esta', ' ', 'entrevista', ' ', 'cobre', ' ', 'muitos', ' ', 'tópicos', ' ', 'em', ' ', 'detalhes,', ' ', 'mas', ' ', 'antes', ' ', 'de', ' ', 'nos', ' ', 'concentrarmos', ' ', 'nesses', ' ', 'detalhes,', ' ', 'nós', ' ', 'gostaríamos', ' ', 'que', ' ', 'você', ' ', 'preenchesse', ' ', 'um', ' ', 'breve', ' ', 'questionário', ' ', 'para', ' ', 'nos', ' ', 'dar', ' ', 'uma', ' ', 'visão', ' ', 'geral', ' ', 'sobre', ' ', 'suas', ' ', 'capacidades', ' ', 'e', ' ', 'dificuldades.', ' ', 'Por', ' ', 'favor', ' ', 'responda', ' ', 'todos', ' ', 'os', ' ', 'itens', ' ', 'mesmo', ' ', 'que', ' ', 'você', ' ', 'não', ' ', 'tenha', ' ', '100%', ' ', 'de', ' ', 'certeza', ' ', 'de', ' ', 'que', ' ', 'as', ' ', 'respostas', ' ', 'estão', ' ', 'certas.', ' ', 'O', ' ', 'quão', ' ', 'bem', ' ', 'cada', ' ', 'afirmação', ' ', 'descreve', ' ', 'como', ' ', 'você', ' ', 'tem', ' ', 'estado', ' ', 'nos', ' ', 'últimos', ' ', '6', ' ', 'meses?', '\\r'], ['SDQ26f.', ' ', 'Coisas', ' ', 'que', ' ', 'você', ' ', 'gosta', ' ', 'de', ' ', 'fazer,', ' ', 'esportes', ' ', 'ou', ' ', 'outras', ' ', 'atividades', ' ', 'de', ' ', 'lazer', '\\r'], ['SDQ26g.', ' ', 'Estas', ' ', 'dificuldades', ' ', 'tornam', ' ', 'as', ' ', 'coisas', ' ', 'mais', ' ', 'difíceis', ' ', 'para', ' ', 'as', ' ', 'pessoas', ' ', 'que', ' ', 'convivem', ' ', 'com', ' ', 'você', ' ', '(família,', ' ', 'amigos,', ' ', 'etc.)?', '\\r'], ['SDQ26b.', ' ', 'Estas', ' ', 'dificuldades', ' ', 'incomodam', ' ', 'ou', ' ', 'aborrecem', ' ', 'você?', '\\r'], [], ['5.', ' ', 'Results', ' ', 'may', ' ', 'be', ' ', 'included', ' ', 'in', ' ', 'patient', ' ', 'files', ' ', 'to', ' ', 'assist', ' ', 'you', ' ', 'in', ' ', 'setting', ' ', 'up', ' ', 'a', ' ', 'treatment', ' ', 'goal,', ' ', 'determining', ' ', 'degree', ' ', 'of', ' ', 'response,', ' ', 'as', ' ', 'well', ' ', 'as', ' ', 'guiding', ' ', 'treatment', ' ', 'intervention.', '\\r'], ['Minimal', ' ', 'depression', '\\r'], ['disorder.', ' ', 'Add', ' ', 'score', ' ', 'to', ' ', 'determine', ' ', 'severity.', '\\r'], ['Moderately', ' ', 'severe', ' ', 'depression', '\\r'], ['To', ' ', 'monitor', ' ', 'severity', ' ', 'over', ' ', 'time', ' ', 'for', ' ', 'newly', ' ', 'diagnosed', ' ', 'patients', ' ', 'or', ' ', 'patients', ' ', 'in', ' ', 'current', ' ', 'treatment', ' ', 'for', ' ', 'depression:', '\\r'], ['A2662B.PDF', ' ', 'Consider', ' ', 'Other', ' ', 'Depressive', ' ', 'Disorder', ' ', 'Scoring:', ' ', ' ', 'add', ' ', 'up', ' ', 'all', ' ', 'checked', ' ', 'boxes', ' ', 'on', ' ', 'PHQ-9', ' ', 'Interpretation', ' ', 'of', ' ', 'Total', ' ', 'Score', '\\r'], ['Moderate', ' ', ' ', ' ', ' ', ' ', ' ', ' ', ' ', ' ', ' ', ' ', ' ', ' ', ' ', ' ', ' ', ' ', ' ', ' ', ' ', ' ', ' ', ' ', ' ', ' ', ' ', ' ', ' ', ' ', ' ', ' ', ' ', ' ', ' ', ' ', ' ', ' ', ' ', ' ', ' ', ' ', ' ', 'depression', '\\r'], ['Depression', ' ', 'Severity', '\\r'], ['PATIENT', ' ', 'HEALTH', ' ', 'QUESTIONNAIRE', ' ', '(PHQ-9)DATE:NAME:Over', ' ', 'the', ' ', 'last', ' ', '2', ' ', 'weeks,', ' ', 'how', ' ', 'often', ' ', 'have', ' ', 'you', ' ', 'beenbothered', ' ', 'by', ' ', 'any', ' ', 'of', ' ', 'the', ' ', 'following', ' ', 'problems?', ' ', 'Not', ' ', 'at', ' ', 'all', ' ', 'Severaldays', ' ', 'More', ' ', 'thanhalf', ' ', 'thedays', ' ', 'Nearlyevery', ' ', 'day(use', ' ', '\"ⁿ\"', ' ', 'to', ' ', 'indicate', ' ', 'your', ' ', 'answer)', ' ', '0', ' ', '1', ' ', '2', ' ', '3Little', ' ', 'interest', ' ', 'or', ' ', 'pleasure', ' ', 'in', ' ', 'doing', ' ', 'things1.', ' ', '0', ' ', '1', ' ', '2', ' ', '3Feeling', ' ', 'down,', ' ', 'depressed,', ' ', 'or', ' ', 'hopeless2.', ' ', '0', ' ', '1', ' ', '2', ' ', '3Trouble', ' ', 'falling', ' ', 'or', ' ', 'staying', ' ', 'asleep,', ' ', 'or', ' ', 'sleeping', ' ', 'too', ' ', 'much3.', ' ', '0', ' ', '1', ' ', '2', ' ', '3Feeling', ' ', 'tired', ' ', 'or', ' ', 'having', ' ', 'little', ' ', 'energy4.', ' ', '0', ' ', '1', ' ', '2', ' ', '3Poor', ' ', 'appetite', ' ', 'or', ' ', 'overeating5.', ' ', '0', ' ', '1', ' ', '2', ' ', '3Feeling', ' ', 'bad', ' ', 'about', ' ', 'yourself', ' ', ' ', ' ', 'or', ' ', 'that', ' ', 'you', ' ', 'are', ' ', 'a', ' ', 'failure', ' ', 'orhave', ' ', 'let', ' ', 'yourself', ' ', 'or', ' ', 'your', ' ', 'family', ' ', 'down6.', ' ', '0', ' ', '1', ' ', '2', ' ', '3Trouble', ' ', 'concentrating', ' ', 'on', ' ', 'things,', ' ', 'such', ' ', 'as', ' ', 'reading', ' ', 'thenewspaper', ' ', 'or', ' ', 'watching', ' ', 'television7.', ' ', '0', ' ', '1', ' ', '2', ' ', '3Moving', ' ', 'or', ' ', 'speaking', ' ', 'so', ' ', 'slowly', ' ', 'that', ' ', 'other', ' ', 'people', ' ', 'couldhave', ' ', 'noticed.', ' ', 'Or', ' ', 'the', ' ', 'opposite', ' ', ' ', ' ', ' ', 'being', ' ', 'so', ' ', 'figety', ' ', 'orrestless', ' ', 'that', ' ', 'you', ' ', 'have', ' ', 'been', ' ', 'moving', ' ', 'around', ' ', 'a', ' ', 'lot', ' ', 'morethan', ' ', 'usual8.', ' ', '0', ' ', '1', ' ', '2', ' ', '3Thoughts', ' ', 'that', ' ', 'you', ' ', 'would', ' ', 'be', ' ', 'better', ' ', 'off', ' ', 'dead,', ' ', 'or', ' ', 'ofhurting', ' ', 'yourself9.', ' ', 'add', ' ', 'columns', ' ', '+', ' ', '+TOTAL:(Healthcare', ' ', 'professional:', ' ', 'For', ' ', 'interpretation', ' ', 'of', ' ', 'TOTAL,please', ' ', 'refer', ' ', 'to', ' ', 'accompanying', ' ', 'scoring', ' ', 'card).', ' ', 'Not', ' ', 'difficult', ' ', 'at', ' ', 'allIf', ' ', 'you', ' ', 'checked', ' ', 'off', ' ', 'any', ' ', 'problems,', ' ', 'how', ' ', 'difficulthave', ' ', 'these', ' ', 'problems', ' ', 'made', ' ', 'it', ' ', 'for', ' ', 'you', ' ', 'to', ' ', 'doyour', ' ', 'work,', ' ', 'take', ' ', 'care', ' ', 'of', ' ', 'things', ' ', 'at', ' ', 'home,', ' ', 'or', ' ', 'getalong', ' ', 'with', ' ', 'other', ' ', 'people?10.', ' ', 'Somewhat', ' ', 'difficultVery', ' ', 'difficultExtremely', ' ', 'difficultCopyright', ' ', '©', ' ', '1999', ' ', 'Pfizer', ' ', 'Inc.', ' ', 'All', ' ', 'rights', ' ', 'reserved.', ' ', 'Reproduced', ' ', 'with', ' ', 'permission.', ' ', 'PRIME-MD©', ' ', 'is', ' ', 'a', ' ', 'trademark', ' ', 'of', ' ', 'Pfizer', ' ', 'Inc.A2663B', ' ', '10-04-2005', '\\r'], ['Severe', ' ', ' ', ' ', ' ', ' ', ' ', ' ', ' ', ' ', ' ', ' ', ' ', ' ', ' ', ' ', ' ', ' ', ' ', ' ', ' ', ' ', ' ', ' ', ' ', ' ', ' ', ' ', ' ', ' ', ' ', ' ', ' ', ' ', ' ', ' ', ' ', ' ', ' ', ' ', ' ', ' ', ' ', 'depression', '\\r'], ['1.', ' ', 'Patient', ' ', 'completes', ' ', 'PHQ-9', ' ', 'Quick', ' ', 'Depression', ' ', 'Assessment.', ' ', '2.', ' ', 'If', ' ', 'there', ' ', 'are', ' ', 'at', ' ', 'least', ' ', '4', ' ', 's', ' ', 'in', ' ', 'the', ' ', 'shaded', ' ', 'section', ' ', '(including', ' ', 'Questions', ' ', '#1', ' ', 'and', ' ', '#2),', ' ', 'consider', ' ', 'a', ' ', 'depressive', '\\r'], ['Mild', ' ', 'depression', '\\r'], ['PHQ-9', ' ', 'Patient', ' ', 'Depression', ' ', 'Questionnaire', '\\r'], [], ['Q356.And', ' ', 'how', ' ', 'much', ' ', 'do', ' ', 'you', ' ', 'agree', ' ', 'or', ' ', 'disagree', ' ', 'with', ' ', 'the', ' ', 'statement...', ' ', '(356)?', '\\r'], ['Q228.If', ' ', 'you', ' ', 'could', ' ', 'make', ' ', 'a', ' ', 'second', ' ', 'choice', ' ', 'for', ' ', 'your', ' ', 'electorate', ' ', 'vote,', ' ', 'which', ' ', \"party's\", ' ', 'candidate', ' ', 'would', ' ', 'you', ' ', 'choose?', '\\r'], ['IF', ' ', 'NECESSARY:', ' ', '8', ' ', 'means', ' ', 'full', ' ', 'trust', ' ', 'and', ' ', 'confidence,', ' ', '0', ' ', 'means', ' ', 'no', ' ', 'trust', ' ', 'and', ' ', 'confidence', ' ', 'at', ' ', 'all,', ' ', 'and', ' ', '4', ' ', 'means', ' ', 'you', ' ', 'have', ' ', 'trust', ' ', 'and', ' ', 'confidence', ' ', 'about', ' ', 'half', ' ', 'the', ' ', 'time', ' ', '(and', ' ', 'any', ' ', 'number', ' ', 'in', ' ', 'between).', '\\r'], ['Q128.', ' ', 'First,', ' ', 'can', ' ', 'I', ' ', 'just', ' ', 'confirm', ' ', 'that', ' ', 'you', ' ', 'are', ' ', 'eligible', ' ', 'to', ' ', 'vote', ' ', 'in', ' ', 'New', ' ', 'Zealand?', '\\r'], ['Day', ' ', 'sample', ' ', 'filed', ' ', 'in', ' ', 'definer', ' ', ' ', ' ', ' ', ' ', ' ', ' ', ' ', ' ', ' ', ' ', ' ', ' ', ' ', ' ', ' ', ' ', ' ', ' ', ' ', ' ', ' ', ' ', ' ', ' ', ' ', ' ', '(18)', '\\r'], ['Q226.Is', ' ', 'this', ' ', \"party's\", ' ', 'candidate', ' ', 'the', ' ', 'one', ' ', 'you', ' ', 'like', ' ', 'the', ' ', 'most', ' ', 'for', ' ', 'your', ' ', 'electorate?', '\\r'], ['IF', ' ', 'YES:', ' ', 'Is', ' ', 'that', ' ', 'often', ' ', 'or', ' ', 'occasionally?', ' ', '~END', '\\r'], ['Q281.Now', ' ', \"I'd\", ' ', 'like', ' ', 'to', ' ', 'ask', ' ', 'you', ' ', 'more', ' ', 'about', ' ', 'what', ' ', 'you', ' ', 'EXPECT', ' ', 'to', ' ', 'happen', ' ', 'at', ' ', 'the', ' ', 'coming', ' ', 'election.', ' ', 'Which', ' ', 'parties', ' ', 'do', ' ', 'you', ' ', 'expect', ' ', 'to', ' ', 'get', ' ', 'seats', ' ', 'in', ' ', 'parliament', ' ', 'in', ' ', 'the', ' ', 'coming', ' ', 'election?', '\\r'], ['IF', ' ', 'YES:', ' ', 'Is', ' ', 'that', ' ', 'often', ' ', 'or', ' ', 'occasionally?', ' ', '~ELSE', ' ', 'Q202.', '\\r'], ['Q253.What', ' ', 'party', ' ', 'did', ' ', 'you', ' ', 'give', ' ', 'your', ' ', 'party', ' ', 'vote', ' ', 'to', ' ', 'in', ' ', '1999?', '\\r'], ['Good....,', ' ', 'my', ' ', 'name', ' ', 'is', ' ', '^I', ' ', 'and', ' ', 'I', ' ', 'am', ' ', 'calling', ' ', 'from', ' ', 'ACNielsen,', ' ', 'the', ' ', 'market', ' ', 'research', ' ', 'company.', ' ', 'We', ' ', 'are', ' ', 'conducting', ' ', 'a', ' ', 'survey', ' ', 'on', ' ', 'what', ' ', 'people', ' ', 'are', ' ', 'thinking', ' ', 'during', ' ', 'the', ' ', '2002', ' ', 'election', ' ', 'campaign,', ' ', 'on', ' ', 'behalf', ' ', 'of', ' ', 'the', ' ', 'New', ' ', 'Zealand', ' ', 'Election', ' ', 'Study', ' ', 'Group', ' ', 'based', ' ', 'at', ' ', 'the', ' ', 'University', ' ', 'of', ' ', 'Auckland.', ' ', 'May', ' ', 'I', ' ', 'please', ' ', 'speak', ' ', 'to', ' ', 'the', ' ', 'person', ' ', 'in', ' ', 'your', ' ', 'household,', ' ', 'aged', ' ', '18', ' ', 'years', ' ', 'or', ' ', 'over,', ' ', 'who', ' ', 'MOST', ' ', 'RECENTLY', ' ', 'had', ' ', 'a', ' ', 'birthday,', ' ', 'and', ' ', 'who', ' ', 'is', ' ', 'eligible', ' ', 'to', ' ', 'vote', ' ', 'in', ' ', 'the', ' ', 'coming', ' ', 'election?', ' ', '**', ' ', 'ARRANGE', ' ', 'CALLBACK', ' ', 'IF', ' ', 'NECESSARY', ' ', '**', ' ', 'REINTRODUCE', ' ', 'IF', ' ', 'NECESSARY', ' ', '**', '\\r'], ['Q224.Now', ' ', 'turning', ' ', 'to', ' ', 'your', ' ', 'electorate', ' ', 'vote,', ' ', 'if', ' ', 'an', ' ', 'election', ' ', 'were', ' ', 'held', ' ', 'today,', ' ', 'which', ' ', \"party's\", ' ', 'candidate', ' ', 'would', ' ', 'get', ' ', 'your', ' ', 'electorate', ' ', 'vote?', '\\r'], ['Q352.And', ' ', 'how', ' ', 'much', ' ', 'trust', ' ', 'and', ' ', 'confidence', ' ', 'would', ' ', 'you', ' ', 'say', ' ', 'you', ' ', 'have', ' ', 'in', ' ', 'public', ' ', 'servants?', '\\r'], ['(353)', ' ', 'Q353.There', ' ', 'has', ' ', 'been', ' ', 'talk', ' ', 'lately', ' ', 'about', ' ', 'the', ' ', 'way', ' ', 'democracy', ' ', 'works', ' ', 'in', ' ', 'New', ' ', 'Zealand.', ' ', 'On', ' ', 'the', ' ', 'whole', ' ', 'how', ' ', 'satisfied', ' ', 'are', ' ', 'you', ' ', 'with', ' ', 'the', ' ', 'way', ' ', 'democracy', ' ', 'works', ' ', 'in', ' ', 'New', ' ', 'Zealand.', '\\r'], ['Q274.Which', ' ', 'of', ' ', 'EITHER', ' ', 'the', ' ', 'National', ' ', 'or', ' ', 'Labour', ' ', 'parties', ' ', 'would', ' ', 'you', ' ', 'most', ' ', 'prefer', ' ', 'to', ' ', 'be', ' ', 'in', ' ', 'the', ' ', 'government?', '\\r'], ['Q351.I', ' ', 'am', ' ', 'now', ' ', 'going', ' ', 'to', ' ', 'ask', ' ', 'you', ' ', 'about', ' ', 'organisations', ' ', 'and', ' ', 'people', ' ', 'you', ' ', 'trust', ' ', 'and', ' ', 'have', ' ', 'confidence', ' ', 'in.', '\\r'], ['~IF', ' ', '(211)(0)', ' ', 'Q211.Now', ' ', 'we', ' ', 'would', ' ', 'like', ' ', 'to', ' ', 'know', ' ', 'what', ' ', 'you', ' ', 'think', ' ', 'about', ' ', 'each', ' ', 'of', ' ', 'the', ' ', 'following', ' ', 'political', ' ', 'parties.', ' ', 'Please', ' ', 'rate', ' ', 'each', ' ', 'party', ' ', 'that', ' ', 'I', ' ', 'read', ' ', 'out', ' ', 'on', ' ', 'a', ' ', 'scale', ' ', 'from', ' ', '0', ' ', 'to', ' ', '10,', ' ', 'where', ' ', '0', ' ', 'means', ' ', 'you', ' ', 'strongly', ' ', 'dislike', ' ', 'that', ' ', 'party', ' ', 'and', ' ', '10', ' ', 'means', ' ', 'that', ' ', 'you', ' ', 'strongly', ' ', 'like', ' ', 'them,', ' ', 'and', ' ', 'numbers', ' ', 'in', ' ', 'between', ' ', 'mean', ' ', 'varying', ' ', 'degrees', ' ', 'of', ' ', 'disliking', ' ', 'or', ' ', 'liking.', '\\r'], ['~IF', ' ', '(202)(0)', ' ', 'Q202.', ' ', 'Over', ' ', 'the', ' ', 'last', ' ', 'month,', ' ', 'have', ' ', 'you', ' ', 'done', ' ', 'any', ' ', 'of', ' ', 'the', ' ', 'following', ' ', 'things?', '\\r'], ['Q155.Did', ' ', 'you', ' ', 'see', ' ', 'any', ' ', 'party', ' ', 'broadcasts', ' ', 'or', ' ', 'advertising', ' ', 'on', ' ', 'television', ' ', 'either', ' ', 'last', ' ', 'night', ' ', 'or', ' ', 'the', ' ', 'night', ' ', 'before?', '\\r'], ['Q192.Which', ' ', 'political', ' ', 'party', ' ', 'do', ' ', 'you', ' ', 'feel', ' ', 'could', ' ', 'best', ' ', 'solve', ' ', 'that', ' ', 'problem?', '\\r'], ['Q221.At', ' ', 'the', ' ', 'coming', ' ', 'election', ' ', 'you', ' ', 'have', ' ', 'two', ' ', 'votes,', ' ', 'one', ' ', 'for', ' ', 'a', ' ', 'party,', ' ', 'and', ' ', 'one', ' ', 'for', ' ', 'a', ' ', 'candidate', ' ', 'in', ' ', 'your', ' ', 'electorate.', ' ', 'Which', ' ', 'vote', ' ', 'do', ' ', 'you', ' ', 'think', ' ', 'will', ' ', 'be', ' ', 'the', ' ', 'most', ' ', 'important', ' ', 'in', ' ', 'deciding', ' ', 'which', ' ', 'party', ' ', 'gets', ' ', 'the', ' ', 'largest', ' ', 'number', ' ', 'of', ' ', 'seats', ' ', 'in', ' ', 'parliament:', ' ', 'the', ' ', 'party', ' ', 'vote,', ' ', 'the', ' ', 'electorate', ' ', 'vote', ' ', 'or', ' ', 'would', ' ', 'you', ' ', 'say', ' ', 'they', ' ', 'are', ' ', 'equally', ' ', 'important?', '\\r'], ['Q262.Which', ' ', 'ones?', '\\r'], ['Q194.And', ' ', 'which', ' ', 'political', ' ', 'party', ' ', 'do', ' ', 'you', ' ', 'feel', ' ', 'is', ' ', 'closest', ' ', 'to', ' ', 'you', ' ', 'on', ' ', 'that', ' ', 'issue?', '\\r'], ['Q223.Which', ' ', 'party', ' ', 'do', ' ', 'you', ' ', 'think', ' ', 'you', ' ', 'would', ' ', 'be', ' ', 'most', ' ', 'likely', ' ', 'to', ' ', 'vote', ' ', 'for?', '\\r'], ['NEW', ' ', 'PERSON', ' ', 'TO', ' ', 'THE', ' ', 'PHONE:', ' ', 'Can', ' ', 'I', ' ', 'just', ' ', 'confirm', ' ', 'that', ' ', 'you', ' ', 'are', ' ', 'the', ' ', 'member', ' ', 'of', ' ', 'your', ' ', 'household', ' ', 'who', ' ', 'most', ' ', 'recently', ' ', 'had', ' ', 'a', ' ', 'birthday,', ' ', 'and', ' ', 'who', ' ', 'is', ' ', 'aged', ' ', '18', ' ', 'or', ' ', 'over,', ' ', 'and', ' ', 'is', ' ', 'eligible', ' ', 'to', ' ', 'vote', ' ', 'in', ' ', 'the', ' ', 'coming', ' ', 'election?', '\\r'], ['Q135.And', ' ', 'which', ' ', 'electoral', ' ', 'roll', ' ', 'are', ' ', 'you', ' ', 'on,', ' ', 'the', ' ', 'General', ' ', 'or', ' ', 'Maori', ' ', 'roll?', '\\r'], ['Q321.Now', ' ', \"let's\", ' ', 'talk', ' ', 'about', ' ', 'the', ' ', 'chances', ' ', 'the', ' ', 'various', ' ', 'party', ' ', 'candidates', ' ', 'have', ' ', 'of', ' ', 'winning', ' ', 'in', ' ', 'the', ' ', 'electorate', ' ', 'that', ' ', 'you', ' ', 'are', ' ', 'voting', ' ', 'in.', ' ', 'Which', ' ', \"party's\", ' ', 'candidate,', ' ', 'do', ' ', 'you', ' ', 'think,', ' ', 'has', ' ', 'the', ' ', 'best', ' ', 'chance', ' ', 'of', ' ', 'winning', ' ', 'your', ' ', 'electorate?', '\\r'], ['(324)', ' ', 'Q324.Using', ' ', 'the', ' ', 'same', ' ', 'scale', ' ', 'which', ' ', 'runs', ' ', 'from', ' ', '0', ' ', 'to', ' ', '10,', ' ', 'where', ' ', '0', ' ', 'represents', ' ', 'no', ' ', 'chance', ' ', 'for', ' ', 'the', ' ', 'party,', ' ', 'and', ' ', '5', ' ', 'represents', ' ', 'an', ' ', 'even', ' ', 'chance,', ' ', 'and', ' ', '10', ' ', 'means', ' ', 'certain', ' ', 'victory,', ' ', '(and', ' ', 'the', ' ', 'numbers', ' ', 'in', ' ', 'between', ' ', 'represent', ' ', 'varying', ' ', 'degrees', ' ', 'of', ' ', 'chance).', ' ', 'What', ' ', 'do', ' ', 'you', ' ', 'think', ' ', \"(323)'s\", ' ', 'chances', ' ', 'are', ' ', 'of', ' ', 'winning', ' ', 'your', ' ', 'electorate', ' ', 'seat?', '\\r'], ['Q156.Which', ' ', \"party's\", ' ', 'broadcasts', ' ', 'or', ' ', 'advertising', ' ', 'did', ' ', 'you', ' ', 'see?', '\\r'], ['Q130.And', ' ', 'can', ' ', 'you', ' ', 'suggest', ' ', 'a', ' ', 'more', ' ', 'convenient', ' ', 'time', ' ', 'when', ' ', 'I', ' ', 'could', ' ', 'speak', ' ', 'to', ' ', 'that', ' ', 'person?', '\\r'], ['Which', ' ', 'radio', ' ', 'stations', ' ', 'have', ' ', 'you', ' ', 'listened', ' ', 'to', ' ', 'over', ' ', 'the', ' ', 'last', ' ', 'two', ' ', 'days?', '\\r'], ['Q193.What', ' ', 'is', ' ', 'the', ' ', 'single', ' ', 'most', ' ', 'important', ' ', 'issue', ' ', 'to', ' ', 'you', ' ', 'personally', ' ', 'in', ' ', 'this', ' ', 'election?', '\\r'], ['Have', ' ', 'you...', ' ', '(201)?', '\\r'], ['IF', ' ', 'MENTIONS', ' ', 'NAME', ' ', 'BUT', ' ', 'NO', ' ', 'PARTY:', ' ', 'Which', ' ', 'party', ' ', 'is', ' ', 'that', ' ', 'person', ' ', 'standing', ' ', 'for?', '\\r'], ['Q261.Only', ' ', 'some', ' ', 'parties', ' ', 'in', ' ', 'Parliament', ' ', 'form', ' ', 'the', ' ', 'government.', ' ', 'The', ' ', 'government', ' ', 'is', ' ', 'made', ' ', 'up', ' ', 'of', ' ', 'a', ' ', 'Prime', ' ', 'Minister', ' ', 'and', ' ', 'Cabinet', ' ', 'Ministers.', ' ', 'Do', ' ', 'you', ' ', 'happen', ' ', 'to', ' ', 'recall', ' ', 'which', ' ', 'parties', ' ', 'have', ' ', 'been', ' ', 'part', ' ', 'of', ' ', 'the', ' ', 'Government', ' ', 'since', ' ', 'the', ' ', '1999', ' ', 'election?', '\\r'], ['Q227.Which', ' ', 'candidate', ' ', 'do', ' ', 'you', ' ', 'like', ' ', 'the', ' ', 'most?', '\\r'], ['Q183.Did', ' ', 'you', ' ', 'read', ' ', 'any', ' ', 'political', ' ', 'news', ' ', 'or', ' ', 'see', ' ', 'any', ' ', 'political', ' ', 'advertising', ' ', 'in', ' ', \"today's\", ' ', 'or', ' ', \"yesterday's\", ' ', 'paper?(0)s2', '\\r'], ['Q325.Do', ' ', 'you', ' ', 'think', ' ', 'any', ' ', 'other', ' ', \"party's\", ' ', 'candidate', ' ', 'has', ' ', 'a', ' ', 'chance', ' ', 'of', ' ', 'winning?', '\\r'], ['(355)', ' ', \"Q355.I'm\", ' ', 'now', ' ', 'going', ' ', 'to', ' ', 'read', ' ', 'you', ' ', 'some', ' ', 'statements', ' ', 'about', ' ', 'elections', ' ', 'and', ' ', 'MPs.', ' ', 'Could', ' ', 'you', ' ', 'tell', ' ', 'me', ' ', 'how', ' ', 'much', ' ', 'you', ' ', 'agree', ' ', 'or', ' ', 'disagree', ' ', 'with', ' ', 'each', ' ', 'statement.', '\\r'], ['Q175.Can', ' ', 'you', ' ', 'remember', ' ', 'hearing', ' ', 'a', ' ', 'news', ' ', 'bulletin', ' ', 'on', ' ', '(174)', ' ', 'either', ' ', 'yesterday', ' ', 'or', ' ', 'today?', '\\r'], ['Q225.Which', ' ', \"party's\", ' ', 'candidate', ' ', 'do', ' ', 'you', ' ', 'think', ' ', 'you', ' ', 'would', ' ', 'be', ' ', 'most', ' ', 'likely', ' ', 'to', ' ', 'vote', ' ', 'for?', '\\r'], ['As', ' ', 'far', ' ', 'as', ' ', 'you', ' ', 'know,', ' ', 'are', ' ', 'you', ' ', 'on', ' ', 'the', ' ', 'electoral', ' ', 'roll?', '\\r'], ['Q402.In', ' ', 'what', ' ', 'year', ' ', 'were', ' ', 'you', ' ', 'born?', '\\r'], ['Q205.And', ' ', 'how', ' ', 'do', ' ', 'you', ' ', 'feel', ' ', 'about', ' ', '(204)?', ' ', '~END', '\\r'], ['Q272.If', ' ', 'your', ' ', 'first', ' ', 'choice', ' ', 'party', ' ', 'was', ' ', 'unable', ' ', 'to', ' ', 'form', ' ', 'a', ' ', 'government', ' ', 'on', ' ', 'its', ' ', 'own,', ' ', 'which', ' ', 'other', ' ', 'party', ' ', 'would', ' ', 'you', ' ', 'prefer', ' ', 'to', ' ', 'be', ' ', 'its', ' ', 'partner?', '\\r'], ['each', ' ', 'party', ' ', 'to', ' ', 'get', ' ', 'ÍÍÍÍÍ', '\\r'], ['Q251.Were', ' ', 'you', ' ', 'eligible', ' ', 'to', ' ', 'vote', ' ', 'in', ' ', 'the', ' ', '1999', ' ', 'election?', '\\r'], ['Q191.What', ' ', 'do', ' ', 'you', ' ', 'think', ' ', 'is', ' ', 'the', ' ', 'single', ' ', 'most', ' ', 'important', ' ', 'problem', ' ', 'facing', ' ', 'New', ' ', 'Zealand', ' ', 'today?', '\\r'], ['Generally', ' ', 'speaking,', ' ', 'how', ' ', 'much', ' ', 'interest', ' ', 'do', ' ', 'you', ' ', 'usually', ' ', 'have', ' ', 'in', ' ', \"what's\", ' ', 'going', ' ', 'on', ' ', 'in', ' ', 'politics?', ' ', 'Would', ' ', 'you', ' ', 'say', ' ', 'you', ' ', 'are...', '\\r'], ['likely', ' ', 'to', ' ', 'form', ' ', 'the', ' ', 'government', ' ', 'after', ' ', 'the', ' ', 'election?', '\\r'], ['(201)', ' ', 'Q201', ' ', 'Behavioural', ' ', 'Discussed', ' ', 'Politics', ' ', 'with', ' ', 'others', ' ', '#1......1......2......3......8......9', ' ', 'Talked', ' ', 'to', ' ', 'any', ' ', 'people', ' ', 'about', ' ', 'how', ' ', 'they', ' ', 'should', ' ', 'vote', ' ', '#2......1......2......3......8......9', ' ', 'Gone', ' ', 'to', ' ', 'any', ' ', 'political', ' ', 'meetings', ' ', 'or', ' ', 'rallies', ' ', '#3......1......2......3......8......9', ' ', 'Done', ' ', 'any', ' ', 'work', ' ', 'for', ' ', 'a', ' ', 'political', ' ', 'party', ' ', 'or', ' ', 'candidate', ' ', '#4......1......2......3......8......9', '\\r'], ['Q404.And', ' ', 'finally,', ' ', 'may', ' ', 'I', ' ', 'have', ' ', 'your', ' ', 'name', ' ', 'and', ' ', 'check', ' ', 'your', ' ', 'phone', ' ', 'number', ' ', 'so', ' ', 'that', ' ', 'if', ' ', 'you', ' ', 'win', ' ', 'the', ' ', 'draw', ' ', 'for', ' ', '$300', ' ', 'we', ' ', 'know', ' ', 'who', ' ', 'to', ' ', 'ask', ' ', 'for.', '\\r'], ['Q154.Did', ' ', 'you', ' ', 'watch', ' ', 'the', ' ', 'news', ' ', 'on', ' ', 'TV3', ' ', 'either', ' ', 'last', ' ', 'night', ' ', 'or', ' ', 'the', ' ', 'night', ' ', 'before?', '\\r'], ['Q271.The', ' ', 'next', ' ', 'few', ' ', 'questions', ' ', 'ask', ' ', 'what', ' ', 'party', ' ', 'or', ' ', 'parties', ' ', 'you', ' ', 'prefer', ' ', 'to', ' ', 'be', ' ', 'in', ' ', 'government.', ' ', 'Regardless', ' ', 'of', ' ', 'how', ' ', 'many', ' ', 'seats', ' ', 'you', ' ', 'expect', ' ', 'the', ' ', 'various', ' ', 'parties', ' ', 'to', ' ', 'win,', ' ', 'which', ' ', 'party', ' ', 'would', ' ', 'you', ' ', 'most', ' ', 'like', ' ', 'to', ' ', 'be', ' ', 'in', ' ', 'Government?', '\\r'], ['Q264.Can', ' ', 'you', ' ', 'tell', ' ', 'me', ' ', 'whether', ' ', 'or', ' ', 'not', ' ', 'the', ' ', 'current', ' ', 'government', ' ', 'has', ' ', 'more', ' ', 'than', ' ', 'half', ' ', 'or', ' ', 'less', ' ', 'than', ' ', 'half', ' ', 'of', ' ', 'the', ' ', 'seats', ' ', 'in', ' ', 'parliament?', '\\r'], ['The', ' ', 'survey', ' ', 'will', ' ', 'take', ' ', 'around', ' ', '15', ' ', 'minutes,', ' ', 'is', ' ', 'it', ' ', 'convenient', ' ', 'to', ' ', 'talk', ' ', 'to', ' ', 'you', ' ', 'now?', '\\r'], ['Q129.Please', ' ', 'may', ' ', 'I', ' ', 'speak', ' ', 'to', ' ', 'the', ' ', 'person', ' ', 'aged', ' ', '18', ' ', 'and', ' ', 'over,', ' ', 'who', ' ', 'celebrated', ' ', 'their', ' ', 'birthday', ' ', 'BEFORE', ' ', 'yours', ' ', 'AND', ' ', 'who', ' ', 'is', ' ', 'eligible', ' ', 'to', ' ', 'vote?', '\\r'], ['Q305.Do', ' ', 'you', ' ', 'think', ' ', 'the', ' ', 'chances', ' ', 'of', ' ', '(304)', ' ', 'being', ' ', 'in', ' ', 'government', ' ', 'are...', '\\r'], ['Q222.Taking', ' ', 'the', ' ', 'party', ' ', 'vote', ' ', 'first,', ' ', 'if', ' ', 'an', ' ', 'election', ' ', 'were', ' ', 'held', ' ', 'today,', ' ', 'which', ' ', 'party', ' ', 'would', ' ', 'you', ' ', 'vote', ' ', 'for?', '\\r'], ['Q254.After', ' ', 'the', ' ', 'coming', ' ', 'election,', ' ', 'what', ' ', 'sort', ' ', 'of', ' ', 'government', ' ', 'would', ' ', 'you', ' ', 'prefer', ' ', '-', ' ', 'a', ' ', 'government', ' ', 'made', ' ', 'up', ' ', 'of', ' ', 'a', ' ', 'single', ' ', 'party', ' ', 'or', ' ', 'a', ' ', 'coalition', ' ', 'government', ' ', 'made', ' ', 'up', ' ', 'of', ' ', 'more', ' ', 'than', ' ', 'one', ' ', 'party?', '\\r'], ['Do', ' ', 'you..', ' ', ' ', ' ', ' ', ' ', ' ', ' ', ' ', ' ', ' ', ' ', '***', ' ', 'READ', ' ', 'OUT', ' ', 'IF', ' ', 'NECESSARY', ' ', '***', '\\r'], ['(322)', ' ', 'Q322.Using', ' ', 'a', ' ', 'scale', ' ', 'which', ' ', 'runs', ' ', 'from', ' ', '0', ' ', 'to', ' ', '10,', ' ', 'where', ' ', '0', ' ', 'represents', ' ', 'no', ' ', 'chance', ' ', 'for', ' ', 'the', ' ', 'party,', ' ', 'and', ' ', '5', ' ', 'represents', ' ', 'an', ' ', 'even', ' ', 'chance,', ' ', 'and', ' ', '10', ' ', 'means', ' ', 'certain', ' ', 'victory,', ' ', '(and', ' ', 'the', ' ', 'numbers', ' ', 'in', ' ', 'between', ' ', 'represent', ' ', 'varying', ' ', 'degrees', ' ', 'of', ' ', 'chance).', ' ', 'What', ' ', 'do', ' ', 'you', ' ', 'think', ' ', \"(321)'s\", ' ', 'chances', ' ', 'are', ' ', 'of', ' ', 'winning', ' ', 'your', ' ', 'electorate', ' ', 'seat?', '\\r'], ['Q284.There', ' ', 'will', ' ', 'probably', ' ', 'be', ' ', '120', ' ', 'members', ' ', 'and', ' ', 'seats', ' ', 'in', ' ', 'the', ' ', 'new', ' ', 'parliament,', ' ', 'which', ' ', 'means', ' ', 'that', ' ', 'to', ' ', 'become', ' ', 'a', ' ', 'government', ' ', 'on', ' ', 'its', ' ', 'own,', ' ', 'a', ' ', 'party', ' ', 'has', ' ', 'to', ' ', 'get', ' ', 'over', ' ', '60', ' ', 'seats.', ' ', 'How', ' ', 'many', ' ', 'seats', ' ', 'out', ' ', 'of', ' ', 'the', ' ', '120', ' ', 'do', ' ', 'you', ' ', 'expect', ' ', 'each', ' ', 'of', ' ', 'the', ' ', 'following', ' ', 'parties', ' ', 'to', ' ', 'get?', '\\r'], ['Q252.And', ' ', 'did', ' ', 'you', ' ', 'vote', ' ', 'at', ' ', 'the', ' ', '1999', ' ', 'election?', '\\r'], ['(326)', ' ', 'Q326.Again,', ' ', 'using', ' ', 'the', ' ', 'same', ' ', 'scale', ' ', 'which', ' ', 'runs', ' ', 'from', ' ', '0', ' ', 'to', ' ', '10,', ' ', 'where', ' ', '0', ' ', 'represents', ' ', 'no', ' ', 'chance', ' ', 'for', ' ', 'the', ' ', 'party,', ' ', 'and', ' ', '5', ' ', 'represents', ' ', 'an', ' ', 'even', ' ', 'chance,', ' ', 'and', ' ', '10', ' ', 'means', ' ', 'certain', ' ', 'victory,', ' ', '(and', ' ', 'the', ' ', 'numbers', ' ', 'in', ' ', 'between', ' ', 'represent', ' ', 'varying', ' ', 'degrees', ' ', 'of', ' ', 'chance).', ' ', 'What', ' ', 'do', ' ', 'you', ' ', 'think', ' ', \"(325)'s\", ' ', 'chances', ' ', 'are', ' ', 'of', ' ', 'winning', ' ', 'your', ' ', 'electorate', ' ', 'seat?', '\\r'], ['Thank', ' ', 'you', ' ', 'very', ' ', 'much', ' ', 'for', ' ', 'your', ' ', 'time.', '\\r'], ['Q173.And', ' ', 'did', ' ', 'you', ' ', 'listen', ' ', 'to', ' ', 'Morning', ' ', 'Report', ' ', 'or', ' ', 'Checkpoint', ' ', 'over', ' ', 'the', ' ', 'last', ' ', 'two', ' ', 'days?', '\\r'], ['Q273.If', ' ', 'a', ' ', 'third', ' ', 'party', ' ', 'is', ' ', 'needed', ' ', 'to', ' ', 'form', ' ', 'a', ' ', 'government,', ' ', 'which', ' ', 'other', ' ', 'party', ' ', 'would', ' ', 'you', ' ', 'prefer?', '\\r'], ['IF', ' ', 'NAME', ' ', 'ONLY', ' ', 'MENTIONED,', ' ', 'ASK', ' ', 'FOR', ' ', 'PARTY.', '\\r'], ['Q403.Including', ' ', 'yourself,', ' ', 'how', ' ', 'many', ' ', 'people', ' ', 'in', ' ', 'your', ' ', 'household', ' ', 'are', ' ', 'aged', ' ', '18', ' ', 'years', ' ', 'or', ' ', 'over?', '\\r'], ['And', ' ', 'have', ' ', 'you...', ' ', '(201)?', '\\r'], ['Q354.What', ' ', 'do', ' ', 'you', ' ', 'think', ' ', 'of', ' ', 'the', ' ', 'state', ' ', 'of', ' ', 'the', ' ', 'economy', ' ', 'these', ' ', 'days', ' ', 'in', ' ', 'New', ' ', 'Zealand?', ' ', 'Would', ' ', 'you', ' ', 'say', ' ', 'it', ' ', 'is....', '\\r'], ['IF', ' ', 'CLARIFICATION', ' ', 'NEEDED:', ' ', 'Either', ' ', 'the', ' ', '6pm', ' ', 'or', ' ', 'the', ' ', 'late', ' ', 'night', ' ', 'news.', '\\r'], ['Q203.Of', ' ', 'all', ' ', 'the', ' ', 'politicians', ' ', 'in', ' ', 'New', ' ', 'Zealand,', ' ', 'who', ' ', 'would', ' ', 'you', ' ', 'most', ' ', 'like', ' ', 'to', ' ', 'be', ' ', 'Prime', ' ', 'Minister?', '\\r'], ['Q323.And', ' ', 'which', ' ', \"party's\", ' ', 'candidate', ' ', 'is', ' ', 'the', ' ', 'one', ' ', 'next', ' ', 'most', ' ', 'likely', ' ', 'to', ' ', 'win', ' ', 'after', ' ', '(321)?', '\\r'], ['Q213.Some', ' ', 'people', ' ', 'vote', ' ', 'in', ' ', 'elections', ' ', 'while', ' ', 'others', ' ', 'choose', ' ', 'not', ' ', 'to.', ' ', 'Using', ' ', 'a', ' ', 'scale', ' ', 'from', ' ', '0', ' ', 'to', ' ', '10,', ' ', 'where', ' ', '10', ' ', 'means', ' ', 'very', ' ', 'likely', ' ', 'and', ' ', '0', ' ', 'means', ' ', 'very', ' ', 'unlikely,', ' ', 'and', ' ', 'numbers', ' ', 'in', ' ', 'between', ' ', 'mean', ' ', 'varying', ' ', 'degrees', ' ', 'of', ' ', 'likelihood.', ' ', 'If', ' ', 'an', ' ', 'election', ' ', 'were', ' ', 'held', ' ', 'today,', ' ', 'how', ' ', 'likely', ' ', 'is', ' ', 'it', ' ', 'that', ' ', 'you', ' ', 'would', ' ', 'vote?', '\\r'], ['~IF', ' ', '(205)(0)', ' ', 'Q205.Now', ' ', 'we', ' ', 'would', ' ', 'like', ' ', 'to', ' ', 'know', ' ', 'what', ' ', 'you', ' ', 'think', ' ', 'about', ' ', 'the', ' ', 'following', ' ', 'party', ' ', 'leaders.', ' ', 'Please', ' ', 'rate', ' ', 'each', ' ', 'leader', ' ', 'that', ' ', 'I', ' ', 'read', ' ', 'out', ' ', 'on', ' ', 'a', ' ', 'scale', ' ', 'from', ' ', '0', ' ', 'to', ' ', '10,', ' ', 'where', ' ', '0', ' ', 'means', ' ', 'you', ' ', 'strongly', ' ', 'dislike', ' ', 'that', ' ', 'leader', ' ', 'and', ' ', '10', ' ', 'means', ' ', 'that', ' ', 'you', ' ', 'strongly', ' ', 'like', ' ', 'them,', ' ', 'and', ' ', 'you', ' ', 'may', ' ', 'choose', ' ', 'any', ' ', 'numbers', ' ', 'in', ' ', 'between', ' ', '.', '\\r'], ['IF', ' ', 'HESITANT:', ' ', 'Your', ' ', 'telephone', ' ', 'number', ' ', 'was', ' ', 'randomly', ' ', 'selected', ' ', 'by', ' ', 'computer', ' ', 'and', ' ', 'your', ' ', 'identity', ' ', 'will', ' ', 'remain', ' ', 'completely', ' ', 'confidential.', ' ', 'It', ' ', 'will', ' ', 'take', ' ', 'approximately', ' ', '15', ' ', 'minutes', ' ', 'to', ' ', 'complete', ' ', 'the', ' ', 'questions', ' ', 'and', ' ', 'your', ' ', 'answers', ' ', 'recorded', ' ', 'in', ' ', 'our', ' ', 'dataset', ' ', 'will', ' ', 'be', ' ', 'completely', ' ', 'anonymous.', '\\r'], ['Q406.Researchers', ' ', 'at', ' ', 'the', ' ', 'University', ' ', 'of', ' ', 'Auckland', ' ', 'are', ' ', 'conducting', ' ', 'a', ' ', 'followup', ' ', 'survey', ' ', 'by', ' ', 'post', ' ', 'after', ' ', 'the', ' ', 'election.', ' ', 'We', ' ', 'would', ' ', 'like', ' ', 'to', ' ', 'send', ' ', 'you', ' ', 'a', ' ', 'copy', ' ', 'to', ' ', 'fill', ' ', 'out', ' ', 'when', ' ', 'convenient', ' ', 'to', ' ', 'you.', ' ', 'It', ' ', 'can', ' ', 'be', ' ', 'sent', ' ', 'back', ' ', 'post', ' ', 'free', ' ', 'and', ' ', 'would', ' ', 'give', ' ', 'you', ' ', 'a', ' ', 'chance', ' ', 'to', ' ', 'go', ' ', 'into', ' ', 'another', ' ', 'draw', ' ', 'for', ' ', 'a', ' ', '$300', ' ', 'voucher.', '\\r'], ['City/Town', ' ', ':', '\\r'], ['IF', ' ', 'NAME', ' ', 'ONLY', ' ', 'GIVEN:', ' ', 'Which', ' ', 'party', ' ', 'is', ' ', 'that', ' ', 'candidate', ' ', 'standing', ' ', 'for?', '\\r'], ['Q214.Generally', ' ', 'speaking,', ' ', 'do', ' ', 'you', ' ', 'usually', ' ', 'think', ' ', 'of', ' ', 'yourself', ' ', 'as', ' ', 'Labour,', ' ', 'National,', ' ', 'NZ', ' ', 'First,', ' ', 'Green,', ' ', 'ACT', ' ', 'or', ' ', 'some', ' ', 'other', ' ', 'party,', ' ', 'or', ' ', \"don't\", ' ', 'you', ' ', 'think', ' ', 'of', ' ', 'yourself', ' ', 'in', ' ', 'this', ' ', 'way?', '\\r'], ['***', ' ', 'DO', ' ', 'NOT', ' ', 'PROMPT', ' ', 'OR', ' ', 'GIVE', ' ', 'ANSWER', ' ', '***', '\\r'], ['Q301.Now', ' ', 'we', ' ', 'want', ' ', 'to', ' ', 'ask', ' ', 'how', ' ', 'likely', ' ', 'you', ' ', 'think', ' ', 'it', ' ', 'is', ' ', 'that', ' ', 'the', ' ', 'various', ' ', 'parties', ' ', 'will', ' ', 'be', ' ', 'in', ' ', 'the', ' ', 'government', ' ', 'after', ' ', 'the', ' ', 'election.', ' ', 'Do', ' ', 'you', ' ', 'think', ' ', 'the', ' ', 'chances', ' ', 'of', ' ', 'National', ' ', 'being', ' ', 'in', ' ', 'government', ' ', 'are...', '\\r'], ['IF', ' ', 'RESPONDENT', ' ', 'SAYS', ' ', 'THEY', ' ', \"DON'T\", ' ', 'WANT', ' ', 'A', ' ', 'ONE', ' ', 'PARTY', ' ', 'GOVERNMENT,', ' ', 'ASK:', ' ', 'If', ' ', 'there', ' ', 'were', ' ', 'a', ' ', 'coalition', ' ', 'which', ' ', 'is', ' ', 'the', ' ', 'first', ' ', 'party', ' ', 'you', ' ', 'would', ' ', 'choose?', '\\r'], ['Are', ' ', 'you..', ' ', ' ', ' ', ' ', ' ', ' ', ' ', '***', ' ', 'READ', ' ', 'OUT', ' ', '***', '\\r'], ['Q152.Did', ' ', 'you', ' ', 'watch', ' ', 'the', ' ', 'news', ' ', 'on', ' ', 'TV', ' ', 'One', ' ', 'either', ' ', 'last', ' ', 'night', ' ', 'or', ' ', 'the', ' ', 'night', ' ', 'before?', '\\r'], ['PROBE:', ' ', 'Is', ' ', 'that', ' ', 'slightly', ' ', 'or', ' ', 'strongly', ' ', 'agree/disagree?', '\\r'], [], ['Eu', ' ', 'fico', ' ', 'nervoso(a)', ' ', 'com', ' ', 'pessoas', ' ', 'que', ' ', 'eu', ' ', 'não', ' ', 'conheço', ' ', 'bem.', ' ', '(', ' ', ' ', ')', ' ', '0', ' ', '(', ' ', ' ', ')', ' ', '1', ' ', '(', ' ', ' ', ')', ' ', '2', '\\r'], ['SC21', ' ', 'Eu', ' ', 'fico', ' ', 'preocupado', ' ', 'se', ' ', 'as', ' ', 'coisas', ' ', 'vão', ' ', 'dar', ' ', 'certo', ' ', 'para', ' ', 'mim.', ' ', '(', ' ', ' ', ')', ' ', '0', ' ', '(', ' ', ' ', ')', ' ', '1', ' ', '(', ' ', ' ', ')', ' ', '2', '\\r'], ['SC1', ' ', 'Quando', ' ', 'eu', ' ', 'fico', ' ', 'com', ' ', 'medo,', ' ', 'eu', ' ', 'tenho', ' ', 'dificuldade', ' ', 'de', ' ', 'respirar.', ' ', '(', ' ', ' ', ')', ' ', '0', ' ', '(', ' ', ' ', ')', ' ', '1', ' ', '(', ' ', ' ', ')', ' ', '2', '\\r'], ['SC3', ' ', 'Eu', ' ', 'não', ' ', 'gosto', ' ', 'de', ' ', 'estar', ' ', 'com', ' ', 'pessoas', ' ', 'que', ' ', 'não', ' ', 'conheço', ' ', 'bem.', ' ', '(', ' ', ' ', ')', ' ', '0', ' ', '(', ' ', ' ', ')', ' ', '1', ' ', '(', ' ', ' ', ')', ' ', '2', '\\r'], ['SC14', ' ', 'Eu', ' ', 'me', ' ', 'preocupo', ' ', 'em', ' ', 'ser', ' ', 'tão', ' ', 'bom', ' ', 'quanto', ' ', 'aos', ' ', 'outros.', ' ', '(', ' ', ' ', ')', ' ', '0', ' ', '(', ' ', ' ', ')', ' ', '1', ' ', '(', ' ', ' ', ')', ' ', '2', ' ', 'SC15', ' ', 'Quando', ' ', 'eu', ' ', 'fico', ' ', 'com', ' ', 'medo,', ' ', 'tenho', ' ', 'a', ' ', 'impressão', ' ', 'de', ' ', 'que', ' ', 'as', '\\r'], ['SC4', ' ', 'Eu', ' ', 'fico', ' ', 'com', ' ', 'medo', ' ', 'quando', ' ', 'eu', ' ', 'durmo', ' ', 'fora', ' ', 'de', ' ', 'casa.', ' ', '(', ' ', ' ', ')', ' ', '0', ' ', '(', ' ', ' ', ')', ' ', '1', ' ', '(', ' ', ' ', ')', ' ', '2', ' ', 'SC5', ' ', 'Eu', ' ', 'me', ' ', 'preocupo', ' ', 'se', ' ', 'outras', ' ', 'pessoas', ' ', 'gostam', ' ', 'de', ' ', 'mim.', ' ', '(', ' ', ' ', ')', ' ', '0', ' ', '(', ' ', ' ', ')', ' ', '1', ' ', '(', ' ', ' ', ')', ' ', '2', ' ', 'SC6', ' ', 'Quando', ' ', 'eu', ' ', 'fico', ' ', 'com', ' ', 'medo,', ' ', 'eu', ' ', 'sinto', ' ', 'como', ' ', 'se', ' ', 'eu', ' ', 'fosse', '\\r'], ['Nos', ' ', 'últimos', ' ', '3', ' ', 'meses,', ' ', 'o', ' ', 'quanto', ' ', 'VERDADEIRO', ' ', 'cada', ' ', 'frase', ' ', 'é', ' ', 'para', ' ', 'você:', '\\r'], ['Eu', ' ', 'tenho', ' ', 'medo', ' ', 'de', ' ', 'dormir', ' ', 'sozinho.', ' ', '(', ' ', ' ', ')', ' ', '0', ' ', '(', ' ', ' ', ')', ' ', '1', ' ', '(', ' ', ' ', ')', ' ', '2', '\\r'], ['SC7', ' ', 'Eu', ' ', 'sou', ' ', 'nervoso', ' ', '(a).', ' ', '(', ' ', ' ', ')', ' ', '0', ' ', '(', ' ', ' ', ')', ' ', '1', ' ', '(', ' ', ' ', ')', ' ', '2', '\\r'], ['SC22', ' ', 'Quando', ' ', 'eu', ' ', 'fico', ' ', 'com', ' ', 'medo,', ' ', 'eu', ' ', 'suo', ' ', 'muito.', ' ', '(', ' ', ' ', ')', ' ', '0', ' ', '(', ' ', ' ', ')', ' ', '1', ' ', '(', ' ', ' ', ')', ' ', '2', '\\r'], ['SC17', ' ', 'Eu', ' ', 'fico', ' ', 'preocupado', ' ', 'quando', ' ', 'tenho', ' ', 'que', ' ', 'ir', ' ', 'à', ' ', 'faculdade', ' ', 'ou', ' ', 'trabalho.', '\\r'], ['SC8', ' ', 'Eu', ' ', 'sigo', ' ', 'as', ' ', 'pessoas', ' ', 'a', ' ', 'quem', ' ', 'sou', ' ', 'muito', ' ', 'ligado', ' ', 'aonde', ' ', 'eles', ' ', 'vão.', ' ', '(', ' ', ' ', ')', ' ', '0', ' ', '(', ' ', ' ', ')', ' ', '1', ' ', '(', ' ', ' ', ')', ' ', '2', '\\r'], ['SC16', ' ', 'Eu', ' ', 'tenho', ' ', 'pesadelos', ' ', 'com', ' ', 'coisas', ' ', 'ruins', ' ', 'acontecendo', ' ', 'com', ' ', 'as', ' ', 'pessoas', ' ', 'a', ' ', 'quem', ' ', 'sou', ' ', 'muito', ' ', 'ligado.', '\\r'], ['SC18', ' ', 'Quando', ' ', 'eu', ' ', 'fico', ' ', 'com', ' ', 'medo,', ' ', 'o', ' ', 'meu', ' ', 'coração', ' ', 'bate', ' ', 'rápido.', ' ', '(', ' ', ' ', ')', ' ', '0', ' ', '(', ' ', ' ', ')', ' ', '1', ' ', '(', ' ', ' ', ')', ' ', '2', '\\r'], ['SC11', ' ', 'Eu', ' ', 'tenho', ' ', 'dor', ' ', 'de', ' ', 'barriga', ' ', 'na', ' ', 'faculdade', ' ', 'ou', ' ', 'trabalho.', ' ', '(', ' ', ' ', ')', ' ', '0', ' ', '(', ' ', ' ', ')', ' ', '1', ' ', '(', ' ', ' ', ')', ' ', '2', ' ', 'SC12', ' ', 'Quando', ' ', 'eu', ' ', 'fico', ' ', 'com', ' ', 'medo,', ' ', 'eu', ' ', 'acho', ' ', 'que', ' ', 'vou', ' ', 'enlouquecer.', ' ', '(', ' ', ' ', ')', ' ', '0', ' ', '(', ' ', ' ', ')', ' ', '1', ' ', '(', ' ', ' ', ')', ' ', '2', ' ', 'SC13', '\\r'], ['SC9', ' ', 'As', ' ', 'pessoas', ' ', 'me', ' ', 'dizem', ' ', 'que', ' ', 'eu', ' ', 'pareço', ' ', 'nervoso.', ' ', '(', ' ', ' ', ')', ' ', '0', ' ', '(', ' ', ' ', ')', ' ', '1', ' ', '(', ' ', ' ', ')', ' ', '2', ' ', 'SC10', '\\r'], ['SC19', ' ', 'Quando', ' ', 'eu', ' ', 'fico', ' ', 'nervoso,', ' ', 'eu', ' ', 'tremo', ' ', 'de', ' ', 'medo.', ' ', '(', ' ', ' ', ')', ' ', '0', ' ', '(', ' ', ' ', ')', ' ', '1', ' ', '(', ' ', ' ', ')', ' ', '2', '\\r'], ['SC2', ' ', 'Eu', ' ', 'sinto', ' ', 'dor', ' ', 'de', ' ', 'cabeça', ' ', 'quando', ' ', 'estou', ' ', 'na', ' ', 'faculdade', ' ', 'ou', ' ', 'trabalho.', ' ', '(', ' ', ' ', ')', ' ', '0', ' ', '(', ' ', ' ', ')', ' ', '1', ' ', '(', ' ', ' ', ')', ' ', '2', '\\r'], ['SC20', ' ', 'Eu', ' ', 'tenho', ' ', 'pesadelos', ' ', 'com', ' ', 'alguma', ' ', 'coisa', ' ', 'ruim', ' ', 'acontecendo', ' ', 'comigo.', '\\r'], [], ['Muldoon?', ' ', 'What', ' ', 'is', ' ', 'that?', '\\r'], ['3:35', ' ', 'Is', ' ', 'there', ' ', 'anything', ' ', 'in', ' ', 'particular', ' ', 'you', ' ', 'like', ' ', 'about', ' ', 'Social', ' ', 'Credit?', '\\r'], ['3:12', ' ', 'Have', ' ', 'you', ' ', 'ever', ' ', 'spoken', ' ', 'to', ' ', 'or', ' ', 'heard', ' ', 'Mr.', ' ', 'Woods?', '\\r'], ['3:01', ' ', 'Well,', ' ', 'first', ' ', 'of', ' ', 'all', ' ', 'I', ' ', 'would', ' ', 'like', ' ', 'to', ' ', 'ask', ' ', 'roughly', ' ', 'how', ' ', 'long', ' ', 'you', '\\r'], ['Rodger?', ' ', 'What', ' ', 'is', ' ', 'that?', '\\r'], ['3:57c', ' ', 'AGAIN,', ' ', 'IF', ' ', 'YES', ' ', 'TO', ' ', 'Q.3:57:', ' ', 'Anything', ' ', 'else', ' ', 'of', ' ', 'particular', ' ', 'importance', ' ', 'to', ' ', 'you?', '\\r'], ['3:54', ' ', 'And', ' ', 'is', ' ', 'there', ' ', 'anything', ' ', 'in', ' ', 'particular', ' ', 'that', ' ', 'the', ' ', 'Government', '\\r'], ['difference?', '\\r'], ['as', ' ', 'working-class', ' ', 'or', ' ', 'middle-class?', '\\r'], ['3:14', ' ', 'And,', ' ', 'regardless', ' ', 'of', ' ', 'party,', ' ', 'which', ' ', 'appeals', ' ', 'to', ' ', 'you', ' ', 'most?', '\\r'], ['3:11b', ' ', 'If', ' ', 'YES:', ' ', ' ', 'When', ' ', 'was', ' ', 'that?', '\\r'], ['3:66', ' ', 'There’s', ' ', 'quite', ' ', 'a', ' ', 'bit', ' ', 'of', ' ', 'talk', ' ', 'these', ' ', 'days', ' ', 'about', ' ', 'different', ' ', 'social', '\\r'], ['you', ' ', 'think', ' ', 'that', ' ', 'the', ' ', 'Government', ' ', 'has', ' ', 'done', ' ', 'a', ' ', 'good', ' ', 'job,', ' ', 'a', ' ', 'fair', ' ', 'job,', ' ', 'or', ' ', 'a', '\\r'], ['there', ' ', 'anything', ' ', 'that', ' ', 'the', ' ', 'Government', ' ', 'has', ' ', 'done', ' ', 'here', ' ', 'in', ' ', 'this', ' ', 'region', '\\r'], ['have', ' ', 'been', ' ', 'living', ' ', 'in', ' ', 'the', ' ', 'Dunedin', ' ', 'North', ' ', 'Electorate?', '\\r'], ['3:65', ' ', 'What', ' ', 'is', ' ', 'your', ' ', 'religion?', '\\r'], ['will', ' ', 'win', ' ', 'in', ' ', 'Dunedin', ' ', 'North?', '\\r'], ['3:15', ' ', 'Is', ' ', 'there', ' ', 'anything', ' ', 'in', ' ', 'particular', ' ', 'that', ' ', 'you', ' ', 'like', ' ', 'about', ' ', 'Mr.', '\\r'], ['3:53b', ' ', 'If', ' ', 'YES:', ' ', 'Like', ' ', 'what?', '\\r'], ['3:59c', ' ', 'AGAIN,', ' ', 'IF', ' ', 'YES:', ' ', 'What', ' ', 'further', ' ', 'education', ' ', 'was', ' ', 'that?', '\\r'], ['has', ' ', 'done', ' ', 'here', ' ', 'in', ' ', 'this', ' ', 'region', ' ', 'that', ' ', 'particularly', ' ', 'displeases', ' ', 'you?', '\\r'], ['been', ' ', 'in', ' ', 'Parliament?', '\\r'], ['3:06b', ' ', 'IF', ' ', 'YES:', ' ', 'How', ' ', 'long?', '\\r'], ['that', ' ', 'particularly', ' ', 'pleases', ' ', 'you?', '\\r'], ['3:39', ' ', 'Is', ' ', 'there', ' ', 'anything', ' ', 'in', ' ', 'particular', ' ', 'that', ' ', 'you', ' ', 'like', ' ', 'about', ' ', 'Mr.', '\\r'], ['3:40', ' ', 'Is', ' ', 'there', ' ', 'anything', ' ', 'in', ' ', 'particular', ' ', 'that', ' ', 'you', ' ', 'don’t', ' ', 'like', ' ', 'about', ' ', 'Mr.', '\\r'], ['3:42', ' ', 'Is', ' ', 'there', ' ', 'anything', ' ', 'in', ' ', 'particular', ' ', 'you', ' ', 'don’t', ' ', 'like', ' ', 'about', ' ', 'Mr.', '\\r'], ['3:56b', ' ', 'Why?', '\\r'], ['after', ' ', 'the', ' ', 'forthcoming', ' ', 'election?', '\\r'], ['parties', ' ', 'visited', ' ', 'you?', '\\r'], ['in', ' ', 'the', ' ', 'Dunedin', ' ', 'North', ' ', 'electorate,', ' ', 'regardless', ' ', 'of', ' ', 'party,', ' ', 'who', ' ', 'do', ' ', 'you', '\\r'], ['done', ' ', 'a', ' ', 'good', ' ', 'job,', ' ', 'a', ' ', 'fair', ' ', 'job,', ' ', 'or', ' ', 'a', ' ', 'poor', ' ', 'job?', '\\r'], ['3:70', ' ', 'And', ' ', 'is', ' ', 'there', ' ', 'anything', ' ', 'else', ' ', 'you’d', ' ', 'like', ' ', 'to', ' ', 'tell', ' ', 'me?', '\\r'], ['3:16', ' ', 'Is', ' ', 'there', ' ', 'anything', ' ', 'in', ' ', 'particular', ' ', 'that', ' ', 'you', ' ', 'don’t', ' ', 'like', ' ', 'about', ' ', 'Mr.', '\\r'], ['…….(chosen', ' ', 'party)', ' ', 'do', ' ', 'you', ' ', 'feel', ' ', '–', ' ', 'very', ' ', 'strongly,', ' ', 'fairly', ' ', 'strongly', ' ', 'or', '\\r'], ['3:49', ' ', 'Regardless', ' ', 'of', ' ', 'your', ' ', 'own', ' ', 'preference,', ' ', 'which', ' ', 'party', ' ', 'do', ' ', 'you', '\\r'], ['3:38', ' ', 'Is', ' ', 'there', ' ', 'anything', ' ', 'in', ' ', 'particular', ' ', 'that', ' ', 'you', ' ', 'don’t', ' ', 'like', ' ', 'about', ' ', 'Mr.', '\\r'], ['3:64', ' ', 'How', ' ', 'long', ' ', 'have', ' ', 'you', ' ', 'been', ' ', 'in', ' ', 'New', ' ', 'Zealand?', '\\r'], ['3:45', ' ', 'Generally', ' ', 'speaking,', ' ', 'do', ' ', 'you', ' ', 'usually', ' ', 'think', ' ', 'of', ' ', 'yourself', ' ', 'as', '\\r'], ['the', ' ', 'Social', ' ', 'Credit', ' ', 'candidate?', ' ', 'Who', ' ', 'is', ' ', 'that?', '\\r'], ['Mr.', ' ', 'Woods?', ' ', 'What', ' ', 'is', ' ', 'that?', '\\r'], ['which', ' ', 'are', ' ', 'particularly', ' ', 'important', ' ', 'to', ' ', 'you?', '\\r'], ['3:46', ' ', 'Did', ' ', 'you', ' ', 'vote', ' ', 'at', ' ', 'the', ' ', 'last', ' ', 'general', ' ', 'election?', '\\r'], ['3:63', ' ', 'And', ' ', 'were', ' ', 'you', ' ', 'born', ' ', 'in', ' ', 'New', ' ', 'Zealand?', '\\r'], ['National', ' ', 'Party?', ' ', 'What', ' ', 'is', ' ', 'that?', '\\r'], ['Party?', ' ', 'What', ' ', 'is', ' ', 'that?', '\\r'], ['be?', '\\r'], ['poor', ' ', 'job?', '\\r'], ['3:63b', ' ', 'If', ' ', 'NO:', ' ', 'Well,', ' ', 'what', ' ', 'country', ' ', 'were', ' ', 'you', ' ', 'born', ' ', 'in?', '\\r'], ['3:53', ' ', 'Let’s', ' ', 'look', ' ', 'now', ' ', 'at', ' ', 'some', ' ', 'of', ' ', 'the', ' ', 'issues', ' ', 'in', ' ', 'this', ' ', 'election.', ' ', 'Is', '\\r'], ['3:12b', ' ', 'If', ' ', 'YES:', ' ', ' ', 'When', ' ', 'was', ' ', 'that?', '\\r'], ['have', ' ', 'you', ' ', 'been', ' ', 'a', ' ', 'party', ' ', 'member?', ' ', '(RECORD', ' ', 'ANSWER', ' ', 'HERE:', ' ', ' ', ' ', ' ', ' ', ')', '\\r'], ['3:37', ' ', 'Is', ' ', 'there', ' ', 'anything', ' ', 'in', ' ', 'particular', ' ', 'that', ' ', 'you', ' ', 'like', ' ', 'about', ' ', 'Mr.', '\\r'], ['think', ' ', 'would', ' ', 'make', ' ', 'the', ' ', 'best', ' ', 'M.P.?', '\\r'], ['about', ' ', 'him?', ' ', 'What', ' ', 'is', ' ', 'that?', '\\r'], ['3:20', ' ', 'And', ' ', 'is', ' ', 'there', ' ', 'anything', ' ', 'in', ' ', 'particular', ' ', 'that', ' ', 'you', ' ', 'don’t', ' ', 'like', ' ', 'about', '\\r'], ['3:45c', ' ', 'Are', ' ', 'you', ' ', 'a', ' ', 'member', ' ', 'of', ' ', 'a', ' ', 'political', ' ', 'party?', '\\r'], ['3:04', ' ', 'Do', ' ', 'you', ' ', 'happen', ' ', 'to', ' ', 'know', ' ', 'your', ' ', 'M.P.’s', ' ', 'name?', ' ', 'What', ' ', 'is', ' ', 'that?', '\\r'], ['whole,', ' ', 'or', ' ', 'that', ' ', 'you', ' ', 'don’t', ' ', 'care', ' ', 'very', ' ', 'much', ' ', 'which', ' ', 'party', ' ', 'wins?', '\\r'], ['3:52', ' ', 'And,', ' ', 'regardless', ' ', 'of', ' ', 'your', ' ', 'own', ' ', 'preference,', ' ', 'who', ' ', 'do', ' ', 'you', ' ', 'think', '\\r'], ['Rowling?', ' ', 'What', ' ', 'is', ' ', 'that?', '\\r'], ['What', ' ', 'is', ' ', 'that?', '\\r'], ['think', ' ', 'will', ' ', 'win', ' ', 'the', ' ', 'election', ' ', 'throughout', ' ', 'the', ' ', 'country', ' ', 'as', ' ', 'a', ' ', 'whole?', '\\r'], ['Government', ' ', 'should', ' ', 'be', ' ', 'doing', ' ', 'here', ' ', 'in', ' ', 'this', ' ', 'area?', '\\r'], ['in', ' ', 'politics', ' ', '–', ' ', 'a', ' ', 'great', ' ', 'deal,', ' ', 'quite', ' ', 'a', ' ', 'lot,', ' ', 'some', ' ', 'or', ' ', 'none', ' ', 'at', ' ', 'all?', '\\r'], ['Now,', ' ', 'I', ' ', 'would', ' ', 'like', ' ', 'to', ' ', 'ask', ' ', 'you', ' ', 'how', ' ', 'you', ' ', 'feel', ' ', 'about', ' ', 'the', ' ', 'political', '\\r'], ['leaving', ' ', 'school?', '\\r'], ['3:05', ' ', '(Well),', ' ', 'do', ' ', 'you', ' ', 'happen', ' ', 'to', ' ', 'remember', ' ', 'which', ' ', 'party', ' ', 'your', ' ', 'M.P.', '\\r'], ['3:03', ' ', 'In', ' ', 'the', ' ', 'past', ' ', 'month,', ' ', 'has', ' ', 'anyone', ' ', 'from', ' ', 'any', ' ', 'of', ' ', 'the', ' ', 'political', '\\r'], ['Would', ' ', 'you', ' ', 'tell', ' ', 'me', ' ', 'how', ' ', 'many', ' ', 'men/women', ' ', 'there', ' ', 'are', ' ', 'in', ' ', 'this', ' ', 'household', ' ', 'who', ' ', 'are', ' ', 'registered', '\\r'], ['Labour', ' ', 'Party?', ' ', 'What', ' ', 'is', ' ', 'that?', '\\r'], ['1', ' ', 'CARE', ' ', 'A', ' ', 'GOOD', ' ', 'DEAL', '\\r'], ['3:11', ' ', 'Have', ' ', 'you', ' ', 'ever', ' ', 'spoken', ' ', 'to', ' ', 'or', ' ', 'heard', ' ', 'Mr.', ' ', 'Bleach?', '\\r'], ['difference', ' ', 'between', ' ', 'the', ' ', 'parties,', ' ', 'some', ' ', 'difference,', ' ', 'or', ' ', 'not', ' ', 'much', '\\r'], ['you', ' ', 'like', ' ', 'about', ' ', 'him?', ' ', 'What', ' ', 'is', ' ', 'that?', '\\r'], ['3:10b', ' ', 'If', ' ', 'YES:', ' ', 'When', ' ', 'was', ' ', 'that', ' ', '?', '\\r'], ['3:51', ' ', ' ', 'Who', ' ', 'would', ' ', 'you', ' ', 'like', ' ', 'to', ' ', 'win', ' ', 'the', ' ', 'Dunedin', ' ', 'North', ' ', 'Electorate?', '\\r'], ['3:10', ' ', 'Have', ' ', 'you', ' ', 'ever', ' ', 'spoken', ' ', 'to', ' ', 'or', ' ', 'heard', ' ', 'Mr.', ' ', 'Rodger?', '\\r'], ['3:59', ' ', 'Did', ' ', 'you', ' ', 'have', ' ', 'any', ' ', 'full-time', ' ', 'or', ' ', 'part-time', ' ', 'education', ' ', 'after', '\\r'], ['3:02', ' ', 'How', ' ', 'much', ' ', 'interest', ' ', 'do', ' ', 'you', ' ', 'generally', ' ', 'have', ' ', 'in', ' ', 'what', ' ', 'goes', ' ', 'on', '\\r'], ['3:45d', ' ', 'If', ' ', 'YES:', ' ', 'Which', ' ', 'party', ' ', 'is', ' ', 'that?', '\\r'], ['Anything', ' ', 'else?', '\\r'], ['3:06', ' ', 'And', ' ', 'do', ' ', 'you,', ' ', 'by', ' ', 'any', ' ', 'chance', ' ', 'know', ' ', 'how', ' ', 'long', ' ', 'your', ' ', 'M.P.’s', '\\r'], ['3:62', ' ', 'Would', ' ', 'you', ' ', 'mind', ' ', 'telling', ' ', 'me', ' ', 'how', ' ', 'old', ' ', 'you', ' ', 'are?', '\\r'], ['belongs', ' ', 'to?', ' ', 'Which', ' ', 'party', ' ', 'is', ' ', 'that?', '\\r'], ['3:61', ' ', 'And', ' ', 'your', ' ', 'husband’s/wife’s', ' ', 'occupation?', '\\r'], ['candidate?', '\\r'], ['win', ' ', 'the', ' ', 'general', ' ', 'election', ' ', 'throughout', ' ', 'the', ' ', 'country', ' ', 'as', ' ', 'a', ' ', 'whole?', '\\r'], ['National,', ' ', 'Labour,', ' ', 'Social', ' ', 'Credit,', ' ', 'or', ' ', 'what?', '\\r'], ['for', ' ', 'the', ' ', 'same', ' ', 'party?', '\\r'], ['3:23', ' ', 'Is', ' ', 'there', ' ', 'anything', ' ', 'in', ' ', 'particular', ' ', 'that', ' ', 'you', ' ', 'don’t', ' ', 'like', ' ', 'about', ' ', 'the', '\\r'], ['3:07', ' ', 'Can', ' ', 'you', ' ', 'tell', ' ', 'me', ' ', 'the', ' ', 'name', ' ', 'of', ' ', 'the', ' ', 'Labour', ' ', 'Party', ' ', 'candidate?', '\\r'], ['-', ' ', 'FOR', ' ', 'EXAMPLE,', ' ', 'A', ' ', 'BRIEF', ' ', 'PERSONAL', ' ', 'DESCRIPTION', ' ', 'OF', '\\r'], ['3:50', ' ', 'Would', ' ', 'you', ' ', 'say', ' ', 'that', ' ', 'you', ' ', 'care', ' ', 'a', ' ', 'good', ' ', 'deal', ' ', 'about', ' ', 'which', '\\r'], ['not', ' ', 'very', ' ', 'strongly?', '\\r'], ['3:21', ' ', 'In', ' ', 'general', ' ', 'do', ' ', 'you', ' ', 'think', ' ', 'the', ' ', 'current', ' ', 'M.P.,', ' ', 'Mr.', ' ', 'Rodger', ' ', 'has', '\\r'], ['November', ' ', '),', ' ', 'who', ' ', 'do', ' ', 'you', ' ', 'think', ' ', 'you’ll', ' ', 'vote', ' ', 'for?', '\\r'], ['3:34', ' ', ' ', 'Is', ' ', 'there', ' ', 'anything', ' ', 'in', ' ', 'particular', ' ', 'you', ' ', 'don’t', ' ', 'like', ' ', 'about', ' ', 'the', '\\r'], ['3:68', ' ', 'Could', ' ', 'you', ' ', 'tell', ' ', 'me', ' ', 'why?', '\\r'], ['3:18', ' ', 'And', ' ', 'is', ' ', 'there', ' ', 'anything', ' ', 'in', ' ', 'particular', ' ', 'that', ' ', 'you', ' ', 'don’t', ' ', 'like', ' ', 'about', '\\r'], ['2', ' ', 'DON’T', ' ', 'CARE', ' ', 'VERY', ' ', 'MUCH', '\\r'], ['3:22', ' ', 'Is', ' ', 'there', ' ', 'anything', ' ', 'in', ' ', 'particular', ' ', 'that', ' ', 'you', ' ', 'like', ' ', 'about', ' ', 'the', '\\r'], ['3:46b', ' ', 'If', ' ', 'YES:', ' ', 'Would', ' ', 'you', ' ', 'mind', ' ', 'telling', ' ', 'me', ' ', 'how', ' ', 'you', ' ', 'voted?', ' ', '(IF', '\\r'], ['3:33', ' ', 'Is', ' ', 'there', ' ', 'anything', ' ', 'in', ' ', 'particular', ' ', 'you', ' ', 'like', ' ', 'about', ' ', 'the', ' ', 'Labour', '\\r'], ['since', ' ', 'you', ' ', 'have', ' ', 'been', ' ', 'old', ' ', 'enough', ' ', 'to', ' ', 'vote,', ' ', 'have', ' ', 'you', ' ', 'always', ' ', 'voted', '\\r'], ['OF', ' ', 'THOSE', ' ', 'WHO', ' ', 'SAID', ' ', '‘NO’', ' ', 'to', ' ', 'Q.3:46,', ' ', 'ASK:', ' ', 'In', ' ', 'general', ' ', 'elections', '\\r'], ['3:19', ' ', 'And', ' ', 'Mr.', ' ', 'Woods:', ' ', 'Is', ' ', 'there', ' ', 'anything', ' ', 'in', ' ', 'particular', ' ', 'that', ' ', 'you', ' ', 'like', '\\r'], ['3:41', ' ', 'Is', ' ', 'there', ' ', 'anything', ' ', 'in', ' ', 'particular', ' ', 'you', ' ', 'like', ' ', 'about', ' ', 'Mr.', ' ', 'Beetham?', '\\r'], ['the', ' ', 'better', ' ', 'Prime', ' ', 'Minister', ' ', 'for', ' ', 'New', ' ', 'Zealand?', '\\r'], ['classes.', ' ', 'If', ' ', 'you', ' ', 'had', ' ', 'to', ' ', 'make', ' ', 'a', ' ', 'choice,', ' ', 'would', ' ', 'you', ' ', 'describe', ' ', 'yourself', '\\r'], ['a', ' ', 'trade', ' ', 'union?', '\\r'], ['electors', ' ', 'in', ' ', 'the', ' ', 'DUNEDIN', ' ', 'NORTH', ' ', 'ELECTORATE?', '\\r'], ['Beetham?', ' ', 'What', ' ', 'is', ' ', 'that?', '\\r'], ['3:54b', ' ', 'If', ' ', 'YES:', ' ', 'Like', ' ', 'what?', '\\r'], ['3:57b', ' ', 'If', ' ', 'YES:', ' ', 'Such', ' ', 'as?', '\\r'], ['3:55', ' ', 'Is', ' ', 'there', ' ', 'anything', ' ', 'in', ' ', 'particular', ' ', 'that', ' ', 'you', ' ', 'feel', ' ', 'that', ' ', 'the', '\\r'], ['Mr.', ' ', 'Bleach?', ' ', 'What', ' ', 'is', ' ', 'that?', '\\r'], ['3:47b', ' ', 'If', ' ', '‘NO’', ' ', 'TO', ' ', 'Q.3:47:', ' ', 'Which', ' ', '(other)', ' ', 'parties', ' ', 'have', ' ', 'you', ' ', 'voted', ' ', 'for?', ' ', 'When?', '\\r'], ['ASK:', ' ', 'Have', ' ', 'you', ' ', 'always', ' ', 'voted', ' ', 'for', ' ', 'the', ' ', 'same', ' ', 'party?', '\\r'], ['3:55b', ' ', 'If', ' ', 'YES:', ' ', 'Such', ' ', 'as?', '\\r'], ['3:59b', ' ', ' ', 'If', ' ', 'YES:', ' ', 'Full-time', ' ', 'or', ' ', 'part-time?', '\\r'], ['3:60', ' ', 'Would', ' ', 'you', ' ', 'mind', ' ', 'telling', ' ', 'me', ' ', 'what', ' ', 'your', ' ', 'occupation', ' ', 'is?', '\\r'], ['3:03b', ' ', 'IF', ' ', 'YES:', ' ', 'Could', ' ', 'you', ' ', 'give', ' ', 'me', ' ', 'details?', '\\r'], ['CS1.', ' ', ' ', 'As', ' ', 'crianças', ' ', 'faltarem', ' ', 'na', ' ', 'escola', ' ', 'e', ' ', 'ficarem', ' ', 'brincando', ' ', 'na', ' ', 'rua?', '\\r'], ['CS3.', ' ', ' ', 'Se', ' ', 'as', ' ', 'crianças', ' ', 'estiverem', ' ', 'sendo', ' ', 'mal', ' ', 'educadas', ' ', 'com', ' ', 'um', ' ', 'adulto?', '\\r'], ['CS4.', ' ', ' ', 'Se', ' ', 'acontecer', ' ', 'uma', ' ', 'briga', ' ', 'em', ' ', 'frente', ' ', 'a', ' ', 'sua', ' ', 'casa?', '\\r'], ['Seus', ' ', 'vizinhos', ' ', 'tomariam', ' ', 'alguma', ' ', 'atitude', ' ', 'se...', '\\r'], ['CS5.', ' ', ' ', 'Se', ' ', 'houver', ' ', 'diminuição', ' ', 'do', ' ', 'número', ' ', 'de', ' ', 'postos', ' ', 'de', ' ', 'saúde', ' ', 'ou', ' ', 'outros', ' ', 'serviços', ' ', 'essenciais', ' ', 'no', ' ', 'bairro?', '\\r'], ['CS2.', ' ', ' ', 'Se', ' ', 'as', ' ', 'crianças', ' ', 'estiverem', ' ', 'pichando', ' ', 'um', ' ', 'muro', ' ', 'do', ' ', 'bairro?', '\\r'], [], ['Concurrent', ' ', 'and', ' ', 'discriminate', ' ', 'validity', ' ', 'evidence.', ' ', 'Journal', ' ', 'of', ' ', 'Personality', ' ', 'and', ' ', 'Social', ' ', 'Psychology,', ' ', '39,', ' ', '472-480.', '\\r'], ['Russell,', ' ', 'D.', ' ', '(1996).', ' ', 'UCLA', ' ', 'Loneliness', ' ', 'Scale', ' ', '(Version', ' ', '3):', ' ', 'Reliability,', ' ', 'validity,', ' ', 'and', ' ', 'factor', '\\r'], ['1.', ' ', 'I', ' ', 'am', ' ', 'unhappy', ' ', 'doing', ' ', 'so', ' ', 'many', ' ', 'things', ' ', 'alone', ' ', ' ', ' ', ' ', 'O', ' ', ' ', 'S', ' ', ' ', 'R', ' ', ' ', 'N', ' ', '2.', ' ', 'I', ' ', 'have', ' ', 'nobody', ' ', 'to', ' ', 'talk', ' ', 'to', ' ', ' ', ' ', ' ', ' ', ' ', ' ', 'O', ' ', ' ', 'S', ' ', ' ', 'R', ' ', ' ', 'N', ' ', '3.', ' ', 'I', ' ', 'cannot', ' ', 'tolerate', ' ', 'being', ' ', 'so', ' ', 'alone', ' ', ' ', ' ', ' ', ' ', ' ', 'O', ' ', ' ', 'S', ' ', ' ', 'R', ' ', ' ', 'N', ' ', '4.', ' ', 'I', ' ', 'lack', ' ', 'companionship', ' ', ' ', ' ', ' ', ' ', ' ', ' ', 'O', ' ', ' ', 'S', ' ', ' ', 'R', ' ', ' ', 'N', ' ', '5.', ' ', 'I', ' ', 'feel', ' ', 'as', ' ', 'if', ' ', 'nobody', ' ', 'really', ' ', 'understands', ' ', 'me', ' ', ' ', ' ', ' ', ' ', 'O', ' ', ' ', 'S', ' ', ' ', 'R', ' ', ' ', 'N', ' ', '6.', ' ', 'I', ' ', 'find', ' ', 'myself', ' ', 'waiting', ' ', 'for', ' ', 'people', ' ', 'to', ' ', 'call', ' ', 'or', ' ', 'write', ' ', ' ', ' ', 'O', ' ', ' ', 'S', ' ', ' ', 'R', ' ', ' ', 'N', ' ', '7.', ' ', 'There', ' ', 'is', ' ', 'no', ' ', 'one', ' ', 'I', ' ', 'can', ' ', 'turn', ' ', 'to', ' ', ' ', ' ', ' ', ' ', ' ', 'O', ' ', ' ', 'S', ' ', ' ', 'R', ' ', ' ', 'N', ' ', '8.', ' ', 'I', ' ', 'am', ' ', 'no', ' ', 'longer', ' ', 'close', ' ', 'to', ' ', 'anyone', ' ', ' ', ' ', ' ', ' ', 'O', ' ', ' ', 'S', ' ', ' ', 'R', ' ', ' ', 'N', ' ', '9.', ' ', 'My', ' ', 'interests', ' ', 'and', ' ', 'ideas', ' ', 'are', ' ', 'not', ' ', 'shared', ' ', 'by', ' ', 'those', ' ', 'around', ' ', 'me', ' ', ' ', 'O', ' ', ' ', 'S', ' ', ' ', 'R', ' ', ' ', 'N', ' ', '10.', ' ', 'I', ' ', 'feel', ' ', 'left', ' ', 'out', ' ', ' ', ' ', ' ', ' ', ' ', ' ', ' ', 'O', ' ', ' ', 'S', ' ', ' ', 'R', ' ', ' ', 'N', ' ', '11.', ' ', 'I', ' ', 'feel', ' ', 'completely', ' ', 'alone', ' ', ' ', ' ', ' ', ' ', ' ', 'O', ' ', ' ', 'S', ' ', ' ', 'R', ' ', ' ', 'N', ' ', '12.', ' ', 'I', ' ', 'am', ' ', 'unable', ' ', 'to', ' ', 'reach', ' ', 'out', ' ', 'and', ' ', 'communicate', ' ', 'with', ' ', 'those', ' ', 'around', ' ', 'me', ' ', 'O', ' ', ' ', 'S', ' ', ' ', 'R', ' ', ' ', 'N', ' ', '13.', ' ', 'My', ' ', 'social', ' ', 'relationships', ' ', 'are', ' ', 'superficial', ' ', ' ', ' ', ' ', 'O', ' ', ' ', 'S', ' ', ' ', 'R', ' ', ' ', 'N', ' ', '14.', ' ', 'I', ' ', 'feel', ' ', 'starved', ' ', 'for', ' ', 'company', ' ', ' ', ' ', ' ', ' ', ' ', 'O', ' ', ' ', 'S', ' ', ' ', 'R', ' ', ' ', 'N', ' ', '15.', ' ', 'No', ' ', 'one', ' ', 'really', ' ', 'knows', ' ', 'me', ' ', 'well', ' ', ' ', ' ', ' ', ' ', 'O', ' ', ' ', 'S', ' ', ' ', 'R', ' ', ' ', 'N', ' ', '16.', ' ', 'I', ' ', 'feel', ' ', 'isolated', ' ', 'from', ' ', 'others', ' ', ' ', ' ', ' ', ' ', ' ', 'O', ' ', ' ', 'S', ' ', ' ', 'R', ' ', ' ', 'N', ' ', '17.', ' ', 'I', ' ', 'am', ' ', 'unhappy', ' ', 'being', ' ', 'so', ' ', 'withdrawn', ' ', ' ', ' ', ' ', ' ', 'O', ' ', ' ', 'S', ' ', ' ', 'R', ' ', ' ', 'N', ' ', '18.', ' ', 'It', ' ', 'is', ' ', 'difficult', ' ', 'for', ' ', 'me', ' ', 'to', ' ', 'make', ' ', 'friends', ' ', ' ', ' ', ' ', 'O', ' ', ' ', 'S', ' ', ' ', 'R', ' ', ' ', 'N', ' ', '19.', ' ', 'I', ' ', 'feel', ' ', 'shut', ' ', 'out', ' ', 'and', ' ', 'excluded', ' ', 'by', ' ', 'others', ' ', ' ', ' ', ' ', 'O', ' ', ' ', 'S', ' ', ' ', 'R', ' ', ' ', 'N', ' ', '20.', ' ', 'People', ' ', 'are', ' ', 'around', ' ', 'me', ' ', 'but', ' ', 'not', ' ', 'with', ' ', 'me', ' ', ' ', ' ', ' ', 'O', ' ', ' ', 'S', ' ', ' ', 'R', ' ', ' ', 'N', '\\r'], ['Russell,', ' ', 'D', ' ', ',', ' ', 'Peplau,', ' ', 'L.', ' ', 'A..', ' ', '&', ' ', 'Ferguson,', ' ', 'M.', ' ', 'L.', ' ', '(1978).', ' ', 'Developing', ' ', 'a', ' ', 'measure', ' ', 'of', ' ', 'loneliness.', '\\r'], ['A', ' ', '20-item', ' ', 'scale', ' ', 'designed', ' ', 'to', ' ', 'measure', ' ', 'one’s', ' ', 'subjective', ' ', 'feelings', ' ', 'of', ' ', 'loneliness', ' ', 'as', ' ', 'well', ' ', 'as', ' ', 'feelings', ' ', 'of', ' ', 'social', ' ', 'isolation.', ' ', ' ', 'Participants', ' ', 'rate', ' ', 'each', ' ', 'item', ' ', 'as', ' ', 'either', ' ', 'O', ' ', '(“I', ' ', 'often', ' ', 'feel', ' ', 'this', ' ', 'way”),', ' ', 'S', ' ', '(“I', ' ', 'sometimes', ' ', 'feel', ' ', 'this', ' ', 'way”),', ' ', 'R', ' ', '(“I', ' ', 'rarely', ' ', 'feel', ' ', 'this', ' ', 'way”),', ' ', 'N', ' ', '(“I', ' ', 'never', ' ', 'feel', ' ', 'this', ' ', 'way”).', ' ', 'The', ' ', 'measure', ' ', 'has', ' ', 'been', ' ', 'revised', ' ', 'two', ' ', 'times', ' ', 'since', ' ', 'its', ' ', 'first', ' ', 'publication;', ' ', 'once', ' ', 'to', ' ', 'create', ' ', 'reverse', ' ', 'scored', ' ', 'items,', ' ', 'and', ' ', 'once', ' ', 'to', ' ', 'simplify', ' ', 'the', ' ', 'wording.', ' ', ' ', '(See', ' ', 'other', ' ', 'UCLA', ' ', 'Loneliness', ' ', 'Scale', ' ', 'pages', ' ', 'on', ' ', 'the', ' ', 'site).', '\\r'], ['Russell,', ' ', 'D', ' ', ',', ' ', 'Peplau,', ' ', 'L.', ' ', 'A..,', ' ', '&', ' ', 'Cutrona,', ' ', 'C.', ' ', 'E.', ' ', '(1980).', ' ', 'The', ' ', 'Revised', ' ', 'UCLA', ' ', 'Loneliness', ' ', 'Scale:', '\\r'], ['Self', ' ', 'Report', ' ', 'Measures', ' ', 'for', ' ', 'Love', ' ', 'and', ' ', 'Compassion', ' ', 'Research:', ' ', 'Loneliness', ' ', 'and', ' ', 'Interpersonal', ' ', 'Problems', '\\r'], ['structure.', ' ', 'Journal', ' ', 'of', ' ', 'Personality', ' ', 'Assessment,', ' ', '66,', ' ', '20-40.', '\\r'], ['loneliness', ' ', 'and', ' ', 'depression:', ' ', 'A', ' ', 'structural', ' ', 'equation', ' ', 'analysis.', ' ', 'Journal', ' ', 'of', ' ', 'Personality', ' ', 'and', ' ', 'Social', ' ', 'Psychology,', ' ', '39,1238-1244', ' ', 'Research', ' ', 'on', ' ', 'loneliness', ' ', 'has', ' ', 'been', ' ', 'hampered', ' ', 'by', ' ', 'its', ' ', 'strong', ' ', 'association', ' ', 'with', ' ', 'depression.', ' ', 'The', ' ', '2', ' ', 'states', ' ', 'frequently', ' ', 'co-occur,', ' ', 'and', ' ', 'measures', ' ', 'of', ' ', 'the', ' ', '2', ' ', 'states', ' ', 'are', ' ', 'substantially', ' ', 'correlated.', ' ', 'Inability', ' ', 'to', ' ', 'manipulate', ' ', 'experimentally', ' ', 'loneliness', ' ', 'or', ' ', 'depression', ' ', 'makes', ' ', 'it', ' ', 'difficult', ' ', 'to', ' ', 'untangle', ' ', 'the', ' ', 'causal', ' ', 'influence', ' ', 'of', ' ', 'one', ' ', 'on', ' ', 'the', ' ', 'other.', ' ', 'The', ' ', 'combination', ' ', 'of', ' ', 'longitudinal', ' ', 'design', ' ', 'and', ' ', 'structural', ' ', 'equation', ' ', 'methodology', ' ', 'is', ' ', 'proposed', ' ', 'as', ' ', 'a', ' ', 'solution', ' ', 'to', ' ', 'this', ' ', 'general', ' ', 'problem.', ' ', 'Measures', ' ', 'of', ' ', 'loneliness', ' ', 'and', ' ', 'depression', ' ', '(e.g.,', ' ', 'the', ' ', 'Beck', ' ', 'Depression', ' ', 'Inventory', ' ', 'and', ' ', 'Profile', ' ', 'of', ' ', 'Mood', ' ', 'States)', ' ', 'were', ' ', 'administered', ' ', 'to', ' ', 'undergraduates', ' ', 'at', ' ', '2', ' ', 'points', ' ', '5', ' ', 'wks', ' ', 'apart.', ' ', 'Data', ' ', 'from', ' ', '333', ' ', 'Ss', ' ', 'were', ' ', 'correlated', ' ', 'and', ' ', 'analyzed', ' ', 'under', ' ', 'a', ' ', 'succession', ' ', 'of', ' ', 'structural', ' ', 'equation', ' ', 'models.', ' ', 'Results', ' ', 'indicate', ' ', 'that', ' ', 'loneliness', ' ', 'and', ' ', 'depression', ' ', 'were', ' ', 'correlated', ' ', 'but', ' ', 'clearly', ' ', 'different', ' ', 'constructs;', ' ', 'neither', ' ', 'was', ' ', 'a', ' ', 'direct', ' ', 'cause', ' ', 'of', ' ', 'the', ' ', 'other,', ' ', 'although', ' ', 'both', ' ', 'probably', ' ', 'share', ' ', 'some', ' ', 'common', ' ', 'origins;', ' ', 'both', ' ', 'were', ' ', 'highly', ' ', 'stable', ' ', 'over', ' ', 'the', ' ', '5-', ' ', 'wk', ' ', 'period.', '\\r'], [], ['Were', ' ', 'eye', ' ', 'drops', ' ', 'used', ' ', 'prophylactically?', ' ', 'None', ' ', 'cesesccsssseseanes', ' ', '_ACLRT', ' ', '+', ' ', 'wed', ' ', 'Silver', ' ', 'Nitrate.', ' ', 'cc', ' ', 'ceeeceeeeeeeeeee', ' ', 'Other', ' ', '(specify)', ' ', '20.0000...', '\\r'], ['Q8.', ' ', 'Does', ' ', 'the', ' ', 'mother', ' ', 'care', ' ', 'for', ' ', 'children', ' ', 'at', ' ', 'home', ' ', '(including', ' ', 'adopted', ' ', 'and', ' ', 'foster', ' ', 'children)?', '\\r'], ['home', ' ', '(including', ' ', 'adopted', ' ', 'and', ' ', 'foster', ' ', 'children)', ' ', '?', '\\r'], ['Q22.', ' ', 'Did', ' ', 'the', ' ', 'mother', ' ', 'have', ' ', 'any', ' ', 'inpatient', ' ', 'care', ' ', 'during', ' ', 'the', ' ', 'antenatal', ' ', 'period', '\\r'], ['Was', ' ', 'pitting', ' ', 'oedema', ' ', 'present?', '\\r'], ['Midwife', ' ', '_', ' ', 'Hospital...', ' ', '—', ' ', 'AGLISD', ' ', '4', ' ', 'GP.', ' ', 'Unit', ' ', 'enone', ' ', 'AOIYZE', ' ', '5', ' ', 'Domiciliary', ' ', '.......', ' ', 'ACII3EF....6', '\\r'], ['Anaesthetics', ' ', 'during', ' ', 'and', ' ', 'after', ' ', 'labour', '\\r'], ['WE', ' ', 'ARE', ' ', 'GRATEFUL', ' ', 'FOR', ' ', 'THE', ' ', 'TIME', ' ', 'YOU', ' ', 'HAVE', ' ', 'GIVEN.', ' ', 'THANK', ' ', 'YOU', ' ', 'FOR', ' ', 'YOUR', ' ', 'HELP', '\\r'], ['Looked', ' ', 'after', ' ', 'by', ' ', 'Home', ' ', 'Help', '\\r'], ['Any', ' ', 'gaps', ' ', 'between', ' ', 'contraceptive', ' ', 'use=', ' ', 'A0029P', '\\r'], ['Because', ' ', 'of', ' ', 'some', ' ', 'abnormality', ' ', 'which', ' ', 'arose', ' ', 'during', ' ', 'PFEQNANCY.n', ' ', 'ne', '\\r'], ['Details', ' ', 'of', ' ', 'who', ' ', 'cares', ' ', '2nd', ' ', 'instance=', ' ', 'A0023', ' ', 'No.', ' ', 'children', ' ', '2nd', ' ', 'instance=', ' ', 'A0024', '\\r'], ['Drugs', ' ', 'Pethidine.', ' ', 'ou.', ' ', 'AGAE', '\\r'], ['No.', ' ', 'previous', ' ', 'deaths', ' ', '7', ' ', 'days+=', ' ', 'A0171', '\\r'], ['Q17.', ' ', 'Were', ' ', 'haemoglobin', ' ', 'estimations', ' ', 'done?', '\\r'], ['Was', ' ', 'there', ' ', 'any', ' ', 'non-infective', ' ', 'proteinuria?', '\\r'], ['Person', ' ', 'informed', ' ', 'A0366', ' ', 'A0369', ' ', 'A0372', ' ', 'GAP.', ' ', 'eeeetceeetneeeeeeeeeeeeeeeeeneeeesneeesaees', ' ', 'A0366A', ' ', 'A0369A', ' ', 'Local', ' ', 'Health', ' ', 'department............', ' ', 'A0366B', ' ', 'A0369B', ' ', 'Midwife', '\\r'], ['Were', ' ', 'any', ' ', 'operations', ' ', 'performed?', '\\r'], ['DBE', ' ', 'MOLE', ' ', 'wif', ' ', 'Vitamin', ' ', 'K', ' ', '(e.g.', ' ', 'Synkavit,', ' ', 'Konakion)', ' ', 'given?', '\\r'], ['Month', ' ', 'stopped', ' ', 'Pill=', ' ', 'AO0029D', '\\r'], ['10', ' ', 'What', ' ', 'type', ' ', 'of', ' ', 'antenatal', ' ', 'preparation', ' ', 'did', ' ', 'the', ' ', 'mother', ' ', 'receive', ' ', 'during', ' ', 'this', ' ', 'preg-', ' ', 'nancy', ' ', '?', '\\r'], ['31', ' ', 'When', ' ', 'was', ' ', 'regular', ' ', 'respiration', ' ', 'established', ' ', '?', '\\r'], ['Months', ' ', 'on', ' ', 'Pill', ' ', '5=', ' ', 'AOO29N', '\\r'], ['SEL', ' ', 'PAGE', ' ', '4a', ' ', 'Place', ' ', 'of', ' ', 'admission', ' ', 'N.H.S.', ' ', 'Consultant', ' ', 'Hospital', ' ', 'Consultant', ' ', 'bed', '\\r'], ['Other', ' ', 'treatments', ' ', 'given', ' ', 'to', ' ', 'baby', ' ', 'None', ' ', 'cocnmunnnnnn', ' ', 'Ont', ' ', 'F', ' ', 'eseesenneseeees', ' ', '1', ' ', 'YO@S', ' ', '(SPECIFY)', ' ', 'ceecccsessssssssessseeseeseeseeeesseseseseseenesseeses', '\\r'], ['19', ' ', 'Has', ' ', 'the', ' ', 'mother', ' ', 'aigisat', ' ', 'diabetes?', '\\r'], ['Q46.', ' ', 'If', ' ', 'the', ' ', 'mother', ' ', 'moved', ' ', 'who', ' ', 'was', ' ', 'informed?', '\\r'], ['Was', ' ', 'a', ' ', 'postmortem', ' ', 'performed?', ' ', 'STILLBIRTHS', ' ', 'AND', ' ', 'NEONATAL', ' ', 'DEATHS', ' ', 'ONLY', ' ', 'Yes', ' ', '1', ' ', '(For', ' ', 'Medical', ' ', 'Officer', ' ', 'of', ' ', 'Health', ' ', 'only)', ' ', 'No', ' ', '2', ' ', 'Registered', ' ', 'cause', ' ', 'of', ' ', 'death', ' ', 'Not', ' ', 'known', ' ', '0', '\\r'], ['9', ' ', 'Since', ' ', 'January,', ' ', '1968', ' ', 'was', ' ', 'any', ' ', 'form', ' ', 'of', ' ', 'contraception', ' ', 'used', ' ', '?', '\\r'], ['lf', ' ', 'the', ' ', 'Pill', ' ', 'was', ' ', 'used:', ' ', 'How', ' ', 'many', ' ', 'different', ' ', 'brands', ' ', 'have', ' ', 'been', ' ', 'used', ' ', '?', '\\r'], ['Method', ' ', 'Record', ' ', 'any', ' ', 'of', ' ', 'the', ' ', 'following', ' ', 'which', ' ', 'occurred', ' ', ':', '\\r'], ['N.H.S.G.P.', ' ', 'Maternity', ' ', 'Unit', ' ', 'without', ' ', 'resident', ' ', 'medical', ' ', 'officer', ' ', 'PHIVAtE', ' ', 'Lecce', ' ', 'Other', ' ', '(specify)', ' ', '...', ' ', 'Not', ' ', 'known', '\\r'], ['Was', ' ', 'a', ' ', 'blood', ' ', 'transfusion', ' ', 'given?', '\\r'], ['A', ' ', 'Survey', ' ', 'under', ' ', 'the', ' ', 'joint', ' ', 'auspices', ' ', 'of', ' ', 'the', ' ', 'National', ' ', 'Birthday', ' ', 'Trust', ' ', 'Fund', ' ', 'and', ' ', 'the', ' ', 'Royal', ' ', 'College', ' ', 'of', ' ', 'Obstetricians', ' ', 'and', ' ', 'Gynaecologists', '\\r'], ['a)', ' ', 'In', ' ', 'mothercraft', ' ', '(e.g.', ' ', 'care', ' ', 'of', ' ', 'the', ' ', 'baby)', ' ', 'NONE', ' ', 'oo', ' ', 'es', '\\r'], ['85°F', ' ', '(30°C)', ' ', 'or', ' ', 'lower', ' ', 'used?', '\\r'], ['34', ' ', 'Who', ' ', 'undertook', ' ', 'the', ' ', 'delivery', ' ', '?', ' ', 'For', ' ', 'Office', ' ', '35', ' ', 'Part', ' ', 'II', ' ', 'was', ' ', 'completed', ' ', 'by', ' ', 'For', ' ', 'Office', ' ', 'eer', ' ', 'Use', ' ', 'Only', ' ', '.', ' ', 'Use', ' ', 'Only', ' ', 'Midwite', ' ', '-', ' ', 'Using', ' ', 'records', ' ', 'Domiciliary', ' ', 'Hospital', ' ', ' ', 'AO2S4A', ' ', '3', ' ', 'Hospital', ' ', '.............', ' ', 'ce', ' ', 'AMARA', ' ', 'DLO,', ' ', 'GP.', ' ', '—', ' ', 'ACZR846', ' ', '2', ' ', 'Pupil', ' ', 'Midwife...', ' ', 'Aoassc.3', ' ', 'Midwit', ' ', '“AV', ' ', 'IS4EC', ' ', '3', ' ', ',', ' ', 'AL2Ik3D', ' ', '4', ' ', 'IdWife', ' ', 'oo', ' ', 'AE', ' ', 'ALOT', ' ', 'SS...', ' ', 'Consultant', ' ', 'Obstetrician', ' ', '“1¢', ' ', 'aoe', ' ', '(57)', ' ', 'Co-', ' ', 'operation', ' ', 'Card', ' ', 'ACAS4D', ' ', '4', ' ', 'REQISUAP', ' ', 'ccc', ' ', 'ee', ' ', 'At', ' ', '289.E..5', ' ', 'p', ' ', 'Ic', ' ', 'House', ' ', 'Officer', ' ', 'ersonal', ' ', 'Communication', ' ', '(58)', ' ', 'GP', ' ', 'oocccccccccccse', ' ', 'verses', ' ', 'Hospital', ' ', 'Doctor', ' ', '....', ' ', 'Aoaats', ' ', '5', ' ', 'Medical', ' ', 'Student', ' ', 'GPa', ' ', 'Me:', ' ', 'Seu.', ' ', '6', ' ', 'Other', ' ', '(specify)', ' ', 'Av', ' ', 'Midwife', ' ', '.', ' ', 'ho', ' ', '7', ' ', 'Onnen', ' ', \"spesi'y)\", ' ', 'wh', ' ', 'OR', ' ', 'S4T', ' ', '8', ' ', 'bose', ' ', 'ceeteceeeeceeseneeceeseessieseteseeeseaeecieeescisauesiesesittersecsnssusanes', ' ', 'F;', ' ', 'A098', ' ', '4H', ' ', '36', ' ', 'Did', ' ', 'the', ' ', 'mother', ' ', 'have', ' ', 'any', ' ', 'evidence', ' ', 'of', ' ', 'For', ' ', 'Office', ' ', '39', ' ', 'Was', ' ', 'lactation', ' ', 'For', ' ', 'Office', ' ', 'eclampsia', ' ', 'occurring', ' ', 'for', ' ', 'the', ' ', 'first', ' ', 'time', ' ', 'Use', ' ', 'Only', ' ', 'AC29F', ' ', '1', ' ', 'Use', ' ', 'Only', ' ', 'in', ' ', 'labour', ' ', 'or', ' ', 'the', ' ', 'puerberum', ' ', '?', ' ', 'Sl', ' ', 'AUEMPtEd', ' ', 'nee', ' ', 'es', ' ', 'Yes', ' ', 'AO2SS', ' ', 'oo', ' ', '4', ' ', 'Not', ' ', 'attempted', ' ', 'oes', ' ', 'we', ' ', '(17)', ' ', 'NO', ' ', 'ccccccccccccccescce', ' ', 'ccscceseeseeeeseninniniee', ' ', 'vee', ' ', '2', ' ', 'J', ' ', 'Not', ' ', 'known..........', ' ', '0', ' ', 'Not', ' ', 'KNOWN', ' ', 'ccc', ' ', '(8)', ' ', '.', ' ', 'Was', ' ', 'it', ' ', '1a298', ' ', '37', ' ', 'During', ' ', 'the', ' ', 'first', ' ', 'seven', ' ', 'days', ' ', 'after', ' ', 'the', ' ', 'Suppressed...', ' ', 'AOR', ' ', 'a', ' ', '1', ' ', 'delivery', ' ', 'did', ' ', 'the', ' ', 'mother:', ' ', 'Not', ' ', 'SUPPFeSSE...neccccecnce', ' ', 'cee', ' ', '2', ' ', '(18)', ' ', 'Have', ' ', 'any', ' ', 'urinary', ' ', 'eo', ' ', 'ey', ' ', 'Not', ' ', 'known...', ' ', '0', ' ', 'aa', ' ', 'ccvurvisttstvsvasaasvans', ' ', 'vesesie', ' ', 'scnsa', ' ', 'vena', ' ', 'vansse', ' ', '2', ' ', '(9)', ' ', 'If', ' ', 'SUPPRESSED,', ' ', 'was', ' ', 'oestrogen', ' ', 'used?', ' ', 'ACLTA', ' ', 'Not', ' ', 'known...', ' ', 'bosses', ' ', 'co', ' ', 'O', ' ', 'No...', ' ', 'ER', ' ', '.', ' ', '1', ' ', '?', ' ', 'Have', ' ', 'any', ' ', 'genital', ' ', 'wact', ' ', 'infection?', ' ', 'Yes', ' ', '(specify', ' ', 'type)', ' ', 'o.oo', ' ', '2', ' ', '(19}', ' ', 'No...', ' ', 'bce', ' ', 'veil', ' ', '(10)', ' ', 'Not', ' ', 'known', ' ', 'cdecteetss', ' ', 'cee', ' ', 'ee', ' ', '0', ' ', 'Not', ' ', 'known', ' ', '0', ' ', 'Have', ' ', 'any', ' ', 'venous', ' ', 'vended', ' ', 'a', ' ', 'the', ' ', 'legs?', ' ', '/', ' ', 'None', ' ', 'vo', ' ', 'MORTId', ' ', '40', ' ', 'What', ' ', 'type', ' ', 'of', ' ', 'feed', ' ', 'did', ' ', 'the', ' ', 'baby', ' ', 'have', ' ', 'In', ' ', 'superficial', ' ', 'veins...', ' ', 'vecssee', ' ', '2', ' ', 'during', ' ', 'each', ' ', 'of', ' ', 'the', ' ', '24', ' ', 'hour', ' ', 'periods', ' ', 'gfter', ' ', '|', ' ', 'IN', ' ', 'GEE', ' ', 'VEINS', ' ', 'oocccccccee', ' ', 'csssseeees', ' ', 'settee', ' ', 'western', ' ', 'd', ' ', '(11)', ' ', 'birth', ' ', '?', ' ', 'o>', ' ', 'x', ' ', 'oe', ' ', 'oe', ' ', 'wt', ' ', 'wy', ' ', 'Not', ' ', 'KNOWN', ' ', 'ce', ' ', '0', ' ', 'A', ' ', 'Ist', ' ', 'ond', ' ', 'Sa', ' ', 'ath', ' ', '|', ' ', 'Sth', ' ', '\\\\', ' ', 'bth', ' ', '|', ' ', '7th', ' ', 'Have', ' ', 'any', ' ', 'operations', ' ', 'in', ' ', 'puerperium?', ' ', 'NONE', ' ', 'ee', ' ', 'ACA', ' ', 'Fa', ' ', 'col', ' ', 'None', ' ', 'ryryrer', ' ', 'ery', ' ', 'dt', ' ', '|', ' ', '20-28', ' ', 'a', ' ', 'Water', ' ', '2/2472', ' ', ')2)2)2', ' ', '4]', ' ', '2', ' ', 'Sterilisation', ' ', '.', ' ', '5', ' ', 'tut', ' ', 'si3l3tl3i313)3', ' ', 'Other', ' ', '(specify)', ' ', 'ou...', ' ', '(12)', ' ', 'ugar', ' ', 'so', ' ', 'ution', ' ', 'Breast', ' ', 'Milk', ' ', '4i4);4];4]41]4]4', ' ', '54.07', ' ', 'NOt', ' ', 'KNOWDooceccccccceeccce', ' ', 'cece', ' ', 'reese', ' ', 'ieee', ' ', 'voces', ' ', 'O', ' ', 'Dried', ' ', 'mitk', ' ', 'Full', ' ', 'Cream', ' ', '5/5', ' ', '}54)5),5]5', ' ', '45', ' ', 'Have', ' ', 'any', ' ', 'other', ' ', 'morbidity', ' ', 'or', ' ', 'illness?', ' ', 'Half', ' ', 'Cream', ' ', 'si!6fi16is6s6i48616', ' ', 'ORF,', ' ', '.', ' ', 'Ne', ' ', 'AORN', ' ', '1', ' ', 'Humanised', ' ', '>tatat7t74747', ' ', 'rae', ' ', 'Yes', ' ', '(specify)', ' ', 'ov', ' ', 'eesteitevisttevesvsvsavase', ' ', 'sists', ' ', 'sassasvassnsninie', ' ', '(13)', ' ', 'Evaporated', ' ', 'milk', ' ', '8', ' ', '8', ' ', '8', ' ', '8', ' ', '8', ' ', '8', ' ', '8', ' ', '—', ' ', 'Pree', ' ', 'eS', ' ', 'CEES', ' ', 'See', ' ', 'eee', ' ', 'eee', ' ', 'eee', ' ', 'eee', ' ', 'ere', ' ', 'eee', ' ', 'reer', ' ', 'eerereriereirts', ' ', 'Other', ' ', 'Specify', ' ', 'g', ' ', '9', ' ', '9', ' ', '9', ' ', 'g', ' ', 'g', ' ', '9', ' ', 'NOt', ' ', 'KNOWD', ' ', 'cece', ' ', 'ce', ' ', 'ceeteccseecee', ' ', 'ceettetentneis', ' ', '0', ' ', 'a', ' ', 'Have', ' ', 'a', ' ', 'haemoglobin', ' ', 'estimation', ' ', 'done?', ' ', 'Not', ' ', 'known', ' ', 'o/o0}0)}0)]90]0', ' ', '4]', ' ', '0', ' ', '32-33', ' ', 'VOCS', ' ', 'ices', ' ', 'AOLTY', ' ', 'senses', ' ', '1', ' ', 'a', ' ', 'NO', ' ', 'oceccccecceccsccccccescceseceeeeeceeeeeeeneunnentincs', ' ', 'ts', ' ', 'susenianianeeeeed', ' ', '(14)', ' ', 'NOt', ' ', 'KNOWD', ' ', 'ooceccecceececceeceesereteesseetits', ' ', 'veeeees', ' ', 'vO', ' ', '41', ' ', 'Congenital', ' ', 'Abnormalities', ' ', 'of', ' ', 'the', ' ', 'baby', ' ', '38', ' ', 'Was', ' ', 'the', ' ', 'baby', ' ', 'medically', ' ', 'examined', ' ', 'No', ' ', 'abnormality', ' ', '.....08', ' ', 'oo', ' ', 'i', ' ', 'within', ' ', 'the', ' ', 'first', ' ', '24', ' ', 'hours', ' ', '?', ' ', 'Anencephaly', ' ', 'oe', ' ', 'ooo', ' ', 'ooo', ' ', 'tee', ' ', 'ae', ' ', '2', ' ', 'YOS', ' ', 'cen', ' ', 'Ao2rd', ' ', '|', ' ', 'Spina', ' ', 'bifida', ' ', 'with', ' ', 'hydrocephalus', ' ', '.....', ' ', '....3', ' ', 'No', ' ', 'oes', ' ', 'pn', ' ', '(18)', ' ', 'Spina', ' ', 'bifida', ' ', 'without', ' ', 'hydrocephalus..', ' ', '4', ' ', 'Not', ' ', 'known', ' ', 'r', ' ', 'Hydrocephal', ' ', 'ly', ' ', 'oe', ' ', '5', ' ', 'If', ' ', 'YES,', ' ', 'by', ' ', 'whom?', ' ', 'en', ' ', 'FeTee', ' ', 'PENS', ' ', 'ONY', ' ', 'Consultant', ' ', 'Obstetrician', ' ', '4027', ' ', 'Aj', ' ', 'Cleft', ' ', 'lip', ' ', 'and/or', ' ', 'palate...', ' ', '6', ' ', '34-35', ' ', 'C', ' ', 'RIC', ' ', 'Bo', ' ', ':', ' ', '.', ' ', 'Obstetric', ' ', 'Registrar...', ' ', 'A', ' ', \"Down's\", ' ', 'syndrome', ' ', '(Mongolism)', ' ', '.........7', ' ', 'Obstetric', ' ', 'House', ' ', 'Officer', ' ', '.', ' ', 'AC', ' ', 'LTE', ' ', 'c', ' ', '3', ' ', 'Talipes', ' ', '8', ' ', '¢', ' ', 'ceccesceesseeseceee', ' ', 'we', ' ', 'Consultant', ' ', 'Paediatrician...', ' ', 'AGATE', ' ', 'Da', ' ', '(16)', ' ', 'Ab', ' ', 'lities', ' ', 'of', ' ', 'the', ' ', 'hi', ' ', '9', ' ', 'Paediatric', ' ', 'Registrar...........', ' ', 'AOgIe', ' ', 'i', ' ', '5', ' ', 'OTE', ' ', 'S', ' ', 'ON', ' ', 'IE', ' ', 'TD', ' ', 'seen', ' ', 'Paediatric', ' ', 'House', ' ', 'Officer', ' ', '.', ' ', 'AC?', ' ', '«IEF', ' ', '6', ' ', 'EXtra', ' ', 'GIQItS', ' ', 'oecjecccec', ' ', 'cece', ' ', '1', ' ', 'GPaccsnnonnsnnnnnnnnnsinnn', ' ', 'AERIE', ' ', 'G', ' ', '7', ' ', 'NaeVi', ' ', 'ncn', ' ', 'cee', ' ', '.', ' ', '2', ' ', 'Other', ' ', '(specify)', ' ', 'Other', ' ', '(specify)', ' ', '.', ' ', 'ACB', ' ', 's', ' ', '3', ' ', 'Not', ' ', 'KNOWN.', ' ', 'cocccccccsssssrssersteeeseeenetis', ' ', 'tte', ' ', 'O', ' ', 'DEGREE', ' ', 'OF', ' ', 'CONGENITAL', ' ', 'ABN', ' ', '|*', ' ', 'AC3CI', '\\r'], ['b)', ' ', 'In', ' ', 'preparation', ' ', 'for', ' ', 'labour', ' ', '(e.g.', ' ', 'exercises,', '\\r'], ['What', ' ', 'was', ' ', 'the', ' ', 'first', ' ', 'day', ' ', 'of', ' ', 'the', ' ', 'last', ' ', 'normal', ' ', 'menstrual', ' ', 'period?', ' ', 'ess', ' ', 'ceeecesvasssenssnieeee', ' ', '[vce', ' ', 'eee', ' ', '1969', ' ', 'Was', ' ', 'this', ' ', 'date', ' ', 'recorded', ' ', 'as', ' ', 'being', ' ', 'Certain', ' ', 'occ', ' ', 'AOIIE', ' ', '1', ' ', 'UN', ' ', 'COP', ' ', 'AID', ' ', 'cocccee', ' ', 'cece', ' ', 'cee', ' ', 'cecttec', ' ', 'et', ' ', 'cetctessrsnsnensenn', ' ', 'NOt', ' ', 'KNOWD', ' ', 'oo', ' ', 'cesses', ' ', 'cr', '\\r'], ['For', ' ', 'Office', ' ', 'Use', ' ', 'Only', ' ', '16', ' ', 'Standing', ' ', 'height', ' ', 'of', ' ', 'the', ' ', 'mother', ' ', 'wt', ' ', 'IS', ' ', 'or', ' ', 'AOLT', ' ', '7.', ' ', 'cms.', ' ', '(25-27)', ' ', '17', ' ', \"Mother's\", ' ', 'blood', ' ', 'group', ' ', 'Oooo', ' ', 'insane', ' ', 'AOIVS', ' ', '1', ' ', 'Provvceccccse', ' ', 'sesssetttstevensocesecite', ' ', 'cseseeesssesetite', ' ', 'senesveseveseeesend', ' ', '2', ' ', 'Bocce', ' ', 'cceccteecctttesssneeseties', ' ', 'oo', ' ', 'cies', ' ', 'tes', ' ', 'dirt', ' ', '(28)', ' ', 'PAB', ' ', 'occececssssssseeesesteses', ' ', 'ccstssietes', ' ', 'cssnsesseeses', ' ', 'NOt', ' ', 'KNOWN', ' ', 'occ', ' ', 'eccssssee', ' ', 'sosseessesseecenseneee', ' ', '0', ' ', 'Rh', ' ', 'factor', ' ', 'POSITIVE', ' ', 'cece', ' ', 'AOIVG', ' ', 'eee', ' ', '|', ' ', 'Negative.............', ' ', 'cesses', ' ', 'vaste', ' ', 'cesses,', ' ', '(29)', ' ', 'NOt', ' ', 'KNOWN', ' ', 'ooecceccce', ' ', 'cess:', ' ', 'seeesseesescsssesetstsestsstsssseeeeeO)', ' ', 'Rh', ' ', 'antibodies', ' ', 'PFeESENT', ' ', 'oo.', ' ', 'ce', ' ', 'ACROO', ' ', 'cectsesesesenee', ' ', '|', ' ', 'Absent', ' ', '..........', ' ', 'co', ' ', 'ccccssesutesusesavssne', ' ', 'etuererentecnneeneee', ' ', 'tueteeee', ' ', '2', ' ', '(30)', ' ', 'NOt', ' ', 'KNOWN', ' ', 'oie', ' ', 'ce', ' ', 'tee', ' ', 'cette', ' ', 'oO', ' ', 'Were', ' ', 'haemoglobin', ' ', 'estimations', ' ', 'done?', ' ', 'YOS', ' ', 'cc', ' ', 'AGRO', ' ', 'nn.', ' ', '1', ' ', 'NO', ' ', 'occ', ' ', 'ete', ' ', 'eetseeseetee', ' ', 'te', ' ', 'seeesssss', ' ', '2', ' ', '(31)', ' ', 'NOt', ' ', 'KNOWN', ' ', '2', ' ', 'ee', ' ', 'cece', ' ', 'eset', ' ', 'if', ' ', 'YES:—Number', ' ', 'of', ' ', 'times', ' ', 'estimated', ' ', 'AERCA', ' ', 'sg)', ' ', 'Highest', ' ', 'valueAO', ' ', '203A', ' ', 'pate', ' ', 'Ae', ' ', '038.', ' ', '9...', ' ', '(34-37)', ' ', 'Lowest', ' ', 'valueAC2O4A', ' ', 'Date', ' ', 'ORC', ' ', '+G,', ' ', 'Qo.', ' ', '(38-41)', ' ', 'W.R.', ' ', 'or', ' ', 'similar', ' ', 'test', ' ', '|', ' ', 'Negative.......', ' ', 'AORCE,', ' ', '.', ' ', 'wl', ' ', '42-43', ' ', 'Positive', ' ', 'ae', ' ', 'sos', ' ', 'seseeseestutnsssnsnnsessesittssnsesa', ' ', 'NOt', ' ', 'COMC', ' ', 'occ', ' ', 'ccecccescsses', ' ', 'ocsssesses', ' ', 's', ' ', 'cessenseecnseeneseseeeeneee', ' ', '3', ' ', '4)', ' ', 'NOt', ' ', 'KNOWD', ' ', 'coc', ' ', 'sce', ' ', 'csssssseets', ' ', 'sssssseeeseeee)', '\\r'], ['Did', ' ', 'the', ' ', 'mother', ' ', 'have', ' ', 'a', ' ', 'manual', ' ', 'removal', ' ', 'of', ' ', 'the', ' ', 'placenta?', '\\r'], ['umbilicus?', ' ', 'Yes', ' ', 'on.', ' ', '.', ' ', 'AC332', ' ', 'ceed', ' ', '\\\\', ' ', 'oe', ' ', 'a', ' ', 'ad', ' ', 'Not', ' ', 'KNOWN.', ' ', 'ee', ' ', 'co', ' ', 'cceeecestnsnenvenvens', ' ', '0', ' ', 'Were', ' ', 'exchange', ' ', 'transfusions', ' ', 'given?', ' ', 'Yes', ' ', 'ACS', ' ', '33.', ' ', 'ad', ' ', 'NO', ' ', 'ice', ' ', 'ceceseetseeseessnetitiee', ' ', 'ee', ' ', 'es', ' ', 'vet', ' ', 'Not', ' ', 'known......', ' ', 'a', ' ', 'ctettteeneeO', '\\r'], ['Did', ' ', 'the', ' ', 'baby', ' ', 'have', ' ', 'a', ' ', 'cephalhaematoma', ' ', '?', '\\r'], ['30', ' ', 'Did', ' ', 'a', ' ', 'postpartum', ' ', 'haemorrhage', ' ', 'of', ' ', '500', ' ', 'ml.', ' ', 'or', ' ', 'more', ' ', 'occur', ' ', '?', '\\r'], ['29', ' ', 'Relief', ' ', 'of', ' ', 'pain', ' ', 'during', ' ', 'labour', '\\r'], ['Other', ' ', '(Specify)', ' ', 'sue', ' ', 'AOIIBH', ' ', '7', '\\r'], ['NOt', ' ', 'KMOWD', ' ', 'ooo', ' ', 'cecccces', ' ', 'cosseeessesntteneesneceennnennseneeese', ' ', '0', ' ', 'Did', ' ', 'the', ' ', 'baby', ' ', 'have', ' ', 'any', ' ', 'fractures?', '\\r'], ['When', ' ', 'the', ' ', 'form', ' ', 'is', ' ', 'complete', ' ', 'it', ' ', 'should', ' ', 'normally', ' ', 'be', ' ', 'returned', ' ', 'to', ' ', 'the', ' ', 'supervisor', ' ', 'of', ' ', 'midwives,', ' ', 'the', ' ', 'superintendent', ' ', 'midwife,', ' ', 'or', ' ', 'the', ' ', 'matron', ' ', 'of', ' ', 'the', ' ', 'hospital', ' ', 'unless', ' ', 'other', ' ', 'arrangements', ' ', 'have', ' ', 'been', ' ', 'made', ' ', 'locally.', '\\r'], ['Were', ' ', 'there', ' ', 'any', ' ', 'eclamptic', ' ', 'fits', ' ', 'prior', ' ', 'to', ' ', 'labour?', '\\r'], ['20', ' ', 'Was', ' ', 'there', ' ', 'any', ' ', 'bleeding', ' ', 'from', ' ', 'the', ' ', 'genital', ' ', 'tract', ' ', 'after', ' ', 'the', ' ', 'last', ' ', 'period', ' ', 'and', ' ', 'before', ' ', 'the', ' ', 'onset', ' ', 'of', ' ', 'labour?', '\\r'], ['45', ' ', 'Where', ' ', 'was', ' ', 'the', ' ', 'mother', ' ', 'during', ' ', 'the', ' ', 'first', ' ', 'seven', ' ', 'days?', '\\r'], ['Who', ' ', 'undertook', ' ', 'the', ' ', 'antenatal', ' ', 'care?', ' ', 'Hospital', ' ', 'medical', ' ', 'staff.', ' ', 'AC!', ' ', 'GSA', ' ', '4', ' ', 'LHA.', ' ', 'MO.', ' ', 'ACLI3', ' ', 'B29', '\\r'], ['33', ' ', 'Was', ' ', 'there', ' ', 'an', ' ', 'episiotomy', ' ', 'or', ' ', 'tear', ' ', '?', '\\r'], ['22', ' ', 'Did', ' ', 'the', ' ', 'mother', ' ', 'have', ' ', 'any', ' ', 'inpatient', ' ', 'care', ' ', 'during', ' ', 'the', ' ', 'antenatal', ' ', 'period', ' ', '(excluding', ' ', 'admissions', ' ', 'in', ' ', 'labour', ' ', 'or', ' ', 'false', ' ', 'labour?)', '\\r'], ['Part', ' ', 'Il', ' ', 'is', ' ', 'concerned', ' ', 'with', ' ', 'antenatal', ' ', 'care', ' ', 'and', ' ', 'with', ' ', 'the', ' ', 'delivery.', ' ', 'Complete', ' ', 'soon', ' ', 'after', ' ', 'birth', ' ', 'using', ' ', 'all', ' ', 'the', ' ', 'available', ' ', 'records,', ' ', 'discussing', ' ', 'with', ' ', 'the', ' ', 'doctor', ' ', 'or', ' ', 'anyone', ' ', 'else', ' ', 'concerned', ' ', 'with', ' ', 'the', ' ', 'care', ' ', 'of', ' ', 'the', ' ', 'mother', ' ', 'and', ' ', 'baby.', '\\r'], ['Was', ' ', 'the', ' ', 'baby', ' ', 'examined', ' ', 'for', ' ', 'dislocation', ' ', 'of', ' ', 'the', ' ', 'hip?', '\\r'], ['Months', ' ', 'on', ' ', 'Pill', ' ', '4=', ' ', 'AOO29L', '\\r'], ['Cause', ' ', 'of', ' ', 'death', ' ', '(attach', ' ', 'P.M.', ' ', 'report', ' ', 'if', ' ', 'available)', '\\r'], ['No.', ' ', 'previous', ' ', 'deaths', ' ', '<7', ' ', 'days=', ' ', 'A0170', '\\r'], ['Pethilorfan', ' ', 'once', ' ', 'cteeccteeeeee', ' ', '2', ' ', 'Morphia', ' ', 'Fortral.......', ' ', '.', ' ', 'Psychoprophylaxis', ' ', '.....', ' ', 'Jj', ' ', 'HYPNOSIS', ' ', 'oe', ' ', '.', ' ', 'DOCOMPSeSSION', ' ', 'o.oo', ' ', 'cccscsesesssessesteressssseteseesreeneesess', ' ', 'Other', ' ', '(specify)', ' ', '0.0.70', '\\r'], ['Were', ' ', 'there', ' ', 'any', ' ', 'other', ' ', 'illnesses', ' ', 'or', ' ', 'conditions', ' ', 'of', ' ', 'the', ' ', 'baby?', '\\r'], ['Number', ' ', 'of', ' ', 'children', ' ', 'Living', ' ', 'at', ' ', 'home', '\\r'], ['Months', ' ', 'on', ' ', 'Pill', ' ', '2=', ' ', 'A0029H', '\\r'], ['Q9.', ' ', 'Since', ' ', 'January,', ' ', '1968', ' ', 'was', ' ', 'any', ' ', 'form', ' ', 'of', ' ', 'contraception', ' ', 'used?', '\\r'], ['If', ' ', 'YES:', ' ', 'give', ' ', 'details', ' ', 'of', ' ', 'who', ' ', 'is', ' ', 'looking', ' ', 'after', ' ', 'them', ' ', 'now.', '\\r'], ['t', ' ', 'known.', ' ', 'PROEAPSED', ' ', 'CORD', ' ', '=', ' ', '28', ' ', 'Delivery', ' ', 'Spontaneous', ' ', 'cephalic', ' ', 'ANLETION', ' ', 'nec', ' ', 'cseceeeee', ' ', 'Ack€2', ' ', '1', ' ', 'POSTOTION', ' ', 'ccc', ' ', 'cccccsssesntsseseennnentttenttntetsetneee', ' ', 'Spontaneous', ' ', 'breech', ' ', 'Operative', ' ', 'delivery', '\\r'], ['If', ' ', 'full', ' ', 'P.M.', ' ', 'report', ' ', 'or', ' ', 'registered', ' ', 'cause', ' ', 'of', ' ', 'death', ' ', 'not', ' ', 'available:', ' ', 'please', ' ', 'send', ' ', 'copies', ' ', 'direct', ' ', 'to', ' ', '‘The', ' ', 'Secretary.', ' ', 'National', ' ', 'Birthday', ' ', 'Trust', ' ', 'Fund,', ' ', '57', ' ', 'Lower', ' ', 'Belgrave', ' ', 'Street.', ' ', 'London', ' ', \"SW1’'\", ' ', 'as', ' ', 'soon', ' ', 'as', ' ', 'possible', '\\r'], ['Q15.', ' ', 'What', ' ', 'was', ' ', 'the', ' ', 'first', ' ', 'day', ' ', 'of', ' ', 'the', ' ', 'last', ' ', 'normal', ' ', 'menstrual', ' ', 'period?', ' ', 'Gestational', ' ', 'age', ' ', 'in', ' ', 'days=', ' ', 'A0195A', '\\r'], [], ['0', ' ', '1', ' ', '2', ' ', 'CL8.', ' ', 'Não', ' ', 'consegue', ' ', 'se', ' ', 'concentrar,', ' ', 'não', ' ', 'consegue', ' ', 'prestar', ' ', 'atenção', ' ', 'por', ' ', 'muito', ' ', 'tempo', '\\r'], ['0', ' ', '1', ' ', '2', ' ', 'CL10.', ' ', 'Não', ' ', 'consegue', ' ', 'parar', ' ', 'sentado(a),', ' ', 'não', ' ', 'para', ' ', 'quieto(a)', ' ', 'ou', ' ', 'é', ' ', 'hiperativo', ' ', ' ', '0', ' ', '1', ' ', '2', ' ', 'CL42.', ' ', 'Prefere', ' ', 'estar', ' ', 'sozinho(a)', ' ', 'do', ' ', 'que', '\\r'], ['0', ' ', '1', ' ', '2', ' ', 'CL11.', ' ', 'Fica', ' ', 'grudado(a)', ' ', 'nos', ' ', 'adultos', ' ', 'ou', ' ', 'é', ' ', 'muito', ' ', 'dependente', ' ', ' ', '0', ' ', '1', ' ', '2', ' ', 'CL43.', ' ', 'Mente', ' ', 'ou', ' ', 'engana', ' ', 'os', ' ', 'outros', '\\r'], ['0', ' ', '1', ' ', '2', ' ', 'CL15.', ' ', 'É', ' ', 'cruel', ' ', 'com', ' ', 'animais', ' ', ' ', '0', ' ', '1', ' ', '2', ' ', 'CL47.', ' ', 'Tem', ' ', 'pesadelos', '\\r'], ['0', ' ', '1', ' ', '2', ' ', 'CL60.', ' ', 'Mexe', ' ', 'demais', ' ', 'nas', ' ', 'partes', ' ', 'íntimas', ' ', ' ', '0', ' ', '1', ' ', '2', ' ', 'CL89.', ' ', 'É', ' ', 'desconfiado(a)', '\\r'], ['0', ' ', '1', ' ', '2', ' ', 'CL105.', ' ', 'Usa', ' ', 'drogas', ' ', '(excluir', ' ', 'álcool', ' ', 'e', ' ', 'tabaco)', '\\r'], ['0', ' ', '1', ' ', '2', ' ', 'CL63.', ' ', 'Prefere', ' ', 'estar', ' ', 'com', ' ', 'crianças', ' ', 'mais', ' ', 'velhos', '\\r'], ['0', ' ', '1', ' ', '2', ' ', 'CL57.', ' ', 'Ataca', ' ', 'fisicamente', ' ', 'as', ' ', 'pessoas', ' ', ' ', '0', ' ', '1', ' ', '2', ' ', 'CL86.', ' ', 'É', ' ', 'teimoso(a),', ' ', 'mal', ' ', 'humorado(a)', ' ', 'ou', ' ', 'fácil', ' ', 'de', ' ', 'se', ' ', 'irritar', '\\r'], ['0', ' ', '1', ' ', '2', ' ', 'CL76.', ' ', 'Dorme', ' ', 'menos', ' ', 'que', ' ', 'a', ' ', 'maioria', ' ', 'das', ' ', 'crianças', '\\r'], ['0', ' ', '1', ' ', '2', ' ', 'CL82.', ' ', 'Rouba', ' ', 'fora', ' ', 'de', ' ', 'casa', ' ', ' ', '0', ' ', '1', ' ', '2', ' ', 'CL111.', ' ', 'Isola-se,', ' ', 'não', ' ', 'se', ' ', 'relaciona', ' ', 'com', ' ', 'os', ' ', 'outros', '\\r'], ['0', ' ', '1', ' ', '2', ' ', 'CL65.', ' ', 'Recusa-se', ' ', 'a', ' ', 'falar', ' ', ' ', '0', ' ', '1', ' ', '2', ' ', 'CL94.', ' ', 'Gosta', ' ', 'de', ' ', 'gozar', ' ', 'dos', ' ', 'outros', '\\r'], ['0', ' ', '1', ' ', '2', ' ', 'CL7.', ' ', 'É', ' ', 'convencido(a),', ' ', 'conta', ' ', 'vantagem', ' ', ' ', '0', ' ', '1', ' ', '2', ' ', 'CL39.', ' ', 'Anda', ' ', 'em', ' ', 'más', ' ', 'companhias', '\\r'], ['0', ' ', '1', ' ', '2', ' ', 'CL64.', ' ', 'Prefere', ' ', 'estar', ' ', 'com', ' ', 'crianças', ' ', 'mais', ' ', 'novos', '\\r'], ['0', ' ', '1', ' ', '2', ' ', 'CL100.', ' ', 'Tem', ' ', 'problemas', ' ', 'com', ' ', 'o', ' ', 'sono', '\\r'], ['CB4.', ' ', 'Comparando', ' ', 'com', ' ', 'outros', ' ', 'jovens', ' ', 'da', ' ', 'mesma', ' ', 'idade,', ' ', 'como', ' ', 'é', ' ', 'o', ' ', 'desempenho', ' ', 'de', ' ', 'seu', ' ', 'filho', ' ', 'nas', ' ', 'matérias', ' ', 'escolares?', '\\r'], ['0', ' ', '1', ' ', '2', ' ', 'CL23.', ' ', 'É', ' ', 'desobediente', ' ', 'na', ' ', 'escola', ' ', ' ', '0', ' ', '1', ' ', '2', ' ', 'CL55.', ' ', 'Está', ' ', 'gordo(a),', ' ', 'acima', ' ', 'do', ' ', 'peso', '\\r'], ['0', ' ', '1', ' ', '2', ' ', 'CL22.', ' ', 'É', ' ', 'desobediente', ' ', 'em', ' ', 'casa', ' ', ' ', '0', ' ', '1', ' ', '2', ' ', 'CL54.', ' ', 'Sente-se', ' ', 'cansado(a)', ' ', 'demais', ' ', 'sem', ' ', 'motivo', '\\r'], ['0', ' ', '1', ' ', '2', ' ', 'CL77.', ' ', 'Dorme', ' ', 'mais', ' ', 'que', ' ', 'a', ' ', 'maioria', ' ', 'das', ' ', 'crianças', ' ', 'durante', ' ', 'o', ' ', 'dia', ' ', 'e/ou', ' ', 'durante', ' ', 'a', ' ', 'noite', '\\r'], ['0', ' ', '1', ' ', '2', ' ', 'CL58.', ' ', 'Cutuca', ' ', 'o', ' ', 'nariz,', ' ', 'a', ' ', 'pele', ' ', 'ou', ' ', 'outras', ' ', 'partes', ' ', 'do', ' ', 'corpo', '\\r'], ['Child', ' ', 'Behavior', ' ', 'Checklist', '\\r'], ['0', ' ', '1', ' ', '2', ' ', 'CL95.', ' ', 'Faz', ' ', 'birra,', ' ', 'tem', ' ', 'acessos', ' ', 'de', ' ', 'raiva', ' ', 'ou', ' ', 'é', ' ', 'esquentado', ' ', '(a)', '\\r'], ['0', ' ', '1', ' ', '2', ' ', 'CL3.', ' ', 'Argumenta', ' ', 'muito', ' ', 'para', ' ', 'não', ' ', 'fazer', ' ', 'o', ' ', 'que', ' ', 'querem', ' ', 'que', ' ', 'ele', ' ', 'faça', ' ', ' ', '0', ' ', '1', ' ', '2', ' ', 'CL35.', ' ', 'Sente-se', ' ', 'sem', ' ', 'valor', ' ', 'ou', ' ', 'inferior', '\\r'], ['0', ' ', '1', ' ', '2', ' ', 'CL26.', ' ', 'Não', ' ', 'se', ' ', 'arrepende', ' ', 'depois', ' ', 'de', ' ', 'se', ' ', 'comportar', ' ', 'mal', ' ', ' ', '0', ' ', '1', ' ', '2', ' ', 'CL56b.', ' ', 'Dores', ' ', 'de', ' ', 'cabeça', '\\r'], ['0', ' ', '1', ' ', '2', ' ', 'CL92.', ' ', 'Fala', ' ', 'ou', ' ', 'anda', ' ', 'dormindo', '\\r'], ['0', ' ', '1', ' ', '2', ' ', 'CL18.', ' ', 'Machuca-se', ' ', 'de', ' ', 'propósito', ' ', 'ou', ' ', 'já', ' ', 'tentou', ' ', 'se', ' ', 'matar', ' ', ' ', '0', ' ', '1', ' ', '2', ' ', 'CL50.', ' ', 'É', ' ', 'muito', ' ', 'medroso(a)', ' ', 'ou', '\\r'], ['0', ' ', '1', ' ', '2', ' ', 'CL74.', ' ', 'Gosta', ' ', 'de', ' ', 'se', ' ', 'exibir,', ' ', 'fazer', ' ', 'palhaçadas', '\\r'], ['0', ' ', '1', ' ', '2', ' ', 'CL93.', ' ', 'Fala', ' ', 'demais', '\\r'], ['0', ' ', '1', ' ', '2', ' ', 'CL56e.', ' ', 'Problemas', ' ', 'de', ' ', 'pele', '\\r'], ['0', ' ', '1', ' ', '2', ' ', 'CL87.', ' ', 'Tem', ' ', 'mudanças', ' ', 'repentinas', ' ', 'de', ' ', 'humor', ' ', 'ou', ' ', 'de', ' ', 'sentimentos', '\\r'], ['0', ' ', '1', ' ', '2', ' ', 'CL9.', ' ', 'Não', ' ', 'consegue', ' ', 'tirar', ' ', 'certos', ' ', 'pensamentos', ' ', 'da', ' ', 'cabeça', ' ', '(obsessões)', ' ', ' ', '0', ' ', '1', ' ', '2', ' ', 'CL41.', ' ', 'É', ' ', 'impulsivo(a)', ' ', 'ou', ' ', 'age', ' ', 'sem', '\\r'], ['0', ' ', '1', ' ', '2', ' ', 'CL6.', ' ', 'Faz', ' ', 'cocô', ' ', 'na', ' ', 'calça', ' ', 'ou', ' ', 'fora', ' ', 'do', ' ', 'vaso', ' ', 'sanitário', ' ', ' ', '0', ' ', '1', ' ', '2', ' ', 'CL38.', ' ', 'É', ' ', 'alvo', ' ', 'de', ' ', 'muitas', ' ', 'gozações', '\\r'], ['0', ' ', '1', ' ', '2', ' ', 'CL21.', ' ', 'Destrói', ' ', 'coisas', ' ', 'de', ' ', 'sua', ' ', 'família', ' ', 'ou', ' ', 'de', ' ', 'outros', ' ', ' ', '0', ' ', '1', ' ', '2', ' ', 'CL53.', ' ', 'Come', ' ', 'exageradamente', '\\r'], ['0', ' ', '1', ' ', '2', ' ', 'CL1.', ' ', 'Comporta-se', ' ', 'de', ' ', 'maneira', ' ', 'muito', ' ', 'infantil', ' ', 'para', ' ', 'sua', ' ', 'idade', ' ', ' ', '0', ' ', '1', ' ', '2', ' ', 'CL33.', ' ', 'Acha', ' ', 'ou', ' ', 'reclama', ' ', 'que', ' ', 'ninguém', '\\r'], ['0', ' ', '1', ' ', '2', ' ', 'CL81.', ' ', 'Rouba', ' ', 'em', ' ', 'casa', ' ', ' ', '0', ' ', '1', ' ', '2', ' ', 'CL110.', ' ', 'Gostaria', ' ', 'de', ' ', 'ser', ' ', 'do', ' ', 'sexo', ' ', 'oposto', '\\r'], ['se', ' ', 'aplica', ' ', 'CB5a.', ' ', '...se', ' ', 'dá', ' ', 'com', ' ', 'os', ' ', 'irmãos/irmãs?', ' ', '(', ' ', ' ', ')', ' ', '1', ' ', '(', ' ', ' ', ')', ' ', '2', ' ', '(', ' ', ' ', ')', ' ', '3', ' ', '(', ' ', ' ', ')', ' ', '99', ' ', 'CB5b.', ' ', '...se', ' ', 'dá', ' ', 'com', ' ', 'outros', ' ', 'adolescentes?', ' ', '(', ' ', ' ', ')', ' ', '1', ' ', '(', ' ', ' ', ')', ' ', '2', ' ', '(', ' ', ' ', ')', ' ', '3', ' ', '(', ' ', ' ', ')', ' ', '99', ' ', 'CB5c.', ' ', '...se', ' ', 'comporta', ' ', 'em', ' ', 'relação', ' ', 'aos', ' ', 'pais?', ' ', '(', ' ', ' ', ')', ' ', '1', ' ', '(', ' ', ' ', ')', ' ', '2', ' ', '(', ' ', ' ', ')', ' ', '3', ' ', '(', ' ', ' ', ')', ' ', '99', ' ', 'CB5d.', ' ', '...brinca', ' ', 'ou', ' ', 'trabalha', ' ', 'sozinho?', ' ', '(', ' ', ' ', ')', ' ', '1', ' ', '(', ' ', ' ', ')', ' ', '2', ' ', '(', ' ', ' ', ')', ' ', '3', ' ', '(', ' ', ' ', ')', ' ', '99', '\\r'], ['0', ' ', '1', ' ', '2', ' ', 'CL30.', ' ', 'Tem', ' ', 'medo', ' ', 'da', ' ', 'escola', ' ', ' ', '0', ' ', '1', ' ', '2', ' ', 'CL56f.', ' ', 'Dores', ' ', 'de', ' ', 'estômago', ' ', 'ou', ' ', 'de', ' ', 'barriga', '\\r'], ['Comparando', ' ', 'com', ' ', 'outros', ' ', 'jovens', ' ', 'da', ' ', 'mesma', ' ', 'idade,', ' ', 'como', ' ', 'seu', ' ', 'filho/filha:', ' ', ' ', 'Pior', ' ', 'Igual', ' ', 'Melhor', ' ', 'Não', ' ', 'sabe/não', '\\r'], ['ficar', ' ', 'em', ' ', 'companhia', ' ', 'de', ' ', 'outros', '\\r'], ['0', ' ', '1', ' ', '2', ' ', 'CL24.', ' ', 'É', ' ', 'difícil', ' ', 'para', ' ', 'comer', ' ', ' ', '0', ' ', '1', ' ', '2', ' ', 'CL56.', ' ', 'Tem', ' ', 'problemas', ' ', 'físicos', ' ', 'de', ' ', 'fundo', ' ', 'emocional', ' ', '(sem', ' ', 'causa', ' ', 'médica):', '\\r'], ['0', ' ', '1', ' ', '2', ' ', 'CL20.', ' ', 'Destrói', ' ', 'suas', ' ', 'próprias', ' ', 'coisas', ' ', ' ', '0', ' ', '1', ' ', '2', ' ', 'CL52.', ' ', 'Sente-se', ' ', 'muito', ' ', 'culpado(a)', '\\r'], ['0', ' ', '1', ' ', '2', ' ', 'CL29.', ' ', 'Tem', ' ', 'medo', ' ', 'de', ' ', 'certos', ' ', 'animais,', ' ', 'situações', ' ', 'ou', ' ', 'lugares,', ' ', 'sem', ' ', 'incluir', ' ', 'a', ' ', 'escola', '\\r'], ['0', ' ', '1', ' ', '2', ' ', 'CL103.', ' ', 'É', ' ', 'infeliz,', ' ', 'triste', ' ', 'ou', ' ', 'deprimido(a)', '\\r'], ['0', ' ', '1', ' ', '2', ' ', 'CL78.', ' ', 'É', ' ', 'desatento(a)', ' ', 'ou', ' ', 'distrai-se', ' ', 'facilmente', '\\r'], ['0', ' ', '1', ' ', '2', ' ', 'CL2.', ' ', 'Toma', ' ', 'bebida', ' ', 'alcoólica', ' ', 'sem', ' ', 'a', ' ', 'permissão', ' ', 'dos', ' ', 'pais.', ' ', ' ', '0', ' ', '1', ' ', '2', ' ', 'CL34.', ' ', 'Acha', ' ', 'que', ' ', 'os', ' ', 'outros', ' ', 'o(a)', '\\r'], ['0', ' ', '1', ' ', '2', ' ', 'CL59.', ' ', 'Mexe', ' ', 'nas', ' ', 'partes', ' ', 'íntimas', ' ', 'em', ' ', 'público', '\\r'], ['0', ' ', '1', ' ', '2', ' ', 'CL72.', ' ', 'Põe', ' ', 'fogo', ' ', 'nas', ' ', 'coisas', ' ', ' ', '0', ' ', '1', ' ', '2', ' ', 'CL101.', ' ', 'Mata', ' ', 'aula,', ' ', 'cabula,', ' ', 'gazeia', '\\r'], ['0', ' ', '1', ' ', '2', ' ', 'CL19.', ' ', 'Exige', ' ', 'que', ' ', 'prestem', ' ', 'muita', ' ', 'atenção', ' ', 'nele(a)', ' ', ' ', '0', ' ', '1', ' ', '2', ' ', 'CL51.', ' ', 'Tem', ' ', 'tonturas', '\\r'], ['0', ' ', '1', ' ', '2', ' ', 'CL13.', ' ', 'Fica', ' ', 'confuso(a)', ' ', 'ou', ' ', 'desorientado(a)', ' ', ' ', '0', ' ', '1', ' ', '2', ' ', 'CL45.', ' ', 'É', ' ', 'nervoso(a)', ' ', 'ou', ' ', 'tenso(a)', '\\r'], ['0', ' ', '1', ' ', '2', ' ', 'CL71.', ' ', 'Fica', ' ', 'sem', ' ', 'jeito', ' ', 'na', ' ', 'frente', ' ', 'das', ' ', 'pessoas', ' ', 'com', ' ', 'facilidade,', ' ', 'preocupado(a)', ' ', 'com', ' ', 'que', ' ', 'os', ' ', 'outros', ' ', 'vão', ' ', 'pensar', ' ', 'dele', ' ', '(a)', '\\r'], ['0', ' ', '1', ' ', '2', ' ', 'CL67.', ' ', 'Foge', ' ', 'de', ' ', 'casa', ' ', ' ', '0', ' ', '1', ' ', '2', ' ', 'CL96.', ' ', 'Pensa', ' ', 'demais', ' ', 'em', ' ', 'sexo', '\\r'], ['0', ' ', '1', ' ', '2', ' ', 'CL28.', ' ', 'Desrespeita', ' ', 'as', ' ', 'regras', ' ', 'em', ' ', 'casa,', ' ', 'na', ' ', 'escola', ' ', 'ou', ' ', 'em', ' ', 'outros', ' ', 'lugares', '\\r'], ['0', ' ', '1', ' ', '2', ' ', 'CL31.', ' ', 'Tem', ' ', 'medo', ' ', 'de', ' ', 'pensar', ' ', 'ou', ' ', 'fazer', ' ', 'alguma', ' ', 'coisa', ' ', 'má', ' ', ' ', '0', ' ', '1', ' ', '2', ' ', 'CL56g.', ' ', 'Vômitos', '\\r'], ['0', ' ', '1', ' ', '2', ' ', 'CL16.', ' ', 'É', ' ', 'cruel,', ' ', 'intimida', ' ', 'ou', ' ', 'faz', ' ', 'maldade', ' ', 'com', ' ', 'outros', ' ', ' ', '0', ' ', '1', ' ', '2', ' ', 'CL48.', ' ', 'As', ' ', 'outras', ' ', 'crianças', ' ', 'não', ' ', 'gostam', '\\r'], ['0', ' ', '1', ' ', '2', ' ', 'CL17.', ' ', 'Vive', ' ', 'no', ' ', '“mundo', ' ', 'da', ' ', 'lua”', ' ', 'ou', ' ', 'perde-', ' ', 'se', ' ', 'em', ' ', 'seus', ' ', 'pensamentos', ' ', ' ', '0', ' ', '1', ' ', '2', ' ', 'CL49.', ' ', 'Tem', ' ', 'prisão', ' ', 'de', ' ', 'ventre,', ' ', 'intestino', '\\r'], [], ['SDQ13.', ' ', 'Frequentemente', ' ', 'parece', ' ', 'triste,', ' ', 'desanimado', ' ', 'ou', ' ', 'choroso', ' ', '(0)', ' ', '(1)', ' ', '(2)', '\\r'], ['SDQ18.', ' ', 'Frequentemente', ' ', 'engana', ' ', 'ou', ' ', 'mente', ' ', '(0)', ' ', '(1)', ' ', '(2)', '\\r'], ['SDQ17.', ' ', 'É', ' ', 'gentil', ' ', 'com', ' ', 'crianças', ' ', '(0)', ' ', '(1)', ' ', '(2)', '\\r'], ['SDQ8.', ' ', 'Tem', ' ', 'muitas', ' ', 'preocupações,', ' ', 'muitas', ' ', 'vezes', ' ', 'parece', ' ', 'preocupado', ' ', 'com', ' ', 'tudo', ' ', '(0)', ' ', '(1)', ' ', '(2)', '\\r'], ['SDQ4.', ' ', 'Se', ' ', 'dispõe', ' ', 'a', ' ', 'compartilhar', ' ', 'com', ' ', 'os', ' ', 'outros', ' ', '(por', ' ', 'exemplo:', ' ', 'compartilha', ' ', 'comidas', ' ', 'e', ' ', 'bebidas)', ' ', '(0)', ' ', '(1)', ' ', '(2)', '\\r'], ['SDQ26b.', ' ', 'Estas', ' ', 'dificuldades', ' ', 'incomodam', ' ', 'ou', ' ', 'aborrecem', ' ', '[Nome', ' ', 'do', ' ', 'Jovem]?', '\\r'], ['SDQ16.', ' ', 'Fica', ' ', 'inseguro', ' ', 'quando', ' ', 'tem', ' ', 'que', ' ', 'fazer', ' ', 'alguma', ' ', 'coisa', ' ', 'pela', ' ', 'primeira', ' ', 'vez,', ' ', 'facilmente', ' ', 'perde', ' ', 'a', ' ', 'confiança', ' ', 'em', ' ', 'si', ' ', 'mesmo', ' ', '(0)', ' ', '(1)', ' ', '(2)', '\\r'], ['SDQ22.', ' ', 'Rouba', ' ', 'coisas', ' ', 'de', ' ', 'casa,', ' ', 'da', ' ', 'escola', ' ', 'ou', ' ', 'de', ' ', 'outros', ' ', 'lugares', ' ', '(0)', ' ', '(1)', ' ', '(2)', '\\r'], ['SDQ23.', ' ', 'Se', ' ', 'dá', ' ', 'melhor', ' ', 'com', ' ', 'pessoas', ' ', 'mais', ' ', 'velhas', ' ', 'do', ' ', 'que', ' ', 'ela', ' ', '(0)', ' ', '(1)', ' ', '(2)', '\\r'], ['SDQ3.', ' ', 'Muitas', ' ', 'vezes', ' ', 'se', ' ', 'queixa', ' ', 'de', ' ', 'dor', ' ', 'de', ' ', 'cabeça,', ' ', 'dor', ' ', 'de', ' ', 'barriga', ' ', 'ou', ' ', 'enjoo', ' ', '(0)', ' ', '(1)', ' ', '(2)', '\\r'], ['SDQ26a.', ' ', 'Há', ' ', 'quanto', ' ', 'tempo', ' ', 'estas', ' ', 'dificuldades', ' ', 'existem?', ' ', 'Menos', ' ', 'de', ' ', '1', ' ', 'mês', ' ', ' ', ' ', ' ', ' ', ' ', ' ', ' ', ' ', ' ', ' ', ' ', ' ', ' ', ' ', ' ', '1-5', ' ', 'meses', ' ', ' ', ' ', ' ', ' ', ' ', ' ', ' ', ' ', ' ', ' ', ' ', ' ', ' ', ' ', ' ', ' ', ' ', '6-12', ' ', 'meses', ' ', ' ', ' ', ' ', ' ', ' ', ' ', ' ', ' ', ' ', ' ', ' ', ' ', ' ', ' ', ' ', ' ', ' ', 'Mais', ' ', 'de', ' ', '1', ' ', 'ano', ' ', '(', ' ', ' ', ')', ' ', '0', ' ', ' ', ' ', ' ', ' ', ' ', ' ', ' ', ' ', ' ', ' ', ' ', ' ', ' ', ' ', ' ', ' ', ' ', ' ', ' ', ' ', ' ', ' ', ' ', ' ', ' ', ' ', ' ', ' ', ' ', ' ', '(', ' ', ' ', ')', ' ', '1', ' ', ' ', ' ', ' ', ' ', ' ', ' ', ' ', ' ', ' ', ' ', ' ', ' ', ' ', ' ', ' ', ' ', ' ', ' ', ' ', ' ', ' ', ' ', ' ', ' ', ' ', '(', ' ', ' ', ')', ' ', '2', ' ', ' ', ' ', ' ', ' ', ' ', ' ', ' ', ' ', ' ', ' ', ' ', ' ', ' ', ' ', ' ', ' ', ' ', ' ', ' ', ' ', ' ', ' ', ' ', ' ', ' ', ' ', ' ', ' ', ' ', ' ', ' ', ' ', '(', ' ', ' ', ')', ' ', '3', '\\r'], ['SDQ2.', ' ', 'É', ' ', 'inquieta,', ' ', 'hiperativa,', ' ', 'tem', ' ', 'dificuldade', ' ', 'de', ' ', 'ficar', ' ', 'sentada', ' ', 'por', ' ', 'muito', ' ', 'tempo.', ' ', '(0)', ' ', '(1)', ' ', '(2)', '\\r'], ['•', ' ', 'Estas', ' ', 'dificuldades', ' ', 'atrapalham', ' ', 'o', ' ', 'dia-a-dia', ' ', 'de', ' ', '[Nome', ' ', 'do', ' ', 'Jovem]', ' ', 'em', ' ', 'alguma', ' ', 'das', ' ', 'situações', ' ', 'abaixo?', '\\r'], ['SDQ26g.', ' ', 'As', ' ', 'dificuldades', ' ', 'dela', ' ', 'são', ' ', 'um', ' ', 'peso', ' ', 'para', ' ', 'você', ' ', 'ou', ' ', 'outra', ' ', 'pessoa?', '\\r'], ['SDQ20.', ' ', 'Frequentemente', ' ', 'se', ' ', 'oferece', ' ', 'para', ' ', 'ajudar', ' ', 'outras', ' ', 'pessoas', ' ', '(membros', ' ', 'da', ' ', 'família,', ' ', 'amigos', ' ', 'ou', ' ', 'colegas)', ' ', '(0)', ' ', '(1)', ' ', '(2)', '\\r'], ['SDQ24.', ' ', 'Tem', ' ', 'muitos', ' ', 'medos,', ' ', 'assusta-se', ' ', 'facilmente', ' ', '(0)', ' ', '(1)', ' ', '(2)', '\\r'], ['SDQ21.', ' ', 'Pensa', ' ', 'nas', ' ', 'coisas', ' ', 'antes', ' ', 'de', ' ', 'fazê-las', ' ', '(2)', ' ', '(1)', ' ', '(0)', '\\r'], ['SDQ9.', ' ', 'Tenta', ' ', 'ser', ' ', 'atencioso', ' ', 'se', ' ', 'alguém', ' ', 'parece', ' ', 'magoado,', ' ', 'aflito', ' ', 'ou', ' ', 'se', ' ', 'sentindo', ' ', 'mal', ' ', '(0)', ' ', '(1)', ' ', '(2)', '\\r'], ['Questionário', ' ', 'de', ' ', 'Capacidades', ' ', 'e', ' ', 'Dificuldades', ' ', '–', ' ', 'Relado', ' ', 'dos', ' ', 'pais', ' ', 'para', ' ', 'adultos', '\\r'], ['SDQ26f.', ' ', 'Atividades', ' ', 'de', ' ', 'lazer', ' ', '(passeios,', ' ', 'esportes', ' ', 'etc.)', '\\r'], ['SDQ12.', ' ', 'Frequentemente', ' ', 'briga', ' ', 'ou', ' ', 'intimida', ' ', 'outras', ' ', 'pessoas', ' ', '(0)', ' ', '(1)', ' ', '(2)', '\\r'], ['SDQ26.', ' ', 'Você', ' ', 'acha', ' ', 'que', ' ', '[Nome', ' ', 'do', ' ', 'Jovem]', ' ', 'tem', ' ', 'alguma', ' ', 'dificuldade?', ' ', 'Pode', ' ', 'ser', ' ', 'uma', ' ', 'dificuldade', ' ', 'emocional,', ' ', 'de', ' ', 'comportamento,', ' ', 'pouca', ' ', 'concentração', ' ', 'ou', ' ', 'para', ' ', 'se', ' ', 'dar', ' ', 'bem', ' ', 'com', ' ', 'outras', ' ', 'pessoas.', '\\r'], ['SDQ7.', ' ', 'Geralmente', ' ', 'aceita', ' ', 'fazer', ' ', 'o', ' ', 'que', ' ', 'as', ' ', 'outras', ' ', 'pessoas', ' ', 'querem', ' ', '(2)', ' ', '(1)', ' ', '(0)', '\\r'], ['SDQ5.', ' ', 'Frequentemente', ' ', 'tem', ' ', 'acessos', ' ', 'de', ' ', 'raiva', ' ', '(0)', ' ', '(1)', ' ', '(2)', '\\r'], ['Nada', ' ', 'Um', ' ', 'pouco', ' ', 'Muito', ' ', 'Mais', ' ', 'que', ' ', 'muito', ' ', 'SDQ26c.', ' ', 'Dar-se', ' ', 'bem', ' ', 'com', ' ', 'as', ' ', 'pessoas', ' ', 'que', ' ', 'ela', ' ', 'é', ' ', 'mais', ' ', 'próxima', ' ', '(ex:', ' ', 'família,', ' ', 'parceiro/a)', '\\r'], ['SDQ6.', ' ', 'Prefere', ' ', 'ficar', ' ', 'sozinha', ' ', 'do', ' ', 'que', ' ', 'em', ' ', 'companhia', ' ', 'de', ' ', 'outras', ' ', 'pessoas', ' ', '(0)', ' ', '(1)', ' ', '(2)', '\\r'], ['SDQ10.', ' ', 'Está', ' ', 'sempre', ' ', 'agitado,', ' ', 'balançando', ' ', 'as', ' ', 'pernas', ' ', 'ou', ' ', 'mexendo', ' ', 'as', ' ', 'mãos', ' ', '(0)', ' ', '(1)', ' ', '(2)', '\\r'], ['SDQ19.', ' ', 'É', ' ', 'incomodado', ' ', 'ou', ' ', 'sofre', ' ', 'bullying', ' ', 'por', ' ', 'outras', ' ', 'pessoas', ' ', '(0)', ' ', '(1)', ' ', '(2)', '\\r'], ['SDQ1.', ' ', 'Tem', ' ', 'consideração', ' ', 'pelos', ' ', 'sentimentos', ' ', 'de', ' ', 'outras', ' ', 'pessoas', ' ', '(0)', ' ', '(1)', ' ', '(2)', '\\r'], ['SDQ11.', ' ', 'Tem', ' ', 'pelo', ' ', 'menos', ' ', 'um', ' ', 'bom', ' ', 'amigo', ' ', 'ou', ' ', 'uma', ' ', 'boa', ' ', 'amiga', ' ', '(2)', ' ', '(1)', ' ', '(0)', '\\r'], [], [\"T6A'\", ' ', '[Se', ' ', 'sim', ' ', 'para', ' ', '6]', ' ', 'Essa', ' ', 'pessoa', ' ', 'se', ' ', 'sentia', ' ', 'cansada,', ' ', 'irritada,', ' ', 'tinha', ' ', 'problemas', ' ', 'para', ' ', 'dormir', ' ', 'e', ' ', 'isso', ' ', 'atrapalhava', ' ', 'de', ' ', 'forma', ' ', 'significativa', ' ', 'a', ' ', 'sua', ' ', 'vida', ' ', 'pessoal,', ' ', 'profissional', ' ', 'ou', ' ', 'escolar?', '\\r'], ['T3.', ' ', 'Alguém', ' ', 'da', ' ', 'lista', ' ', 'já', ' ', 'ficou', ' ', 'por', ' ', 'um', ' ', 'período', ' ', 'se', ' ', 'sentindo', ' ', 'extremamente', ' ', 'feliz', ' ', 'ou', ' ', '“para', ' ', 'cima”', ' ', 'ou', ' ', 'alto?', '\\r'], ['T2A’', ' ', '[Se', ' ', 'sim', ' ', 'para', ' ', '1', ' ', 'ou', ' ', '2]', ' ', 'Essa', ' ', 'pessoa', ' ', 'já', ' ', 'ficou', ' ', '\\r'], ['por', ' ', 'um', ' ', 'período', ' ', 'se', ' ', 'sentindo', ' ', 'muito', ' ', 'cansada,', ' ', '\\r'], ['com', ' ', 'menos', ' ', 'energia,', ' ', 'com', ' ', 'alteração', ' ', 'do', ' ', 'sono,', ' ', '\\r'], ['sem', ' ', 'conseguir', ' ', 'dar', ' ', 'conta', ' ', 'dos', ' ', 'afazeres', ' ', '\\r'], ['habituais', ' ', 'ou', ' ', 'com', ' ', 'diminuição', ' ', 'da', ' ', 'capacidade', ' ', 'de', ' ', '\\r'], ['concentração', ' ', 'nesse', ' ', 'período?', ' ', '(duas', ' ', 'semanas', ' ', '\\r'], ['ou', ' ', 'mais)', '\\r'], ['T2C’', ' ', '[Se', ' ', 'sim', ' ', 'p/', ' ', '2B]', ' ', 'Esses', ' ', 'momentos', ' ', 'duraram', ' ', 'no', ' ', 'máximo', ' ', '2', ' ', 'meses', ' ', 'depois', ' ', 'do', ' ', 'falecimento', ' ', 'dessa', ' ', 'pessoa?', '\\r'], ['INTRODUÇÃO:', ' ', ' ', '\\r'], [' ', '\\r'], ['Meu', ' ', ' ', 'nome', ' ', ' ', 'é', ' ', ' ', '(nome', ' ', ' ', 'do', ' ', ' ', 'entrevistador),', ' ', 'faço', ' ', ' ', 'parte', ' ', ' ', 'da', ' ', ' ', 'equipe', ' ', ' ', 'de', ' ', ' ', 'avaliação', ' ', ' ', 'do', ' ', ' ', 'projeto', ' ', ' ', 'PREVENÇÃO.', ' ', 'Há', ' ', '\\r'], ['alguns', ' ', ' ', 'dias', ' ', ' ', 'um', ' ', ' ', 'entrevistador', ' ', ' ', 'do', ' ', ' ', 'IBOPE', ' ', ' ', 'conversou', ' ', ' ', 'com', ' ', ' ', 'o(a)', ' ', ' ', 'sr(a)', ' ', ' ', 'na', ' ', ' ', 'escola', ' ', 'do(s)', ' ', ' ', 'seu(s)', ' ', ' ', 'filho(s),', ' ', ' ', 'onde', ' ', '\\r'], ['o(a)', ' ', 'sr(a)', ' ', 'nos', ' ', 'forneceu', ' ', 'seus', ' ', 'dados', ' ', 'para', ' ', 'contato', ' ', 'telefônico,', ' ', 'e', ' ', 'é', ' ', 'por', ' ', 'isso', ' ', 'que', ' ', 'estou', ' ', 'ligando', ' ', 'hoje.', ' ', ' ', '\\r'], [' ', '\\r'], ['Como', ' ', ' ', 'já', ' ', ' ', 'foi', ' ', ' ', 'explicado,', ' ', 'a', ' ', 'escola', ' ', ' ', 'em', ' ', ' ', 'que', ' ', ' ', 'seu', ' ', ' ', 'filho', ' ', ' ', 'está', ' ', ' ', 'se', ' ', ' ', 'matriculando', ' ', ' ', 'é', ' ', ' ', 'uma', ' ', ' ', 'das', ' ', ' ', 'participantes', ' ', ' ', 'desse', ' ', '\\r'], ['grande', ' ', 'projeto', ' ', 'financiado', ' ', 'pelo', ' ', 'governo', ' ', 'federal', ' ', 'que', ' ', 'tem', ' ', 'o', ' ', 'objetivo', ' ', 'de', ' ', 'desenvolver', ' ', 'estudos', ' ', 'que', ' ', 'permitam', ' ', '\\r'], ['compreender', ' ', ' ', 'melhor', ' ', ' ', 'os', ' ', ' ', 'problemas', ' ', ' ', 'emocionais', ' ', ' ', 'e', ' ', ' ', 'de', ' ', ' ', 'comportamento', ' ', ' ', 'das', ' ', ' ', 'crianças.', ' ', ' ', 'O', ' ', ' ', 'projeto', ' ', ' ', 'é', ' ', ' ', 'uma', ' ', '\\r'], ['parceria', ' ', ' ', 'entre', ' ', ' ', 'a', ' ', ' ', 'Universidade', ' ', ' ', 'Federal', ' ', ' ', 'do', ' ', ' ', 'Rio', ' ', ' ', 'Grande', ' ', ' ', 'do', ' ', ' ', 'Sul', ' ', ' ', '(UFRGS),', ' ', 'Universidade', ' ', ' ', 'Federal', ' ', ' ', 'de', ' ', ' ', 'São', ' ', '\\r'], ['Paulo', ' ', '(UNIFESP),', ' ', 'Universidade', ' ', 'de', ' ', 'São', ' ', 'Paulo', ' ', '(USP),', ' ', 'Secretaria', ' ', 'de', ' ', 'Educação', ' ', 'do', ' ', 'seu', ' ', 'estado', ' ', 'e', ' ', 'escola', ' ', 'do', ' ', '\\r'], ['seu', ' ', 'filho.', ' ', '\\r'], [' ', '\\r'], ['O', ' ', 'projeto', ' ', 'conta', ' ', 'com', ' ', 'psiquiatras,', ' ', 'psicólogos', ' ', 'e', ' ', 'fonoaudiólogos,', ' ', 'bem', ' ', 'como', ' ', 'uma', ' ', 'ampla', ' ', 'equipe', ' ', 'de', ' ', 'pesquisa', ' ', '\\r'], ['que', ' ', 'poderá', ' ', ' ', 'entrar', ' ', 'em', ' ', ' ', 'contato', ' ', ' ', 'com', ' ', 'o(a)', ' ', 'sr(a)', ' ', 'e', ' ', 'com', ' ', ' ', 'seu', ' ', 'filho', ' ', ' ', 'no', ' ', 'próximo', ' ', ' ', 'ano.', ' ', 'As', ' ', ' ', 'crianças', ' ', 'selecionadas', ' ', '\\r'], ['para', ' ', 'participação', ' ', 'no', ' ', 'projeto', ' ', 'contarão', ' ', 'com', ' ', 'entrevistas', ' ', 'em', ' ', 'casa', ' ', 'sobre', ' ', 'seu', ' ', 'filho', ' ', 'e', ' ', 'sua', ' ', 'família', ' ', 'e', ' ', 'avaliações', ' ', '\\r'], ['especializadas', ' ', 'do', ' ', 'seu', ' ', 'filho', ' ', 'na', ' ', 'escola.', ' ', ' ', '\\r'], [' ', '\\r'], ['A', ' ', ' ', 'secretaria', ' ', ' ', 'de', ' ', ' ', 'educação', ' ', ' ', 'e', ' ', ' ', 'a', ' ', ' ', 'sua', ' ', ' ', 'escola', ' ', ' ', 'são', ' ', ' ', 'parceiras', ' ', ' ', 'nesse', ' ', ' ', 'projeto', ' ', ' ', 'e', ' ', ' ', 'estimulam', ' ', ' ', 'a', ' ', ' ', 'sua', ' ', ' ', 'participação.', ' ', '\\r'], ['Para', ' ', 'continuar', ' ', ' ', 'participando', ' ', 'basta', ' ', 'responder', ' ', 'algumas', ' ', ' ', 'questões', ' ', ' ', 'sobre', ' ', 'o(a)', ' ', ' ', 'sr(a)', ' ', 'e', ' ', ' ', 'sobre', ' ', ' ', 'sua', ' ', ' ', 'família', ' ', ' ', 'em', ' ', '\\r'], ['uma', ' ', 'entrevista', ' ', 'comigo', ' ', '(com', ' ', 'duração', ' ', 'de', ' ', 'cerca', ' ', 'de', ' ', '15', ' ', 'minutos).', ' ', 'Lembre-se,', ' ', 'o(a)', ' ', 'sr(a)', ' ', 'poderá', ' ', 'se', ' ', 'retirar', ' ', 'da', ' ', '\\r'], ['pesquisa', ' ', ' ', 'em', ' ', ' ', 'qualquer', ' ', ' ', 'momento', ' ', ' ', 'do', ' ', ' ', 'estudo.', ' ', ' ', 'A', ' ', ' ', 'equipe', ' ', ' ', 'estará', ' ', ' ', 'a', ' ', ' ', 'disposição', ' ', ' ', 'para', ' ', ' ', 'dar', ' ', ' ', 'as', ' ', ' ', 'informações', ' ', '\\r'], ['necessárias', ' ', 'acerca', ' ', 'do', ' ', 'projeto.', '\\r'], ['T1.', ' ', 'Alguém', ' ', 'da', ' ', 'lista', ' ', 'às', ' ', 'vezes', ' ', 'fica', ' ', 'triste,', ' ', 'para', ' ', '\\r'], ['baixo', ' ', 'ou', ' ', 'deprimido', ' ', 'na', ' ', 'maior', ' ', 'parte', ' ', 'do', ' ', 'tempo', ' ', '\\r'], ['por', ' ', 'duas', ' ', 'semanas', ' ', 'ou', ' ', 'mais?', '\\r'], ['T9.', ' ', 'Alguém', ' ', 'da', ' ', 'lista', ' ', 'já', ' ', 'sentiu', ' ', 'muito', ' ', 'medo', ' ', 'ou', ' ', '\\r'], ['muita', ' ', 'timidez', ' ', 'em', ' ', 'situações', ' ', 'sociais,', ' ', 'como', ' ', '\\r'], ['conhecer', ' ', 'novas', ' ', 'pessoas,', ' ', 'ir', ' ', 'a', ' ', 'festas,', ' ', 'sair', ' ', 'com', ' ', '\\r'], ['um', ' ', 'pretendente,', ' ', 'ou', ' ', 'usar', ' ', 'um', ' ', 'banheiro', ' ', 'público?', '\\r'], ['P8.', ' ', 'Qual', ' ', 'o', ' ', 'nome', ' ', 'do(a)', ' ', 'seu(sua)', ' ', 'filho(a)', ' ', 'falecido(a)?', ' ', '\\r'], [' ', '\\r'], [' ', ' ', 'Nome', '\\r'], ['T13.', ' ', 'Alguém', ' ', 'da', ' ', 'sua', ' ', 'lista', ' ', 'já', ' ', 'se', ' ', 'sentiu', ' ', 'incomodado(a)', ' ', 'por', ' ', 'preocupações', ' ', 'ou', ' ', 'medos', ' ', 'de', ' ', 'que', ' ', 'algo', ' ', 'muito', ' ', 'ruim', ' ', 'possa', ' ', 'acontecer?', ' ', 'E', ' ', 'quanto', ' ', 'a', ' ', 'ter', ' ', 'pensamentos', ' ', 'impróprios', ' ', 'de', ' ', 'conteúdo', ' ', 'sexual', ' ', 'ou', ' ', 'religioso?', '\\r'], [\"T21A'.\", ' ', '[Se', ' ', 'sim', ' ', 'p', ' ', '21]', ' ', 'A', ' ', 'pessoa', ' ', 'teve', ' ', 'problema', ' ', '\\r'], ['com', ' ', 'drogas', ' ', 'ou', ' ', 'as', ' ', 'pessoas', ' ', 'achavam', ' ', 'que', ' ', 'ela', ' ', '\\r'], ['tinha', ' ', 'problemas', ' ', 'com', ' ', 'drogas?', '\\r'], ['T4.', ' ', 'Alguém', ' ', 'na', ' ', 'lista', ' ', 'já', ' ', 'ficou', ' ', 'por', ' ', 'um', ' ', 'período', ' ', '\\r'], ['mais', ' ', 'ativo', ' ', 'ou', ' ', 'falante', ' ', 'que', ' ', 'o', ' ', 'normal?', '\\r'], [\"T10A'.\", ' ', '[Se', ' ', 'sim', ' ', 'p', ' ', '9', ' ', 'ou', ' ', '10]', ' ', 'Essa', ' ', 'pessoa', ' ', 'ficava', ' ', 'tão', ' ', 'envergonhada', ' ', 'e', ' ', 'com', ' ', 'medo', ' ', 'a', ' ', 'ponto', ' ', 'de', ' ', 'NÃO', ' ', 'CONSEGUIR', ' ', 'FAZER', ' ', 'as', ' ', 'coisas', ' ', 'que', ' ', 'a', ' ', 'incomodavam?', '\\r'], ['T29', ' ', 'Quando', ' ', 'criança,', ' ', 'alguém', ' ', 'da', ' ', 'sua', ' ', 'lista', ' ', 'era', ' ', '\\r'], ['desatento', ' ', 'e', ' ', 'se', ' ', 'distraía', ' ', 'com', ' ', 'facilidade,', ' ', 'tinha', ' ', '\\r'], ['dificuldades', ' ', 'para', ' ', 'manter', ' ', 'a', ' ', 'atenção,', ' ', 'perdia', ' ', '\\r'], ['coisas', ' ', 'necessárias', ' ', 'para', ' ', 'realização', ' ', 'de', ' ', 'tarefas', ' ', '\\r'], ['ou', ' ', 'se', ' ', 'esquecia', ' ', 'de', ' ', 'atividades', ' ', 'do', ' ', 'dia-a-dia?', '\\r'], ['T3A’', ' ', '[Se', ' ', 'sim', ' ', 'para', ' ', '3]', ' ', 'Eu', ' ', 'quero', ' ', 'dizer', ' ', '“para', ' ', 'cima”', ' ', 'de', ' ', 'tal', ' ', 'forma', ' ', 'que', ' ', 'as', ' ', 'pessoas', ' ', 'ficaram', ' ', 'muito', ' ', 'preocupadas', ' ', 'com', ' ', 'ele', ' ', 'ou', ' ', 'que', ' ', 'isso', ' ', 'tenha', ' ', 'interferido', ' ', 'no', ' ', 'desempenho', ' ', 'de', ' ', 'suas', ' ', 'responsabilidades', ' ', 'habituais.', '\\r'], ['T2.', ' ', 'Alguém', ' ', 'da', ' ', 'lista', ' ', 'no', ' ', 'período', ' ', 'de', ' ', 'duas', ' ', 'semanas', ' ', 'ou', ' ', 'mais', ' ', ' ', 'perdeu', ' ', 'o', ' ', 'interesse', ' ', 'na', ' ', 'maioria', ' ', 'das', ' ', 'coisas', ' ', 'que', ' ', 'habitualmente', ' ', 'gostava,', ' ', 'como', ' ', 'trabalho,', ' ', 'atividades', ' ', 'de', ' ', 'lazer', ' ', 'OU', ' ', 'nos', ' ', 'relacionamentos', ' ', 'pessoais?', '\\r'], [\"T5A'\", ' ', '[Se', ' ', 'sim', ' ', 'para', ' ', '5]', ' ', 'Essa', ' ', 'pessoa', ' ', 'teve', ' ', 'vários', ' ', '\\r'], ['ataques', ' ', 'como', ' ', 'esse,', ' ', 'que', ' ', 'aconteciam', ' ', 'de', ' ', 'uma', ' ', '\\r'], ['hora', ' ', 'para', ' ', 'outra', ' ', 'e', ' ', 'foram', ' ', 'seguidos', ' ', 'de', ' ', 'um', ' ', 'medo', ' ', '\\r'], ['de', ' ', 'que', ' ', 'um', ' ', 'novo', ' ', 'ataque', ' ', 'pudesse', ' ', 'acontecer?', '\\r'], ['T10.', ' ', 'Alguém', ' ', 'da', ' ', 'lista', ' ', 'já', ' ', 'sentiu', ' ', 'muito', ' ', 'medo', ' ', 'e', ' ', '\\r'], ['desconforto', ' ', 'quando', ' ', 'tinha', ' ', 'que', ' ', 'fazer', ' ', 'algo', ' ', 'em', ' ', '\\r'], ['frente', ' ', 'a', ' ', 'um', ' ', 'grupo', ' ', 'de', ' ', 'pessoas,', ' ', 'como', ' ', 'dar', ' ', 'uma', ' ', '\\r'], ['palestra', ' ', 'ou', ' ', 'fazer', ' ', 'um', ' ', 'discurso', ' ', 'com', ' ', 'medo', ' ', 'de', ' ', '\\r'], ['ser', ' ', 'humilhado', ' ', 'ou', ' ', 'estar', ' ', 'no', ' ', 'centro', ' ', 'das', ' ', '\\r'], ['atenções?', '\\r'], ['T17.', ' ', 'Alguém', ' ', 'da', ' ', 'lista', ' ', 'já', ' ', 'ouviu', ' ', 'vozes', ' ', 'ou', ' ', 'teve', ' ', '\\r'], ['visões', ' ', 'que', ' ', 'as', ' ', 'outras', ' ', 'pessoas', ' ', 'não', ' ', 'podiam', ' ', 'ver', ' ', '\\r'], ['ou', ' ', 'ouvir?', '\\r'], [\"T27A'.\", ' ', '[Se', ' ', 'sim', ' ', 'p', ' ', '27]', ' ', 'A', ' ', 'pessoa', ' ', 'roubava', ' ', 'bens', ' ', 'VALIOSOS,', ' ', 'matava', ' ', 'MUITAS', ' ', 'aulas', ' ', 'ou', ' ', 'quebrava', ' ', 'MUITAS', ' ', 'regras,', ' ', 'mais', ' ', 'que', ' ', 'as', ' ', 'outras', ' ', 'crianças?', '\\r'], ['P5.', ' ', 'O(a)', ' ', 'sr(a)', ' ', 'poderia', ' ', 'nos', ' ', 'confirmar', ' ', ' ', 'seu', ' ', 'nome', ' ', 'completo', ' ', 'e', ' ', 'idade?', '\\r'], ['T26.', ' ', 'Quando', ' ', 'criança,', ' ', 'alguém', ' ', 'da', ' ', 'sua', ' ', 'lista', ' ', 'se', ' ', '\\r'], ['sentia', ' ', 'muito', ' ', 'nervoso', ' ', 'e', ' ', 'tinha', ' ', 'muita', ' ', 'dificuldade', ' ', '\\r'], ['para', ' ', 'falar', ' ', 'com', ' ', 'pessoas', ' ', 'que', ' ', 'não', ' ', 'conhecia?', '\\r'], ['T24.', ' ', 'Quando', ' ', 'criança,', ' ', 'alguém', ' ', 'da', ' ', 'sua', ' ', 'lista', ' ', 'teve', ' ', '\\r'], ['dificuldade', ' ', 'para', ' ', 'falar', ' ', 'ou', ' ', 'compreender', ' ', 'o', ' ', 'que', ' ', '\\r'], ['lhe', ' ', 'é', ' ', 'ou', ' ', 'era', ' ', 'dito?', '\\r'], ['T21.', ' ', 'Alguém', ' ', 'da', ' ', 'lista', ' ', 'já', ' ', 'teve', ' ', 'um', ' ', 'período', ' ', 'da', ' ', 'vida', ' ', 'em', ' ', 'que', ' ', 'usou', ' ', 'regularmente', ' ', 'drogas', ' ', 'ilícitas?', '\\r'], ['T34.', ' ', 'Alguém', ' ', 'da', ' ', 'lista', ' ', 'já', ' ', 'consultou', ' ', 'com', ' ', 'um', ' ', '\\r'], ['psiquiatra', ' ', 'ou', ' ', 'psicólogo,', ' ', 'por', ' ', 'causa', ' ', 'de', ' ', 'um', ' ', '\\r'], ['algum', ' ', 'dos', ' ', 'problemas', ' ', 'psicológicos', ' ', 'ou', ' ', '\\r'], ['emocionais', ' ', 'que', ' ', 'conversamos', ' ', 'durante', ' ', 'toda', ' ', 'a', ' ', '\\r'], ['entrevista?', '\\r'], ['T8.', ' ', 'Alguém', ' ', 'da', ' ', 'lista', ' ', 'já', ' ', 'ficou', ' ', 'com', ' ', 'muito', ' ', 'medo', ' ', 'de', ' ', 'altura', ' ', 'ou', ' ', 'de', ' ', 'lugares', ' ', 'altos,', ' ', 'animais,', ' ', 'piscina,', ' ', 'lago,', ' ', 'tempestades,', ' ', 'sangue,', ' ', 'ferimentos,', ' ', 'dentista,', ' ', 'médico', ' ', 'ou', ' ', 'de', ' ', 'tomar', ' ', 'injeção?', '\\r'], ['“Eu', ' ', 'sei', ' ', 'que', ' ', 'o(a)', ' ', 'sr(a)', ' ', 'sabe', ' ', 'isso,', ' ', 'mas', ' ', 'eu', ' ', 'tenho', ' ', 'que', ' ', 'lembrá-lo', ' ', 'que', ' ', 'TODAS', ' ', 'essas', ' ', 'questões', ' ', 'são', ' ', 'sobre', ' ', 'se', ' ', 'qualquer', ' ', 'pessoa', ' ', 'listada', ' ', 'na', ' ', 'página', ' ', 'tem', ' ', 'ou', ' ', 'teve', ' ', 'esses', ' ', 'problemas.', ' ', 'O(a)', ' ', 'sr(a)', ' ', 'gostaria', ' ', 'de', ' ', 'acrescentar', ' ', 'alguma', ' ', 'informação', ' ', 'anterior', ' ', 'que', ' ', 'o(a)', ' ', 'sr(a)', ' ', 'esqueceu?', '\\r'], ['T35.', ' ', 'Alguém', ' ', 'da', ' ', 'lista', ' ', 'já', ' ', 'teve', ' ', 'que', ' ', 'ser', ' ', 'internado', ' ', 'em', ' ', 'um', ' ', 'hospital', ' ', 'ou', ' ', 'em', ' ', 'algum', ' ', 'lugar', ' ', 'de', ' ', 'tratamento', ' ', 'por', ' ', 'uma', ' ', 'noite', ' ', 'ou', ' ', 'mais', ' ', 'por', ' ', 'causa', ' ', 'de', ' ', 'um', ' ', 'algum', ' ', 'dos', ' ', 'problemas', ' ', 'psicológicos', ' ', 'ou', ' ', 'emocionais', ' ', 'que', ' ', 'conversamos', ' ', 'durante', ' ', 'toda', ' ', 'a', ' ', 'entrevista?', '\\r'], ['T20.', ' ', 'Alguém', ' ', 'da', ' ', 'lista', ' ', 'já', ' ', 'teve', ' ', 'um', ' ', 'período', ' ', 'da', ' ', '\\r'], ['vida', ' ', 'em', ' ', 'que', ' ', 'bebia', ' ', 'muito?', '\\r'], ['T11A’.[', ' ', 'Se', ' ', 'sim', ' ', 'para', ' ', '11],', ' ', 'Essa', ' ', 'pessoa', ' ', 'gastava', ' ', '\\r'], ['muito', ' ', 'tempo', ' ', 'com', ' ', '“manias”', ' ', 'de', ' ', 'arrumacão', ' ', 'ou', ' ', '\\r'], ['organização?', '\\r'], [\"T7A'\", ' ', '[Se', ' ', 'sim', ' ', 'para', ' ', '7]', ' ', 'Essa', ' ', 'pessoa', ' ', 'sempre', ' ', 'teve', ' ', 'tanto', ' ', 'medo', ' ', 'dessas', ' ', 'situações', ' ', 'que', ' ', 'não', ' ', 'conseguiu', ' ', 'enfrentá-las', ' ', 'OU', ' ', 'sentiu', ' ', 'um', ' ', 'intenso', ' ', 'mal', ' ', 'estar', ' ', 'quando', ' ', 'as', ' ', 'enfrentou;', ' ', 'OU', ' ', 'ainda,', ' ', 'procurou', ' ', 'estar', ' ', 'acompanhado', ' ', 'para', ' ', 'enfrentá-', ' ', 'las?', '\\r'], ['P11.', ' ', 'O', ' ', 'Sr(a)', ' ', 'matriculou', ' ', 'o(a)', ' ', 'LER', ' ', 'NOMES', ' ', 'ABAIXO', ' ', 'na', ' ', 'escola', ' ', 'recentemente?', ' ', '(RU', ' ', 'POR', ' ', 'FILHO)', ' ', 'Aplicar', ' ', 'para', ' ', 'cada', ' ', 'resposta', ' ', 'da', ' ', 'P6.', '\\r'], ['T28', ' ', 'Quando', ' ', 'criança,', ' ', 'alguém', ' ', 'da', ' ', 'sua', ' ', 'lista', ' ', 'discutia', ' ', 'muito', ' ', 'com', ' ', 'adultos,', ' ', 'recusava-se', ' ', 'a', ' ', 'fazer', ' ', 'o', ' ', 'que', ' ', 'os', ' ', 'pais', ' ', 'ou', ' ', 'professores', ' ', 'lhe', ' ', 'pediam,', ' ', 'irritava-se', ' ', 'com', ' ', 'facilidade,', ' ', 'era', ' ', 'rancoroso', ' ', 'ou', ' ', 'vingativo', ' ', 'e', ' ', 'desafiador?', '\\r'], ['T37.', ' ', 'Alguém', ' ', 'da', ' ', 'lista', ' ', 'já', ' ', 'teve', ' ', 'dificuldade', ' ', 'para', ' ', 'dar', ' ', 'conta', ' ', 'de', ' ', 'suas', ' ', 'responsabilidades', ' ', 'habituais', ' ', 'como', ' ', 'trabalhar,', ' ', 'ir', ' ', 'à', ' ', 'escola', ' ', 'ou', ' ', 'cuidar', ' ', 'da', ' ', 'família', ' ', 'ou', ' ', 'da', ' ', 'casa', ' ', 'por', ' ', 'causa', ' ', 'de', ' ', 'um', ' ', 'algum', ' ', 'dos', ' ', 'problemas', ' ', 'psicológicos', ' ', 'ou', ' ', 'emocionais', ' ', 'que', ' ', 'conversamos', ' ', 'durante', ' ', 'toda', ' ', 'a', ' ', 'entrevista?', '\\r'], [\"T21A'.\", ' ', '[Se', ' ', 'sim', ' ', 'p', ' ', '21]', ' ', 'A', ' ', 'pessoa', ' ', 'teve', ' ', 'problema', ' ', 'com', ' ', 'drogas', ' ', 'ou', ' ', 'as', ' ', 'pessoas', ' ', 'achavam', ' ', 'que', ' ', 'ela', ' ', 'tinha', ' ', 'problemas', ' ', 'com', ' ', 'drogas?', '\\r'], ['T9.', ' ', 'Alguém', ' ', 'da', ' ', 'lista', ' ', 'já', ' ', 'sentiu', ' ', 'muito', ' ', 'medo', ' ', 'ou', ' ', 'muita', ' ', 'timidez', ' ', 'em', ' ', 'situações', ' ', 'sociais,', ' ', 'como', ' ', 'conhecer', ' ', 'novas', ' ', 'pessoas,', ' ', 'ir', ' ', 'a', ' ', 'festas,', ' ', 'sair', ' ', 'com', ' ', 'um', ' ', 'pretendente,', ' ', 'ou', ' ', 'usar', ' ', 'um', ' ', 'banheiro', ' ', 'público?', '\\r'], ['T37.', ' ', 'Alguém', ' ', 'da', ' ', 'lista', ' ', 'já', ' ', 'teve', ' ', 'dificuldade', ' ', 'para', ' ', '\\r'], ['dar', ' ', 'conta', ' ', 'de', ' ', 'suas', ' ', 'responsabilidades', ' ', 'habituais', ' ', '\\r'], ['como', ' ', 'trabalhar,', ' ', 'ir', ' ', 'à', ' ', 'escola', ' ', 'ou', ' ', 'cuidar', ' ', 'da', ' ', 'família', ' ', '\\r'], ['ou', ' ', 'da', ' ', 'casa', ' ', 'por', ' ', 'causa', ' ', 'de', ' ', 'um', ' ', 'algum', ' ', 'dos', ' ', '\\r'], ['problemas', ' ', 'psicológicos', ' ', 'ou', ' ', 'emocionais', ' ', 'que', ' ', '\\r'], ['conversamos', ' ', 'durante', ' ', 'toda', ' ', 'a', ' ', 'entrevista?', '\\r'], ['P17.', ' ', 'Quem', ' ', 'é', ' ', 'o', ' ', 'pai/', ' ', 'a', ' ', 'mãe', ' ', 'de', ' ', '(NOME', ' ', 'DA', ' ', 'CRIANÇA)', '\\r'], [\"T25A'\", ' ', '[Se', ' ', 'sim', ' ', 'p', ' ', '25]', ' ', 'Muito', ' ', 'mais', ' ', 'que', ' ', 'a', ' ', 'maioria', ' ', 'das', ' ', 'crianças', ' ', 'da', ' ', 'idade', ' ', 'dele?', '\\r'], ['T23.', ' ', 'Quando', ' ', 'criança,', ' ', 'alguém', ' ', 'da', ' ', 'sua', ' ', 'lista', ' ', 'teve', ' ', 'dificuldade', ' ', 'em', ' ', 'tarefas', ' ', 'de', ' ', 'leitura,', ' ', 'escrita', ' ', 'ou', ' ', 'matemática?', '\\r'], ['T16.', ' ', 'Alguém', ' ', 'da', ' ', 'lista', ' ', 'já', ' ', 'apresentou', ' ', 'comportamentos', ' ', 'que', ' ', 'parecem', ' ', 'estranhos,', ' ', 'bizarros', ' ', 'ou', ' ', 'sem', ' ', 'sentido?', '\\r'], ['T33.', ' ', 'Alguém', ' ', 'da', ' ', 'lista', ' ', 'JÁ', ' ', 'tentou', ' ', 'se', ' ', 'matar?', '\\r'], ['T5.', ' ', 'Alguém', ' ', 'da', ' ', 'lista', ' ', 'já', ' ', 'teve', ' ', 'um', ' ', 'ataque', ' ', 'de', ' ', '\\r'], ['medo', ' ', 'ou', ' ', 'pânico,', ' ', 'que', ' ', 'durou', ' ', 'em', ' ', 'torno', ' ', 'de', ' ', '20', ' ', '\\r'], ['minutos,', ' ', 'em', ' ', 'que', ' ', 'de', ' ', 'repente', ' ', 'sentiu', ' ', 'dificuldade', ' ', '\\r'], ['de', ' ', 'respirar,', ' ', 'tremores,', ' ', 'tontura,', ' ', 'sentiu', ' ', 'seu', ' ', '\\r'], ['coração', ' ', 'batendo', ' ', 'forte', ' ', 'e', ' ', 'rápido', ' ', 'OU', ' ', 'pensou', ' ', 'que', ' ', '\\r'], ['poderia', ' ', 'perder', ' ', 'o', ' ', 'controle,', ' ', 'morrer', ' ', 'ou', ' ', '\\r'], ['enlouquecer?', '\\r'], ['Meu', ' ', 'nome', ' ', 'é', ' ', '(nome', ' ', 'do', ' ', 'entrevistador),', ' ', 'faço', ' ', 'parte', ' ', 'da', ' ', 'equipe', ' ', 'de', ' ', 'avaliação', ' ', 'do', ' ', 'projeto', ' ', 'PREVENÇÃO.', ' ', 'Há', ' ', 'alguns', ' ', 'dias', ' ', 'um', ' ', 'entrevistador', ' ', 'do', ' ', 'IBOPE', ' ', 'conversou', ' ', 'com', ' ', 'o(a)', ' ', 'sr(a)', ' ', 'na', ' ', 'escola', ' ', 'do(s)', ' ', 'seu(s)', ' ', 'filho(s),', ' ', 'onde', ' ', 'o(a)', ' ', 'sr(a)', ' ', 'nos', ' ', 'forneceu', ' ', 'seus', ' ', 'dados', ' ', 'para', ' ', 'contato', ' ', 'telefônico,', ' ', 'e', ' ', 'é', ' ', 'por', ' ', 'isso', ' ', 'que', ' ', 'estou', ' ', 'ligando', ' ', 'hoje.', '\\r'], ['P18.', ' ', 'O(a)', ' ', 'Sr(a)', ' ', 'possui', ' ', 'filhos', ' ', 'gêmeos?', ' ', '(RU)', '\\r'], ['T12.', ' ', 'Alguém', ' ', 'na', ' ', 'sua', ' ', 'lista', ' ', 'já', ' ', 'sentiu', ' ', 'muito', ' ', 'medo', ' ', 'de', ' ', 'estar', ' ', 'doente?', ' ', 'E', ' ', 'quanto', ' ', 'a', ' ', 'ter', ' ', 'medo', ' ', 'de', ' ', 'estar', ' ', 'contaminado', ' ', 'por', ' ', 'bactérias', ' ', 'ou', ' ', 'sujeira?', '\\r'], ['“As', ' ', 'próximas', ' ', 'questões', ' ', 'são', ' ', 'sobre', ' ', 'problemas', ' ', '\\r'], ['que', ' ', 'as', ' ', 'crianças', ' ', 'e', ' ', 'jovens', ' ', 'às', ' ', 'vezes', ' ', 'têm.', ' ', 'Já', ' ', 'que', ' ', '\\r'], ['nós', ' ', 'queremos', ' ', 'saber', ' ', 'se', ' ', 'alguém', ' ', 'da', ' ', 'lista', ' ', 'já', ' ', 'teve', ' ', '\\r'], ['o', ' ', 'problema', ' ', 'ao', ' ', 'longo', ' ', 'da', ' ', 'sua', ' ', 'vida', ' ', 'toda,', ' ', 'por', ' ', '\\r'], ['favor', ' ', 'se', ' ', 'lembre', ' ', 'de', ' ', 'pensar', ' ', 'se', ' ', 'os', ' ', 'adultos', ' ', '\\r'], ['tiveram', ' ', 'o', ' ', 'problema', ' ', 'quando', ' ', 'eram', ' ', 'crianças,', ' ', '\\r'], ['assim', ' ', 'como', ' ', 'se', ' ', 'as', ' ', 'crianças', ' ', 'o', ' ', 'tem', ' ', 'tido', ' ', 'nesse', ' ', '\\r'], ['momento.”', '\\r'], ['T15.', ' ', 'Alguém', ' ', 'da', ' ', 'lista', ' ', 'parece', ' ', 'ter', ' ', 'dificuldades', ' ', 'em', ' ', 'distinguir', ' ', 'a', ' ', 'diferença', ' ', 'entre', ' ', 'fantasia', ' ', 'e', ' ', 'realidade?', '\\r'], ['T2.', ' ', 'Alguém', ' ', 'da', ' ', 'lista', ' ', 'no', ' ', 'período', ' ', 'de', ' ', 'duas', ' ', '\\r'], ['semanas', ' ', 'ou', ' ', 'mais', ' ', ' ', 'perdeu', ' ', 'o', ' ', 'interesse', ' ', 'na', ' ', '\\r'], ['maioria', ' ', 'das', ' ', 'coisas', ' ', 'que', ' ', 'habitualmente', ' ', 'gostava,', ' ', '\\r'], ['como', ' ', 'trabalho,', ' ', 'atividades', ' ', 'de', ' ', 'lazer', ' ', 'OU', ' ', 'nos', ' ', '\\r'], ['relacionamentos', ' ', 'pessoais?', '\\r'], ['T15.', ' ', 'Alguém', ' ', 'da', ' ', 'lista', ' ', 'parece', ' ', 'ter', ' ', 'dificuldades', ' ', '\\r'], ['em', ' ', 'distinguir', ' ', 'a', ' ', 'diferença', ' ', 'entre', ' ', 'fantasia', ' ', 'e', ' ', '\\r'], ['realidade?', '\\r'], ['T19.', ' ', '[Se', ' ', 'sim', ' ', 'p', ' ', '17', ' ', 'ou', ' ', '18]', ' ', 'Não', ' ', 'incluindo', ' ', '\\r'], ['experiências', ' ', 'causadas', ' ', 'por', ' ', 'álcool', ' ', 'ou', ' ', 'drogas,', ' ', '\\r'], ['ou', ' ', 'experiências', ' ', 'religiosas', ' ', 'que', ' ', 'sejam', ' ', 'comuns', ' ', '\\r'], ['na', ' ', 'religião', ' ', 'dessa', ' ', 'pessoa,', ' ', 'ou', ' ', 'uma', ' ', 'criança', ' ', '\\r'], ['pequena', ' ', 'que', ' ', 'tenha', ' ', 'um', ' ', 'amigo', ' ', 'invisível.', ' ', 'Fora', ' ', '\\r'], ['isso,', ' ', 'a', ' ', 'pessoa', ' ', 'claramente', ' ', 'e', ' ', 'freqüentemente', ' ', '\\r'], ['ouvia', ' ', 'vozes', ' ', 'e', ' ', 'tinha', ' ', 'visões', ' ', 'OU', ' ', 'acreditava', ' ', 'em', ' ', '\\r'], ['coisas', ' ', 'que', ' ', 'eram', ' ', 'muito', ' ', 'estranhas', ' ', 'ou', ' ', 'que', ' ', 'não', ' ', '\\r'], ['eram', ' ', 'verdade?', '\\r'], ['T35.', ' ', 'Alguém', ' ', 'da', ' ', 'lista', ' ', 'já', ' ', 'teve', ' ', 'que', ' ', 'ser', ' ', 'internado', ' ', '\\r'], ['em', ' ', 'um', ' ', 'hospital', ' ', 'ou', ' ', 'em', ' ', 'algum', ' ', 'lugar', ' ', 'de', ' ', '\\r'], ['tratamento', ' ', 'por', ' ', 'uma', ' ', 'noite', ' ', 'ou', ' ', 'mais', ' ', 'por', ' ', 'causa', ' ', 'de', ' ', '\\r'], ['um', ' ', 'algum', ' ', 'dos', ' ', 'problemas', ' ', 'psicológicos', ' ', 'ou', ' ', '\\r'], ['emocionais', ' ', 'que', ' ', 'conversamos', ' ', 'durante', ' ', 'toda', ' ', 'a', ' ', '\\r'], ['entrevista?', '\\r'], ['T34.', ' ', 'Alguém', ' ', 'da', ' ', 'lista', ' ', 'já', ' ', 'consultou', ' ', 'com', ' ', 'um', ' ', 'psiquiatra', ' ', 'ou', ' ', 'psicólogo,', ' ', 'por', ' ', 'causa', ' ', 'de', ' ', 'um', ' ', 'algum', ' ', 'dos', ' ', 'problemas', ' ', 'psicológicos', ' ', 'ou', ' ', 'emocionais', ' ', 'que', ' ', 'conversamos', ' ', 'durante', ' ', 'toda', ' ', 'a', ' ', 'entrevista?', '\\r'], [\"T13A'.[\", ' ', 'Se', ' ', 'SIM', ' ', 'para', ' ', '13],', ' ', 'Essa', ' ', 'pessoa', ' ', 'precisou', ' ', '\\r'], ['fazer', ' ', 'alguma', ' ', 'coisa', ' ', 'repetidas', ' ', 'vezes,', ' ', 'tais', ' ', 'como', ' ', '\\r'], ['rezar,', ' ', 'ou', ' ', 'confessar,', ' ', 'para', ' ', 'afastar', ' ', 'esses', ' ', '\\r'], ['pensamentos', ' ', 'de', ' ', 'agressão,', ' ', 'sexuais', ' ', 'ou', ' ', '\\r'], ['religiosos?', '\\r'], ['T27.', ' ', 'Quando', ' ', 'eram', ' ', 'crianças,', ' ', 'alguém', ' ', 'da', ' ', 'lista', ' ', '\\r'], ['roubava,', ' ', 'matava', ' ', 'aulas,', ' ', 'fugia', ' ', 'de', ' ', 'casa,', ' ', '\\r'], ['quebrava', ' ', 'regras?', '\\r'], ['T3A’', ' ', '[Se', ' ', 'sim', ' ', 'para', ' ', '3]', ' ', 'Eu', ' ', 'quero', ' ', 'dizer', ' ', '“para', ' ', '\\r'], ['cima”', ' ', 'de', ' ', 'tal', ' ', 'forma', ' ', 'que', ' ', 'as', ' ', 'pessoas', ' ', 'ficaram', ' ', '\\r'], ['muito', ' ', 'preocupadas', ' ', 'com', ' ', 'ele', ' ', 'ou', ' ', 'que', ' ', 'isso', ' ', 'tenha', ' ', '\\r'], ['interferido', ' ', 'no', ' ', 'desempenho', ' ', 'de', ' ', 'suas', ' ', '\\r'], ['responsabilidades', ' ', 'habituais.', '\\r'], [\"T20A'\", ' ', '[Se', ' ', 'sim', ' ', 'p', ' ', '20]', ' ', 'A', ' ', 'pessoa', ' ', 'teve', ' ', 'problemas', ' ', '\\r'], ['com', ' ', 'a', ' ', 'bebida', ' ', 'ou', ' ', 'as', ' ', 'pessoas', ' ', 'achavam', ' ', 'que', ' ', 'ela', ' ', '\\r'], ['tinha', ' ', 'problemas', ' ', 'com', ' ', 'a', ' ', 'bebida?', '\\r'], ['P6.', ' ', 'O(a)', ' ', 'sr(a)', ' ', 'poderia', ' ', 'nos', ' ', 'confirmar', ' ', 'o', ' ', 'nome', ' ', 'completo', ' ', 'de', ' ', 'cada', ' ', 'um', ' ', 'dos', ' ', 'seus', ' ', 'filhos?', '\\r'], ['A', ' ', 'secretaria', ' ', 'de', ' ', 'educação', ' ', 'e', ' ', 'a', ' ', 'sua', ' ', 'escola', ' ', 'são', ' ', 'parceiras', ' ', 'nesse', ' ', 'projeto', ' ', 'e', ' ', 'estimulam', ' ', 'a', ' ', 'sua', ' ', 'participação.', ' ', 'Para', ' ', 'continuar', ' ', 'participando', ' ', 'basta', ' ', 'responder', ' ', 'algumas', ' ', 'questões', ' ', 'sobre', ' ', 'o(a)', ' ', 'sr(a)', ' ', 'e', ' ', 'sobre', ' ', 'sua', ' ', 'família', ' ', 'em', ' ', 'uma', ' ', 'entrevista', ' ', 'comigo', ' ', '(com', ' ', 'duração', ' ', 'de', ' ', 'cerca', ' ', 'de', ' ', '15', ' ', 'minutos).', ' ', 'Lembre-se,', ' ', 'o(a)', ' ', 'sr(a)', ' ', 'poderá', ' ', 'se', ' ', 'retirar', ' ', 'da', ' ', 'pesquisa', ' ', 'em', ' ', 'qualquer', ' ', 'momento', ' ', 'do', ' ', 'estudo.', ' ', 'A', ' ', 'equipe', ' ', 'estará', ' ', 'a', ' ', 'disposição', ' ', 'para', ' ', 'dar', ' ', 'as', ' ', 'informações', ' ', 'necessárias', ' ', 'acerca', ' ', 'do', ' ', 'projeto.', '\\r'], ['“As', ' ', 'próximas', ' ', 'questões', ' ', 'são', ' ', 'sobre', ' ', 'problemas', ' ', 'que', ' ', 'as', ' ', 'crianças', ' ', 'e', ' ', 'jovens', ' ', 'às', ' ', 'vezes', ' ', 'têm.', ' ', 'Já', ' ', 'que', ' ', 'nós', ' ', 'queremos', ' ', 'saber', ' ', 'se', ' ', 'alguém', ' ', 'da', ' ', 'lista', ' ', 'já', ' ', 'teve', ' ', 'o', ' ', 'problema', ' ', 'ao', ' ', 'longo', ' ', 'da', ' ', 'sua', ' ', 'vida', ' ', 'toda,', ' ', 'por', ' ', 'favor', ' ', 'se', ' ', 'lembre', ' ', 'de', ' ', 'pensar', ' ', 'se', ' ', 'os', ' ', 'adultos', ' ', 'tiveram', ' ', 'o', ' ', 'problema', ' ', 'quando', ' ', 'eram', ' ', 'crianças,', ' ', 'assim', ' ', 'como', ' ', 'se', ' ', 'as', ' ', 'crianças', ' ', 'o', ' ', 'tem', ' ', 'tido', ' ', 'nesse', ' ', 'momento.”', '\\r'], ['T8.', ' ', 'Alguém', ' ', 'da', ' ', 'lista', ' ', 'já', ' ', 'ficou', ' ', 'com', ' ', 'muito', ' ', 'medo', ' ', 'de', ' ', '\\r'], ['altura', ' ', 'ou', ' ', 'de', ' ', 'lugares', ' ', 'altos,', ' ', 'animais,', ' ', 'piscina,', ' ', '\\r'], ['lago,', ' ', 'tempestades,', ' ', 'sangue,', ' ', 'ferimentos,', ' ', '\\r'], ['dentista,', ' ', 'médico', ' ', 'ou', ' ', 'de', ' ', 'tomar', ' ', 'injeção?', '\\r'], ['P14.', ' ', 'Qual', ' ', 'o', ' ', 'sexo', ' ', 'do(a)', ' ', 'LER', ' ', 'CADA', ' ', 'NOME', ' ', 'ABAIXO', ' ', 'Aplicar', ' ', 'para', ' ', 'cada', ' ', 'resposta', ' ', 'da', ' ', 'P6.', ' ', '(RU', ' ', 'POR', ' ', 'FILHO)', '\\r'], [\"T27A'.\", ' ', '[Se', ' ', 'sim', ' ', 'p', ' ', '27]', ' ', 'A', ' ', 'pessoa', ' ', 'roubava', ' ', 'bens', ' ', '\\r'], ['VALIOSOS,', ' ', 'matava', ' ', 'MUITAS', ' ', 'aulas', ' ', 'ou', ' ', '\\r'], ['quebrava', ' ', 'MUITAS', ' ', 'regras,', ' ', 'mais', ' ', 'que', ' ', 'as', ' ', 'outras', ' ', '\\r'], ['crianças?', '\\r'], ['T14.', ' ', 'Alguém', ' ', 'da', ' ', 'sua', ' ', 'lista', ' ', 'já', ' ', 'chegou', ' ', 'a', ' ', 'guardar', ' ', 'ou', ' ', 'colecionar', ' ', 'MUITAS', ' ', 'coisas', ' ', 'ou', ' ', 'objetos?', '\\r'], ['P10.', ' ', 'Qual', ' ', 'a', ' ', 'idade', ' ', 'do(a)', ' ', 'LER', ' ', 'NOMES', ' ', 'ABAIXO.', ' ', 'Aplicar', ' ', 'para', ' ', 'cada', ' ', 'resposta', ' ', 'da', ' ', 'P6.', '\\r'], ['P8.', ' ', 'Qual', ' ', 'o', ' ', 'nome', ' ', 'do(a)', ' ', 'seu(sua)', ' ', 'filho(a)', ' ', 'falecido(a)?', '\\r'], ['T17.', ' ', 'Alguém', ' ', 'da', ' ', 'lista', ' ', 'já', ' ', 'ouviu', ' ', 'vozes', ' ', 'ou', ' ', 'teve', ' ', 'visões', ' ', 'que', ' ', 'as', ' ', 'outras', ' ', 'pessoas', ' ', 'não', ' ', 'podiam', ' ', 'ver', ' ', 'ou', ' ', 'ouvir?', '\\r'], ['T36.', ' ', 'Já', ' ', 'aconteceu', ' ', 'de', ' ', 'algum', ' ', 'médico', ' ', 'ter', ' ', 'dado', ' ', 'algum', ' ', 'medicamento', ' ', 'para', ' ', 'algum', ' ', 'dos', ' ', 'problemas', ' ', 'psicológicos', ' ', 'ou', ' ', 'emocionais', ' ', 'comentados', ' ', 'até', ' ', 'agora', ' ', 'para', ' ', 'alguém', ' ', 'da', ' ', 'sua', ' ', 'lista?', '\\r'], ['T20.', ' ', 'Alguém', ' ', 'da', ' ', 'lista', ' ', 'já', ' ', 'teve', ' ', 'um', ' ', 'período', ' ', 'da', ' ', 'vida', ' ', 'em', ' ', 'que', ' ', 'bebia', ' ', 'muito?', '\\r'], ['T14.', ' ', 'Alguém', ' ', 'da', ' ', 'sua', ' ', 'lista', ' ', 'já', ' ', 'chegou', ' ', 'a', ' ', 'guardar', ' ', '\\r'], ['ou', ' ', 'colecionar', ' ', 'MUITAS', ' ', 'coisas', ' ', 'ou', ' ', 'objetos?', '\\r'], ['T31', ' ', 'Quando', ' ', 'criança,', ' ', 'alguém', ' ', 'da', ' ', 'sua', ' ', 'lista', ' ', 'era', ' ', 'impulsivo,', ' ', 'frequentemente', ' ', 'respondia', ' ', 'sem', ' ', 'chegar', ' ', 'a', ' ', 'ouvir', ' ', 'a', ' ', 'pergunta', ' ', 'até', ' ', 'o', ' ', 'fim,', ' ', 'tinha', ' ', 'dificuldade', ' ', 'em', ' ', 'esperar', ' ', 'a', ' ', 'sua', ' ', 'vez', ' ', 'nas', ' ', 'atividades', ' ', 'e', ' ', 'se', ' ', 'intrometia', ' ', 'na', ' ', 'conversa', ' ', 'ou', ' ', 'brincadeira', ' ', 'dos', ' ', 'outros?', '\\r'], ['T12.', ' ', 'Alguém', ' ', 'na', ' ', 'sua', ' ', 'lista', ' ', 'já', ' ', 'sentiu', ' ', 'muito', ' ', 'medo', ' ', '\\r'], ['de', ' ', 'estar', ' ', 'doente?', ' ', 'E', ' ', 'quanto', ' ', 'a', ' ', 'ter', ' ', 'medo', ' ', 'de', ' ', 'estar', ' ', '\\r'], ['contaminado', ' ', 'por', ' ', 'bactérias', ' ', 'ou', ' ', 'sujeira?', '\\r'], ['T26.', ' ', 'Quando', ' ', 'criança,', ' ', 'alguém', ' ', 'da', ' ', 'sua', ' ', 'lista', ' ', 'se', ' ', 'sentia', ' ', 'muito', ' ', 'nervoso', ' ', 'e', ' ', 'tinha', ' ', 'muita', ' ', 'dificuldade', ' ', 'para', ' ', 'falar', ' ', 'com', ' ', 'pessoas', ' ', 'que', ' ', 'não', ' ', 'conhecia?', '\\r'], ['P21.', ' ', 'Quais', ' ', 'dessas', ' ', 'pessoas', ' ', 'moram', ' ', 'na', ' ', 'mesma', ' ', 'residência', ' ', 'que', ' ', 'o(a)', ' ', 'Sr(a)?', ' ', '(RU', ' ', 'POR', ' ', 'FAMILIAR)', '\\r'], ['T27.', ' ', 'Quando', ' ', 'eram', ' ', 'crianças,', ' ', 'alguém', ' ', 'da', ' ', 'lista', ' ', 'roubava,', ' ', 'matava', ' ', 'aulas,', ' ', 'fugia', ' ', 'de', ' ', 'casa,', ' ', 'quebrava', ' ', 'regras?', '\\r'], ['T13.', ' ', 'Alguém', ' ', 'da', ' ', 'sua', ' ', 'lista', ' ', 'já', ' ', 'se', ' ', 'sentiu', ' ', '\\r'], ['incomodado(a)', ' ', 'por', ' ', 'preocupações', ' ', 'ou', ' ', 'medos', ' ', 'de', ' ', '\\r'], ['que', ' ', 'algo', ' ', 'muito', ' ', 'ruim', ' ', 'possa', ' ', 'acontecer?', ' ', 'E', ' ', '\\r'], ['quanto', ' ', 'a', ' ', 'ter', ' ', 'pensamentos', ' ', 'impróprios', ' ', 'de', ' ', '\\r'], ['conteúdo', ' ', 'sexual', ' ', 'ou', ' ', 'religioso?', '\\r'], ['P16.', ' ', 'Qual', ' ', 'o', ' ', 'nome', ' ', 'do', ' ', 'pai/', ' ', 'da', ' ', 'mãe', ' ', 'dos', ' ', 'seus', ' ', 'filhos?', '\\r'], ['T19.', ' ', '[Se', ' ', 'sim', ' ', 'p', ' ', '17', ' ', 'ou', ' ', '18]', ' ', 'Não', ' ', 'incluindo', ' ', 'experiências', ' ', 'causadas', ' ', 'por', ' ', 'álcool', ' ', 'ou', ' ', 'drogas,', ' ', 'ou', ' ', 'experiências', ' ', 'religiosas', ' ', 'que', ' ', 'sejam', ' ', 'comuns', ' ', 'na', ' ', 'religião', ' ', 'dessa', ' ', 'pessoa,', ' ', 'ou', ' ', 'uma', ' ', 'criança', ' ', 'pequena', ' ', 'que', ' ', 'tenha', ' ', 'um', ' ', 'amigo', ' ', 'invisível.', ' ', 'Fora', ' ', 'isso,', ' ', 'a', ' ', 'pessoa', ' ', 'claramente', ' ', 'e', ' ', 'freqüentemente', ' ', 'ouvia', ' ', 'vozes', ' ', 'e', ' ', 'tinha', ' ', 'visões', ' ', 'OU', ' ', 'acreditava', ' ', 'em', ' ', 'coisas', ' ', 'que', ' ', 'eram', ' ', 'muito', ' ', 'estranhas', ' ', 'ou', ' ', 'que', ' ', 'não', ' ', 'eram', ' ', 'verdade?', '\\r'], ['Idade', '\\r'], ['T16.', ' ', 'Alguém', ' ', 'da', ' ', 'lista', ' ', 'já', ' ', 'apresentou', ' ', '\\r'], ['comportamentos', ' ', 'que', ' ', 'parecem', ' ', 'estranhos,', ' ', '\\r'], ['bizarros', ' ', 'ou', ' ', 'sem', ' ', 'sentido?', '\\r'], ['CRÍTICO(A):', ' ', 'CPF:', '\\r'], ['T22.', ' ', 'Alguém', ' ', 'da', ' ', 'lista', ' ', 'já', ' ', 'foi', ' ', 'colocado', ' ', 'atrás', ' ', 'das', ' ', 'grades,', ' ', 'ou', ' ', 'preso,', ' ', 'ou', ' ', 'julgado', ' ', 'culpado', ' ', 'de', ' ', 'um', ' ', 'crime', ' ', 'que', ' ', 'não', ' ', 'seja', ' ', 'dirigir', ' ', 'embriagado?', '\\r'], ['P4.', ' ', 'Anote', ' ', 'o', ' ', 'sexo', ' ', 'do', ' ', 'respondente?', ' ', '(RU)', '\\r'], ['T11A’.[', ' ', 'Se', ' ', 'sim', ' ', 'para', ' ', '11],', ' ', 'Essa', ' ', 'pessoa', ' ', 'gastava', ' ', 'muito', ' ', 'tempo', ' ', 'com', ' ', '“manias”', ' ', 'de', ' ', 'arrumacão', ' ', 'ou', ' ', 'organização?', '\\r'], ['T29', ' ', 'Quando', ' ', 'criança,', ' ', 'alguém', ' ', 'da', ' ', 'sua', ' ', 'lista', ' ', 'era', ' ', 'desatento', ' ', 'e', ' ', 'se', ' ', 'distraía', ' ', 'com', ' ', 'facilidade,', ' ', 'tinha', ' ', 'dificuldades', ' ', 'para', ' ', 'manter', ' ', 'a', ' ', 'atenção,', ' ', 'perdia', ' ', 'coisas', ' ', 'necessárias', ' ', 'para', ' ', 'realização', ' ', 'de', ' ', 'tarefas', ' ', 'ou', ' ', 'se', ' ', 'esquecia', ' ', 'de', ' ', 'atividades', ' ', 'do', ' ', 'dia-a-dia?', '\\r'], ['T28', ' ', 'Quando', ' ', 'criança,', ' ', 'alguém', ' ', 'da', ' ', 'sua', ' ', 'lista', ' ', '\\r'], ['discutia', ' ', 'muito', ' ', 'com', ' ', 'adultos,', ' ', 'recusava-se', ' ', 'a', ' ', '\\r'], ['fazer', ' ', 'o', ' ', 'que', ' ', 'os', ' ', 'pais', ' ', 'ou', ' ', 'professores', ' ', 'lhe', ' ', 'pediam,', ' ', '\\r'], ['irritava-se', ' ', 'com', ' ', 'facilidade,', ' ', 'era', ' ', 'rancoroso', ' ', 'ou', ' ', '\\r'], ['vingativo', ' ', 'e', ' ', 'desafiador?', '\\r'], ['T25.', ' ', 'Quando', ' ', 'criança,', ' ', 'alguém', ' ', 'da', ' ', 'sua', ' ', 'lista', ' ', 'teve', ' ', 'medo', ' ', 'para', ' ', 'se', ' ', 'separar', ' ', 'de', ' ', 'seus', ' ', 'pais', ' ', 'ou', ' ', 'de', ' ', 'outras', ' ', 'pessoas', ' ', 'com', ' ', 'quem', ' ', 'era', ' ', 'muito', ' ', 'apegado,', ' ', 'com', ' ', 'medo', ' ', 'de', ' ', 'ir', ' ', 'à', ' ', 'escola', ' ', 'ou', ' ', 'a', ' ', 'outros', ' ', 'lugares', ' ', 'sem', ' ', 'essas', ' ', 'pessoas?', '\\r'], [\"T6A'\", ' ', '[Se', ' ', 'sim', ' ', 'para', ' ', '6]', ' ', 'Essa', ' ', 'pessoa', ' ', 'se', ' ', 'sentia', ' ', '\\r'], ['cansada,', ' ', 'irritada,', ' ', 'tinha', ' ', 'problemas', ' ', 'para', ' ', 'dormir', ' ', '\\r'], ['e', ' ', 'isso', ' ', 'atrapalhava', ' ', 'de', ' ', 'forma', ' ', 'significativa', ' ', 'a', ' ', 'sua', ' ', '\\r'], ['vida', ' ', 'pessoal,', ' ', 'profissional', ' ', 'ou', ' ', 'escolar?', '\\r'], ['T30', ' ', 'Quando', ' ', 'criança,', ' ', 'alguém', ' ', 'da', ' ', 'sua', ' ', 'lista', ' ', 'era', ' ', '\\r'], ['ativo,', ' ', 'inquieto,', ' ', 'agitado,', ' ', 'impaciente,', ' ', 'estava', ' ', '\\r'], ['sempre', ' ', '“a', ' ', 'todo', ' ', 'vapor”,', ' ', 'levantando', ' ', 'da', ' ', 'cadeira', ' ', '\\r'], ['quando', ' ', 'devia', ' ', 'ficar', ' ', 'sentado,', ' ', 'correndo', ' ', 'ou', ' ', '\\r'], ['subindo', ' ', 'em', ' ', 'cima', ' ', 'das', ' ', 'coisas', ' ', 'quando', ' ', 'não', ' ', '\\r'], ['deveria?', '\\r'], ['T10.', ' ', 'Alguém', ' ', 'da', ' ', 'lista', ' ', 'já', ' ', 'sentiu', ' ', 'muito', ' ', 'medo', ' ', 'e', ' ', 'desconforto', ' ', 'quando', ' ', 'tinha', ' ', 'que', ' ', 'fazer', ' ', 'algo', ' ', 'em', ' ', 'frente', ' ', 'a', ' ', 'um', ' ', 'grupo', ' ', 'de', ' ', 'pessoas,', ' ', 'como', ' ', 'dar', ' ', 'uma', ' ', 'palestra', ' ', 'ou', ' ', 'fazer', ' ', 'um', ' ', 'discurso', ' ', 'com', ' ', 'medo', ' ', 'de', ' ', 'ser', ' ', 'humilhado', ' ', 'ou', ' ', 'estar', ' ', 'no', ' ', 'centro', ' ', 'das', ' ', 'atenções?', '\\r'], ['T11.', ' ', 'Alguém', ' ', 'da', ' ', 'sua', ' ', 'lista', ' ', 'já', ' ', 'se', ' ', 'sentiu', ' ', 'incomodado(a)', ' ', 'por', ' ', 'uma', ' ', 'necessidade', ' ', 'das', ' ', 'coisas', ' ', 'estarem', ' ', 'perfeitas', ' ', 'ou', ' ', 'exatas,', ' ', 'OU', ' ', 'já', ' ', 'teve', ' ', 'preocupações', ' ', 'com', ' ', 'simetria,', ' ', 'em', ' ', 'fazer', ' ', 'coisas', ' ', 'repetidas', ' ', 'vezes', ' ', 'até', ' ', 'que', ' ', 'os', ' ', 'objetos', ' ', 'estejam', ' ', 'arrumados', ' ', 'ou', ' ', 'simétricos?', '\\r'], ['T6.', ' ', 'Alguém', ' ', 'da', ' ', 'lista', ' ', 'ficou', ' ', 'muito', ' ', 'preocupado,', ' ', 'nervoso', ' ', 'ou', ' ', 'ansioso', ' ', 'QUASE', ' ', 'TODOS', ' ', 'OS', ' ', 'DIAS', ' ', 'POR', ' ', 'SEIS', ' ', 'MESES', ' ', 'OU', ' ', 'MAIS,', ' ', 'com', ' ', 'coisas', ' ', 'com', ' ', 'as', ' ', 'quais', ' ', 'as', ' ', 'outras', ' ', 'pessoas', ' ', 'não', ' ', 'se', ' ', 'preocupariam', ' ', 'tanto?', '\\r'], ['T32.', ' ', 'Alguém', ' ', 'da', ' ', 'lista', ' ', 'JÁ', ' ', 'foi', ' ', 'suspenso', ' ', 'ou', ' ', '\\r'], ['expulso', ' ', 'da', ' ', 'escola?', '\\r'], ['familiares', ' ', 'mencionados', ' ', 'na', ' ', 'pergunta', ' ', 'origem)', '\\r'], ['T7.', ' ', 'Alguém', ' ', 'da', ' ', 'lista', ' ', 'alguma', ' ', 'vez', ' ', 'já', ' ', 'ficou', ' ', 'com', ' ', '\\r'], ['muito', ' ', 'medo', ' ', 'de', ' ', 'sair', ' ', 'de', ' ', 'casa', ' ', 'sozinho,', ' ', 'estar', ' ', 'no', ' ', '\\r'], ['meio', ' ', 'de', ' ', 'uma', ' ', 'multidão,', ' ', 'ir', ' ', 'a', ' ', 'lugares', ' ', 'públicos,', ' ', '\\r'], ['viajar', ' ', 'sozinho,', ' ', 'viajar', ' ', 'para', ' ', 'longe', ' ', 'de', ' ', 'casa,', ' ', 'estar', ' ', '\\r'], ['em', ' ', 'locais', ' ', 'onde', ' ', 'não', ' ', 'poderia', ' ', 'fugir,', ' ', 'escapar', ' ', 'ou', ' ', '\\r'], ['obter', ' ', 'ajuda?', '\\r'], [\"T33A'.\", ' ', '[Se', ' ', 'sim', ' ', 'p', ' ', '33]', ' ', 'Essa', ' ', 'pode', ' ', 'ser', ' ', 'uma', ' ', '\\r'], ['questão', ' ', 'dolorosa,', ' ', 'mas', ' ', 'de', ' ', 'fato', ' ', 'se', ' ', 'matou?', '\\r'], ['T2A’', ' ', '[Se', ' ', 'sim', ' ', 'para', ' ', '1', ' ', 'ou', ' ', '2]', ' ', 'Essa', ' ', 'pessoa', ' ', 'já', ' ', 'ficou', ' ', 'por', ' ', 'um', ' ', 'período', ' ', 'se', ' ', 'sentindo', ' ', 'muito', ' ', 'cansada,', ' ', 'com', ' ', 'menos', ' ', 'energia,', ' ', 'com', ' ', 'alteração', ' ', 'do', ' ', 'sono,', ' ', 'sem', ' ', 'conseguir', ' ', 'dar', ' ', 'conta', ' ', 'dos', ' ', 'afazeres', ' ', 'habituais', ' ', 'ou', ' ', 'com', ' ', 'diminuição', ' ', 'da', ' ', 'capacidade', ' ', 'de', ' ', 'concentração', ' ', 'nesse', ' ', 'período?', ' ', '(duas', ' ', 'semanas', ' ', 'ou', ' ', 'mais)', '\\r'], ['T23.', ' ', 'Quando', ' ', 'criança,', ' ', 'alguém', ' ', 'da', ' ', 'sua', ' ', 'lista', ' ', 'teve', ' ', '\\r'], ['dificuldade', ' ', 'em', ' ', 'tarefas', ' ', 'de', ' ', 'leitura,', ' ', 'escrita', ' ', 'ou', ' ', '\\r'], ['matemática?', '\\r'], [\"T10A'.\", ' ', '[Se', ' ', 'sim', ' ', 'p', ' ', '9', ' ', 'ou', ' ', '10]', ' ', 'Essa', ' ', 'pessoa', ' ', 'ficava', ' ', '\\r'], ['tão', ' ', 'envergonhada', ' ', 'e', ' ', 'com', ' ', 'medo', ' ', 'a', ' ', 'ponto', ' ', 'de', ' ', '\\r'], ['NÃO', ' ', 'CONSEGUIR', ' ', 'FAZER', ' ', 'as', ' ', 'coisas', ' ', 'que', ' ', 'a', ' ', '\\r'], ['incomodavam?', '\\r'], ['Atenção:', ' ', 'para', ' ', 'que', ' ', 'o', ' ', 'filho', ' ', 'entre', ' ', 'na', ' ', 'lista', ' ', 'abaixo,', ' ', 'ele', ' ', 'deve', ' ', 'ter', ' ', 'entre', ' ', '6', ' ', 'e', ' ', '12', ' ', 'anos', ' ', 'e', ' ', 'estar', ' ', 'sendo', ' ', 'matriculado', ' ', 'hoje,', ' ', 'ou', ' ', 'ser', ' ', 'irmão/', ' ', 'meio', ' ', 'irmão,', ' ', 'de', ' ', 'alguma', ' ', 'criança', ' ', 'de', ' ', '6', ' ', 'a', ' ', '12', ' ', 'anos', ' ', 'que', ' ', 'esteja', ' ', 'sendo', ' ', 'matriculada', ' ', 'hoje.', ' ', 'Para', ' ', 'que', ' ', 'o', ' ', 'pai/mãe', ' ', 'entre', ' ', 'na', ' ', 'lista', ' ', 'abaixo,', ' ', 'deve', ' ', 'ser', ' ', 'pai/mãe', ' ', 'de', ' ', 'alguma', ' ', 'criança', ' ', 'de', ' ', '6', ' ', 'a', ' ', '12', ' ', 'anos', ' ', 'que', ' ', 'seja', ' ', 'matriculada', ' ', 'hoje', '\\r'], [\"T20A'\", ' ', '[Se', ' ', 'sim', ' ', 'p', ' ', '20]', ' ', 'A', ' ', 'pessoa', ' ', 'teve', ' ', 'problemas', ' ', 'com', ' ', 'a', ' ', 'bebida', ' ', 'ou', ' ', 'as', ' ', 'pessoas', ' ', 'achavam', ' ', 'que', ' ', 'ela', ' ', 'tinha', ' ', 'problemas', ' ', 'com', ' ', 'a', ' ', 'bebida?', '\\r'], ['ENTREVISTADOR(A):', ' ', 'CPF:', '\\r'], ['T31', ' ', 'A’', ' ', '[Se', ' ', 'sim', ' ', 'para', ' ', '29,', ' ', '30', ' ', 'OU', ' ', '31]', ' ', 'A', ' ', 'pessoa', ' ', 'realmente', ' ', 'enfrentava', ' ', 'dificuldades', ' ', 'com', ' ', 'esse', ' ', 'jeito', ' ', 'de', ' ', 'ser,', ' ', 'mais', ' ', 'que', ' ', 'os', ' ', 'outros', ' ', '(meninos/meninas)', ' ', 'da', ' ', 'sua', ' ', 'idade', ' ', 'OU', ' ', 'chegou', ' ', 'a', ' ', 'ter', ' ', 'reclamações', ' ', 'da', ' ', 'escola', ' ', 'sobre', ' ', 'esse', ' ', 'seu', ' ', 'comportamento?', '\\r'], ['T2B’', ' ', '[Se', ' ', 'sim', ' ', 'para', ' ', '1,', ' ', '2]', ' ', 'Esses', ' ', 'momentos', ' ', '\\r'], ['ocorreram', ' ', 'APENAS', ' ', 'após', ' ', 'a', ' ', 'morte', ' ', 'de', ' ', 'uma', ' ', '\\r'], ['pessoa', ' ', 'próxima?', '\\r'], [\"T12A'\", ' ', '[Se', ' ', 'SIM', ' ', 'para', ' ', '12],', ' ', 'Essa', ' ', 'pessoa', ' ', 'precisou', ' ', '\\r'], ['lavar', ' ', 'ou', ' ', 'limpar', ' ', 'excessivamente,', ' ', 'ou', ' ', 'de', ' ', 'uma', ' ', '\\r'], ['maneira', ' ', 'ritualizada,', ' ', 'seu', ' ', 'próprio', ' ', 'corpo', ' ', 'ou', ' ', '\\r'], ['objetos?', ' ', 'Já', ' ', 'teve', ' ', 'mania', ' ', 'de', ' ', 'limpeza?', '\\r'], ['T5.', ' ', 'Alguém', ' ', 'da', ' ', 'lista', ' ', 'já', ' ', 'teve', ' ', 'um', ' ', 'ataque', ' ', 'de', ' ', 'medo', ' ', 'ou', ' ', 'pânico,', ' ', 'que', ' ', 'durou', ' ', 'em', ' ', 'torno', ' ', 'de', ' ', '20', ' ', 'minutos,', ' ', 'em', ' ', 'que', ' ', 'de', ' ', 'repente', ' ', 'sentiu', ' ', 'dificuldade', ' ', 'de', ' ', 'respirar,', ' ', 'tremores,', ' ', 'tontura,', ' ', 'sentiu', ' ', 'seu', ' ', 'coração', ' ', 'batendo', ' ', 'forte', ' ', 'e', ' ', 'rápido', ' ', 'OU', ' ', 'pensou', ' ', 'que', ' ', 'poderia', ' ', 'perder', ' ', 'o', ' ', 'controle,', ' ', 'morrer', ' ', 'ou', ' ', 'enlouquecer?', '\\r'], ['A3', ' ', 'Agora', ' ', 'eu', ' ', 'gostaria', ' ', 'que', ' ', 'o(a)', ' ', 'sr(a)', '\\r'], ['escrevesse', ' ', 'os', ' ', 'nomes', ' ', 'conforme', ' ', 'eu', ' ', 'ditar', ' ', '(LER', ' ', 'NOMES', ' ', 'ABAIXO).', ' ', '\\r'], [' ', '\\r'], ['O(a)', ' ', 'sr(a)', ' ', 'pode', ' ', 'ler', ' ', 'a', ' ', 'lista', ' ', 'para', ' ', 'mim?', ' ', '(Cheque', ' ', 'para', ' ', 'ter', ' ', 'certeza', '\\r'], [' ', '\\r'], ['Atenção:', ' ', 'para', ' ', 'que', ' ', 'o', ' ', 'filho', ' ', 'entre', ' ', 'na', ' ', 'lista', ' ', 'abaixo,', ' ', 'ele', ' ', 'deve', ' ', 'ter', ' ', 'entre', ' ', '6', ' ', 'e', ' ', '12', ' ', 'anos', ' ', 'e', ' ', 'estar', ' ', 'sendo', ' ', 'matriculado', ' ', '\\r'], ['hoje,', ' ', 'ou', ' ', 'ser', ' ', 'irmão/', ' ', 'meio', ' ', 'irmão,', ' ', 'de', ' ', 'alguma', ' ', 'criança', ' ', 'de', ' ', '6', ' ', 'a', ' ', '12', ' ', 'anos', ' ', 'que', ' ', 'esteja', ' ', 'sendo', ' ', 'matriculada', ' ', 'hoje.', '\\r'], ['Para', ' ', 'que', ' ', 'o', ' ', 'pai/mãe', ' ', 'entre', ' ', 'na', ' ', 'lista', ' ', 'abaixo,', ' ', 'deve', ' ', 'ser', ' ', 'pai/mãe', ' ', 'de', ' ', 'alguma', ' ', 'criança', ' ', 'de', ' ', '6', ' ', 'a', ' ', '12', ' ', 'anos', ' ', 'que', ' ', 'seja', ' ', ' ', '\\r'], ['matriculada', ' ', 'hoje', '\\r'], ['T18.', ' ', 'Alguém', ' ', 'da', ' ', 'lista', ' ', 'já', ' ', 'acreditou', ' ', 'em', ' ', 'coisas', ' ', '\\r'], ['que', ' ', 'eram', ' ', 'muito', ' ', 'estranhas', ' ', 'OU', ' ', 'que', ' ', 'não', ' ', 'eram', ' ', '\\r'], ['verdade,', ' ', 'por', ' ', 'exemplo,', ' ', 'que', ' ', 'pessoas', ' ', 'estavam', ' ', '\\r'], ['conspirando', ' ', 'contra', ' ', 'ele,', ' ', 'ou', ' ', 'que', ' ', 'os', ' ', 'programas', ' ', '\\r'], ['de', ' ', 'TV', ' ', 'mandavam', ' ', 'mensagens', ' ', 'especiais', ' ', '\\r'], ['somente', ' ', 'para', ' ', 'ele?', '\\r'], ['T32.', ' ', 'Alguém', ' ', 'da', ' ', 'lista', ' ', 'JÁ', ' ', 'foi', ' ', 'suspenso', ' ', 'ou', ' ', 'expulso', ' ', 'da', ' ', 'escola?', '\\r'], [\"T33A'.\", ' ', '[Se', ' ', 'sim', ' ', 'p', ' ', '33]', ' ', 'Essa', ' ', 'pode', ' ', 'ser', ' ', 'uma', ' ', 'questão', ' ', 'dolorosa,', ' ', 'mas', ' ', 'de', ' ', 'fato', ' ', 'se', ' ', 'matou?', '\\r'], ['T3.', ' ', 'Alguém', ' ', 'da', ' ', 'lista', ' ', 'já', ' ', 'ficou', ' ', 'por', ' ', 'um', ' ', 'período', ' ', 'se', ' ', '\\r'], ['sentindo', ' ', 'extremamente', ' ', 'feliz', ' ', 'ou', ' ', '“para', ' ', 'cima”', ' ', 'ou', ' ', '\\r'], ['alto?', '\\r'], ['P7.', ' ', 'O(a)', ' ', 'Sr.(a)', ' ', 'possui', ' ', 'algum', ' ', 'filho(a)', ' ', 'falecido?', ' ', '(RU)', '\\r'], ['T6.', ' ', 'Alguém', ' ', 'da', ' ', 'lista', ' ', 'ficou', ' ', 'muito', ' ', 'preocupado,', ' ', '\\r'], ['nervoso', ' ', 'ou', ' ', 'ansioso', ' ', 'QUASE', ' ', 'TODOS', ' ', 'OS', ' ', 'DIAS', ' ', '\\r'], ['POR', ' ', 'SEIS', ' ', 'MESES', ' ', 'OU', ' ', 'MAIS,', ' ', 'com', ' ', 'coisas', ' ', 'com', ' ', '\\r'], ['as', ' ', 'quais', ' ', 'as', ' ', 'outras', ' ', 'pessoas', ' ', 'não', ' ', 'se', ' ', '\\r'], ['preocupariam', ' ', 'tanto?', '\\r'], ['T11.', ' ', 'Alguém', ' ', 'da', ' ', 'sua', ' ', 'lista', ' ', 'já', ' ', 'se', ' ', 'sentiu', ' ', '\\r'], ['incomodado(a)', ' ', 'por', ' ', 'uma', ' ', 'necessidade', ' ', 'das', ' ', '\\r'], ['coisas', ' ', 'estarem', ' ', 'perfeitas', ' ', 'ou', ' ', 'exatas,', ' ', 'OU', ' ', 'já', ' ', 'teve', ' ', '\\r'], ['preocupações', ' ', 'com', ' ', 'simetria,', ' ', 'em', ' ', 'fazer', ' ', 'coisas', ' ', '\\r'], ['repetidas', ' ', 'vezes', ' ', 'até', ' ', 'que', ' ', 'os', ' ', 'objetos', ' ', 'estejam', ' ', '\\r'], ['arrumados', ' ', 'ou', ' ', 'simétricos?', '\\r'], ['T31', ' ', 'A’', ' ', '[Se', ' ', 'sim', ' ', 'para', ' ', '29,', ' ', '30', ' ', 'OU', ' ', '31]', ' ', 'A', ' ', 'pessoa', ' ', '\\r'], ['realmente', ' ', 'enfrentava', ' ', 'dificuldades', ' ', 'com', ' ', 'esse', ' ', '\\r'], ['jeito', ' ', 'de', ' ', 'ser,', ' ', 'mais', ' ', 'que', ' ', 'os', ' ', 'outros', ' ', '\\r'], ['(meninos/meninas)', ' ', 'da', ' ', 'sua', ' ', 'idade', ' ', 'OU', ' ', 'chegou', ' ', 'a', ' ', '\\r'], ['ter', ' ', 'reclamações', ' ', 'da', ' ', 'escola', ' ', 'sobre', ' ', 'esse', ' ', 'seu', ' ', '\\r'], ['comportamento?', '\\r'], ['T36.', ' ', 'Já', ' ', 'aconteceu', ' ', 'de', ' ', 'algum', ' ', 'médico', ' ', 'ter', ' ', 'dado', ' ', '\\r'], ['algum', ' ', 'medicamento', ' ', 'para', ' ', 'algum', ' ', 'dos', ' ', '\\r'], ['problemas', ' ', 'psicológicos', ' ', 'ou', ' ', 'emocionais', ' ', '\\r'], ['comentados', ' ', 'até', ' ', 'agora', ' ', 'para', ' ', 'alguém', ' ', 'da', ' ', 'sua', ' ', '\\r'], ['lista?', '\\r'], ['P12.', ' ', 'Em', ' ', 'qual', ' ', 'série', ' ', '(ano)', ' ', 'a', ' ', 'criança', ' ', '(LER', ' ', 'NOMES', ' ', 'ABAIXO)', ' ', 'será', ' ', 'matriculada', ' ', 'no', ' ', 'ano', ' ', 'de', ' ', '2010?', ' ', 'Aplicar', ' ', 'para', ' ', 'cada', ' ', 'resposta', ' ', 'da', ' ', 'P6.', ' ', '(RU', ' ', 'POR', ' ', 'FILHO)', '\\r'], ['T21.', ' ', 'Alguém', ' ', 'da', ' ', 'lista', ' ', 'já', ' ', 'teve', ' ', 'um', ' ', 'período', ' ', 'da', ' ', '\\r'], ['vida', ' ', 'em', ' ', 'que', ' ', 'usou', ' ', 'regularmente', ' ', 'drogas', ' ', 'ilícitas?', '\\r'], ['T1.', ' ', 'Alguém', ' ', 'da', ' ', 'lista', ' ', 'às', ' ', 'vezes', ' ', 'fica', ' ', 'triste,', ' ', 'para', ' ', 'baixo', ' ', 'ou', ' ', 'deprimido', ' ', 'na', ' ', 'maior', ' ', 'parte', ' ', 'do', ' ', 'tempo', ' ', 'por', ' ', 'duas', ' ', 'semanas', ' ', 'ou', ' ', 'mais?', '\\r'], ['NOME', ' ', 'DO', ' ', 'ENTREVISTADO:', '\\r'], ['T2B’', ' ', '[Se', ' ', 'sim', ' ', 'para', ' ', '1,', ' ', '2]', ' ', 'Esses', ' ', 'momentos', ' ', 'ocorreram', ' ', 'APENAS', ' ', 'após', ' ', 'a', ' ', 'morte', ' ', 'de', ' ', 'uma', ' ', 'pessoa', ' ', 'próxima?', '\\r'], [\"T5A'\", ' ', '[Se', ' ', 'sim', ' ', 'para', ' ', '5]', ' ', 'Essa', ' ', 'pessoa', ' ', 'teve', ' ', 'vários', ' ', 'ataques', ' ', 'como', ' ', 'esse,', ' ', 'que', ' ', 'aconteciam', ' ', 'de', ' ', 'uma', ' ', 'hora', ' ', 'para', ' ', 'outra', ' ', 'e', ' ', 'foram', ' ', 'seguidos', ' ', 'de', ' ', 'um', ' ', 'medo', ' ', 'de', ' ', 'que', ' ', 'um', ' ', 'novo', ' ', 'ataque', ' ', 'pudesse', ' ', 'acontecer?', '\\r'], ['P9.', ' ', 'Com', ' ', 'que', ' ', 'idade', ' ', 'o', ' ', 'seu', ' ', 'filho', ' ', 'LER', ' ', 'NOMES', ' ', 'ABAIXO', ' ', 'faleceu?', ' ', 'Aplicar', ' ', 'para', ' ', 'cada', ' ', 'resposta', ' ', 'da', ' ', 'P8.', '\\r'], ['Como', ' ', 'já', ' ', 'foi', ' ', 'explicado,', ' ', 'a', ' ', 'escola', ' ', 'em', ' ', 'que', ' ', 'seu', ' ', 'filho', ' ', 'está', ' ', 'se', ' ', 'matriculando', ' ', 'é', ' ', 'uma', ' ', 'das', ' ', 'participantes', ' ', 'desse', ' ', 'grande', ' ', 'projeto', ' ', 'financiado', ' ', 'pelo', ' ', 'governo', ' ', 'federal', ' ', 'que', ' ', 'tem', ' ', 'o', ' ', 'objetivo', ' ', 'de', ' ', 'desenvolver', ' ', 'estudos', ' ', 'que', ' ', 'permitam', ' ', 'compreender', ' ', 'melhor', ' ', 'os', ' ', 'problemas', ' ', 'emocionais', ' ', 'e', ' ', 'de', ' ', 'comportamento', ' ', 'das', ' ', 'crianças.', ' ', 'O', ' ', 'projeto', ' ', 'é', ' ', 'uma', ' ', 'parceria', ' ', 'entre', ' ', 'a', ' ', 'Universidade', ' ', 'Federal', ' ', 'do', ' ', 'Rio', ' ', 'Grande', ' ', 'do', ' ', 'Sul', ' ', '(UFRGS),', ' ', 'Universidade', ' ', 'Federal', ' ', 'de', ' ', 'São', ' ', 'Paulo', ' ', '(UNIFESP),', ' ', 'Universidade', ' ', 'de', ' ', 'São', ' ', 'Paulo', ' ', '(USP),', ' ', 'Secretaria', ' ', 'de', ' ', 'Educação', ' ', 'do', ' ', 'seu', ' ', 'estado', ' ', 'e', ' ', 'escola', ' ', 'do', ' ', 'seu', ' ', 'filho.', '\\r'], ['T30', ' ', 'Quando', ' ', 'criança,', ' ', 'alguém', ' ', 'da', ' ', 'sua', ' ', 'lista', ' ', 'era', ' ', 'ativo,', ' ', 'inquieto,', ' ', 'agitado,', ' ', 'impaciente,', ' ', 'estava', ' ', 'sempre', ' ', '“a', ' ', 'todo', ' ', 'vapor”,', ' ', 'levantando', ' ', 'da', ' ', 'cadeira', ' ', 'quando', ' ', 'devia', ' ', 'ficar', ' ', 'sentado,', ' ', 'correndo', ' ', 'ou', ' ', 'subindo', ' ', 'em', ' ', 'cima', ' ', 'das', ' ', 'coisas', ' ', 'quando', ' ', 'não', ' ', 'deveria?', '\\r'], ['T4.', ' ', 'Alguém', ' ', 'na', ' ', 'lista', ' ', 'já', ' ', 'ficou', ' ', 'por', ' ', 'um', ' ', 'período', ' ', 'mais', ' ', 'ativo', ' ', 'ou', ' ', 'falante', ' ', 'que', ' ', 'o', ' ', 'normal?', '\\r'], ['T22.', ' ', 'Alguém', ' ', 'da', ' ', 'lista', ' ', 'já', ' ', 'foi', ' ', 'colocado', ' ', 'atrás', ' ', 'das', ' ', '\\r'], ['grades,', ' ', 'ou', ' ', 'preso,', ' ', 'ou', ' ', 'julgado', ' ', 'culpado', ' ', 'de', ' ', 'um', ' ', '\\r'], ['crime', ' ', 'que', ' ', 'não', ' ', 'seja', ' ', 'dirigir', ' ', 'embriagado?', '\\r'], [\"T7A'\", ' ', '[Se', ' ', 'sim', ' ', 'para', ' ', '7]', ' ', 'Essa', ' ', 'pessoa', ' ', 'sempre', ' ', 'teve', ' ', '\\r'], ['tanto', ' ', 'medo', ' ', 'dessas', ' ', 'situações', ' ', 'que', ' ', 'não', ' ', '\\r'], ['conseguiu', ' ', 'enfrentá-las', ' ', 'OU', ' ', 'sentiu', ' ', 'um', ' ', 'intenso', ' ', '\\r'], ['mal', ' ', 'estar', ' ', 'quando', ' ', 'as', ' ', 'enfrentou;', ' ', 'OU', ' ', 'ainda,', ' ', '\\r'], ['procurou', ' ', 'estar', ' ', 'acompanhado', ' ', 'para', ' ', 'enfrentá-', '\\r'], ['las?', '\\r'], [\"T4A'\", ' ', '[Se', ' ', 'sim', ' ', 'para', ' ', '4]', ' ', 'Eu', ' ', 'quero', ' ', 'dizer', ' ', 'EXTREMAMENTE', ' ', 'mais', ' ', 'ativo', ' ', 'ou', ' ', 'falante,', ' ', 'de', ' ', 'tal', ' ', 'forma', ' ', 'que', ' ', 'as', ' ', 'pessoas', ' ', 'ficaram', ' ', 'preocupadas', ' ', 'com', ' ', 'essa', ' ', 'pessoa', ' ', 'ou', ' ', 'que', ' ', 'isso', ' ', 'tenha', ' ', 'interferido', ' ', 'no', ' ', 'desempenho', ' ', 'de', ' ', 'suas', ' ', 'responsabilidades', ' ', 'habituais', '\\r'], ['T31', ' ', 'Quando', ' ', 'criança,', ' ', 'alguém', ' ', 'da', ' ', 'sua', ' ', 'lista', ' ', 'era', ' ', '\\r'], ['impulsivo,', ' ', 'frequentemente', ' ', 'respondia', ' ', 'sem', ' ', '\\r'], ['chegar', ' ', 'a', ' ', 'ouvir', ' ', 'a', ' ', 'pergunta', ' ', 'até', ' ', 'o', ' ', 'fim,', ' ', 'tinha', ' ', '\\r'], ['dificuldade', ' ', 'em', ' ', 'esperar', ' ', 'a', ' ', 'sua', ' ', 'vez', ' ', 'nas', ' ', '\\r'], ['atividades', ' ', 'e', ' ', 'se', ' ', 'intrometia', ' ', 'na', ' ', 'conversa', ' ', 'ou', ' ', '\\r'], ['brincadeira', ' ', 'dos', ' ', 'outros?', '\\r'], ['T18.', ' ', 'Alguém', ' ', 'da', ' ', 'lista', ' ', 'já', ' ', 'acreditou', ' ', 'em', ' ', 'coisas', ' ', 'que', ' ', 'eram', ' ', 'muito', ' ', 'estranhas', ' ', 'OU', ' ', 'que', ' ', 'não', ' ', 'eram', ' ', 'verdade,', ' ', 'por', ' ', 'exemplo,', ' ', 'que', ' ', 'pessoas', ' ', 'estavam', ' ', 'conspirando', ' ', 'contra', ' ', 'ele,', ' ', 'ou', ' ', 'que', ' ', 'os', ' ', 'programas', ' ', 'de', ' ', 'TV', ' ', 'mandavam', ' ', 'mensagens', ' ', 'especiais', ' ', 'somente', ' ', 'para', ' ', 'ele?', '\\r'], [\"T4A'\", ' ', '[Se', ' ', 'sim', ' ', 'para', ' ', '4]', ' ', 'Eu', ' ', 'quero', ' ', 'dizer', ' ', '\\r'], ['EXTREMAMENTE', ' ', 'mais', ' ', 'ativo', ' ', 'ou', ' ', 'falante,', ' ', 'de', ' ', 'tal', ' ', '\\r'], ['forma', ' ', 'que', ' ', 'as', ' ', 'pessoas', ' ', 'ficaram', ' ', 'preocupadas', ' ', '\\r'], ['com', ' ', 'essa', ' ', 'pessoa', ' ', 'ou', ' ', 'que', ' ', 'isso', ' ', 'tenha', ' ', 'interferido', ' ', '\\r'], ['no', ' ', 'desempenho', ' ', 'de', ' ', 'suas', ' ', 'responsabilidades', ' ', '\\r'], ['habituais', '\\r'], ['P15.', ' ', 'Os', ' ', 'seus', ' ', 'filhos', ' ', 'possuem', ' ', 'o', ' ', 'mesmo', ' ', 'pai/', ' ', 'a', ' ', 'mesma', ' ', 'mãe?', ' ', ' ', '(RU)', '\\r'], [\"T12A'\", ' ', '[Se', ' ', 'SIM', ' ', 'para', ' ', '12],', ' ', 'Essa', ' ', 'pessoa', ' ', 'precisou', ' ', 'lavar', ' ', 'ou', ' ', 'limpar', ' ', 'excessivamente,', ' ', 'ou', ' ', 'de', ' ', 'uma', ' ', 'maneira', ' ', 'ritualizada,', ' ', 'seu', ' ', 'próprio', ' ', 'corpo', ' ', 'ou', ' ', 'objetos?', ' ', 'Já', ' ', 'teve', ' ', 'mania', ' ', 'de', ' ', 'limpeza?', '\\r'], ['T7.', ' ', 'Alguém', ' ', 'da', ' ', 'lista', ' ', 'alguma', ' ', 'vez', ' ', 'já', ' ', 'ficou', ' ', 'com', ' ', 'muito', ' ', 'medo', ' ', 'de', ' ', 'sair', ' ', 'de', ' ', 'casa', ' ', 'sozinho,', ' ', 'estar', ' ', 'no', ' ', 'meio', ' ', 'de', ' ', 'uma', ' ', 'multidão,', ' ', 'ir', ' ', 'a', ' ', 'lugares', ' ', 'públicos,', ' ', 'viajar', ' ', 'sozinho,', ' ', 'viajar', ' ', 'para', ' ', 'longe', ' ', 'de', ' ', 'casa,', ' ', 'estar', ' ', 'em', ' ', 'locais', ' ', 'onde', ' ', 'não', ' ', 'poderia', ' ', 'fugir,', ' ', 'escapar', ' ', 'ou', ' ', 'obter', ' ', 'ajuda?', '\\r'], ['T24.', ' ', 'Quando', ' ', 'criança,', ' ', 'alguém', ' ', 'da', ' ', 'sua', ' ', 'lista', ' ', 'teve', ' ', 'dificuldade', ' ', 'para', ' ', 'falar', ' ', 'ou', ' ', 'compreender', ' ', 'o', ' ', 'que', ' ', 'lhe', ' ', 'é', ' ', 'ou', ' ', 'era', ' ', 'dito?', '\\r'], [\"T13A'.[\", ' ', 'Se', ' ', 'SIM', ' ', 'para', ' ', '13],', ' ', 'Essa', ' ', 'pessoa', ' ', 'precisou', ' ', 'fazer', ' ', 'alguma', ' ', 'coisa', ' ', 'repetidas', ' ', 'vezes,', ' ', 'tais', ' ', 'como', ' ', 'rezar,', ' ', 'ou', ' ', 'confessar,', ' ', 'para', ' ', 'afastar', ' ', 'esses', ' ', 'pensamentos', ' ', 'de', ' ', 'agressão,', ' ', 'sexuais', ' ', 'ou', ' ', 'religiosos?', '\\r'], ['T25.', ' ', 'Quando', ' ', 'criança,', ' ', 'alguém', ' ', 'da', ' ', 'sua', ' ', 'lista', ' ', 'teve', ' ', '\\r'], ['medo', ' ', 'para', ' ', 'se', ' ', 'separar', ' ', 'de', ' ', 'seus', ' ', 'pais', ' ', 'ou', ' ', 'de', ' ', '\\r'], ['outras', ' ', 'pessoas', ' ', 'com', ' ', 'quem', ' ', 'era', ' ', 'muito', ' ', 'apegado,', ' ', '\\r'], ['com', ' ', 'medo', ' ', 'de', ' ', 'ir', ' ', 'à', ' ', 'escola', ' ', 'ou', ' ', 'a', ' ', 'outros', ' ', 'lugares', ' ', '\\r'], ['sem', ' ', 'essas', ' ', 'pessoas?', '\\r'], [\"T25A'\", ' ', '[Se', ' ', 'sim', ' ', 'p', ' ', '25]', ' ', 'Muito', ' ', 'mais', ' ', 'que', ' ', 'a', ' ', 'maioria', ' ', '\\r'], ['das', ' ', 'crianças', ' ', 'da', ' ', 'idade', ' ', 'dele?', '\\r'], [], ['I', ' ', 'am', ' ', 'satisfied', ' ', 'with', ' ', 'my', ' ', 'household’s', ' ', 'current', ' ', 'financial', ' ', 'situation', ' ', ' ', '6.0', ' ', '6.6', ' ', 'I', ' ', 'am', ' ', 'comfortable', ' ', 'when', ' ', 'I', ' ', 'have', ' ', 'to', ' ', 'negotiate', ' ', ' ', '5.4', ' ', '6.1', ' ', 'I', ' ', 'believe', ' ', 'in', ' ', 'paying', ' ', 'more', ' ', 'to', ' ', 'get', ' ', 'better', ' ', 'quality', ' ', ' ', '5.2', ' ', '5.5', ' ', 'I’ll', ' ', 'go', ' ', 'to', ' ', 'whatever', ' ', 'financial', ' ', 'institution', ' ', 'gives', ' ', 'me', ' ', 'the', ' ', 'best', ' ', 'deal', ' ', ' ', '6.3', ' ', '6.7', ' ', 'I', ' ', 'like', ' ', 'to', ' ', 'do', ' ', 'things', ' ', 'on', ' ', 'the', ' ', 'spur', ' ', 'of', ' ', 'the', ' ', 'moment', ' ', ' ', '5.1', ' ', '4.5', ' ', 'I', ' ', 'don’t', ' ', 'like', ' ', 'to', ' ', 'invest', ' ', 'in', ' ', 'the', ' ', 'stock', ' ', 'market', ' ', 'because', ' ', 'it', ' ', 'is', ' ', 'too', ' ', 'risky', ' ', ' ', '6.3', ' ', '5.5', '\\r'], ['I', ' ', 'know', ' ', 'how', ' ', 'to', ' ', 'take', ' ', 'advantage', ' ', 'of', ' ', 'all', ' ', 'the', ' ', 'different', ' ', 'things', ' ', 'you', ' ', 'can', ' ', 'do', ' ', 'with', ' ', 'your', ' ', 'money', ' ', ' ', '5.2', ' ', '6.0', ' ', 'It', ' ', 'is', ' ', 'important', ' ', 'for', ' ', 'me', ' ', 'to', ' ', 'keep', ' ', 'well', ' ', 'informed', ' ', 'about', ' ', 'financial', ' ', 'issues', ' ', ' ', '6.3', ' ', '7.1', '\\r'], ['I', ' ', 'find', ' ', 'banking', ' ', 'and', ' ', 'personal', ' ', 'finance', ' ', 'interesting', ' ', 'and', ' ', 'know', ' ', 'quite', ' ', 'a', ' ', 'lot', ' ', 'about', ' ', 'it', ' ', ' ', '5.5', ' ', '6.3', ' ', 'Tend', ' ', 'to', ' ', 'stick', ' ', 'to', ' ', 'the', ' ', 'FI', ' ', 'you', ' ', 'know', ' ', '8.7', ' ', '8.0', ' ', 'I', ' ', 'feel', ' ', 'confident', ' ', 'that', ' ', 'I', ' ', 'will', ' ', 'have', ' ', 'enough', ' ', 'money', ' ', 'to', ' ', 'retire', ' ', 'comfortably', ' ', ' ', '6.1', ' ', '6.8', '\\r'], ['I', ' ', 'don’t', ' ', 'consider', ' ', 'myself', ' ', 'to', ' ', 'be', ' ', 'money', ' ', 'savvy', ' ', ' ', '5.0', ' ', '4.5', '\\r'], ['I', ' ', 'am', ' ', 'more', ' ', 'of', ' ', 'a', ' ', '‘spender’', ' ', 'than', ' ', 'a', ' ', '‘saver’', ' ', ' ', '4.2', ' ', '3.8', '\\r'], ['Agree”,', ' ', 'please', ' ', 'indicate', ' ', 'how', ' ', 'much', ' ', 'you', ' ', 'agree', ' ', 'or', ' ', 'disagree', ' ', 'with', ' ', 'the', ' ', 'following', ' ', 'statements', '\\r'], ['I', ' ', 'always', ' ', 'try', ' ', 'to', ' ', 'pay', ' ', 'using', ' ', 'cash', ' ', 'or', ' ', 'debit', ' ', 'card', ' ', ' ', '7.3', ' ', '6.4', ' ', 'I’m', ' ', 'comfortable', ' ', 'borrowing', ' ', 'against', ' ', 'the', ' ', 'equity', ' ', 'in', ' ', 'my', ' ', 'home', ' ', ' ', '3.7', ' ', '4.5', ' ', 'I', ' ', 'have', ' ', 'difficulty', ' ', 'paying', ' ', 'off', ' ', 'my', ' ', 'debt', ' ', ' ', '3.4', ' ', '2.9', '\\r'], ['I', ' ', 'enjoy', ' ', 'taking', ' ', 'care', ' ', 'of', ' ', 'my', ' ', 'financial', ' ', 'affairs', ' ', ' ', ' ', '7.0', ' ', '7.8', '\\r'], [], ['8.', ' ', 'I', ' ', 'felt', ' ', 'I', ' ', 'was', ' ', 'no', ' ', 'good', ' ', 'anymore.', '\\r'], ['22.', ' ', 'I', ' ', 'thought', ' ', 'bad', ' ', 'things', ' ', 'would', ' ', 'happen', ' ', 'to', ' ', 'me.', '\\r'], ['2.', ' ', 'I', ' ', 'didn’t', ' ', 'enjoy', ' ', 'anything', ' ', 'at', ' ', 'all.', '\\r'], ['20.', ' ', 'I', ' ', 'didn’t', ' ', 'want', ' ', 'to', ' ', 'see', ' ', 'my', ' ', 'friends.', '\\r'], ['3.', ' ', 'I', ' ', 'was', ' ', 'less', ' ', 'hungry', ' ', 'than', ' ', 'usual.', '\\r'], ['16.', ' ', 'I', ' ', 'thought', ' ', 'that', ' ', 'life', ' ', 'wasn’t', ' ', 'worth', ' ', 'living.', '\\r'], ['13.', ' ', 'I', ' ', 'was', ' ', 'talking', ' ', 'more', ' ', 'slowly', ' ', 'than', ' ', 'usual.', '\\r'], ['29.', ' ', 'I', ' ', 'didn’t', ' ', 'have', ' ', 'any', ' ', 'fun', ' ', 'in', ' ', 'school.', '\\r'], ['14.', ' ', 'I', ' ', 'cried', ' ', 'a', ' ', 'lot.', '\\r'], ['33.', ' ', 'I', ' ', 'slept', ' ', 'a', ' ', 'lot', ' ', 'more', ' ', 'than', ' ', 'usual.', '\\r'], ['31.', ' ', 'I', ' ', 'did', ' ', 'everything', ' ', 'wrong.', '\\r'], ['11.', ' ', 'I', ' ', 'felt', ' ', 'grumpy', ' ', 'and', ' ', 'cross', ' ', 'with', ' ', 'my', ' ', 'parents.', '\\r'], ['19.', ' ', 'I', ' ', 'thought', ' ', 'about', ' ', 'killing', ' ', 'myself.', '\\r'], ['12.', ' ', 'I', ' ', 'felt', ' ', 'like', ' ', 'talking', ' ', 'less', ' ', 'than', ' ', 'usual.', '\\r'], ['10.', ' ', 'It', ' ', 'was', ' ', 'hard', ' ', 'for', ' ', 'me', ' ', 'to', ' ', 'make', ' ', 'up', ' ', 'my', ' ', 'mind.', '\\r'], ['30.', ' ', 'I', ' ', 'thought', ' ', 'I', ' ', 'could', ' ', 'never', ' ', 'be', ' ', 'as', ' ', 'good', ' ', 'as', ' ', 'other', ' ', 'kids.', '\\r'], ['25.', ' ', 'I', ' ', 'thought', ' ', 'I', ' ', 'looked', ' ', 'ugly.', '\\r'], ['7.', ' ', 'I', ' ', 'was', ' ', 'very', ' ', 'restless.', '\\r'], ['9.', ' ', 'I', ' ', 'blamed', ' ', 'myself', ' ', 'for', ' ', 'things', ' ', 'that', ' ', 'weren’t', ' ', 'my', ' ', 'fault.', '\\r'], ['6.', ' ', 'I', ' ', 'was', ' ', 'moving', ' ', 'and', ' ', 'walking', ' ', 'more', ' ', 'slowly', ' ', 'than', ' ', 'usual.', '\\r'], ['17.', ' ', 'I', ' ', 'thought', ' ', 'about', ' ', 'death', ' ', 'or', ' ', 'dying.', '\\r'], ['27.', ' ', 'I', ' ', 'felt', ' ', 'lonely.', '\\r'], ['This', ' ', 'form', ' ', 'is', ' ', 'about', ' ', 'how', ' ', 'you', ' ', 'might', ' ', 'have', ' ', 'been', ' ', 'feeling', ' ', 'or', ' ', 'acting', ' ', 'recently.', '\\r'], ['26.', ' ', 'I', ' ', 'worried', ' ', 'about', ' ', 'aches', ' ', 'and', ' ', 'pains.', '\\r'], ['28.', ' ', 'I', ' ', 'thought', ' ', 'nobody', ' ', 'really', ' ', 'loved', ' ', 'me.', '\\r'], ['32.', ' ', 'I', ' ', 'didn’t', ' ', 'sleep', ' ', 'as', ' ', 'well', ' ', 'as', ' ', 'I', ' ', 'usually', ' ', 'sleep.', '\\r'], ['1.', ' ', 'I', ' ', 'felt', ' ', 'miserable', ' ', 'or', ' ', 'unhappy.', '\\r'], ['23.', ' ', 'I', ' ', 'hated', ' ', 'myself.', '\\r'], ['15.', ' ', 'I', ' ', 'thought', ' ', 'there', ' ', 'was', ' ', 'nothing', ' ', 'good', ' ', 'for', ' ', 'me', ' ', 'in', ' ', 'the', ' ', 'future.', '\\r'], ['24.', ' ', 'I', ' ', 'felt', ' ', 'I', ' ', 'was', ' ', 'a', ' ', 'bad', ' ', 'person.', '\\r'], ['For', ' ', 'each', ' ', 'question,', ' ', 'please', ' ', 'check', ' ', '(\\uf0fc)', ' ', 'how', ' ', 'you', ' ', 'have', ' ', 'been', ' ', 'feeling', ' ', 'or', ' ', 'acting', ' ', 'in', ' ', 'the', ' ', 'past', ' ', 'two', ' ', 'weeks.', '\\r'], ['21.', ' ', 'I', ' ', 'found', ' ', 'it', ' ', 'hard', ' ', 'to', ' ', 'think', ' ', 'properly', ' ', 'or', ' ', 'concentrate.', '\\r'], ['18.', ' ', 'I', ' ', 'thought', ' ', 'my', ' ', 'family', ' ', 'would', ' ', 'be', ' ', 'better', ' ', 'off', ' ', 'without', ' ', 'me.', '\\r'], ['4.', ' ', 'I', ' ', 'ate', ' ', 'more', ' ', 'than', ' ', 'usual.', '\\r'], ['5.', ' ', 'I', ' ', 'felt', ' ', 'so', ' ', 'tired', ' ', 'I', ' ', 'just', ' ', 'sat', ' ', 'around', ' ', 'and', ' ', 'did', ' ', 'nothing.', '\\r'], [], ['8.', ' ', 'Have', ' ', 'you', ' ', 'chronically', ' ', 'felt', ' ', 'empty?', ' ', 'Yes____No____', '\\r'], ['3.', ' ', 'Have', ' ', 'you', ' ', 'had', ' ', 'at', ' ', 'least', ' ', 'two', ' ', 'other', ' ', 'problems', ' ', 'with', ' ', ' ', 'Yes____No____', ' ', 'impulsivity', ' ', '(e.g.,', ' ', 'eating', ' ', 'binges', ' ', 'and', ' ', 'spending', ' ', 'sprees,', ' ', 'drinking', ' ', 'too', ' ', 'much', ' ', 'and', ' ', 'verbal', ' ', 'outbursts)?', '\\r'], ['5.', ' ', 'Have', ' ', 'you', ' ', 'felt', ' ', 'very', ' ', 'angry', ' ', 'a', ' ', 'lot', ' ', 'of', ' ', 'the', ' ', 'time?', ' ', 'How', ' ', 'Yes____No____', ' ', 'about', ' ', 'often', ' ', 'acted', ' ', 'in', ' ', 'an', ' ', 'angry', ' ', 'or', ' ', 'sarcastic', ' ', 'manner?', '\\r'], ['9.', ' ', 'Have', ' ', 'you', ' ', 'often', ' ', 'felt', ' ', 'that', ' ', 'you', ' ', 'had', ' ', 'no', ' ', 'idea', ' ', 'of', ' ', 'who', ' ', 'you', ' ', 'Yes____No____', ' ', 'are', ' ', 'or', ' ', 'that', ' ', 'you', ' ', 'have', ' ', 'no', ' ', 'identity?', '\\r'], ['1.', ' ', ' ', 'Have', ' ', 'any', ' ', 'of', ' ', 'your', ' ', 'closest', ' ', 'relationships', ' ', 'been', ' ', 'troubled', ' ', ' ', 'Yes____No____', ' ', 'by', ' ', 'a', ' ', 'lot', ' ', 'of', ' ', 'arguments', ' ', 'or', ' ', 'repeated', ' ', 'breakups?', '\\r'], ['4.', ' ', 'Have', ' ', 'you', ' ', 'been', ' ', 'extremely', ' ', 'moody?', ' ', 'Yes____No____', '\\r'], ['7.', ' ', 'Have', ' ', 'you', ' ', 'frequently', ' ', 'felt', ' ', 'unreal', ' ', 'or', ' ', 'as', ' ', 'if', ' ', 'things', ' ', 'around', ' ', ' ', 'Yes____No____', ' ', 'you', ' ', 'were', ' ', 'unreal?', '\\r'], ['10.', ' ', ' ', 'Have', ' ', 'you', ' ', 'made', ' ', 'desperate', ' ', 'efforts', ' ', 'to', ' ', 'avoid', ' ', 'feeling', ' ', ' ', 'Yes____No____', ' ', 'abandoned', ' ', 'or', ' ', 'being', ' ', 'abandoned', ' ', '(e.g.,', ' ', 'repeatedly', ' ', 'called', ' ', 'someone', ' ', 'to', ' ', 'reassure', ' ', 'yourself', ' ', 'that', ' ', 'he', ' ', 'or', ' ', 'she', ' ', 'still', ' ', 'cared,', ' ', 'begged', ' ', 'them', ' ', 'not', ' ', 'to', ' ', 'leave', ' ', 'you,', ' ', 'clung', ' ', 'to', ' ', 'them', ' ', 'physically)?', '\\r'], ['6.', ' ', 'Have', ' ', 'you', ' ', 'often', ' ', 'been', ' ', 'distrustful', ' ', 'of', ' ', 'other', ' ', 'people?', ' ', 'Yes____No____', '\\r'], ['2.', ' ', 'Have', ' ', 'you', ' ', 'deliberately', ' ', 'hurt', ' ', 'yourself', ' ', 'physically', ' ', '(e.g.,', ' ', 'Yes____No____', ' ', 'punched', ' ', 'yourself,', ' ', 'cut', ' ', 'yourself,', ' ', 'burned', ' ', 'yourself)?', ' ', 'How', ' ', 'about', ' ', 'made', ' ', 'a', ' ', 'suicide', ' ', 'attempt?', '\\r'], [], ['In', ' ', 'all', ' ', 'districts', ' ', 'of', ' ', 'all', ' ', 'lands,', ' ', 'in', ' ', 'all', ' ', 'the', ' ', 'classes', ' ', 'of', ' ', 'communities', ' ', 'thousands', ' ', 'of', ' ', 'minds', ' ', 'are', ' ', 'intently', ' ', 'occupied,', ' ', 'the', ' ', 'merchant', ' ', 'in', ' ', 'his', ' ', 'compting', ' ', 'house,', ' ', 'the', ' ', 'mechanist', ' ', 'over', ' ', 'his', ' ', 'plans,', ' ', 'the', ' ', 'statesman', ' ', 'at', ' ', 'his', ' ', 'map,', ' ', 'his', ' ', 'treaty,', ' ', '&', ' ', 'his', ' ', 'tariff,', ' ', 'the', ' ', 'scholar', ' ', 'in', ' ', 'the', ' ', 'skilful', ' ', 'history', ' ', '&', ' ', 'eloquence', ' ', 'of', ' ', 'antiquity,', ' ', 'each', ' ', 'stung', ' ', 'to', ' ', 'the', ' ', 'quick', ' ', 'with', ' ', 'the', ' ', 'desire', ' ', 'of', ' ', 'exalting', ' ', 'himself', ' ', 'to', ' ', 'a', ' ', 'hasty', ' ', '&', ' ', 'yet', ' ', 'unfound', ' ', 'height', ' ', 'above', ' ', 'the', ' ', 'level', ' ', 'of', ' ', 'his', ' ', 'peers.', ' ', 'Each', ' ', 'is', ' ', 'absorbed', ' ', 'in', ' ', 'the', ' ', 'prospect', ' ', 'of', ' ', 'good', ' ', 'accruing', ' ', 'to', ' ', 'himself', ' ', 'but', ' ', 'each', ' ', 'is', ' ', 'no', ' ', 'less', ' ', 'contributing', ' ', 'to', ' ', 'the', ' ', 'utmost', ' ', 'of', ' ', 'his', ' ', 'ability', ' ', 'to', ' ', 'fix', ' ', '&', ' ', 'adorn', ' ', 'human', ' ', 'civilization.', ' ', '(Journal', ' ', 'entry', ' ', 'of', ' ', 'December,', ' ', '1824)', '\\r'], ['More', ' ', 'Social', ' ', 'Psychology', ' ', 'pages', ' ', '...', '\\r'], ['The', ' ', '\"difficult', ' ', 'children\"', ' ', 'Another', ' ', 'set', ' ', 'of', ' ', 'characteristics', ' ', 'such', ' ', 'as', ' ', 'irregular', ' ', 'in', ' ', 'bodily', ' ', 'functions,', ' ', 'usual', ' ', 'intensity', ' ', 'in', ' ', 'reactions,', ' ', 'tendency', ' ', 'to', ' ', 'withdraw', ' ', 'in', ' ', 'the', ' ', 'face', ' ', 'of', ' ', 'new', ' ', 'stimuli,', ' ', 'relative', ' ', 'slowness', ' ', 'to', ' ', 'adapt', ' ', 'to', ' ', 'changes', ' ', 'in', ' ', 'the', ' ', 'environment', ' ', 'and', ' ', 'general', ' ', 'negativity', ' ', 'in', ' ', 'mood', ' ', 'was', ' ', 'deemed', ' ', 'by', ' ', 'the', ' ', 'reseachers', ' ', 'to', ' ', 'be', ' ', 'associable', ' ', 'with', ' ', 'another', ' ', 'group', ' ', 'that', ' ', 'they', ' ', 'labelled', ' ', '\"difficult', ' ', 'children\".', ' ', 'As', ' ', 'infants', ' ', 'such', ' ', 'children', ' ', '-', ' ', 'comprising', ' ', 'about', ' ', 'ten', ' ', 'per', ' ', 'cent', ' ', 'of', ' ', 'the', ' ', 'children', ' ', 'sampled', ' ', '-', ' ', 'were', ' ', 'often', ' ', 'irregular', ' ', 'in', ' ', 'feeding', ' ', 'and', ' ', 'sleeping,', ' ', 'were', ' ', 'slower', ' ', 'to', ' ', 'accept', ' ', 'new', ' ', 'foods,', ' ', 'took', ' ', 'a', ' ', 'longer', ' ', 'time', ' ', 'to', ' ', 'adjust', ' ', 'to', ' ', 'new', ' ', 'routines', ' ', 'or', ' ', 'activities', ' ', 'and', ' ', 'tended', ' ', 'to', ' ', 'cry', ' ', 'a', ' ', 'great', ' ', 'deal.', ' ', 'Their', ' ', 'crying', ' ', 'and', ' ', 'their', ' ', 'laughter', ' ', 'were', ' ', 'rated', ' ', 'as', ' ', 'being', ' ', 'characteristically', ' ', 'loud.', ' ', 'Frustrations', ' ', 'usually', ' ', 'seemed', ' ', 'to', ' ', 'send', ' ', 'them', ' ', 'into', ' ', 'violent', ' ', 'tantrums.', ' ', 'These', ' ', 'children', ' ', 'were,', ' ', 'of', ' ', 'course,', ' ', 'something', ' ', 'of', ' ', 'a', ' ', 'trial', ' ', 'to', ' ', 'their', ' ', 'parents', ' ', 'and', ' ', 'required', ' ', 'a', ' ', 'high', ' ', 'degree', ' ', 'of', ' ', 'consistency', ' ', 'and', ' ', 'tolerance', ' ', 'in', ' ', 'their', ' ', 'upbringing.', '\\r'], ['https://www.age-of-the-sage.org/psychology/milgram_perils_authority_1974.html', ' ', 'https://www.age-of-the-sage.org/psychology/social/asch_conformity.html', ' ', 'https://www.age-of-the-sage.org/psychology/social/festinger_carlsmith_cognitive_dissonance.html', ' ', 'https://www.age-of-the-sage.org/psychology/social/hastorf_cantril_saw_game.html', ' ', 'https://www.age-of-the-sage.org/psychology/social/sherif_robbers_cave_experiment.html', ' ', 'https://www.age-of-the-sage.org/human_nature_tripartite_soul.html', '\\r'], ['Our', ' ', 'neighbours', ' ', 'are', ' ', 'occupied', ' ', 'with', ' ', 'employments', ' ', 'of', ' ', 'infinite', ' ', 'diversity.', ' ', 'Some', ' ', 'are', ' ', 'intent', ' ', 'on', ' ', 'commercial', ' ', 'speculations;', ' ', 'some', ' ', 'engage', ' ', 'warmly', ' ', 'in', ' ', 'political', ' ', 'contention;', ' ', 'some', ' ', 'are', ' ', 'found', ' ', 'all', ' ', 'day', ' ', 'long', ' ', 'at', ' ', 'their', ' ', 'books', ' ', '…', ' ', '(This', ' ', 'dates', ' ', 'from', ' ', 'January', ' ', '-', ' ', 'February,', ' ', '1828)', '\\r'], ['The', ' ', 'set', ' ', 'of', ' ', 'ratings', ' ', 'in', ' ', 'these', ' ', 'nine', ' ', 'characteristics', ' ', 'were', ' ', 'held', ' ', 'to', ' ', 'define', ' ', 'the', ' ', 'temperament,', ' ', 'or', ' ', 'behavioural', ' ', 'profile,', ' ', 'of', ' ', 'each', ' ', 'child.', ' ', 'Such', ' ', 'profiling', ' ', 'was', ' ', 'held', ' ', 'to', ' ', 'be', ' ', 'reliable', ' ', 'even', ' ', 'as', ' ', 'early', ' ', 'as', ' ', 'the', ' ', 'age', ' ', 'of', ' ', 'two', ' ', 'or', ' ', 'three', ' ', 'months.', ' ', 'The', ' ', 'team', ' ', 'found', ' ', 'that', ' ', 'the', ' ', 'nine', ' ', 'qualities', ' ', 'could', ' ', 'be', ' ', 'identified', ' ', 'and', ' ', 'rated', ' ', 'in', ' ', 'a', ' ', 'wide', ' ', 'diversity', ' ', 'of', ' ', 'population', ' ', 'samples', ' ', 'they', ' ', 'studied:', ' ', 'be', ' ', 'they', ' ', 'rich,', ' ', 'poor,', ' ', 'of', ' ', 'recent', ' ', 'immigrant', ' ', 'background,', ' ', 'mentally', ' ', 'retarded', ' ', 'children,', ' ', 'children', ' ', 'born', ' ', 'prematurely', ' ', 'or', ' ', 'children', ' ', 'with', ' ', 'congenital', ' ', 'rubella', ' ', '(\"German', ' ', 'measles\")', ' ', 'related', ' ', 'conditions', ' ', 'the', ' ', 'team', ' ', 'were', ' ', 'satisfied', ' ', 'that', ' ', 'they', ' ', 'could', ' ', 'reliably', ' ', 'rate', ' ', 'these', ' ', 'nine', ' ', 'personality', ' ', '/', ' ', 'temperament', '\\r'], ['Is', ' ', 'Human', ' ', 'Being', ' ', 'more', ' ', 'truly', ' ', 'Metaphysical', ' ', 'than', ' ', 'Physical?', '\\r'], ['7.', ' ', 'the', ' ', \"child's\", ' ', 'general', ' ', 'mood', ' ', 'or', ' ', '\"disposition\",', ' ', 'whether', ' ', 'cheerful', ' ', 'or', ' ', 'given', ' ', 'to', ' ', 'crying,', ' ', 'pleasant', ' ', 'or', ' ', 'cranky,', ' ', 'friendly', ' ', 'or', ' ', 'unfriendly;', '\\r'], ['Social', ' ', 'Psychology', ' ', '+', '\\r'], ['https://www.age-of-the-sage.org/human_nature_tripartite_soul.html', ' ', 'https://www.age-of-the-sage.org/roots.html', '\\r'], ['Understanding', ' ', 'the', ' ', 'Past', ' ', 'and', ' ', 'Present.', ' ', 'Why', ' ', 'is', ' ', 'the', ' ', 'World', ' ', 'the', ' ', 'way', ' ', 'it', ' ', 'is', ' ', 'today?', '\\r'], ['The', ' ', '\"easy', ' ', 'children\"', ' ', 'This', ' ', 'type', ' ', '-', ' ', 'approximately', ' ', 'forty', ' ', 'per', ' ', 'cent', ' ', 'of', ' ', 'the', ' ', '141', ' ', 'children', ' ', 'in', ' ', 'the', ' ', 'total', ' ', 'sample', ' ', 'were', ' ', 'placed', ' ', 'in', ' ', 'this', ' ', 'category', ' ', '-', ' ', 'was', ' ', 'held', ' ', 'to', ' ', 'be', ' ', 'characterised', ' ', 'by', ' ', 'positiveness', ' ', 'in', ' ', 'mood,', ' ', 'regularity', ' ', 'in', ' ', 'bodily', ' ', 'functions,', ' ', 'a', ' ', 'low', ' ', 'or', ' ', 'moderated', ' ', 'intensity', ' ', 'of', ' ', 'reaction,', ' ', 'adaptability', ' ', 'and', ' ', 'positive', ' ', 'approach', ' ', 'to,', ' ', 'rather', ' ', 'than', ' ', 'withdrawal', ' ', 'from,', ' ', 'new', ' ', 'situations.', ' ', 'In', ' ', 'infancy', ' ', 'these', ' ', 'children', ' ', 'seemed', ' ', 'to', ' ', 'quickly', ' ', 'establish', ' ', 'regular', ' ', 'sleeping', ' ', 'and', ' ', 'feeding', ' ', 'schedules,', ' ', 'were', ' ', 'generally', ' ', 'cheerful', ' ', 'and', ' ', 'adapted', ' ', 'quickly', ' ', 'to', ' ', 'new', ' ', 'routines,', ' ', 'new', ' ', 'food', ' ', 'and', ' ', 'new', ' ', 'people.', ' ', 'As', ' ', 'they', ' ', 'grew', ' ', 'older', ' ', 'they', ' ', 'learned', ' ', 'the', ' ', 'rules', ' ', 'of', ' ', 'new', ' ', 'games', ' ', 'quickly,', ' ', 'participated', ' ', 'readily', ' ', 'in', ' ', 'new', ' ', 'activities', ' ', 'and', ' ', 'adapted', ' ', 'easily', ' ', 'to', ' ', 'school.', ' ', 'This', ' ', 'group', ' ', 'was', ' ', 'called', ' ', 'the', ' ', '\"easy', ' ', 'children\",', ' ', 'because', ' ', 'they', ' ', 'presented', ' ', 'so', ' ', 'few', ' ', 'problems', ' ', 'in', ' ', 'care', ' ', 'and', ' ', 'training.', '\\r'], ['The', ' ', 'Nature', ' ', 'vs', ' ', 'Nurture', ' ', 'Debate', '\\r'], ['Festinger', ' ', 'and', ' ', 'Carlsmith', ' ', '~', ' ', 'Cognitive', ' ', 'consequences', ' ', 'of', ' ', 'forced', ' ', 'compliance', '\\r'], ['3.', ' ', 'the', ' ', 'response', ' ', 'to', ' ', 'a', ' ', 'new', ' ', 'object', ' ', 'or', ' ', 'person,', ' ', 'in', ' ', 'terms', ' ', 'of', ' ', 'whether', ' ', 'the', ' ', 'child', ' ', 'accepts', ' ', 'the', ' ', 'new', ' ', 'experience', ' ', 'or', ' ', 'withdraws', ' ', 'from', ' ', 'it;', '\\r'], ['https://www.age-of-the-sage.org/index.html', ' ', 'https://www.age-of-the-sage.org/sitemap.html', '\\r'], ['The', ' ', '\"slow', ' ', 'to', ' ', 'warm', ' ', 'up\"', ' ', 'The', ' ', 'children', ' ', 'classified', ' ', 'by', ' ', 'the', ' ', 'team', ' ', 'as', ' ', '\"slow', ' ', 'to', ' ', 'warm', ' ', 'up\"', ' ', '-', ' ', 'fifteen', ' ', 'per', ' ', 'cent', ' ', 'of', ' ', 'the', ' ', 'population', ' ', 'sample', ' ', 'studied', ' ', '-', ' ', 'typically', ' ', 'had', ' ', 'relatively', ' ', 'low', ' ', 'activity', ' ', 'levels,', ' ', 'tended', ' ', 'to', ' ', 'withdraw', ' ', 'on', ' ', 'their', ' ', 'first', ' ', 'exposure', ' ', 'to', ' ', 'new', ' ', 'stimuli,', ' ', 'were', ' ', 'slower', ' ', 'to', ' ', 'adapt,', ' ', 'were', ' ', 'somewhat', ' ', 'negative', ' ', 'in', ' ', 'mood', ' ', 'and', ' ', 'responded', ' ', 'to', ' ', 'situations', ' ', 'with', ' ', 'a', ' ', 'low', ' ', 'intensity', ' ', 'of', ' ', 'reaction.', '\\r'], ['With', ' ', 'some', ' ', 'forty', ' ', 'per', ' ', 'cent', ' ', 'being', ' ', 'deemed', ' ', 'to', ' ', 'be', ' ', '\"easy', ' ', 'children\",', ' ', 'some', ' ', 'ten', ' ', 'per', ' ', 'cent', ' ', 'being', ' ', 'deemed', ' ', 'to', ' ', 'be', ' ', '\"difficult', ' ', 'children\",', ' ', 'and', ' ', 'with', ' ', 'some', ' ', 'fifteen', ' ', 'per', ' ', 'cent', ' ', 'being', ' ', 'deemed', ' ', 'to', ' ', 'be', ' ', '\"slow', ' ', 'to', ' ', 'warm', ' ', 'up\"', ' ', 'only', ' ', 'some', ' ', 'sixty-five', ' ', 'per', ' ', 'cent', ' ', 'of', ' ', 'the', ' ', 'children', ' ', 'were', ' ', 'described', ' ', 'as', ' ', 'belonging', ' ', 'to', ' ', 'one', ' ', 'or', ' ', 'other', ' ', 'of', ' ', 'the', ' ', 'three', ' ', 'categories', ' ', 'the', ' ', 'study', ' ', 'felt', ' ', 'it', ' ', 'appropriate', ' ', 'to', ' ', 'to', ' ', 'define.', ' ', 'The', ' ', 'remaining', ' ', 'thirty-five', ' ', 'per', ' ', 'cent', ' ', 'had', ' ', 'such', ' ', 'mixtures', ' ', 'of', ' ', 'the', ' ', 'nine', ' ', 'temperament', ' ', 'traits', ' ', 'as', ' ', 'did', ' ', 'not', ' ', 'seem', ' ', 'to', ' ', 'allow', ' ', 'classification', ' ', 'into', ' ', 'one', ' ', 'of', ' ', 'the', ' ', 'three', ' ', 'groups.', '\\r'], ['https://www.age-of-the-sage.org/historical/biography/otto_von_bismarck.html', ' ', 'https://www.age-of-the-sage.org/historical/biography/metternich.html', ' ', 'https://www.age-of-the-sage.org/sitemap.html#historical_biography', ' ', 'https://www.age-of-the-sage.org/history/1848/revolution_of_1848.html', ' ', 'https://www.age-of-the-sage.org/history/italian_unification.html', ' ', 'https://www.age-of-the-sage.org/history/german_unification.html', ' ', 'https://www.age-of-the-sage.org/sitemap.html#history', ' ', 'https://www.age-of-the-sage.org/index.html', ' ', 'https://www.age-of-the-sage.org/mysticism/world_religions_populations.html', ' ', 'https://www.age-of-the-sage.org/mysticism.html', ' ', 'https://www.age-of-the-sage.org/interfaith_studies.html', ' ', 'https://www.age-of-the-sage.org/sitemap.html#spirituality', ' ', 'https://www.age-of-the-sage.org/buddhism/Buddha_teachings.html', ' ', 'https://www.age-of-the-sage.org/buddhism/buddhist_philosophy.html', ' ', 'https://www.age-of-the-sage.org/buddhism/buddhism_christianity.html', ' ', 'https://www.age-of-the-sage.org/sitemap.html#buddhism', ' ', 'https://www.age-of-the-sage.org/biography_life_works.html', ' ', 'https://www.age-of-the-sage.org/psychology/nature_nurture.html', ' ', 'https://www.age-of-the-sage.org/psychology/milgram_obedience_experiment.html', '\\r'], ['Thomas,', ' ', 'Chess', ' ', '&', ' ', 'Birch', ' ', '~', ' ', 'human', ' ', 'personality', ' ', 'traits', '\\r'], ['8.', ' ', 'the', ' ', 'degree', ' ', 'of', ' ', 'the', ' ', \"child's\", ' ', 'distractibility', ' ', 'from', ' ', 'what', ' ', 'he', ' ', 'is', ' ', 'doing;', '\\r'], ['5.', ' ', 'the', ' ', 'threshold,', ' ', 'or', ' ', 'sensitivity,', ' ', 'to', ' ', 'stimuli;', '\\r'], ['\"The', ' ', 'first', ' ', 'glance', ' ', 'at', ' ', 'History', ' ', 'convinces', ' ', 'us', ' ', 'that', ' ', 'the', ' ', 'actions', ' ', 'of', ' ', 'men', ' ', 'proceed', ' ', 'from', ' ', 'their', ' ', 'needs,', ' ', 'their', ' ', 'passions,', ' ', 'their', ' ', 'characters', ' ', 'and', ' ', 'talents;', ' ', 'and', ' ', 'impresses', ' ', 'us', ' ', 'with', ' ', 'the', ' ', 'belief', ' ', 'that', ' ', 'such', ' ', 'needs,', ' ', 'passions', ' ', 'and', ' ', 'interests', ' ', 'are', ' ', 'the', ' ', 'sole', ' ', 'spring', ' ', 'of', ' ', 'actions.\"', ' ', 'Georg', ' ', 'Hegel,', ' ', '1770-1831,', ' ', 'German', ' ', 'philosopher,', ' ', 'The', ' ', 'Philosophy', ' ', 'of', ' ', 'History', ' ', '(1837)', '\\r'], ['When', ' ', 'the', ' ', 'researchers', ' ', 'analysed', ' ', 'the', ' ', 'behavioural', ' ', 'profiles', ' ', 'of', ' ', 'the', ' ', 'children', ' ', 'in', ' ', 'an', ' ', 'endeavour', ' ', 'to', ' ', 'find', ' ', 'correlations', ' ', 'among', ' ', 'the', ' ', 'nine', ' ', 'individual', ' ', 'characteristics,', ' ', 'they', ' ', 'found', ' ', 'that', ' ', 'certain', ' ', 'attributes', ' ', 'did', ' ', 'seem', ' ', 'to', ' ', 'cluster', ' ', 'together.', ' ', 'This', ' ', 'clustering', ' ', 'seemed', ' ', 'to', ' ', 'point', ' ', 'toward', ' ', 'the', ' ', 'definition', ' ', 'of', ' ', 'three', ' ', 'general', ' ', 'types', ' ', 'of', ' ', 'temperament', ' ', '(although', ' ', 'quite', ' ', 'a', ' ', 'few', ' ', 'of', ' ', 'the', ' ', 'children', ' ', 'did', ' ', 'not', ' ', 'easily', ' ', 'fit', ' ', 'into', ' ', 'any', ' ', 'of', ' ', 'these', ' ', 'three', ' ', '\"types\").', '\\r'], ['Chess', ' ', 'S,', ' ', 'Thomas', ' ', 'A,', ' ', 'Birch', ' ', 'HG,', ' ', 'Hertzig', ' ', 'M:', ' ', 'Implications', ' ', 'of', ' ', 'a', ' ', 'longitudinal', ' ', 'study', ' ', 'of', ' ', 'child', ' ', 'development', ' ', 'for', ' ', 'child', ' ', 'psychiatry.', ' ', 'Am', ' ', 'J', ' ', 'Psychiatry', ' ', '1960;', ' ', '117:434-441', '\\r'], ['9.', ' ', 'the', ' ', 'span', ' ', 'of', ' ', 'the', ' ', \"child's\", ' ', 'attention', ' ', 'and', ' ', 'his', ' ', 'persistence', ' ', 'in', ' ', 'an', ' ', 'activity.', '\\r'], ['https://www.age-of-the-sage.org/emerson_essay_history.html', ' ', 'https://www.age-of-the-sage.org/philosophy/history/understanding_the_past_present_future.html', '\\r'], ['https://www.age-of-the-sage.org/archaeology/terracotta_warriors.html', ' ', 'https://www.age-of-the-sage.org/archaeology/otzi_the_iceman.html', ' ', 'https://www.age-of-the-sage.org/archaeology/antikythera_mechanism.html', ' ', 'https://www.age-of-the-sage.org/sitemap.html#archaeology', ' ', 'https://www.age-of-the-sage.org/psychology/milgram_obedience_experiment.html', ' ', 'https://www.age-of-the-sage.org/psychology/social/asch_conformity.html', ' ', 'https://www.age-of-the-sage.org/psychology/nature_nurture.html', ' ', 'https://www.age-of-the-sage.org/sitemap.html#social_psychology', ' ', 'https://www.age-of-the-sage.org/quotations/quotes/stephen_fry_gods_religions_beliefs.html', ' ', 'https://www.age-of-the-sage.org/quotations/quotes/stephen_fry_irish_tv_interview.html', ' ', 'https://www.age-of-the-sage.org/scientist/stephen_hawking_god_religion.html', ' ', 'https://www.age-of-the-sage.org/philosophy/friedrich_nietzsche_quotes.html', ' ', 'https://www.age-of-the-sage.org/sitemap.html#quotations_quotes', ' ', 'https://www.age-of-the-sage.org/historical/biography/maximilien_robespierre.html', '\\r'], ['https://www.age-of-the-sage.org/psychology/sheldon.html', '\\r'], ['CHESS,', ' ', 'STELLA,', ' ', 'M.D.,', ' ', 'ALEXANDER', ' ', 'THOMAS,', ' ', 'M.D.,', ' ', 'AND', ' ', 'HERBERT', ' ', 'G.', ' ', 'BIRCH,', ' ', 'M.D.,', ' ', 'PH.D.', ' ', 'Your', ' ', 'Child', ' ', 'Is', ' ', 'A', ' ', 'Person:', ' ', 'A', ' ', 'Psychological', ' ', 'Approach', ' ', 'To', ' ', 'Childhood', ' ', 'Without', ' ', 'Guilt.', ' ', 'The', ' ', 'Viking', ' ', 'Press,', ' ', 'New', ' ', 'York:', ' ', '1965.', ' ', '213', ' ', 'pages', '\\r'], ['6.', ' ', 'the', ' ', 'intensity,', ' ', 'or', ' ', 'energy', ' ', 'level,', ' ', 'of', ' ', 'responses;', '\\r'], ['The', ' ', 'Nature', ' ', 'vs.', ' ', 'Nurture', ' ', 'debate', ' ', 'or', ' ', 'controversy', '\\r'], [], ['(6)', ' ', 'On', ' ', 'which', ' ', 'floor', ' ', 'is', ' ', 'this', ' ', 'dwelling?', '\\r'], ['SED46-50', ' ', '15.', ' ', 'What', ' ', 'is', ' ', 'the', ' ', 'longest', ' ', 'time', ' ', 'you', ' ', '__,.-.)......', ' ', 'KS', ' ', 'when', ' ', 'he', ' ', 'was', ' ', 'haye', ' ', 'been', ' ', 'separated', ' ', 'from', ' ', 'this', ' ', 'SEA46=510...', ' ', 'months', ' ', 'old', ' ', 'child', ' ', '?', ' ', 'Never', ' ', 'separated', ' ', '..', ' ', 'No', ' ', 'answer', ' ', 'IX.', ' ', 'WELFARE', ' ', 'CENTRES', ' ', '(These', ' ', 'questions', ' ', 'refer', ' ', 'only', ' ', 'to', ' ', 'child', ' ', 'born', ' ', 'in', ' ', 'March', ' ', '1946)', '\\r'], ['since', ' ', 'CHRISTMAS,', ' ', '1949.', ' ', 'COLH', ' ', '49/50', ' ', 'converted', ' ', '°', ' ', 'Frequent', ' ', '|Occasion-', ' ', 'Catiaea|', ' ', 'Colds', ' ', '|', ' ', 'al', ' ', 'Colts', ' ', '|', ' ', 'colds', ' ', '|', ' ', 'answer', ' ', 'codes', ' ', '4', ' ', 'or', ' ', 'morelless', ' ', 'than', ' ', '4', ' ', 'COL#', ' ', '9/5', ' ', 'OF', ' ', 'This', ' ', 'Child', ' ', 'Le', ' ', 'tee|', ' ', 'ss', ' ', '2', ' ', '3s', ' ', '4', ' ', 'els.', ' ', 'Xa', ' ', '‘', ' ', 'Mother', ' ', 'ieee', ' ', '|', ' ', 'ee', ' ', '2', ' ', '3)', ' ', 'se', ' ', '[Se', ' ', '4.', ' ', 'ell', ' ', 'een', ' ', 'ee', ' ', 'COLM4', ' ', '9/50', ' ', 'Father', ' ', 'Nees', ' ', '|nee', ' ', '2', ' ', 'Sieees', ' ', '|', ' ', 'eae', ' ', '4A', ' ', 'axa', ' ', 'COLFP4', ' ', '9', ' ', '/', ' ', '5{0Other', ' ', 'children', ' ', 'aged..........+.', ' ', 'do)', ' ', 'tll', ' ', 'coal', ' ', 'hs', ' ', '2', ' ', '3', ' ', '4', ' ', 'ea', ' ', 'COLWY9', ' ', '/', ' ', 'SDiseccccss.', ' ', 'leer', ' ', '2', ' ', '3', ' ', '4', ' ', 'x', ' ', 'Wy', ' ', 'een|', ' ', 'ee', ' ', 'D', ' ', '3', ' ', '4', ' ', 'eX', ' ', 'Oren', ' ', 'ee', ' ', '2', ' ', 'Siero', ' ', '4', ' ', 'TeX', '\\r'], ['33.', ' ', 'Is', ' ', 'there', ' ', 'a', ' ', 'yard', ' ', 'or', ' ', 'garden', ' ', 'attached', ' ', 'to', ' ', 'this', ' ', 'dwelling', ' ', 'where', ' ', 'this', ' ', 'child', ' ', 'can', ' ', 'play?', '\\r'], ['IF', ' ', 'SHE', ' ', 'HAS', ' ', 'MOVED', ' ', 'TO', ' ', 'ANOTHER', ' ', 'M.', ' ', '&', ' ', 'C.W.', ' ', 'AUTHORITY', ' ', 'RETURN', ' ', 'THIS', ' ', 'FORM', ' ', 'AT', ' ', 'ONCE', ' ', 'TO', ' ', 'WHOEVER', ' ', 'HAS', ' ', 'BEEN', ' ', 'DELEGATED', ' ', 'BY', ' ', 'YOUR', ' ', 'MEDICAL', ' ', 'OFFICER', ' ', 'OF', ' ', 'HEALTH,', ' ', 'TO', ' ', 'RECEIVE', ' ', 'IT.', '\\r'], ['INFECTIOUS', ' ', 'DISEASES', ' ', '5.', ' ', 'Has', ' ', 'this', ' ', 'child', ' ', 'ever', ' ', 'had', ' ', 'WHOOPING', ' ', 'COUGH,', ' ', 'MEASLES', '\\r'], ['(For', ' ', 'all', ' ', 'children', ' ', 'going', ' ', 'to', ' ', 'hospital.)', '\\r'], ['‘pot’', ' ', 'him', ' ', 'at', ' ', 'night', ' ', 'before', ' ', 'you', ' ', 'yourself', ' ', 'go', ' ', 'to', ' ', 'bed?', '\\r'], ['(b)', ' ', 'Is', ' ', 'he', ' ', 'dry', ' ', 'by', ' ', 'night?', ' ', 'Not', ' ', 'wet', ' ', 'during', ' ', 'last', ' ', '4', ' ', 'weeks', ' ', '..1', '\\r'], ['2.', ' ', 'If', ' ', 'this', ' ', 'child', ' ', 'has', ' ', 'died,', ' ', 'please', ' ', 'state:—', ' ', 'I.', ' ', 'ACCIDENTS', ' ', '(a)', ' ', 'Age', ' ', 'at', ' ', 'death...........years............months,', ' ', 'uestion', ' ', 'does', ' ', 'not', ' ', 'apply', ' ', 'YY', ' ', '4.', ' ', 'Has', ' ', 'this', ' ', 'child', ' ', 'ever', ' ', 'had', ' ', 'an', ' ', 'accident', ' ', 'in', ' ', 'which', ' ', 'he', ' ', 'was', ' ', 'BURNT', ' ', 'or', ' ', '2', ' ', 'ae', ' ', 'ea', ' ', 'Xx', ' ', 'SCALDED,', ' ', 'BROKE', ' ', 'A', ' ', 'BONE,', ' ', 'or', ' ', 'was', ' ', 'BADLY', ' ', 'CUT', ' ', 'or', ' ', 'No', ' ', 'answer.......+-.-.', ' ', 'BRUISED?', ' ', '(b)', ' ', 'Cause', ' ', 'of', ' ', 'death', ' ', '(as', ' ', 'given', ' ', 'on', ' ', 'death', ' ', 'certificate)......', ' ', '(Only', ' ', 'record', ' ', 'accidents', ' ', 'treated', ' ', 'in', ' ', 'hospital', ' ', '(in-patients', ' ', 'and', ' ', 'out-', ' ', 'patients),', ' ', 'nursing', ' ', 'home', ' ', 'or', ' ', 'by', ' ', 'Doctor', ' ', 'or', ' ', 'District', ' ', 'Nurse).', ' ', 'Beare', ' ', 'oF', ' ', 'rece', ' ', 'Neate', ' ', 'Senate', ' ', 'eaeeu', ' ', 'snes', ' ', 'ee', ' ', 'suena', ' ', 'tesenneseene', ' ', 'i.', ' ', 'ries', ' ', '—', ' ', '(For', ' ', 'all', ' ', 'living', ' ', 'Children)', ' ', 'Scalds', ' ', 'Bones', ' ', 'or', ' ', 'Bruises', ' ', '3.', ' ', 'Where', ' ', 'is', ' ', 'this', ' ', 'child', ' ', 'now', ' ', 'living?', ' ', '(Ate', ' ', 'hOmMes', ' ', 'ceases', ' ', 'cers', ' ', 'eriere)', ' ', 'Vise', ' ', 'cole', ' ', 'cea', ' ', '|e', ' ', '1', ' ', 'Fulon', ' ', 'i', ' ', 'ee', ' ', 'I', ' ', 'With', ' ', 'relatives............2', ' ', 'None', ' ', 'er', ' ', 'ORS', ' ', 'som', ' ', '2', ' ', 'Adopted', ' ', '«+--+.', ' ', '-+.4++', ' ', '+443', ' ', 'No', ' ', 'Answer...', ' ', '.]..', ' ', 'Dre', ' ', 'Me', ' ', 'alos', ' ', 'OK', ' ', 'Residential', ' ', 'nursery.', ' ', '.......4', ' ', 'see', ' ', 'BRC', ' ', 'Ill', ' ', 'in', ' ', 'hospital.', ' ', '-..........5', ' ', '1', ' ', 'pe', ' ', 'ee', ' ', 'a', ' ', 'none', ' ', 'Uf', ' ', '“', ' ', 'Yes,”', ' ', 'please', ' ', 'give', ' ', 'the', ' ', 'following', ' ', 'details', ' ', 'about', ' ', 'each', ' ', 'accident', ' ', 'in', ' ', 'turn,', ' ', 'Elsewhere,', ' ', 'namely.', ' ', '...-...', ' ', 'WG', ' ', 'starting', ' ', 'with', ' ', 'the', ' ', 'earliest', ' ', 'and', ' ', 'ending', ' ', 'with', ' ', 'the', ' ', 'most', ' ', 'recent.', ' ', 'Any', ' ', 'acci-', ' ', 'NSP', ' ', 'a', ' ', 'Shae', ' ', 'eget', ' ', 'ar', ' ', 'a', ' ', 'dents', ' ', 'recorded', ' ', 'in', ' ', 'the', ' ', '1948', ' ', 'survey', ' ', 'are', ' ', 'entered', ' ', 'in', ' ', 'red.', ' ', 'Please', ' ', 'check', ' ', 'this', ' ', 'INO}', ' ', 'anSWetz-nsnectensececesee', ' ', 'Xx', ' ', 'information', ' ', 'and', ' ', 'fill', ' ', 'in', ' ', 'any', ' ', 'gaps).', ' ', 'inj', ' ', 'Age', ' ', 'when', ' ', 'Treatment', ' ', ':', ' ', 'R', ' ', '(If', ' ', 'in-patient)', ' ', 'Pee', ' ', 'Se', ' ', 'aoe', ' ', 'Part', ' ', 'injured', ' ', 'Hosp.', ' ', 'LP.,', ' ', 'Name', ' ', 'and', ' ', 'Address', ' ', 'of', ' ', 'Hospital,', ' ', 'Length', ' ', 'of', ' ', 'stay', ' ', 'BROKEN', ' ', 'BONE,', ' ', 'or', ' ', 'Parts', ' ', '(in', ' ', 'years', ' ', 'Hosp.', ' ', 'O.P.,', ' ', 'Nursing', ' ', 'Home,', ' ', 'Doctor', ' ', 'or', ' ', 'Nurse', ' ', 'in', ' ', 'Hospital', ' ', 'or', ' ', 'CUT,', ' ', 'BRUISE,', ' ', 'or', ' ', 'injured', ' ', 'and', ' ', 'Nursing', ' ', 'Home,', ' ', 'giving', ' ', 'treatment', ' ', 'N.', ' ', 'Home', ' ', 'combination', ' ', 'of', ' ', 'these)', ' ', 'months)', ' ', 'Doctor,', ' ', 'Nurse', ' ', '‘(in', ' ', 'days)', ' ', 'First', ' ', 'I', ' ', 'Accident', ' ', '2', ' ', 'Subsequent', ' ', 'Accidents', ' ', '|', ' ', '3', ' ', '4', ' ', 'fi', ' ', 'i', ' ', 'y', ' ', 'TT', ' ', 'OCCURRED', ' ', '(if', ' ', 'burnt', ' ', 'by', ' ', 'fire,', ' ', 'say', ' ', 'whether', ' ', 'Details', ' ', 'of', ' ', 'remaining', ' ', 'Scarring,', ' ', 'iNuinben', ' ', 'ol', ' ', 'accicen', ' ', 'Deiaiisiof', ' ', 'how', ' ', 'cad', ' ', 'oe', ' ', 'gas,', ' ', 'open', ' ', 'fire', ' ', 'or', ' ', 'stove)', ' ', 'Disability', ' ', 'orgDeformity', ' ', 'as', ' ', 'gi', ' ', 'First', ' ', '1', ' ', 'Accident', ' ', '2', ' ', 'Subsequent', ' ', 'Accidents', ' ', '3', '\\r'], ['(This', ' ', 'is', ' ', 'asked', ' ', 'to', ' ', 'test', ' ', 'the', ' ', 'mother’s', ' ', 'memory.', ' ', 'So', ' ', 'please', ' ', 'do', ' ', 'not', ' ', 'answer', ' ', 'from', ' ', 'your', ' ', 'records', ' ', 'or', ' ', 'correct', ' ', 'an', ' ', 'answer', ' ', 'you', ' ', 'know', ' ', 'to', ' ', 'be', ' ', 'wrong.', ' ', ')', '\\r'], ['8.', ' ', 'Has', ' ', 'this', ' ', 'child.', ' ', 'been', ' ', 'circum-', '\\r'], ['No', ' ', 'ANsWer', ' ', 'seeseesssesesseveeen', ' ', '32.', ' ', 'Please', ' ', 'give', ' ', 'your', ' ', 'assessment', ' ', 'of', ' ', 'Average', ' ', 'the', ' ', 'state', ' ', 'of', ' ', 'repair', ' ', 'of', ' ', 'the', ' ', 'dwelling', ' ', 'Very', ' ', 'good', ' ', 'BERGE', ' ', 'G', ' ', 'cascode', ' ', 'oetsaeo', ' ', 'ats', ' ', 'REP50', ' ', 'No', ' ', 'Answer..............', '\\r'], ['(a)', ' ', 'Which', ' ', 'grandparents,', ' ', 'if', ' ', 'any,', ' ', 'live', ' ', 'in', ' ', 'this', ' ', 'household?', '\\r'], ['last', ' ', 'job.)', ' ', '21.', ' ', '(a)', ' ', 'What', ' ', 'is', ' ', 'your', ' ', 'husband’s', ' ', '0G50', ' ', 'from', ' ', 'lists', ' ', 'Occupation,', ' ', '—scnvvesnvescneecerausectvesnsecetinvors', ' ', '(b)', ' ', 'In', ' ', 'what', ' ', 'industry', ' ', 'does', ' ', 'he', ' ', 'work?.', ' ', '.', ' ', 'AND', ' ', '50', ' ', '(c)', ' ', 'Does', ' ', 'he:—', '\\r'], ['(b)', ' ', 'What', ' ', 'did', ' ', 'this', ' ', 'child', ' ', 'have', ' ', 'for', ' ', 'each', ' ', 'meal', ' ', 'yesterday?', '\\r'], ['(b)', ' ', 'With', ' ', 'whom', ' ', 'does', ' ', 'he', ' ', 'usually', ' ', 'By', ' ', 'himself.', ' ', 'play?', ' ', 'With', ' ', 'brothers', ' ', 'and', ' ', 'sisters...2', ' ', 'PLAWSO', ' ', 'with', ' ', 'other', ' ', 'children............3', ' ', 'Other,', ' ', 'namely....', ' ', '4', ' ', 'NO)', ' ', 'ADSWEL........-0eseceeeeees', ' ', 'x', '\\r'], ['OCCUPATION', ' ', 'OF', ' ', 'PRESENT', ' ', 'HUSBAND', '\\r'], ['child', ' ', 'to', ' ', 'a', ' ', 'Welfare', ' ', 'Centre?', ' ', '(Ask', ' ', 'all', ' ', 'mothers', ' ', 'even', ' ', 'if', ' ', 'they', ' ', 'have', ' ', 'not', ' ', 'taken', ' ', 'this', ' ', 'child', ' ', 'to', ' ', 'a', ' ', 'centre.)', '\\r'], ['XV.', ' ', 'HEALTH', ' ', 'VISITOR’S', ' ', 'COMMENTS', '\\r'], ['Please', ' ', 'give', ' ', 'full', ' ', 'details', ' ', 'of', ' ', 'complications', ' ', 'and', ' ', 'treatment.', '\\r'], ['PLEASE', ' ', 'COMMENT', ' ', 'FREELY', ' ', 'ON', ' ', 'THE', ' ', 'STATE', ' ', 'OF', ' ', 'REPAIR', ' ', 'OF', ' ', 'THE', ' ', 'DWELLING', ' ', ':—', '\\r'], ['Remind', ' ', 'her', ' ', 'that', ' ', 'in', ' ', '1946', ' ', 'and', ' ', '1948', ' ', 'she', ' ', 'gave', ' ', 'us', ' ', 'most', ' ', 'valuable', ' ', 'information', ' ', 'about', ' ', 'herself', ' ', 'and', ' ', 'her', ' ', 'child.', ' ', 'We', ' ', 'ncw', ' ', 'want', ' ', 'to', ' ', 'find', ' ', 'out', ' ', 'what', ' ', 'progress', ' ', 'her', ' ', 'child', ' ', 'has', ' ', 'made', ' ', 'during', ' ', 'the', ' ', 'last', ' ', 'two', ' ', 'years.', ' ', 'All', ' ', 'information', ' ', 'she', ' ', 'gives', ' ', 'will,', ' ', 'of', ' ', 'course,', ' ', 'be', ' ', 'ABSOLUTELY', ' ', 'CONFIDENTIAL.', ' ', 'How', ' ', 'to', ' ', 'fill', ' ', 'in', ' ', 'this', ' ', 'form.', '\\r'], ['(©)', ' ', 'How', ' ', 'do', ' ', 'you', ' ', '(or', ' ', 'would', ' ', 'you)', ' ', 'Wa', ' ', 'lkouiasssesescsscstsccsees', ' ', 'ees', ' ', 'on', ' ', '1', ' ', 'get', ' ', 'there', ' ', '?', ' ', 'Special', ' ', 'bus', ' ', 'or', ' ', 'car', ' ', 'provided', '\\r'], ['VI.', ' ', 'HOSPITAL', ' ', 'AND', ' ', 'NURSING', ' ', 'HOME', ' ', 'IN-PATIENT', ' ', 'TREATMENT', '\\r'], ['Uf', ' ', 'Unemployed,', ' ', 'ill,', ' ', 'dead,', ' ', 'etc.,', ' ', 'this', ' ', 'information', ' ', 'should', ' ', 'relate', ' ', 'to', ' ', 'the', '\\r'], ['Among', ' ', 'the', ' ', 'worst..', ' ', 'No', ' ', 'answer....', '\\r'], ['(b)', ' ', 'How', ' ', 'long', ' ', 'does', ' ', 'it', ' ', '(or', ' ', 'would', ' ', 'iwet', ' ', '.', ' ', 'minutes', ' ', 'it)', ' ', 'take', ' ', 'you', ' ', 'to', ' ', 'get', ' ', 'to', ' ', 'the', ' ', '=', ' ', 'No', ' ', 'answer...', ' ', 'XX', ' ', 'Welfare', ' ', 'Centre?', '\\r'], ['TYPE', ' ', 'OF', ' ', 'AGE', ' ', 'OF', ' ', 'THIS', ' ', 'CHILD', ' ', 'AT', ' ', ':', ' ', 'NURSERY,', ' ', 'ETC.', ' ', '|°', ' ', 's', ' ', 'Hours', ' ', 'yey', ' ', '(Put', ' ', 'code', ' ', 'given', ' ', 'in', ' ', 'First', ' ', 'Ceasing', ' ', 'to', ' ', 'Nusa', ' ', 'ie', ' ', 'Question', ' ', '17', ' ', 'above)]', ' ', 'attending', ' ', 'attend', ' ', 'eRe', ' ', 'XI.', ' ', 'THE', ' ', 'MOTHER', ' ', '18.', ' ', 'Who', ' ', 'helps', ' ', 'you', ' ', 'with', ' ', 'the', ' ', 'care', ' ', 'of', ' ', 'this', ' ', 'child', ' ', 'and', ' ', 'with', ' ', 'the', ' ', 'housework?', ' ', '|', ' ', '|Grand-{', ' ', '0}', ' ', 'aily', ' ', '*', ' ', 'us.', ' ', '|', ' ', 'Ofer', ' ', '|Sarents|', ' ', 'rela:', ' ', '|', ' ', 'help,', ' ', '|Trainedl', ' ', 'NOt,', ' ', '|', ' ', 'No', ' ', 'band', ' ', 'or', ' ', 'tions', ' ', 'or|', ' ', 'char', ' ', 'or|', ' ', 'Nannie|', ' ', 'MT', ' ', 'Answer', ' ', 'ren', ' ', '|', ' ', 'in-laws', ' ', '|', ' ', 'friends', ' ', \"|dom'\", ' ', 'tic', ' ', 'ee', ' ', '‘hild', ' ', '|', ' ', 'HS50', ' ', 'J@egular', ' ', 'help)|...1...)...', ' ', 'Deer', ' ', 'eles', ' ', '|ne', ' ', 'Amelee', ' ', 'Sites', ' ', 'Glee', ' ', 'Ore.', ' ', 'veonxones', ' ', 'Child', ' ', '(occa-', ' ', '|', ' ', '|', ' ', '|', ' ', 'aoe', ' ', 'ional', ' ', 'help))...', ' ', '1', ' ', '...|.-.', ' ', 'D', ' ', 'ceilien', ' ', 'Bleedlee', ' ', '4', ' ', 'orelere', ' ', 'Sie', ' ', 'Ol', ' ', 'otss', ' ', '06+]:', ' ', 'Xr', ' ', 'OH', ' ', 'CO', ' ', '&', ' ', 'Hous:', ' ', 'work', ' ', '|', ' ', '(regular', ' ', 'help)|...', ' ', '1', ' ', '...|--.', ' ', '2', ' ', '-.-|...', ' ', 'Bi', ' ', 'iielece', ' ', 'Avrec|ors', ' ', 'eee', ' ', 'RHH5O', ' ', 'Oe', ' ', 'a7', ' ', 'Houssyor', ' ', '|', ' ', '|', ' ', 'occasional', ' ', '|', ' ', 'help)', ' ', 'eee', ' ', 'leon', ' ', 'Dee', ' ', 'Bice', ' ', 'Aes', ' ', 'Sala', ' ', 'Gael', ' ', 'One', ' ', 'x...', ' ', 'CHHS0', ' ', '19.', ' ', 'Have', ' ', 'you', ' ', 'been', ' ', 'in', ' ', 'paid', ' ', 'work', ' ', 'Yes', ' ', 'ales', ' ', 'eas', ' ', 'sVonisjal', ' ', 'sretelou', ' ', 'stoner', ' ', '(either', ' ', 'inside', ' ', 'or', ' ', 'outside', ' ', 'the', ' ', 'Noone', ' ', 'ee', ' ', 'ee', ' ', 'home)', ' ', 'since', ' ', 'the', ' ', 'birth', ' ', 'of', ' ', 'this', ' ', 'N', ' ', 'x', ' ', ')', ' ', 'child', ' ', 'in', ' ', '19462', ' ', 'WK50', ' ', 'from', ' ', 'Wotkig', ' ', '‘Mothers', ' ', 'If', ' ', '‘Yes,’', ' ', 'please', ' ', 'give', ' ', 'the', ' ', 'following', ' ', 'details', ' ', 'of', ' ', 'each', ' ', 'period', ' ', 'of', ' ', 'employment.', ' ', ')', ' ', 'Cee.', ' ', 'series:', ' ', 'Be', ' ', 'eS', ' ', 'OI', ' ', 'eh', ' ', 'er', ' ', 'ee', ' ', 'er', ' ', ':', ' ', 'Approx.', ' ', 'hrs.}', ' ', 'Date', ' ', 'of', ' ', 'Date', ' ', 'of', ' ', ')', ' ', 'Exact', ' ', 'nature', ' ', 'of', ' ', 'work', ' ', 'per', ' ', 'week', ' ', 'taking', ' ', 'job', ' ', '|', ' ', 'leaving', ' ', 'job', ' ', ')', ' ', 'WKT50', ' ', 'WKH50', ' ', ')', ' ', '20.', ' ', 'Have', ' ', 'you', ' ', 'been', ' ', 'pregnant', ' ', 'since', ' ', 'NES', ' ', 'taceeiet.', ' ', 'cin', ' ', 'irceemeen.', ' ', '|', ' ', '1946?', ' ', '(i.e.', ' ', 'AFTER', ' ', 'the', ' ', 'birth', ' ', 'No', ' ', '.....,...', ' ', '4', ' ', 'of', ' ', 'this', ' ', 'child).', ' ', 'Sa)', ' ', 'Nia', ' ', 'No', ' ', 'answer..............X', '\\r'], ['Please', ' ', 'sonrxpare', ' ', '(f)', ' ', 'the', ' ', 'cleanliness', ' ', 'of', ' ', 'this', ' ', 'child', ' ', 'and', ' ', '(g)', ' ', 'the', ' ', 'clean-', ' ', 'liness', ' ', 'Of', ' ', 'this', ' ', 'home', ' ', 'with', ' ', 'the', ' ', 'standard', ' ', 'of', ' ', 'others', ' ', 'in', ' ', 'your', ' ', 'care.', '\\r'], ['(d)', ' ', 'If', ' ', 'your', ' ', 'husband’s', ' ', 'work', ' ', 'regularly', ' ', 'keeps', ' ', 'him', ' ', 'away', ' ', 'from', ' ', 'home', ' ', 'for', ' ', '24', ' ', 'hours', ' ', 'or', ' ', 'more', ' ', 'at', ' ', 'a', ' ', 'time,', ' ', 'please', ' ', 'give', ' ', 'details', '\\r'], ['16.', ' ', '(a)', ' ', 'When', ' ', 'did', ' ', 'you', ' ', 'last', ' ', 'take', ' ', 'this', ' ', 'MONCH', ' ', 'sree', ' ', 'seeossacenncs', ' ', 'sess', ' ', 'Ores.', '\\r'], [':', ' ', 'GP50', ' ', 'X.', ' ', 'NURSERIES,', ' ', 'ETC.', ' ', 'Sethe', ' ', 'oes', ' ', 'this', ' ', 'child', ' ', 'ever', ' ', 'been', ' ', 'to', ' ', 'By', ' ', 'Day', ' ', 'arserore', ' ', 'OSES)', ' ', 'Residential', ' ', 'Nursery........-', ' ', 'oh', ' ', '=', ' ', 'actory', ' ', 'ED)', ' ', 'Daily', ' ', 'Minder', ' ', '(Registered', ' ', 'a', ' ', 'ee', ' ', '3', ' ', 'With', ' ', 'IAD,', ' ', 'eee', ' ', '8', ' ', 'Nursery', ' ', 'School', ' ', 'L.A.', ' ', '4', ' ', 'Other,', ' ', 'namely', ' ', '.', ' ', 'onty{', ' ', 'Private', ' ', '5', ' ', 'None', ' ', 'of', ' ', 'these', ' ', '.', ' ', 'Nursery', ' ', 'Class', ' ', 'iG', ' ', 'No', ' ', 'answer', ' ', '.......', '\\r'], ['11.', ' ', 'Does', ' ', 'this', ' ', 'child', ' ', 'sleep', ' ', 'in', ' ', 'a', ' ', 'room', ' ', 'Byshimself-o.', ' ', 'seasssevsstareasess', ' ', '1', ' ', 'by', ' ', 'himself', ' ', 'or', ' ', 'in', ' ', 'a', ' ', 'room', ' ', 'with', ' ', 'With', ' ', 'others', ' ', 'others?', ' ', 'Z', ' ', 'No', ' ', 'answer', ' ', '(Uf', ' ', '“', ' ', 'with', ' ', 'others”)', ' ', '(a)', ' ', 'Who', ' ', 'sleeps', ' ', 'in', ' ', 'his', ' ', 'room?', ' ', '|', ' ', 'parents', ' ', '_', '\\r'], ['CARE', ' ', 'OF', ' ', 'CHILD', ' ', 'AND', ' ', 'HOME', ' ', '26.', ' ', '(a)', ' ', 'Do', ' ', 'you', ' ', 'know', ' ', 'this', ' ', 'family', ' ', 'as', ' ', 'well', ' ', 'as', ' ', 'or', ' ', 'less', ' ', 'well', ' ', 'than', ' ', 'the', ' ', 'majority', ' ', 'of', ' ', 'other', ' ', 'fam-', ' ', 'ilies', ' ', 'in', ' ', 'your', ' ', 'care?', ' ', 'KNOH', '\\r'], ['(c)', ' ', 'Do', ' ', 'you', ' ', 'give', ' ', 'him', ' ', 'food', ' ', 'SCSI', ' ', 'caenaconodcsccboqnod\\\\iodeorodea', ' ', '1', ' ', '?', '\\r'], ['(i.e.', ' ', 'running', ' ', 'or', ' ', 'blocked', ' ', 'nose', ' ', 'even', ' ', 'if', ' ', 'there', ' ', 'is', ' ', 'no', ' ', 'other', ' ', 'complication.)', '\\r'], ['Ps', ' ', 'Others', ' ', '(includ-', ' ', 'This', ' ', 'Motker’s', ' ', '|', ' ', 'ing', ' ', 'step', ' ', 'and', ' ', 'own', ' ', 'children,', ' ', '|adopted', ' ', 'children', ' ', 'seif', ' ', 'and', ' ', 'other', ' ', 'relations,|', ' ', '2OTAL', ' ', 'husband', ' ', 'lodgers,', ' ', 'domestics)', ' ', 'Not—_frum', ' ', 'nere', ' ', 'Less', ' ', 'than', ' ', '5', ' ', 'years', ' ', 'INF50)', ' ', '|', ' ', 'INFB50', ' ', 'INFA5O', ' ', 'Syears', ' ', 'tol4.', ' ', '|.', ' ', 'J', ' ', 'FAMBO', ' ', 'years', ' ', '11', ' ', 'months', ' ', 'FP', ' ', 'HSO', ' ', 'CHB50', ' ', '|', ' ', 'CHA5SO', ' ', '{5', ' ', 'years', ' ', 'and', ' ', 'over', ' ', 'TOTAL', ' ', 'IN', ' ', 'HOUS50', ' ', 'HOUSEHOLD', ' ', 'FAT50', ' ', 'OTH50', '\\r'], ['27.', ' ', 'Please', ' ', 'give', ' ', 'details', ' ', 'of', ' ', 'any', ' ', 'special', ' ', 'lack', ' ', 'of', ' ', 'facilities', ' ', 'in', ' ', 'this', ' ', 'dwelling', ' ', 'which', ' ', 'makes', ' ', 'it', ' ', 'difficult', ' ', 'for', ' ', 'this', ' ', 'Mother', ' ', 'to', ' ', 'bring', ' ', 'up', ' ', 'her', ' ', 'child', ' ', 'or', ' ', 'manage', ' ', 'her', ' ', 'home.', '\\r'], ['HBE', ' ', '—', ' ', '1st', ' ', 'Admission', ' ', 'only', ' ', '(a)', ' ', 'Have', ' ', 'you', ' ', 'noticed', ' ', 'any', ' ', 'differences', ' ', 'in', ' ', 'the', ' ', 'behaviour', ' ', 'of', ' ', 'your', ' ', 'child', ' ', 'since', ' ', 'he', ' ', 'came', ' ', 'back', ' ', 'home', ' ', '?', ' ', 'If', ' ', 'so,', ' ', 'please', ' ', 'give', ' ', 'details', '\\r'], ['‘', ' ', 'Among', ' ', '|', ' ', 'Among', ' ', 'e', ' ', 'Average', ' ', '‘he', ' ', 'moet', ' ', 'gest', ' ', 'Miswer', ' ', 'CLC50}', ' ', '(f)', ' ', 'Cleanliness', ' ', 'of', ' ', 'child', ' ', '1', ' ', '2', ' ', '3', ' ', 'X', ' ', 'CLH5O}', ' ', '(g)', ' ', 'Cieant’ness', ' ', 'of', ' ', 'home', ' ', '1', ' ', 'an', ' ', '2', ' ', '3', ' ', 'x', '\\r'], ['CS1.', ' ', ' ', 'As', ' ', 'crianças', ' ', 'faltarem', ' ', 'na', ' ', 'escola', ' ', 'e', ' ', 'ficarem', ' ', 'brincando', ' ', 'na', ' ', 'rua?', '\\r'], ['CS3.', ' ', ' ', 'Se', ' ', 'as', ' ', 'crianças', ' ', 'estiverem', ' ', 'sendo', ' ', 'mal', ' ', 'educadas', ' ', 'com', ' ', 'um', ' ', 'adulto?', '\\r'], ['CS4.', ' ', ' ', 'Se', ' ', 'acontecer', ' ', 'uma', ' ', 'briga', ' ', 'em', ' ', 'frente', ' ', 'a', ' ', 'sua', ' ', 'casa?', '\\r'], ['Seus', ' ', 'vizinhos', ' ', 'tomariam', ' ', 'alguma', ' ', 'atitude', ' ', 'se...', '\\r'], ['CS5.', ' ', ' ', 'Se', ' ', 'houver', ' ', 'diminuição', ' ', 'do', ' ', 'número', ' ', 'de', ' ', 'postos', ' ', 'de', ' ', 'saúde', ' ', 'ou', ' ', 'outros', ' ', 'serviços', ' ', 'essenciais', ' ', 'no', ' ', 'bairro?', '\\r'], ['CS2.', ' ', ' ', 'Se', ' ', 'as', ' ', 'crianças', ' ', 'estiverem', ' ', 'pichando', ' ', 'um', ' ', 'muro', ' ', 'do', ' ', 'bairro?', '\\r'], [], ['experimentou', ' ', 'alguma', ' ', 'dessas', ' ', 'coisas?', '\\r'], ['você', ' ', 'teve', ' ', 'relação', ' ', 'pela', ' ', 'primeira', ' ', 'vez?', '\\r'], ['pais', ' ', 'e', ' ', 'familiares),', ' ', 'com', ' ', 'palavras', ' ', 'como', '\\r'], ['Q12.', ' ', 'E', ' ', 'você,', ' ', 'ALGUMA', ' ', 'VEZ', ' ', 'NA', ' ', 'VIDA', ' ', 'já', ' ', '\\r'], ['experimentou', ' ', 'alguma', ' ', 'dessas', ' ', 'coisas?', ' ', '\\r'], ['Cola', ' ', 'de', ' ', 'sapateiro', ' ', '\\r'], ['Solvente', ' ', 'ou', ' ', 'tiner', ' ', '\\r'], ['Cocaína', ' ', '\\r'], ['Maconha', ' ', '\\r'], ['Crack', ' ', '\\r'], ['Ecstasy', ' ', '(MDMA,', ' ', '“bala”)', ' ', '\\r'], ['Ácido', ' ', 'ou', ' ', 'LSD', ' ', '(“doce”)', ' ', '\\r'], ['Anfetamina', ' ', '(“speed”)', ' ', '\\r'], ['Esteróides', ' ', '(anabolizantes', ' ', 'ou', ' ', '“bomba”)', ' ', '\\r'], ['Remédios', ' ', 'para', ' ', 'dar', ' ', 'algum', ' ', '“barato”?', ' ', '\\r'], ['Outra', ' ', 'coisa?', ' ', '__________________', ' ', '\\r'], [' ', '\\r'], [' ', '\\r'], ['(', ' ', ' ', ' ', ')', ' ', '1', ' ', 'Sim', ' ', ' ', ' ', ' ', ' ', '(', ' ', ' ', ' ', ')', ' ', '2', ' ', 'Não', ' ', '\\r'], ['(', ' ', ' ', ' ', ')', ' ', '1', ' ', 'Sim', ' ', ' ', ' ', ' ', ' ', '(', ' ', ' ', ' ', ')', ' ', '2', ' ', 'Não', ' ', '\\r'], ['(', ' ', ' ', ' ', ')', ' ', '1', ' ', 'Sim', ' ', ' ', ' ', ' ', ' ', '(', ' ', ' ', ' ', ')', ' ', '2', ' ', 'Não', ' ', '\\r'], ['(', ' ', ' ', ' ', ')', ' ', '1', ' ', 'Sim', ' ', ' ', ' ', ' ', ' ', '(', ' ', ' ', ' ', ')', ' ', '2', ' ', 'Não', ' ', '\\r'], ['(', ' ', ' ', ' ', ')', ' ', '1', ' ', 'Sim', ' ', ' ', ' ', ' ', ' ', '(', ' ', ' ', ' ', ')', ' ', '2', ' ', 'Não', ' ', '\\r'], ['(', ' ', ' ', ' ', ')', ' ', '1', ' ', 'Sim', ' ', ' ', ' ', ' ', ' ', '(', ' ', ' ', ' ', ')', ' ', '2', ' ', 'Não', ' ', '\\r'], ['(', ' ', ' ', ' ', ')', ' ', '1', ' ', 'Sim', ' ', ' ', ' ', ' ', ' ', '(', ' ', ' ', ' ', ')', ' ', '2', ' ', 'Não', ' ', '\\r'], ['(', ' ', ' ', ' ', ')', ' ', '1', ' ', 'Sim', ' ', ' ', ' ', ' ', ' ', '(', ' ', ' ', ' ', ')', ' ', '2', ' ', 'Não', ' ', '\\r'], ['(', ' ', ' ', ' ', ')', ' ', '1', ' ', 'Sim', ' ', ' ', ' ', ' ', ' ', '(', ' ', ' ', ' ', ')', ' ', '2', ' ', 'Não', ' ', '\\r'], ['(', ' ', ' ', ' ', ')', ' ', '1', ' ', 'Sim', ' ', ' ', ' ', ' ', ' ', '(', ' ', ' ', ' ', ')', ' ', '2', ' ', 'Não', ' ', '\\r'], ['(', ' ', ' ', ' ', ')', ' ', '1', ' ', 'Sim', ' ', ' ', ' ', ' ', ' ', '(', ' ', ' ', ' ', ')', ' ', '2', ' ', 'Não', '\\r'], ['Q10.', ' ', 'SE', ' ', 'SIM,', ' ', 'com', ' ', 'que', ' ', 'frequência', ' ', 'você', ' ', 'fumou', '\\r'], ['aconteceu', ' ', 'pela', ' ', 'primeira', ' ', 'vez?', '\\r'], ['Q17.', ' ', 'NOS', ' ', 'ÚLTIMOS', ' ', '3', ' ', 'ANOS,', ' ', 'aconteceu', ' ', '\\r'], ['de', ' ', 'você', ' ', 'não', ' ', 'ter', ' ', 'o', ' ', 'que', ' ', 'comer', ' ', 'dentro', ' ', 'de', ' ', '\\r'], ['casa', ' ', 'ou', ' ', 'de', ' ', 'ter', ' ', 'que', ' ', 'vestir', ' ', 'roupas', ' ', 'sujas', ' ', 'ou', ' ', '\\r'], ['rasgadas?', '\\r'], ['Q35.', ' ', 'Por', ' ', 'favor,', ' ', 'marque', ' ', 'com', ' ', 'um', ' ', 'X', ' ', 'no', ' ', 'número', ' ', 'do', ' ', 'quadrinho', ' ', 'abaixo', ' ', 'que', ' ', 'mais', ' ', 'se', ' ', 'parece', ' ', 'contigo', ' ', 'agora:', '\\r'], ['machucado', ' ', 'ou', ' ', 'com', ' ', 'marcas', ' ', 'pelo', ' ', 'corpo?', '\\r'], ['Q32.', ' ', 'Alguma', ' ', 'menina', ' ', 'que', ' ', 'você', ' ', 'engravidou', ' ', 'fez', '\\r'], ['Q18.', ' ', 'NOS', ' ', 'ÚLTIMOS', ' ', '3', ' ', 'ANOS,', ' ', 'você', ' ', 'foi', '\\r'], ['bebida', ' ', 'de', ' ', 'álcool', ' ', 'nos', ' ', 'ÚLTIMOS', ' ', '12', ' ', 'MESES?', '\\r'], ['aborto?', '\\r'], ['Q25.', ' ', 'Você', ' ', 'já', ' ', 'engravidou?', '\\r'], ['Remédios', ' ', 'para', ' ', 'dar', ' ', 'algum', ' ', '“barato”?', '\\r'], ['AS', ' ', 'PRÓXIMAS', ' ', 'PERGUNTAS', ' ', 'SÃO', ' ', 'SOBRE', ' ', 'RELAÇÕES', ' ', 'SEXUAIS', ' ', 'Q15.', ' ', 'Você', ' ', 'já', ' ', 'teve', ' ', 'alguma', ' ', 'relação', ' ', 'sexual', ' ', '(você', ' ', 'já', '\\r'], ['SÓ', ' ', 'RESPONDA', ' ', 'AS', ' ', 'QUESTÕES', ' ', 'DESTA', ' ', 'PÁGINA', ' ', 'SE', ' ', 'VOCÊ', ' ', 'FOR', ' ', 'MENINA', ' ', 'Q23.', ' ', 'Você', ' ', 'já', ' ', 'menstruou?', ' ', ' ', '(', ' ', ' ', ' ', ')', ' ', '1', ' ', 'Sim', ' ', ' ', ' ', ' ', ' ', ' ', ' ', '(', ' ', ' ', ' ', ')', ' ', '2', ' ', 'Não', '\\r'], ['Q29.', ' ', 'Por', ' ', 'favor,', ' ', 'marque', ' ', 'com', ' ', 'um', ' ', 'X', ' ', 'no', ' ', 'número', ' ', 'do', ' ', 'quadrinho', ' ', 'abaixo', ' ', 'que', ' ', 'mais', ' ', 'se', ' ', 'parece', ' ', 'contigo', ' ', 'agora:', '\\r'], ['Q21.', ' ', 'NOS', ' ', 'ÚLTIMOS', ' ', '3', ' ', 'ANOS,', ' ', 'aconteceu', '\\r'], ['ou', ' ', 'no', ' ', 'trabalho)?', '\\r'], ['Q24.', ' ', 'SE', ' ', 'VOCÊ', ' ', 'JÁ', ' ', 'MENSTRUOU,', ' ', 'com', ' ', 'que', ' ', 'idade', '\\r'], ['Q33.', ' ', 'Quantos', ' ', 'filhos', ' ', 'vivos', ' ', 'você', ' ', 'tem?', '\\r'], ['transou?)', '\\r'], ['casa', ' ', 'ou', ' ', 'de', ' ', 'ter', ' ', 'que', ' ', 'vestir', ' ', 'roupas', ' ', 'sujas', ' ', 'ou', '\\r'], ['AS', ' ', 'PRIMEIRAS', ' ', 'PERGUNTAS', ' ', 'SÃO', ' ', 'SOBRE', ' ', 'ÁLCOOL', ' ', 'Q1.', ' ', 'ALGUMA', ' ', 'VEZ', ' ', 'NA', ' ', 'VIDA,', ' ', 'você', ' ', 'já', ' ', 'tomou', '\\r'], ['Q18.', ' ', 'NOS', ' ', 'ÚLTIMOS', ' ', '3', ' ', 'ANOS,', ' ', 'você', ' ', 'foi', ' ', '\\r'], ['xingado', ' ', 'por', ' ', 'algum', ' ', 'adulto', ' ', '(incluindo', ' ', 'seus', ' ', '\\r'], ['pais', ' ', 'e', ' ', 'familiares),', ' ', 'com', ' ', 'palavras', ' ', 'como', ' ', '\\r'], ['burro(a),', ' ', 'idiota(a),', ' ', 'estúpido(a)?', '\\r'], ['Q7.', ' ', 'ALGUMA', ' ', 'VEZ', ' ', 'NA', ' ', 'VIDA,', ' ', 'você', ' ', 'já', ' ', 'fumou', ' ', '\\r'], ['cigarro,', ' ', 'charuto', ' ', 'ou', ' ', 'mascou', ' ', 'fumo?', '\\r'], ['Q16.', ' ', 'SE', ' ', 'VOCÊ', ' ', 'JÁ', ' ', 'TRANSOU,', ' ', 'com', ' ', 'que', ' ', 'idade', '\\r'], ['CONF.', ' ', 'RESPONDEU', ' ', 'CONFIDENCIAL?', '\\r'], ['Se', ' ', 'você', ' ', 'tiver', ' ', 'alguma', ' ', 'dúvida,', ' ', 'chame', ' ', 'a', ' ', 'psicóloga.', ' ', 'Ela', ' ', 'irá', ' ', 'ajudar', ' ', 'você', ' ', 'sem', ' ', 'olhar', ' ', 'as', ' ', 'suas', ' ', 'respostas.', '\\r'], ['você', ' ', '(com', ' ', 'seus', ' ', 'pais,', ' ', 'com', ' ', 'seus', ' ', 'amigos,', ' ', 'na', ' ', 'escola', '\\r'], ['experimentou', ' ', 'pela', ' ', 'primeira', ' ', 'vez?', '\\r'], ['Q14.', ' ', 'SE', ' ', 'SIM,', ' ', 'o', ' ', 'uso', ' ', 'dessa(s)', ' ', 'substância(s)', ' ', 'tem', ' ', '\\r'], ['causado', ' ', 'problemas', ' ', 'para', ' ', 'você', ' ', '(com', ' ', 'seus', ' ', 'pais,', ' ', '\\r'], ['com', ' ', 'seus', ' ', 'amigos,', ' ', 'na', ' ', 'escola', ' ', 'ou', ' ', 'no', ' ', 'trabalho)?', ' ', '\\r'], ['(', ' ', ' ', ' ', ')', ' ', '1', ' ', 'Sim', ' ', '\\r'], ['(', ' ', ' ', ' ', ')', ' ', '2', ' ', 'Não', ' ', '\\r'], ['(', ' ', ' ', ' ', ')', ' ', '99', ' ', 'Não', ' ', 'se', ' ', 'aplica', ' ', '(não', ' ', 'usei', ' ', 'nenhuma', ' ', 'substância)', '\\r'], ['Q30.', ' ', 'Por', ' ', 'favor,', ' ', 'marque', ' ', 'com', ' ', 'um', ' ', 'X', ' ', 'no', ' ', 'número', ' ', 'do', ' ', 'quadrinho', ' ', 'abaixo', ' ', 'que', ' ', 'mais', ' ', 'se', ' ', 'parece', ' ', 'contigo', ' ', 'agora:', '\\r'], ['Q21.', ' ', 'NOS', ' ', 'ÚLTIMOS', ' ', '3', ' ', 'ANOS,', ' ', 'aconteceu', ' ', '\\r'], ['de', ' ', 'terem', ' ', 'feitos', ' ', 'coisas', ' ', 'sexuais', ' ', 'com', ' ', 'você', ' ', '\\r'], ['ou', ' ', 'de', ' ', 'ameaçarem', ' ', 'bater', ' ', 'ou', ' ', 'algo', ' ', 'do', ' ', 'tipo', ' ', 'se', ' ', '\\r'], ['você', ' ', 'não', ' ', 'fizesse', ' ', 'coisas', ' ', 'sexuais?', '\\r'], ['pela', ' ', 'primeira', ' ', 'vez?', '\\r'], ['de', ' ', 'você', ' ', 'não', ' ', 'ter', ' ', 'o', ' ', 'que', ' ', 'comer', ' ', 'dentro', ' ', 'de', '\\r'], ['Q28.', ' ', 'Quantos', ' ', 'filhos', ' ', 'vivos', ' ', 'você', ' ', 'tem?', '\\r'], ['Bebida', ' ', 'de', ' ', 'álcool', '\\r'], ['ÁLCOOL', ' ', 'CIGARRO', ' ', 'E', ' ', 'SUBSTÂNCIAS', ' ', 'RELAÇÕES', ' ', 'SEXUAIS', ' ', 'TRAUMA', ' ', 'NOS', ' ', 'ÚLTIMOS', ' ', '3', ' ', 'ANOS', ' ', 'MENINA', ' ', 'MENINO', '\\r'], ['palavras', ' ', 'o', ' ', 'que', ' ', 'aconteceu.', '\\r'], ['Q23.', ' ', 'Você', ' ', 'já', ' ', 'menstruou?', '\\r'], ['Q3.', ' ', 'SE', ' ', 'SIM,', ' ', 'você', ' ', 'tomou', ' ', 'bebida', ' ', 'de', ' ', 'álcool', ' ', 'NOS', '\\r'], ['Q22.', ' ', 'SE', ' ', 'VOCÊ', ' ', 'RESPONDEU', ' ', 'SIM', '\\r'], ['ou', ' ', 'de', ' ', 'ameaçarem', ' ', 'bater', ' ', 'ou', ' ', 'algo', ' ', 'do', ' ', 'tipo', ' ', 'se', '\\r'], ['cigarro', ' ', 'NOS', ' ', 'ÚLTIMOS', ' ', '12', ' ', 'MESES?', '\\r'], ['usam', ' ', 'alguma', ' ', 'dessas', ' ', 'coisas?', '\\r'], ['apanhou', ' ', 'seriamente', ' ', 'de', ' ', 'um', ' ', 'adulto', ' ', 'dentro', '\\r'], ['burro(a),', ' ', 'idiota(a),', ' ', 'estúpido(a)?', '\\r'], ['Q11.', ' ', 'Os', ' ', 'seus', ' ', 'AMIGOS', ' ', 'ou', ' ', 'alguém', ' ', 'da', ' ', 'sua', ' ', 'turma', '\\r'], ['alguma', ' ', 'dessas', ' ', 'coisas?', '\\r'], ['Q9.', ' ', 'SE', ' ', 'SIM,', ' ', 'você', ' ', 'fumou', ' ', 'cigarro', ' ', 'alguma', ' ', 'vez', ' ', 'NOS', ' ', '\\r'], ['ÚLTIMOS', ' ', '12', ' ', 'MESES?', '\\r'], ['Q5.', ' ', 'SE', ' ', 'SIM,', ' ', 'com', ' ', 'que', ' ', 'frequência', ' ', 'você', ' ', 'tomou', ' ', 'um', ' ', '\\r'], ['porre', ' ', 'ou', ' ', 'ficou', ' ', 'bêbedo', ' ', 'nos', ' ', 'ÚLTIMOS', ' ', '12', ' ', 'MESES?', '\\r'], ['xingado', ' ', 'por', ' ', 'algum', ' ', 'adulto', ' ', '(incluindo', ' ', 'seus', '\\r'], ['Q6.', ' ', 'SE', ' ', 'SIM,', ' ', 'beber', ' ', 'tem', ' ', 'causado', ' ', 'problemas', ' ', 'para', '\\r'], ['Q8.', ' ', 'SE', ' ', 'SIM,', ' ', 'que', ' ', 'IDADE', ' ', 'você', ' ', 'tinha', ' ', 'quando', '\\r'], ['Q2.', ' ', 'SE', ' ', 'SIM,', ' ', 'que', ' ', 'IDADE', ' ', 'você', ' ', 'tinha', ' ', 'quando', ' ', 'tomou', '\\r'], ['Q27.', ' ', 'Você', ' ', 'já', ' ', 'abortou?', '\\r'], ['Q26.', ' ', 'Você', ' ', 'está', ' ', 'grávida?', '\\r'], ['Q6.', ' ', 'SE', ' ', 'SIM,', ' ', 'beber', ' ', 'tem', ' ', 'causado', ' ', 'problemas', ' ', 'para', ' ', '\\r'], ['você', ' ', '(com', ' ', 'seus', ' ', 'pais,', ' ', 'com', ' ', 'seus', ' ', 'amigos,', ' ', 'na', ' ', 'escola', ' ', '\\r'], ['ou', ' ', 'no', ' ', 'trabalho)?', '\\r'], ['Q1.', ' ', 'ALGUMA', ' ', 'VEZ', ' ', 'NA', ' ', 'VIDA,', ' ', 'você', ' ', 'já', ' ', 'tomou', ' ', '\\r'], ['alguma', ' ', 'bebida', ' ', 'de', ' ', 'álcool,', ' ', 'como', ' ', 'cerveja,', ' ', 'vinho', ' ', 'ou', ' ', '\\r'], ['vodka?', '\\r'], ['Q13.', ' ', 'NOS', ' ', 'ÚLTIMOS', ' ', '12', ' ', 'MESES,', ' ', 'você', ' ', 'usou', '\\r'], ['Q9.', ' ', 'SE', ' ', 'SIM,', ' ', 'você', ' ', 'fumou', ' ', 'cigarro', ' ', 'alguma', ' ', 'vez', ' ', 'NOS', '\\r'], ['Q20.', ' ', 'NOS', ' ', 'ÚLTIMOS', ' ', '3', ' ', 'ANOS,', ' ', 'você', ' ', '\\r'], ['apanhou', ' ', 'seriamente', ' ', 'de', ' ', 'um', ' ', 'adulto', ' ', 'dentro', ' ', '\\r'], ['de', ' ', 'casa,', ' ', 'chegando', ' ', 'a', ' ', 'deixar', ' ', 'você', ' ', '\\r'], ['machucado', ' ', 'ou', ' ', 'com', ' ', 'marcas', ' ', 'pelo', ' ', 'corpo?', '\\r'], ['de', ' ', 'terem', ' ', 'feitos', ' ', 'coisas', ' ', 'sexuais', ' ', 'com', ' ', 'você', '\\r'], ['Q10.', ' ', 'SE', ' ', 'SIM,', ' ', 'com', ' ', 'que', ' ', 'frequência', ' ', 'você', ' ', 'fumou', ' ', '\\r'], ['cigarro', ' ', 'NOS', ' ', 'ÚLTIMOS', ' ', '12', ' ', 'MESES?', '\\r'], ['vodka?', '\\r'], ['Q12.', ' ', 'E', ' ', 'você,', ' ', 'ALGUMA', ' ', 'VEZ', ' ', 'NA', ' ', 'VIDA', ' ', 'já', '\\r'], ['Q15.', ' ', 'Você', ' ', 'já', ' ', 'teve', ' ', 'alguma', ' ', 'relação', ' ', 'sexual', ' ', '(você', ' ', 'já', ' ', '\\r'], ['transou?)', ' ', '\\r'], ['(', ' ', ' ', ' ', ')', ' ', '1', ' ', 'Sim', ' ', '\\r'], ['(', ' ', ' ', ' ', ')', ' ', '2', ' ', 'Não', '\\r'], ['Q25.', ' ', 'Você', ' ', 'já', ' ', 'engravidou?', ' ', ' ', '(', ' ', ' ', ' ', ')', ' ', '1', ' ', 'Sim', ' ', ' ', ' ', ' ', ' ', ' ', ' ', '(', ' ', ' ', ' ', ')', ' ', '2', ' ', 'Não', '\\r'], ['Q16.', ' ', 'SE', ' ', 'VOCÊ', ' ', 'JÁ', ' ', 'TRANSOU,', ' ', 'com', ' ', 'que', ' ', 'idade', ' ', '\\r'], ['você', ' ', 'teve', ' ', 'relação', ' ', 'pela', ' ', 'primeira', ' ', 'vez?', ' ', '\\r'], [' ', '\\r'], ['________', ' ', 'anos', ' ', '\\r'], ['(', ' ', ' ', ' ', ')', ' ', '99', ' ', 'Não', ' ', 'se', ' ', 'aplica', ' ', '(nunca', ' ', 'transei)', '\\r'], ['Q4.', ' ', 'SE', ' ', 'SIM,', ' ', 'com', ' ', 'que', ' ', 'frequência', ' ', 'você', ' ', 'tomou', ' ', '\\r'], ['bebida', ' ', 'de', ' ', 'álcool', ' ', 'nos', ' ', 'ÚLTIMOS', ' ', '12', ' ', 'MESES?', '\\r'], ['ÚLTIMOS', ' ', '12', ' ', 'MESES?', '\\r'], ['Q4.', ' ', 'SE', ' ', 'SIM,', ' ', 'com', ' ', 'que', ' ', 'frequência', ' ', 'você', ' ', 'tomou', '\\r'], ['Q22.', ' ', 'SE', ' ', 'VOCÊ', ' ', 'RESPONDEU', ' ', 'SIM', ' ', '\\r'], ['PARA', ' ', 'QUALQUER', ' ', 'QUESTÃO', ' ', '\\r'], ['ACIMA,', ' ', 'nos', ' ', 'conte', ' ', 'com', ' ', 'as', ' ', 'suas', ' ', '\\r'], ['palavras', ' ', 'o', ' ', 'que', ' ', 'aconteceu.', '\\r'], ['Q3.', ' ', 'SE', ' ', 'SIM,', ' ', 'você', ' ', 'tomou', ' ', 'bebida', ' ', 'de', ' ', 'álcool', ' ', 'NOS', ' ', '\\r'], ['ÚLTIMOS', ' ', '12', ' ', 'MESES?', '\\r'], ['SÓ', ' ', 'RESPONDA', ' ', 'AS', ' ', 'QUESTÕES', ' ', 'DESTA', ' ', 'PÁGINA', ' ', 'SE', ' ', 'VOCÊ', ' ', 'FOR', ' ', 'MENINO', ' ', 'Q31.', ' ', 'Você', ' ', 'já', ' ', 'engravidou', ' ', 'alguma', ' ', 'menina?', ' ', ' ', '(', ' ', ' ', ' ', ')', ' ', '1', ' ', 'Sim', '\\r'], ['Q19.', ' ', 'NOS', ' ', 'ÚLTIMOS', ' ', '3', ' ', 'ANOS,', ' ', 'alguém', ' ', '\\r'], ['disse', ' ', 'a', ' ', 'você', ' ', 'que', ' ', 'você', ' ', 'não', ' ', 'servia', ' ', 'para', ' ', '\\r'], ['nada,', ' ', 'gritando', ' ', 'ou', ' ', 'berrando', ' ', 'com', ' ', 'você?', '\\r'], ['Outra', ' ', 'coisa?', ' ', '__________________', '\\r'], ['causado', ' ', 'problemas', ' ', 'para', ' ', 'você', ' ', '(com', ' ', 'seus', ' ', 'pais,', '\\r'], ['Q5.', ' ', 'SE', ' ', 'SIM,', ' ', 'com', ' ', 'que', ' ', 'frequência', ' ', 'você', ' ', 'tomou', ' ', 'um', '\\r'], ['AS', ' ', 'PRÓXIMAS', ' ', 'PERGUNTAS', ' ', 'SÃO', ' ', 'SOBRE', ' ', 'CIGARRO', ' ', 'E', ' ', 'SUBSTÂNCIAS', ' ', 'Q7.', ' ', 'ALGUMA', ' ', 'VEZ', ' ', 'NA', ' ', 'VIDA,', ' ', 'você', ' ', 'já', ' ', 'fumou', '\\r'], ['você', ' ', 'não', ' ', 'fizesse', ' ', 'coisas', ' ', 'sexuais?', '\\r'], ['cigarro,', ' ', 'charuto', ' ', 'ou', ' ', 'mascou', ' ', 'fumo?', '\\r'], ['com', ' ', 'seus', ' ', 'amigos,', ' ', 'na', ' ', 'escola', ' ', 'ou', ' ', 'no', ' ', 'trabalho)?', '\\r'], ['Q28.', ' ', 'Quantos', ' ', 'filhos', ' ', 'vivos', ' ', 'você', ' ', 'tem?', ' ', '_______', ' ', 'filhos', '\\r'], ['Q11.', ' ', 'Os', ' ', 'seus', ' ', 'AMIGOS', ' ', 'ou', ' ', 'alguém', ' ', 'da', ' ', 'sua', ' ', 'turma', ' ', '\\r'], ['usam', ' ', 'alguma', ' ', 'dessas', ' ', 'coisas?', ' ', '\\r'], ['Bebida', ' ', 'de', ' ', 'álcool', ' ', '\\r'], ['Cigarro', ' ', '\\r'], ['Cola', ' ', 'de', ' ', 'sapateiro', ' ', '\\r'], ['Solvente', ' ', 'ou', ' ', 'tiner', ' ', '\\r'], ['Cocaína', ' ', '\\r'], ['Maconha', ' ', '\\r'], ['Crack', ' ', '\\r'], ['Ecstasy', ' ', '(MDMA,', ' ', '“bala”)', ' ', '\\r'], ['Ácido', ' ', 'ou', ' ', 'LSD', ' ', '(“doce”)', ' ', '\\r'], ['Anfetamina', ' ', '(“speed”)', ' ', '\\r'], ['Esteróides', ' ', '(anabolizantes', ' ', 'ou', ' ', '“bomba”)', ' ', '\\r'], ['Remédios', ' ', 'para', ' ', 'dar', ' ', 'algum', ' ', '“barato”?', ' ', '\\r'], ['Outra', ' ', 'coisa?', ' ', '__________________', '\\r'], ['disse', ' ', 'a', ' ', 'você', ' ', 'que', ' ', 'você', ' ', 'não', ' ', 'servia', ' ', 'para', '\\r'], ['nada,', ' ', 'gritando', ' ', 'ou', ' ', 'berrando', ' ', 'com', ' ', 'você?', '\\r'], ['Q17.', ' ', 'NOS', ' ', 'ÚLTIMOS', ' ', '3', ' ', 'ANOS,', ' ', 'aconteceu', '\\r'], ['Q2.', ' ', 'SE', ' ', 'SIM,', ' ', 'que', ' ', 'IDADE', ' ', 'você', ' ', 'tinha', ' ', 'quando', ' ', 'tomou', ' ', '\\r'], ['pela', ' ', 'primeira', ' ', 'vez?', '\\r'], ['Q8.', ' ', 'SE', ' ', 'SIM,', ' ', 'que', ' ', 'IDADE', ' ', 'você', ' ', 'tinha', ' ', 'quando', ' ', '\\r'], ['experimentou', ' ', 'pela', ' ', 'primeira', ' ', 'vez?', '\\r'], ['Q20.', ' ', 'NOS', ' ', 'ÚLTIMOS', ' ', '3', ' ', 'ANOS,', ' ', 'você', '\\r'], ['porre', ' ', 'ou', ' ', 'ficou', ' ', 'bêbedo', ' ', 'nos', ' ', 'ÚLTIMOS', ' ', '12', ' ', 'MESES?', '\\r'], ['rasgadas?', '\\r'], ['resposta', ' ', 'certa', ' ', 'ou', ' ', 'errada,', ' ', 'queremos', ' ', 'apenas', ' ', 'a', ' ', 'sua', ' ', 'opinião.', '\\r'], ['Q13.', ' ', 'NOS', ' ', 'ÚLTIMOS', ' ', '12', ' ', 'MESES,', ' ', 'você', ' ', 'usou', ' ', '\\r'], ['alguma', ' ', 'dessas', ' ', 'coisas?', ' ', '\\r'], ['Cola', ' ', 'de', ' ', 'sapateiro', ' ', '\\r'], ['Solvente', ' ', 'ou', ' ', 'tiner', ' ', '\\r'], ['Cocaína', ' ', '\\r'], ['Maconha', ' ', '\\r'], ['Crack', ' ', '\\r'], ['Ecstasy', ' ', '(MDMA,', ' ', '“bala”)', ' ', '\\r'], ['Ácido', ' ', 'ou', ' ', 'LSD', ' ', '(“doce”)', ' ', '\\r'], ['Anfetamina', ' ', '(“speed”)', ' ', '\\r'], ['Esteróides', ' ', '(anabolizantes', ' ', 'ou', ' ', '“bomba”)', ' ', '\\r'], ['Remédios', ' ', 'para', ' ', 'dar', ' ', 'algum', ' ', '“barato”?', ' ', '\\r'], ['Outra', ' ', 'coisa?', ' ', '__________________', ' ', '\\r'], [' ', '\\r'], [' ', '\\r'], ['(', ' ', ' ', ' ', ')', ' ', '1', ' ', 'Sim', ' ', ' ', ' ', ' ', ' ', '(', ' ', ' ', ' ', ')', ' ', '2', ' ', 'Não', ' ', '\\r'], ['(', ' ', ' ', ' ', ')', ' ', '1', ' ', 'Sim', ' ', ' ', ' ', ' ', ' ', '(', ' ', ' ', ' ', ')', ' ', '2', ' ', 'Não', ' ', '\\r'], ['(', ' ', ' ', ' ', ')', ' ', '1', ' ', 'Sim', ' ', ' ', ' ', ' ', ' ', '(', ' ', ' ', ' ', ')', ' ', '2', ' ', 'Não', ' ', '\\r'], ['(', ' ', ' ', ' ', ')', ' ', '1', ' ', 'Sim', ' ', ' ', ' ', ' ', ' ', '(', ' ', ' ', ' ', ')', ' ', '2', ' ', 'Não', ' ', '\\r'], ['(', ' ', ' ', ' ', ')', ' ', '1', ' ', 'Sim', ' ', ' ', ' ', ' ', ' ', '(', ' ', ' ', ' ', ')', ' ', '2', ' ', 'Não', ' ', '\\r'], ['(', ' ', ' ', ' ', ')', ' ', '1', ' ', 'Sim', ' ', ' ', ' ', ' ', ' ', '(', ' ', ' ', ' ', ')', ' ', '2', ' ', 'Não', ' ', '\\r'], ['(', ' ', ' ', ' ', ')', ' ', '1', ' ', 'Sim', ' ', ' ', ' ', ' ', ' ', '(', ' ', ' ', ' ', ')', ' ', '2', ' ', 'Não', ' ', '\\r'], ['(', ' ', ' ', ' ', ')', ' ', '1', ' ', 'Sim', ' ', ' ', ' ', ' ', ' ', '(', ' ', ' ', ' ', ')', ' ', '2', ' ', 'Não', ' ', '\\r'], ['(', ' ', ' ', ' ', ')', ' ', '1', ' ', 'Sim', ' ', ' ', ' ', ' ', ' ', '(', ' ', ' ', ' ', ')', ' ', '2', ' ', 'Não', ' ', '\\r'], ['(', ' ', ' ', ' ', ')', ' ', '1', ' ', 'Sim', ' ', ' ', ' ', ' ', ' ', '(', ' ', ' ', ' ', ')', ' ', '2', ' ', 'Não', ' ', '\\r'], ['(', ' ', ' ', ' ', ')', ' ', '1', ' ', 'Sim', ' ', ' ', ' ', ' ', ' ', '(', ' ', ' ', ' ', ')', ' ', '2', ' ', 'Não', '\\r'], ['Q31.', ' ', 'Você', ' ', 'já', ' ', 'engravidou', ' ', 'alguma', ' ', 'menina?', '\\r'], ['Q32.', ' ', 'Alguma', ' ', 'menina', ' ', 'que', ' ', 'você', ' ', 'engravidou', ' ', 'fez', ' ', '\\r'], ['aborto?', '\\r'], ['Q27.', ' ', 'Você', ' ', 'já', ' ', 'abortou?', ' ', '(', ' ', ' ', ' ', ')', ' ', '1', ' ', 'Sim', ' ', ' ', ' ', ' ', ' ', ' ', ' ', ' ', '(', ' ', ' ', ' ', ')', ' ', '2', ' ', 'Não', '\\r'], ['Q26.', ' ', 'Você', ' ', 'está', ' ', 'grávida?', ' ', '(', ' ', ' ', ' ', ')', ' ', '1', ' ', 'Sim', ' ', ' ', ' ', ' ', ' ', ' ', ' ', '(', ' ', ' ', ' ', ')', ' ', '2', ' ', 'Não', '\\r'], ['Q34.', ' ', 'Por', ' ', 'favor,', ' ', 'marque', ' ', 'com', ' ', 'um', ' ', 'X', ' ', 'no', ' ', 'número', ' ', 'do', ' ', 'quadrinho', ' ', 'abaixo', ' ', 'que', ' ', 'mais', ' ', 'se', ' ', 'parece', ' ', 'contigo', ' ', 'agora:', '\\r'], ['Q24.', ' ', 'SE', ' ', 'VOCÊ', ' ', 'JÁ', ' ', 'MENSTRUOU,', ' ', 'com', ' ', 'que', ' ', 'idade', ' ', '\\r'], ['aconteceu', ' ', 'pela', ' ', 'primeira', ' ', 'vez?', '\\r'], [], ['8.', ' ', 'Moving', ' ', 'or', ' ', 'speaking', ' ', 'so', ' ', 'slowly', ' ', 'that', ' ', 'other', ' ', 'people', ' ', 'could', ' ', 'have', ' ', 'noticed?', ' ', ' ', 'Or', ' ', 'the', ' ', 'opposite', ' ', '—', ' ', 'being', ' ', 'so', ' ', 'fidgety', ' ', 'or', ' ', 'restless', ' ', 'that', ' ', 'you', ' ', 'have', ' ', 'been', ' ', 'moving', ' ', 'around', ' ', 'a', ' ', 'lot', ' ', 'more', ' ', 'than', ' ', 'usual', '\\r'], ['Over', ' ', 'the', ' ', 'last', ' ', '2', ' ', 'weeks,', ' ', 'how', ' ', 'often', ' ', 'have', ' ', 'you', ' ', 'been', ' ', 'bothered', ' ', 'by', ' ', 'any', ' ', 'of', ' ', 'the', ' ', 'following', ' ', 'problems?', ' ', '(Use', ' ', '“✔”', ' ', 'to', ' ', 'indicate', ' ', 'your', ' ', 'answer)', ' ', 'Not', ' ', 'at', ' ', 'all', '\\r'], ['3.', ' ', 'Trouble', ' ', 'falling', ' ', 'or', ' ', 'staying', ' ', 'asleep,', ' ', 'or', ' ', 'sleeping', ' ', 'too', ' ', 'much', ' ', '0', ' ', '1', ' ', '2', ' ', '3', '\\r'], ['4.', ' ', 'Feeling', ' ', 'tired', ' ', 'or', ' ', 'having', ' ', 'little', ' ', 'energy', ' ', '0', ' ', ' ', ' ', ' ', ' ', ' ', ' ', ' ', ' ', ' ', ' ', ' ', ' ', ' ', ' ', ' ', '1', ' ', ' ', ' ', ' ', ' ', ' ', ' ', ' ', ' ', ' ', ' ', ' ', ' ', ' ', ' ', ' ', '2', ' ', ' ', ' ', ' ', ' ', ' ', ' ', ' ', ' ', ' ', ' ', ' ', ' ', ' ', ' ', ' ', '3', '\\r'], ['2.', ' ', 'Feeling', ' ', 'down,', ' ', 'depressed,', ' ', 'or', ' ', 'hopeless', ' ', '0', ' ', ' ', ' ', ' ', ' ', ' ', ' ', ' ', ' ', ' ', ' ', ' ', ' ', ' ', ' ', ' ', '1', ' ', ' ', ' ', ' ', ' ', ' ', ' ', ' ', ' ', ' ', ' ', ' ', ' ', ' ', ' ', ' ', '2', ' ', ' ', ' ', ' ', ' ', ' ', ' ', ' ', ' ', ' ', ' ', ' ', ' ', ' ', ' ', ' ', '3', '\\r'], ['7.', ' ', 'Trouble', ' ', 'concentrating', ' ', 'on', ' ', 'things,', ' ', 'such', ' ', 'as', ' ', 'reading', ' ', 'the', ' ', '\\r'], ['newspaper', ' ', 'or', ' ', 'watching', ' ', 'television', ' ', '\\r'], ['0', ' ', ' ', ' ', ' ', ' ', ' ', ' ', ' ', ' ', ' ', ' ', ' ', ' ', ' ', ' ', ' ', '1', ' ', ' ', ' ', ' ', ' ', ' ', ' ', ' ', ' ', ' ', ' ', ' ', ' ', ' ', ' ', ' ', '2', ' ', ' ', ' ', ' ', ' ', ' ', ' ', ' ', ' ', ' ', ' ', ' ', ' ', ' ', ' ', ' ', '3', '\\r'], ['9.', ' ', 'Thoughts', ' ', 'that', ' ', 'you', ' ', 'would', ' ', 'be', ' ', 'better', ' ', 'off', ' ', 'dead', ' ', 'or', ' ', 'of', ' ', 'hurting', ' ', '\\r'], ['yourself', ' ', 'in', ' ', 'some', ' ', 'way', ' ', '\\r'], ['0', ' ', ' ', ' ', ' ', ' ', ' ', ' ', ' ', ' ', ' ', ' ', ' ', ' ', ' ', ' ', ' ', '1', ' ', ' ', ' ', ' ', ' ', ' ', ' ', ' ', ' ', ' ', ' ', ' ', ' ', ' ', ' ', ' ', '2', ' ', ' ', ' ', ' ', ' ', ' ', ' ', ' ', ' ', ' ', ' ', ' ', ' ', ' ', ' ', ' ', '3', '\\r'], ['9.', ' ', 'Thoughts', ' ', 'that', ' ', 'you', ' ', 'would', ' ', 'be', ' ', 'better', ' ', 'off', ' ', 'dead', ' ', 'or', ' ', 'of', ' ', 'hurting', ' ', 'yourself', ' ', 'in', ' ', 'some', ' ', 'way', ' ', '0', ' ', '1', ' ', '2', ' ', '3', '\\r'], ['1.', ' ', 'Little', ' ', 'interest', ' ', 'or', ' ', 'pleasure', ' ', 'in', ' ', 'doing', ' ', 'things', ' ', '0', ' ', ' ', ' ', ' ', ' ', ' ', ' ', ' ', ' ', ' ', ' ', ' ', ' ', ' ', ' ', ' ', '1', ' ', ' ', ' ', ' ', ' ', ' ', ' ', ' ', ' ', ' ', ' ', ' ', ' ', ' ', ' ', ' ', '2', ' ', ' ', ' ', ' ', ' ', ' ', ' ', ' ', ' ', ' ', ' ', ' ', ' ', ' ', ' ', ' ', '3', '\\r'], ['7.', ' ', 'Trouble', ' ', 'concentrating', ' ', 'on', ' ', 'things,', ' ', 'such', ' ', 'as', ' ', 'reading', ' ', 'the', ' ', 'newspaper', ' ', 'or', ' ', 'watching', ' ', 'television', ' ', '0', ' ', '1', ' ', '2', ' ', '3', '\\r'], ['6.', ' ', 'Feeling', ' ', 'bad', ' ', 'about', ' ', 'yourself', ' ', '—', ' ', 'or', ' ', 'that', ' ', 'you', ' ', 'are', ' ', 'a', ' ', 'failure', ' ', 'or', ' ', 'have', ' ', 'let', ' ', 'yourself', ' ', 'or', ' ', 'your', ' ', 'family', ' ', 'down', ' ', '0', ' ', '1', ' ', '2', ' ', '3', '\\r'], ['1.', ' ', 'Little', ' ', 'interest', ' ', 'or', ' ', 'pleasure', ' ', 'in', ' ', 'doing', ' ', 'things', ' ', '0', ' ', '1', ' ', '2', ' ', '3', '\\r'], ['2.', ' ', 'Feeling', ' ', 'down,', ' ', 'depressed,', ' ', 'or', ' ', 'hopeless', ' ', '0', ' ', '1', ' ', '2', ' ', '3', '\\r'], ['8.', ' ', 'Moving', ' ', 'or', ' ', 'speaking', ' ', 'so', ' ', 'slowly', ' ', 'that', ' ', 'other', ' ', 'people', ' ', 'could', ' ', 'have', ' ', '\\r'], ['3.', ' ', 'Trouble', ' ', 'falling', ' ', 'or', ' ', 'staying', ' ', 'asleep,', ' ', 'or', ' ', 'sleeping', ' ', 'too', ' ', 'much', ' ', '0', ' ', ' ', ' ', ' ', ' ', ' ', ' ', ' ', ' ', ' ', ' ', ' ', ' ', ' ', ' ', ' ', '1', ' ', ' ', ' ', ' ', ' ', ' ', ' ', ' ', ' ', ' ', ' ', ' ', ' ', ' ', ' ', ' ', '2', ' ', ' ', ' ', ' ', ' ', ' ', ' ', ' ', ' ', ' ', ' ', ' ', ' ', ' ', ' ', ' ', '3', '\\r'], ['6.', ' ', 'Feeling', ' ', 'bad', ' ', 'about', ' ', 'yourself', ' ', '—', ' ', 'or', ' ', 'that', ' ', 'you', ' ', 'are', ' ', 'a', ' ', 'failure', ' ', 'or', ' ', '\\r'], ['5.', ' ', 'Poor', ' ', 'appetite', ' ', 'or', ' ', 'overeating', ' ', '0', ' ', '1', ' ', '2', ' ', '3', '\\r'], ['5.', ' ', 'Poor', ' ', 'appetite', ' ', 'or', ' ', 'overeating', ' ', '0', ' ', ' ', ' ', ' ', ' ', ' ', ' ', ' ', ' ', ' ', ' ', ' ', ' ', ' ', ' ', ' ', '1', ' ', ' ', ' ', ' ', ' ', ' ', ' ', ' ', ' ', ' ', ' ', ' ', ' ', ' ', ' ', ' ', '2', ' ', ' ', ' ', ' ', ' ', ' ', ' ', ' ', ' ', ' ', ' ', ' ', ' ', ' ', ' ', ' ', '3', '\\r'], ['If', ' ', 'you', ' ', 'checked', ' ', 'off', ' ', 'any', ' ', 'problems,', ' ', 'how', ' ', 'difficult', ' ', 'have', ' ', 'these', ' ', 'problems', ' ', 'made', ' ', 'it', ' ', 'for', ' ', 'you', ' ', 'to', ' ', 'do', ' ', 'your', ' ', 'work,', ' ', 'take', ' ', 'care', ' ', 'of', ' ', 'things', ' ', 'at', ' ', 'home,', ' ', 'or', ' ', 'get', ' ', 'along', ' ', 'with', ' ', 'other', ' ', 'people?', '\\r'], ['4.', ' ', 'Feeling', ' ', 'tired', ' ', 'or', ' ', 'having', ' ', 'little', ' ', 'energy', ' ', '0', ' ', '1', ' ', '2', ' ', '3', '\\r'], [], ['7.', ' ', 'I', ' ', 'am', ' ', 'nervous', ' ', 'o', ' ', 'o', ' ', 'o', '\\r'], ['25.', ' ', ' ', ' ', 'I', ' ', 'am', ' ', 'afraid', ' ', 'to', ' ', 'be', ' ', 'alone', ' ', 'in', ' ', 'the', ' ', 'house', '\\r'], ['38.', ' ', ' ', ' ', 'When', ' ', 'I', ' ', 'get', ' ', 'frightened,', ' ', 'I', ' ', 'feel', ' ', 'dizzy', '\\r'], ['My', ' ', 'child', ' ', 'is', ' ', 'nervous', '\\r'], ['My', ' ', 'child', ' ', 'follows', ' ', 'me', ' ', 'wherever', ' ', 'I', ' ', 'go', '\\r'], ['My', ' ', 'child', ' ', 'has', ' ', 'nightmares', ' ', 'about', ' ', 'something', ' ', 'bad', ' ', 'happening', ' ', 'to', ' ', 'him/her', '\\r'], ['25.', ' ', 'My', ' ', 'child', ' ', 'is', ' ', 'afraid', ' ', 'to', ' ', 'be', ' ', 'alone', ' ', 'in', ' ', 'the', ' ', 'house', ' ', 'o', ' ', 'o', ' ', 'o', '\\r'], ['A', ' ', 'total', ' ', 'score', ' ', 'of', ' ', '≥', ' ', '25', ' ', 'may', ' ', 'indicate', ' ', 'the', ' ', 'presence', ' ', 'of', ' ', 'an', ' ', 'Anxiety', ' ', 'Disorder.', ' ', ' ', 'Scores', ' ', 'higher', ' ', 'than', ' ', '30', ' ', 'are', ' ', 'more', ' ', 'specific.', '\\r'], ['My', ' ', 'child', ' ', 'gets', ' ', 'headaches', ' ', 'when', ' ', 'he/she', ' ', 'is', ' ', 'at', ' ', 'school', '\\r'], ['28.', ' ', 'People', ' ', 'tell', ' ', 'me', ' ', 'that', ' ', 'my', ' ', 'child', ' ', 'worries', ' ', 'too', ' ', 'much', ' ', 'o', ' ', 'o', ' ', 'o', '\\r'], ['I', ' ', 'am', ' ', 'nervous', '\\r'], ['31.', ' ', 'My', ' ', 'child', ' ', 'worries', ' ', 'that', ' ', 'something', ' ', 'bad', ' ', 'might', ' ', 'happen', ' ', 'to', ' ', 'his/her', ' ', 'parents', '\\r'], ['He/she', ' ', 'gets', ' ', 'shaky', '\\r'], ['I', ' ', 'don’t', ' ', 'like', ' ', 'to', ' ', 'be', ' ', 'with', ' ', 'people', ' ', 'I', ' ', 'don’t', ' ', 'know', ' ', 'well', '\\r'], ['4.', ' ', 'My', ' ', 'child', ' ', 'gets', ' ', 'scared', ' ', 'if', ' ', 'he/she', ' ', 'sleeps', ' ', 'away', ' ', 'from', ' ', 'home', ' ', 'o', ' ', 'o', ' ', 'o', '\\r'], ['When', ' ', 'my', ' ', 'child', ' ', 'gets', ' ', 'frightened,', ' ', 'he/she', ' ', 'feels', ' ', 'like', ' ', 'passing', ' ', 'out', '\\r'], ['19.', ' ', 'He/she', ' ', 'gets', ' ', 'shaky', ' ', 'o', ' ', 'o', ' ', 'o', '\\r'], ['41.', ' ', ' ', ' ', 'My', ' ', 'child', ' ', 'is', ' ', 'shy', '\\r'], ['9.', ' ', 'People', ' ', 'tell', ' ', 'me', ' ', 'that', ' ', 'my', ' ', 'child', ' ', 'looks', ' ', 'nervous', ' ', 'o', ' ', 'o', ' ', 'o', '\\r'], ['My', ' ', 'child', ' ', 'worries', ' ', 'about', ' ', 'going', ' ', 'to', ' ', 'school', '\\r'], ['16.', ' ', 'My', ' ', 'child', ' ', 'has', ' ', 'nightmares', ' ', 'about', ' ', 'something', ' ', 'bad', ' ', 'happening', ' ', 'to', ' ', 'his/her', ' ', 'parents', '\\r'], ['1', ' ', 'Somewhat', '\\r'], ['14.', ' ', 'My', ' ', 'child', ' ', 'worries', ' ', 'about', ' ', 'being', ' ', 'as', ' ', 'good', ' ', 'as', ' ', 'other', ' ', 'kids', ' ', 'o', ' ', 'o', ' ', 'o', '\\r'], ['A', ' ', 'score', ' ', 'of', ' ', '5', ' ', 'for', ' ', 'items', ' ', '4,', ' ', '8,', ' ', '13,', ' ', '16,', ' ', '20,', ' ', '25,', ' ', '29,', ' ', '31', ' ', 'may', ' ', 'indicate', ' ', 'Separation', ' ', 'Anxiety', ' ', 'Disorder.', '\\r'], ['25.', ' ', ' ', ' ', 'My', ' ', 'child', ' ', 'is', ' ', 'afraid', ' ', 'to', ' ', 'be', ' ', 'alone', ' ', 'in', ' ', 'the', ' ', 'house', '\\r'], ['18.', ' ', 'When', ' ', 'my', ' ', 'child', ' ', 'gets', ' ', 'frightened,', ' ', 'his/her', ' ', 'heart', ' ', 'beats', ' ', 'fast', ' ', 'o', ' ', 'o', ' ', 'o', '\\r'], ['34.', ' ', ' ', ' ', 'When', ' ', 'my', ' ', 'child', ' ', 'gets', ' ', 'frightened,', ' ', 'he/she', ' ', 'feels', ' ', 'like', ' ', 'throwing', ' ', 'up', '\\r'], ['21.', ' ', ' ', ' ', 'I', ' ', 'worry', ' ', 'about', ' ', 'things', ' ', 'working', ' ', 'out', ' ', 'for', ' ', 'me', '\\r'], ['Social', '\\r'], ['38', '\\r'], ['7.', ' ', 'My', ' ', 'child', ' ', 'is', ' ', 'nervous', ' ', 'o', ' ', 'o', ' ', 'o', '\\r'], ['When', ' ', 'I', ' ', 'feel', ' ', 'frightened,', ' ', 'it', ' ', 'is', ' ', 'hard', ' ', 'for', ' ', 'me', ' ', 'to', ' ', 'breathe', '\\r'], ['I', ' ', 'worry', ' ', 'about', ' ', 'other', ' ', 'people', ' ', 'liking', ' ', 'me', '\\r'], ['30.', ' ', ' ', ' ', 'I', ' ', 'am', ' ', 'afraid', ' ', 'of', ' ', 'having', ' ', 'anxiety', ' ', '(or', ' ', 'panic)', ' ', 'attacks', '\\r'], ['26.', ' ', 'It', ' ', 'is', ' ', 'hard', ' ', 'for', ' ', 'me', ' ', 'to', ' ', 'talk', ' ', 'with', ' ', 'people', ' ', 'I', ' ', 'don’t', ' ', 'know', ' ', 'well', ' ', 'o', ' ', 'o', ' ', 'o', '\\r'], ['31.', ' ', 'I', ' ', 'worry', ' ', 'that', ' ', 'something', ' ', 'bad', ' ', 'might', ' ', 'happen', ' ', 'to', ' ', 'my', ' ', 'parents', ' ', 'o', ' ', 'o', ' ', 'o', '\\r'], ['15.', ' ', 'When', ' ', 'I', ' ', 'get', ' ', 'frightened,', ' ', 'I', ' ', 'feel', ' ', 'like', ' ', 'things', ' ', 'are', ' ', 'not', ' ', 'real', ' ', 'o', ' ', 'o', ' ', 'o', '\\r'], ['24.', ' ', 'My', ' ', 'child', ' ', 'gets', ' ', 'really', ' ', 'frightened', ' ', 'for', ' ', 'no', ' ', 'reason', ' ', 'at', ' ', 'all', ' ', 'o', ' ', 'o', ' ', 'o', '\\r'], ['37.', ' ', 'My', ' ', 'child', ' ', 'worries', ' ', 'about', ' ', 'things', ' ', 'that', ' ', 'have', ' ', 'already', ' ', 'happened', ' ', 'o', ' ', 'o', ' ', 'o', '\\r'], ['16.', ' ', 'I', ' ', 'have', ' ', 'nightmares', ' ', 'about', ' ', 'something', ' ', 'bad', ' ', 'happening', ' ', 'to', ' ', 'my', ' ', 'par-', ' ', 'ents', '\\r'], ['35.', ' ', ' ', ' ', 'My', ' ', 'child', ' ', 'worries', ' ', 'about', ' ', 'how', ' ', 'well', ' ', 'he/she', ' ', 'does', ' ', 'things', '\\r'], ['37.', ' ', ' ', ' ', 'My', ' ', 'child', ' ', 'worries', ' ', 'about', ' ', 'things', ' ', 'that', ' ', 'have', ' ', 'already', ' ', 'happened', '\\r'], ['30.', ' ', 'I', ' ', 'am', ' ', 'afraid', ' ', 'of', ' ', 'having', ' ', 'anxiety', ' ', '(or', ' ', 'panic)', ' ', 'attacks', ' ', 'o', ' ', 'o', ' ', 'o', '\\r'], ['33.', ' ', ' ', ' ', 'I', ' ', 'worry', ' ', 'about', ' ', 'what', ' ', 'is', ' ', 'going', ' ', 'to', ' ', 'happen', ' ', 'in', ' ', 'the', ' ', 'future', '\\r'], ['5.', ' ', 'My', ' ', 'child', ' ', 'worries', ' ', 'about', ' ', 'other', ' ', 'people', ' ', 'liking', ' ', 'him/her', ' ', 'o', ' ', 'o', ' ', 'o', '\\r'], ['17.', ' ', 'My', ' ', 'child', ' ', 'worries', ' ', 'about', ' ', 'going', ' ', 'to', ' ', 'school', ' ', 'o', ' ', 'o', ' ', 'o', '\\r'], ['15.', ' ', 'When', ' ', 'he/she', ' ', 'gets', ' ', 'frightened,', ' ', 'he/she', ' ', 'feels', ' ', 'like', ' ', 'things', ' ', 'are', ' ', 'not', ' ', 'real', ' ', 'o', ' ', 'o', ' ', 'o', '\\r'], ['12.', ' ', 'When', ' ', 'I', ' ', 'get', ' ', 'frightened,', ' ', 'I', ' ', 'feel', ' ', 'like', ' ', 'I', ' ', 'am', ' ', 'going', ' ', 'crazy', ' ', 'o', ' ', 'o', ' ', 'o', '\\r'], ['25.', ' ', 'I', ' ', 'am', ' ', 'afraid', ' ', 'to', ' ', 'be', ' ', 'alone', ' ', 'in', ' ', 'the', ' ', 'house', ' ', 'o', ' ', 'o', ' ', 'o', '\\r'], ['35.', ' ', 'My', ' ', 'child', ' ', 'worries', ' ', 'about', ' ', 'how', ' ', 'well', ' ', 'he/she', ' ', 'does', ' ', 'things', ' ', 'o', ' ', 'o', ' ', 'o', '\\r'], ['My', ' ', 'child', ' ', 'gets', ' ', 'scared', ' ', 'if', ' ', 'he/she', ' ', 'sleeps', ' ', 'away', ' ', 'from', ' ', 'home', '\\r'], ['3.', ' ', 'My', ' ', 'child', ' ', 'doesn’t', ' ', 'like', ' ', 'to', ' ', 'be', ' ', 'with', ' ', 'people', ' ', 'he/she', ' ', 'doesn’t', ' ', 'know', ' ', 'well', ' ', 'o', ' ', 'o', ' ', 'o', '\\r'], ['28.', ' ', ' ', ' ', 'People', ' ', 'tell', ' ', 'me', ' ', 'that', ' ', 'I', ' ', 'worry', ' ', 'too', ' ', 'much', '\\r'], ['40.', '\\r'], ['34.', ' ', 'When', ' ', 'I', ' ', 'get', ' ', 'frightened,', ' ', 'I', ' ', 'feel', ' ', 'like', ' ', 'throwing', ' ', 'up', ' ', 'o', ' ', 'o', ' ', 'o', '\\r'], ['6.', ' ', 'When', ' ', 'my', ' ', 'child', ' ', 'gets', ' ', 'frightened,', ' ', 'he/she', ' ', 'feels', ' ', 'like', ' ', 'passing', ' ', 'out', ' ', 'o', ' ', 'o', ' ', 'o', '\\r'], ['1.', ' ', 'When', ' ', 'I', ' ', 'feel', ' ', 'frightened,', ' ', 'it', ' ', 'is', ' ', 'hard', ' ', 'for', ' ', 'me', ' ', 'to', ' ', 'breathe', ' ', 'o', ' ', 'o', ' ', 'o', '\\r'], ['40', '\\r'], ['11.', ' ', 'My', ' ', 'child', ' ', 'gets', ' ', 'stomachaches', ' ', 'at', ' ', 'school', ' ', 'o', ' ', 'o', ' ', 'o', '\\r'], ['33.', ' ', ' ', ' ', 'My', ' ', 'child', ' ', 'worries', ' ', 'about', ' ', 'what', ' ', 'is', ' ', 'going', ' ', 'to', ' ', 'happen', ' ', 'in', ' ', 'the', ' ', 'future', '\\r'], ['1.', ' ', 'When', ' ', 'my', ' ', 'child', ' ', 'feels', ' ', 'frightened,', ' ', 'it', ' ', 'is', ' ', 'hard', ' ', 'for', ' ', 'him/her', ' ', 'to', ' ', 'breathe', ' ', 'o', ' ', 'o', ' ', 'o', '\\r'], ['I', ' ', 'feel', ' ', 'nervous', ' ', 'when', ' ', 'I', ' ', 'am', ' ', 'going', ' ', 'to', ' ', 'parties,', ' ', 'dances,', ' ', 'or', ' ', 'any', ' ', 'place', ' ', '\\r'], ['where', ' ', 'there', ' ', 'will', ' ', 'be', ' ', 'people', ' ', 'that', ' ', 'I', ' ', 'don’t', ' ', 'know', ' ', 'well', '\\r'], ['21.', ' ', 'My', ' ', 'child', ' ', 'worries', ' ', 'about', ' ', 'things', ' ', 'working', ' ', 'out', ' ', 'for', ' ', 'him/her', ' ', 'o', ' ', 'o', ' ', 'o', '\\r'], ['5.', ' ', 'I', ' ', 'worry', ' ', 'about', ' ', 'other', ' ', 'people', ' ', 'liking', ' ', 'me', ' ', 'o', ' ', 'o', ' ', 'o', '\\r'], ['When', ' ', 'my', ' ', 'child', ' ', 'feels', ' ', 'frightened,', ' ', 'it', ' ', 'is', ' ', 'hard', ' ', 'for', ' ', 'him/her', ' ', 'to', ' ', 'breathe', '\\r'], ['41.', ' ', 'I', ' ', 'am', ' ', 'shy', ' ', 'o', ' ', 'o', ' ', 'o', '\\r'], ['38.', ' ', 'When', ' ', 'my', ' ', 'child', ' ', 'gets', ' ', 'frightened,', ' ', 'he/she', ' ', 'feels', ' ', 'dizzy', ' ', 'o', ' ', 'o', ' ', 'o', '\\r'], ['32.', ' ', ' ', ' ', 'My', ' ', 'child', ' ', 'feels', ' ', 'shy', ' ', 'with', ' ', 'people', ' ', 'he/she', ' ', 'doesn’t', ' ', 'know', ' ', 'well', '\\r'], ['Separation', '\\r'], ['I', ' ', 'get', ' ', 'headaches', ' ', 'when', ' ', 'I', ' ', 'am', ' ', 'at', ' ', 'school', '\\r'], ['20.', ' ', 'I', ' ', 'have', ' ', 'nightmares', ' ', 'about', ' ', 'something', ' ', 'bad', ' ', 'happening', ' ', 'to', ' ', 'me', ' ', 'o', ' ', 'o', ' ', 'o', '\\r'], ['I', ' ', 'get', ' ', 'scared', ' ', 'if', ' ', 'I', ' ', 'sleep', ' ', 'away', ' ', 'from', ' ', 'home', '\\r'], ['32.', ' ', ' ', ' ', 'I', ' ', 'feel', ' ', 'shy', ' ', 'with', ' ', 'people', ' ', 'I', ' ', 'don’t', ' ', 'know', ' ', 'well', '\\r'], ['26.', ' ', 'It', ' ', 'is', ' ', 'hard', ' ', 'for', ' ', 'my', ' ', 'child', ' ', 'to', ' ', 'talk', ' ', 'with', ' ', 'people', ' ', 'he/she', ' ', 'doesn’t', ' ', 'know', ' ', 'well', ' ', 'o', ' ', 'o', ' ', 'o', '\\r'], ['Generalized', ' ', '\\r'], ['Anxiety', '\\r'], ['36.', ' ', 'I', ' ', 'am', ' ', 'scared', ' ', 'to', ' ', 'go', ' ', 'to', ' ', 'school', ' ', 'o', ' ', 'o', ' ', 'o', '\\r'], ['19.', ' ', 'I', ' ', 'get', ' ', 'shaky', ' ', 'o', ' ', 'o', ' ', 'o', '\\r'], ['21.', ' ', 'I', ' ', 'worry', ' ', 'about', ' ', 'things', ' ', 'working', ' ', 'out', ' ', 'for', ' ', 'me', ' ', 'o', ' ', 'o', ' ', 'o', '\\r'], ['24.', ' ', 'I', ' ', 'get', ' ', 'really', ' ', 'frightened', ' ', 'for', ' ', 'no', ' ', 'reason', ' ', 'at', ' ', 'all', ' ', 'o', ' ', 'o', ' ', 'o', '\\r'], ['33.', ' ', 'My', ' ', 'child', ' ', 'worries', ' ', 'about', ' ', 'what', ' ', 'is', ' ', 'going', ' ', 'to', ' ', 'happen', ' ', 'in', ' ', 'the', ' ', 'future', ' ', 'o', ' ', 'o', ' ', 'o', '\\r'], ['31.', ' ', ' ', ' ', 'I', ' ', 'worry', ' ', 'that', ' ', 'something', ' ', 'bad', ' ', 'might', ' ', 'happen', ' ', 'to', ' ', 'my', ' ', 'parents', '\\r'], ['21.', ' ', ' ', ' ', 'My', ' ', 'child', ' ', 'worries', ' ', 'about', ' ', 'things', ' ', 'working', ' ', 'out', ' ', 'for', ' ', 'him/her', '\\r'], ['My', ' ', 'child', ' ', 'worries', ' ', 'about', ' ', 'sleeping', ' ', 'alone', '\\r'], ['35.', ' ', 'I', ' ', 'worry', ' ', 'about', ' ', 'how', ' ', 'well', ' ', 'I', ' ', 'do', ' ', 'things', ' ', 'o', ' ', 'o', ' ', 'o', '\\r'], ['20.', ' ', ' ', ' ', 'I', ' ', 'have', ' ', 'nightmares', ' ', 'about', ' ', 'something', ' ', 'bad', ' ', 'happening', ' ', 'to', ' ', 'me', '\\r'], ['27.', ' ', 'When', ' ', 'I', ' ', 'get', ' ', 'frightened,', ' ', 'I', ' ', 'feel', ' ', 'like', ' ', 'I', ' ', 'am', ' ', 'choking', ' ', 'o', ' ', 'o', ' ', 'o', '\\r'], ['When', ' ', 'he/she', ' ', 'gets', ' ', 'frightened,', ' ', 'he/she', ' ', 'feels', ' ', 'like', ' ', 'things', ' ', 'are', ' ', 'not', ' ', 'real', '\\r'], ['29.', ' ', 'My', ' ', 'child', ' ', 'doesn’t', ' ', 'like', ' ', 'to', ' ', 'be', ' ', 'away', ' ', 'from', ' ', 'his/her', ' ', 'family', ' ', 'o', ' ', 'o', ' ', 'o', '\\r'], ['37.', ' ', 'I', ' ', 'worry', ' ', 'about', ' ', 'things', ' ', 'that', ' ', 'have', ' ', 'already', ' ', 'happened', ' ', 'o', ' ', 'o', ' ', 'o', '\\r'], ['10.', ' ', 'My', ' ', 'child', ' ', 'feels', ' ', 'nervous', ' ', 'with', ' ', 'people', ' ', 'he/she', ' ', 'doesn’t', ' ', 'know', ' ', 'well', ' ', 'o', ' ', 'o', ' ', 'o', '\\r'], ['18.', ' ', ' ', ' ', 'When', ' ', 'I', ' ', 'get', ' ', 'frightened,', ' ', 'my', ' ', 'heart', ' ', 'beats', ' ', 'fast', '\\r'], ['40.', ' ', 'My', ' ', 'child', ' ', 'feels', ' ', 'nervous', ' ', 'when', ' ', 'he/she', ' ', 'is', ' ', 'going', ' ', 'to', ' ', 'parties,', ' ', 'dances,', ' ', 'or', ' ', 'any', ' ', 'place', ' ', 'where', ' ', 'there', ' ', 'will', ' ', 'be', ' ', 'people', ' ', 'that', ' ', 'he/she', ' ', 'doesn’t', ' ', 'know', ' ', 'well', '\\r'], ['My', ' ', 'child', ' ', 'feels', ' ', 'nervous', ' ', 'with', ' ', 'people', ' ', 'he/she', ' ', 'doesn’t', ' ', 'know', ' ', 'well', '\\r'], ['My', ' ', 'child', ' ', 'feels', ' ', 'nervous', ' ', 'when', ' ', 'he/she', ' ', 'is', ' ', 'with', ' ', 'other', ' ', 'children', ' ', 'or', ' ', 'adults', ' ', '\\r'], ['12.', ' ', 'When', ' ', 'my', ' ', 'child', ' ', 'gets', ' ', 'frightened,', ' ', 'he/she', ' ', 'feels', ' ', 'like', ' ', 'he/she', ' ', 'is', ' ', 'going', ' ', 'crazy', '\\r'], ['20.', ' ', 'My', ' ', 'child', ' ', 'has', ' ', 'nightmares', ' ', 'about', ' ', 'something', ' ', 'bad', ' ', 'happening', ' ', 'to', ' ', 'him/her', ' ', 'o', ' ', 'o', ' ', 'o', '\\r'], ['36.', ' ', 'My', ' ', 'child', ' ', 'is', ' ', 'scared', ' ', 'to', ' ', 'go', ' ', 'to', ' ', 'school', ' ', 'o', ' ', 'o', ' ', 'o', '\\r'], ['23.', ' ', ' ', ' ', 'I', ' ', 'am', ' ', 'a', ' ', 'worrier', '\\r'], ['10.', ' ', 'I', ' ', 'feel', ' ', 'nervous', ' ', 'with', ' ', 'people', ' ', 'I', ' ', 'don’t', ' ', 'know', ' ', 'well', ' ', 'o', ' ', 'o', ' ', 'o', '\\r'], ['A', ' ', 'score', ' ', 'of', ' ', '9', ' ', 'for', ' ', 'items', ' ', '5,', ' ', '7,', ' ', '14,', ' ', '21,', ' ', '23,', ' ', '28,', ' ', '33,', ' ', '35,', ' ', '37', ' ', 'may', ' ', 'indicate', ' ', 'Generalized', ' ', 'Anxiety', ' ', 'Disorder.', '\\r'], ['I', ' ', 'follow', ' ', 'my', ' ', 'mother', ' ', 'or', ' ', 'father', ' ', 'wherever', ' ', 'they', ' ', 'go', '\\r'], ['24.', ' ', ' ', ' ', 'I', ' ', 'get', ' ', 'really', ' ', 'frightened', ' ', 'for', ' ', 'no', ' ', 'reason', ' ', 'at', ' ', 'all', '\\r'], ['23.', ' ', 'I', ' ', 'am', ' ', 'a', ' ', 'worrier', ' ', 'o', ' ', 'o', ' ', 'o', '\\r'], ['Total', ' ', 'anxiety', ' ', '≥', ' ', '25', '\\r'], ['26.', ' ', ' ', ' ', 'It', ' ', 'is', ' ', 'hard', ' ', 'for', ' ', 'me', ' ', 'to', ' ', 'talk', ' ', 'with', ' ', 'people', ' ', 'I', ' ', 'don’t', ' ', 'know', ' ', 'well', '\\r'], ['39.', ' ', 'My', ' ', 'child', ' ', 'feels', ' ', 'nervous', ' ', 'when', ' ', 'he/she', ' ', 'is', ' ', 'with', ' ', 'other', ' ', 'children', ' ', 'or', ' ', 'adults', ' ', 'and', ' ', 'he/she', ' ', 'has', ' ', 'to', ' ', 'do', ' ', 'something', ' ', 'while', ' ', 'they', ' ', 'watch', ' ', 'him/her', ' ', '(for', ' ', 'example:', ' ', 'read', ' ', 'aloud,', ' ', 'speak,', ' ', 'play', ' ', 'a', ' ', 'game,', ' ', 'play', ' ', 'a', ' ', 'sport)', '\\r'], ['13.', ' ', 'I', ' ', 'worry', ' ', 'about', ' ', 'sleeping', ' ', 'alone', ' ', 'o', ' ', 'o', ' ', 'o', '\\r'], ['26.', ' ', ' ', ' ', 'It', ' ', 'is', ' ', 'hard', ' ', 'for', ' ', 'my', ' ', 'child', ' ', 'to', ' ', 'talk', ' ', 'with', ' ', 'people', ' ', 'he/she', ' ', 'doesn’t', ' ', 'know', ' ', 'well', '\\r'], ['3.', ' ', 'I', ' ', 'don’t', ' ', 'like', ' ', 'to', ' ', 'be', ' ', 'with', ' ', 'people', ' ', 'I', ' ', 'don’t', ' ', 'know', ' ', 'well', ' ', 'o', ' ', 'o', ' ', 'o', '\\r'], ['Developed', ' ', 'by', ' ', 'Boris', ' ', 'Birmaher,', ' ', 'MD,', ' ', 'Suneeta', ' ', 'Khetarpal,', ' ', 'MD,', ' ', 'Marlane', ' ', 'Cully,', ' ', 'MEd,', ' ', 'David', ' ', 'Brent,', ' ', 'MD,', ' ', 'and', ' ', 'Sandra', ' ', 'McKenzie,', ' ', 'PhD.', ' ', ' ', 'Western', ' ', 'Psychiatric', ' ', 'Institute', ' ', 'and', ' ', 'Clinic,', ' ', 'University', ' ', 'of', ' ', 'Pgh.', ' ', '(10/95).', ' ', 'Email:', ' ', 'birmaherb@msx.upmc.edu', '\\r'], ['22.', ' ', ' ', ' ', 'When', ' ', 'my', ' ', 'child', ' ', 'gets', ' ', 'frightened,', ' ', 'he/she', ' ', 'sweats', ' ', 'a', ' ', 'lot', '\\r'], ['A', ' ', 'score', ' ', 'of', ' ', '8', ' ', 'for', ' ', 'items', ' ', '3,', ' ', '10,', ' ', '26,', ' ', '32,', ' ', '39,', ' ', '40,', ' ', '41', ' ', 'may', ' ', 'indicate', ' ', 'Social', ' ', 'Anxiety', ' ', 'Disorder.', '\\r'], ['22.', ' ', ' ', ' ', 'When', ' ', 'I', ' ', 'get', ' ', 'frightened,', ' ', 'I', ' ', 'sweat', ' ', 'a', ' ', 'lot', '\\r'], ['14.', ' ', ' ', ' ', 'I', ' ', 'worry', ' ', 'about', ' ', 'being', ' ', 'as', ' ', 'good', ' ', 'as', ' ', 'other', ' ', 'kids', '\\r'], ['My', ' ', 'child', ' ', 'worries', ' ', 'about', ' ', 'being', ' ', 'as', ' ', 'good', ' ', 'as', ' ', 'other', ' ', 'kids', '\\r'], ['39.', ' ', 'I', ' ', 'feel', ' ', 'nervous', ' ', 'when', ' ', 'I', ' ', 'am', ' ', 'with', ' ', 'other', ' ', 'children', ' ', 'or', ' ', 'adults', ' ', 'and', ' ', 'I', ' ', 'have', ' ', 'to', ' ', 'do', ' ', 'something', ' ', 'while', ' ', 'they', ' ', 'watch', ' ', 'me', ' ', '(for', ' ', 'example:', ' ', 'read', ' ', 'aloud,', ' ', 'speak,', ' ', 'play', ' ', 'a', ' ', 'game,', ' ', 'play', ' ', 'a', ' ', 'sport)', '\\r'], ['People', ' ', 'tell', ' ', 'me', ' ', 'that', ' ', 'my', ' ', 'child', ' ', 'looks', ' ', 'nervous', '\\r'], ['27.', ' ', 'When', ' ', 'my', ' ', 'child', ' ', 'gets', ' ', 'frightened,', ' ', 'he/she', ' ', 'feels', ' ', 'like', ' ', 'he/she', ' ', 'is', ' ', 'choking', ' ', 'o', ' ', 'o', ' ', 'o', '\\r'], ['My', ' ', 'child', ' ', 'worries', ' ', 'about', ' ', 'other', ' ', 'people', ' ', 'liking', ' ', 'him/her', '\\r'], ['2.', ' ', 'My', ' ', 'child', ' ', 'gets', ' ', 'headaches', ' ', 'when', ' ', 'he/she', ' ', 'is', ' ', 'at', ' ', 'school', ' ', 'o', ' ', 'o', ' ', 'o', '\\r'], ['28.', ' ', ' ', ' ', 'People', ' ', 'tell', ' ', 'me', ' ', 'that', ' ', 'my', ' ', 'child', ' ', 'worries', ' ', 'too', ' ', 'much', '\\r'], ['27.', ' ', ' ', ' ', 'When', ' ', 'my', ' ', 'child', ' ', 'gets', ' ', 'frightened,', ' ', 'he/she', ' ', 'feels', ' ', 'like', ' ', 'he/she', ' ', 'is', ' ', 'choking', '\\r'], ['36.', ' ', ' ', ' ', 'I', ' ', 'am', ' ', 'scared', ' ', 'to', ' ', 'go', ' ', 'to', ' ', 'school', '\\r'], ['41.', ' ', 'My', ' ', 'child', ' ', 'is', ' ', 'shy', ' ', 'o', ' ', 'o', ' ', 'o', '\\r'], ['34.', ' ', 'When', ' ', 'my', ' ', 'child', ' ', 'gets', ' ', 'frightened,', ' ', 'he/she', ' ', 'feels', ' ', 'like', ' ', 'throwing', ' ', 'up', ' ', 'o', ' ', 'o', ' ', 'o', '\\r'], ['17.', ' ', ' ', ' ', 'I', ' ', 'worry', ' ', 'about', ' ', 'going', ' ', 'to', ' ', 'school', '\\r'], ['17.', ' ', 'I', ' ', 'worry', ' ', 'about', ' ', 'going', ' ', 'to', ' ', 'school', ' ', 'o', ' ', 'o', ' ', 'o', '\\r'], ['11.', ' ', 'My', ' ', 'I', ' ', 'get', ' ', 'stomachaches', ' ', 'at', ' ', 'school', ' ', 'o', ' ', 'o', ' ', 'o', '\\r'], ['SCARED', ' ', 'Rating', ' ', 'Scale', ' ', 'Scoring', ' ', 'Aide', ' ', 'Use', ' ', 'with', ' ', 'Parent', ' ', 'and', ' ', 'Child', ' ', 'Versions', '\\r'], ['15.', ' ', ' ', ' ', 'When', ' ', 'I', ' ', 'get', ' ', 'frightened,', ' ', 'I', ' ', 'feel', ' ', 'like', ' ', 'things', ' ', 'are', ' ', 'not', ' ', 'real', '\\r'], ['40.', ' ', 'I', ' ', 'feel', ' ', 'nervous', ' ', 'when', ' ', 'I', ' ', 'am', ' ', 'going', ' ', 'to', ' ', 'parties,', ' ', 'dances,', ' ', 'or', ' ', 'any', ' ', 'place', ' ', 'where', ' ', 'there', ' ', 'will', ' ', 'be', ' ', 'people', ' ', 'that', ' ', 'I', ' ', 'don’t', ' ', 'know', ' ', 'well', '\\r'], ['24.', ' ', ' ', ' ', 'My', ' ', 'child', ' ', 'gets', ' ', 'really', ' ', 'frightened', ' ', 'for', ' ', 'no', ' ', 'reason', ' ', 'at', ' ', 'all', '\\r'], ['13.', ' ', ' ', ' ', 'I', ' ', 'worry', ' ', 'about', ' ', 'sleeping', ' ', 'alone', '\\r'], ['27.', ' ', ' ', ' ', 'When', ' ', 'I', ' ', 'get', ' ', 'frightened,', ' ', 'I', ' ', 'feel', ' ', 'like', ' ', 'I', ' ', 'am', ' ', 'choking', '\\r'], ['35.', ' ', ' ', ' ', 'I', ' ', 'worry', ' ', 'about', ' ', 'how', ' ', 'well', ' ', 'I', ' ', 'do', ' ', 'things', '\\r'], ['When', ' ', 'my', ' ', 'child', ' ', 'gets', ' ', 'frightened,', ' ', 'his/her', ' ', 'heart', ' ', 'beats', ' ', 'fast', '\\r'], ['29.', ' ', ' ', ' ', 'My', ' ', 'child', ' ', 'doesn’t', ' ', 'like', ' ', 'to', ' ', 'be', ' ', 'away', ' ', 'from', ' ', 'his/her', ' ', 'family', '\\r'], ['28.', ' ', 'People', ' ', 'tell', ' ', 'me', ' ', 'that', ' ', 'I', ' ', 'worry', ' ', 'too', ' ', 'much', ' ', 'o', ' ', 'o', ' ', 'o', '\\r'], ['6.', ' ', 'When', ' ', 'I', ' ', 'get', ' ', 'frightened,', ' ', 'I', ' ', 'feel', ' ', 'like', ' ', 'passing', ' ', 'out', ' ', 'o', ' ', 'o', ' ', 'o', '\\r'], ['2.', ' ', 'I', ' ', 'get', ' ', 'headaches', ' ', 'when', ' ', 'I', ' ', 'am', ' ', 'at', ' ', 'school', ' ', 'o', ' ', 'o', ' ', 'o', '\\r'], ['38.', ' ', ' ', ' ', 'When', ' ', 'my', ' ', 'child', ' ', 'gets', ' ', 'frightened,', ' ', 'he/she', ' ', 'feels', ' ', 'dizzy', '\\r'], ['33.', ' ', 'I', ' ', 'worry', ' ', 'about', ' ', 'what', ' ', 'is', ' ', 'going', ' ', 'to', ' ', 'happen', ' ', 'in', ' ', 'the', ' ', 'future', ' ', 'o', ' ', 'o', ' ', 'o', '\\r'], ['23.', ' ', ' ', ' ', 'My', ' ', 'child', ' ', 'is', ' ', 'a', ' ', 'worrier', '\\r'], ['11.', ' ', ' ', ' ', 'My', ' ', 'I', ' ', 'get', ' ', 'stomachaches', ' ', 'at', ' ', 'school', '\\r'], ['School', ' ', '\\r'], ['Avoidance', '\\r'], ['19.', ' ', ' ', ' ', 'I', ' ', 'get', ' ', 'shaky', '\\r'], ['Panic/Somatic', '\\r'], ['32.', ' ', 'My', ' ', 'child', ' ', 'feels', ' ', 'shy', ' ', 'with', ' ', 'people', ' ', 'he/she', ' ', 'doesn’t', ' ', 'know', ' ', 'well', ' ', 'o', ' ', 'o', ' ', 'o', '\\r'], ['18.', ' ', 'When', ' ', 'I', ' ', 'get', ' ', 'frightened,', ' ', 'my', ' ', 'heart', ' ', 'beats', ' ', 'fast', ' ', 'o', ' ', 'o', ' ', 'o', '\\r'], ['13.', ' ', 'My', ' ', 'child', ' ', 'worries', ' ', 'about', ' ', 'sleeping', ' ', 'alone', ' ', 'o', ' ', 'o', ' ', 'o', '\\r'], ['People', ' ', 'tell', ' ', 'me', ' ', 'that', ' ', 'I', ' ', 'look', ' ', 'nervous', '\\r'], ['22.', ' ', 'When', ' ', 'I', ' ', 'get', ' ', 'frightened,', ' ', 'I', ' ', 'sweat', ' ', 'a', ' ', 'lot', ' ', 'o', ' ', 'o', ' ', 'o', '\\r'], ['4.', ' ', 'I', ' ', 'get', ' ', 'scared', ' ', 'if', ' ', 'I', ' ', 'sleep', ' ', 'away', ' ', 'from', ' ', 'home', ' ', 'o', ' ', 'o', ' ', 'o', '\\r'], ['38.', ' ', 'When', ' ', 'I', ' ', 'get', ' ', 'frightened,', ' ', 'I', ' ', 'feel', ' ', 'dizzy', ' ', 'o', ' ', 'o', ' ', 'o', '\\r'], ['When', ' ', 'my', ' ', 'child', ' ', 'gets', ' ', 'frightened,', ' ', 'he/she', ' ', 'feels', ' ', 'like', ' ', 'he/she', ' ', 'is', ' ', 'going', ' ', '\\r'], ['23.', ' ', 'My', ' ', 'child', ' ', 'is', ' ', 'a', ' ', 'worrier', ' ', 'o', ' ', 'o', ' ', 'o', '\\r'], ['12.', ' ', ' ', ' ', 'When', ' ', 'I', ' ', 'get', ' ', 'frightened,', ' ', 'I', ' ', 'feel', ' ', 'like', ' ', 'I', ' ', 'am', ' ', 'going', ' ', 'crazy', '\\r'], ['29.', ' ', ' ', ' ', 'I', ' ', 'don’t', ' ', 'like', ' ', 'to', ' ', 'be', ' ', 'away', ' ', 'from', ' ', 'my', ' ', 'family', '\\r'], ['30.', ' ', ' ', ' ', 'My', ' ', 'child', ' ', 'is', ' ', 'afraid', ' ', 'of', ' ', 'having', ' ', 'anxiety', ' ', '(or', ' ', 'panic)', ' ', 'attacks', '\\r'], ['My', ' ', 'child', ' ', 'worries', ' ', 'that', ' ', 'something', ' ', 'bad', ' ', 'might', ' ', 'happen', ' ', 'to', ' ', 'his/her', ' ', '\\r'], ['14.', ' ', 'I', ' ', 'worry', ' ', 'about', ' ', 'being', ' ', 'as', ' ', 'good', ' ', 'as', ' ', 'other', ' ', 'kids', ' ', 'o', ' ', 'o', ' ', 'o', '\\r'], ['22.', ' ', 'When', ' ', 'my', ' ', 'child', ' ', 'gets', ' ', 'frightened,', ' ', 'he/she', ' ', 'sweats', ' ', 'a', ' ', 'lot', ' ', 'o', ' ', 'o', ' ', 'o', '\\r'], ['A', ' ', 'score', ' ', 'of', ' ', '7', ' ', 'for', ' ', 'items', ' ', '1,', ' ', '6,', ' ', '9,', ' ', '12,', ' ', '15,', ' ', '18,', ' ', '19,', ' ', '22,', ' ', '24,', ' ', '27,', ' ', '30,', ' ', '34,', ' ', '38', ' ', 'may', ' ', 'indicate', ' ', 'Panic', ' ', 'Disorder', ' ', 'or', ' ', 'Significant', ' ', 'Somatic', ' ', 'Symptoms.', '\\r'], ['30.', ' ', 'My', ' ', 'child', ' ', 'is', ' ', 'afraid', ' ', 'of', ' ', 'having', ' ', 'anxiety', ' ', '(or', ' ', 'panic)', ' ', 'attacks', ' ', 'o', ' ', 'o', ' ', 'o', '\\r'], ['10.', ' ', ' ', ' ', 'I', ' ', 'feel', ' ', 'nervous', ' ', 'with', ' ', 'people', ' ', 'I', ' ', 'don’t', ' ', 'know', ' ', 'well', '\\r'], ['My', ' ', 'child', ' ', 'gets', ' ', 'stomachaches', ' ', 'at', ' ', 'school', '\\r'], ['9.', ' ', 'People', ' ', 'tell', ' ', 'me', ' ', 'that', ' ', 'I', ' ', 'look', ' ', 'nervous', ' ', 'o', ' ', 'o', ' ', 'o', '\\r'], ['37.', ' ', ' ', ' ', 'I', ' ', 'worry', ' ', 'about', ' ', 'things', ' ', 'that', ' ', 'have', ' ', 'already', ' ', 'happened', '\\r'], ['32.', ' ', 'I', ' ', 'feel', ' ', 'shy', ' ', 'with', ' ', 'people', ' ', 'I', ' ', 'don’t', ' ', 'know', ' ', 'well', ' ', 'o', ' ', 'o', ' ', 'o', '\\r'], ['41.', ' ', ' ', ' ', 'I', ' ', 'am', ' ', 'shy', '\\r'], ['34.', ' ', ' ', ' ', 'When', ' ', 'I', ' ', 'get', ' ', 'frightened,', ' ', 'I', ' ', 'feel', ' ', 'like', ' ', 'throwing', ' ', 'up', '\\r'], ['When', ' ', 'I', ' ', 'get', ' ', 'frightened,', ' ', 'I', ' ', 'feel', ' ', 'like', ' ', 'passing', ' ', 'out', '\\r'], ['36.', ' ', ' ', ' ', 'My', ' ', 'child', ' ', 'is', ' ', 'scared', ' ', 'to', ' ', 'go', ' ', 'to', ' ', 'school', '\\r'], [], ['2.', ' ', 'Little', ' ', 'interest', ' ', 'or', ' ', 'pleasure', ' ', 'in', ' ', 'doing', ' ', 'things?', '\\r'], ['diagnosis.', ' ', 'Instructions,', ' ', 'scoring', ' ', 'information,', ' ', 'and', ' ', 'interpretation', ' ', 'guidelines', ' ', 'are', '\\r'], ['care', ' ', 'at', ' ', 'http://www.dsm5.org/Pages/Feedback-Form.aspx.', '\\r'], ['Severity', ' ', 'Measure', ' ', 'for', ' ', 'Depression—Child', ' ', 'Age', ' ', '11–17*', ' ', '*PHQ-9', ' ', 'modified', ' ', 'for', ' ', 'Adolescents', ' ', '(PHQ-A)—Adapted', '\\r'], ['5.', ' ', 'Feeling', ' ', 'tired,', ' ', 'or', ' ', 'having', ' ', 'little', ' ', 'energy?', '\\r'], ['enhance', ' ', 'clinical', ' ', 'decision-making', ' ', 'and', ' ', 'not', ' ', 'as', ' ', 'the', ' ', 'sole', ' ', 'basis', ' ', 'for', ' ', 'making', ' ', 'a', ' ', 'clinical', '\\r'], ['Instructions:', ' ', 'How', ' ', 'often', ' ', 'have', ' ', 'you', ' ', 'been', ' ', 'bothered', ' ', 'by', ' ', 'each', ' ', 'of', ' ', 'the', ' ', 'following', ' ', 'symptoms', ' ', 'during', ' ', 'the', ' ', 'past', ' ', '7', ' ', 'days?', ' ', 'For', ' ', 'each', ' ', 'symptom', ' ', 'put', ' ', 'an', ' ', '“X”', ' ', 'in', ' ', 'the', ' ', 'box', ' ', 'beneath', ' ', 'the', ' ', 'answer', ' ', 'that', ' ', 'best', ' ', 'describes', ' ', 'how', ' ', 'you', ' ', 'have', ' ', 'been', ' ', 'feeling.', '\\r'], ['8.', ' ', 'Moving', ' ', 'or', ' ', 'speaking', ' ', 'so', ' ', 'slowly', ' ', 'that', ' ', 'other', ' ', 'people', ' ', 'could', ' ', 'have', ' ', 'noticed?', '\\r'], ['Feeling', ' ', 'tired,', ' ', 'or', ' ', 'having', ' ', 'little', ' ', 'energy?', '\\r'], ['clinical', ' ', 'evaluation.', ' ', 'These', ' ', 'patient', ' ', 'assessment', ' ', 'measures', ' ', 'were', ' ', 'developed', ' ', 'to', ' ', 'be', '\\r'], ['instruments’', ' ', 'usefulness', ' ', 'in', ' ', 'characterizing', ' ', 'patient', ' ', 'status', ' ', 'and', ' ', 'improving', ' ', 'patient', '\\r'], ['Measure:', ' ', 'Severity', ' ', 'Measure', ' ', 'for', ' ', 'Depression—Child', ' ', 'Age', ' ', '11–17', ' ', '(adapted', ' ', 'from', ' ', 'PHQ-', ' ', '9', ' ', 'modified', ' ', 'for', ' ', 'Adolescents', ' ', '[PHQ-A])', ' ', 'Rights', ' ', 'granted:', ' ', 'This', ' ', 'measure', ' ', 'can', ' ', 'be', ' ', 'reproduced', ' ', 'without', ' ', 'permission', ' ', 'by', ' ', 'researchers', ' ', 'and', ' ', 'by', ' ', 'clinicians', ' ', 'for', ' ', 'use', ' ', 'with', ' ', 'their', ' ', 'patients.', ' ', 'Rights', ' ', 'holder:', ' ', 'This', ' ', 'measure', ' ', 'was', ' ', 'adapted', ' ', 'from', ' ', 'the', ' ', 'PHQ-9', ' ', 'modified', ' ', 'for', ' ', 'Adolescents', ' ', '(PHQ-A),', ' ', 'which', ' ', 'is', ' ', 'in', ' ', 'the', ' ', 'public', ' ', 'domain', ' ', '(http://www.phqscreeners.com/instructions/instructions.pdf).', ' ', 'The', ' ', 'original', ' ', 'measure', ' ', 'was', ' ', 'developed', ' ', 'by', ' ', 'Drs.', ' ', 'Robert', ' ', 'L.', ' ', 'Spitzer,', ' ', 'Janet', ' ', 'B.W.', ' ', 'Williams,', ' ', 'Kurt', ' ', 'Kroenke', ' ', 'and', ' ', 'colleagues,', ' ', 'with', ' ', 'an', ' ', 'educational', ' ', 'grant', ' ', 'from', ' ', 'Pfizer', ' ', 'Inc.', ' ', 'The', ' ', 'reference', ' ', 'for', ' ', 'the', ' ', 'original', ' ', 'measure', ' ', 'is:', ' ', 'Johnson', ' ', 'JG,', ' ', 'Harris', ' ', 'ES,', ' ', 'Spitzer', ' ', 'RL,', ' ', 'Williams', ' ', 'JBW:', ' ', 'The', ' ', 'Patient', ' ', 'Health', ' ', 'Questionnaire', ' ', 'for', ' ', 'Adolescents:', ' ', 'Validation', ' ', 'of', ' ', 'an', ' ', 'instrument', ' ', 'for', ' ', 'the', ' ', 'assessment', ' ', 'of', ' ', 'mental', ' ', 'disorders', ' ', 'among', ' ', 'adolescent', ' ', 'primary', ' ', 'care', ' ', 'patients.', ' ', 'J', ' ', 'Adolescent', ' ', 'Health', ' ', '30:196–204,', ' ', '2002.', ' ', 'To', ' ', 'request', ' ', 'permission', ' ', 'for', ' ', 'any', ' ', 'other', ' ', 'use', ' ', 'beyond', ' ', 'what', ' ', 'is', ' ', 'stipulated', ' ', 'above,', ' ', 'contact:', ' ', 'The', ' ', 'measure', ' ', 'is', ' ', 'in', ' ', 'the', ' ', 'public', ' ', 'domain', ' ', 'and', ' ', 'can', ' ', 'be', ' ', 'used', ' ', 'without', ' ', 'permission.', '\\r'], ['Poor', ' ', 'appetite,', ' ', 'weight', ' ', 'loss,', ' ', 'or', ' ', 'overeating?', '\\r'], ['http://www.dsm5.org/Pages/Feedback-Form.aspx', '\\r'], ['Clinician', ' ', 'Use', '\\r'], ['administered', ' ', 'at', ' ', 'the', ' ', 'initial', ' ', 'patient', ' ', 'interview', ' ', 'and', ' ', 'to', ' ', 'monitor', ' ', 'treatment', ' ', 'progress.', '\\r'], ['3.', ' ', 'Trouble', ' ', 'falling', ' ', 'asleep,', ' ', 'staying', ' ', 'asleep,', ' ', 'or', ' ', 'sleeping', ' ', 'too', ' ', 'much?', '\\r'], ['Trouble', ' ', 'concentrating', ' ', 'on', ' ', 'things', ' ', 'like', ' ', 'school', ' ', 'work,', ' ', '\\r'], ['requests', ' ', 'that', ' ', 'clinicians', ' ', 'and', ' ', 'researchers', ' ', 'provide', ' ', 'further', ' ', 'data', ' ', 'on', ' ', 'the', '\\r'], ['Instructions', ' ', 'to', ' ', 'Clinicians', ' ', 'The', ' ', 'Severity', ' ', 'Measure', ' ', 'for', ' ', 'Depression—Child', ' ', 'Age', ' ', '11–17', ' ', '(adapted', ' ', 'from', ' ', 'PHQ-9', ' ', 'modified', ' ', 'for', ' ', 'Adolescents', ' ', '[PHQ-A])', ' ', 'is', ' ', 'a', ' ', '9-', ' ', 'item', ' ', 'measure', ' ', 'that', ' ', 'assesses', ' ', 'the', ' ', 'severity', ' ', 'of', ' ', 'depressive', ' ', 'disorders', ' ', 'and', ' ', 'episodes', ' ', '(or', ' ', 'clinically', ' ', 'significant', ' ', 'symptoms', ' ', 'of', ' ', 'depressive', ' ', 'disorders', ' ', 'and', ' ', 'episodes)', ' ', 'in', ' ', 'children', ' ', 'ages', ' ', '11–17.', ' ', 'The', ' ', 'measure', ' ', 'is', ' ', 'completed', ' ', 'by', ' ', 'the', ' ', 'child', ' ', 'prior', ' ', 'to', ' ', 'a', ' ', 'visit', ' ', 'with', ' ', 'the', ' ', 'clinician.', ' ', 'Each', ' ', 'item', ' ', 'asks', ' ', 'the', ' ', 'child', ' ', 'to', ' ', 'rate', ' ', 'the', ' ', 'severity', ' ', 'of', ' ', 'his', ' ', 'or', ' ', 'her', ' ', 'depression', ' ', 'symptoms', ' ', 'during', ' ', 'the', ' ', 'past', ' ', '7', ' ', 'days.', '\\r'], ['7.', ' ', 'Trouble', ' ', 'concentrating', ' ', 'on', ' ', 'things', ' ', 'like', ' ', 'school', ' ', 'work,', ' ', 'reading,', ' ', 'or', ' ', 'watching', ' ', 'TV?', '\\r'], [' ', '\\r'], ['Or', ' ', 'the', ' ', 'opposite—being', ' ', 'so', ' ', 'fidgety', ' ', 'or', ' ', 'restless', ' ', 'that', ' ', 'you', ' ', '\\r'], ['Total', ' ', 'Raw', ' ', 'Score', ' ', 'Severity', ' ', 'of', ' ', 'depressive', ' ', 'disorder', ' ', 'or', ' ', 'episode', '\\r'], ['Little', ' ', 'interest', ' ', 'or', ' ', 'pleasure', ' ', 'in', ' ', 'doing', ' ', 'things?', '\\r'], ['Feeling', ' ', 'down,', ' ', 'depressed,', ' ', 'irritable,', ' ', 'or', ' ', 'hopeless?', '\\r'], ['Prorated', ' ', 'Total', ' ', 'Raw', ' ', 'Score:', ' ', '(if', ' ', '1-2', ' ', 'items', ' ', 'left', ' ', 'unanswered)', ' ', 'Modified', ' ', 'from', ' ', 'the', ' ', 'PHQ-A', ' ', '(J.', ' ', 'Johnson,', ' ', '2002)', ' ', 'for', ' ', 'research', ' ', 'and', ' ', 'evaluation', ' ', 'purposes', '\\r'], ['9.', ' ', 'Thoughts', ' ', 'that', ' ', 'you', ' ', 'would', ' ', 'be', ' ', 'better', ' ', 'off', ' ', 'dead,', ' ', 'or', ' ', 'of', ' ', 'hurting', ' ', 'yourself', ' ', 'in', ' ', 'some', ' ', 'way?', '\\r'], ['Or', ' ', 'the', ' ', 'opposite—being', ' ', 'so', ' ', 'fidgety', ' ', 'or', ' ', 'restless', ' ', 'that', ' ', 'you', ' ', 'were', ' ', 'moving', ' ', 'around', ' ', 'a', ' ', 'lot', ' ', 'more', ' ', 'than', ' ', 'usual?', '\\r'], ['provided;', ' ', 'further', ' ', 'background', ' ', 'information', ' ', 'can', ' ', 'be', ' ', 'found', ' ', 'in', ' ', 'DSM-5.', ' ', 'The', ' ', 'APA', '\\r'], ['4.', ' ', 'Poor', ' ', 'appetite,', ' ', 'weight', ' ', 'loss,', ' ', 'or', ' ', 'overeating?', '\\r'], ['1.', ' ', 'Feeling', ' ', 'down,', ' ', 'depressed,', ' ', 'irritable,', ' ', 'or', ' ', 'hopeless?', '\\r'], ['6.', ' ', 'Feeling', ' ', 'bad', ' ', 'about', ' ', 'yourself—or', ' ', 'feeling', ' ', 'that', ' ', 'you', ' ', 'are', ' ', 'a', ' ', 'failure,', ' ', 'or', ' ', 'that', ' ', 'you', ' ', 'have', ' ', 'let', ' ', 'yourself', ' ', 'or', ' ', 'your', ' ', 'family', ' ', 'down?', '\\r'], ['Thoughts', ' ', 'that', ' ', 'you', ' ', 'would', ' ', 'be', ' ', 'better', ' ', 'off', ' ', 'dead,', ' ', 'or', ' ', 'of', ' ', '\\r'], ['hurting', ' ', 'yourself', ' ', 'in', ' ', 'some', ' ', 'way?', '\\r'], [], ['Center', ' ', 'for', ' ', 'Epidemiologic', ' ', 'Studies', ' ', 'Depression', ' ', 'Scale', ' ', '(CES-D),', ' ', 'NIMH', '\\r'], ['9.', ' ', ' ', 'I', ' ', 'thought', ' ', 'my', ' ', 'life', ' ', 'had', ' ', 'been', ' ', 'a', ' ', 'failure.', '\\r'], ['20.', ' ', ' ', 'I', ' ', 'could', ' ', 'not', ' ', 'get', ' ', '“going.”', '\\r'], ['Below', ' ', 'is', ' ', 'a', ' ', 'list', ' ', 'of', ' ', 'the', ' ', 'ways', ' ', 'you', ' ', 'might', ' ', 'have', ' ', 'felt', ' ', 'or', ' ', 'behaved.', ' ', 'Please', ' ', 'tell', ' ', 'me', ' ', 'how', ' ', 'often', ' ', 'you', ' ', 'have', ' ', 'felt', ' ', 'this', ' ', 'way', ' ', 'during', ' ', 'the', ' ', 'past', ' ', 'week.', '\\r'], ['10.', ' ', ' ', 'I', ' ', 'felt', ' ', 'fearful.', '\\r'], ['1.', ' ', ' ', 'I', ' ', 'was', ' ', 'bothered', ' ', 'by', ' ', 'things', ' ', 'that', ' ', 'usually', ' ', 'don’t', ' ', 'bother', ' ', 'me.', ' ', '2.', ' ', ' ', 'I', ' ', 'did', ' ', 'not', ' ', 'feel', ' ', 'like', ' ', 'eating;', ' ', 'my', ' ', 'appetite', ' ', 'was', ' ', 'poor.', ' ', '3.', ' ', ' ', 'I', ' ', 'felt', ' ', 'that', ' ', 'I', ' ', 'could', ' ', 'not', ' ', 'shake', ' ', 'off', ' ', 'the', ' ', 'blues', ' ', 'even', ' ', 'with', ' ', 'help', ' ', 'from', ' ', 'my', ' ', 'family', ' ', 'or', ' ', 'friends.', ' ', '4.', ' ', ' ', 'I', ' ', 'felt', ' ', 'I', ' ', 'was', ' ', 'just', ' ', 'as', ' ', 'good', ' ', 'as', ' ', 'other', ' ', 'people.', ' ', '5.', ' ', ' ', 'I', ' ', 'had', ' ', 'trouble', ' ', 'keeping', ' ', 'my', ' ', 'mind', ' ', 'on', ' ', 'what', ' ', 'I', ' ', 'was', ' ', 'doing.', ' ', '6.', ' ', ' ', 'I', ' ', 'felt', ' ', 'depressed.', '\\r'], ['18.', ' ', ' ', 'I', ' ', 'felt', ' ', 'sad.', '\\r'], ['13.', ' ', ' ', 'I', ' ', 'talked', ' ', 'less', ' ', 'than', ' ', 'usual.', '\\r'], ['17.', ' ', ' ', 'I', ' ', 'had', ' ', 'crying', ' ', 'spells.', '\\r'], ['15.', ' ', ' ', 'People', ' ', 'were', ' ', 'unfriendly.', '\\r'], ['7.', ' ', ' ', 'I', ' ', 'felt', ' ', 'that', ' ', 'everything', ' ', 'I', ' ', 'did', ' ', 'was', ' ', 'an', ' ', 'effort.', ' ', '8.', ' ', ' ', 'I', ' ', 'felt', ' ', 'hopeful', ' ', 'about', ' ', 'the', ' ', 'future.', '\\r'], ['19.', ' ', ' ', 'I', ' ', 'felt', ' ', 'that', ' ', 'people', ' ', 'dislike', ' ', 'me.', '\\r'], ['11.', ' ', ' ', 'My', ' ', 'sleep', ' ', 'was', ' ', 'restless.', '\\r'], [], ['ASWD', ' ', '{ASK', ' ', 'ALL}', ' ', 'How', ' ', 'often,', ' ', 'if', ' ', 'at', ' ', 'all,', ' ', 'do', ' ', 'you', ' ', 'drink', ' ', 'diet', ' ', 'drinks', ' ', 'or', ' ', 'sugar-free', ' ', 'drinks', ' ', 'like', ' ', 'diet', ' ', 'cola', ' ', 'or', ' ', 'sugar-free', ' ', 'squash?', '\\r'], ['SWTD', ' ', '{ASK', ' ', 'ALL}', ' ', 'How', ' ', 'often,', ' ', 'if', ' ', 'at', ' ', 'all,', ' ', 'do', ' ', 'you', ' ', 'drink', ' ', 'sugary', ' ', 'drinks', ' ', 'like', ' ', 'regular', ' ', 'cola', ' ', 'or', ' ', 'squash?', '\\r'], ['SOME', ' ', '{ASK', ' ', 'ALL}', ' ', 'On', ' ', 'a', ' ', 'normal', ' ', 'week', ' ', 'day,', ' ', 'how', ' ', 'many', ' ', 'hours', ' ', 'do', ' ', 'you', ' ', 'spend', ' ', 'on', ' ', 'social', ' ', 'networking', ' ', 'or', ' ', 'messaging', ' ', 'sites', ' ', 'or', ' ', 'apps', ' ', 'on', ' ', 'the', ' ', 'internet', ' ', 'such', ' ', 'as', ' ', 'Facebook,', ' ', 'Twitter,', ' ', 'WhatsApp,', ' ', 'Instagram', ' ', 'and', ' ', 'Snapchat?', '\\r'], ['GANG', ' ', '{ASK', ' ', 'ALL}', ' ', 'Are', ' ', 'you', ' ', 'a', ' ', 'member', ' ', 'of', ' ', 'a', ' ', '<b>street', ' ', 'gang</b>?', '\\r'], ['CARR', ' ', '{ASK', ' ', 'ALL,', ' ', 'OPEN', ' ', 'ENDED}', ' ', 'What', ' ', 'job', ' ', 'do', ' ', 'you', ' ', 'think', ' ', 'you', ' ', 'will', ' ', 'be', ' ', 'doing', ' ', 'when', ' ', 'you', ' ', 'are', ' ', '30?', '\\r'], ['GRID', ' ', 'ROWS', ' ', 'DISC', ' ', 'Go', ' ', 'to', ' ', 'a', ' ', 'party,', ' ', 'dance,', ' ', 'house', ' ', 'party', ' ', 'or', ' ', 'nightclub?', ' ', 'THEA', ' ', 'Go', ' ', 'to', ' ', 'the', ' ', 'theatre', ' ', '(for', ' ', 'example', ' ', 'to', ' ', 'see', ' ', 'a', ' ', 'play,', ' ', 'pantomime', ' ', 'or', ' ', 'opera)?', ' ', 'SPOR', ' ', 'Go', ' ', 'to', ' ', 'watch', ' ', 'live', ' ', 'sport', ' ', '(for', ' ', 'example', ' ', 'at', ' ', 'a', ' ', 'stadium)?', ' ', 'BAND', ' ', 'Sing', ' ', 'in', ' ', 'a', ' ', 'choir', ' ', 'or', ' ', 'play', ' ', 'in', ' ', 'a', ' ', 'band', ' ', 'or', ' ', 'orchestra?', ' ', 'MGIG', ' ', 'Go', ' ', 'to', ' ', 'a', ' ', 'live', ' ', 'music', ' ', 'concert', ' ', 'or', ' ', 'gig?', ' ', 'RJOY', ' ', 'Read', ' ', 'for', ' ', 'enjoyment?', ' ', 'ORGA', ' ', 'Go', ' ', 'to', ' ', 'youth', ' ', 'clubs,', ' ', 'explorer', ' ', 'scouts,', ' ', 'senior', ' ', 'guides', ' ', 'or', ' ', 'other', ' ', 'organised', ' ', 'activities?', ' ', 'LIBR', ' ', 'Go', ' ', 'to', ' ', 'a', ' ', 'library?', ' ', 'MUSM', ' ', 'Go', ' ', 'to', ' ', 'museums', ' ', 'or', ' ', 'galleries,', ' ', 'visit', ' ', 'a', ' ', 'historic', ' ', 'place', ' ', 'or', ' ', 'stately', ' ', 'home?', ' ', 'VOLW', ' ', 'Do', ' ', 'voluntary', ' ', 'or', ' ', 'community', ' ', 'work?', ' ', 'POLM', ' ', 'Go', ' ', 'to', ' ', 'a', ' ', 'political', ' ', 'meeting,', ' ', 'march,', ' ', 'rally', ' ', 'or', ' ', 'demonstration?', ' ', 'RLSV', ' ', 'Attend', ' ', 'a', ' ', 'religious', ' ', 'service?', ' ', 'SPFD', ' ', 'Spend', ' ', 'time', ' ', 'with', ' ', 'friends', ' ', '(outside', ' ', 'of', ' ', 'school', ' ', 'or', ' ', 'work)?', '\\r'], ['GRID', ' ', 'ROWS', ' ', 'QZPY', ' ', 'Student', ' ', 'loans', ' ', 'only', ' ', 'start', ' ', 'being', ' ', 'repaid', ' ', 'once', ' ', 'earnings', ' ', 'are', ' ', 'above', ' ', 'a', ' ', 'certain', ' ', 'level', ' ', 'QZLN', ' ', 'Any', ' ', 'student', ' ', 'loans', ' ', 'outstanding', ' ', 'after', ' ', 'a', ' ', 'given', ' ', 'number', ' ', 'of', ' ', 'years', ' ', 'are', ' ', 'written', ' ', 'off', '\\r'], ['For', ' ', 'your', ' ', 'own', ' ', 'protection,', ' ', 'because', ' ', 'someone', ' ', 'else', ' ', 'asked', ' ', 'you', ' ', 'to', ' ', 'or', ' ', 'in', ' ', 'case', ' ', 'you', ' ', 'get', ' ', 'into', ' ', 'a', ' ', 'fight.', '\\r'], ['EARN', ' ', '…<b>don’t</b>', ' ', 'go', ' ', 'to', ' ', 'university?', ' ', 'ERNU', ' ', '…<b>were</b>', ' ', 'to', ' ', 'go', ' ', 'to', ' ', 'university?', '\\r'], ['***RISK', ' ', 'RSKA-RSKJ', ' ', '{ASK', ' ', 'ALL}', '\\r'], ['Would', ' ', 'you', ' ', 'prefer:', '\\r'], ['GLTY', ' ', '{ASK', ' ', 'IF', ' ', 'ARRESTED', ' ', 'AND', ' ', 'APPEARED', ' ', 'IN', ' ', 'COURT:', ' ', 'ARES', ' ', '=', ' ', '1', ' ', 'AND', ' ', 'CORT', ' ', '=', ' ', '1}', ' ', 'Were', ' ', 'you', ' ', 'found', ' ', 'guilty', ' ', 'or', ' ', 'not', ' ', 'guilty?', '\\r'], ['GRID', ' ', 'ROWS', ' ', 'SAFF', ' ', 'I', ' ', 'have', ' ', 'family', ' ', 'and', ' ', 'friends', ' ', 'who', ' ', 'help', ' ', 'me', ' ', 'feel', ' ', 'safe,', ' ', 'secure', ' ', 'and', ' ', 'happy', ' ', 'TRSS', ' ', 'There', ' ', 'is', ' ', 'someone', ' ', 'I', ' ', 'trust', ' ', 'whom', ' ', 'I', ' ', 'would', ' ', 'turn', ' ', 'to', ' ', 'for', ' ', 'advice', ' ', 'if', ' ', 'I', ' ', 'were', ' ', 'having', ' ', 'problems', ' ', 'NCLS', ' ', 'There', ' ', 'is', ' ', 'no', ' ', 'one', ' ', 'I', ' ', 'feel', ' ', 'close', ' ', 'to', '\\r'], ['CRHR', ' ', '{ASK', ' ', 'IF', ' ', 'CARES', ' ', 'FOR', ' ', 'ANYONE:', ' ', 'CARE', ' ', '=', ' ', '1}', ' ', 'Taking', ' ', 'account', ' ', 'of', ' ', 'all', ' ', 'the', ' ', 'unpaid', ' ', 'help', ' ', 'you', ' ', 'give,', ' ', 'including', ' ', 'travelling', ' ', 'time,', ' ', 'about', ' ', 'how', ' ', 'long', ' ', 'did', ' ', 'you', ' ', 'spend', ' ', 'looking', ' ', 'after', ' ', 'people', ' ', 'last', ' ', 'week?', '\\r'], ['BRKN', ' ', '{ASK', ' ', 'ALL}', ' ', 'How', ' ', 'often', ' ', 'do', ' ', 'you', ' ', 'eat', ' ', 'breakfast', ' ', 'over', ' ', 'a', ' ', 'week?', '\\r'], ['***RELIGIOUS', ' ', 'IDENTITY', ' ', 'RELE', ' ', '{IF', ' ', 'LIVES', ' ', 'IN', ' ', 'ENGLAND:', ' ', 'HQ.COUNTRY', ' ', '=', ' ', '1}', ' ', 'What', ' ', 'is', ' ', 'your', ' ', 'religion?', '\\r'], ['Please', ' ', 'include', ' ', 'travel', ' ', 'to', ' ', 'and', ' ', 'from', ' ', 'work,', ' ', 'training,', ' ', 'school,', ' ', 'college', ' ', 'or', ' ', 'university.', '\\r'], ['LANF', ' ', '{ASK', ' ', 'ALL,', ' ', 'MULTICODE}', ' ', 'Which', ' ', 'languages', ' ', 'do', ' ', 'you', ' ', 'speak', ' ', 'with', ' ', 'your', ' ', 'friends?', '\\r'], ['RELW', ' ', '{IF', ' ', 'LIVES', ' ', 'IN', ' ', 'WALES:', ' ', 'HQ.COUNTRY', ' ', '=', ' ', '2}', ' ', 'What', ' ', 'is', ' ', 'your', ' ', 'religion?', '\\r'], ['CNFA', ' ', '{IF', ' ', 'VALID', ' ', 'RESPONSE', ' ', 'AT', ' ', 'COST:', ' ', 'COST', ' ', '=', ' ', '1-11}', ' ', 'How', ' ', 'confident', ' ', 'are', ' ', 'you', ' ', 'in', ' ', 'your', ' ', 'answer', ' ', 'about', ' ', 'the', ' ', 'cost', ' ', 'of', ' ', 'a', ' ', 'three-year', ' ', 'undergraduate', ' ', 'degree?', '\\r'], ['TKWY', ' ', '{ASK', ' ', 'ALL}', ' ', 'How', ' ', 'often,', ' ', 'if', ' ', 'at', ' ', 'all,', ' ', 'do', ' ', 'you', ' ', 'eat', ' ', 'fast', ' ', 'food', ' ', 'such', ' ', 'as', ' ', 'McDonalds,', ' ', 'Burger', ' ', 'King,', ' ', 'KFC', ' ', 'or', ' ', 'other', ' ', 'fast', ' ', 'food', ' ', 'like', ' ', 'that?', '\\r'], ['RELN', ' ', '{IF', ' ', 'LIVES', ' ', 'IN', ' ', 'NORTHERN', ' ', 'IRELAND:', ' ', 'HQ.COUNTRY', ' ', '=', ' ', '4}', ' ', 'What', ' ', 'religion,', ' ', 'religious', ' ', 'denomination', ' ', 'or', ' ', 'body', ' ', 'do', ' ', 'you', ' ', 'belong', ' ', 'to?', '\\r'], ['Personality', ' ', 'and', ' ', 'Attitudes', '\\r'], ['If', ' ', 'you’re', ' ', 'studying', ' ', 'or', ' ', 'training', ' ', 'and', ' ', 'working,', ' ', 'please', ' ', 'think', ' ', 'of', ' ', 'the', ' ', 'method', ' ', 'you', ' ', 'use', ' ', 'for', ' ', 'travelling', ' ', 'to', ' ', 'your', ' ', '<b>main', ' ', 'activity</b>.', '\\r'], ['You', ' ', 'are', ' ', 'now', ' ', 'going', ' ', 'to', ' ', 'be', ' ', 'asked', ' ', 'some', ' ', 'more', ' ', 'choices', ' ', 'between', ' ', 'two', ' ', 'imaginary', ' ', 'alternatives.', ' ', 'One', ' ', 'alternative', ' ', 'involves', ' ', 'getting', ' ', 'an', ' ', 'amount', ' ', 'of', ' ', 'money', ' ', \"'in\", ' ', 'two', ' ', \"months'.\", ' ', 'The', ' ', 'other', ' ', 'alternative', ' ', 'involves', ' ', 'getting', ' ', 'a', ' ', '(usually)', ' ', 'larger', ' ', 'amount', ' ', 'of', ' ', 'money', ' ', '‘in', ' ', 'four', ' ', \"months'.\", ' ', 'In', ' ', 'each', ' ', 'case,', ' ', 'just', ' ', 'chose', ' ', 'the', ' ', 'option', ' ', 'that', ' ', 'you', ' ', 'would', ' ', 'like', ' ', 'the', ' ', 'most.', '\\r'], ['TRTI', ' ', '{ASK', ' ', 'ALL}', ' ', 'Thinking', ' ', 'of', ' ', 'your', ' ', 'usual', ' ', 'journey', ' ', 'on', ' ', 'a', ' ', 'typical', ' ', 'day,', ' ', 'how', ' ', 'long', ' ', 'does', ' ', 'it', ' ', 'take', ' ', 'you', ' ', 'to', ' ', 'get', ' ', 'from', ' ', 'home', ' ', 'to', ' ', 'school,', ' ', 'college,', ' ', 'university,', ' ', 'training', ' ', 'place', ' ', 'or', ' ', 'work', ' ', '<b>one', ' ', 'way</b>?', '\\r'], ['WEGT', ' ', '{ASK', ' ', 'ALL}', ' ', 'Which', ' ', 'of', ' ', 'these', ' ', 'do', ' ', 'you', ' ', 'think', ' ', 'you', ' ', 'are?', '\\r'], ['INTROYPCAWI3', ' ', '{DISPLAY', ' ', 'TO', ' ', 'ALL}', ' ', 'Some', ' ', 'questions', ' ', 'are', ' ', 'about', ' ', 'things', ' ', 'that', ' ', 'are', ' ', 'more', ' ', 'personal.', ' ', 'Remember', ' ', 'no-one', ' ', 'in', ' ', 'your', ' ', 'family', ' ', 'will', ' ', 'see', ' ', 'your', ' ', 'answers.', ' ', 'If', ' ', 'you', ' ', 'come', ' ', 'to', ' ', 'a', ' ', 'question', ' ', 'that', ' ', 'you', ' ', 'don’t', ' ', 'want', ' ', 'to', ' ', 'answer', ' ', 'that’s', ' ', 'ok.', ' ', 'You', ' ', 'can', ' ', 'skip', ' ', 'it', ' ', 'and', ' ', 'move', ' ', 'to', ' ', 'the', ' ', 'next', ' ', 'one', ' ', 'by', ' ', 'pressing', ' ', '‘next’.', '\\r'], ['HELP:', ' ', 'Include', ' ', 'expenses', ' ', 'such', ' ', 'as', ' ', 'textbooks;', ' ', 'travel;', ' ', 'food;', ' ', 'rent', ' ', 'if', ' ', 'you', ' ', 'think', ' ', 'you', ' ', 'will', ' ', 'live', ' ', 'away', ' ', 'from', ' ', 'home.', ' ', 'LINK:', ' ', 'after', ' ', 'question', ' ', 'stem', '\\r'], ['COST', ' ', '{ASK', ' ', 'ALL}', ' ', 'How', ' ', 'much', ' ', 'do', ' ', 'you', ' ', 'think', ' ', 'it', ' ', 'would', ' ', 'cost', ' ', 'in', ' ', 'total', ' ', 'to', ' ', 'get', ' ', 'a', ' ', 'three-year', ' ', 'undergraduate', ' ', 'degree?', ' ', 'Include', ' ', 'tuition', ' ', 'fees', ' ', 'and', ' ', 'the', ' ', 'cost', ' ', 'of', ' ', 'living', ' ', 'expenses', ' ', 'from', ' ', 'going', ' ', 'to', ' ', 'university.', '\\r'], ['LSWT', ' ', '{ASK', ' ', 'ALL}', ' ', 'Which', ' ', 'of', ' ', 'the', ' ', 'following', ' ', 'are', ' ', 'you', ' ', 'trying', ' ', 'to', ' ', 'do', ' ', 'about', ' ', 'your', ' ', 'weight?', '\\r'], ['COMH', ' ', '{ASK', ' ', 'ALL}', ' ', 'On', ' ', 'a', ' ', 'normal', ' ', 'week', ' ', 'day,', ' ', 'how', ' ', 'many', ' ', 'hours', ' ', 'do', ' ', 'you', ' ', 'spend', ' ', '<b>playing', ' ', 'games,', ' ', 'including', ' ', 'online', ' ', 'games</b>,', ' ', 'on', ' ', 'a', ' ', 'computer,', ' ', 'tablet,', ' ', 'smartphone', ' ', 'or', ' ', 'games', ' ', 'systems,', ' ', 'such', ' ', 'as', ' ', 'Wii,', ' ', 'Nintendo', ' ', 'DS,', ' ', 'Xbox', ' ', 'or', ' ', 'PlayStation?', '\\r'], ['SOFTCHECK:', ' ', 'IF', ' ', 'NUMBER', ' ', 'OF', ' ', 'CHARACTERS', ' ', '<', ' ', '3:', ' ', '“Please', ' ', 'make', ' ', 'sure', ' ', 'you', ' ', 'have', ' ', 'entered', ' ', 'the', ' ', 'details', ' ', 'of', ' ', 'the', ' ', 'job', ' ', 'you', ' ', 'think', ' ', 'you', ' ', 'will', ' ', 'be', ' ', 'doing', ' ', 'when', ' ', 'you', ' ', 'are', ' ', '30.”', '\\r'], ['Please', ' ', 'make', ' ', 'sure', ' ', 'you', ' ', 'have', ' ', 'read', ' ', 'the', ' ', 'booklet', ' ', 'we', ' ', 'sent', ' ', 'you,', ' ', 'called', ' ', '“WHAT', ' ', 'WOULD', ' ', 'WE', ' ', 'LIKE', ' ', 'YOU', ' ', 'TO', ' ', 'DO?', ' ', 'INFORMATION', ' ', 'FOR', ' ', 'STUDY', ' ', 'MEMBERS”.', ' ', 'If', ' ', 'you', ' ', 'don’t', ' ', 'have', ' ', 'it', ' ', 'to', ' ', 'hand,', ' ', 'you', ' ', 'can', ' ', 'find', ' ', 'a', ' ', 'copy', ' ', 'here.', ' ', 'If', ' ', 'you', ' ', 'have', ' ', 'any', ' ', 'questions', ' ', 'before', ' ', 'you', ' ', 'start', ' ', 'the', ' ', 'questionnaire,', ' ', 'you', ' ', 'can', ' ', 'call', ' ', 'the', ' ', 'team', ' ', 'on', ' ', '0808', ' ', '202', ' ', '2102', ' ', 'or', ' ', 'email', ' ', 'childnc@ipsos.com.', '\\r'], ['ETLS', ' ', '{ASK', ' ', 'ALL}', ' ', 'In', ' ', 'the', ' ', 'last', ' ', '12', ' ', 'months,', ' ', 'have', ' ', 'you', ' ', 'eaten', ' ', 'less', ' ', 'food,', ' ', 'fewer', ' ', 'calories,', ' ', 'or', ' ', 'foods', ' ', 'low', ' ', 'in', ' ', 'fat', ' ', 'to', ' ', 'lose', ' ', 'weight', ' ', 'or', ' ', 'to', ' ', 'avoid', ' ', 'gaining', ' ', 'weight?', '\\r'], ['**CONTACT', ' ', 'WITH', ' ', 'POLICE', '\\r'], ['Activities', ' ', 'and', ' ', 'Risky', ' ', 'Behaviours', '\\r'], ['TVHO', ' ', '{ASK', ' ', 'ALL}', ' ', 'On', ' ', 'a', ' ', 'normal', ' ', 'week', ' ', 'day,', ' ', 'how', ' ', 'many', ' ', 'hours', ' ', 'do', ' ', 'you', ' ', 'spend', ' ', '<b>watching', ' ', 'programmes', ' ', 'or', ' ', 'films</b>', ' ', 'e.g', ' ', 'on', ' ', 'a', ' ', 'television', ' ', 'or', ' ', 'a', ' ', 'device', ' ', 'such', ' ', 'as', ' ', 'a', ' ', 'laptop,', ' ', 'tablet', ' ', 'or', ' ', 'smartphone?', ' ', 'Please', ' ', 'remember', ' ', 'to', ' ', 'include', ' ', 'time', ' ', 'spent', ' ', 'watching', ' ', 'DVDs,', ' ', 'Blu-rays', ' ', 'etc.', '\\r'], ['Please', ' ', 'tell', ' ', 'us', ' ', 'which', ' ', 'method', ' ', 'you', ' ', 'use', ' ', 'for', ' ', 'the', ' ', 'longest', ' ', 'part', ' ', 'of', ' ', 'your', ' ', 'usual', ' ', 'journey.', ' ', 'If', ' ', 'you’re', ' ', 'studying', ' ', 'or', ' ', 'training', ' ', 'and', ' ', 'working,', ' ', 'please', ' ', 'think', ' ', 'of', ' ', 'the', ' ', 'method', ' ', 'you', ' ', 'use', ' ', 'for', ' ', 'travelling', ' ', 'to', ' ', 'your', ' ', '<b>main', ' ', 'activity</b>.', '\\r'], ['GRID', ' ', 'ROWS', ' ', 'OPPO', ' ', 'None', ' ', 'of', ' ', 'the', ' ', 'political', ' ', 'parties', ' ', 'would', ' ', 'do', ' ', 'anything', ' ', 'to', ' ', 'benefit', ' ', 'me', ' ', 'OPJO', ' ', 'Having', ' ', 'almost', ' ', 'any', ' ', 'job', ' ', 'is', ' ', 'better', ' ', 'than', ' ', 'being', ' ', 'unemployed', ' ', 'OPCH', ' ', 'Couples', ' ', 'who', ' ', 'have', ' ', 'children', ' ', 'should', ' ', 'not', ' ', 'separate', ' ', 'OPAB', ' ', 'All', ' ', 'women', ' ', 'should', ' ', 'have', ' ', 'the', ' ', 'right', ' ', 'to', ' ', 'choose', ' ', 'to', ' ', 'have', ' ', 'an', ' ', 'abortion', ' ', 'if', ' ', 'they', ' ', 'wish', ' ', 'OPRA', ' ', 'I', ' ', 'would', ' ', 'not', ' ', 'mind', ' ', 'if', ' ', 'a', ' ', 'family', ' ', 'from', ' ', 'another', ' ', 'race', ' ', 'moved', ' ', 'in', ' ', 'next', ' ', 'door', ' ', 'to', ' ', 'me', ' ', 'OPRE', ' ', 'I', ' ', 'would', ' ', 'not', ' ', 'mind', ' ', 'if', ' ', 'a', ' ', 'family', ' ', 'from', ' ', 'another', ' ', 'religion', ' ', 'moved', ' ', 'in', ' ', 'next', ' ', 'door', ' ', 'to', ' ', 'me', ' ', 'OPEN', ' ', 'Preserving', ' ', 'the', ' ', 'environment', ' ', 'is', ' ', 'more', ' ', 'important', ' ', 'than', ' ', 'any', ' ', 'other', ' ', 'political', ' ', 'issue', ' ', 'today', '\\r'], ['FRUT', ' ', '{ASK', ' ', 'ALL}', ' ', 'How', ' ', 'often', ' ', 'do', ' ', 'you', ' ', 'eat', ' ', 'at', ' ', 'least', ' ', '2', ' ', 'portions', ' ', 'of', ' ', 'fruit', ' ', 'per', ' ', 'day?', '\\r'], ['POLS', ' ', '{ASK', ' ', 'ALL}', ' ', 'Have', ' ', 'you', ' ', 'ever', ' ', 'been', ' ', 'stopped', ' ', 'and', ' ', 'questioned', ' ', 'by', ' ', 'the', ' ', 'police?', '\\r'], ['1', ' ', 'Owning', ' ', 'your', ' ', 'own', ' ', 'home', ' ', '2', ' ', 'Having', ' ', 'a', ' ', 'good', ' ', 'car', ' ', '3', ' ', 'Earning', ' ', 'a', ' ', 'lot', ' ', 'of', ' ', 'money', ' ', '4', ' ', 'Having', ' ', 'a', ' ', 'worthwhile', ' ', 'job', ' ', '5', ' ', 'Having', ' ', 'children', ' ', '6', ' ', 'Having', ' ', 'a', ' ', 'partner', ' ', 'or', ' ', 'being', ' ', 'married', ' ', '7', ' ', 'Being', ' ', 'famous', ' ', 'or', ' ', 'making', ' ', 'a', ' ', 'name', ' ', 'for', ' ', 'yourself', ' ', '8', ' ', 'Having', ' ', 'a', ' ', 'personal', ' ', 'achievement', ' ', 'in', ' ', 'sport,', ' ', 'the', ' ', 'arts', ' ', 'or', ' ', 'travel', ' ', 'etc.', ' ', '9', ' ', 'None', ' ', 'of', ' ', 'these', ' ', '(EXCLUSIVE)', '\\r'], ['***SOCIAL', ' ', 'PROVISION', ' ', 'SAFF-NCLS', ' ', '{ASK', ' ', 'ALL,', ' ', 'ASK', ' ', 'AS', ' ', 'A', ' ', 'GRID}', ' ', 'In', ' ', 'answering', ' ', 'the', ' ', 'following', ' ', 'questions,', ' ', 'think', ' ', 'about', ' ', 'your', ' ', 'current', ' ', 'relationships', ' ', 'with', ' ', 'friends,', ' ', 'family', ' ', 'members,', ' ', 'community', ' ', 'members,', ' ', 'and', ' ', 'so', ' ', 'on.', ' ', 'Please', ' ', 'indicate', ' ', 'to', ' ', 'what', ' ', 'extent', ' ', 'each', ' ', 'statement', ' ', 'describes', ' ', 'your', ' ', 'current', ' ', 'relationships', ' ', 'with', ' ', 'other', ' ', 'people.', '\\r'], ['MILK', ' ', '{ASK', ' ', 'ALL}', ' ', 'Which', ' ', 'type', ' ', 'of', ' ', 'milk', ' ', 'do', ' ', 'you', ' ', 'usually', ' ', 'have?', '\\r'], ['Risk', ' ', 'and', ' ', 'Time', ' ', 'Preference', '\\r'], ['REUN', ' ', '{ASK', ' ', 'IF', ' ', 'NOT', ' ', 'IN', ' ', 'UNIVERSITY', ' ', 'AND', ' ', 'IF', ' ', 'ANY', ' ', 'CHANCE', ' ', 'OF', ' ', 'GOING', ' ', 'TO', ' ', 'UNIVERSITY:', ' ', 'UNIQ=<>1', ' ', 'AND', ' ', 'STYR', ' ', '>', ' ', '0}', ' ', 'What', ' ', 'is', ' ', 'the', ' ', 'main', ' ', 'reason', ' ', 'why', ' ', 'you', ' ', 'might', ' ', 'or', ' ', 'will', ' ', '<b>go</b>', ' ', 'to', ' ', 'university?', ' ', '1', ' ', ' ', ' ', 'To', ' ', 'gain', ' ', 'qualifications', ' ', 'to', ' ', 'get', ' ', 'a', ' ', 'better', ' ', 'job/pursue', ' ', 'the', ' ', 'career', ' ', 'I', ' ', 'want', ' ', '2', ' ', ' ', ' ', 'To', ' ', 'learn', ' ', 'more/', ' ', 'increase', ' ', 'my', ' ', 'knowledge', ' ', '3', ' ', ' ', ' ', 'I', ' ', 'enjoy', ' ', 'education', ' ', '4', ' ', ' ', ' ', 'I', ' ', 'feel', ' ', 'I', ' ', 'should', ' ', 'go', ' ', 'to', ' ', 'university', ' ', '5', ' ', ' ', ' ', 'My', ' ', 'parent(s)/relatives', ' ', 'recommend', ' ', 'that', ' ', 'I', ' ', 'should', ' ', 'go', ' ', '6', ' ', ' ', ' ', 'My', ' ', 'teachers', ' ', 'recommend', ' ', 'that', ' ', 'I', ' ', 'should', ' ', 'go', ' ', '7', ' ', ' ', ' ', 'My', ' ', 'friends', ' ', 'will', ' ', 'go', ' ', '8', ' ', ' ', ' ', 'I', ' ', 'would', ' ', 'enjoy', ' ', 'the', ' ', 'social', ' ', 'life', ' ', '9', ' ', ' ', ' ', 'To', ' ', 'get', ' ', 'away', ' ', 'from', ' ', 'home', ' ', '10', ' ', 'To', ' ', 'experience', ' ', 'new', ' ', 'things/places', ' ', '11', ' ', 'Other', ' ', '(PLEASE', ' ', 'WRITE', ' ', 'IN)', ' ', ' ', '{VARNAME', ' ', 'REUO', ' ', '200}', '\\r'], ['BRED', ' ', '{ASK', ' ', 'ALL}', ' ', 'Which', ' ', 'type', ' ', 'of', ' ', 'bread', ' ', 'do', ' ', 'you', ' ', 'normally', ' ', 'eat?', '\\r'], ['**GAMBLING', ' ', 'GAMA-GAMJ', ' ', '{ASK', ' ', 'ALL,', ' ', 'ASK', ' ', 'AS', ' ', 'A', ' ', 'GRID}', ' ', 'Have', ' ', 'you', ' ', 'spent', ' ', 'any', ' ', 'of', ' ', 'your', ' ', '<b>own', ' ', 'money</b>', ' ', 'on', ' ', 'any', ' ', 'of', ' ', 'the', ' ', 'following', ' ', 'in', ' ', 'the', ' ', 'past', ' ', '4', ' ', 'weeks?', ' ', 'We', ' ', 'want', ' ', 'to', ' ', 'know', ' ', 'about', ' ', 'games', ' ', 'you', ' ', 'played', ' ', 'yourself.', '\\r'], ['GRID', ' ', 'ROWS', ' ', 'SOCM', ' ', 'I', ' ', 'think', ' ', 'I', ' ', 'am', ' ', 'addicted', ' ', 'to', ' ', 'social', ' ', 'media', ' ', 'SOCH', ' ', 'I’m', ' ', 'more', ' ', 'connected', ' ', 'and', ' ', 'happier', ' ', 'online', ' ', 'than', ' ', 'I', ' ', 'am', ' ', 'in', ' ', 'real', ' ', 'life', '\\r'], ['PDJA-PDJB', ' ', '{ASK', ' ', 'ALL}', ' ', 'Now', ' ', 'look', ' ', 'ahead', ' ', 'to', ' ', 'what', ' ', 'you', ' ', 'might', ' ', 'be', ' ', 'doing', ' ', 'at', ' ', 'the', ' ', 'age', ' ', 'of', ' ', '30,', ' ', 'and', ' ', 'imagine', ' ', 'how', ' ', 'this', ' ', 'might', ' ', 'depend', ' ', 'on', ' ', 'the', ' ', 'education', ' ', 'choices', ' ', 'you', ' ', 'make.', '\\r'], ['GRID', ' ', 'ROWS', ' ', 'BSCA', ' ', 'I', ' ', 'am', ' ', 'good', ' ', 'at', ' ', 'resisting', ' ', 'temptation', ' ', 'BSCB', ' ', 'I', ' ', 'find', ' ', 'it', ' ', 'hard', ' ', 'to', ' ', 'break', ' ', 'bad', ' ', 'habits', ' ', 'BSCC', ' ', 'I', ' ', 'wish', ' ', 'I', ' ', 'had', ' ', 'more', ' ', 'self-control', ' ', 'BSCD', ' ', 'People', ' ', 'would', ' ', 'say', ' ', 'that', ' ', 'I', ' ', 'have', ' ', 'strong', ' ', 'self-control', '\\r'], ['EARN-ERNU', ' ', '{ASK', ' ', 'ALL}', ' ', 'If', ' ', 'you', ' ', 'have', ' ', 'a', ' ', 'paid', ' ', 'job', ' ', 'at', ' ', 'the', ' ', 'age', ' ', 'of', ' ', '30,', ' ', 'what', ' ', 'is', ' ', 'your', ' ', 'best', ' ', 'estimate', ' ', 'of', ' ', 'how', ' ', 'much', ' ', 'you', ' ', 'might', ' ', 'be', ' ', 'earning', ' ', '<b>per', ' ', 'year</b>', ' ', 'if', ' ', 'you…', '\\r'], ['OTNT', ' ', '{IF', ' ', 'LIVING', ' ', 'WITH', ' ', 'ANY', ' ', 'PARENTS:', ' ', 'LWPA=1}', ' ', 'If', ' ', 'you', ' ', 'go', ' ', 'out', ' ', 'at', ' ', 'night,', ' ', 'do', ' ', 'your', ' ', 'parents', ' ', 'ever', ' ', 'set', ' ', 'a', ' ', 'time', ' ', 'for', ' ', 'you', ' ', 'to', ' ', 'be', ' ', 'back', ' ', 'by?', '\\r'], ['**KNIFE', ' ', 'AND', ' ', 'GANG', ' ', 'KNIF', ' ', '{ASK', ' ', 'ALL}', ' ', 'In', ' ', 'the', ' ', 'last', ' ', '12', ' ', 'months', ' ', 'have', ' ', 'you', ' ', 'carried', ' ', 'a', ' ', 'knife', ' ', 'or', ' ', 'other', ' ', 'weapon?', '\\r'], ['VEGI', ' ', '{ASK', ' ', 'ALL}', ' ', 'How', ' ', 'often', ' ', 'do', ' ', 'you', ' ', 'eat', ' ', 'at', ' ', 'least', ' ', '2', ' ', 'portions', ' ', 'of', ' ', 'vegetables', ' ', 'including', ' ', 'salad,', ' ', 'fresh,', ' ', 'frozen', ' ', 'or', ' ', 'tinned', ' ', 'vegetables', ' ', 'per', ' ', 'day?', '\\r'], ['How', ' ', 'likely', ' ', '(0-100%)', ' ', 'do', ' ', 'you', ' ', 'think', ' ', 'it', ' ', 'is', ' ', 'that', ' ', 'you', ' ', 'will', ' ', '<b>be', ' ', 'in', ' ', 'a', ' ', 'paid', ' ', 'job</b>', ' ', 'when', ' ', 'you', ' ', 'are', ' ', '30', ' ', 'if', ' ', 'you…', '\\r'], ['HLAN', ' ', '{ASK', ' ', 'ALL,', ' ', 'MULTICODE}', ' ', 'Which', ' ', 'languages', ' ', 'do', ' ', 'you', ' ', 'speak', ' ', 'at', ' ', 'home?', '\\r'], ['**ATTITUDES', ' ', 'OPPO-OPEN', ' ', '{ASK', ' ', 'ALL,', ' ', 'ASK', ' ', 'AS', ' ', 'A', ' ', 'GRID}', ' ', 'The', ' ', 'next', ' ', 'set', ' ', 'of', ' ', 'questions', ' ', 'is', ' ', 'a', ' ', 'list', ' ', 'of', ' ', 'opinions', ' ', 'on', ' ', 'different', ' ', 'topics.', ' ', 'Select', ' ', 'the', ' ', 'button', ' ', 'that', ' ', 'corresponds', ' ', 'with', ' ', 'how', ' ', 'much', ' ', 'you', ' ', 'agree', ' ', 'or', ' ', 'disagree', ' ', 'with', ' ', 'each', ' ', 'statement.', '\\r'], ['EXWT', ' ', '{ASK', ' ', 'ALL}', ' ', 'In', ' ', 'the', ' ', 'last', ' ', '12', ' ', 'months,', ' ', 'have', ' ', 'you', ' ', 'exercised', ' ', 'to', ' ', 'lose', ' ', 'weight', ' ', 'or', ' ', 'to', ' ', 'avoid', ' ', 'gaining', ' ', 'weight?', '\\r'], ['UNIQ', ' ', '{ASK', ' ', 'ALL}', ' ', 'Are', ' ', 'you', ' ', 'currently', ' ', 'studying', ' ', 'at', ' ', 'university?', '\\r'], ['RELS', ' ', '{IF', ' ', 'LIVES', ' ', 'IN', ' ', 'SCOTLAND:', ' ', 'HQ.COUNTRY', ' ', '=', ' ', '3}', ' ', 'What', ' ', 'religion,', ' ', 'religious', ' ', 'denomination', ' ', 'or', ' ', 'body', ' ', 'do', ' ', 'you', ' ', 'belong', ' ', 'to?', '\\r'], ['ASPR', ' ', '{ASK', ' ', 'ALL,', ' ', 'MULTICODE}', ' ', 'By', ' ', 'the', ' ', 'time', ' ', 'you', ' ', 'are', ' ', '30,', ' ', 'which', ' ', 'of', ' ', 'the', ' ', 'following', ' ', 'do', ' ', 'you', ' ', 'think', ' ', 'you', ' ', 'will', ' ', 'have', ' ', 'achieved?', '\\r'], ['1', ' ', '…Very', ' ', 'good', ' ', '2', ' ', '…Fairly', ' ', 'good', ' ', '3', ' ', '…Fairly', ' ', 'bad,', ' ', 'or', ' ', '4', ' ', '…Very', ' ', 'bad?', '\\r'], ['OUTW', ' ', '{IF', ' ', 'LIVING', ' ', 'WITH', ' ', 'ANY', ' ', 'PARENTS:', ' ', 'LWPA=1}', ' ', 'How', ' ', 'often', ' ', 'do', ' ', 'your', ' ', 'parents', ' ', 'know', ' ', 'where', ' ', 'you', ' ', 'are', ' ', 'going', ' ', 'when', ' ', 'you', ' ', 'go', ' ', 'out?', '\\r'], ['CORT', ' ', '{ASK', ' ', 'IF', ' ', 'ARRESTED:', ' ', 'ARES', ' ', '=', ' ', '1}', ' ', 'Have', ' ', 'you', ' ', 'appeared', ' ', 'in', ' ', 'court', ' ', 'because', ' ', 'you', ' ', 'were', ' ', 'accused', ' ', 'of', ' ', 'a', ' ', 'crime?', '\\r'], ['INTROYPCAWI1', ' ', '{DISPLAY', ' ', 'TO', ' ', 'ALL}', ' ', 'Thank', ' ', 'you', ' ', 'for', ' ', 'logging', ' ', 'on', ' ', 'to', ' ', 'complete', ' ', 'the', ' ', 'online', ' ', 'questionnaire.', '\\r'], ['STUN', ' ', '{ASK', ' ', 'IF', ' ', 'NOT', ' ', 'IN', ' ', 'UNIVERSITY', ' ', 'AND', ' ', 'IF', ' ', 'ANY', ' ', 'CHANCE', ' ', 'OF', ' ', 'NOT', ' ', 'GOING', ' ', 'TO', ' ', 'UNIVERSITY:', ' ', 'UNIQ=<>1', ' ', 'AND', ' ', 'STYR', ' ', '<', ' ', '100}', ' ', 'What', ' ', 'is', ' ', 'the', ' ', 'main', ' ', 'reason', ' ', 'why', ' ', 'you', ' ', 'might', ' ', 'not', ' ', 'or', ' ', 'will', ' ', '<b>not', ' ', 'go</b>', ' ', 'to', ' ', 'university?', ' ', '1', ' ', ' ', ' ', 'I', ' ', 'will', ' ', 'not', ' ', 'get', ' ', 'the', ' ', 'grades', ' ', '2', ' ', ' ', ' ', 'I', ' ', '/', ' ', 'my', ' ', 'family', ' ', 'can’t', ' ', 'afford', ' ', 'it', ' ', '3', ' ', ' ', ' ', 'I', ' ', 'would', ' ', 'prefer', ' ', 'to', ' ', 'get', ' ', 'a', ' ', 'job', ' ', '/', ' ', 'start', ' ', 'a', ' ', 'career', ' ', '4', ' ', ' ', ' ', 'Going', ' ', 'to', ' ', 'university', ' ', 'will', ' ', 'not', ' ', 'help', ' ', 'me', ' ', 'in', ' ', 'my', ' ', 'future', ' ', 'career', ' ', '5', ' ', ' ', ' ', \"I'm\", ' ', 'not', ' ', 'interested', ' ', 'in', ' ', 'going', ' ', 'to', ' ', 'university', ' ', '/', ' ', 'I', ' ', 'wouldn’t', ' ', 'enjoy', ' ', 'it', ' ', '6', ' ', ' ', ' ', 'I', ' ', 'want', ' ', 'to', ' ', 'start', ' ', 'a', ' ', 'family', ' ', '7', ' ', ' ', ' ', 'Parent(s)', ' ', '/', ' ', 'relatives', ' ', 'recommend', ' ', 'that', ' ', 'I', ' ', 'should', ' ', 'leave', ' ', 'after', ' ', '{IF', ' ', 'HQ.COUNTRY', ' ', '=', ' ', '1', ' ', 'OR', ' ', '2:', ' ', 'Year', ' ', '13}', ' ', '{IF', ' ', 'HQ.COUNTRY', ' ', '=', ' ', '4:', ' ', 'Year', ' ', '14', ' ', '(U6)}', ' ', '{IF', ' ', 'HQ.COUNTRY', ' ', '=', ' ', '3:', ' ', 'S6}', ' ', '8', ' ', ' ', ' ', 'Because', ' ', 'my', ' ', 'friends', ' ', 'plan', ' ', 'to', ' ', 'leave', ' ', 'after', ' ', '{IF', ' ', 'HQ.COUNTRY', ' ', '=', ' ', '1', ' ', 'OR', ' ', '2:', ' ', 'Year', ' ', '13}', ' ', '{IF', ' ', 'HQ.COUNTRY', ' ', '=', ' ', '4:', ' ', 'Year', ' ', '14', ' ', '(U6)}', ' ', '{IF', ' ', 'HQ.COUNTRY', ' ', '=', ' ', '3:', ' ', 'S6}', ' ', '9', ' ', ' ', ' ', 'It', ' ', 'is', ' ', 'too', ' ', 'early', ' ', 'to', ' ', 'decide', ' ', 'whether', ' ', 'I', ' ', 'would', ' ', 'stay', ' ', 'on', ' ', 'or', ' ', 'not', ' ', '10', ' ', 'Other', ' ', '(PLEASE', ' ', 'WRITE', ' ', 'IN)', ' ', ' ', '{VARNAME', ' ', 'STNO', ' ', '200}', '\\r'], ['CAUT', ' ', '{ASK', ' ', 'ALL}', ' ', 'Have', ' ', 'you', ' ', 'ever', ' ', 'been', ' ', 'given', ' ', 'a', ' ', 'formal', ' ', 'warning', ' ', 'or', ' ', 'caution', ' ', 'by', ' ', 'a', ' ', 'police', ' ', 'officer?', '\\r'], ['CYCF', ' ', '{ASK', ' ', 'ALL}', ' ', 'How', ' ', 'often', ' ', 'do', ' ', 'you', ' ', 'use', ' ', 'a', ' ', 'bicycle?', '\\r'], ['PDJA', ' ', '…<b>don’t<b>', ' ', 'go', ' ', 'to', ' ', 'university?', ' ', 'PDJB', ' ', '…<b>do<b>', ' ', 'go', ' ', 'to', ' ', 'university?', '\\r'], ['YPCAWIWELSH', ' ', '{IF', ' ', 'LIVES', ' ', 'IN', ' ', 'WALES:', ' ', 'HQ.COUNTRY', ' ', '=', ' ', '2}', ' ', 'How', ' ', 'are', ' ', 'you', ' ', 'completing', ' ', 'the', ' ', 'questionnaire', ' ', 'today?', '\\r'], ['HELP:', ' ', 'A', ' ', 'street', ' ', 'gang', ' ', 'is', ' ', 'a', ' ', 'group', ' ', 'of', ' ', 'young', ' ', 'people', ' ', 'who', ' ', 'hang', ' ', 'around', ' ', 'together', ' ', 'and:', ' ', 'have', ' ', 'a', ' ', 'specific', ' ', 'area', ' ', 'or', ' ', 'territory;', ' ', 'have', ' ', 'a', ' ', 'name,', ' ', 'a', ' ', 'colour', ' ', 'or', ' ', 'something', ' ', 'else', ' ', 'to', ' ', 'identify', ' ', 'the', ' ', 'group;', ' ', 'possibly', ' ', 'have', ' ', 'rules', ' ', 'or', ' ', 'a', ' ', 'leader;', ' ', 'who', ' ', 'may', ' ', 'commit', ' ', 'crimes', ' ', 'together.', ' ', 'LINK:', ' ', 'gang', '\\r'], ['You', ' ', 'are', ' ', 'now', ' ', 'going', ' ', 'to', ' ', 'be', ' ', 'asked', ' ', 'to', ' ', 'make', ' ', 'a', ' ', 'number', ' ', 'of', ' ', 'choices', ' ', 'between', ' ', 'two', ' ', 'imaginary', ' ', 'alternatives.', ' ', 'One', ' ', 'alternative', ' ', 'involves', ' ', 'getting', ' ', 'an', ' ', 'amount', ' ', 'of', ' ', 'money', ' ', 'for', ' ', 'certain.', ' ', 'In', ' ', 'the', ' ', 'other,', ' ', 'it', ' ', 'is', ' ', 'a', ' ', 'lottery', ' ', 'between', ' ', 'greater', ' ', 'amount', ' ', 'of', ' ', 'money', ' ', 'or', ' ', 'no', ' ', 'money', ' ', 'at', ' ', 'all', ' ', '–', ' ', 'think', ' ', 'of', ' ', 'this', ' ', 'as', ' ', 'being', ' ', 'based', ' ', 'on', ' ', 'the', ' ', 'toss', ' ', 'of', ' ', 'a', ' ', 'coin.', ' ', 'In', ' ', 'each', ' ', 'case,', ' ', 'just', ' ', 'pick', ' ', 'the', ' ', 'alternative', ' ', 'you’d', ' ', 'like', ' ', 'most.', '\\r'], ['***TRAVEL', ' ', 'TRSC', ' ', '{ASK', ' ', 'ALL}', ' ', 'Now', ' ', 'thinking', ' ', 'about', ' ', 'getting', ' ', 'to', ' ', 'the', ' ', 'place', ' ', 'you', ' ', 'study', ' ', 'or', ' ', 'work.', ' ', 'How', ' ', 'do', ' ', 'you', ' ', 'usually', ' ', 'travel?', '\\r'], ['Activities', ' ', 'and', ' ', 'Risky', ' ', 'Behaviours', ' ', '........................................................................................', ' ', '5', '\\r'], ['***RELATIONSHIP', ' ', 'WITH', ' ', 'RESIDENT', ' ', 'PARENTS', ' ', 'LWPA', ' ', '{ASK', ' ', 'ALL}', ' ', 'Do', ' ', 'you', ' ', 'live', ' ', 'with', ' ', 'your', ' ', 'parent(s)?', '\\r'], ['DISC-SPFD', ' ', '{ASK', ' ', 'ALL,', ' ', 'ASK', ' ', 'AS', ' ', 'GRID}', ' ', 'How', ' ', 'often', ' ', 'do', ' ', 'you', ' ', 'do', ' ', 'the', ' ', 'following', ' ', 'activities?', '\\r'], ['STYR', ' ', '{IF', ' ', 'UNIQ=<>1}', ' ', 'How', ' ', 'likely', ' ', '(0-100%)', ' ', 'do', ' ', 'you', ' ', 'think', ' ', 'it', ' ', 'is', ' ', 'that', ' ', 'you', ' ', '<b>will', ' ', 'go</b>', ' ', 'to', ' ', 'university?', '\\r'], ['SQLT', ' ', '{ASK', ' ', 'ALL}', ' ', 'During', ' ', 'the', ' ', 'past', ' ', 'month,', ' ', 'how', ' ', 'would', ' ', 'you', ' ', 'rate', ' ', 'your', ' ', 'sleep', ' ', 'quality', ' ', 'overall?', ' ', 'Would', ' ', 'you', ' ', 'say', ' ', 'it', ' ', 'has', ' ', 'been…', '\\r'], ['GRID', ' ', 'ROWS', ' ', 'GAMA', ' ', 'Fruit', ' ', 'machines?', ' ', 'GMBL', ' ', 'Placing', ' ', 'a', ' ', 'private', ' ', 'bet', ' ', 'for', ' ', 'money', ' ', '(e.g.', ' ', 'with', ' ', 'friends)?', ' ', 'GAEM', ' ', 'Placing', ' ', 'a', ' ', 'bet', ' ', 'at', ' ', 'a', ' ', 'betting', ' ', 'shop', ' ', '(e.g.', ' ', 'on', ' ', 'football', ' ', 'or', ' ', 'horseracing)?', ' ', 'GAMJ', ' ', 'Any', ' ', 'other', ' ', 'gambling', ' ', '(e.g.', ' ', 'online', ' ', 'gambling)?', '\\r'], ['ARES', ' ', '{ASK', ' ', 'ALL}', ' ', 'Have', ' ', 'you', ' ', 'ever', ' ', 'been', ' ', 'arrested', ' ', 'by', ' ', 'a', ' ', 'police', ' ', 'officer', ' ', 'and', ' ', 'taken', ' ', 'to', ' ', 'a', ' ', 'police', ' ', 'station?', '\\r'], ['CRWO', ' ', '{ASK', ' ', 'IF', ' ', 'CARES', ' ', 'FOR', ' ', 'ANYONE:', ' ', 'CARE', ' ', '=', ' ', '1;', ' ', 'MULTICODE}', ' ', 'Please', ' ', 'tell', ' ', 'us', ' ', 'who', ' ', 'you', ' ', 'care', ' ', 'for.', '\\r'], ['Millennium', ' ', 'Cohort', ' ', 'Study', ' ', 'Seventh', ' ', 'Sweep', ' ', '(MCS7)', ' ', 'Age', ' ', '17', ' ', 'Survey', '\\r'], ['QZPY-QZLN', ' ', '{ASK', ' ', 'ALL,', ' ', 'ASK', ' ', 'AS', ' ', 'A', ' ', 'GRID}', ' ', 'State', ' ', 'whether', ' ', 'you', ' ', 'think', ' ', 'each', ' ', 'of', ' ', 'the', ' ', 'following', ' ', 'statements', ' ', 'is', ' ', 'true', ' ', 'or', ' ', 'false', ' ', 'for', ' ', 'new', ' ', 'students.', '\\r'], ['SOCM-SOCH', ' ', '{ASK', ' ', 'ALL,', ' ', 'ASK', ' ', 'AS', ' ', 'A', ' ', 'GRID}', ' ', 'To', ' ', 'what', ' ', 'extent', ' ', 'do', ' ', 'you', ' ', 'agree', ' ', 'with', ' ', 'the', ' ', 'following', ' ', 'statements?', '\\r'], [], ['Has', ' ', 'your', ' ', 'gambling', ' ', 'caused', ' ', 'any', ' ', 'financial', ' ', 'problems', ' ', 'for', ' ', 'you', ' ', 'or', ' ', 'your', ' ', 'household?', '\\r'], ['Ferris,', ' ', 'J.,', ' ', '&', ' ', 'Wynne,', ' ', 'H.', ' ', '(2001).', ' ', 'The', ' ', 'Canadian', ' ', 'problem', ' ', 'gambling', ' ', 'index:', ' ', 'Final', ' ', 'report.', ' ', 'Submitted', ' ', 'for', ' ', 'the', ' ', 'Canadian', ' ', 'Centre', ' ', 'on', ' ', 'Substance', ' ', 'Abuse.', '\\r'], ['Still', ' ', 'thinking', ' ', 'about', ' ', 'the', ' ', 'last', ' ', '12', ' ', 'months,', ' ', 'have', ' ', 'you', ' ', 'needed', ' ', 'to', ' ', 'gamble', ' ', 'with', ' ', 'larger', ' ', 'amounts', ' ', 'of', ' ', 'money', ' ', 'to', ' ', 'get', ' ', 'the', ' ', 'same', ' ', 'feeling', ' ', 'of', ' ', 'excitement?', '\\r'], ['When', ' ', 'you', ' ', 'think', ' ', 'of', ' ', 'the', ' ', 'past', ' ', '12', ' ', 'months,', ' ', 'have', ' ', 'you', ' ', 'bet', ' ', 'more', ' ', 'than', ' ', 'you', ' ', 'could', ' ', 'really', ' ', 'afford', ' ', 'to', ' ', 'lose?', '\\r'], ['Has', ' ', 'gambling', ' ', 'caused', ' ', 'you', ' ', 'any', ' ', 'health', ' ', 'problems,', ' ', 'including', ' ', 'stress', ' ', 'or', ' ', 'anxiety?', '\\r'], ['Total', ' ', 'your', ' ', 'score.', ' ', 'The', ' ', 'higher', ' ', 'your', ' ', 'score,', ' ', 'the', ' ', 'greater', ' ', 'the', ' ', 'risk', ' ', 'that', ' ', 'your', ' ', 'gambling', ' ', 'is', ' ', 'a', ' ', 'problem.', '\\r'], ['When', ' ', 'you', ' ', 'gambled,', ' ', 'did', ' ', 'you', ' ', 'go', ' ', 'back', ' ', 'another', ' ', 'day', ' ', 'to', ' ', 'try', ' ', 'to', ' ', 'win', ' ', 'back', ' ', 'the', ' ', 'money', ' ', 'you', ' ', 'lost?', '\\r'], ['Have', ' ', 'you', ' ', 'borrowed', ' ', 'money', ' ', 'or', ' ', 'sold', ' ', 'anything', ' ', 'to', ' ', 'get', ' ', 'money', ' ', 'to', ' ', 'gamble?', '\\r'], ['Have', ' ', 'you', ' ', 'felt', ' ', 'guilty', ' ', 'about', ' ', 'the', ' ', 'way', ' ', 'you', ' ', 'gamble', ' ', 'or', ' ', 'what', ' ', 'happens', ' ', 'when', ' ', 'you', ' ', 'gamble?', '\\r'], ['Have', ' ', 'people', ' ', 'criticized', ' ', 'your', ' ', 'betting', ' ', 'or', ' ', 'told', ' ', 'you', ' ', 'that', ' ', 'you', ' ', 'had', ' ', 'a', ' ', 'gambling', ' ', 'problem,', ' ', 'regardless', ' ', 'of', ' ', 'whether', ' ', 'or', ' ', 'not', ' ', 'you', ' ', 'thought', ' ', 'it', ' ', 'was', ' ', 'true?', '\\r'], ['Have', ' ', 'you', ' ', 'felt', ' ', 'that', ' ', 'you', ' ', 'might', ' ', 'have', ' ', 'a', ' ', 'problem', ' ', 'with', ' ', 'gambling?', '\\r'], [], ['Little', ' ', 'interest', ' ', 'or', ' ', 'pleasure', ' ', 'in', ' ', 'doing', ' ', 'things?', ' ', 'Feeling', ' ', 'down,', ' ', 'depressed,', ' ', 'or', ' ', 'hopeless?', ' ', 'Trouble', ' ', 'falling', ' ', 'or', ' ', 'staying', ' ', 'asleep,', ' ', 'or', ' ', 'sleeping', ' ', 'too', ' ', 'much?', ' ', 'Feeling', ' ', 'tired', ' ', 'or', ' ', 'having', ' ', 'little', ' ', 'energy?', ' ', 'Poor', ' ', 'appetite', ' ', 'or', ' ', 'overeating?', ' ', 'Feeling', ' ', 'bad', ' ', 'about', ' ', 'yourself', ' ', '-', ' ', 'or', ' ', 'that', ' ', 'you', ' ', 'are', ' ', 'a', ' ', 'failure', ' ', 'or', ' ', 'have', ' ', 'let', ' ', 'yourself', ' ', 'or', ' ', 'your', ' ', 'family', ' ', 'down?', ' ', 'Trouble', ' ', 'concentrating', ' ', 'on', ' ', 'things,', ' ', 'such', ' ', 'as', ' ', 'reading', ' ', 'the', ' ', 'newspaper', ' ', 'or', ' ', 'watching', ' ', 'television?', ' ', 'Moving', ' ', 'or', ' ', 'speaking', ' ', 'so', ' ', 'slowly', ' ', 'that', ' ', 'other', ' ', 'people', ' ', 'could', ' ', 'have', ' ', 'noticed?', ' ', 'Or', ' ', 'the', ' ', 'opposite', ' ', '-', ' ', 'being', ' ', 'so', ' ', 'fidgety', ' ', 'or', ' ', 'restless', ' ', 'that', ' ', 'you', ' ', 'have', ' ', 'been', ' ', 'moving', ' ', 'around', ' ', 'a', ' ', 'lot', ' ', 'more', ' ', 'than', ' ', 'usual?', ' ', 'Thoughts', ' ', 'that', ' ', 'you', ' ', 'would', ' ', 'be', ' ', 'better', ' ', 'off', ' ', 'dead,', ' ', 'or', ' ', 'of', ' ', 'hurting', ' ', 'yourself', ' ', 'in', ' ', 'some', ' ', 'way?', ' ', 'Feeling', ' ', 'nervous,', ' ', 'anxious', ' ', 'or', ' ', 'on', ' ', 'edge?', ' ', 'Not', ' ', 'being', ' ', 'able', ' ', 'to', ' ', 'stop', ' ', 'or', ' ', 'control', ' ', 'worrying?', ' ', 'Worrying', ' ', 'too', ' ', 'much', ' ', 'about', ' ', 'different', ' ', 'things?', ' ', 'Trouble', ' ', 'relaxing?', ' ', 'Being', ' ', 'so', ' ', 'restless', ' ', 'that', ' ', 'it', ' ', 'is', ' ', 'hard', ' ', 'to', ' ', 'sit', ' ', 'still?', ' ', 'Becoming', ' ', 'easily', ' ', 'annoyed', ' ', 'or', ' ', 'irritable?', ' ', 'Feeling', ' ', 'afraid', ' ', 'as', ' ', 'if', ' ', 'something', ' ', 'awful', ' ', 'might', ' ', 'happen?', ' ', 'Repeated,', ' ', 'disturbing,', ' ', 'and', ' ', 'unwanted', ' ', 'memories', ' ', 'of', ' ', 'the', ' ', 'stressful', ' ', 'experience?', ' ', 'Repeated,', ' ', 'disturbing', ' ', 'dreams', ' ', 'of', ' ', 'the', ' ', 'stressful', ' ', 'experience?', ' ', 'Suddenly', ' ', 'feeling', ' ', 'or', ' ', 'acting', ' ', 'as', ' ', 'if', ' ', 'the', ' ', 'stressful', ' ', 'experience', ' ', 'were', ' ', 'actually', ' ', 'happening', ' ', 'again', ' ', '(as', ' ', 'if', ' ', 'you', ' ', 'were', ' ', 'actually', ' ', 'back', ' ', 'there', ' ', 'reliving', ' ', 'it)?', ' ', 'Feeling', ' ', 'very', ' ', 'upset', ' ', 'when', ' ', 'something', ' ', 'reminded', ' ', 'you', ' ', 'of', ' ', 'the', ' ', 'stressful', ' ', 'experience?', ' ', 'Having', ' ', 'strong', ' ', 'physical', ' ', 'reactions', ' ', 'when', ' ', 'something', ' ', 'reminded', ' ', 'you', ' ', 'of', ' ', 'the', ' ', 'stressful', ' ', 'experience', ' ', '(for', ' ', 'example,', ' ', 'heart', ' ', 'pounding,', ' ', 'trouble', ' ', 'breathing,', ' ', 'sweating)?', ' ', 'Avoiding', ' ', 'memories,', ' ', 'thoughts,', ' ', 'or', ' ', 'feelings', ' ', 'related', ' ', 'to', ' ', 'the', ' ', 'stressful', ' ', 'experience?', ' ', 'Avoiding', ' ', 'external', ' ', 'reminders', ' ', 'of', ' ', 'the', ' ', 'stressful', ' ', 'experience', ' ', '(for', ' ', 'example,', ' ', 'people,', ' ', 'places,', ' ', 'conversations,', ' ', 'activities,', ' ', 'objects,', ' ', 'or', ' ', 'situations)?', ' ', 'Trouble', ' ', 'remembering', ' ', 'important', ' ', 'parts', ' ', 'of', ' ', 'the', ' ', 'stressful', ' ', 'experience?', ' ', 'Having', ' ', 'strong', ' ', 'negative', ' ', 'beliefs', ' ', 'about', ' ', 'yourself,', ' ', 'other', ' ', 'people,', ' ', 'or', ' ', 'the', ' ', 'world', ' ', '(for', ' ', 'example,', ' ', 'having', ' ', 'thoughts', ' ', 'such', ' ', 'as:I', ' ', 'am', ' ', 'bad,', ' ', 'there', ' ', 'is', ' ', 'something', ' ', 'seriously', ' ', 'wrong', ' ', 'with', ' ', 'me,', ' ', 'no', ' ', 'one', ' ', 'can', ' ', 'be', ' ', 'trusted,', ' ', 'the', ' ', 'world', ' ', 'is', ' ', 'completely', ' ', 'dangerous)?', ' ', 'Blaming', ' ', 'yourself', ' ', 'or', ' ', 'someone', ' ', 'else', ' ', 'for', ' ', 'the', ' ', 'stressful', ' ', 'experience', ' ', 'or', ' ', 'what', ' ', 'happened', ' ', 'after', ' ', 'it?', ' ', 'Having', ' ', 'strong', ' ', 'negative', ' ', 'feelings', ' ', 'such', ' ', 'as', ' ', 'fear,', ' ', 'horror,', ' ', 'anger,', ' ', 'guilt,', ' ', 'or', ' ', 'shame?', ' ', 'Loss', ' ', 'of', ' ', 'interest', ' ', 'in', ' ', 'activities', ' ', 'that', ' ', 'you', ' ', 'used', ' ', 'to', ' ', 'enjoy?', ' ', 'Feeling', ' ', 'distant', ' ', 'or', ' ', 'cut', ' ', 'off', ' ', 'from', ' ', 'other', ' ', 'people?', ' ', 'Trouble', ' ', 'experiencing', ' ', 'positive', ' ', 'feelings', ' ', '(for', ' ', 'example,', ' ', 'being', ' ', 'unable', ' ', 'to', ' ', 'feel', ' ', 'happiness', ' ', 'or', ' ', 'have', ' ', 'loving', ' ', 'feelings', ' ', 'for', ' ', 'people', ' ', 'close', ' ', 'to', ' ', 'you)?', ' ', 'Irritable', ' ', 'behavior,', ' ', 'angry', ' ', 'outbursts,', ' ', 'or', ' ', 'acting', ' ', 'aggressively?', ' ', 'Taking', ' ', 'too', ' ', 'many', ' ', 'risks', ' ', 'or', ' ', 'doing', ' ', 'things', ' ', 'that', ' ', 'could', ' ', 'cause', ' ', 'you', ' ', 'harm?', ' ', 'Being', ' ', '“superalert”', ' ', 'or', ' ', 'watchful', ' ', 'or', ' ', 'on', ' ', 'guard?', ' ', 'Feeling', ' ', 'jumpy', ' ', 'or', ' ', 'easily', ' ', 'startled?', ' ', 'Having', ' ', 'difficulty', ' ', 'concentrating?', ' ', 'Trouble', ' ', 'falling', ' ', 'or', ' ', 'staying', ' ', 'asleep?', ' ', 'Do', ' ', 'you', ' ', 'sometimes', ' ', 'feel', ' ', 'that', ' ', 'people', ' ', 'are', ' ', 'talking', ' ', 'about', ' ', 'you?', ' ', 'Do', ' ', 'you', ' ', 'sometimes', ' ', 'feel', ' ', 'that', ' ', 'other', ' ', 'people', ' ', 'are', ' ', 'watching', ' ', 'you?', ' ', 'When', ' ', 'shopping,', ' ', 'do', ' ', 'you', ' ', 'get', ' ', 'the', ' ', 'feeling', ' ', 'that', ' ', 'other', ' ', 'people', ' ', 'are', ' ', 'taking', ' ', 'notice', ' ', 'of', ' ', 'you?', ' ', 'I', ' ', 'often', ' ', 'feel', ' ', 'that', ' ', 'others', ' ', 'have', ' ', 'it', ' ', 'in', ' ', 'for', ' ', 'me.', ' ', 'Do', ' ', 'you', ' ', 'sometimes', ' ', 'get', ' ', 'concerned', ' ', 'that', ' ', 'friends', ' ', 'or', ' ', 'co-workers', ' ', 'are', ' ', 'not', ' ', 'really', ' ', 'loyal', ' ', 'or', ' ', 'trustworthy?', ' ', 'Do', ' ', 'you', ' ', 'often', ' ', 'have', ' ', 'to', ' ', 'keep', ' ', 'an', ' ', 'eye', ' ', 'out', ' ', 'to', ' ', 'stop', ' ', 'people', ' ', 'from', ' ', 'taking', ' ', 'advantage', ' ', 'of', ' ', 'you?', ' ', 'Do', ' ', 'you', ' ', 'feel', ' ', 'that', ' ', 'you', ' ', 'cannot', ' ', 'get', ' ', '“close”', ' ', 'to', ' ', 'people?', ' ', 'I', ' ', 'find', ' ', 'it', ' ', 'hard', ' ', 'to', ' ', 'be', ' ', 'emotionally', ' ', 'close', ' ', 'to', ' ', 'other', ' ', 'people.', ' ', 'Do', ' ', 'you', ' ', 'feel', ' ', 'that', ' ', 'there', ' ', 'is', ' ', 'no', ' ', 'one', ' ', 'you', ' ', 'are', ' ', 'really', ' ', 'close', ' ', 'to', ' ', 'outside', ' ', 'of', ' ', 'your', ' ', 'immediate', ' ', 'family,', ' ', 'or', ' ', 'people', ' ', 'you', ' ', 'can', ' ', 'confide', ' ', 'in', ' ', 'or', ' ', 'talk', ' ', 'to', ' ', 'about', ' ', 'personal', ' ', 'problems?', ' ', 'I', ' ', 'tend', ' ', 'to', ' ', 'keep', ' ', 'my', ' ', 'feelings', ' ', 'to', ' ', 'myself.', ' ', 'I', ' ', 'rarely', ' ', 'laugh', ' ', 'and', ' ', 'smile.', ' ', 'I', ' ', 'am', ' ', 'not', ' ', 'good', ' ', 'at', ' ', 'expressing', ' ', 'my', ' ', 'true', ' ', 'feelings', ' ', 'by', ' ', 'the', ' ', 'way', ' ', 'I', ' ', 'talk', ' ', 'and', ' ', 'look.', ' ', 'Other', ' ', 'people', ' ', 'see', ' ', 'me', ' ', 'as', ' ', 'slightly', ' ', 'eccentric', ' ', '(odd).', ' ', 'I', ' ', 'am', ' ', 'an', ' ', 'odd,', ' ', 'unusual', ' ', 'person.', ' ', 'I', ' ', 'have', ' ', 'some', ' ', 'eccentric', ' ', '(odd)', ' ', 'habits.', ' ', 'People', ' ', 'sometimes', ' ', 'comment', ' ', 'on', ' ', 'my', ' ', 'unusual', ' ', 'mannerisms', ' ', 'and', ' ', 'habits.', ' ', 'Do', ' ', 'you', ' ', 'often', ' ', 'feel', ' ', 'nervous', ' ', 'when', ' ', 'you', ' ', 'are', ' ', 'in', ' ', 'a', ' ', 'group', ' ', 'of', ' ', 'unfamiliar', ' ', 'people?', ' ', 'I', ' ', 'get', ' ', 'anxious', ' ', 'when', ' ', 'meeting', ' ', 'people', ' ', 'for', ' ', 'the', ' ', 'first', ' ', 'time.', ' ', 'I', ' ', 'feel', ' ', 'very', ' ', 'uncomfortable', ' ', 'in', ' ', 'social', ' ', 'situations', ' ', 'involving', ' ', 'unfamiliar', ' ', 'people.', ' ', 'I', ' ', 'sometimes', ' ', 'avoid', ' ', 'going', ' ', 'to', ' ', 'places', ' ', 'where', ' ', 'there', ' ', 'will', ' ', 'be', ' ', 'many', ' ', 'people', ' ', 'because', ' ', 'I', ' ', 'will', ' ', 'get', ' ', 'anxious.', ' ', 'Do', ' ', 'you', ' ', 'believe', ' ', 'in', ' ', 'telepathy', ' ', '(mind-reading)?', ' ', 'Do', ' ', 'you', ' ', 'believe', ' ', 'in', ' ', 'clairvoyance', ' ', '(psychic', ' ', 'forces,', ' ', 'fortune', ' ', 'telling)?', ' ', 'Have', ' ', 'you', ' ', 'had', ' ', 'experiences', ' ', 'with', ' ', 'astrology,', ' ', 'seeing', ' ', 'the', ' ', 'future,', ' ', 'UFO’s,', ' ', 'ESP,', ' ', 'or', ' ', 'a', ' ', 'sixth', ' ', 'sense?', ' ', 'Have', ' ', 'you', ' ', 'ever', ' ', 'felt', ' ', 'that', ' ', 'you', ' ', 'are', ' ', 'communicating', ' ', 'with', ' ', 'another', ' ', 'person', ' ', 'telepathically', ' ', '(by', ' ', 'mind-reading)?', ' ', 'I', ' ', 'sometimes', ' ', 'jump', ' ', 'quickly', ' ', 'from', ' ', 'one', ' ', 'topic', ' ', 'to', ' ', 'another', ' ', 'when', ' ', 'speaking.', ' ', 'Do', ' ', 'you', ' ', 'tend', ' ', 'to', ' ', 'wander', ' ', 'off', ' ', 'the', ' ', 'topic', ' ', 'when', ' ', 'having', ' ', 'a', ' ', 'conversation?', ' ', 'I', ' ', 'often', ' ', 'ramble', ' ', 'on', ' ', 'too', ' ', 'much', ' ', 'when', ' ', 'speaking.', ' ', 'I', ' ', 'sometimes', ' ', 'forget', ' ', 'what', ' ', 'I', ' ', 'am', ' ', 'trying', ' ', 'to', ' ', 'say.', ' ', 'I', ' ', 'often', ' ', 'hear', ' ', 'a', ' ', 'voice', ' ', 'speaking', ' ', 'my', ' ', 'thoughts', ' ', 'aloud.', ' ', 'When', ' ', 'you', ' ', 'look', ' ', 'at', ' ', 'a', ' ', 'person', ' ', 'or', ' ', 'yourself', ' ', 'in', ' ', 'a', ' ', 'mirror,', ' ', 'have', ' ', 'you', ' ', 'ever', ' ', 'seen', ' ', 'the', ' ', 'face', ' ', 'change', ' ', 'right', ' ', 'before', ' ', 'your', ' ', 'eyes?', ' ', 'Are', ' ', 'your', ' ', 'thoughts', ' ', 'sometimes', ' ', 'so', ' ', 'strong', ' ', 'that', ' ', 'you', ' ', 'can', ' ', 'almost', ' ', 'hear', ' ', 'them?', ' ', 'Do', ' ', 'everyday', ' ', 'things', ' ', 'seem', ' ', 'unusually', ' ', 'large', ' ', 'or', ' ', 'small?', '\\r'], [], ['Do', ' ', 'any', ' ', 'of', ' ', 'the', ' ', 'fronts', ' ', 'of', ' ', 'residential', ' ', 'or', ' ', '\\r'], ['Is', ' ', 'there', ' ', 'dog', ' ', 'mess', ' ', 'on', ' ', 'the', ' ', 'pavement?', '\\r'], ['4.', ' ', 'How', ' ', 'would', ' ', 'you', ' ', 'rate', ' ', 'the', ' ', 'volume', ' ', 'of', ' ', 'traffic', ' ', 'on', ' ', 'the', ' ', 'street?', '\\r'], ['10.', ' ', 'Are', ' ', 'there', ' ', 'any', ' ', 'adults', ' ', 'or', ' ', 'teenagers', ' ', 'in', ' ', 'the', ' ', 'street', ' ', 'or', ' ', 'on', ' ', 'the', ' ', 'pavements', ' ', 'arguing,', ' ', 'fighting,', ' ', 'drinking,', ' ', 'or', ' ', 'behaving', ' ', 'in', ' ', 'any', ' ', 'kind', ' ', 'of', ' ', 'hostile', ' ', 'or', ' ', 'threatening', ' ', 'way?', '\\r'], ['3.', ' ', 'Are', ' ', 'there', ' ', 'any', ' ', 'traffic', ' ', 'calming', ' ', 'measures', ' ', 'in', ' ', 'place', ' ', 'on', ' ', 'the', ' ', 'street?', '\\r'], ['MFQ12', ' ', 'Eu', ' ', 'pensei', ' ', 'que', ' ', 'eu', ' ', 'nunca', ' ', 'seria', ' ', 'tão', ' ', 'bom(boa)', ' ', 'quanto', ' ', 'as', ' ', 'outras', ' ', 'pessoas.', ' ', '(', ' ', ' ', ')', ' ', '0', ' ', '(', ' ', ' ', ')', ' ', '1', ' ', '(', ' ', ' ', ')', ' ', '2', '\\r'], ['MFQ6', ' ', 'Eu', ' ', 'chorei', ' ', 'muito.', ' ', '(', ' ', ' ', ')', ' ', '0', ' ', '(', ' ', ' ', ')', ' ', '1', ' ', '(', ' ', ' ', ')', ' ', '2', '\\r'], ['MFQ10', ' ', 'Eu', ' ', 'me', ' ', 'senti', ' ', 'sozinho(a).', ' ', '(', ' ', ' ', ')', ' ', '0', ' ', '(', ' ', ' ', ')', ' ', '1', ' ', '(', ' ', ' ', ')', ' ', '2', '\\r'], ['MFQ1', ' ', 'Eu', ' ', 'me', ' ', 'senti', ' ', 'muito', ' ', 'triste', ' ', 'ou', ' ', 'infeliz.', ' ', '(', ' ', ' ', ')', ' ', '0', ' ', '(', ' ', ' ', ')', ' ', '1', ' ', '(', ' ', ' ', ')', ' ', '2', '\\r'], ['MFQ8', ' ', 'Eu', ' ', 'me', ' ', 'odiei.', ' ', '(', ' ', ' ', ')', ' ', '0', ' ', '(', ' ', ' ', ')', ' ', '1', ' ', '(', ' ', ' ', ')', ' ', '2', '\\r'], ['MFQ4', ' ', 'Eu', ' ', 'estive', ' ', 'muito', ' ', 'agitado(a).', ' ', '(', ' ', ' ', ')', ' ', '0', ' ', '(', ' ', ' ', ')', ' ', '1', ' ', '(', ' ', ' ', ')', ' ', '2', '\\r'], ['MFQ7', ' ', 'Eu', ' ', 'achei', ' ', 'difícil', ' ', 'raciocinar', ' ', 'ou', ' ', 'me', ' ', 'concentrar.', ' ', '(', ' ', ' ', ')', ' ', '0', ' ', '(', ' ', ' ', ')', ' ', '1', ' ', '(', ' ', ' ', ')', ' ', '2', '\\r'], ['MFQ2', ' ', 'Eu', ' ', 'não', ' ', 'consegui', ' ', 'me', ' ', 'divertir', ' ', 'com', ' ', 'absolutamente', ' ', 'nada.', ' ', '(', ' ', ' ', ')', ' ', '0', ' ', '(', ' ', ' ', ')', ' ', '1', ' ', '(', ' ', ' ', ')', ' ', '2', '\\r'], ['MFQ3', ' ', 'Eu', ' ', 'me', ' ', 'senti', ' ', 'tão', ' ', 'cansado(a)', ' ', 'que', ' ', 'só', ' ', 'ficava', ' ', 'sentado(a)', ' ', 'sem', ' ', 'fazer', ' ', 'nada.', ' ', '(', ' ', ' ', ')', ' ', '0', ' ', '(', ' ', ' ', ')', ' ', '1', ' ', '(', ' ', ' ', ')', ' ', '2', '\\r'], ['MFQ11', ' ', 'Eu', ' ', 'pensei', ' ', 'que', ' ', 'ninguém', ' ', 'me', ' ', 'amava', ' ', 'de', ' ', 'verdade.', ' ', '(', ' ', ' ', ')', ' ', '0', ' ', '(', ' ', ' ', ')', ' ', '1', ' ', '(', ' ', ' ', ')', ' ', '2', '\\r'], ['QUESTIONÁRIO', ' ', 'DE', ' ', 'HUMOR', ' ', 'E', ' ', 'SENTIMENTOS', ' ', '(MFQ', ' ', 'Short)', ' ', '[LEIA]', ' ', 'Este', ' ', 'questionário', ' ', 'é', ' ', 'sobre', ' ', 'como', ' ', 'você', ' ', 'pode', ' ', 'estar', ' ', 'se', ' ', 'sentindo', ' ', 'ou', ' ', 'agindo', ' ', 'recentemente.', '\\r'], ['MFQ5', ' ', 'Eu', ' ', 'senti', ' ', 'que', ' ', 'eu', ' ', 'não', ' ', 'valia', ' ', 'mais', ' ', 'nada.', ' ', '(', ' ', ' ', ')', ' ', '0', ' ', '(', ' ', ' ', ')', ' ', '1', ' ', '(', ' ', ' ', ')', ' ', '2', '\\r'], ['MFQ9', ' ', 'Eu', ' ', 'me', ' ', 'senti', ' ', 'uma', ' ', 'pessoa', ' ', 'ruim.', ' ', '(', ' ', ' ', ')', ' ', '0', ' ', '(', ' ', ' ', ')', ' ', '1', ' ', '(', ' ', ' ', ')', ' ', '2', '\\r'], ['Para', ' ', 'cada', ' ', 'pergunta,', ' ', 'por', ' ', 'favor', ' ', 'diga', ' ', 'como', ' ', 'você', ' ', 'esteve', ' ', 'se', ' ', 'sentindo', ' ', 'ou', ' ', 'agindo', ' ', 'nas', ' ', 'últimas', ' ', 'duas', ' ', 'semanas.', '\\r'], [], ['Label', '\\r'], ['SECTIOND:STRESSESAND', '\\r'], ['STRAINS', '\\r'], ['Location', '\\r'], ['Sequence›alspac_02_qct', '\\r'], ['...children', '\\r'], ['qi_A5_i-A5i', '\\r'], ['Name', '\\r'], ['qi_A5_i[qi_A5_i]', '\\r'], ['Label', '\\r'], ['A5i', '\\r'], ['Location', '\\r'], ['Sequence›alspac_02_qct›', '\\r'], ['SECTIONA:ABOUTTHECLASS', '\\r'], ['Do', ' ', 'you', ' ', 'feel', ' ', 'that', ' ', 'life', ' ', 'is', ' ', 'too', ' ', 'much', ' ', 'effort?', '\\r'], ['Please', ' ', 'indicate', ' ', 'the', ' ', 'way', ' ', 'you', ' ', 'feel', '\\r'], ['I', ' ', 'feel', ' ', 'I', ' ', 'do', ' ', 'not', ' ', 'have', ' ', 'much', ' ', 'to', ' ', 'be', ' ', 'proud', ' ', 'of', '\\r'], ['1Ventolin/inhalerforasthma', '\\r'], ['Do', ' ', 'you', ' ', 'feel', ' ', 'upset', ' ', 'for', ' ', 'no', ' ', 'obvious', ' ', 'reason?', '\\r'], ['In', ' ', 'the', ' ', 'past', ' ', 'year,', ' ', 'has', ' ', 'there', ' ', 'been', ' ', 'any', ' ', 'class', ' ', 'discussion/teaching', ' ', 'on:', ' ', 'Sex', ' ', 'education', '\\r'], ['Can', ' ', 'you', ' ', 'go', ' ', 'to', ' ', 'sleep', ' ', 'all', ' ', 'right?', '\\r'], ['12', ' ', 'Personal', ' ', 'and', ' ', 'social', ' ', 'education', ' ', 'hours', ' ', 'a', ' ', 'week', ' ', '(Numeric)', '\\r'], ['Parents', ' ', 'are', ' ', 'regularly', ' ', 'informed', ' ', 'about', ' ', 'the', ' ', 'progress', ' ', 'and', ' ', 'achievements', ' ', 'at', ' ', 'school', ' ', 'of', ' ', 'their', ' ', 'child', '\\r'], ['qi_F8-F8', '\\r'], ['Name', '\\r'], ['qi_F8[qi_F8]', '\\r'], ['Label', '\\r'], ['F8', '\\r'], ['Location', '\\r'], ['Sequence›alspac_02_qct›', '\\r'], ['SECTIONF:YOUROPINIONOF', '\\r'], ['YOURSELF', '\\r'], [\"earlyinthemorningevenwhenyouhaven'tbeenwokenbyanychildrenyoumay\", '\\r'], ['There', ' ', 'is', ' ', 'a', ' ', 'high', ' ', 'level', ' ', 'of', ' ', 'parental', ' ', 'support', ' ', 'for', ' ', 'their', ' ', \"child's\", ' ', 'learning', ' ', 'at', ' ', 'school', '\\r'], ['Do', ' ', 'you', ' ', 'often', ' ', 'have', ' ', 'excessive', ' ', 'sweating', ' ', 'or', ' ', 'fluttering', ' ', 'of', ' ', 'the', ' ', 'heart?', '\\r'], ['Home-school', ' ', 'relationships:', ' ', 'Label', '\\r'], ['In', ' ', 'the', ' ', 'past', ' ', 'year,', ' ', 'has', ' ', 'there', ' ', 'been', ' ', 'any', ' ', 'class', ' ', 'discussion/teaching', ' ', 'on:', ' ', 'Drug/solvent', ' ', 'abuse', '\\r'], ['How', ' ', 'many', ' ', 'are', ' ', 'entitled', ' ', 'to', ' ', 'free', ' ', 'school', ' ', 'meals?', ' ', '...', ' ', 'children', '\\r'], ['4', ' ', 'Adrenalin/Epipen', ' ', '(for', ' ', 'allergic', ' ', 'reactions)', ' ', 'How', ' ', 'many', ' ', '(Numeric)', '\\r'], ['I', ' ', 'feel', ' ', 'I', ' ', 'have', ' ', 'a', ' ', 'number', ' ', 'of', ' ', 'good', ' ', 'qualities', '\\r'], ['qi_F5-F5', '\\r'], ['Name', '\\r'], ['qi_F5[qi_F5]', '\\r'], ['Label', '\\r'], ['F5', '\\r'], ['Location', '\\r'], ['Sequence›alspac_02_qct›', '\\r'], ['SECTIONF:YOUROPINIONOF', '\\r'], ['YOURSELF', '\\r'], ['qi_D18-D18', '\\r'], ['Name', '\\r'], ['qi_D18[qi_D18]', '\\r'], ['Label', '\\r'], ['D18', '\\r'], ['Location', '\\r'], ['Sequence›alspac_02_qct›', '\\r'], ['SECTIOND:STRESSESAND', '\\r'], ['STRAINS', '\\r'], ['qi_F6-F6', '\\r'], ['Name', '\\r'], ['qi_F6[qi_F6]', '\\r'], ['Label', '\\r'], ['F6', '\\r'], ['Location', '\\r'], ['Sequence›alspac_02_qct›', '\\r'], ['SECTIONF:YOUROPINIONOF', '\\r'], ['YOURSELF', '\\r'], ['Have', ' ', 'you', ' ', 'felt', ' ', 'as', ' ', 'though', ' ', 'you', ' ', 'might', ' ', 'faint?', '\\r'], ['Do', ' ', 'you', ' ', 'feel', ' ', 'tired', ' ', 'or', ' ', 'exhausted?', '\\r'], ['Please', ' ', 'list', ' ', 'your', ' ', 'teaching', ' ', 'qualifications.', '\\r'], ['If', ' ', 'yes,', ' ', 'to', ' ', 'either', ' ', 'of', ' ', 'the', ' ', 'above,', ' ', 'Question', '\\r'], ['I', ' ', 'am', ' ', 'able', ' ', 'to', ' ', 'do', ' ', 'things', ' ', 'as', ' ', 'well', ' ', 'as', ' ', 'most', ' ', 'other', ' ', 'people', '\\r'], ['Do', ' ', 'you', ' ', 'sometimes', ' ', 'feel', ' ', 'panicky?', '\\r'], ['Can', ' ', 'you', ' ', 'think', ' ', 'as', ' ', 'quickly', ' ', 'as', ' ', 'you', ' ', 'used', ' ', 'to?', '\\r'], ['Changes', ' ', 'in', ' ', 'the', ' ', 'curriculum', ' ', 'are', ' ', 'an', ' ', 'exciting', ' ', 'challenge', '\\r'], ['Label', '\\r'], ['Home-schoolrelationships:', '\\r'], ['Location', '\\r'], ['Sequence›alspac_02_qct›SECTIONE:YOURPERCEPTIONOFTHESCHOOL', '\\r'], ['How', ' ', 'long', ' ', 'have', ' ', 'you', ' ', 'taught', ' ', 'altogether?', '\\r'], ['In', ' ', 'the', ' ', 'past', ' ', 'year,', ' ', 'has', ' ', 'there', ' ', 'been', ' ', 'any', ' ', 'class', ' ', 'discussion/teaching', ' ', 'on:', ' ', 'Exercise', '\\r'], ['Do', ' ', 'you', ' ', 'regret', ' ', 'much', ' ', 'of', ' ', 'your', ' ', 'past', ' ', 'behaviour?', '\\r'], ['qi_E5_b-E5b', '\\r'], ['Name', '\\r'], ['qi_E5_b[qi_E5_b]', '\\r'], ['Label', '\\r'], ['E5b', '\\r'], ['Location', '\\r'], ['Sequence›alspac_02_qct›', '\\r'], ['SECTIONE:YOURPERCEPTION', '\\r'], ['OFTHESCHOOL›Home-school', '\\r'], ['relationships:', '\\r'], ['3Anti-convulsants(forepilepsy)', '\\r'], ['Are', ' ', 'there', ' ', 'aspects', ' ', 'of', ' ', 'a', ' ', 'school', ' ', 'curriculum', ' ', 'that', ' ', 'you', ' ', 'are', ' ', 'having', ' ', 'to', ' ', 'restrict', ' ', 'or', ' ', 'omit', ' ', 'because', ' ', 'of', ' ', 'lack', ' ', 'of', ' ', 'space?', '\\r'], ['I', ' ', 'would', ' ', 'prefer', ' ', 'to', ' ', 'get', ' ', 'out', ' ', 'of', ' ', 'teaching', '\\r'], ['sweatingorflutteringoftheheart?', '\\r'], ['How', ' ', 'many', ' ', 'sessions', ' ', 'in', ' ', 'the', ' ', 'last', ' ', '3', ' ', 'months', ' ', 'has', ' ', 'temporary', ' ', 'staff', ' ', 'cover', ' ', 'been', ' ', 'used?', '\\r'], ['For', ' ', 'how', ' ', 'many', ' ', 'children', ' ', 'in', ' ', 'your', ' ', 'class', ' ', 'do', ' ', 'you', ' ', 'have', ' ', 'to', ' ', 'keep', ' ', 'medication?', '\\r'], ['SECTION', ' ', 'A:', ' ', 'ABOUT', ' ', 'THE', ' ', 'CLASS', ' ', 'Location', '\\r'], ['What', ' ', 'proportion', ' ', 'of', ' ', 'parents', ' ', 'attend', ' ', \"parents'\", ' ', 'evenings:', '\\r'], ['Do', ' ', 'you', ' ', 'feel', ' ', 'tingling', ' ', 'or', ' ', 'prickling', ' ', 'sensations', ' ', 'in', ' ', 'your', ' ', 'body,', ' ', 'arms', ' ', 'or', ' ', 'legs?', '\\r'], ['Do', ' ', 'you', ' ', 'have', ' ', 'to', ' ', 'make', ' ', 'a', ' ', 'special', ' ', 'effort', ' ', 'to', ' ', 'face', ' ', 'up', ' ', 'to', ' ', 'a', ' ', 'crisis', ' ', 'or', ' ', 'difficulty?', '\\r'], ['Pupils', ' ', 'who', ' ', 'are', ' ', 'underachieving', ' ', 'are', ' ', 'identified', ' ', 'and', ' ', 'attempts', ' ', 'made', ' ', 'to', ' ', 'motivate', ' ', 'them', '\\r'], ['How', ' ', 'many', ' ', 'children', ' ', 'in', ' ', 'your', ' ', 'class', ' ', 'keep', ' ', 'their', ' ', 'own', ' ', 'regular', ' ', 'medication', ' ', 'when', ' ', 'they', ' ', 'come', ' ', 'to', ' ', 'school?', ' ', 'Ritalin', ' ', '...', ' ', 'No.', ' ', 'of', ' ', 'children', '\\r'], ['How', ' ', 'many', ' ', 'children', ' ', 'in', ' ', 'your', ' ', 'class', ' ', 'keep', ' ', 'their', ' ', 'own', ' ', 'regular', ' ', 'medication', ' ', 'when', ' ', 'they', ' ', 'come', ' ', 'to', ' ', 'school?', ' ', 'Other', ' ', '(please', ' ', 'give', ' ', 'number', ' ', 'of', ' ', 'children', ' ', 'and', ' ', 'state', ' ', 'name(s)', ' ', 'of', ' ', 'medication)', ' ', '...', ' ', 'No.', ' ', 'of', ' ', 'children', '\\r'], ['When', ' ', 'completed', ' ', 'please', ' ', 'return', ' ', 'the', ' ', 'questionnaire', ' ', 'to:', ' ', 'Professor', ' ', 'Jean', ' ', 'Golding', ' ', 'Children', ' ', 'of', ' ', 'the', ' ', 'Nineties', ' ', '-', ' ', 'ALSPAC', ' ', 'Institute', ' ', 'of', ' ', 'Child', ' ', 'Health', '\\r'], ['Do', ' ', 'you', ' ', 'lose', ' ', 'the', ' ', 'ability', ' ', 'to', ' ', 'feel', ' ', 'sympathy', ' ', 'for', ' ', 'others?', '\\r'], ['Please', ' ', 'indicate', ' ', 'how', ' ', 'much', ' ', 'you', ' ', 'agree', ' ', 'or', ' ', 'disagree', ' ', 'with', ' ', 'the', ' ', 'statements', ' ', 'below', ' ', 'about', ' ', 'your', ' ', 'school', '\\r'], ['Often', ' ', 'teachers', ' ', 'nowadays', ' ', 'are', ' ', 'under', ' ', 'considerable', ' ', 'stress.', ' ', 'The', ' ', 'following', ' ', 'questions', ' ', 'will', ' ', 'enable', ' ', 'us', ' ', 'to', ' ', 'assess', ' ', 'your', ' ', 'well-being,', ' ', 'and', ' ', 'have', ' ', 'been', ' ', 'used', ' ', 'in', ' ', 'many', ' ', 'studies.', '\\r'], ['How', ' ', 'noisy', ' ', 'is', ' ', 'your', ' ', 'school', ' ', 'classroom', ' ', 'usually?', ' ', 'Noise', ' ', 'from', ' ', 'outside', ' ', 'the', ' ', 'school', ' ', '(tick', ' ', 'all', ' ', 'that', ' ', 'apply):', '\\r'], ['atschooloftheirchild', '\\r'], ['2', ' ', 'Part-time', ' ', 'teachers', ' ', '(including', ' ', 'yourself)', ' ', 'How', ' ', 'many', ' ', '(Numeric)', '\\r'], ['Is', ' ', 'the', ' ', 'homework:', '\\r'], ['4Adrenalin/Epipen(forallergicreactions)', '\\r'], ['Approximately', ' ', 'how', ' ', 'many', ' ', 'hours', ' ', 'a', ' ', 'week', ' ', 'does', ' ', 'the', ' ', 'class', ' ', 'spend', ' ', 'on', ' ', 'the', ' ', 'following?', '\\r'], ['qi_E5_c-E5c', '\\r'], ['Name', '\\r'], ['qi_E5_c[qi_E5_c]', '\\r'], ['Label', '\\r'], ['E5c', '\\r'], ['Location', '\\r'], ['Sequence›alspac_02_qct›', '\\r'], ['SECTIONE:YOURPERCEPTION', '\\r'], ['OFTHESCHOOL›Home-school', '\\r'], ['relationships:', '\\r'], ['Pupils', ' ', 'who', ' ', 'get', ' ', 'good', ' ', 'marks', ' ', 'or', ' ', 'work', ' ', 'hard', ' ', 'are', ' ', 'teased', ' ', 'by', ' ', 'the', ' ', 'other', ' ', 'pupils', '\\r'], ['Is', ' ', 'this', ' ', 'affecting', ' ', 'the', ' ', 'quality', ' ', 'of', ' ', 'education', ' ', 'that', ' ', 'you', ' ', 'are', ' ', 'providing?', '\\r'], ['What', ' ', 'do', ' ', 'you', ' ', 'do', ' ', 'if', ' ', 'pupils', ' ', 'do', ' ', 'not', ' ', 'do', ' ', 'their', ' ', 'homework?', ' ', '(Tick', ' ', 'all', ' ', 'that', ' ', 'apply)', ' ', 'Other', ' ', '(please', ' ', 'describe)', '\\r'], ['How', ' ', 'confident', ' ', 'are', ' ', 'you', ' ', 'about', ' ', 'teaching', ' ', 'the', ' ', 'following', ' ', 'to', ' ', 'this', ' ', 'class:', ' ', 'Numeracy', '\\r'], ['grounds', ' ', 'for', ' ', 'concern', ' ', 'because', ' ', 'the', ' ', \"child's\", ' ', 'development', ' ', 'might', ' ', 'be', ' ', 'impaired', ' ', 'by', ' ', 'his/her', ' ', 'home', ' ', 'circumstances?', ' ', '(Please', ' ', 'tick', ' ', 'one', ' ', 'box', ' ', 'only)', '\\r'], ['Approximately', ' ', 'for', ' ', 'what', ' ', 'proportion', ' ', 'of', ' ', 'the', ' ', 'children', ' ', 'currently', ' ', 'on', ' ', 'your', ' ', 'attendance', ' ', 'register', ' ', 'do', ' ', 'you', ' ', 'feel', ' ', 'you', ' ', 'have', '\\r'], ['I', ' ', 'feel', ' ', 'that', ' ', 'my', ' ', 'life', ' ', 'is', ' ', 'not', ' ', 'very', ' ', 'useful', '\\r'], ['qi_F10-F10', '\\r'], ['Name', '\\r'], ['qi_F10[qi_F10]', '\\r'], ['Label', '\\r'], ['F10', '\\r'], ['Location', '\\r'], ['Sequence›alspac_02_qct›', '\\r'], ['SECTIONF:YOUROPINIONOF', '\\r'], ['YOURSELF', '\\r'], ['Do', ' ', 'you', ' ', 'find', ' ', 'yourself', ' ', 'needing', ' ', 'to', ' ', 'cry?', '\\r'], ['How', ' ', 'many', ' ', 'pupils', ' ', 'have', ' ', 'statements', ' ', '(or', ' ', 'are', ' ', 'in', ' ', 'the', ' ', 'process', ' ', 'of', ' ', 'being', ' ', 'statemented)', ' ', 'for', ' ', 'special', ' ', 'educational', ' ', 'needs?', ' ', '...', ' ', 'pupils', '\\r'], ['What', ' ', 'contribution', ' ', 'do', ' ', 'you', ' ', 'think', ' ', 'homework', ' ', 'makes', ' ', 'to', ' ', \"pupils'\", ' ', 'learning?', '\\r'], ['staffcoverbeenused?', '\\r'], ['qi_D17-D17', '\\r'], ['Name', '\\r'], ['qi_D17[qi_D17]', '\\r'], ['Label', '\\r'], ['D17', '\\r'], ['Location', '\\r'], ['Sequence›alspac_02_qct›', '\\r'], ['SECTIOND:STRESSESAND', '\\r'], ['STRAINS', '\\r'], ['Do', ' ', 'you', ' ', 'experience', ' ', 'long', ' ', 'periods', ' ', 'of', ' ', 'sadness?', '\\r'], ['Home-school', ' ', 'relationships:', ' ', 'Location', '\\r'], ['Conditions', ' ', 'in', ' ', 'the', ' ', \"pupils'\", ' ', 'home', ' ', 'environment', ' ', 'adversely', ' ', 'affect', ' ', 'their', ' ', 'learning', '\\r'], ['Do', ' ', 'you', ' ', 'have', ' ', 'bad', ' ', 'dreams', ' ', 'which', ' ', 'upset', ' ', 'you', ' ', 'when', ' ', 'you', ' ', 'wake', ' ', 'up?', '\\r'], ['How', ' ', 'noisy', ' ', 'is', ' ', 'your', ' ', 'school', ' ', 'classroom', ' ', 'usually?', ' ', 'Noise', ' ', 'from', ' ', 'within', ' ', 'the', ' ', 'school', ' ', 'perimeter', ' ', '(e.g.', ' ', 'playground,', ' ', 'other', ' ', 'classes):', ' ', 'Noise', ' ', 'of', ' ', 'other', ' ', 'classes', ' ', 'through', ' ', 'the', ' ', 'walls', ' ', 'of', ' ', 'your', ' ', 'classroom:', '\\r'], ['How', ' ', 'many', ' ', 'of', ' ', 'your', ' ', 'class', ' ', 'have', ' ', 'been', ' ', 'excluded', ' ', 'from', ' ', 'school', ' ', 'since', ' ', 'the', ' ', 'beginning', ' ', 'of', ' ', 'this', ' ', 'school', ' ', 'year?', ' ', 'permanently', '\\r'], ['How', ' ', 'many', ' ', 'children', ' ', 'in', ' ', 'your', ' ', 'class', ' ', 'have', ' ', 'problems', ' ', 'of', ' ', 'health,', ' ', 'behaviour,', ' ', 'speech,', ' ', 'vision,', ' ', 'hearing', ' ', 'or', ' ', 'development', ' ', 'which', ' ', 'you', ' ', 'consider', ' ', 'affects', ' ', 'their', ' ', 'everyday', ' ', 'life', ' ', 'in', ' ', 'school?', ' ', '...', ' ', 'children', '\\r'], ['All', ' ', 'teachers', ' ', 'mark', ' ', 'and', ' ', 'return', ' ', 'homework', ' ', 'promptly', '\\r'], ['The', ' ', 'head', ' ', 'teacher', ' ', 'takes', ' ', 'most', ' ', 'of', ' ', 'the', ' ', 'decisions', ' ', 'with', ' ', 'little', ' ', 'staff', ' ', 'consultation', '\\r'], ['How', ' ', 'many', ' ', 'children', ' ', 'in', ' ', 'your', ' ', 'class', ' ', 'are', ' ', 'receiving', ' ', 'the', ' ', 'following:', ' ', 'Formal', ' ', 'help', ' ', 'with', ' ', 'behavioural', ' ', 'difficulties', ' ', '...', ' ', 'No.', ' ', 'of', ' ', 'children', '\\r'], ['qi_F4-F4', '\\r'], ['Name', '\\r'], ['qi_F4[qi_F4]', '\\r'], ['Label', '\\r'], ['F4', '\\r'], ['Location', '\\r'], ['Sequence›alspac_02_qct›', '\\r'], ['SECTIONF:YOUROPINIONOF', '\\r'], ['YOURSELF', '\\r'], ['Do', ' ', 'you', ' ', 'feel', ' ', 'strung-up', ' ', 'inside?', '\\r'], ['Dealing', ' ', 'with', ' ', 'parental', ' ', 'complaints', ' ', 'and', ' ', 'lack', ' ', 'of', ' ', 'cooperation', ' ', 'from', ' ', 'parents', ' ', 'takes', ' ', 'up', ' ', 'a', ' ', 'lot', ' ', 'of', ' ', 'teacher', ' ', 'and', ' ', 'school', ' ', 'management', ' ', 'time', '\\r'], ['SECTION', ' ', 'F:', ' ', 'YOUR', ' ', 'OPINION', ' ', 'OF', ' ', 'YOURSELF........................................................................................', ' ', '54', '\\r'], ['How', ' ', 'long', ' ', 'have', ' ', 'you', ' ', 'been', ' ', 'a', ' ', 'teacher', ' ', 'at', ' ', 'this', ' ', 'school?', '\\r'], ['There', ' ', 'are', ' ', 'some', ' ', 'staff', ' ', 'who', ' ', 'do', ' ', 'not', ' ', 'support', ' ', 'the', ' ', \"headteacher's\", ' ', 'aims', ' ', 'and', ' ', 'policies', ' ', 'for', ' ', 'the', ' ', 'school', '\\r'], ['This', ' ', 'questionnaire', ' ', 'was', ' ', 'completed', ' ', 'by:', ' ', 'Other', ' ', '(please', ' ', 'describe)', '\\r'], [\"ofparentsattendparents'evenings:\", '\\r'], ['2', ' ', 'part', ' ', 'reading/study', ' ', 'and', ' ', 'part', ' ', 'assignments', ' ', 'due', ' ', 'for', ' ', 'teacher', ' ', 'checking', '\\r'], ['I', ' ', 'take', ' ', 'a', ' ', 'positive', ' ', 'attitude', ' ', 'towards', ' ', 'myself', '\\r'], ['It', ' ', 'asks', ' ', 'about', ' ', 'the', ' ', 'physical', ' ', 'environment', ' ', 'of', ' ', 'the', ' ', 'classroom,', ' ', 'the', ' ', 'class', ' ', 'structure,', ' ', 'the', ' ', 'school', ' ', 'ethos', ' ', 'and', ' ', 'the', ' ', 'stresses', ' ', 'and', ' ', 'strains', ' ', 'you', ' ', 'may', ' ', 'be', ' ', 'feeling.', '\\r'], ['In', ' ', 'this', ' ', 'class', ' ', 'are', ' ', 'there', ' ', 'ability', ' ', 'groups', ' ', '(or', ' ', 'setting)', ' ', 'for:', ' ', 'Other', ' ', '(please', ' ', 'describe)', '\\r'], ['High', '\\r'], ['Which', ' ', 'members', ' ', 'of', ' ', 'your', ' ', 'class', ' ', 'are', ' ', 'usually', ' ', 'given', ' ', 'homework?', '\\r'], ['SECTION', ' ', 'F:', ' ', 'YOUR', ' ', 'OPINION', ' ', 'OF', ' ', 'YOURSELF', '\\r'], ['How', ' ', 'confident', ' ', 'are', ' ', 'you', ' ', 'about', ' ', 'teaching', ' ', 'the', ' ', 'following', ' ', 'to', ' ', 'this', ' ', 'class:', ' ', 'Literacy', '\\r'], ['Do', ' ', 'you', ' ', 'worry', ' ', 'a', ' ', 'lot?', '\\r'], ['Do', ' ', 'you', ' ', 'get', ' ', 'troubled', ' ', 'by', ' ', 'dizziness', ' ', 'or', ' ', 'shortness', ' ', 'of', ' ', 'breath?', '\\r'], ['Most', ' ', 'pupils', ' ', 'at', ' ', 'this', ' ', 'school', ' ', 'want', ' ', 'to', ' ', 'do', ' ', 'well', ' ', 'in', ' ', 'tests', ' ', 'and', ' ', 'exams', '\\r'], ['Many', ' ', 'pupils', ' ', \"don't\", ' ', 'do', ' ', 'as', ' ', 'well', ' ', 'as', ' ', 'they', ' ', 'could', ' ', 'because', ' ', 'they', ' ', 'are', ' ', 'afraid', ' ', 'that', ' ', 'other', ' ', 'pupils', ' ', \"won't\", ' ', 'like', ' ', 'them', ' ', 'as', ' ', 'much', '\\r'], ['qi_F7-F7', '\\r'], ['Name', '\\r'], ['qi_F7[qi_F7]', '\\r'], ['Label', '\\r'], ['F7', '\\r'], ['Location', '\\r'], ['Sequence›alspac_02_qct›', '\\r'], ['SECTIONF:YOUROPINIONOF', '\\r'], ['YOURSELF', '\\r'], ['qi_F9-F9', '\\r'], ['Name', '\\r'], ['qi_F9[qi_F9]', '\\r'], ['Label', '\\r'], ['F9', '\\r'], ['Location', '\\r'], ['Sequence›alspac_02_qct›', '\\r'], ['SECTIONF:YOUROPINIONOF', '\\r'], ['YOURSELF', '\\r'], ['Are', ' ', 'you:', '\\r'], ['How', ' ', 'many', ' ', 'children', ' ', 'in', ' ', 'your', ' ', 'class', ' ', 'are', ' ', 'receiving', ' ', 'the', ' ', 'following:', ' ', 'Remedial', ' ', 'reading', ' ', 'help', ' ', '...', ' ', 'No.', ' ', 'of', ' ', 'children', '\\r'], ['I', ' ', 'feel', ' ', 'that', ' ', 'I', ' ', 'am', ' ', 'a', ' ', 'person', ' ', 'of', ' ', 'worth,', ' ', 'at', ' ', 'least', ' ', 'equal', ' ', 'to', ' ', 'others', '\\r'], ['Do', ' ', 'you', ' ', 'feel', ' ', 'sick', ' ', 'or', ' ', 'have', ' ', 'indigestion?', '\\r'], ['Below', ' ', 'are', ' ', 'some', ' ', 'statements.', ' ', 'Please', ' ', 'say', ' ', 'how', ' ', 'true', ' ', 'they', ' ', 'are', ' ', 'of', ' ', 'you.', '\\r'], ['In', ' ', 'the', ' ', 'past', ' ', 'year,', ' ', 'has', ' ', 'there', ' ', 'been', ' ', 'any', ' ', 'class', ' ', 'discussion/teaching', ' ', 'on:', ' ', 'Cigarette', ' ', 'smoking', '\\r'], ['How', ' ', 'confident', ' ', 'are', ' ', 'you', ' ', 'about', ' ', 'teaching', ' ', 'the', ' ', 'following', ' ', 'to', ' ', 'this', ' ', 'class:', ' ', 'Science', '\\r'], ['How', ' ', 'many', ' ', 'of', ' ', 'the', ' ', 'following', ' ', 'paid', ' ', 'teaching', ' ', 'staff', ' ', 'work', ' ', 'with', ' ', 'your', ' ', 'class?', ' ', '(Do', ' ', 'not', ' ', 'include', ' ', 'teachers', ' ', 'who', ' ', 'do', ' ', 'individual', ' ', 'tuition', ' ', 'for', ' ', 'music', ' ', 'or', ' ', 'special', ' ', 'needs)', '\\r'], ['Do', ' ', 'you', ' ', 'feel', ' ', 'there', ' ', 'is', ' ', 'overcrowding:', ' ', 'For', ' ', 'the', ' ', 'pupils:', '\\r'], ['Do', ' ', 'you', ' ', 'ever', ' ', 'have', ' ', 'the', ' ', 'feeling', ' ', 'you', ' ', 'are', ' ', 'going', ' ', 'to', ' ', 'pieces?', '\\r'], ['Teacher-pupil', ' ', 'reactions', ' ', 'in', ' ', 'the', ' ', 'school:', '\\r'], ['How', ' ', 'many', ' ', 'children', ' ', 'in', ' ', 'your', ' ', 'class', ' ', 'are', ' ', 'receiving', ' ', 'the', ' ', 'following:', ' ', 'Music', ' ', 'lessons', ' ', 'during', ' ', 'class', ' ', 'time', ' ', '...', ' ', 'No.', ' ', 'of', ' ', 'children', '\\r'], ['I', ' ', 'feel', ' ', 'I', ' ', 'cannot', ' ', 'do', ' ', 'anything', ' ', 'right', '\\r'], ['How', ' ', 'many', ' ', 'children', ' ', 'in', ' ', 'your', ' ', 'class', ' ', 'are', ' ', 'from', ' ', 'homes', ' ', 'where', ' ', 'English', ' ', 'is', ' ', 'not', ' ', 'the', ' ', 'first', ' ', 'language?', ' ', '...', ' ', 'children', '\\r'], ['1', ' ', 'Ventolin/inhaler', ' ', 'for', ' ', 'asthma', ' ', 'How', ' ', 'many', ' ', '(Numeric)', '\\r'], ['Are', ' ', 'the', ' ', 'children', ' ', 'in', ' ', 'your', ' ', 'class', ' ', 'given', ' ', 'homework', ' ', 'or', ' ', 'projects', ' ', 'to', ' ', 'do', ' ', 'during', ' ', 'half', ' ', 'term', ' ', 'and/or', ' ', 'school', ' ', 'holidays?', '\\r'], ['There', ' ', 'is', ' ', 'a', ' ', 'lot', ' ', 'of', ' ', 'disagreement', ' ', 'between', ' ', 'staff', '\\r'], ['Please', ' ', 'give', ' ', 'the', ' ', 'year', ' ', 'in', ' ', 'which', ' ', 'you', ' ', 'qualified', ' ', 'for', ' ', 'teaching', '\\r'], ['Date', ' ', 'of', ' ', 'completion', ' ', 'of', ' ', 'this', ' ', 'questionnaire', '\\r'], ['In', ' ', 'the', ' ', 'past', ' ', 'year,', ' ', 'has', ' ', 'there', ' ', 'been', ' ', 'any', ' ', 'class', ' ', 'discussion/teaching', ' ', 'on:', ' ', 'Healthy', ' ', 'diet', '\\r'], ['On', ' ', 'average,', ' ', 'how', ' ', 'long', ' ', 'do', ' ', 'you', ' ', 'expect', ' ', 'pupils', ' ', 'in', ' ', 'your', ' ', 'class', ' ', 'to', ' ', 'spend', ' ', 'on', ' ', 'a', ' ', 'typical', ' ', 'piece', ' ', 'of', ' ', 'homework?', '\\r'], ['How', ' ', 'often', ' ', 'is', ' ', 'homework', ' ', 'given', ' ', 'in', ' ', 'term', ' ', 'time?', '\\r'], ['How', ' ', 'noisy', ' ', 'is', ' ', 'your', ' ', 'school', ' ', 'classroom', ' ', 'usually?', ' ', 'Noise', ' ', 'from', ' ', 'within', ' ', 'the', ' ', 'school', ' ', 'perimeter', ' ', '(e.g.', ' ', 'playground,', ' ', 'other', ' ', 'classes):', ' ', 'Noise', ' ', 'of', ' ', 'people', ' ', 'moving', ' ', 'around', ' ', 'the', ' ', 'school', ' ', '(e.g.', ' ', 'along', ' ', 'corridors)', '\\r'], ['qi_G6-G6', '\\r'], ['Name', '\\r'], ['qi_G6[qi_G6]', '\\r'], ['Label', '\\r'], ['G6', '\\r'], ['Location', '\\r'], ['Sequence›alspac_02_qct›', '\\r'], ['SECTIONG:YOURATTITUDE', '\\r'], ['TOWARDSTEACHING', '\\r'], ['Do', ' ', 'you', ' ', 'find', ' ', 'that', ' ', 'you', ' ', 'have', ' ', 'little', ' ', 'or', ' ', 'no', ' ', 'appetite?', '\\r'], ['feelpanicky?', '\\r'], ['Do', ' ', 'you', ' ', 'wake', ' ', 'unusually', ' ', 'early', ' ', 'in', ' ', 'the', ' ', 'morning', ' ', 'even', ' ', 'when', ' ', 'you', ' ', \"haven't\", ' ', 'been', ' ', 'woken', ' ', 'by', ' ', 'any', ' ', 'children', ' ', 'you', ' ', 'may', ' ', 'have?', '\\r'], ['How', ' ', 'many', ' ', 'of', ' ', 'your', ' ', 'class', ' ', 'have', ' ', 'been', ' ', 'excluded', ' ', 'from', ' ', 'school', ' ', 'since', ' ', 'the', ' ', 'beginning', ' ', 'of', ' ', 'this', ' ', 'school', ' ', 'year?', ' ', 'for', ' ', 'a', ' ', 'fixed', ' ', 'term', '\\r'], ['For', ' ', 'how', ' ', 'many', ' ', 'children', ' ', 'in', ' ', 'your', ' ', 'class', ' ', 'do', ' ', 'you', ' ', 'have', ' ', 'to', ' ', 'keep', ' ', 'medication?', ' ', 'Other', ' ', '(please', ' ', 'give', ' ', 'number', ' ', 'of', ' ', 'children', ' ', 'and', ' ', 'state', ' ', 'name(s)', ' ', 'of', ' ', 'medication)', ' ', '...', ' ', 'No.', ' ', 'of', ' ', 'children', '\\r'], ['How', ' ', 'many', ' ', 'children', ' ', 'in', ' ', 'your', ' ', 'class', ' ', 'keep', ' ', 'their', ' ', 'own', ' ', 'regular', ' ', 'medication', ' ', 'when', ' ', 'they', ' ', 'come', ' ', 'to', ' ', 'school?', ' ', 'Ventolin/inhaler', ' ', 'for', ' ', 'asthma', ' ', '...', ' ', 'No.', ' ', 'of', ' ', 'children', '\\r'], ['Do', ' ', 'you', ' ', 'feel', ' ', 'uneasy', ' ', 'and', ' ', 'restless?', '\\r'], ['YEAR', ' ', '6', ' ', 'QUESTIONNAIRE', ' ', 'FOR', ' ', 'THE', ' ', 'CLASS', ' ', 'TEACHER', '\\r'], ['Do', ' ', 'you', ' ', 'feel', ' ', 'there', ' ', 'is', ' ', 'overcrowding:', ' ', 'For', ' ', 'the', ' ', 'staff:', '\\r'], ['SECTION', ' ', 'G:', ' ', 'YOUR', ' ', 'ATTITUDE', ' ', 'TOWARDS', ' ', 'TEACHING', '\\r'], ['How', ' ', 'many', ' ', 'unpaid', ' ', 'adult', ' ', 'assistants', ' ', 'help', ' ', 'with', ' ', 'your', ' ', 'class?', '\\r'], ['Is', ' ', 'there', ' ', 'double', ' ', 'glazing', ' ', 'in', ' ', 'the', ' ', 'outside', ' ', 'windows?', '\\r'], [], ['Q14.', ' ', 'Os', ' ', 'seus', ' ', 'AMIGOS', ' ', 'ou', ' ', 'alguém', ' ', 'próximo', ' ', 'a', ' ', 'você', '\\r'], ['Q47.', ' ', 'SE', ' ', 'VOCÊ', ' ', 'RESPONDEU', ' ', 'SIM', '\\r'], ['experimentou', ' ', 'alguma', ' ', 'dessas', ' ', 'coisas?', '\\r'], ['pais', ' ', 'e', ' ', 'familiares),', ' ', 'com', ' ', 'palavras', ' ', 'como', '\\r'], ['Q24.', ' ', 'Você', ' ', 'se', ' ', 'preocupa', ' ', 'com', ' ', 'o', ' ', 'seu', ' ', 'uso', ' ', 'de', ' ', '\\r'], ['maconha?', '\\r'], ['Q16.', ' ', 'NOS', ' ', 'ÚLTIMOS', ' ', '12', ' ', 'MESES,', ' ', 'você', ' ', 'usou', ' ', '\\r'], ['alguma', ' ', 'dessas', ' ', 'coisas?', ' ', '\\r'], ['Cola', ' ', 'de', ' ', 'sapateiro', ' ', '\\r'], ['Solvente,', ' ', 'tiner', ' ', 'ou', ' ', 'lança-perfume', ' ', '\\r'], ['Cocaína', ' ', '\\r'], ['Maconha', ' ', '\\r'], ['Crack', ' ', '\\r'], ['Ecstasy', ' ', '(MDMA,', ' ', '“bala”)', ' ', '\\r'], ['Ácido', ' ', 'ou', ' ', 'LSD', ' ', '(“doce”)', ' ', '\\r'], ['Anfetamina', ' ', '(“speed”)', ' ', '(ingerido)', ' ', '\\r'], ['Anfetamina', ' ', '(“speed”)', ' ', '(aspirado/cheirado)', ' ', '\\r'], ['Anfetamina', ' ', '(“speed”)', ' ', '(fumado)', ' ', '\\r'], ['Esteróides', ' ', '(anabolizantes', ' ', 'ou', ' ', '“bomba”)', ' ', '\\r'], ['Remédios', ' ', 'para', ' ', 'dar', ' ', 'algum', ' ', '“barato”?', ' ', '\\r'], ['Remédios', ' ', 'para', ' ', 'dor', ' ', 'sem', ' ', 'prescrição', ' ', '(Ex:', ' ', 'Tramal,', ' ', '\\r'], ['Tilex,', ' ', 'Oxycotim,', ' ', 'Fentanil,', ' ', 'etc)', ' ', ' ', '\\r'], ['Remédios', ' ', 'para', ' ', 'dormir', ' ', 'sem', ' ', 'prescrição', ' ', '(Ex:', '\\r'], ['Q25.', ' ', 'Você', ' ', 'gostaria', ' ', 'de', ' ', 'parar?', '\\r'], ['Q22.', ' ', 'Você', ' ', 'já', ' ', 'achou', ' ', 'que', ' ', 'o', ' ', 'seu', ' ', 'uso', ' ', 'de', ' ', 'maconha', '\\r'], ['Q29.', ' ', 'Você', ' ', 'já', ' ', 'engravidou?', ' ', ' ', '(', ' ', ' ', ' ', ')', ' ', 'Sim', ' ', ' ', ' ', ' ', ' ', ' ', ' ', '(', ' ', ' ', ' ', ')', ' ', 'Não', '\\r'], ['aconteceu', ' ', 'pela', ' ', 'primeira', ' ', 'vez?', '\\r'], ['Q50.', ' ', 'Orientação', ' ', 'sexual', ' ', 'se', ' ', 'refere', ' ', 'a', ' ', 'atração', ' ', '\\r'], ['afetiva,', ' ', 'física', ' ', 'e', ' ', 'sexual', ' ', 'que', ' ', 'sentirmos', ' ', 'por', ' ', 'outras', ' ', '\\r'], ['pessoas.', ' ', 'Qual', ' ', 'sua', ' ', 'orientação', ' ', 'sexual?', '\\r'], ['Q42.', ' ', 'Você', ' ', 'já', ' ', 'foi', ' ', 'forçado(a)', ' ', 'a', ' ', 'ter', ' ', 'relações', ' ', 'sexuais', '\\r'], ['machucado', ' ', 'ou', ' ', 'com', ' ', 'marcas', ' ', 'pelo', ' ', 'corpo?', '\\r'], ['bebida', ' ', 'de', ' ', 'álcool', ' ', 'nos', ' ', 'ÚLTIMOS', ' ', '12', ' ', 'MESES?', '\\r'], ['Q18.', ' ', 'ALGUMA', ' ', 'VEZ', ' ', 'NA', ' ', 'VIDA,', ' ', 'você', ' ', 'já', ' ', 'fumou', ' ', '\\r'], ['maconha?', '\\r'], ['Q52.', ' ', 'Expressão', ' ', 'de', ' ', 'Gênero', ' ', 'se', ' ', 'refere', ' ', 'a', ' ', 'nossa', ' ', 'aparência', ' ', '(como', ' ', 'gostamos', ' ', 'de', ' ', 'nos', ' ', 'vestir,', ' ', 'ou', ' ', 'arrumar', ' ', 'o', ' ', 'cabelo),', ' ', 'aos', ' ', 'nossos', ' ', 'comportamento', ' ', '(modos', ' ', 'de', ' ', 'agir,', ' ', 'ou', ' ', 'de', ' ', 'falar),', ' ', 'e', ' ', 'a', ' ', 'maneira', ' ', 'como', ' ', 'nos', ' ', 'movimentamos,', ' ', 'ou', ' ', 'expressamos', ' ', 'o', ' ', 'que', ' ', 'sentimos', ' ', 'e', ' ', 'gostamos.', ' ', 'De', ' ', 'que', ' ', 'maneira', ' ', 'você', ' ', 'se', ' ', 'expressa?', '\\r'], ['Q41.', ' ', 'SE', ' ', 'VOCÊ', ' ', 'JÁ', ' ', 'TEVE', ' ', 'RELAÇÃO', ' ', 'SEXUAL,', '\\r'], ['aborto?', '\\r'], ['Q15.', ' ', 'E', ' ', 'você,', ' ', 'ALGUMA', ' ', 'VEZ', ' ', 'NA', ' ', 'VIDA', ' ', 'já', ' ', '\\r'], ['experimentou', ' ', 'alguma', ' ', 'dessas', ' ', 'coisas?', ' ', '\\r'], ['Cola', ' ', 'de', ' ', 'sapateiro', ' ', '\\r'], ['Solvente,', ' ', 'tiner', ' ', 'ou', ' ', 'lança-perfume', ' ', '\\r'], ['Cocaína', ' ', '\\r'], ['Maconha', ' ', '\\r'], ['Crack', ' ', '\\r'], ['Ecstasy', ' ', '(MDMA,', ' ', '“bala”)', ' ', '\\r'], ['Ácido', ' ', 'ou', ' ', 'LSD', ' ', '(“doce”)', ' ', '\\r'], ['Anfetamina', ' ', '(“speed”)', ' ', '(ingerido)', ' ', '\\r'], ['Anfetamina', ' ', '(“speed”)', ' ', '(aspirado/cheirado)', ' ', '\\r'], ['Anfetamina', ' ', '(“speed”)', ' ', '(fumado)', ' ', '\\r'], ['Esteróides', ' ', '(anabolizantes', ' ', 'ou', ' ', '“bomba”)', ' ', '\\r'], ['Remédios', ' ', 'para', ' ', 'dar', ' ', 'algum', ' ', '“barato”?', ' ', '\\r'], ['Remédios', ' ', 'para', ' ', 'dor', ' ', 'sem', ' ', 'prescrição', ' ', '(Ex:', ' ', 'Tramal,', ' ', '\\r'], ['Tilex,', ' ', 'Oxycotim,', ' ', 'Fentanil,', ' ', 'etc),', ' ', ' ', '\\r'], ['Remédios', ' ', 'para', ' ', 'dormir', ' ', 'sem', ' ', 'prescrição', ' ', '(Ex:', ' ', '\\r'], ['Lexotan,', ' ', 'Valium,', ' ', 'Lorax,', ' ', 'Rivotril,', ' ', 'etc)', ' ', '\\r'], ['Remédios', ' ', 'para', ' ', 'emagrecer', ' ', 'sem', ' ', 'prescrição', ' ', '\\r'], ['(Ex:', ' ', 'Hipofagin,', ' ', 'Inibex,', ' ', ',', ' ', 'Dualid', ' ', 'ou', ' ', 'rebite)', ' ', ' ', '\\r'], ['Outra', ' ', 'coisa?', ' ', '__________________', '\\r'], ['Q38.', ' ', 'Por', ' ', 'favor,', ' ', 'marque', ' ', 'com', ' ', 'um', ' ', 'X', ' ', 'no', ' ', 'número', ' ', 'do', ' ', 'quadrinho', ' ', 'abaixo', ' ', 'que', ' ', 'mais', ' ', 'se', ' ', 'parece', ' ', 'contigo', ' ', 'agora:', '\\r'], ['Remédios', ' ', 'para', ' ', 'dar', ' ', 'algum', ' ', '“barato”?', '\\r'], ['maconha?', '\\r'], ['Q8.', ' ', 'Nos', ' ', 'ÚLTIMOS', ' ', '12', ' ', 'MESES,', ' ', 'quantas', ' ', 'doses', ' ', '/', ' ', '\\r'], ['bebidas', ' ', 'alcoólicas', ' ', 'você', ' ', 'consome', ' ', 'em', ' ', 'um', ' ', 'dia', ' ', 'típico', ' ', '\\r'], ['quando', ' ', 'está', ' ', 'bebendo?', ' ', '\\r'], ['Considere', ' ', '1', ' ', 'dose', ' ', '=', ' ', '1', ' ', 'lata', ' ', 'de', ' ', 'cerveja', ' ', 'ou', ' ', '1', ' ', 'taça', ' ', 'de', ' ', '\\r'], ['vinho', ' ', 'ou', ' ', '1', ' ', 'martelinho', ' ', 'de', ' ', 'destilado', ' ', ' ', '\\r'], ['Garrafa', ' ', 'cerveja', ' ', '=', ' ', '2', ' ', 'doses', ' ', ' ', '\\r'], ['Garrafa', ' ', 'vinho', ' ', '=', ' ', '8', ' ', 'doses', ' ', ' ', '\\r'], ['Garrafa', ' ', 'destilado', ' ', '=', ' ', '30', ' ', 'a', ' ', '35', ' ', 'unidades', '\\r'], ['Não', ' ', 'há', ' ', 'resposta', ' ', 'certa', ' ', 'ou', ' ', 'errada,', ' ', 'queremos', ' ', 'apenas', ' ', 'a', ' ', 'sua', ' ', 'opinião.', '\\r'], ['Q51.', ' ', 'Prática', ' ', 'sexual', ' ', '.', ' ', 'Refere-se', ' ', 'a', ' ', 'com', ' ', 'quem', ' ', 'você', ' ', '\\r'], ['faz', ' ', 'sexo.', ' ', ' ', 'Com', ' ', 'quem', ' ', 'você', ' ', 'faz', ' ', 'sexo?', ' ', 'Marcar', ' ', '\\r'], ['todos', ' ', 'que', ' ', 'corressponderem', ' ', 'ao', ' ', 'com', ' ', 'quem', ' ', 'você', ' ', '\\r'], ['faz', ' ', 'sexo.', '\\r'], ['Q19.', ' ', 'SE', ' ', 'SIM,', ' ', 'que', ' ', 'IDADE', ' ', 'você', ' ', 'tinha', ' ', 'quando', ' ', '\\r'], ['experimentou', ' ', 'pela', ' ', 'primeira', ' ', 'vez?', '\\r'], ['Q27.', ' ', 'Você', ' ', 'já', ' ', 'menstruou?', '\\r'], ['Q47.', ' ', 'SE', ' ', 'VOCÊ', ' ', 'RESPONDEU', ' ', 'SIM', ' ', '\\r'], ['PARA', ' ', 'QUALQUER', ' ', 'QUESTÃO', ' ', '\\r'], ['ACIMA,', ' ', 'nos', ' ', 'conte', ' ', 'com', ' ', 'as', ' ', 'suas', ' ', '\\r'], ['palavras', ' ', 'o', ' ', 'que', ' ', 'aconteceu.', '\\r'], ['Q36.', ' ', 'Alguma', ' ', 'menina', ' ', 'que', ' ', 'você', ' ', 'engravidou', ' ', 'fez', ' ', '\\r'], ['aborto?', '\\r'], ['ou', ' ', 'no', ' ', 'trabalho)?', '\\r'], ['Q22.', ' ', 'Você', ' ', 'já', ' ', 'achou', ' ', 'que', ' ', 'o', ' ', 'seu', ' ', 'uso', ' ', 'de', ' ', 'maconha', ' ', '\\r'], ['está', ' ', 'fora', ' ', 'de', ' ', 'controle?', '\\r'], ['Q23.', ' ', 'A', ' ', 'ideia', ' ', 'de', ' ', 'não', ' ', 'fumar', ' ', 'maconha', ' ', 'o', ' ', 'deixa', '\\r'], ['Q32.', ' ', 'Quantos', ' ', 'filhos', ' ', 'vivos', ' ', 'você', ' ', 'tem?', '\\r'], ['Q49.', ' ', 'Identidade', ' ', ' ', ' ', 'de', ' ', ' ', ' ', 'Gênero', ' ', 'diz', ' ', ' ', ' ', 'respeito', ' ', ' ', ' ', 'a', ' ', '\\r'], ['maneira', ' ', ' ', 'como', ' ', ' ', 'você', ' ', ' ', 'se', ' ', ' ', 'sente,', ' ', ' ', 'se', ' ', ' ', 'percebe', ' ', ' ', 'e', ' ', ' ', 'a', ' ', '\\r'], ['forma', ' ', ' ', 'como', ' ', ' ', 'gostaria', ' ', ' ', 'que', ' ', ' ', 'as', ' ', ' ', 'outras', ' ', ' ', 'pessoas', ' ', ' ', 'lhe', ' ', '\\r'], ['reconhecessem.', ' ', ' ', 'Ou', ' ', 'seja,', ' ', ' ', 'é', ' ', ' ', 'o', ' ', ' ', 'gênero', ' ', ' ', 'com', ' ', ' ', 'o', ' ', ' ', 'qual', ' ', '\\r'], ['você', ' ', 'se', ' ', 'identifica.', ' ', 'Como', ' ', 'você', ' ', 'se', ' ', 'identifica?', '\\r'], ['Lexotan,', ' ', 'Valium,', ' ', 'Lorax,', ' ', 'Rivotril,', ' ', 'etc)', ' ', '\\r'], ['Remédios', ' ', 'para', ' ', 'emagrecer', ' ', 'sem', ' ', 'prescrição', ' ', '(Ex:', ' ', '\\r'], ['Hipofagin,', ' ', 'Inibex,', ' ', ',', ' ', 'Dualid', ' ', 'ou', ' ', 'rebite)', ' ', ' ', '\\r'], ['Outra', ' ', 'coisa?', ' ', '__________________', '\\r'], ['Q31.', ' ', 'Você', ' ', 'já', ' ', 'abortou?', '\\r'], ['com', ' ', 'que', ' ', 'idade', ' ', 'você', ' ', 'teve', ' ', 'relação', ' ', 'pela', ' ', 'primeira', '\\r'], ['AS', ' ', 'PRÓXIMAS', ' ', 'PERGUNTAS', ' ', 'SÃO', ' ', 'SOBRE', ' ', 'MACONHA', ' ', 'Q18.', ' ', 'ALGUMA', ' ', 'VEZ', ' ', 'NA', ' ', 'VIDA,', ' ', 'você', ' ', 'já', ' ', 'fumou', '\\r'], ['fumo?', '\\r'], ['Q20.', ' ', 'SE', ' ', 'SIM,', ' ', 'você', ' ', 'fumou', ' ', 'maconha', ' ', 'NOS', '\\r'], ['transou?)', '\\r'], ['casa', ' ', 'ou', ' ', 'de', ' ', 'ter', ' ', 'que', ' ', 'vestir', ' ', 'roupas', ' ', 'sujas', ' ', 'ou', '\\r'], ['Q13.', ' ', 'SE', ' ', 'SIM,', ' ', 'com', ' ', 'que', ' ', 'frequência', ' ', 'você', ' ', 'fumou', ' ', '\\r'], ['cigarro,', ' ', 'palheiro,', ' ', 'narguilé,', ' ', 'charuto', ' ', 'ou', ' ', 'mascou', ' ', 'fumo', ' ', '\\r'], ['NOS', ' ', 'ÚLTIMOS', ' ', '12', ' ', 'MESES?', ' ', '\\r'], ['(', ' ', ' ', ' ', ')', ' ', 'Uma', ' ', 'ou', ' ', 'duas', ' ', 'vezes', ' ', '\\r'], ['(', ' ', ' ', ' ', ')', ' ', 'Mensalmente', ' ', '\\r'], ['(', ' ', ' ', ' ', ')', ' ', 'Semanalmente', ' ', '\\r'], ['(', ' ', ' ', ' ', ')', ' ', 'Diariamente', ' ', 'ou', ' ', 'quase', ' ', 'diariamente', ' ', '\\r'], ['(', ' ', ' ', ' ', ')', ' ', 'Não', ' ', 'se', ' ', 'aplica', ' ', '(não', ' ', 'fumei', ' ', 'nos', ' ', 'últimos', ' ', 'meses)', '\\r'], ['Q1.', ' ', 'ALGUMA', ' ', 'VEZ', ' ', 'NA', ' ', 'VIDA,', ' ', 'você', ' ', 'já', ' ', 'tomou', ' ', 'alguma', '\\r'], ['narguilé,', ' ', 'charuto', ' ', 'ou', ' ', 'mascou', ' ', 'fumo', ' ', 'alguma', ' ', 'vez', ' ', 'NOS', '\\r'], ['Se', ' ', 'você', ' ', 'tiver', ' ', 'alguma', ' ', 'dúvida,', ' ', 'chame', ' ', 'a', ' ', 'psicóloga.', ' ', 'Ela', ' ', 'irá', ' ', 'ajudar', ' ', 'você', ' ', 'sem', ' ', 'olhar', ' ', 'as', ' ', 'suas', ' ', 'respostas.', '\\r'], ['você', ' ', '(com', ' ', 'seus', ' ', 'pais,', ' ', 'com', ' ', 'seus', ' ', 'amigos,', ' ', 'na', ' ', 'escola', '\\r'], ['seu', ' ', 'consumo', ' ', 'de', ' ', 'bebidas', ' ', 'alcoólicas?', '\\r'], ['experimentou', ' ', 'pela', ' ', 'primeira', ' ', 'vez?', '\\r'], ['todos', ' ', 'que', ' ', 'corressponderem', ' ', 'ao', ' ', 'com', ' ', 'quem', ' ', 'você', ' ', 'faz', ' ', 'sexo.', '\\r'], ['Q13.', ' ', 'SE', ' ', 'SIM,', ' ', 'com', ' ', 'que', ' ', 'frequência', ' ', 'você', ' ', 'fumou', '\\r'], ['Q51.', ' ', 'Prática', ' ', 'sexual', ' ', '.', ' ', 'Refere-se', ' ', 'a', ' ', 'com', ' ', 'quem', ' ', 'você', ' ', 'faz', ' ', 'sexo.', ' ', ' ', 'Com', ' ', 'quem', ' ', 'você', ' ', 'faz', ' ', 'sexo?', ' ', 'Marcar', '\\r'], ['pela', ' ', 'primeira', ' ', 'vez?', '\\r'], ['NOS', ' ', 'ÚLTIMOS', ' ', '12', ' ', 'MESES?', '\\r'], ['Q29.', ' ', 'Você', ' ', 'já', ' ', 'engravidou?', '\\r'], ['de', ' ', 'você', ' ', 'não', ' ', 'ter', ' ', 'o', ' ', 'que', ' ', 'comer', ' ', 'dentro', ' ', 'de', '\\r'], ['Q42.', ' ', 'Você', ' ', 'já', ' ', 'foi', ' ', 'forçado(a)', ' ', 'a', ' ', 'ter', ' ', 'relações', ' ', 'sexuais', ' ', '\\r'], ['com', ' ', 'alguém?', '\\r'], ['Q15.', ' ', 'E', ' ', 'você,', ' ', 'ALGUMA', ' ', 'VEZ', ' ', 'NA', ' ', 'VIDA', ' ', 'já', '\\r'], ['está', ' ', 'fora', ' ', 'de', ' ', 'controle?', '\\r'], ['Q33.', ' ', 'Por', ' ', 'favor,', ' ', 'marque', ' ', 'com', ' ', 'um', ' ', 'X', ' ', 'no', ' ', 'número', ' ', 'do', ' ', 'quadrinho', ' ', 'abaixo', ' ', 'que', ' ', 'mais', ' ', 'se', ' ', 'parece', ' ', 'contigo', ' ', 'agora:', '\\r'], ['Q40.', ' ', 'Você', ' ', 'já', ' ', 'teve', ' ', 'alguma', ' ', 'relação', ' ', 'sexual', ' ', '(você', ' ', 'já', ' ', '\\r'], ['transou?)', '\\r'], ['Q43.', ' ', 'NOS', ' ', 'ÚLTIMOS', ' ', '3', ' ', 'ANOS,', ' ', 'você', ' ', 'foi', ' ', '\\r'], ['xingado', ' ', 'por', ' ', 'algum', ' ', 'adulto', ' ', '(incluindo', ' ', 'seus', ' ', '\\r'], ['pais', ' ', 'e', ' ', 'familiares),', ' ', 'com', ' ', 'palavras', ' ', 'como', ' ', '\\r'], ['burro(a),', ' ', 'idiota(a),', ' ', 'estúpido(a)?', '\\r'], ['palavras', ' ', 'o', ' ', 'que', ' ', 'aconteceu.', '\\r'], ['Q3.', ' ', 'SE', ' ', 'SIM,', ' ', 'você', ' ', 'tomou', ' ', 'bebida', ' ', 'de', ' ', 'álcool', ' ', 'NOS', '\\r'], ['Q17.', ' ', 'SE', ' ', 'SIM,', ' ', 'o', ' ', 'uso', ' ', 'dessa(s)', ' ', 'substância(s)', ' ', 'tem', ' ', '\\r'], ['causado', ' ', 'problemas', ' ', 'para', ' ', 'você', ' ', '(com', ' ', 'seus', ' ', 'pais,', ' ', '\\r'], ['com', ' ', 'seus', ' ', 'amigos,', ' ', 'na', ' ', 'escola', ' ', 'ou', ' ', 'no', ' ', 'trabalho)?', '\\r'], ['Q35.', ' ', 'Você', ' ', 'já', ' ', 'engravidou', ' ', 'alguma', ' ', 'menina?', '\\r'], ['Q50.', ' ', 'Orientação', ' ', 'sexual', ' ', 'se', ' ', 'refere', ' ', 'a', ' ', 'atração', '\\r'], ['AS', ' ', 'PRÓXIMAS', ' ', 'PERGUNTAS', ' ', 'SÃO', ' ', 'SOBRE', ' ', 'RELAÇÕES', ' ', 'SEXUAIS', '\\r'], ['Q20.', ' ', 'SE', ' ', 'SIM,', ' ', 'você', ' ', 'fumou', ' ', 'maconha', ' ', 'NOS', ' ', '\\r'], ['ÚLTIMOS', ' ', '12', ' ', 'MESES?', '\\r'], ['em', ' ', 'uma', ' ', 'mesma', ' ', 'ocasião?', '\\r'], ['maconha', ' ', 'NOS', ' ', 'ÚLTIMOS', ' ', '12', ' ', 'MESES?', '\\r'], ['Q41.', ' ', 'SE', ' ', 'VOCÊ', ' ', 'JÁ', ' ', 'TEVE', ' ', 'RELAÇÃO', ' ', 'SEXUAL,', ' ', '\\r'], ['com', ' ', 'que', ' ', 'idade', ' ', 'você', ' ', 'teve', ' ', 'relação', ' ', 'pela', ' ', 'primeira', ' ', '\\r'], ['vez?', '\\r'], ['Q28.', ' ', 'SE', ' ', 'VOCÊ', ' ', 'JÁ', ' ', 'MENSTRUOU,', ' ', 'com', ' ', 'que', ' ', 'idade', ' ', '\\r'], ['aconteceu', ' ', 'pela', ' ', 'primeira', ' ', 'vez?', '\\r'], ['Q19.', ' ', 'SE', ' ', 'SIM,', ' ', 'que', ' ', 'IDADE', ' ', 'você', ' ', 'tinha', ' ', 'quando', '\\r'], ['ou', ' ', 'de', ' ', 'ameaçarem', ' ', 'bater', ' ', 'ou', ' ', 'algo', ' ', 'do', ' ', 'tipo', ' ', 'se', '\\r'], ['Q52.', ' ', 'Expressão', ' ', ' ', 'de', ' ', ' ', 'Gênero', ' ', 'se', ' ', ' ', 'refere', ' ', ' ', 'a', ' ', ' ', 'nossa', ' ', '\\r'], ['aparência', ' ', ' ', ' ', '(como', ' ', ' ', ' ', 'gostamos', ' ', ' ', ' ', 'de', ' ', ' ', ' ', 'nos', ' ', ' ', ' ', 'vestir,', ' ', ' ', ' ', 'ou', ' ', '\\r'], ['arrumar', ' ', ' ', 'o', ' ', ' ', 'cabelo),', ' ', ' ', 'aos', ' ', ' ', 'nossos', ' ', ' ', 'comportamento', ' ', '\\r'], ['(modos', ' ', ' ', 'de', ' ', ' ', 'agir,', ' ', ' ', 'ou', ' ', ' ', 'de', ' ', ' ', 'falar),', ' ', ' ', 'e', ' ', ' ', 'a', ' ', ' ', 'maneira', ' ', ' ', 'como', ' ', '\\r'], ['nos', ' ', ' ', ' ', 'movimentamos,', ' ', ' ', ' ', 'ou', ' ', ' ', ' ', 'expressamos', ' ', ' ', ' ', 'o', ' ', ' ', ' ', 'que', ' ', '\\r'], ['sentimos', ' ', 'e', ' ', 'gostamos.', ' ', ' ', '\\r'], ['De', ' ', 'que', ' ', 'maneira', ' ', 'você', ' ', 'se', ' ', 'expressa?', '\\r'], ['Q40.', ' ', 'Você', ' ', 'já', ' ', 'teve', ' ', 'alguma', ' ', 'relação', ' ', 'sexual', ' ', '(você', ' ', 'já', '\\r'], ['Remédios', ' ', 'para', ' ', 'dor', ' ', 'sem', ' ', 'prescrição', ' ', '(Ex:', ' ', 'Tramal,', '\\r'], ['afetiva,', ' ', 'física', ' ', 'e', ' ', 'sexual', ' ', 'que', ' ', 'sentirmos', ' ', 'por', ' ', 'outras', ' ', 'pessoas.', ' ', 'Qual', ' ', 'sua', ' ', 'orientação', ' ', 'sexual?', '\\r'], ['apanhou', ' ', 'seriamente', ' ', 'de', ' ', 'um', ' ', 'adulto', ' ', 'dentro', '\\r'], ['burro(a),', ' ', 'idiota(a),', ' ', 'estúpido(a)?', '\\r'], ['Q37.', ' ', 'Quantos', ' ', 'filhos', ' ', 'vivos', ' ', 'você', ' ', 'tem?', '\\r'], ['alguma', ' ', 'dessas', ' ', 'coisas?', '\\r'], ['Q27.', ' ', 'Você', ' ', 'já', ' ', 'menstruou?', ' ', ' ', '(', ' ', ' ', ' ', ')', ' ', 'Sim', ' ', ' ', ' ', ' ', ' ', ' ', ' ', '(', ' ', ' ', ' ', ')', ' ', 'Não', '\\r'], ['Q21.', ' ', 'SE', ' ', 'SIM,', ' ', 'com', ' ', 'que', ' ', 'frequência', ' ', 'você', ' ', 'fumou', ' ', '\\r'], ['maconha', ' ', 'NOS', ' ', 'ÚLTIMOS', ' ', '12', ' ', 'MESES?', '\\r'], ['Q5.', ' ', 'SE', ' ', 'SIM,', ' ', 'com', ' ', 'que', ' ', 'frequência', ' ', 'você', ' ', 'tomou', ' ', 'um', ' ', '\\r'], ['porre', ' ', 'ou', ' ', 'ficou', ' ', 'bêbedo', ' ', 'nos', ' ', 'ÚLTIMOS', ' ', '12', ' ', 'MESES?', '\\r'], ['xingado', ' ', 'por', ' ', 'algum', ' ', 'adulto', ' ', '(incluindo', ' ', 'seus', '\\r'], ['da', ' ', 'sua', ' ', 'idade', ' ', 'usam', ' ', 'alguma', ' ', 'dessas', ' ', 'coisas?', '\\r'], ['Q6.', ' ', 'SE', ' ', 'SIM,', ' ', 'beber', ' ', 'tem', ' ', 'causado', ' ', 'problemas', ' ', 'para', '\\r'], ['Q46.', ' ', 'NOS', ' ', 'ÚLTIMOS', ' ', '3', ' ', 'ANOS,', ' ', 'aconteceu', '\\r'], ['Q28.', ' ', 'SE', ' ', 'VOCÊ', ' ', 'JÁ', ' ', 'MENSTRUOU,', ' ', 'com', ' ', 'que', ' ', 'idade', '\\r'], ['Q2.', ' ', 'SE', ' ', 'SIM,', ' ', 'que', ' ', 'IDADE', ' ', 'você', ' ', 'tinha', ' ', 'quando', ' ', 'tomou', '\\r'], ['Q30.', ' ', 'Você', ' ', 'está', ' ', 'grávida?', ' ', '(', ' ', ' ', ' ', ')', ' ', 'Sim', ' ', ' ', ' ', ' ', ' ', ' ', ' ', '(', ' ', ' ', ' ', ')', ' ', 'Não', '\\r'], ['Q39.', ' ', 'Por', ' ', 'favor,', ' ', 'marque', ' ', 'com', ' ', 'um', ' ', 'X', ' ', 'no', ' ', 'número', ' ', 'do', ' ', 'quadrinho', ' ', 'abaixo', ' ', 'que', ' ', 'mais', ' ', 'se', ' ', 'parece', ' ', 'contigo', ' ', 'agora:', '\\r'], ['quando', ' ', 'está', ' ', 'bebendo?', '\\r'], ['Q6.', ' ', 'SE', ' ', 'SIM,', ' ', 'beber', ' ', 'tem', ' ', 'causado', ' ', 'problemas', ' ', 'para', ' ', '\\r'], ['você', ' ', '(com', ' ', 'seus', ' ', 'pais,', ' ', 'com', ' ', 'seus', ' ', 'amigos,', ' ', 'na', ' ', 'escola', ' ', '\\r'], ['ou', ' ', 'no', ' ', 'trabalho)?', '\\r'], ['Q26.', ' ', 'Quão', ' ', ' ', 'difícil', ' ', ' ', 'você', ' ', ' ', 'acharia', ' ', 'parar', ' ', ' ', 'ou', ' ', ' ', 'ficar', ' ', '\\r'], ['sem', ' ', 'maconha?', '\\r'], ['Q8.', ' ', 'Nos', ' ', 'ÚLTIMOS', ' ', '12', ' ', 'MESES,', ' ', 'quantas', ' ', 'doses', ' ', '/', '\\r'], ['Q11.', ' ', 'SE', ' ', 'SIM,', ' ', 'que', ' ', 'IDADE', ' ', 'você', ' ', 'tinha', ' ', 'quando', '\\r'], ['Q10.', ' ', 'ALGUMA', ' ', 'VEZ', ' ', 'NA', ' ', 'VIDA,', ' ', 'você', ' ', 'já', ' ', 'fumou', '\\r'], ['Q21.', ' ', 'SE', ' ', 'SIM,', ' ', 'com', ' ', 'que', ' ', 'frequência', ' ', 'você', ' ', 'fumou', '\\r'], ['Q32.', ' ', 'Quantos', ' ', 'filhos', ' ', 'vivos', ' ', 'você', ' ', 'tem?', ' ', '_______', ' ', 'filhos', '\\r'], ['ACONTECIDO', ' ', 'COM', ' ', 'VOCÊ', ' ', 'NOS', ' ', 'ÚLTIMOS', ' ', '3', ' ', 'ANOS', '\\r'], ['de', ' ', 'terem', ' ', 'feitos', ' ', 'coisas', ' ', 'sexuais', ' ', 'com', ' ', 'você', '\\r'], ['Essas', ' ', 'são', ' ', 'algumas', ' ', 'perguntas', ' ', 'sobre', ' ', 'a', ' ', 'sua', ' ', 'sexualidade.', ' ', 'Por', ' ', 'favor,', ' ', 'observe', ' ', 'a', ' ', 'figura', ' ', 'e', ' ', 'responda', ' ', 'as', ' ', 'perguntas', ' ', 'abaixo', ' ', 'de', ' ', 'acordo', ' ', 'com', ' ', 'a', ' ', 'maneira', ' ', 'com', ' ', 'a', ' ', 'qual', ' ', 'você', ' ', 'se', ' ', 'identifica', ' ', 'em', ' ', 'cada', ' ', 'uma', ' ', 'das', ' ', 'opções.', ' ', 'Q48.', ' ', 'Sexo', ' ', 'designado', ' ', 'ao', ' ', 'nascer', ' ', 'diz', ' ', 'respeito', ' ', 'a', ' ', 'como', ' ', 'fomos', ' ', 'identificados', ' ', 'quando', ' ', 'nascemos.Qual', ' ', 'seu', ' ', 'sexo', ' ', 'identificado', ' ', 'no', ' ', 'nascimento?', '\\r'], ['Q1.', ' ', 'ALGUMA', ' ', 'VEZ', ' ', 'NA', ' ', 'VIDA,', ' ', 'você', ' ', 'já', ' ', 'tomou', ' ', 'alguma', ' ', '\\r'], ['bebida', ' ', 'de', ' ', 'álcool,', ' ', 'como', ' ', 'cerveja,', ' ', 'vinho', ' ', 'ou', ' ', 'vodka?', '\\r'], ['(', ' ', ' ', ' ', ')', ' ', 'Não', ' ', 'quero', ' ', 'falar', ' ', 'sobre', ' ', 'o', ' ', 'que', ' ', 'aconteceu', '\\r'], ['Q31.', ' ', 'Você', ' ', 'já', ' ', 'abortou?', ' ', '(', ' ', ' ', ' ', ')', ' ', 'Sim', ' ', ' ', ' ', ' ', ' ', ' ', ' ', ' ', '(', ' ', ' ', ' ', ')', ' ', 'Não', '\\r'], ['Q44.', ' ', 'NOS', ' ', 'ÚLTIMOS', ' ', '3', ' ', 'ANOS,', ' ', 'alguém', ' ', '\\r'], ['disse', ' ', 'a', ' ', 'você', ' ', 'que', ' ', 'você', ' ', 'não', ' ', 'servia', ' ', 'para', ' ', '\\r'], ['nada,', ' ', 'gritando', ' ', 'ou', ' ', 'berrando', ' ', 'com', ' ', 'você?', '\\r'], ['bebidas', ' ', 'alcoólicas', ' ', 'você', ' ', 'consome', ' ', 'em', ' ', 'um', ' ', 'dia', ' ', 'típico', '\\r'], ['Q24.', ' ', 'Você', ' ', 'se', ' ', 'preocupa', ' ', 'com', ' ', 'o', ' ', 'seu', ' ', 'uso', ' ', 'de', '\\r'], ['Remédios', ' ', 'para', ' ', 'emagrecer', ' ', 'sem', ' ', 'prescrição', ' ', '(Ex:', '\\r'], ['Q23.', ' ', 'A', ' ', 'ideia', ' ', 'de', ' ', 'não', ' ', 'fumar', ' ', 'maconha', ' ', 'o', ' ', 'deixa', ' ', '\\r'], ['ansioso', ' ', 'ou', ' ', 'preocupado?', '\\r'], ['Q12.', ' ', 'SE', ' ', 'SIM,', ' ', 'você', ' ', 'fumou', ' ', 'cigarro,', ' ', 'palheiro,', '\\r'], ['Q46.', ' ', 'NOS', ' ', 'ÚLTIMOS', ' ', '3', ' ', 'ANOS,', ' ', 'aconteceu', ' ', '\\r'], ['de', ' ', 'terem', ' ', 'feitos', ' ', 'coisas', ' ', 'sexuais', ' ', 'com', ' ', 'você', ' ', '\\r'], ['ou', ' ', 'de', ' ', 'ameaçarem', ' ', 'bater', ' ', 'ou', ' ', 'algo', ' ', 'do', ' ', 'tipo', ' ', 'se', ' ', '\\r'], ['você', ' ', 'não', ' ', 'fizesse', ' ', 'coisas', ' ', 'sexuais?', '\\r'], ['Q4.', ' ', 'SE', ' ', 'SIM,', ' ', 'com', ' ', 'que', ' ', 'frequência', ' ', 'você', ' ', 'tomou', ' ', '\\r'], ['bebida', ' ', 'de', ' ', 'álcool', ' ', 'nos', ' ', 'ÚLTIMOS', ' ', '12', ' ', 'MESES?', '\\r'], ['Q30.', ' ', 'Você', ' ', 'está', ' ', 'grávida?', '\\r'], ['ÚLTIMOS', ' ', '12', ' ', 'MESES?', '\\r'], ['Q7.', ' ', 'Nos', ' ', 'ÚLTIMOS', ' ', '12', ' ', 'MESES', ' ', ',', ' ', 'qual', ' ', 'a', ' ', 'frequência', ' ', 'do', '\\r'], ['Q10.', ' ', 'ALGUMA', ' ', 'VEZ', ' ', 'NA', ' ', 'VIDA,', ' ', 'você', ' ', 'já', ' ', 'fumou', ' ', '\\r'], ['cigarro,', ' ', 'palheiro,', ' ', 'narguilé,', ' ', 'charuto', ' ', 'ou', ' ', 'mascou', ' ', '\\r'], ['fumo?', ' ', '\\r'], ['(', ' ', ' ', ' ', ')', ' ', 'Sim', ' ', '\\r'], ['(', ' ', ' ', ' ', ')', ' ', 'Não', '\\r'], ['Q42.', ' ', 'NOS', ' ', 'ÚLTIMOS', ' ', '3', ' ', 'ANOS,', ' ', 'aconteceu', ' ', '\\r'], ['de', ' ', 'você', ' ', 'não', ' ', 'ter', ' ', 'o', ' ', 'que', ' ', 'comer', ' ', 'dentro', ' ', 'de', ' ', '\\r'], ['casa', ' ', 'ou', ' ', 'de', ' ', 'ter', ' ', 'que', ' ', 'vestir', ' ', 'roupas', ' ', 'sujas', ' ', 'ou', ' ', '\\r'], ['rasgadas?', '\\r'], ['com', ' ', 'alguém?', '\\r'], ['Q4.', ' ', 'SE', ' ', 'SIM,', ' ', 'com', ' ', 'que', ' ', 'frequência', ' ', 'você', ' ', 'tomou', '\\r'], ['Q3.', ' ', 'SE', ' ', 'SIM,', ' ', 'você', ' ', 'tomou', ' ', 'bebida', ' ', 'de', ' ', 'álcool', ' ', 'NOS', ' ', '\\r'], ['ÚLTIMOS', ' ', '12', ' ', 'MESES?', '\\r'], ['Remédios', ' ', 'para', ' ', 'dor', ' ', 'sem', ' ', 'prescrição', ' ', '(Tramal,', ' ', 'Tilex,', '\\r'], ['Q42.', ' ', 'NOS', ' ', 'ÚLTIMOS', ' ', '3', ' ', 'ANOS,', ' ', 'aconteceu', '\\r'], ['Q9.', ' ', 'Nos', ' ', 'ÚLTIMOS', ' ', '12', ' ', 'MESES,', ' ', 'qual', ' ', 'a', ' ', 'frequência', ' ', 'que', ' ', '\\r'], ['você', ' ', 'consome', ' ', '6', ' ', 'ou', ' ', 'mais', ' ', 'doses', ' ', 'de', ' ', 'bebida', ' ', 'alcoólica', ' ', '\\r'], ['em', ' ', 'uma', ' ', 'mesma', ' ', 'ocasião?', '\\r'], ['Q12.', ' ', 'SE', ' ', 'SIM,', ' ', 'você', ' ', 'fumou', ' ', 'cigarro,', ' ', 'palheiro,', ' ', '\\r'], ['narguilé,', ' ', 'charuto', ' ', 'ou', ' ', 'mascou', ' ', 'fumo', ' ', 'alguma', ' ', 'vez', ' ', 'NOS', ' ', '\\r'], ['ÚLTIMOS', ' ', '12', ' ', 'MESES?', ' ', '\\r'], ['(', ' ', ' ', ' ', ')', ' ', 'Sim', ' ', '\\r'], ['(', ' ', ' ', ' ', ')', ' ', 'Não', ' ', '\\r'], ['(', ' ', ' ', ' ', ')', ' ', 'Não', ' ', 'se', ' ', 'aplica', ' ', '(nunca', ' ', 'fumei', ' ', 'cigarro)', '\\r'], ['Outra', ' ', 'coisa?', ' ', '__________________', '\\r'], ['causado', ' ', 'problemas', ' ', 'para', ' ', 'você', ' ', '(com', ' ', 'seus', ' ', 'pais,', '\\r'], ['Q5.', ' ', 'SE', ' ', 'SIM,', ' ', 'com', ' ', 'que', ' ', 'frequência', ' ', 'você', ' ', 'tomou', ' ', 'um', '\\r'], ['Situações', ' ', 'estressoras', '\\r'], ['você', ' ', 'não', ' ', 'fizesse', ' ', 'coisas', ' ', 'sexuais?', '\\r'], ['Q48.', ' ', 'Sexo', ' ', ' ', 'designado', ' ', ' ', 'ao', ' ', ' ', 'nascer', ' ', ' ', 'diz', ' ', ' ', 'respeito', ' ', ' ', 'a', ' ', '\\r'], ['como', ' ', ' ', 'fomos', ' ', ' ', 'identificados', ' ', ' ', 'quando', ' ', ' ', 'nascemos.Qual', ' ', '\\r'], ['seu', ' ', 'sexo', ' ', 'identificado', ' ', 'no', ' ', 'nascimento?', '\\r'], ['Q16.', ' ', 'NOS', ' ', 'ÚLTIMOS', ' ', '12', ' ', 'MESES,', ' ', 'você', ' ', 'usou', '\\r'], ['com', ' ', 'seus', ' ', 'amigos,', ' ', 'na', ' ', 'escola', ' ', 'ou', ' ', 'no', ' ', 'trabalho)?', '\\r'], ['AS', ' ', 'PRÓXIMAS', ' ', 'PERGUNTAS', ' ', 'SÃO', ' ', 'SOBRE', ' ', 'SEXUALIDADE', '\\r'], ['Q9.', ' ', 'Nos', ' ', 'ÚLTIMOS', ' ', '12', ' ', 'MESES,', ' ', 'qual', ' ', 'a', ' ', 'frequência', ' ', 'que', '\\r'], ['disse', ' ', 'a', ' ', 'você', ' ', 'que', ' ', 'você', ' ', 'não', ' ', 'servia', ' ', 'para', '\\r'], ['nada,', ' ', 'gritando', ' ', 'ou', ' ', 'berrando', ' ', 'com', ' ', 'você?', '\\r'], ['bebida', ' ', 'de', ' ', 'álcool,', ' ', 'como', ' ', 'cerveja,', ' ', 'vinho', ' ', 'ou', ' ', 'vodka?', '\\r'], ['Remédios', ' ', 'para', ' ', 'emagrecer', ' ', 'sem', ' ', 'prescrição', '\\r'], ['Q2.', ' ', 'SE', ' ', 'SIM,', ' ', 'que', ' ', 'IDADE', ' ', 'você', ' ', 'tinha', ' ', 'quando', ' ', 'tomou', ' ', '\\r'], ['pela', ' ', 'primeira', ' ', 'vez?', '\\r'], ['Q14.', ' ', 'Os', ' ', 'seus', ' ', 'AMIGOS', ' ', 'ou', ' ', 'alguém', ' ', 'próximo', ' ', 'a', ' ', 'você', ' ', '\\r'], ['da', ' ', 'sua', ' ', 'idade', ' ', 'usam', ' ', 'alguma', ' ', 'dessas', ' ', 'coisas?', ' ', '\\r'], ['Cola', ' ', 'de', ' ', 'sapateiro', ' ', '\\r'], ['Solvente,', ' ', 'tiner', ' ', 'ou', ' ', 'lança-perfume', ' ', '\\r'], ['Cocaína', ' ', '\\r'], ['Maconha', ' ', '\\r'], ['Crack', ' ', '\\r'], ['Ecstasy', ' ', '(MDMA,', ' ', '“bala”)', ' ', '\\r'], ['Ácido', ' ', 'ou', ' ', 'LSD', ' ', '(“doce”)', ' ', '\\r'], ['Anfetamina', ' ', '(“speed”)', ' ', '(ingerido)', ' ', '\\r'], ['Anfetamina', ' ', '(“speed”)', ' ', '(aspirado/cheirado)', ' ', '\\r'], ['Anfetamina', ' ', '(“speed”)', ' ', '(fumado)', ' ', '\\r'], ['Esteróides', ' ', '(anabolizantes', ' ', 'ou', ' ', '“bomba”)', ' ', '\\r'], ['Remédios', ' ', 'para', ' ', 'dar', ' ', 'algum', ' ', '“barato”?', ' ', '\\r'], ['Remédios', ' ', 'para', ' ', 'dor', ' ', 'sem', ' ', 'prescrição', ' ', '(Tramal,', ' ', 'Tilex,', ' ', '\\r'], ['Oxycotim,', ' ', 'Fentanil,', ' ', 'etc)', ' ', ' ', ' ', '\\r'], ['Remédios', ' ', 'para', ' ', 'dormir', ' ', 'sem', ' ', 'prescrição', ' ', '\\r'], ['(Lexotan,', ' ', 'Valium,', ' ', 'Lorax,', ' ', 'Rivotril,', ' ', 'etc)', ' ', '\\r'], ['Remédios', ' ', 'para', ' ', 'emagrecer', ' ', 'sem', ' ', 'prescrição', ' ', '\\r'], ['(Hipofagin,', ' ', 'Inibex,', ' ', ',', ' ', 'Dualid', ' ', 'ou', ' ', 'rebite)', ' ', ' ', ' ', ' ', ' ', '\\r'], [' ', '\\r'], [' ', '\\r'], ['(', ' ', ' ', ' ', ')', ' ', 'Sim', ' ', ' ', ' ', ' ', ' ', '(', ' ', ' ', ' ', ')', ' ', 'Não', ' ', '\\r'], ['(', ' ', ' ', ' ', ')', ' ', 'Sim', ' ', ' ', ' ', ' ', ' ', '(', ' ', ' ', ' ', ')', ' ', 'Não', ' ', '\\r'], ['(', ' ', ' ', ' ', ')', ' ', 'Sim', ' ', ' ', ' ', ' ', ' ', '(', ' ', ' ', ' ', ')', ' ', 'Não', ' ', '\\r'], ['(', ' ', ' ', ' ', ')', ' ', 'Sim', ' ', ' ', ' ', ' ', ' ', '(', ' ', ' ', ' ', ')', ' ', 'Não', ' ', '\\r'], ['(', ' ', ' ', ' ', ')', ' ', 'Sim', ' ', ' ', ' ', ' ', ' ', '(', ' ', ' ', ' ', ')', ' ', 'Não', ' ', '\\r'], ['(', ' ', ' ', ' ', ')', ' ', 'Sim', ' ', ' ', ' ', ' ', ' ', '(', ' ', ' ', ' ', ')', ' ', 'Não', ' ', '\\r'], ['(', ' ', ' ', ' ', ')', ' ', 'Sim', ' ', ' ', ' ', ' ', ' ', '(', ' ', ' ', ' ', ')', ' ', 'Não', ' ', '\\r'], ['(', ' ', ' ', ' ', ')', ' ', 'Sim', ' ', ' ', ' ', ' ', ' ', '(', ' ', ' ', ' ', ')', ' ', 'Não', ' ', '\\r'], ['(', ' ', ' ', ' ', ')', ' ', 'Sim', ' ', ' ', ' ', ' ', ' ', '(', ' ', ' ', ' ', ')', ' ', 'Não', ' ', '\\r'], ['(', ' ', ' ', ' ', ')', ' ', 'Sim', ' ', ' ', ' ', ' ', ' ', '(', ' ', ' ', ' ', ')', ' ', 'Não', ' ', '\\r'], ['(', ' ', ' ', ' ', ')', ' ', 'Sim', ' ', ' ', ' ', ' ', ' ', '(', ' ', ' ', ' ', ')', ' ', 'Não', ' ', '\\r'], ['(', ' ', ' ', ' ', ')', ' ', 'Sim', ' ', ' ', ' ', ' ', ' ', '(', ' ', ' ', ' ', ')', ' ', 'Não', ' ', '\\r'], ['(', ' ', ' ', ' ', ')', ' ', 'Sim', ' ', ' ', ' ', ' ', ' ', '(', ' ', ' ', ' ', ')', ' ', 'Não', ' ', '\\r'], [' ', '\\r'], ['(', ' ', ' ', ' ', ')', ' ', 'Sim', ' ', ' ', ' ', ' ', ' ', '(', ' ', ' ', ' ', ')', ' ', 'Não', ' ', '\\r'], [' ', '\\r'], ['(', ' ', ' ', ' ', ')', ' ', 'Sim', ' ', ' ', ' ', ' ', ' ', '(', ' ', ' ', ' ', ')', ' ', 'Não', '\\r'], ['Considere', ' ', '1', ' ', 'dose', ' ', '=', ' ', '1', ' ', 'lata', ' ', 'de', ' ', 'cerveja', ' ', 'ou', ' ', '1', ' ', 'taça', ' ', 'de', ' ', 'vinho', ' ', 'ou', ' ', '1', ' ', 'martelinho', ' ', 'de', ' ', 'destilado', ' ', 'Garrafa', ' ', 'cerveja', ' ', '=', ' ', '2', ' ', 'doses', ' ', 'Garrafa', ' ', 'vinho', ' ', '=', ' ', '8', ' ', 'doses', ' ', 'Garrafa', ' ', 'destilado', ' ', '=', ' ', '30', ' ', 'a', ' ', '35', ' ', 'unidades', '\\r'], ['Q43.', ' ', 'Que', ' ', 'idade', ' ', 'você', ' ', 'tinha?', ' ', '________', ' ', 'anos', '\\r'], ['Remédios', ' ', 'para', ' ', 'dormir', ' ', 'sem', ' ', 'prescrição', ' ', '(Ex:', '\\r'], ['AS', ' ', 'PRÓXIMAS', ' ', 'PERGUNTAS', ' ', 'SÃO', ' ', 'SOBRE', ' ', 'CIGARRO', ' ', 'E', ' ', 'SUBSTÂNCIAS', '\\r'], ['Remédios', ' ', 'para', ' ', 'dormir', ' ', 'sem', ' ', 'prescrição', '\\r'], ['porre', ' ', 'ou', ' ', 'ficou', ' ', 'bêbedo', ' ', 'nos', ' ', 'ÚLTIMOS', ' ', '12', ' ', 'MESES?', '\\r'], ['Q49.', ' ', 'Identidade', ' ', 'de', ' ', 'Gênero', ' ', 'diz', ' ', 'respeito', ' ', 'a', '\\r'], ['sem', ' ', 'maconha?', '\\r'], ['você', ' ', 'consome', ' ', '6', ' ', 'ou', ' ', 'mais', ' ', 'doses', ' ', 'de', ' ', 'bebida', ' ', 'alcoólica', '\\r'], ['rasgadas?', '\\r'], ['Q43.', ' ', 'NOS', ' ', 'ÚLTIMOS', ' ', '3', ' ', 'ANOS,', ' ', 'você', ' ', 'foi', '\\r'], ['Q43.', ' ', 'Que', ' ', 'idade', ' ', 'você', ' ', 'tinha?', '\\r'], ['CONF.', ' ', 'RESPONDEU', ' ', ' ', 'CONFIDENCIAL?', '\\r'], ['Q26.', ' ', 'Quão', ' ', 'difícil', ' ', 'você', ' ', 'acharia', ' ', 'parar', ' ', 'ou', ' ', 'ficar', '\\r'], ['APENAS', ' ', 'PARA', ' ', 'MENINOS', '\\r'], ['Q7.', ' ', 'Nos', ' ', 'ÚLTIMOS', ' ', '12', ' ', 'MESES', ' ', ',', ' ', 'qual', ' ', 'a', ' ', 'frequência', ' ', 'do', ' ', '\\r'], ['seu', ' ', 'consumo', ' ', 'de', ' ', 'bebidas', ' ', 'alcoólicas?', '\\r'], ['ansioso', ' ', 'ou', ' ', 'preocupado?', '\\r'], ['Q35.', ' ', 'Você', ' ', 'já', ' ', 'engravidou', ' ', 'alguma', ' ', 'menina?', ' ', ' ', '(', ' ', ' ', ' ', ')', ' ', 'Sim', '\\r'], ['Q45.', ' ', 'NOS', ' ', 'ÚLTIMOS', ' ', '3', ' ', 'ANOS,', ' ', 'você', ' ', '\\r'], ['apanhou', ' ', 'seriamente', ' ', 'de', ' ', 'um', ' ', 'adulto', ' ', 'dentro', ' ', '\\r'], ['de', ' ', 'casa,', ' ', 'chegando', ' ', 'a', ' ', 'deixar', ' ', 'você', ' ', '\\r'], ['machucado', ' ', 'ou', ' ', 'com', ' ', 'marcas', ' ', 'pelo', ' ', 'corpo?', '\\r'], ['Q36.', ' ', 'Alguma', ' ', 'menina', ' ', 'que', ' ', 'você', ' ', 'engravidou', ' ', 'fez', '\\r'], ['vez?', '\\r'], ['maneira', ' ', 'como', ' ', 'você', ' ', 'se', ' ', 'sente,', ' ', 'se', ' ', 'percebe', ' ', 'e', ' ', 'a', ' ', 'forma', ' ', 'como', ' ', 'gostaria', ' ', 'que', ' ', 'as', ' ', 'outras', ' ', 'pessoas', ' ', 'lhe', ' ', 'reconhecessem.', ' ', 'Ou', ' ', 'seja,', ' ', 'é', ' ', 'o', ' ', 'gênero', ' ', 'com', ' ', 'o', ' ', 'qual', ' ', 'você', ' ', 'se', ' ', 'identifica.', ' ', 'Como', ' ', 'você', ' ', 'se', ' ', 'identifica?', '\\r'], [], ['SOCIAL', ' ', 'ACTIVITIES:', ' ', 'During', ' ', 'the', ' ', 'past', ' ', '4', ' ', 'weeks,', ' ', ' ', 'how', ' ', 'much', ' ', 'of', ' ', 'the', ' ', 'time', ' ', 'has', ' ', 'your', ' ', 'physical', ' ', 'health', ' ', 'or', ' ', 'emotional', ' ', 'problems', ' ', 'interfered', ' ', 'with', ' ', 'your', ' ', 'social', ' ', 'activities', ' ', '(like', ' ', 'visiting', ' ', 'with', ' ', 'friends,', ' ', 'relatives,', ' ', 'etc.)?', '\\r'], ['Cut', ' ', 'down', ' ', 'the', ' ', 'amount', ' ', 'of', ' ', 'time', ' ', 'you', ' ', 'spent', ' ', 'on', ' ', 'work', ' ', 'or', ' ', 'other', ' ', 'activities', ' ', 'Yes', ' ', 'No', '\\r'], ['SOCIAL', ' ', 'ACTIVITIES:', ' ', 'Emotional', ' ', 'problems', ' ', 'interfered', ' ', 'with', ' ', 'your', ' ', 'normal', ' ', 'social', ' ', 'activities', ' ', 'with', ' ', 'family,', ' ', 'friends,', ' ', 'neighbors,', ' ', 'or', ' ', 'groups?', '\\r'], ['Have', ' ', 'you', ' ', 'felt', ' ', 'downhearted', ' ', 'and', ' ', 'blue?', ' ', 'All', ' ', 'of', ' ', 'the', ' ', 'time', '\\r'], ['Did', ' ', 'you', ' ', 'feel', ' ', 'tired?', ' ', 'All', ' ', 'of', ' ', 'the', ' ', 'time', '\\r'], ['ENERGY', ' ', 'AND', ' ', 'EMOTIONS:', ' ', 'These', ' ', 'questions', ' ', 'are', ' ', 'about', ' ', 'how', ' ', 'you', ' ', 'feel', ' ', 'and', ' ', 'how', ' ', 'things', ' ', 'have', ' ', 'been', ' ', 'with', ' ', 'you', ' ', 'during', ' ', 'the', ' ', 'last', ' ', '4', ' ', 'weeks.', ' ', 'For', ' ', 'each', ' ', 'question,', ' ', 'please', ' ', 'give', ' ', 'the', ' ', 'answer', ' ', 'that', ' ', 'comes', ' ', 'closest', ' ', 'to', ' ', 'the', ' ', 'way', ' ', 'you', ' ', 'have', ' ', 'been', ' ', 'feeling.', '\\r'], ['During', ' ', 'the', ' ', 'past', ' ', '4', ' ', 'weeks,', ' ', ' ', 'how', ' ', 'much', ' ', 'did', ' ', 'pain', ' ', 'interfere', ' ', 'with', ' ', 'your', ' ', 'normal', ' ', 'work', ' ', '(including', ' ', 'both', ' ', 'work', ' ', 'outside', ' ', 'the', ' ', 'home', ' ', 'and', ' ', 'housework)?', '\\r'], ['Did', ' ', 'you', ' ', 'have', ' ', 'a', ' ', 'lot', ' ', 'of', ' ', 'energy?', ' ', 'All', ' ', 'of', ' ', 'the', ' ', 'time', '\\r'], ['Have', ' ', 'you', ' ', 'felt', ' ', 'so', ' ', 'down', ' ', 'in', ' ', 'the', ' ', 'dumps', ' ', 'that', ' ', 'nothing', ' ', 'could', ' ', 'cheer', ' ', 'you', ' ', 'up?', ' ', 'All', ' ', 'of', ' ', 'the', ' ', 'time', '\\r'], [\"Didn't\", ' ', 'do', ' ', 'work', ' ', 'or', ' ', 'other', ' ', 'activities', ' ', 'as', ' ', 'carefully', ' ', 'as', ' ', 'usual', ' ', 'Yes', ' ', 'No', '\\r'], ['LIMITATIONS', ' ', 'OF', ' ', 'ACTIVITIES:', ' ', 'The', ' ', 'following', ' ', 'items', ' ', 'are', ' ', 'about', ' ', 'activities', ' ', 'you', ' ', 'might', ' ', 'do', ' ', 'during', ' ', 'a', ' ', 'typical', ' ', 'day.', ' ', 'Does', ' ', 'your', ' ', 'health', ' ', 'now', ' ', 'limit', ' ', 'you', ' ', 'in', ' ', 'these', ' ', 'activities?', ' ', 'If', ' ', 'so,', ' ', 'how', ' ', 'much?', '\\r'], ['Did', ' ', 'you', ' ', 'feel', ' ', 'worn', ' ', 'out?', ' ', 'All', ' ', 'of', ' ', 'the', ' ', 'time', '\\r'], ['Somewhat', ' ', 'worse', ' ', 'now', ' ', 'than', ' ', 'one', ' ', 'year', ' ', 'ago', '\\r'], ['PAIN:', ' ', 'How', ' ', 'much', ' ', 'bodily', ' ', 'pain', ' ', 'have', ' ', 'you', ' ', 'had', ' ', 'during', ' ', 'the', ' ', 'past', ' ', '4', ' ', 'weeks?', '\\r'], ['Have', ' ', 'you', ' ', 'been', ' ', 'a', ' ', 'happy', ' ', 'person?', ' ', 'All', ' ', 'of', ' ', 'the', ' ', 'time', '\\r'], ['Much', ' ', 'worse', ' ', 'than', ' ', 'one', ' ', 'year', ' ', 'ago', '\\r'], ['EMOTIONAL', ' ', 'HEALTH', ' ', 'PROBLEMS:', ' ', 'During', ' ', 'the', ' ', 'past', ' ', '4', ' ', 'weeks,', ' ', 'have', ' ', 'you', ' ', 'had', ' ', 'any', ' ', 'of', ' ', 'the', ' ', 'following', ' ', 'problems', ' ', 'with', ' ', 'your', ' ', 'work', ' ', 'or', ' ', 'other', ' ', 'regular', ' ', 'daily', ' ', 'activities', ' ', 'as', ' ', 'a', ' ', 'result', ' ', ' ', 'of', ' ', 'any', ' ', 'emotional', ' ', 'problems', ' ', '(such', ' ', 'as', ' ', 'feeling', ' ', 'depressed', ' ', 'or', ' ', 'anxious)?', '\\r'], ['Had', ' ', 'difficulty', ' ', 'performing', ' ', 'the', ' ', 'work', ' ', 'or', ' ', 'other', ' ', 'activities', ' ', '(for', ' ', 'example,', ' ', 'it', ' ', 'took', ' ', 'extra', ' ', 'effort)', ' ', 'Yes', ' ', 'No', '\\r'], ['Have', ' ', 'you', ' ', 'felt', ' ', 'calm', ' ', 'and', ' ', 'peaceful?', ' ', 'All', ' ', 'of', ' ', 'the', ' ', 'time', '\\r'], ['I', ' ', 'expect', ' ', 'my', ' ', 'health', ' ', 'to', ' ', 'get', ' ', 'worse', ' ', 'Definitely', ' ', 'true', ' ', 'Mostly', ' ', 'true', ' ', \"Don't\", ' ', 'know', ' ', 'Mostly', ' ', 'false', ' ', 'Definitely', ' ', 'false', '\\r'], ['Were', ' ', 'limited', ' ', 'in', ' ', 'the', ' ', 'kind', ' ', 'of', ' ', 'work', ' ', 'or', ' ', 'other', ' ', 'activities', ' ', 'Yes', ' ', 'No', '\\r'], ['Compared', ' ', 'to', ' ', 'one', ' ', 'year', ' ', 'ago,', ' ', 'how', ' ', 'would', ' ', 'you', ' ', 'rate', ' ', 'your', ' ', 'health', ' ', 'in', ' ', 'general', ' ', 'now?', ' ', 'Much', ' ', 'better', ' ', 'now', ' ', 'than', ' ', 'one', ' ', 'year', ' ', 'ago', '\\r'], ['PHYSICAL', ' ', 'HEALTH', ' ', 'PROBLEMS:', ' ', 'During', ' ', 'the', ' ', 'past', ' ', '4', ' ', 'weeks,', ' ', 'have', ' ', 'you', ' ', 'had', ' ', 'any', ' ', 'of', ' ', 'the', ' ', 'following', ' ', 'problems', ' ', 'with', ' ', 'your', ' ', 'work', ' ', 'or', ' ', 'other', ' ', 'regular', ' ', 'daily', ' ', 'activities', ' ', 'as', ' ', 'a', ' ', 'result', ' ', ' ', 'of', ' ', 'your', ' ', 'physical', ' ', 'health?', '\\r'], ['Have', ' ', 'you', ' ', 'been', ' ', 'a', ' ', 'very', ' ', 'nervous', ' ', 'person?', ' ', 'All', ' ', 'of', ' ', 'the', ' ', 'time', '\\r'], ['GENERAL', ' ', 'HEALTH:', ' ', 'How', ' ', 'true', ' ', 'or', ' ', 'false', ' ', 'is', ' ', 'each', ' ', 'of', ' ', 'the', ' ', 'following', ' ', 'statements', ' ', 'for', ' ', 'you?', '\\r'], ['Moderate', ' ', 'activities,', ' ', 'such', ' ', 'as', ' ', 'moving', ' ', 'a', ' ', 'table,', ' ', 'pushing', ' ', 'a', ' ', 'vacuum', ' ', 'cleaner,', ' ', 'bowling,', ' ', 'or', ' ', 'playing', ' ', 'golf', ' ', 'Yes,', ' ', 'Limited', ' ', 'a', ' ', 'Lot', ' ', 'Yes,', ' ', 'Limited', ' ', 'a', ' ', 'Little', ' ', 'No,', ' ', 'Not', ' ', 'Limited', ' ', 'at', ' ', 'all', '\\r'], ['Vigorous', ' ', 'activities,', ' ', 'such', ' ', 'as', ' ', 'running,', ' ', 'lifting', ' ', 'heavy', ' ', 'objects,', ' ', 'participating', ' ', 'in', ' ', 'strenuous', ' ', 'sports.', ' ', 'Yes,', ' ', 'Limited', ' ', 'a', ' ', 'lot', ' ', 'Yes,', ' ', 'Limited', ' ', 'a', ' ', 'Little', ' ', 'No,', ' ', 'Not', ' ', 'Limited', ' ', 'at', ' ', 'all', '\\r'], ['GENERAL', ' ', 'HEALTH:', ' ', 'In', ' ', 'general,', ' ', 'would', ' ', 'you', ' ', 'say', ' ', 'your', ' ', 'health', ' ', 'is:', '\\r'], ['Did', ' ', 'you', ' ', 'feel', ' ', 'full', ' ', 'of', ' ', 'pep?', ' ', 'All', ' ', 'of', ' ', 'the', ' ', 'time', '\\r'], [], ['3.', ' ', 'How', ' ', 'often', ' ', 'do', ' ', 'you', ' ', 'have', ' ', 'problems', ' ', 'remembering', ' ', 'appointments', ' ', 'or', ' ', 'obligations?', '\\r'], ['10.', ' ', 'How', ' ', 'often', ' ', 'do', ' ', 'you', ' ', 'misplace', ' ', 'or', ' ', 'have', ' ', 'difficulty', ' ', 'finding', ' ', 'things', ' ', 'at', ' ', 'home', ' ', 'or', ' ', 'at', ' ', 'work?', '\\r'], ['6.', ' ', 'How', ' ', 'often', ' ', 'do', ' ', 'you', ' ', 'feel', ' ', 'overly', ' ', 'active', ' ', 'and', ' ', 'compelled', ' ', 'to', ' ', 'do', ' ', 'things,', ' ', 'like', ' ', 'you', ' ', 'were', ' ', 'driven', ' ', 'by', ' ', 'a', ' ', 'motor?', '\\r'], ['14.', ' ', 'How', ' ', 'often', ' ', 'do', ' ', 'you', ' ', 'have', ' ', 'difficulty', ' ', 'unwinding', ' ', 'and', ' ', 'relaxing', ' ', 'when', ' ', 'you', ' ', 'have', ' ', 'time', ' ', 'to', ' ', 'yourself?', '\\r'], ['3.', ' ', 'The', ' ', 'frequency', ' ', 'scores', ' ', 'on', ' ', 'Part', ' ', 'B', ' ', 'provide', ' ', 'additional', ' ', 'cues', ' ', 'and', ' ', 'can', ' ', 'serve', ' ', 'as', ' ', 'further', ' ', 'probes', ' ', 'into', ' ', 'the', ' ', 'patient’s', ' ', 'symptoms.', ' ', ' ', 'Pay', ' ', 'particular', ' ', 'attention', ' ', 'to', ' ', 'marks', ' ', 'appearing', ' ', 'in', ' ', 'the', ' ', 'dark', ' ', 'shaded', ' ', 'boxes.', ' ', ' ', 'The', ' ', 'frequency-based', ' ', 'response', ' ', 'is', ' ', 'more', ' ', 'sensitive', ' ', 'with', ' ', 'certain', ' ', 'questions.', ' ', ' ', 'No', ' ', 'total', ' ', 'score', ' ', 'or', ' ', 'diagnostic', ' ', 'likelihood', ' ', 'is', ' ', 'utilized', ' ', 'for', ' ', 'the', ' ', 'twelve', ' ', 'questions.', ' ', 'It', ' ', 'has', ' ', 'been', ' ', 'found', ' ', 'that', ' ', 'the', ' ', 'six', ' ', 'questions', ' ', 'in', ' ', 'Part', ' ', 'A', ' ', 'are', ' ', 'the', ' ', 'most', ' ', 'predictive', ' ', 'of', ' ', 'the', ' ', 'disorder', ' ', 'and', ' ', 'are', ' ', 'best', ' ', 'for', ' ', 'use', ' ', 'as', ' ', 'a', ' ', 'screening', ' ', 'instrument.', '\\r'], ['15.', ' ', 'How', ' ', 'often', ' ', 'do', ' ', 'you', ' ', 'find', ' ', 'yourself', ' ', 'talking', ' ', 'too', ' ', 'much', ' ', 'when', ' ', 'you', ' ', 'are', ' ', 'in', ' ', 'social', ' ', 'situations?', '\\r'], ['1.', ' ', 'Schweitzer', ' ', 'JB,', ' ', 'et', ' ', 'al.', ' ', 'Med', ' ', 'Clin', ' ', 'North', ' ', 'Am.', ' ', '2001;85(3):10-11,', ' ', '757-777.', ' ', '2.', ' ', 'Barkley', ' ', 'RA.', ' ', 'Attention', ' ', 'Deficit', ' ', 'Hyperactivity', ' ', 'Disorder:', ' ', 'A', ' ', 'Handbook', ' ', 'for', ' ', 'Diagnosis', ' ', 'and', ' ', 'Treatment.', ' ', '2nd', ' ', 'ed.', ' ', '1998.', ' ', '3.', ' ', 'Biederman', ' ', 'J,', ' ', 'et', ' ', 'al.', ' ', 'Am', ' ', 'J', ' ', 'Psychiatry.1993;150:1792-1798.', ' ', '4.', ' ', 'American', ' ', 'Psychiatric', ' ', 'Association:', ' ', 'Diagnostic', ' ', 'and', ' ', 'Statistical', ' ', 'Manual', ' ', 'of', ' ', 'Mental', ' ', 'Disorders,', ' ', 'Fourth', ' ', 'Edition,', ' ', 'Text', ' ', 'Revision.', '\\r'], ['16.', ' ', 'When', ' ', 'you’re', ' ', 'in', ' ', 'a', ' ', 'conversation,', ' ', 'how', ' ', 'often', ' ', 'do', ' ', 'you', ' ', 'find', ' ', 'yourself', ' ', 'finishing', ' ', 'the', ' ', 'sentences', ' ', 'of', ' ', 'the', ' ', 'people', ' ', 'you', ' ', 'are', ' ', 'talking', ' ', 'to,', ' ', 'before', ' ', 'they', ' ', 'can', ' ', 'finish', ' ', 'them', ' ', 'themselves?', '\\r'], ['•', ' ', ' ', 'Thomas', ' ', 'Spencer,', ' ', 'MD', ' ', 'Associate', ' ', 'Professor', ' ', 'of', ' ', 'Psychiatry', ' ', 'Harvard', ' ', 'Medical', ' ', 'School', '\\r'], ['12.', ' ', 'How', ' ', 'often', ' ', 'do', ' ', 'you', ' ', 'leave', ' ', 'your', ' ', 'seat', ' ', 'in', ' ', 'meetings', ' ', 'or', ' ', 'other', ' ', 'situations', ' ', 'in', ' ', 'which', ' ', 'you', ' ', 'are', ' ', 'expected', ' ', 'to', ' ', 'remain', ' ', 'seated?', '\\r'], ['The', ' ', 'checklist', ' ', 'takes', ' ', 'about', ' ', '5', ' ', 'minutes', ' ', 'to', ' ', 'complete', ' ', 'and', ' ', 'can', ' ', 'provide', ' ', 'information', ' ', 'that', ' ', 'is', ' ', 'critical', ' ', 'to', ' ', 'supplement', ' ', 'the', ' ', 'diagnostic', ' ', 'process.', '\\r'], ['1.', ' ', 'Review', ' ', 'the', ' ', 'entire', ' ', 'Symptom', ' ', 'Checklist', ' ', 'with', ' ', 'your', ' ', 'patients', ' ', 'and', ' ', 'evaluate', ' ', 'the', ' ', 'level', ' ', 'of', ' ', 'impairment', '\\r'], ['The', ' ', 'Adult', ' ', 'ADHD', ' ', 'Self-Report', ' ', 'Scale', ' ', '(ASRS-v1.1)', ' ', 'Symptom', ' ', 'Checklist', ' ', 'was', ' ', 'developed', ' ', 'in', ' ', 'conjunction', ' ', 'with', ' ', 'the', ' ', 'World', ' ', 'Health', ' ', 'Organization', ' ', '(WHO),', ' ', 'and', ' ', 'the', ' ', 'Workgroup', ' ', 'on', ' ', 'Adult', ' ', 'ADHD', ' ', 'that', ' ', 'included', ' ', 'the', ' ', 'following', ' ', 'team', ' ', 'of', ' ', 'psychiatrists', ' ', 'and', ' ', 'researchers:', '\\r'], ['5.', ' ', 'How', ' ', 'often', ' ', 'do', ' ', 'you', ' ', 'fidget', ' ', 'or', ' ', 'squirm', ' ', 'with', ' ', 'your', ' ', 'hands', ' ', 'or', ' ', 'feet', ' ', 'when', ' ', 'you', ' ', 'have', ' ', 'to', ' ', 'sit', ' ', 'down', ' ', 'for', ' ', 'a', ' ', 'long', ' ', 'time?', '\\r'], ['7.', ' ', 'How', ' ', 'often', ' ', 'do', ' ', 'you', ' ', 'make', ' ', 'careless', ' ', 'mistakes', ' ', 'when', ' ', 'you', ' ', 'have', ' ', 'to', ' ', 'work', ' ', 'on', ' ', 'a', ' ', 'boring', ' ', 'or', ' ', 'difficult', ' ', 'project?', '\\r'], ['Description:', ' ', ' ', 'The', ' ', 'Symptom', ' ', 'Checklist', ' ', 'is', ' ', 'an', ' ', 'instrument', ' ', 'consisting', ' ', 'of', ' ', 'the', ' ', 'eighteen', ' ', 'DSM-IV-TR', ' ', 'criteria.', ' ', 'Six', ' ', 'of', ' ', 'the', ' ', 'eighteen', ' ', 'questions', ' ', 'were', ' ', 'found', ' ', 'to', ' ', 'be', ' ', 'the', ' ', 'most', ' ', 'predictive', ' ', 'of', ' ', 'symptoms', ' ', 'consistent', ' ', 'with', ' ', 'ADHD.', ' ', ' ', 'These', ' ', 'six', ' ', 'questions', ' ', 'are', ' ', 'the', ' ', 'basis', ' ', 'for', ' ', 'the', ' ', 'ASRS', ' ', 'v1.1', ' ', 'Screener', ' ', 'and', ' ', 'are', ' ', 'also', ' ', 'Part', ' ', 'A', ' ', 'of', ' ', 'the', ' ', 'Symptom', ' ', 'Checklist.', ' ', ' ', 'Part', ' ', 'B', ' ', 'of', ' ', 'the', ' ', 'Symptom', ' ', 'Checklist', ' ', 'contains', ' ', 'the', ' ', 'remaining', ' ', 'twelve', ' ', 'questions.', '\\r'], ['3.', ' ', 'Symptom', ' ', 'frequency', ' ', 'is', ' ', 'often', ' ', 'associated', ' ', 'with', ' ', 'symptom', ' ', 'severity,', ' ', 'therefore', ' ', 'the', ' ', 'Symptom', ' ', 'Checklist', ' ', 'may', ' ', 'also', ' ', 'aid', ' ', 'in', ' ', 'the', ' ', 'assessment', ' ', 'of', ' ', 'impairments.', ' ', ' ', 'If', ' ', 'your', ' ', 'patients', ' ', 'have', ' ', 'frequent', ' ', 'symptoms,', ' ', 'you', ' ', 'may', ' ', 'want', ' ', 'to', ' ', 'ask', ' ', 'them', ' ', 'to', ' ', 'describe', ' ', 'how', ' ', 'these', ' ', 'problems', ' ', 'have', ' ', 'affected', ' ', 'the', ' ', 'ability', ' ', 'to', ' ', 'work,', ' ', 'take', ' ', 'care', ' ', 'of', ' ', 'things', ' ', 'at', ' ', 'home,', ' ', 'or', ' ', 'get', ' ', 'along', ' ', 'with', ' ', 'other', ' ', 'people', ' ', 'such', ' ', 'as', ' ', 'their', ' ', 'spouse/significant', ' ', 'other.', '\\r'], ['Adult', ' ', 'ADHD', ' ', 'Self-Report', ' ', 'Scale', ' ', '(ASRS-v1.1)', ' ', 'Symptom', ' ', 'Checklist', ' ', 'Instructions', '\\r'], ['Please', ' ', 'answer', ' ', 'the', ' ', 'questions', ' ', 'below,', ' ', 'rating', ' ', 'yourself', ' ', 'on', ' ', 'each', ' ', 'of', ' ', 'the', ' ', 'criteria', ' ', 'shown', ' ', 'using', ' ', 'the', ' ', 'scale', ' ', 'on', ' ', 'the', ' ', 'right', ' ', 'side', ' ', 'of', ' ', 'the', ' ', 'page.', ' ', 'As', ' ', 'you', ' ', 'answer', ' ', 'each', ' ', 'question,', ' ', 'place', ' ', 'an', ' ', 'X', ' ', 'in', ' ', 'the', ' ', 'box', ' ', 'that', ' ', 'best', ' ', 'describes', ' ', 'how', ' ', 'you', ' ', 'have', ' ', 'felt', ' ', 'and', ' ', 'conducted', ' ', 'yourself', ' ', 'over', ' ', 'the', ' ', 'past', ' ', '6', ' ', 'months.', ' ', 'Please', ' ', 'give', ' ', 'this', ' ', 'completed', ' ', 'checklist', ' ', 'to', ' ', 'your', ' ', 'healthcare', ' ', 'professional', ' ', 'to', ' ', 'discuss', ' ', 'during', ' ', 'today’s', ' ', 'appointment.', '\\r'], ['13.', ' ', 'How', ' ', 'often', ' ', 'do', ' ', 'you', ' ', 'feel', ' ', 'restless', ' ', 'or', ' ', 'fidgety?', '\\r'], ['17.', ' ', 'How', ' ', 'often', ' ', 'do', ' ', 'you', ' ', 'have', ' ', 'difficulty', ' ', 'waiting', ' ', 'your', ' ', 'turn', ' ', 'in', ' ', 'situations', ' ', 'when', ' ', 'turn', ' ', 'taking', ' ', 'is', ' ', 'required?', '\\r'], ['Patient', ' ', 'Name', ' ', 'Today’s', ' ', 'Date', '\\r'], ['•', ' ', ' ', 'Lenard', ' ', 'Adler,', ' ', 'MD', ' ', 'Associate', ' ', 'Professor', ' ', 'of', ' ', 'Psychiatry', ' ', 'and', ' ', 'Neurology', ' ', 'New', ' ', 'York', ' ', 'University', ' ', 'Medical', ' ', 'School', '\\r'], ['8.', ' ', 'How', ' ', 'often', ' ', 'do', ' ', 'you', ' ', 'have', ' ', 'difficulty', ' ', 'keeping', ' ', 'your', ' ', 'attention', ' ', 'when', ' ', 'you', ' ', 'are', ' ', 'doing', ' ', 'boring', ' ', 'or', ' ', 'repetitive', ' ', 'work?', '\\r'], ['Washington,', ' ', 'DC,', ' ', 'American', ' ', 'Psychiatric', ' ', 'Association.', ' ', '2000:', ' ', '85-93.', '\\r'], ['As', ' ', 'a', ' ', 'healthcare', ' ', 'professional,', ' ', 'you', ' ', 'can', ' ', 'use', ' ', 'the', ' ', 'ASRS', ' ', 'v1.1', ' ', 'as', ' ', 'a', ' ', 'tool', ' ', 'to', ' ', 'help', ' ', 'screen', ' ', 'for', ' ', 'ADHD', ' ', 'in', ' ', 'adult', ' ', 'patients.', ' ', 'Insights', ' ', 'gained', ' ', 'through', ' ', 'this', ' ', 'screening', ' ', 'may', ' ', 'suggest', ' ', 'the', ' ', 'need', ' ', 'for', ' ', 'a', ' ', 'more', ' ', 'in-depth', ' ', 'clinician', ' ', 'interview.', ' ', 'The', ' ', 'questions', ' ', 'in', ' ', 'the', ' ', 'ASRS', ' ', 'v1.1', ' ', 'are', ' ', 'consistent', ' ', 'with', ' ', 'DSM-IV', ' ', 'criteria', ' ', 'and', ' ', 'address', ' ', 'the', ' ', 'manifestations', ' ', 'of', ' ', 'ADHD', ' ', 'symptoms', ' ', 'in', ' ', 'adults.', ' ', 'Content', ' ', 'of', ' ', 'the', ' ', 'questionnaire', ' ', 'also', ' ', 'reflects', ' ', 'the', ' ', 'importance', ' ', 'that', ' ', 'DSM-IV', ' ', 'places', ' ', 'on', ' ', 'symptoms,', ' ', 'impairments,', ' ', 'and', ' ', 'history', ' ', 'for', ' ', 'a', ' ', 'correct', ' ', 'diagnosis.4', '\\r'], ['1.', ' ', 'How', ' ', 'often', ' ', 'do', ' ', 'you', ' ', 'have', ' ', 'trouble', ' ', 'wrapping', ' ', 'up', ' ', 'the', ' ', 'final', ' ', 'details', ' ', 'of', ' ', 'a', ' ', 'project,', ' ', 'once', ' ', 'the', ' ', 'challenging', ' ', 'parts', ' ', 'have', ' ', 'been', ' ', 'done?', '\\r'], ['2.', ' ', 'Consider', ' ', 'work/school,', ' ', 'social', ' ', 'and', ' ', 'family', ' ', 'settings.', '\\r'], ['9.', ' ', 'How', ' ', 'often', ' ', 'do', ' ', 'you', ' ', 'have', ' ', 'difficulty', ' ', 'concentrating', ' ', 'on', ' ', 'what', ' ', 'people', ' ', 'say', ' ', 'to', ' ', 'you,', ' ', 'even', ' ', 'when', ' ', 'they', ' ', 'are', ' ', 'speaking', ' ', 'to', ' ', 'you', ' ', 'directly?', '\\r'], ['When', ' ', 'you', ' ', 'have', ' ', 'a', ' ', 'task', ' ', 'that', ' ', 'requires', ' ', 'a', ' ', 'lot', ' ', 'of', ' ', 'thought,', ' ', 'how', ' ', 'often', ' ', 'do', ' ', 'you', ' ', 'avoid', ' ', 'or', ' ', 'delay', ' ', 'getting', ' ', 'started?', '\\r'], ['associated', ' ', 'with', ' ', 'the', ' ', 'symptom.', '\\r'], ['Adult', ' ', 'ADHD', ' ', 'Self-Report', ' ', 'Scale', ' ', '(ASRS-v1.1)', ' ', 'Symptom', ' ', 'Checklist', '\\r'], ['•', ' ', ' ', 'Ronald', ' ', 'C.', ' ', 'Kessler,', ' ', 'PhD', ' ', 'Professor,', ' ', 'Department', ' ', 'of', ' ', 'Health', ' ', 'Care', ' ', 'Policy', ' ', 'Harvard', ' ', 'Medical', ' ', 'School', '\\r'], ['18.', ' ', 'How', ' ', 'often', ' ', 'do', ' ', 'you', ' ', 'interrupt', ' ', 'others', ' ', 'when', ' ', 'they', ' ', 'are', ' ', 'busy?', '\\r'], ['1.', ' ', 'Assess', ' ', 'the', ' ', 'presence', ' ', 'of', ' ', 'these', ' ', 'symptoms', ' ', 'or', ' ', 'similar', ' ', 'symptoms', ' ', 'in', ' ', 'childhood.', ' ', ' ', 'Adults', ' ', 'who', ' ', 'have', '\\r'], ['2.', ' ', 'How', ' ', 'often', ' ', 'do', ' ', 'you', ' ', 'have', ' ', 'difficulty', ' ', 'getting', ' ', 'things', ' ', 'in', ' ', 'order', ' ', 'when', ' ', 'you', ' ', 'have', ' ', 'to', ' ', 'do', ' ', 'a', ' ', 'task', ' ', 'that', ' ', 'requires', ' ', 'organization?', '\\r'], ['11.', ' ', 'How', ' ', 'often', ' ', 'are', ' ', 'you', ' ', 'distracted', ' ', 'by', ' ', 'activity', ' ', 'or', ' ', 'noise', ' ', 'around', ' ', 'you?', '\\r'], [], ['10.', ' ', 'About', ' ', 'how', ' ', 'often', ' ', 'did', ' ', 'you', ' ', 'feel', ' ', 'worthless?', '\\r'], ['6.', ' ', 'About', ' ', 'how', ' ', 'often', ' ', 'did', ' ', 'you', ' ', 'feel', ' ', 'so', ' ', 'restless', ' ', 'you', ' ', 'could', ' ', 'not', ' ', 'sit', ' ', 'still?', '\\r'], ['9.', ' ', 'About', ' ', 'how', ' ', 'often', ' ', 'did', ' ', 'you', ' ', 'feel', ' ', 'so', ' ', 'sad', ' ', 'that', ' ', 'nothing', ' ', 'could', ' ', 'cheer', ' ', 'you', ' ', 'up?', '\\r'], ['The', ' ', 'K10', ' ', 'is', ' ', 'widely', ' ', 'recommended', ' ', 'as', ' ', 'a', ' ', 'simple', ' ', 'measure', ' ', 'of', ' ', 'psychological', ' ', 'distress', ' ', 'and', ' ', 'as', ' ', 'a', ' ', 'measure', ' ', 'of', ' ', 'outcomes', ' ', 'following', ' ', 'treatment', ' ', 'for', ' ', 'common', ' ', 'mental', ' ', 'health', ' ', 'disorders.', ' ', 'The', ' ', 'K10', ' ', 'is', ' ', 'in', ' ', 'the', ' ', 'public', ' ', 'domain', ' ', 'and', ' ', 'is', ' ', 'promoted', ' ', 'on', ' ', 'the', ' ', 'Clinical', ' ', 'Research', ' ', 'Unit', ' ', 'for', ' ', 'Anxiety', ' ', 'and', ' ', 'Depression', ' ', 'website', ' ', '(www.crufad.org)', ' ', 'as', ' ', 'a', ' ', 'self', ' ', 'report', ' ', 'measure', ' ', 'to', ' ', 'identify', ' ', 'need', ' ', 'for', ' ', 'treatment.', '\\r'], ['3.', ' ', 'About', ' ', 'how', ' ', 'often', ' ', 'did', ' ', 'you', ' ', 'feel', ' ', 'so', ' ', 'nervous', ' ', 'that', ' ', 'nothing', ' ', 'could', ' ', 'calm', ' ', 'you', ' ', 'down?', '\\r'], ['What', ' ', 'is', ' ', 'the', ' ', 'K10', ' ', 'and', ' ', 'how', ' ', 'is', ' ', 'it', ' ', 'scored?', '\\r'], ['8.', ' ', 'About', ' ', 'how', ' ', 'often', ' ', 'did', ' ', 'you', ' ', 'feel', ' ', 'that', ' ', 'everything', ' ', 'was', ' ', 'an', ' ', 'effort?', '\\r'], ['2.', ' ', 'About', ' ', 'how', ' ', 'often', ' ', 'did', ' ', 'you', ' ', 'feel', ' ', 'nervous?', '\\r'], ['For', ' ', 'further', ' ', 'information', ' ', 'on', ' ', 'the', ' ', 'K10', ' ', 'please', ' ', 'refer', ' ', 'to', ' ', 'www.crufad.org', ' ', 'or', ' ', 'Andrews,', ' ', 'G', ' ', 'Slade,', ' ', 'T.', ' ', 'Interpreting', ' ', 'score', ' ', 'on', ' ', 'the', ' ', 'Kessler', ' ', 'Psychological', ' ', 'Distress', ' ', 'Scale', ' ', '(K10).', ' ', 'Australia', ' ', 'and', ' ', 'New', ' ', 'Zealand', ' ', 'Journal', ' ', 'of', ' ', 'Public', ' ', 'Health:', ' ', '2001;', ' ', '25:6:', ' ', '494-497.', '\\r'], ['1.', ' ', 'About', ' ', 'how', ' ', 'often', ' ', 'did', ' ', 'you', ' ', 'feel', ' ', 'tired', ' ', 'out', ' ', 'for', ' ', 'no', ' ', 'good', ' ', 'reason?', '\\r'], ['7.', ' ', 'About', ' ', 'how', ' ', 'often', ' ', 'did', ' ', 'you', ' ', 'feel', ' ', 'depressed?', '\\r'], ['4.', ' ', 'About', ' ', 'how', ' ', 'often', ' ', 'did', ' ', 'you', ' ', 'feel', ' ', 'hopeless?', '\\r'], ['5', ' ', 'About', ' ', 'how', ' ', 'often', ' ', 'did', ' ', 'you', ' ', 'feel', ' ', 'restless', ' ', 'or', ' ', 'fidgety?', '\\r'], ['The', ' ', 'K10', ' ', 'uses', ' ', 'a', ' ', 'five', ' ', 'value', ' ', 'response', ' ', 'option', ' ', 'for', ' ', 'each', ' ', 'question', ' ', '–', ' ', 'all', ' ', 'of', ' ', 'the', ' ', 'time,', ' ', 'most', ' ', 'of', ' ', 'the', ' ', 'time,', ' ', 'some', ' ', 'of', ' ', 'the', ' ', 'time,', ' ', 'a', ' ', 'little', ' ', 'of', ' ', 'the', ' ', 'time', ' ', 'and', ' ', 'none', ' ', 'of', ' ', 'the', ' ', 'time', ' ', 'which', ' ', 'can', ' ', 'be', ' ', 'scored', ' ', 'from', ' ', 'five', ' ', 'through', ' ', 'to', ' ', 'one.', '\\r'], ['diagnosis', ' ', 'or', ' ', 'treatment.', ' ', 'Not', ' ', 'to', ' ', 'be', ' ', 'used', ' ', 'for', ' ', 'commercial', ' ', 'purposes', ' ', 'and', ' ', 'not', ' ', 'to', ' ', 'be', ' ', 'hosted', ' ', 'electronically', ' ', 'outside', ' ', 'of', ' ', 'the', ' ', 'Black', ' ', 'Dog', ' ', 'Institute', ' ', 'website.', ' ', 'www.blackdoginstitute.org.au', '\\r'], ['For', ' ', 'all', ' ', 'questions,', ' ', 'please', ' ', 'select', ' ', 'the', ' ', 'appropriate', ' ', 'response.', '\\r'], ['diagnosis', ' ', 'or', ' ', 'treatment.', ' ', 'Not', ' ', 'to', ' ', 'be', ' ', 'used', ' ', 'for', ' ', 'commercial', ' ', 'purposes', ' ', 'and', ' ', 'not', ' ', 'to', ' ', 'be', ' ', 'hosted', ' ', 'electronically', ' ', 'outside', ' ', 'of', ' ', 'the', ' ', 'Black', ' ', 'Dog', ' ', 'In', ' ', 'stitute', ' ', 'website.', ' ', 'www.blackdoginstitute.org.au', '\\r'], [], ['Um', ' ', 'pouco', ' ', 'pior', ' ', 'que', ' ', 'a', '\\r'], ['SAS10', ' ', 'Sabe', ' ', 'o', ' ', 'que', ' ', 'é', ' ', 'apropriado', ' ', 'ou', ' ', 'não', ' ', 'apropriado', ' ', 'nas', ' ', 'diferentes', ' ', 'situações', ' ', 'sociais.', '\\r'], ['Como', ' ', 'se', ' ', 'compara', ' ', 'o/a', ' ', '[Nome', ' ', 'do', ' ', 'Jovem]', ' ', 'com', ' ', 'as', ' ', 'outras', ' ', 'crianças/pessoas', ' ', 'da', ' ', 'idade', ' ', 'dele/a', ' ', 'nas', ' ', 'seguintes', ' ', 'situações:', '\\r'], ['SAS2', ' ', 'É', ' ', 'fácil', ' ', 'de', ' ', 'conversar', ' ', 'com', ' ', 'ele/a,', ' ', 'mesmo', ' ', 'sobre', ' ', 'um', ' ', 'tema', ' ', 'que', ' ', 'ele/a', ' ', 'não', ' ', 'tenha', ' ', 'um', ' ', 'interesse', ' ', 'especial.', '\\r'], ['Escala', ' ', 'de', ' ', 'Aptidões', ' ', 'Sociais', '\\r'], ['SAS9', ' ', 'Sabe', ' ', 'liderar', ' ', 'sem', ' ', 'parecer', ' ', 'mandão/mandona.', '\\r'], ['SAS8', ' ', 'Depois', ' ', 'de', ' ', 'ter', ' ', 'feito', ' ', 'algo', ' ', 'errado,', ' ', 'ele/a', ' ', 'é', ' ', 'capaz', ' ', 'de', ' ', 'pedir', ' ', 'desculpas', ' ', 'e', ' ', 'resolver', ' ', 'a', ' ', 'situação', ' ', 'de', ' ', 'forma', ' ', 'que', ' ', 'não', ' ', 'fiquem', ' ', 'ressentimentos.', '\\r'], ['que', ' ', 'a', ' ', 'média', '\\r'], ['SAS7', ' ', 'Entendendo', ' ', 'as', ' ', 'entrelinhas', ' ', 'do', ' ', 'que', ' ', 'as', ' ', 'pessoas', ' ', 'dizem,', ' ', 'ele/a', ' ', 'consegue', ' ', 'saber', ' ', 'o', ' ', 'que', ' ', 'as', ' ', 'pessoas', ' ', 'estão', ' ', 'realmente', ' ', 'pensando', ' ', 'ou', ' ', 'sentindo.', '\\r'], ['SAS1', ' ', 'É', ' ', 'capaz', ' ', 'de', ' ', 'rir', ' ', 'com', ' ', 'os', ' ', 'outros,', ' ', 'por', ' ', 'exemplo,', ' ', 'aceitando', ' ', 'brincadeiras', ' ', 'leves', ' ', 'e', ' ', 'reagindo', ' ', 'adequadamente.', '\\r'], ['SAS5', ' ', 'Tem', ' ', 'espírito', ' ', 'esportivo', ' ', 'quando', ' ', 'não', ' ', 'ganha', ' ', 'ou', ' ', 'percebe', ' ', 'que', ' ', 'está', ' ', 'errado/a.', ' ', 'Sabe', ' ', 'perder.', '\\r'], ['SAS4', ' ', 'Encontra', ' ', 'a', ' ', 'coisa', ' ', 'certa', ' ', 'para', ' ', 'dizer', ' ', 'ou', ' ', 'fazer', ' ', 'para', ' ', 'tornar', ' ', 'mais', ' ', 'fácil', ' ', 'uma', ' ', 'situação', ' ', 'tensa', ' ', 'ou', ' ', 'embaraçosa.', '\\r'], ['SAS6', ' ', 'Outras', ' ', 'pessoas', ' ', 'se', ' ', 'sentem', ' ', 'bem', ' ', 'com', ' ', 'ele/a', ' ', 'por', ' ', 'perto.', '\\r'], [], ['3', ' ', 'I', ' ', 'experience', ' ', 'a', ' ', 'general', ' ', 'sense', ' ', 'of', ' ', 'emptiness', '\\r'], ['There', ' ', 'are', ' ', 'many', ' ', 'people', ' ', 'I', ' ', 'can', ' ', 'trust', ' ', 'completely', '\\r'], ['11', ' ', 'I', ' ', 'can', ' ', 'call', ' ', 'on', ' ', 'my', ' ', 'friends', ' ', 'whenever', ' ', 'I', ' ', 'need', ' ', 'them', '\\r'], ['I', ' ', 'miss', ' ', 'having', ' ', 'a', ' ', 'really', ' ', 'close', ' ', 'friend', '\\r'], ['I', ' ', 'often', ' ', 'feel', ' ', 'rejected', '\\r'], ['8', ' ', 'There', ' ', 'are', ' ', 'enough', ' ', 'people', ' ', 'I', ' ', 'feel', ' ', 'close', ' ', 'to', '\\r'], ['Education', ' ', '(highest', ' ', 'level,', ' ', 'whether', ' ', 'or', ' ', 'not', ' ', 'completed)', ' ', ' ', '\\r'], ['-', ' ', 'primary', ' ', 'education', ' ', '(6', ' ', 'years)', ' ', ' ', '\\r'], ['-', ' ', 'lower', ' ', 'vocational', ' ', 'training', ' ', '(6+3', ' ', 'years)', ' ', ' ', '\\r'], ['-', ' ', 'intermediate', ' ', 'vocational', ' ', 'training', ' ', '(6+4', ' ', 'years)', ' ', ' ', '\\r'], ['-', ' ', 'lower', ' ', 'secondary', ' ', 'education', ' ', '(6+4', ' ', 'years)', ' ', ' ', '\\r'], ['-', ' ', 'intermediate', ' ', 'secondary', ' ', 'education', ' ', '(6+5', ' ', 'years)', ' ', ' ', '\\r'], ['-', ' ', 'higher', ' ', 'secondary', ' ', 'education', ' ', '(6+6', ' ', 'years)', ' ', ' ', '\\r'], ['-', ' ', 'higher', ' ', 'vocational', ' ', 'training', ' ', '(6+5+4', ' ', 'years)', ' ', ' ', '\\r'], ['-', ' ', 'university', ' ', '(6+6+4', ' ', 'years)', '\\r'], ['There', ' ', 'are', ' ', 'enough', ' ', 'people', ' ', 'I', ' ', 'feel', ' ', 'close', ' ', 'to', '\\r'], ['Count', ' ', 'the', ' ', 'missing', ' ', 'values', ' ', '(i.e.,', ' ', 'no', ' ', 'answer)', ' ', 'on', ' ', 'items', ' ', '2,', ' ', '3,', ' ', '5,', ' ', '6,', ' ', '9,', ' ', '10.', ' ', 'This', ' ', 'is', ' ', 'the', ' ', 'missing', ' ', 'emotional', ' ', 'loneliness', '\\r'], ['Count', ' ', 'the', ' ', 'missing', ' ', 'values', ' ', '(i.e.,', ' ', 'no', ' ', 'answer)', ' ', 'on', ' ', 'items', ' ', '1,', ' ', '4,', ' ', '7,', ' ', '8,', ' ', '11.', ' ', 'This', ' ', 'is', ' ', 'the', ' ', 'missing', ' ', 'social', ' ', 'loneliness', ' ', 'score.', '\\r'], ['9', ' ', ' ', 'I', ' ', 'miss', ' ', 'having', ' ', 'people', ' ', 'around', ' ', 'me', '\\r'], ['I', ' ', 'miss', ' ', 'having', ' ', 'people', ' ', 'around', ' ', 'me', '\\r'], ['Residential', ' ', 'situation', ' ', '-', ' ', 'living', ' ', 'independently', ' ', '-', ' ', 'living', ' ', 'in', ' ', 'with', ' ', 'private', ' ', 'person', ' ', '-', ' ', 'home', ' ', 'for', ' ', 'the', ' ', 'elderly,', ' ', 'personal', ' ', 'care', ' ', 'home', ' ', '-', ' ', 'student', ' ', 'residence', ' ', '-', ' ', 'independent', ' ', 'planned', ' ', 'housing,', ' ', 'congregate', ' ', 'housing', ' ', '(only', ' ', 'for', ' ', 'elderly', ' ', 'persons)', ' ', '-', ' ', 'other', '\\r'], ['10', ' ', 'I', ' ', 'often', ' ', 'feel', ' ', 'rejected', '\\r'], ['Self-rated', ' ', 'health', ' ', 'What', ' ', 'is', ' ', 'your', ' ', 'general', ' ', 'state', ' ', 'of', ' ', 'health?', ' ', '1', ' ', 'poor,', ' ', '2', ' ', 'not', ' ', 'so', ' ', 'good,', ' ', '3', ' ', 'fair,', ' ', '4', ' ', 'good,', ' ', '5', ' ', 'very', ' ', 'good', '\\r'], ['ADL', ' ', 'capacity', ' ', ' ', '\\r'], ['-', ' ', 'Can', ' ', 'you', ' ', 'walk', ' ', 'up', ' ', 'and', ' ', 'down', ' ', 'stairs?', ' ', ' ', '\\r'], ['-', ' ', 'Can', ' ', 'you', ' ', 'get', ' ', 'up', ' ', 'from', ' ', 'and', ' ', 'sit', ' ', 'down', ' ', 'in', ' ', 'a', ' ', 'chair?', ' ', ' ', '\\r'], ['-', ' ', 'Can', ' ', 'you', ' ', 'dress', ' ', 'and', ' ', 'undress', ' ', 'yourself?', ' ', ' ', '\\r'], ['1', ' ', 'not', ' ', 'at', ' ', 'all,', ' ', '2', ' ', 'only', ' ', 'with', ' ', 'assistance,', ' ', '3', ' ', 'with', ' ', 'much', ' ', 'difficulty,', ' ', '4', ' ', 'with', ' ', 'some', ' ', 'difficulty,', ' ', '5', ' ', 'without', ' ', 'difficulty', '\\r'], ['6', ' ', 'I', ' ', 'find', ' ', 'my', ' ', 'circle', ' ', 'of', ' ', 'friends', ' ', 'and', ' ', 'acquaintances', ' ', 'too', ' ', 'limited', '\\r'], ['emotional', ' ', 'loneliness', ' ', 'score.', '\\r'], ['Official', ' ', 'marital', ' ', 'status', ' ', ' ', '\\r'], ['-', ' ', 'unmarried', ' ', 'and', ' ', 'never', ' ', 'married', ' ', ' ', '\\r'], ['-', ' ', 'married', ' ', ' ', '\\r'], ['-', ' ', 'divorced', ' ', '(separated)', ' ', ' ', '\\r'], ['-', ' ', 'widowed', '\\r'], ['I', ' ', 'experience', ' ', 'a', ' ', 'general', ' ', 'sense', ' ', 'of', ' ', 'emptiness', '\\r'], ['Education', ' ', '(highest', ' ', 'level,', ' ', 'whether', ' ', 'or', ' ', 'not', ' ', 'completed)', ' ', '-', ' ', 'primary', ' ', 'education', ' ', '(6', ' ', 'years)', ' ', '-', ' ', 'lower', ' ', 'vocational', ' ', 'training', ' ', '(6+3', ' ', 'years)', ' ', '-', ' ', 'intermediate', ' ', 'vocational', ' ', 'training', ' ', '(6+4', ' ', 'years)', ' ', '-', ' ', 'lower', ' ', 'secondary', ' ', 'education', ' ', '(6+4', ' ', 'years)', ' ', '-', ' ', 'intermediate', ' ', 'secondary', ' ', 'education', ' ', '(6+5', ' ', 'years)', ' ', '-', ' ', 'higher', ' ', 'secondary', ' ', 'education', ' ', '(6+6', ' ', 'years)', ' ', '-', ' ', 'higher', ' ', 'vocational', ' ', 'training', ' ', '(6+5+4', ' ', 'years)', ' ', '-', ' ', 'university', ' ', '(6+6+4', ' ', 'years)', '\\r'], ['ADL', ' ', 'capacity', ' ', '-', ' ', 'Can', ' ', 'you', ' ', 'walk', ' ', 'up', ' ', 'and', ' ', 'down', ' ', 'stairs?', ' ', '-', ' ', 'Can', ' ', 'you', ' ', 'get', ' ', 'up', ' ', 'from', ' ', 'and', ' ', 'sit', ' ', 'down', ' ', 'in', ' ', 'a', ' ', 'chair?', ' ', '-', ' ', 'Can', ' ', 'you', ' ', 'dress', ' ', 'and', ' ', 'undress', ' ', 'yourself?', ' ', '1', ' ', 'not', ' ', 'at', ' ', 'all,', ' ', '2', ' ', 'only', ' ', 'with', ' ', 'assistance,', ' ', '3', ' ', 'with', ' ', 'much', ' ', 'difficulty,', ' ', '4', ' ', 'with', ' ', 'some', ' ', 'difficulty,', ' ', '5', ' ', 'without', ' ', 'difficulty', '\\r'], ['social', ' ', 'loneliness', ' ', 'score.', '\\r'], ['Employment', ' ', 'status', ' ', '(paid', ' ', 'employment)', ' ', '-', ' ', 'no', ' ', 'employment', ' ', 'history', ' ', '-', ' ', 'employed,', ' ', '>19', ' ', 'hours', ' ', 'a', ' ', 'week', ' ', '-', ' ', 'employed,', ' ', '<20', ' ', 'hours', ' ', 'a', ' ', 'week', ' ', '-', ' ', 'disabled', ' ', '-', ' ', 'retired', ' ', '-', ' ', 'other', ' ', 'non-employed', '\\r'], ['I', ' ', 'can', ' ', 'call', ' ', 'on', ' ', 'my', ' ', 'friends', ' ', 'whenever', ' ', 'I', ' ', 'need', ' ', 'them', '\\r'], ['Self-rated', ' ', 'health', ' ', ' ', '\\r'], ['What', ' ', 'is', ' ', 'your', ' ', 'general', ' ', 'state', ' ', 'of', ' ', 'health?', ' ', ' ', '\\r'], ['1', ' ', 'poor,', ' ', '2', ' ', 'not', ' ', 'so', ' ', 'good,', ' ', '3', ' ', 'fair,', ' ', '4', ' ', 'good,', ' ', '5', ' ', 'very', ' ', 'good', '\\r'], ['5', ' ', 'I', ' ', 'miss', ' ', 'the', ' ', 'pleasure', ' ', 'of', ' ', 'the', ' ', 'company', ' ', 'of', ' ', 'others', '\\r'], ['2', ' ', 'I', ' ', 'miss', ' ', 'having', ' ', 'a', ' ', 'really', ' ', 'close', ' ', 'friend', '\\r'], ['4', ' ', 'There', ' ', 'are', ' ', 'plenty', ' ', 'of', ' ', 'people', ' ', 'I', ' ', 'can', ' ', 'lean', ' ', 'on', ' ', 'when', ' ', 'I', ' ', 'have', ' ', 'problems', '\\r'], ['Residential', ' ', 'situation', ' ', ' ', '\\r'], ['-', ' ', 'living', ' ', 'independently', ' ', ' ', '\\r'], ['-', ' ', 'living', ' ', 'in', ' ', 'with', ' ', 'private', ' ', 'person', ' ', ' ', '\\r'], ['-', ' ', 'home', ' ', 'for', ' ', 'the', ' ', 'elderly,', ' ', 'personal', ' ', 'care', ' ', 'home', ' ', ' ', '\\r'], ['-', ' ', 'student', ' ', 'residence', ' ', ' ', '\\r'], ['-', ' ', 'independent', ' ', 'planned', ' ', 'housing,', ' ', 'congregate', ' ', 'housing', ' ', '(only', ' ', 'for', ' ', 'elderly', ' ', 'persons)', ' ', ' ', '\\r'], ['-', ' ', 'other', '\\r'], ['lonely', ' ', '(score', ' ', '3', ' ', 'through', ' ', '8),', ' ', 'severe', ' ', 'lonely', ' ', '(score', ' ', '9', ' ', 'or', ' ', '10),', ' ', 'and', ' ', 'very', ' ', 'severe', ' ', 'lonely', ' ', '(score', ' ', '11).', '\\r'], ['There', ' ', 'is', ' ', 'always', ' ', 'someone', ' ', 'I', ' ', 'can', ' ', 'talk', ' ', 'to', ' ', 'about', ' ', '\\r'], ['my', ' ', 'day-to-day', ' ', 'problems', '\\r'], ['Whether', ' ', 'to', ' ', 'use', ' ', 'the', ' ', '11-item', ' ', 'version', ' ', 'or', ' ', 'the', ' ', 'shortened', ' ', '6-item', ' ', 'version', ' ', 'of', ' ', 'the', ' ', 'loneliness', ' ', 'scale', ' ', 'is', ' ', 'not', ' ', 'a', ' ', 'neutral', ' ', 'decision.', ' ', 'Whereas', ' ', 'studies', ' ', 'detailing', ' ', 'the', ' ', 'prevalence', ' ', 'of', ' ', 'loneliness,', ' ', 'or', ' ', 'in-depth', ' ', 'studies', ' ', 'of', ' ', 'loneliness', ' ', 'among', ' ', 'certain', ' ', 'individuals,', ' ', 'as', ' ', 'well', ' ', 'as', ' ', 'research', ' ', 'into', ' ', 'the', ' ', 'changing', ' ', 'nature', ' ', 'and', ' ', 'impact', ' ', 'of', ' ', 'loneliness', ' ', 'after', ' ', 'specific', ' ', 'life', ' ', 'events', ' ', 'may', ' ', 'benefit', ' ', 'from', ' ', 'using', ' ', 'the', ' ', '11-item', ' ', 'scale,', ' ', 'the', ' ', 'use', ' ', 'of', ' ', 'the', ' ', 'shortened', ' ', '6-item', ' ', 'loneliness', ' ', 'scale', ' ', 'may', ' ', 'be', ' ', 'sufficient', ' ', 'in', ' ', 'other', ' ', 'studies.', ' ', 'In', ' ', 'both', ' ', 'cases,', ' ', 'however,', ' ', 'the', ' ', 'researcher', ' ', 'has', ' ', 'a', ' ', 'reliable', ' ', 'and', ' ', 'valid', ' ', 'measuring', ' ', 'instrument', ' ', 'at', ' ', 'hand,', ' ', 'which', ' ', 'can', ' ', 'be', ' ', 'used', ' ', 'as', ' ', 'a', ' ', 'unidimensional', ' ', 'overall', ' ', 'loneliness', ' ', 'measure', ' ', 'as', ' ', 'well', ' ', 'as', ' ', 'provide', ' ', 'information', ' ', 'about', ' ', 'the', ' ', 'emotional', ' ', 'and/or', ' ', 'social', ' ', 'loneliness', ' ', 'situation', ' ', 'of', ' ', 'respondents.', '\\r'], ['3.', ' ', 'I', ' ', 'experience', ' ', 'a', ' ', 'general', ' ', 'sense', ' ', 'of', ' ', 'emptiness', ' ', '4.', ' ', 'There', ' ', 'are', ' ', 'plenty', ' ', 'of', ' ', 'people', ' ', 'I', ' ', 'can', ' ', 'rely', ' ', 'on', ' ', 'when', ' ', 'I', ' ', 'have', ' ', 'problems', ' ', '7.', ' ', 'There', ' ', 'are', ' ', 'many', ' ', 'people', ' ', 'I', ' ', 'can', ' ', 'trust', ' ', 'completely', ' ', '9.', ' ', 'I', ' ', 'miss', ' ', 'having', ' ', 'people', ' ', 'around', ' ', '8.', ' ', 'There', ' ', 'are', ' ', 'enough', ' ', 'people', ' ', 'I', ' ', 'feel', ' ', 'close', ' ', 'to', ' ', '10.', ' ', 'I', ' ', 'often', ' ', 'feel', ' ', 'rejected', '\\r'], ['1', ' ', 'There', ' ', 'is', ' ', 'always', ' ', 'someone', ' ', 'I', ' ', 'can', ' ', 'talk', ' ', 'to', ' ', 'about', ' ', 'my', ' ', 'day-to-day', ' ', 'problems', '\\r'], ['I', ' ', 'miss', ' ', 'the', ' ', 'pleasure', ' ', 'of', ' ', 'the', ' ', 'company', ' ', 'of', ' ', 'others', '\\r'], ['Employment', ' ', 'status', ' ', '(paid', ' ', 'employment)', ' ', ' ', '\\r'], ['-', ' ', 'no', ' ', 'employment', ' ', 'history', ' ', ' ', '\\r'], ['-', ' ', 'employed,', ' ', '>19', ' ', 'hours', ' ', 'a', ' ', 'week', ' ', ' ', '\\r'], ['-', ' ', 'employed,', ' ', '<20', ' ', 'hours', ' ', 'a', ' ', 'week', ' ', ' ', '\\r'], ['-', ' ', 'disabled', ' ', ' ', '\\r'], ['-', ' ', 'retired', ' ', ' ', '\\r'], ['-', ' ', 'other', ' ', 'non-employed', '\\r'], ['I', ' ', 'have', ' ', 'problems', '\\r'], [], ['1b', ' ', '-', ' ', 'Não', ' ', 'obtenho', ' ', 'satisfação', ' ', 'com', ' ', 'as', ' ', 'coisas', ' ', 'que', ' ', 'me', ' ', 'alegravam', ' ', 'antigamente', '\\r'], ['0', ' ', ' ', '-Actualmente', ' ', 'não', ' ', 'choro', ' ', 'mais', ' ', 'do', ' ', 'que', ' ', 'de', ' ', 'costume', '\\r'], ['2', ' ', ' ', '-', ' ', 'Perdi', ' ', 'mais', ' ', 'de', ' ', '5', ' ', 'quilos', ' ', 'de', ' ', 'peso', '\\r'], ['2', ' ', ' ', '-', ' ', 'Critico-me', ' ', 'a', ' ', 'mim', ' ', 'mesmo', ' ', 'pelas', ' ', 'minhas', ' ', 'fraquezas', ' ', 'ou', ' ', 'erros', '\\r'], ['2b', ' ', '-', ' ', 'Creio', ' ', 'que', ' ', 'nunca', ' ', 'conseguirei', ' ', 'resolver', ' ', 'os', ' ', 'meus', ' ', 'problemas', '\\r'], ['2', ' ', ' ', '-', ' ', 'Actualmente', ' ', 'o', ' ', 'meu', ' ', 'apetite', ' ', 'está', ' ', 'muito', ' ', 'pior', ' ', 'do', ' ', 'que', ' ', 'anteriormente', '\\r'], ['1', ' ', ' ', '-', ' ', 'Tenho', ' ', 'ideias', ' ', 'de', ' ', 'pôr', ' ', 'termo', ' ', 'à', ' ', 'vida,', ' ', 'mas', ' ', 'não', ' ', 'sou', ' ', 'capaz', ' ', 'de', ' ', 'as', ' ', 'concretizar', '\\r'], ['2a', ' ', '-', ' ', 'Sinto', ' ', 'que', ' ', 'seria', ' ', 'melhor', ' ', 'morrer', '\\r'], ['2a', ' ', '-', ' ', 'Sinto-me', ' ', '“neura”', ' ', 'ou', ' ', 'triste', ' ', 'todo', ' ', 'o', ' ', 'tempo', ' ', 'e', ' ', 'não', ' ', 'consigo', ' ', 'evitá-lo', '\\r'], ['2b', ' ', '-', ' ', 'Quando', ' ', 'analiso', ' ', 'a', ' ', 'minha', ' ', 'vida', ' ', 'passada', ' ', 'tudo', ' ', 'o', ' ', 'que', ' ', 'noto', ' ', 'é', ' ', 'uma', ' ', 'imensidade', ' ', 'de', '\\r'], ['P', ' ', '–', ' ', 'PERTURBAÇÕES', ' ', 'DO', ' ', 'SONO', ' ', '(Acordar', ' ', 'precoce)', '\\r'], ['0', ' ', ' ', '-', ' ', 'Não', ' ', 'sinto', ' ', 'que', ' ', 'seja', ' ', 'pior', ' ', 'do', ' ', 'que', ' ', 'qualquer', ' ', 'outra', ' ', 'pessoa', '\\r'], ['3', ' ', ' ', '-', ' ', 'Considero', ' ', 'que', ' ', 'sou', ' ', 'muito', ' ', 'mau', ' ', 'e', ' ', 'não', ' ', 'valho', ' ', 'absolutamente', ' ', 'nada', '\\r'], ['3', ' ', ' ', ' ', '-', ' ', 'Sinto-me', ' ', 'tão', ' ', 'triste', ' ', 'ou', ' ', 'infeliz', ' ', 'que', ' ', 'não', ' ', 'consigo', ' ', 'suportar', ' ', 'mais', ' ', 'este', ' ', 'estado', '\\r'], ['0', ' ', ' ', '-', ' ', 'Não', ' ', 'acho', ' ', 'que', ' ', 'tenha', ' ', 'pior', ' ', 'aspecto', ' ', 'do', ' ', 'que', ' ', 'de', ' ', 'costume', '\\r'], ['1a', ' ', ' ', '-', ' ', 'Actualmente', ' ', 'preciso', ' ', 'de', ' ', 'um', ' ', 'esforço', ' ', 'maior', ' ', 'do', ' ', 'que', ' ', 'dantes', ' ', 'para', ' ', 'começar', ' ', 'a', '\\r'], ['2b', ' ', '-', ' ', 'Estou', ' ', 'tão', ' ', 'triste', ' ', 'ou', ' ', 'infeliz', ' ', 'que', ' ', 'esse', ' ', 'estado', ' ', 'se', ' ', 'torna', ' ', 'penoso', ' ', 'para', ' ', 'mim', '\\r'], ['1', ' ', ' ', '-', ' ', 'Tenho', ' ', 'o', ' ', 'pressentimento', ' ', 'de', ' ', 'que', ' ', 'me', ' ', 'pode', ' ', 'acontecer', ' ', 'alguma', ' ', 'coisa', ' ', 'de', ' ', 'mal', '\\r'], ['2', ' ', ' ', '-', ' ', 'Fico', ' ', 'cansado', ' ', 'quando', ' ', 'faço', ' ', 'seja', ' ', 'o', ' ', 'que', ' ', 'for', '\\r'], ['3', ' ', ' ', '-', ' ', 'Acordo', ' ', 'todos', ' ', 'os', ' ', 'dias', ' ', 'mais', ' ', 'cedo', ' ', 'do', ' ', 'que', ' ', 'o', ' ', 'costume', ' ', 'e', ' ', 'não', ' ', 'durmo', ' ', 'mais', ' ', 'do', ' ', 'que', ' ', '5', '\\r'], ['3', ' ', ' ', '-', ' ', 'Perdi', ' ', 'completamente', ' ', 'todo', ' ', 'o', ' ', 'apetite', ' ', 'que', ' ', 'tinha', '\\r'], ['1', ' ', ' ', '-', ' ', 'Actualmente', ' ', 'sinto', ' ', 'menos', ' ', 'interesse', ' ', 'pelos', ' ', 'outros', ' ', 'do', ' ', 'que', ' ', 'costumava', ' ', 'ter', '\\r'], ['3', ' ', ' ', '-', ' ', 'Costumava', ' ', 'ser', ' ', 'capaz', ' ', 'de', ' ', 'chorar,', ' ', 'mas', ' ', 'agora', ' ', 'nem', ' ', 'sequer', ' ', 'consigo,', ' ', 'mesmo', '\\r'], ['2', ' ', ' ', '-', ' ', 'Perdi', ' ', 'quase', ' ', 'todo', ' ', 'o', ' ', 'interesse', ' ', 'pelas', ' ', 'outras', ' ', 'pessoas,', ' ', 'sentindo', ' ', 'pouca', ' ', 'simpatia', ' ', 'por', '\\r'], ['0', ' ', ' ', '-', ' ', 'Sou', ' ', 'capaz', ' ', 'de', ' ', 'trabalhar', ' ', 'tão', ' ', 'bem', ' ', 'como', ' ', 'antigamente', '\\r'], ['3a', ' ', '-', ' ', 'Sinto', ' ', 'que', ' ', 'mereço', ' ', 'ser', ' ', 'castigado', '\\r'], ['2a', ' ', '-', ' ', 'Sinto', ' ', 'que', ' ', 'não', ' ', 'tenho', ' ', 'nada', ' ', 'a', ' ', 'esperar', ' ', 'do', ' ', 'que', ' ', 'surja', ' ', 'no', ' ', 'futuro', '\\r'], ['2b', ' ', '-', ' ', 'Creio', ' ', 'que', ' ', 'seria', ' ', 'melhor', ' ', 'para', ' ', 'a', ' ', 'minha', ' ', 'família', ' ', 'se', ' ', 'eu', ' ', 'morresse', '\\r'], ['3', ' ', ' ', '-', ' ', 'Perdi', ' ', 'completamente', ' ', 'o', ' ', 'interesse', ' ', 'que', ' ', 'tinha', ' ', 'pela', ' ', 'vida', ' ', 'sexual', '\\r'], ['2b', ' ', '-', ' ', 'Agora,', ' ', 'sinto', ' ', 'permanentemente', ' ', 'que', ' ', 'sou', ' ', 'mau', ' ', 'e', ' ', 'não', ' ', 'valho', ' ', 'absolutamente', ' ', 'nada', '\\r'], ['3', ' ', ' ', '-', ' ', 'Sinto-me', ' ', 'descontente', ' ', 'com', ' ', 'tudo', '\\r'], ['0', ' ', ' ', '-', ' ', 'Sou', ' ', 'capaz', ' ', 'de', ' ', 'tomar', ' ', 'decisões', ' ', 'tão', ' ', 'bem', ' ', 'como', ' ', 'antigamente', '\\r'], ['2', ' ', ' ', '-', ' ', 'Sinto', ' ', 'que', ' ', 'estou', ' ', 'a', ' ', 'ser', ' ', 'castigado', ' ', 'ou', ' ', 'que', ' ', 'em', ' ', 'breve', ' ', 'serei', ' ', 'castigado', '\\r'], ['0', ' ', ' ', '-', ' ', 'Não', ' ', 'me', ' ', 'sinto', ' ', 'mais', ' ', 'cansado', ' ', 'do', ' ', 'que', ' ', 'é', ' ', 'habitual', '\\r'], ['que', ' ', 'se', ' ', 'me', ' ', 'torna', ' ', 'difícil', ' ', 'pensar', ' ', 'noutra', ' ', 'coisa', '\\r'], ['3', ' ', ' ', '-', ' ', 'Encontro-me', ' ', 'totalmente', ' ', 'preocupado', ' ', 'pela', ' ', 'maneira', ' ', 'como', ' ', 'me', ' ', 'sinto', '\\r'], ['2', ' ', ' ', '-', ' ', 'Actualmente', ' ', 'passo', ' ', 'o', ' ', 'tempo', ' ', 'a', ' ', 'chorar', ' ', 'e', ' ', 'não', ' ', 'consigo', ' ', 'parar', ' ', 'de', ' ', 'fazê-Io', '\\r'], ['2', ' ', ' ', '-', ' ', 'Não', ' ', 'sou', ' ', 'capaz', ' ', 'de', ' ', 'tomar', ' ', 'decisões', ' ', 'sem', ' ', 'a', ' ', 'ajuda', ' ', 'das', ' ', 'outras', ' ', 'pessoas', '\\r'], ['3', ' ', ' ', '-', ' ', 'Perdi', ' ', 'mais', ' ', 'de', ' ', '7,5', ' ', 'quilos', ' ', 'de', ' ', 'peso', '\\r'], ['1', ' ', ' ', '-', ' ', 'Sinto-me', ' ', 'com', ' ', 'medo', ' ', 'do', ' ', 'futuro', '\\r'], ['3', ' ', ' ', '-', ' ', 'Perdi', ' ', 'por', ' ', 'completo', ' ', 'o', ' ', 'interesse', ' ', 'pelas', ' ', 'outras', ' ', 'pessoas,', ' ', 'não', ' ', 'me', ' ', 'importando', '\\r'], ['1', ' ', ' ', '-', ' ', 'Perdi', ' ', 'mais', ' ', 'de', ' ', '2,5', ' ', 'quilos', ' ', 'de', ' ', 'peso', '\\r'], ['3a', ' ', '-', ' ', 'Tenho', ' ', 'planos', ' ', 'concretos', ' ', 'sobre', ' ', 'a', ' ', 'forma', ' ', 'como', ' ', 'hei-de', ' ', 'pôr', ' ', 'termo', ' ', 'à', ' ', 'vida', '\\r'], ['0', ' ', ' ', '-', ' ', 'A', ' ', ' ', 'minha', ' ', 'saúde', ' ', 'não', ' ', 'me', ' ', 'preocupa', ' ', 'mais', ' ', 'do', ' ', 'que', ' ', 'o', ' ', 'habitual', '\\r'], ['0', ' ', ' ', '-', ' ', 'Consigo', ' ', 'dormir', ' ', 'tão', ' ', 'bem', ' ', 'como', ' ', 'dantes', '\\r'], ['1', ' ', ' ', '-', ' ', 'Fico', ' ', 'aborrecido', ' ', 'ou', ' ', 'irritado', ' ', 'mais', ' ', 'fàcilmente', ' ', 'do', ' ', 'que', ' ', 'costumava', '\\r'], ['1', ' ', ' ', '-Sinto-me', ' ', 'aborrecido', ' ', 'porque', ' ', 'estou', ' ', 'a', ' ', 'parecer', ' ', 'mais', ' ', 'velho', ' ', 'ou', ' ', 'pouco', ' ', 'atraente', '\\r'], ['1a', ' ', '-', ' ', 'Estou', ' ', 'desiludido', ' ', 'comigo', ' ', 'mesmo', '\\r'], ['2', ' ', ' ', '-', ' ', 'Acordo', ' ', 'cerca', ' ', 'de', ' ', '1-2', ' ', 'horas', ' ', 'mais', ' ', 'cedo', ' ', 'do', ' ', 'que', ' ', 'o', ' ', 'costume', ' ', 'e', ' ', 'custa-me', ' ', 'voltar', ' ', 'a', '\\r'], ['2', ' ', ' ', '-', ' ', 'Culpo-me', ' ', 'das', ' ', 'minhas', ' ', 'próprias', ' ', 'faltas', '\\r'], ['2', ' ', ' ', '-', ' ', 'Tenho', ' ', 'de', ' ', 'dispender', ' ', 'um', ' ', 'grande', ' ', 'esforço', ' ', 'para', ' ', 'fazer', ' ', 'seja', ' ', 'o', ' ', 'que', ' ', 'for', '\\r'], ['2', ' ', ' ', '-', ' ', 'Estou', ' ', 'tão', ' ', 'preocupado', ' ', 'com', ' ', 'a', ' ', 'maneira', ' ', 'como', ' ', 'me', ' ', 'sinto', ' ', 'ou', ' ', 'com', ' ', 'aquilo', ' ', 'que', ' ', 'sinto,', '\\r'], ['1', ' ', ' ', '-', ' ', 'Fico', ' ', 'cansado', ' ', 'com', ' ', 'mais', ' ', 'facilidade', ' ', 'do', ' ', 'que', ' ', 'antigamente', '\\r'], ['1', ' ', ' ', '-', ' ', 'Encontro-me', ' ', 'menos', ' ', 'interessado', ' ', 'pela', ' ', 'vida', ' ', 'sexual', ' ', 'do', ' ', 'que', ' ', 'costumava', ' ', 'estar', '\\r'], ['0', ' ', ' ', '-', ' ', 'Não', ' ', 'tenho', ' ', 'perdido', ' ', 'muito', ' ', 'peso,', ' ', 'se', ' ', 'é', ' ', 'que', ' ', 'perdi', ' ', 'algum', ' ', 'ultimamente', '\\r'], ['2', ' ', ' ', '-', ' ', 'Actualmente', ' ', 'sinto-me', ' ', 'menos', ' ', 'interessado', ' ', 'pela', ' ', 'vida', ' ', 'sexual', '\\r'], ['0', ' ', ' ', '-', ' ', 'Não', ' ', 'perdi', ' ', 'o', ' ', 'interesse', ' ', 'que', ' ', 'tinha', ' ', 'nas', ' ', 'outras', ' ', 'pessoas', '\\r'], ['1', ' ', ' ', '-', ' ', 'Choro', ' ', 'agora', ' ', 'mais', ' ', 'do', ' ', 'que', ' ', 'costumava', '\\r'], ['1', ' ', ' ', ' ', '-', ' ', 'Ando', ' ', '“neura”', ' ', 'ou', ' ', 'triste', '\\r'], ['0', ' ', ' ', '-', ' ', 'O', ' ', 'meu', ' ', 'apetite', ' ', 'é', ' ', 'o', ' ', 'mesmo', ' ', 'de', ' ', 'sempre', '\\r'], ['1', ' ', ' ', '-', ' ', 'Sinto', ' ', 'que', ' ', 'tive', ' ', 'mais', ' ', 'fracassos', ' ', 'que', ' ', 'a', ' ', 'maioria', ' ', 'das', ' ', 'pessoas', '\\r'], ['1', ' ', ' ', '-', ' ', 'O', ' ', 'meu', ' ', 'apetite', ' ', 'não', ' ', 'é', ' ', 'tão', ' ', 'bom', ' ', 'como', ' ', 'costumava', ' ', 'ser', '\\r'], ['1', ' ', ' ', '-', ' ', 'Actualmente', ' ', 'sinto-me', ' ', 'menos', ' ', 'seguro', ' ', 'de', ' ', 'mim', ' ', 'mesmo', ' ', 'e', ' ', 'procuro', ' ', 'evitar', ' ', 'tomar', '\\r'], ['3', ' ', ' ', '-', ' ', 'Não', ' ', 'tenho', ' ', 'qualquer', ' ', 'esperança', ' ', 'no', ' ', 'futuro', ' ', 'e', ' ', 'penso', ' ', 'que', ' ', 'a', ' ', 'minha', ' ', 'situação', ' ', 'não', ' ', 'pode', '\\r'], ['1a', ' ', '-', ' ', 'Sinto-me', ' ', 'aborrecido', ' ', 'a', ' ', 'maior', ' ', 'parte', ' ', 'do', ' ', 'tempo', '\\r'], ['1', ' ', ' ', '-', ' ', 'Sinto-me', ' ', 'preocupado,', ' ', 'com', ' ', 'dores', ' ', 'e', ' ', 'sofrimentos,', ' ', 'ou', ' ', 'má', ' ', 'disposião', ' ', 'do', ' ', 'estômago', '\\r'], ['2a', ' ', '-', ' ', 'Sinto', ' ', 'que', ' ', 'realizei', ' ', 'muito', ' ', 'pouca', ' ', 'coisa', ' ', 'que', ' ', 'tivesse', ' ', 'valor', ' ', 'ou', ' ', 'significado', '\\r'], ['2', ' ', ' ', '-', ' ', 'Nunca', ' ', 'mais', ' ', 'consigo', ' ', 'obter', ' ', 'satisfação', ' ', 'seja', ' ', 'com', ' ', 'o', ' ', 'que', ' ', 'for', '\\r'], ['3', ' ', ' ', '-', ' ', 'Já', ' ', 'não', ' ', 'consigo', ' ', 'ficar', ' ', 'irritado', ' ', 'por', ' ', 'coisas', ' ', 'que', ' ', 'me', ' ', 'irritavam', ' ', 'anteriormente', '\\r'], ['3', ' ', ' ', '-', ' ', 'Sinto.-me', ' ', 'tão', ' ', 'cansado', ' ', 'que', ' ', 'sou', ' ', 'incapaz', ' ', 'de', ' ', 'fazer', ' ', 'o', ' ', 'que', ' ', 'quer', ' ', 'que', ' ', 'seja', '\\r'], ['ou', ' ', 'prisão', ' ', 'de', ' ', 'ventre', ' ', 'ou', ' ', 'ainda', ' ', 'outras', ' ', 'sensações', ' ', 'físicas', ' ', 'desagradáveis', ' ', 'no', ' ', 'meu', '\\r'], ['1', ' ', ' ', '-', ' ', 'Acordo', ' ', 'mais', ' ', 'cansado', ' ', 'de', ' ', 'manhã', ' ', 'do', ' ', 'que', ' ', 'era', ' ', 'habitual', '\\r'], ['2', ' ', ' ', 'Sinto-me', ' ', 'permanentemente', ' ', 'irritado', '\\r'], ['3', ' ', ' ', '-', ' ', 'Sinto-me', ' ', 'completamente', ' ', 'fracassado', ' ', 'como', ' ', 'pessoa', ' ', '(pai,', ' ', 'mãe,', ' ', 'marido,', ' ', 'mulher)', '\\r'], ['1', ' ', ' ', '-', ' ', 'Sinto,', ' ', 'grande', ' ', 'parte', ' ', 'do', ' ', 'tempo,', ' ', 'que', ' ', 'sou', ' ', 'mau', ' ', 'ou', ' ', 'que', ' ', 'não', ' ', 'tenho', ' ', 'qualquer', ' ', 'valor', '\\r'], [], ['Considerate', ' ', 'of', ' ', 'other', ' ', \"people's\", ' ', 'feelings', ' ', '□', ' ', '□', ' ', '□', ' ', 'Restless,', ' ', 'overactive,', ' ', 'cannot', ' ', 'stay', ' ', 'still', ' ', 'for', ' ', 'long', ' ', '□', ' ', '□', ' ', '□', ' ', 'Often', ' ', 'complains', ' ', 'of', ' ', 'headaches,', ' ', 'stomach-aches', ' ', 'or', ' ', 'sickness', ' ', '□', ' ', '□', ' ', '□', ' ', 'Shares', ' ', 'readily', ' ', 'with', ' ', 'other', ' ', 'children', ' ', '(treats,', ' ', 'toys,', ' ', 'pencils', ' ', 'etc.)', ' ', '□', ' ', '□', ' ', '□', ' ', 'Often', ' ', 'has', ' ', 'temper', ' ', 'tantrums', ' ', 'or', ' ', 'hot', ' ', 'tempers', ' ', '□', ' ', '□', ' ', '□', ' ', 'Rather', ' ', 'solitary,', ' ', 'tends', ' ', 'to', ' ', 'play', ' ', 'alone', ' ', '□', ' ', '□', ' ', '□', ' ', 'Generally', ' ', 'obedient,', ' ', 'usually', ' ', 'does', ' ', 'what', ' ', 'adults', ' ', 'request', ' ', '□', ' ', '□', ' ', '□', ' ', 'Many', ' ', 'worries,', ' ', 'often', ' ', 'seems', ' ', 'worried', ' ', '□', ' ', '□', ' ', '□', ' ', 'Helpful', ' ', 'if', ' ', 'someone', ' ', 'is', ' ', 'hurt,', ' ', 'upset', ' ', 'or', ' ', 'feeling', ' ', 'ill', ' ', '□', ' ', '□', ' ', '□', ' ', 'Constantly', ' ', 'fidgeting', ' ', 'or', ' ', 'squirming', ' ', '□', ' ', '□', ' ', '□', ' ', 'Has', ' ', 'at', ' ', 'least', ' ', 'one', ' ', 'good', ' ', 'friend', ' ', '□', ' ', '□', ' ', '□', ' ', 'Often', ' ', 'fights', ' ', 'with', ' ', 'other', ' ', 'children', ' ', 'or', ' ', 'bullies', ' ', 'them', ' ', '□', ' ', '□', ' ', '□', ' ', 'Often', ' ', 'unhappy,', ' ', 'down-hearted', ' ', 'or', ' ', 'tearful', ' ', '□', ' ', '□', ' ', '□', ' ', 'Generally', ' ', 'liked', ' ', 'by', ' ', 'other', ' ', 'children', ' ', '□', ' ', '□', ' ', '□', ' ', 'Easily', ' ', 'distracted,', ' ', 'concentration', ' ', 'wanders', ' ', '□', ' ', '□', ' ', '□', ' ', 'Nervous', ' ', 'or', ' ', 'clingy', ' ', 'in', ' ', 'new', ' ', 'situations,', ' ', 'easily', ' ', 'loses', ' ', 'confidence', ' ', '□', ' ', '□', ' ', '□', ' ', 'Kind', ' ', 'to', ' ', 'younger', ' ', 'children', ' ', '□', ' ', '□', ' ', '□', ' ', 'Often', ' ', 'lies', ' ', 'or', ' ', 'cheats', ' ', '□', ' ', '□', ' ', '□', ' ', 'Picked', ' ', 'on', ' ', 'or', ' ', 'bullied', ' ', 'by', ' ', 'other', ' ', 'children', ' ', '□', ' ', '□', ' ', '□', ' ', 'Often', ' ', 'volunteers', ' ', 'to', ' ', 'help', ' ', 'others', ' ', '(parents,', ' ', 'teachers,', ' ', 'other', ' ', 'children)', ' ', '□', ' ', '□', ' ', '□', ' ', 'Thinks', ' ', 'things', ' ', 'out', ' ', 'before', ' ', 'acting', ' ', '□', ' ', '□', ' ', '□', ' ', 'Steals', ' ', 'from', ' ', 'home,', ' ', 'school', ' ', 'or', ' ', 'elsewhere', ' ', '□', ' ', '□', ' ', '□', ' ', 'Gets', ' ', 'on', ' ', 'better', ' ', 'with', ' ', 'adults', ' ', 'than', ' ', 'with', ' ', 'other', ' ', 'children', ' ', '□', ' ', '□', ' ', '□', ' ', 'Many', ' ', 'fears,', ' ', 'easily', ' ', 'scared', ' ', '□', ' ', '□', ' ', '□', ' ', 'Sees', ' ', 'tasks', ' ', 'through', ' ', 'to', ' ', 'the', ' ', 'end,', ' ', 'good', ' ', 'attention', ' ', 'span', ' ', '□', ' ', '□', ' ', '□', '\\r'], ['Strengths', ' ', 'and', ' ', 'Difficulties', ' ', 'Questionnaire', '\\r'], [], ['opment,', ' ', '51-57.', ' ', 'Dovidio,', ' ', 'R.', ' ', 'V.,', ' ', '&', ' ', 'Gaertner,', ' ', 'S.', ' ', 'L.', ' ', '(1986).', ' ', 'Prejudice,', ' ', 'discrimina-', '\\r'], ['26.', ' ', 'You', ' ', 'were', ' ', 'passed', ' ', 'over', ' ', 'for', ' ', 'an', ' ', 'important', ' ', 'project', ' ', 'although', ' ', 'you', ' ', 'were', ' ', 'more', ' ', 'qualified', ' ', 'and', ' ', 'competent', ' ', 'than', ' ', 'the', ' ', 'White/non-Black', ' ', 'person', ' ', 'given', ' ', 'the', ' ', 'task.', ' ', '.03', '\\r'], ['9.', ' ', 'Whites/non-Blacks', ' ', 'have', ' ', 'failed', ' ', 'to', ' ', 'apologize', ' ', 'for', ' ', 'stepping', ' ', 'on', ' ', 'your', ' ', 'foot', ' ', 'or', ' ', 'bumping', ' ', 'into', ' ', 'you.', '\\r'], ['19.', ' ', 'You', ' ', 'did', ' ', 'not', ' ', 'get', ' ', 'the', ' ', 'job', ' ', 'you', ' ', 'applied', ' ', 'for', ' ', 'although', ' ', 'you', ' ', 'were', ' ', 'well', ' ', 'qualified;', ' ', 'you', ' ', 'suspect', ' ', 'because', ' ', 'you', ' ', 'are', ' ', 'Black.', ' ', '.14', '\\r'], ['national', ' ', 'Journal', ' ', 'of', ' ', 'Social', ' ', 'Psychiatry,', ' ', '30,', ' ', '41-49.', ' ', 'Gerbing,', ' ', 'D.', ' ', 'W.,', ' ', '&', ' ', 'Anderson,', ' ', 'J.', ' ', 'C.', ' ', '(1993).', ' ', 'Monte', ' ', 'Carlo', ' ', 'evaluation', '\\r'], ['5.', ' ', 'Sales', ' ', 'people/clerks', ' ', 'did', ' ', 'not', ' ', 'say', ' ', 'thank', ' ', 'you', ' ', 'or', ' ', 'show', ' ', 'other', ' ', 'forms', ' ', 'of', ' ', 'courtesy', ' ', 'and', ' ', 'respect', ' ', '(i.e.', ' ', 'put', ' ', 'your', ' ', 'things', ' ', 'in', ' ', 'a', ' ', 'bag)', ' ', 'when', ' ', 'you', ' ', 'shopped', ' ', 'at', ' ', 'some', ' ', 'White/non-Black', ' ', 'owned', ' ', 'businesses.', '\\r'], ['21.', ' ', 'You', ' ', 'have', ' ', 'observed', ' ', 'a', ' ', 'double', ' ', 'standard', ' ', 'in', ' ', 'the', ' ', 'way', ' ', 'the', ' ', 'law', ' ', 'or', ' ', 'other', ' ', 'systems', ' ', 'of', ' ', 'government', ' ', '(court,', ' ', 'media,', ' ', 'disciplinary', ' ', 'committees,', ' ', 'etc.)', ' ', 'work', ' ', '(or', ' ', \"don't\", ' ', 'work)', ' ', 'when', ' ', 'dealing', ' ', 'with', ' ', 'Blacks', ' ', 'as', ' ', 'opposed', ' ', 'to', ' ', 'Whites/', ' ', 'non-Blacks.', ' ', '.57', '\\r'], ['10.', ' ', 'You', ' ', 'have', ' ', 'been', ' ', 'threatened', ' ', 'with', ' ', 'physical', ' ', 'violence', ' ', 'by', ' ', 'an', ' ', 'individual', ' ', 'or', ' ', 'group', ' ', 'of', ' ', 'Whites/non-Blacks.', '\\r'], ['The', ' ', 'recruitment', ' ', 'of', ' ', 'participants', ' ', 'was', ' ', 'aided', ' ', 'by', ' ', 'a', ' ', 'lottery', ' ', 'held', ' ', 'as', ' ', 'an', ' ', 'incentive', ' ', 'for', ' ', 'participation', ' ', 'in', ' ', 'the', ' ', 'study.', ' ', 'Individuals', ' ', 'who', ' ', 'agreed', ' ', 'to', ' ', 'participate', ' ', 'were', ' ', 'given', ' ', 'a', ' ', 'lottery', ' ', 'number,', ' ', 'and', ' ', 'a', ' ', 'drawing', ' ', 'was', ' ', 'held', ' ', 'at', ' ', 'the', ' ', 'conclusion', ' ', 'of', ' ', 'each', ' ', 'data', ' ', 'collection', ' ', 'session.', ' ', 'The', ' ', 'winner', ' ', 'received', ' ', 'a', ' ', '$25', ' ', 'cash', ' ', 'prize.', ' ', 'The', ' ', 'participants', ' ', 'were', ' ', 'debriefed', ' ', 'individually', ' ', 'or', ' ', 'in', ' ', 'groups', ' ', 'following', ' ', 'the', ' ', 'collection', ' ', 'of', ' ', 'data.', '\\r'], ['38.', ' ', 'You', ' ', 'have', ' ', 'held', ' ', 'back', ' ', 'angry', ' ', 'or', ' ', 'hostile', ' ', 'feelings', ' ', 'in', ' ', 'the', ' ', 'presence', ' ', 'of', ' ', 'White/', ' ', 'non-Black', ' ', 'people', ' ', 'for', ' ', 'fear', ' ', 'they', ' ', \"would've\", ' ', 'accused', ' ', 'you', ' ', 'of', ' ', 'having', ' ', 'a', ' ', '\"chip\"', ' ', 'on', ' ', 'your', ' ', 'shoulder.', ' ', '.08', '\\r'], ['39.', ' ', 'You', ' ', 'have', ' ', 'been', ' ', 'asked', ' ', 'to', ' ', 'pay', ' ', 'in', ' ', 'advance', ' ', 'for', ' ', 'goods/services', ' ', 'that', ' ', 'are', ' ', 'usually', ' ', 'paid', ' ', 'for', ' ', 'after', ' ', 'a', ' ', 'person', ' ', 'receives', ' ', 'them;', ' ', 'you', ' ', 'suspect', ' ', 'it', ' ', 'was', ' ', 'because', ' ', 'you', ' ', 'are', ' ', 'Black.', '\\r'], ['logical', ' ', 'health.', ' ', 'Paper', ' ', 'presented', ' ', 'at', ' ', 'a', ' ', 'workshop', ' ', 'for', ' ', 'the', ' ', 'Office', ' ', 'of', ' ', 'Disease', ' ', 'Prevention', ' ', 'and', ' ', 'Special', ' ', 'Projects,', ' ', 'National', ' ', 'Institute', ' ', 'of', ' ', 'Mental', ' ', 'Health,', ' ', 'Rockville,', ' ', 'MD.', '\\r'], ['We', ' ', 'gratefully', ' ', 'acknowledge', ' ', 'Dorinda', ' ', 'Trader,', ' ', 'Pat', ' ', 'Vincent,', ' ', 'Reginald', ' ', 'Gougis,', ' ', 'Lisa', ' ', 'Whitten,', ' ', 'and', ' ', 'the', ' ', 'many', ' ', 'others', ' ', 'who', ' ', 'assisted', ' ', 'with', ' ', 'data', ' ', 'collection,', ' ', 'and', ' ', 'Khayriyyah', ' ', 'Abdul-Lateef', ' ', 'for', ' ', 'her', ' ', 'excel-', ' ', 'lent', ' ', 'editorial', ' ', 'work', ' ', 'on', ' ', 'several', ' ', 'drafts', ' ', 'of', ' ', 'this', ' ', 'article.', ' ', 'We', ' ', 'also', ' ', 'thank', ' ', 'James', ' ', 'S.', ' ', 'Jackson,', ' ', 'Francis', ' ', 'Terrell,', ' ', 'and', ' ', 'Shelly', ' ', 'Harrell', ' ', 'for', ' ', 'their', ' ', 'assistance', ' ', 'in', ' ', 'locating', ' ', 'relevant', ' ', 'literature.', '\\r'], ['22.', ' ', 'While', ' ', 'shopping', ' ', 'at', ' ', 'a', ' ', 'store,', ' ', 'the', ' ', 'sales', ' ', 'clerk', ' ', 'assumed', ' ', 'that', ' ', 'you', ' ', \"couldn't\", ' ', 'afford', ' ', 'certain', ' ', 'items', ' ', '(i.e.,', ' ', 'you', ' ', 'were', ' ', 'directed', ' ', 'toward', ' ', 'the', ' ', 'items', ' ', 'on', ' ', 'sale).', '\\r'], ['As', ' ', 'a', ' ', 'result', ' ', 'of', ' ', 'the', ' ', 'focus', ' ', 'group,', ' ', 'concerns', ' ', 'were', ' ', 'raised', ' ', 'that', ' ', 'resulted', ' ', 'in', ' ', 'several', ' ', 'changes', ' ', 'being', ' ', 'made', ' ', 'to', ' ', 'the', ' ', 'IRRS.', ' ', 'First,', ' ', 'the', ' ', 'original', ' ', '5-point', ' ', 'Likert-type', ' ', 'scale', ' ', '(1', ' ', '=', ' ', 'no', ' ', 'reaction;', ' ', '2', ' ', '=', ' ', 'irritation;', ' ', '3', ' ', '=', ' ', 'anger;', ' ', '4', ' ', '=', ' ', 'hostility;', ' ', 'and', ' ', '5', ' ', '=', ' ', 'rage),', ' ', 'on', ' ', 'which', ' ', 'group', ' ', 'members', ' ', 'found', ' ', 'it', ' ', 'difficult', ' ', 'to', ' ', 'differentiate', ' ', 'between', ' ', 'several', ' ', 'of', ' ', 'the', ' ', 'response', ' ', 'choices', ' ', '(i.e.,', ' ', 'anger,', ' ', 'hostility,', ' ', 'and', ' ', 'rage),', ' ', 'was', ' ', 'changed', ' ', '(1', ' ', '=', ' ', 'unaf-', ' ', 'fected', ' ', 'by', ' ', 'the', ' ', 'event;', ' ', '2', ' ', '=', ' ', 'slightly', ' ', 'bothered', ' ', 'by', ' ', 'the', ' ', 'event;', ' ', '3', ' ', '=', ' ', 'event', ' ', 'was', ' ', 'upsetting;', ' ', 'and', ' ', '4', ' ', '=', ' ', 'extremely', ' ', 'upset', ' ', 'by', ' ', 'event)', ' ', 'to', ' ', 'allow', ' ', 'respon-', ' ', 'dents', ' ', 'to', ' ', 'more', ' ', 'clearly', ' ', 'distinguish', ' ', 'between', ' ', 'their', ' ', 'reactions.', ' ', 'Second,', ' ', 'some', ' ', 'of', ' ', 'the', ' ', 'events', ' ', 'were', ' ', 'ambiguous', ' ', 'and', ' ', 'needed', ' ', 'clarification.', ' ', 'Third,', ' ', 'the', ' ', 'group', ' ', 'pointed', ' ', 'out', ' ', 'that', ' ', 'several', ' ', 'significant', ' ', 'events', ' ', 'fitting', ' ', 'the', ' ', 'criteria', ' ', 'for', ' ', 'inclusion', ' ', 'were', ' ', 'omitted', ' ', '(i.e.,', ' ', 'events', ' ', 'relating', ' ', 'to', ' ', 'the', ' ', 'race-sex', ' ', 'dynamic).', '\\r'], ['12.', ' ', 'You', ' ', 'did', ' ', 'not', ' ', 'receive', ' ', 'a', ' ', 'promotion', ' ', 'you', ' ', 'deserved;', ' ', 'you', ' ', 'suspect', ' ', 'it', ' ', 'was', ' ', 'because', ' ', 'you', ' ', 'are', ' ', 'Black.', ' ', '.07', '\\r'], ['(Revised):', ' ', 'Does', ' ', 'it', ' ', 'measure', ' ', 'stress', ' ', 'or', ' ', 'symptoms?', ' ', 'Behavioral', '\\r'], ['6.', ' ', 'White', ' ', 'people', ' ', 'or', ' ', 'other', ' ', 'non-Blacks', ' ', 'have', ' ', 'treated', ' ', 'you', ' ', 'as', ' ', 'if', ' ', 'you', ' ', 'were', ' ', 'unintelligent', ' ', 'and', ' ', 'needed', ' ', 'things', ' ', 'explained', ' ', 'to', ' ', 'you', ' ', 'slowly', ' ', 'or', ' ', 'numerous', ' ', 'times.', '\\r'], ['Burke,', ' ', 'A.', ' ', 'W.', ' ', '(1984).', ' ', 'Is', ' ', 'racism', ' ', 'a', ' ', 'causatory', ' ', 'component', ' ', 'in', ' ', 'mental', ' ', 'illness?', ' ', 'The', ' ', 'International', ' ', 'Journal', ' ', 'of', ' ', 'Social', ' ', 'Psychiatry,', ' ', '30,', ' ', '1-3.', '\\r'], ['In', ' ', 'the', ' ', 'development', ' ', 'of', ' ', 'the', ' ', 'IRRS', ' ', 'as', ' ', 'a', ' ', 'measure', ' ', 'of', ' ', 'race-', ' ', 'related', ' ', 'stress,', ' ', 'the', ' ', 'researchers', ' ', 'sought', ' ', 'to', ' ', 'answer', ' ', 'several', ' ', 'sig-', ' ', 'nificant', ' ', 'and', ' ', 'related', ' ', 'questions.', ' ', 'First,', ' ', 'is', ' ', 'the', ' ', 'experience', ' ', 'of', ' ', 'racism', ' ', 'that', ' ', 'African', ' ', 'Americans', ' ', 'encounter', ' ', 'in', ' ', 'their', ' ', 'daily', ' ', 'lives', ' ', 'a', ' ', 'multidimensional', ' ', 'phenomenon', ' ', 'that', ' ', 'occurs', ' ', 'across', ' ', 'domains', ' ', '(i.e.,', ' ', 'institutionally,', ' ', 'culturally,', ' ', 'etc.)?', ' ', 'Second,', ' ', 'would', ' ', 'the', ' ', 'IRRS', ' ', 'correlate', ' ', 'with', ' ', 'other', ' ', 'measures', ' ', 'of', ' ', 'stress', ' ', 'and', ' ', 'racism,', ' ', 'thereby', ' ', 'proving', ' ', 'itself', ' ', 'to', ' ', 'be', ' ', 'a', ' ', 'valid', ' ', 'measure', ' ', 'of', ' ', 'race-related', ' ', 'stress', ' ', 'within', ' ', 'its', ' ', 'own', ' ', 'right?', ' ', 'Furthermore,', ' ', 'could', ' ', 'the', ' ', 'IRRS', ' ', 'be', ' ', 'proven', ' ', 'as', ' ', 'a', ' ', 'reliable', ' ', 'measure', ' ', 'of', ' ', 'race-related', ' ', 'stress', ' ', 'on', ' ', 'the', ' ', 'basis', ' ', 'of', ' ', 'indexes', ' ', 'of', ' ', 'internal', ' ', 'consistency', ' ', 'and', ' ', 'stability', ' ', 'over', ' ', 'time?', ' ', 'Finally,', ' ', 'because', ' ', 'the', ' ', 'IRRS', ' ', 'is', ' ', 'intended', ' ', 'to', ' ', 'measure', ' ', 'the', ' ', 'stress', ' ', 'associated', ' ', 'with', ' ', 'everyday', ' ', 'racism', ' ', 'as', ' ', 'uniquely', ' ', 'experi-', ' ', 'enced', ' ', 'by', ' ', 'African', ' ', 'Americans,', ' ', 'would', ' ', 'it', ' ', 'effectively', ' ', 'discrim-', ' ', 'inate', ' ', 'between', ' ', 'Blacks', ' ', 'and', ' ', 'non-Blacks?', '\\r'], ['13.', ' ', 'You', ' ', 'have', ' ', 'observed', ' ', 'that', ' ', 'White', ' ', 'kids', ' ', 'who', ' ', 'commit', ' ', 'violent', ' ', 'crimes', ' ', 'are', ' ', 'portrayed', ' ', 'as', ' ', '\"boys', ' ', 'being', ' ', 'boys,\"', ' ', 'while', ' ', 'Black', ' ', 'kids', ' ', 'who', ' ', 'commit', ' ', 'similar', ' ', 'crimes', ' ', 'are', ' ', 'wild', ' ', 'animals.', ' ', '.63', '\\r'], ['23.', ' ', 'White/non-Black', ' ', 'people', ' ', 'have', ' ', 'been', ' ', 'apologetic', ' ', 'about', ' ', 'the', ' ', 'Japanese', ' ', 'internment,', ' ', 'Jewish', ' ', 'holocaust,', ' ', 'and', ' ', 'other', ' ', 'violations', ' ', 'of', ' ', 'human', ' ', 'rights,', ' ', 'but', ' ', 'would', ' ', 'prefer', ' ', 'to', ' ', 'forget', ' ', 'about', ' ', 'slavery,', ' ', 'Jim', ' ', 'Crowism,', ' ', 'and', ' ', 'other', ' ', 'abuses', ' ', 'of', ' ', 'Black', ' ', 'people.', ' ', '.57', '\\r'], ['40.', ' ', 'You', ' ', 'notice', ' ', 'that', ' ', 'the', ' ', 'media', ' ', 'plays', ' ', 'up', ' ', 'those', ' ', 'stories', ' ', 'that', ' ', 'cast', ' ', 'Blacks', ' ', 'in', ' ', 'negative', ' ', 'ways', ' ', '(child', ' ', 'abusers,', ' ', 'rapists,', ' ', 'muggers,', ' ', 'etc.', ' ', '[or', ' ', 'as', ' ', 'savages]', ' ', 'Wild', ' ', 'Man', ' ', 'of', ' ', '96th', ' ', 'St.,', ' ', 'Wolf', ' ', 'Pack,', ' ', 'etc.)', ' ', 'usually', ' ', 'accompanied', ' ', 'by', ' ', 'a', ' ', 'large', ' ', 'picture', ' ', 'of', ' ', 'a', ' ', 'Black', ' ', 'person', ' ', 'looking', ' ', 'angry', ' ', 'or', ' ', 'disturbed.', ' ', '.65', '\\r'], ['1.', ' ', 'You', ' ', 'have', ' ', 'been', ' ', 'in', ' ', 'a', ' ', 'restaurant', ' ', 'or', ' ', 'other', ' ', 'White/non-Black', ' ', 'establishment', ' ', 'where', ' ', 'everyone', ' ', 'was', ' ', 'waited', ' ', 'on', ' ', 'before', ' ', 'you.', '\\r'], ['17.', ' ', 'Although', ' ', 'waiting', ' ', 'in', ' ', 'line', ' ', 'first,', ' ', 'you', ' ', 'were', ' ', 'assisted', ' ', 'after', ' ', 'the', ' ', 'White/non-', ' ', 'Black', ' ', 'person', ' ', 'behind', ' ', 'you.', '\\r'], ['Comparison', ' ', 'of', ' ', 'two', ' ', 'modes', ' ', 'of', ' ', 'stress', ' ', 'measurement:', ' ', 'Daily', ' ', 'hassles', ' ', 'and', ' ', 'uplifts', ' ', 'versus', ' ', 'major', ' ', 'life', ' ', 'events.', ' ', 'Journal', ' ', 'of', ' ', 'Behavioral', '\\r'], ['30.', ' ', 'White/non-Black', ' ', 'people', ' ', 'have', ' ', 'mistaken', ' ', 'you', ' ', 'for', ' ', 'a', ' ', 'salesperson,', ' ', 'waiter,', ' ', 'or', ' ', 'other', ' ', 'service', ' ', 'help', ' ', 'when', ' ', 'you', ' ', 'were', ' ', 'actually', ' ', 'a', ' ', 'customer.', '\\r'], ['24.', ' ', 'You', ' ', 'were', ' ', 'treated', ' ', 'with', ' ', 'less', ' ', 'respect', ' ', 'and', ' ', 'courtesy', ' ', 'than', ' ', 'Whites', ' ', 'and', ' ', 'other', ' ', 'non-Blacks', ' ', 'while', ' ', 'in', ' ', 'a', ' ', 'store,', ' ', 'restaurant,', ' ', 'or', ' ', 'other', ' ', 'business', ' ', 'establishment.', '\\r'], ['33.', ' ', 'While', ' ', 'shopping', ' ', 'at', ' ', 'a', ' ', 'store', ' ', 'or', ' ', 'when', ' ', 'attempting', ' ', 'to', ' ', 'make', ' ', 'a', ' ', 'purchase,', ' ', 'you', ' ', 'were', ' ', 'ignored', ' ', 'as', ' ', 'if', ' ', 'you', ' ', 'were', ' ', 'not', ' ', 'a', ' ', 'serious', ' ', 'customer', ' ', 'or', ' ', \"didn't\", ' ', 'have', ' ', 'any', ' ', 'money.', '\\r'], ['46.', ' ', 'You', ' ', 'have', ' ', 'discovered', ' ', 'that', ' ', 'the', ' ', 'White/non-Black', ' ', 'person', ' ', 'employed', ' ', 'in', ' ', 'the', ' ', 'same', ' ', 'capacity', ' ', 'as', ' ', 'you', ' ', 'with', ' ', 'equal', ' ', 'or', ' ', 'less', ' ', 'qualifications', ' ', 'is', ' ', 'paid', ' ', 'a', ' ', 'higher', ' ', 'salary.', '\\r'], ['32.', ' ', 'You', ' ', 'have', ' ', 'been', ' ', 'subjected', ' ', 'to', ' ', 'racist', ' ', 'jokes', ' ', 'by', ' ', 'Whites/non-Blacks', ' ', 'in', ' ', 'positions', ' ', 'of', ' ', 'authority,', ' ', 'and', ' ', 'you', ' ', 'did', ' ', 'not', ' ', 'protest', ' ', 'for', ' ', 'fear', ' ', 'they', ' ', 'might', ' ', 'have', ' ', 'held', ' ', 'it', ' ', 'against', ' ', 'you.', ' ', '—.10', '\\r'], ['28.', ' ', 'You', ' ', 'called', ' ', 'the', ' ', 'police', ' ', 'for', ' ', 'assistance', ' ', 'and', ' ', 'when', ' ', 'they', ' ', 'arrived', ' ', 'they', ' ', 'treated', ' ', 'you', ' ', 'like', ' ', 'a', ' ', 'criminal.', '\\r'], ['In', ' ', 'addition', ' ', 'to', ' ', 'the', ' ', 'focus', ' ', 'group,', ' ', 'five', ' ', 'individuals', ' ', '(who', ' ', 'were', ' ', 'not', ' ', 'part', ' ', 'of', ' ', 'the', ' ', 'focus', ' ', 'group)', ' ', 'with', ' ', 'extensive', ' ', 'research', ' ', 'backgrounds', ' ', 'on', '\\r'], ['27.', ' ', 'Whites/non-Blacks', ' ', 'have', ' ', 'stared', ' ', 'at', ' ', 'you', ' ', 'as', ' ', 'if', ' ', 'you', ' ', \"didn't\", ' ', 'belong', ' ', 'in', ' ', 'the', ' ', 'same', ' ', 'place', ' ', 'with', ' ', 'them,', ' ', 'whether', ' ', 'it', ' ', 'was', ' ', 'a', ' ', 'restaurant,', ' ', 'theater,', ' ', 'or', ' ', 'other', ' ', 'place', ' ', 'of', ' ', 'business.', '\\r'], ['25.', ' ', 'You', ' ', 'were', ' ', 'the', ' ', 'victim', ' ', 'of', ' ', 'a', ' ', 'crime', ' ', 'and', ' ', 'the', ' ', 'police', ' ', 'treated', ' ', 'you', ' ', 'as', ' ', 'if', ' ', 'you', ' ', 'should', ' ', 'just', ' ', 'accept', ' ', 'it', ' ', 'as', ' ', 'part', ' ', 'of', ' ', 'being', ' ', 'Black.', '\\r'], ['crimination,', ' ', 'stress,', ' ', 'action', ' ', 'orientation', ' ', 'and', ' ', 'physical', ' ', 'and', ' ', 'psycho-', '\\r'], ['Thompson,', ' ', 'C.', ' ', 'E.,', ' ', 'Neville,', ' ', 'H.,', ' ', 'Weathers,', ' ', 'P.', ' ', 'L.,', ' ', 'Poston,', ' ', 'W.', ' ', 'C', ' ', ',', ' ', '&', ' ', 'Atkinson,', ' ', 'D.', ' ', 'R.', ' ', '(1990).', ' ', 'Cultural', ' ', 'mistrust', ' ', 'and', ' ', 'racism', ' ', 'reaction', ' ', 'among', ' ', 'African-American', ' ', 'students.', ' ', 'Journal', ' ', 'of', ' ', 'College', ' ', 'Student', ' ', 'Development,', ' ', '31,', ' ', '162-168.', '\\r'], ['15.', ' ', 'You', ' ', 'seldom', ' ', 'hear', ' ', 'or', ' ', 'read', ' ', 'anything', ' ', 'positive', ' ', 'about', ' ', 'Black', ' ', 'people', ' ', 'on', ' ', 'radio,', ' ', 'TV,', ' ', 'newspapers,', ' ', 'or', ' ', 'in', ' ', 'history', ' ', 'books.', ' ', '.49', '\\r'], ['Journal', ' ', 'of', ' ', 'Counseling', ' ', 'Psychology', ' ', '1996,', ' ', 'Vol.', ' ', '43,', ' ', 'No.', ' ', '4,', ' ', '490-501', '\\r'], ['4.', ' ', 'You', ' ', 'have', ' ', 'been', ' ', 'followed', ' ', 'by', ' ', 'security', ' ', '(or', ' ', 'employees)', ' ', 'while', ' ', 'shopping', ' ', 'in', ' ', 'some', ' ', 'stores.', '\\r'], ['36.', ' ', 'You', ' ', 'have', ' ', 'attempted', ' ', 'to', ' ', 'hail', ' ', 'a', ' ', 'cab,', ' ', 'but', ' ', 'they', ' ', 'refused', ' ', 'to', ' ', 'stop,', ' ', 'you', ' ', 'think', ' ', 'because', ' ', 'you', ' ', 'are', ' ', 'Black.', '\\r'], ['Ponterotto,', ' ', 'J.', ' ', 'G.,', ' ', '&', ' ', 'Pedersen,', ' ', 'P.', ' ', 'B.', ' ', '(1993).', ' ', 'Preventing', ' ', 'prejudice:', ' ', 'A', ' ', 'guide', ' ', 'for', ' ', 'counselors', ' ', 'and', ' ', 'educators.', ' ', 'Newbury', ' ', 'Park,', ' ', 'CA:', ' ', 'Sage.', '\\r'], ['7.', ' ', 'You', ' ', 'have', ' ', 'been', ' ', 'questioned', ' ', 'about', ' ', 'your', ' ', 'presence', ' ', 'in', ' ', 'a', ' ', 'White', ' ', 'neighborhood', ' ', 'for', ' ', 'no', ' ', 'apparent', ' ', 'reason.', '\\r'], ['Lazarus,', ' ', 'R.', ' ', 'S.,', ' ', '&', ' ', 'Folkman,', ' ', 'S.', ' ', '(1984).', ' ', 'Stress,', ' ', 'appraisal,', ' ', 'and', ' ', 'coping.', ' ', 'New', ' ', 'York:', ' ', 'Springer.', '\\r'], ['Simpson,', ' ', 'G.', ' ', 'E.,', ' ', '&', ' ', 'Yinger,', ' ', 'J.', ' ', 'M.', ' ', '(1985).', ' ', 'Racial', ' ', 'and', ' ', 'cultural', ' ', 'mi-', ' ', 'norities:', ' ', 'An', ' ', 'analysis', ' ', 'of', ' ', 'prejudice', ' ', 'and', ' ', 'discrimination', ' ', '(5th', ' ', 'ed.).', ' ', 'New', ' ', 'York:', ' ', 'Plenum', ' ', 'Press.', '\\r'], ['8.', ' ', 'You', ' ', 'notice', ' ', 'that', ' ', 'when', ' ', 'Black', ' ', 'people', ' ', 'are', ' ', 'killed', ' ', 'by', ' ', 'the', ' ', 'police,', ' ', 'the', ' ', 'media', ' ', 'informs', ' ', 'the', ' ', 'public', ' ', 'of', ' ', 'the', ' ', \"victim's\", ' ', 'criminal', ' ', 'record', ' ', 'or', ' ', 'negative', ' ', 'information', ' ', 'in', ' ', 'their', ' ', 'background,', ' ', 'suggesting', ' ', 'they', ' ', 'got', ' ', 'what', ' ', 'they', ' ', 'deserved.', '\\r'], ['Correspondence', ' ', 'concerning', ' ', 'this', ' ', 'article', ' ', 'should', ' ', 'be', ' ', 'addressed', ' ', 'to', ' ', 'Shawn', ' ', 'O.', ' ', 'Utsey,', ' ', 'who', ' ', 'is', ' ', 'now', ' ', 'at', ' ', '214-37', ' ', '36th', ' ', 'Avenue,', ' ', 'Bayside,', ' ', 'New', ' ', 'York', ' ', '11361.', ' ', 'Electronic', ' ', 'mail', ' ', 'may', ' ', 'be', ' ', 'sent', ' ', 'via', ' ', 'Internet', ' ', 'to', ' ', 'utsey', ' ', '@', ' ', 'mary.fordham.edu.', '\\r'], ['45.', ' ', 'When', ' ', 'you', ' ', 'have', ' ', 'interacted', ' ', 'with', ' ', 'Whites/non-Blacks,', ' ', 'you', ' ', 'anticipated', ' ', 'them', ' ', 'saying', ' ', 'or', ' ', 'doing', ' ', 'something', ' ', 'racist', ' ', 'either', ' ', 'intentionally', ' ', 'or', ' ', 'unintentionally.', '\\r'], ['18.', ' ', 'White', ' ', 'people', ' ', 'have', ' ', 'expected', ' ', 'you', ' ', 'to', ' ', 'denounce', ' ', 'or', ' ', 'reject', ' ', 'the', ' ', 'views', ' ', 'or', ' ', 'remarks', ' ', 'of', ' ', 'controversial', ' ', 'Black', ' ', 'leaders.', ' ', '.29', '\\r'], ['Smith,', ' ', 'E.', ' ', 'M.', ' ', 'J.', ' ', '(1985).', ' ', 'Ethnic', ' ', 'minorities:', ' ', 'Life', ' ', 'stress,', ' ', 'social', ' ', 'sup-', ' ', 'port,', ' ', 'and', ' ', 'mental', ' ', 'health', ' ', 'issues.', ' ', 'The', ' ', 'Counseling', ' ', 'Psychologist,', ' ', '13,', ' ', '537-579.', '\\r'], ['The', ' ', 'stress', ' ', 'associated', ' ', 'with', ' ', 'the', ' ', 'experience', ' ', 'of', ' ', 'discrimina-', ' ', 'tion', ' ', 'has', ' ', 'been', ' ', 'implicated', ' ', 'in', ' ', 'the', ' ', 'development', ' ', 'of', ' ', 'psychiatric', ' ', 'disorders', ' ', 'such', ' ', 'as', ' ', 'depression', ' ', '(Burke,', ' ', '1984),', ' ', 'antisocial', ' ', 'be-', ' ', 'havior', ' ', '(Simpson', ' ', '&', ' ', 'Yinger,', ' ', '1985),', ' ', 'lowered', ' ', 'self-esteem', ' ', '(Fernando,', ' ', '1984),', ' ', 'lowered', ' ', 'levels', ' ', 'of', ' ', 'general', ' ', 'happiness', ' ', 'and', ' ', 'life', ' ', 'satisfaction', ' ', '(Jackson', ' ', 'et', ' ', 'al.,', ' ', '1995),', ' ', 'and', ' ', 'poor', ' ', 'academic', ' ', 'performance', ' ', '(Gougis,', ' ', '1986).', ' ', 'The', ' ', 'deleterious', ' ', 'effect', ' ', 'on', ' ', 'the', ' ', 'psychological', ' ', 'health', ' ', 'of', ' ', 'African', ' ', 'Americans', ' ', 'that', ' ', 'may', ' ', 'result', ' ', 'from', ' ', 'everyday', ' ', 'racism', ' ', 'is', ' ', 'significant', ' ', 'and', ' ', 'should', ' ', 'be', ' ', 'addressed', ' ', 'by', ' ', 'counseling', ' ', 'psychologists', ' ', 'and', ' ', 'other', ' ', 'mental', ' ', 'health', ' ', 'prac-', ' ', 'titioners.', ' ', 'When', ' ', 'providing', ' ', 'psychological', ' ', 'services', ' ', 'to', ' ', 'African', ' ', 'American', ' ', 'clients,', ' ', 'counselors', ' ', 'can', ' ', 'include', ' ', 'an', ' ', 'assessment,', ' ', 'possibly', ' ', 'during', ' ', 'the', ' ', 'intake', ' ', 'process,', ' ', 'of', ' ', 'the', ' ', 'extent', ' ', 'to', ' ', 'which', ' ', 'racism', ' ', 'and', ' ', 'discrimination', ' ', 'might', ' ', 'be', ' ', 'related', ' ', 'to', ' ', 'the', ' ', \"client's\", ' ', 'presenting', ' ', 'problem', ' ', 'or', ' ', 'problems,', ' ', 'or', ' ', 'in', ' ', 'some', ' ', 'way', ' ', 'interfering', ' ', 'with', ' ', 'the', ' ', \"client's\", ' ', 'current', ' ', 'level', ' ', 'of', ' ', 'functioning', ' ', '(Smith,', ' ', '1985).', ' ', 'Consequently,', ' ', 'there', ' ', 'is', ' ', 'a', ' ', 'strong', ' ', 'need', ' ', 'for', ' ', 'a', ' ', 'self-administered,', ' ', 'psychometrically', ' ', 'sound', ' ', '(and', ' ', 'relatively', ' ', 'brief)', ' ', 'measure', ' ', 'of', ' ', 'the', ' ', 'magnitude', ' ', 'and', ' ', 'range', ' ', 'of', ' ', 'an', ' ', \"individual's\", ' ', 'experiences', ' ', 'with', ' ', 'racism', ' ', 'and', ' ', 'discrimination', ' ', '(Outlaw,', ' ', '1993).', '\\r'], ['White,', ' ', 'J.', ' ', 'L.,', ' ', '&', ' ', 'Parham,', ' ', 'T.', ' ', 'A.', ' ', '(1990).', ' ', 'The', ' ', 'psychology', ' ', 'of', ' ', 'Blacks:', ' ', 'An', ' ', 'African-American', ' ', 'perspective', ' ', '(2nd', ' ', 'ed.).', ' ', 'New', ' ', 'Jersey:', ' ', 'Pren-', ' ', 'tice', ' ', 'Hall.', '\\r'], ['tered', ' ', 'into', ' ', 'the', ' ', 'LISREL', ' ', '7', ' ', 'program', ' ', 'and', ' ', 'subjected', ' ', 'to', ' ', 'a', ' ', 'second', ' ', 'confirmatory', ' ', 'factor', ' ', 'analysis.', '\\r'], ['A', ' ', 'potential', ' ', 'criticism', ' ', 'of', ' ', 'the', ' ', 'IRRS', ' ', 'relates', ' ', 'to', ' ', 'the', ' ', 'absence', ' ', 'of', ' ', 'a', ' ', 'time', ' ', 'frame', ' ', 'in', ' ', 'which', ' ', 'the', ' ', 'participants', ' ', 'are', ' ', 'requested', ' ', 'to', ' ', 'recall', ' ', 'the', ' ', 'occurrence', ' ', 'of', ' ', 'an', ' ', 'event', ' ', 'relating', ' ', 'to', ' ', 'racism', ' ', 'or', ' ', 'discrimina-', ' ', 'tion,', ' ', 'or', ' ', 'both,', ' ', 'that', ' ', 'they', ' ', 'have', ' ', 'experienced.', ' ', 'The', ' ', 'question', ' ', 'arises', ' ', 'in', ' ', 'this', ' ', 'circumstance', ' ', 'as', ' ', 'to', ' ', 'how', ' ', 'accurate', ' ', 'one', ' ', 'can', ' ', 'remember', ' ', 'his', ' ', 'or', ' ', 'her', ' ', 'reaction', ' ', 'to', ' ', 'an', ' ', 'event', ' ', 'that', ' ', 'occurred', ' ', 'several', ' ', 'months', ' ', 'ago,', ' ', 'or', ' ', 'even', ' ', 'several', ' ', 'years', ' ', 'in', ' ', 'the', ' ', 'past.', ' ', 'However,', ' ', 'assessing', ' ', 'the', ' ', 'stressful', ' ', 'impact', ' ', 'of', ' ', 'African', ' ', 'Ameri-', ' ', \"cans'\", ' ', 'experiences', ' ', 'with', ' ', 'racism', ' ', 'is', ' ', 'best', ' ', 'served', ' ', 'by', ' ', 'not', ' ', 'restrict-', ' ', 'ing', ' ', 'the', ' ', 'period', ' ', 'of', ' ', 'time', ' ', 'in', ' ', 'which', ' ', 'it', ' ', 'occurred;', ' ', 'for', ' ', 'as', ' ', 'Feagin', ' ', 'and', ' ', 'Sikes', ' ', '(1994)', ' ', 'suggested,', ' ', 'the', ' ', 'effects', ' ', 'of', ' ', 'such', ' ', 'traumatic', ' ', 'experiences', ' ', 'are', ' ', 'long', ' ', 'lasting.', ' ', 'Another', ' ', 'potential', ' ', 'criticism', ' ', 'of', ' ', 'the', ' ', 'IRRS', ' ', 'and', ' ', 'an', ' ', 'ongoing', ' ', 'issue', ' ', 'in', ' ', 'the', ' ', 'field', ' ', 'of', ' ', 'stress', ' ', 'research', ' ', 'relates', ' ', 'to', ' ', 'the', ' ', 'potential', ' ', 'confound', ' ', 'between', ' ', 'the', ' ', 'occurrence', ' ', 'of', ' ', 'race-related', ' ', 'events', ' ', 'and', ' ', 'the', ' ', 'intensity', ' ', 'of', ' ', 'such', ' ', 'experiences.', ' ', 'Because', ' ', 'participants', ' ', 'who', ' ', 'have', ' ', 'not', ' ', 'experienced', ' ', 'a', ' ', 'given', ' ', 'event', ' ', 'are', ' ', 'requested', ' ', 'to', ' ', 'select', ' ', 'a', ' ', 'response', ' ', 'of', ' ', '0,', ' ', 'and', ' ', 'those', ' ', 'who', ' ', 'have', ' ', 'had', ' ', 'a', ' ', 'given', ' ', 'experience', ' ', 'must', ' ', 'select', ' ', 'a', ' ', 'response', ' ', 'between', ' ', '1', ' ', 'and', ' ', '4,', ' ', 'it', ' ', 'might', ' ', 'be', ' ', 'argued', ' ', 'that', ' ', 'the', ' ', 'two', ' ', 'responses', ' ', 'are', ' ', 'measures', ' ', 'of', ' ', 'separate', ' ', 'constructs', ' ', 'and', ' ', 'should', ' ', 'be', ' ', 'analyzed', ' ', 'separately.', ' ', 'This', ' ', 'is', ' ', 'a', ' ', 'debatable', ' ', 'issue', ' ', '(J.', ' ', 'E.', ' ', 'Holm,', ' ', 'personal', ' ', 'communication,', ' ', 'April', ' ', '22,', ' ', '1996;', ' ', 'R.', ' ', 'S.', ' ', 'Lazarus,', ' ', 'personal', ' ', 'communication,', ' ', 'April', ' ', '30,', ' ', '1996),', ' ', 'and', ' ', 'it', ' ', 'continues', ' ', 'to', ' ', 'be', ' ', 'deliberated', ' ', 'between', ' ', 'the', ' ', 'major', ' ', 'camps', ' ', '(i.e.,', ' ', 'daily', ' ', 'hassles', ' ', 'and', ' ', 'stressful', ' ', 'life', ' ', 'events', ' ', 'proponents)', ' ', 'of', ' ', 'stress', ' ', 'researchers', ' ', 'and', ' ', 'can', ' ', 'by', ' ', 'no', ' ', 'means', ' ', 'be', ' ', 'solved', ' ', 'within', ' ', 'the', ' ', 'limits', ' ', 'of', ' ', 'this', ' ', 'study.', ' ', 'For', ' ', 'all', ' ', 'practical', ' ', 'purposes,', ' ', 'and', ' ', 'consistent', ' ', 'with', ' ', 'the', ' ', 'work', ' ', 'of', ' ', 'Lazarus', ' ', 'and', ' ', 'his', ' ', 'colleagues', ' ', '(on', ' ', 'which', ' ', 'this', ' ', 'study', ' ', 'is', ' ', 'in', ' ', 'part', ' ', 'based),', ' ', 'not', ' ', 'having', ' ', 'experienced', ' ', 'an', ' ', 'event', ' ', 'results', ' ', 'in', ' ', 'a', ' ', 'stress', ' ', 'score', ' ', 'of', ' ', '0', ' ', 'and', ' ', 'is', ' ', 'viewed', ' ', 'within', ' ', 'the', ' ', 'realm', ' ', 'of', ' ', 'a', ' ', 'scoring', ' ', 'continuum', ' ', 'of', ' ', '0', ' ', 'to', ' ', '4', ' ', '(see', ' ', 'Daily', ' ', 'Hassles', ' ', 'Scale', ' ', '[Revised]', ' ', 'by', ' ', 'Holm', ' ', '&', ' ', 'Holroyd,', ' ', '1992;', ' ', 'Ways', ' ', 'of', ' ', 'Coping', ' ', 'Scale', ' ', 'by', ' ', 'Lazarus', ' ', '&', ' ', 'Folkman,', ' ', '1984).', '\\r'], ['models', ' ', '(pp.', ' ', '40-65).', ' ', 'Newbury', ' ', 'Park,', ' ', 'CA:', ' ', 'Sage.', ' ', 'Gougis,', ' ', 'R.', ' ', 'A.', ' ', '(1986).', ' ', 'The', ' ', 'effects', ' ', 'of', ' ', 'prejudice', ' ', 'and', ' ', 'stress', ' ', 'on', ' ', 'the', '\\r'], ['14.', ' ', 'You', ' ', 'have', ' ', 'had', ' ', 'trouble', ' ', 'getting', ' ', 'a', ' ', 'cab', ' ', 'to', ' ', 'go', ' ', 'certain', ' ', 'places', ' ', 'or', ' ', 'even', ' ', 'stop', ' ', 'for', ' ', 'you.', '\\r'], ['measure', ' ', 'of', ' ', 'perceived', ' ', 'stress.', ' ', 'Journal', ' ', 'of', ' ', 'Health', ' ', 'and', ' ', 'Social', ' ', 'Be-', ' ', 'havior,', ' ', '24,', ' ', '385-396.', '\\r'], ['Shawn', ' ', 'O.', ' ', 'Utsey', ' ', 'and', ' ', 'Joseph', ' ', 'G.', ' ', 'Ponterotto,', ' ', 'Psychological', ' ', 'and', ' ', 'Educational', ' ', 'Services,', ' ', 'Fordham', ' ', 'University', ' ', 'at', ' ', 'Lincoln', ' ', 'Center.', '\\r'], ['11.', ' ', 'You', ' ', 'were', ' ', 'physically', ' ', 'attacked', ' ', 'by', ' ', 'an', ' ', 'individual', ' ', 'or', ' ', 'group', ' ', 'of', ' ', 'White/non-', ' ', 'Blacks.', '\\r'], ['16.', ' ', 'While', ' ', 'on', ' ', 'public', ' ', 'transportation', ' ', 'or', ' ', 'in', ' ', 'public', ' ', 'places,', ' ', 'White', ' ', 'people/non-', ' ', 'Blacks', ' ', 'have', ' ', 'opted', ' ', 'to', ' ', 'stand', ' ', 'up', ' ', 'rather', ' ', 'than', ' ', 'sit', ' ', 'next', ' ', 'to', ' ', 'you.', '\\r'], ['Rahim,', ' ', 'A.', ' ', 'M.,', ' ', '&', ' ', 'Magner,', ' ', 'N.', ' ', 'R.', ' ', '(1995).', ' ', 'Confirmatory', ' ', 'factor', ' ', 'anal-', ' ', 'ysis', ' ', 'of', ' ', 'the', ' ', 'Styles', ' ', 'of', ' ', 'Handling', ' ', 'Interpersonal', ' ', 'Conflict:', ' ', 'First-order', ' ', 'factor', ' ', 'model', ' ', 'and', ' ', 'its', ' ', 'invariance', ' ', 'across', ' ', 'groups.', ' ', 'Journal', ' ', 'of', ' ', 'Ap-', ' ', 'plied', ' ', 'Psychology,', ' ', '80,', ' ', '122-132.', '\\r'], ['Sample.', ' ', 'The', ' ', 'total', ' ', 'sample', ' ', 'for', ' ', 'Study', ' ', '1', ' ', 'included', ' ', '302', ' ', 'participants', ' ', 'from', ' ', 'Greensboro,', ' ', 'NC,', ' ', 'and', ' ', 'New', ' ', 'York', ' ', 'City.', ' ', 'In', ' ', 'an', ' ', 'effort', ' ', 'to', ' ', 'obtain', ' ', 'a', ' ', 'sample', ' ', 'demographically', ' ', 'similar', ' ', 'to', ' ', 'the', ' ', 'target', ' ', 'population,', ' ', 'partic-', ' ', 'ipants', ' ', 'were', ' ', 'selected', ' ', 'from', ' ', 'a', ' ', 'variety', ' ', 'of', ' ', 'settings:', ' ', 'colleges', ' ', 'and', ' ', 'universities,', ' ', 'a', ' ', 'substance', ' ', 'abuse', ' ', 'treatment', ' ', 'facility,', ' ', 'and', ' ', 'the', ' ', 'commu-', ' ', 'nity', ' ', 'at', ' ', 'large.', ' ', 'It', ' ', 'is', ' ', 'significant', ' ', 'to', ' ', 'note', ' ', 'that', ' ', 'there', ' ', 'were', ' ', 'no', ' ', 'incorrectly', ' ', 'completed', ' ', 'surveys', ' ', 'in', ' ', 'this', ' ', 'study.', ' ', 'There', ' ', 'were', ' ', 'approximately', ' ', '10', ' ', 'surveys', ' ', 'that', ' ', 'were', ' ', 'incomplete', ' ', 'or', ' ', 'suspected', ' ', 'of', ' ', 'being', ' ', 'invalid.', ' ', 'A', ' ', 'total', ' ', 'of', ' ', '7', ' ', 'individuals', ' ', 'refused', ' ', 'to', ' ', 'participate,', ' ', 'primarily', ' ', 'non-Blacks', ' ', 'who', ' ', 'found', ' ', 'the', ' ', 'material', ' ', 'offensive.', ' ', 'Participants', ' ', 'in', ' ', 'Study', ' ', '1', ' ', 'did', ' ', 'not', ' ', 'take', ' ', 'part', ' ', 'in', ' ', 'the', ' ', 'pilot', ' ', 'study.', '\\r'], ['20.', ' ', 'You', ' ', 'were', ' ', 'refused', ' ', 'an', ' ', 'apartment', ' ', 'or', ' ', 'other', ' ', 'housing;', ' ', 'you', ' ', 'suspect', ' ', 'it', ' ', 'was', ' ', 'because', ' ', 'you', ' ', 'are', ' ', 'Black.', ' ', '—.02', '\\r'], ['29.', ' ', 'You', ' ', 'have', ' ', 'observed', ' ', 'the', ' ', 'police', ' ', 'treat', ' ', 'White/non-Blacks', ' ', 'with', ' ', 'more', ' ', 'respect', ' ', 'and', ' ', 'dignity', ' ', 'than', ' ', 'they', ' ', 'do', ' ', 'Blacks.', ' ', '.55', '\\r'], ['41.', ' ', 'You', ' ', 'have', ' ', 'been', ' ', 'given', ' ', 'more', ' ', 'work', ' ', 'or', ' ', 'the', ' ', 'most', ' ', 'undesirable', ' ', 'jobs', ' ', 'at', ' ', 'your', ' ', 'place', ' ', 'of', ' ', 'employment,', ' ', 'whereas', ' ', 'the', ' ', 'White/non-Black', ' ', 'of', ' ', 'equal', ' ', 'or', ' ', 'less', ' ', 'seniority', ' ', 'and', ' ', 'credentials', ' ', 'is', ' ', 'given', ' ', 'less', ' ', 'work', ' ', 'and', ' ', 'more', ' ', 'desirable', ' ', 'tasks.', '\\r'], ['and', ' ', 'integrative', ' ', 'framework.', ' ', 'American', ' ', 'Psychologist,', ' ', '47,', ' ', '1182—', ' ', '1193.', '\\r'], ['31.', ' ', 'You', ' ', 'have', ' ', 'noticed', ' ', 'that', ' ', 'the', ' ', 'public', ' ', 'services', ' ', 'are', ' ', 'inadequate', ' ', 'or', ' ', 'nonexistent', ' ', 'in', ' ', 'Black', ' ', 'communities', ' ', '(police,', ' ', 'sanitation,', ' ', 'street', ' ', 'repairs,', ' ', 'etc.).', ' ', '.55', '\\r'], []]\n"
          ]
        }
      ],
      "source": [
        "dataset = create_dataset(texts, labels)"
      ]
    },
    {
      "cell_type": "code",
      "source": [
        "example = dataset[15]\n",
        "tokens = example[\"tokens\"]\n",
        "ner_tags = example[\"ner_tags\"]\n",
        "\n",
        "print(\"Tokens:\", tokens)\n",
        "print(\"NER Tags:\", ner_tags)"
      ],
      "metadata": {
        "colab": {
          "base_uri": "https://localhost:8080/"
        },
        "id": "zqmIwLjjgois",
        "outputId": "10bb6919-41da-4941-af94-9a8064365785"
      },
      "execution_count": null,
      "outputs": [
        {
          "output_type": "stream",
          "name": "stdout",
          "text": [
            "Tokens: ['4.', ' ', 'I', ' ', 'was', ' ', 'very', ' ', 'restless.', '\\r']\n",
            "NER Tags: [0, 0, 1, 2, 2, 2, 2, 2, 2, 0]\n"
          ]
        }
      ]
    },
    {
      "cell_type": "code",
      "execution_count": null,
      "metadata": {
        "colab": {
          "base_uri": "https://localhost:8080/"
        },
        "id": "OlDSFrTmhUw6",
        "outputId": "d3393411-4699-430d-cf5a-feb9164c20f0"
      },
      "outputs": [
        {
          "output_type": "execute_result",
          "data": {
            "text/plain": [
              "Dataset({\n",
              "    features: ['tokens', 'ner_tags'],\n",
              "    num_rows: 2902\n",
              "})"
            ]
          },
          "metadata": {},
          "execution_count": 8
        }
      ],
      "source": [
        "dataset"
      ]
    },
    {
      "cell_type": "code",
      "source": [
        "dataset.features[\"ner_tags\"]"
      ],
      "metadata": {
        "colab": {
          "base_uri": "https://localhost:8080/"
        },
        "id": "xBeU3kaFWkjL",
        "outputId": "69898b40-95d0-492a-cc5a-571b26e7818a"
      },
      "execution_count": null,
      "outputs": [
        {
          "output_type": "execute_result",
          "data": {
            "text/plain": [
              "Sequence(feature=ClassLabel(names=['O', 'B-QUESTION', 'I-QUESTION'], id=None), length=-1, id=None)"
            ]
          },
          "metadata": {},
          "execution_count": 9
        }
      ]
    },
    {
      "cell_type": "code",
      "source": [
        "dataset.description"
      ],
      "metadata": {
        "colab": {
          "base_uri": "https://localhost:8080/",
          "height": 35
        },
        "id": "OyLYIkadWbXd",
        "outputId": "87bfa025-9329-4910-813a-4180f4489067"
      },
      "execution_count": null,
      "outputs": [
        {
          "output_type": "execute_result",
          "data": {
            "text/plain": [
              "''"
            ],
            "application/vnd.google.colaboratory.intrinsic+json": {
              "type": "string"
            }
          },
          "metadata": {},
          "execution_count": 14
        }
      ]
    },
    {
      "cell_type": "code",
      "source": [
        "from transformers import BertTokenizerFast\n",
        "from transformers import DataCollatorForTokenClassification\n",
        "from transformers import AutoModelForTokenClassification"
      ],
      "metadata": {
        "id": "suaMjvoMWxpm"
      },
      "execution_count": null,
      "outputs": []
    },
    {
      "cell_type": "code",
      "source": [
        "tokenizer = BertTokenizerFast.from_pretrained(\"bert-base-multilingual-cased\")"
      ],
      "metadata": {
        "colab": {
          "base_uri": "https://localhost:8080/",
          "height": 304,
          "referenced_widgets": [
            "122c39bb9f664179b1cb1f771493fc60",
            "942202c0149e4f32a516fa2e5853b3f9",
            "342a2b10ae1e46448adfb285a3be2c0e",
            "04df617f8c4c44669ff15c975cf6d7be",
            "202ea6555aaa430ca419c2f77f8737c5",
            "00ede5c58c5b43ce829440f40c753102",
            "18c63f216755436d955addd5a63cdf66",
            "f262bda8022b4e048c953a87c93f19bc",
            "4078e2c54f9248bfb4cdb8e39eba85d4",
            "178fe34006e147cb823ef01d2ec948b8",
            "f465babef1784d5baaf4e1d9445581e9",
            "bcd19d3a06c14edcacc6fde39755b260",
            "1d7a5526dd2c48ff8809244c4092f71c",
            "7fc68fafbd1f48ce8c1d1ac7264abb31",
            "20560dbcfa5f4206b12abd5da4c24721",
            "7b573c78b1aa47ac87f66565917c18df",
            "114f1376b03647f8a404031f21fdc20c",
            "dd00dfb77d6c41c89a73628e2a12dc25",
            "274c6628aa5b4d69b70c0b66a329ccc6",
            "24cbe3524feb4838aae26ecd01e47241",
            "1278d4103a7e4c65a605c83e3927ddb3",
            "6e2c151ce20b4e5ca924712170b334ad",
            "6347e0560ff04775859d82a8e6e2c991",
            "baafa14d9c5d4388a0483e9fa4e3f818",
            "9426c2c3fd5b4d25b54b6bf9f1813532",
            "a65dff1c8dd04e4d9275fc6876a4bc5f",
            "ff3073317edd496597c98f82d83b4fc8",
            "fa500af5a58a4d5d875cece72106196a",
            "a31319a0d887424caa4528308e3a2aff",
            "d59009b49ddc4e13b55cd89a8ecc3324",
            "6a230e8f7124480b9ba691fe10240bc5",
            "c951c05a916d41349ccf5e279019dd56",
            "46549ac32b79457eb93658b26a6ffb86",
            "7a27092d7393472599aef15627c6e2ec",
            "4b8eb2df452f49c08c3f8ca40d1cde65",
            "89a8f41d76a04731bf9cedcc5a666592",
            "545b4abf33324437b3d8de398e7914de",
            "7ed6be262f8f45b9a13982895ecb8e23",
            "0b465e01690c47a8beda22bdaa4c7fc4",
            "7dbe79690d4c43dbbbb0af5d6fe1ec80",
            "4c09f2628d5c45aebd4becf4875bb738",
            "97acb0ae3c514d5181b39d8f9f1f888c",
            "cd23af45d8eb47a2aaada9c9f5b9e750",
            "aa771774c798432e9f8e6a4fe1e50a4c"
          ]
        },
        "id": "5G68I0OyW1dI",
        "outputId": "101b6bae-bd5e-46d5-f6c1-8a4b03e2e63e"
      },
      "execution_count": null,
      "outputs": [
        {
          "output_type": "stream",
          "name": "stderr",
          "text": [
            "/usr/local/lib/python3.10/dist-packages/huggingface_hub/file_download.py:1132: FutureWarning: `resume_download` is deprecated and will be removed in version 1.0.0. Downloads always resume when possible. If you want to force a new download, use `force_download=True`.\n",
            "  warnings.warn(\n",
            "/usr/local/lib/python3.10/dist-packages/huggingface_hub/utils/_token.py:89: UserWarning: \n",
            "The secret `HF_TOKEN` does not exist in your Colab secrets.\n",
            "To authenticate with the Hugging Face Hub, create a token in your settings tab (https://huggingface.co/settings/tokens), set it as secret in your Google Colab and restart your session.\n",
            "You will be able to reuse this secret in all of your notebooks.\n",
            "Please note that authentication is recommended but still optional to access public models or datasets.\n",
            "  warnings.warn(\n"
          ]
        },
        {
          "output_type": "display_data",
          "data": {
            "text/plain": [
              "tokenizer_config.json:   0%|          | 0.00/49.0 [00:00<?, ?B/s]"
            ],
            "application/vnd.jupyter.widget-view+json": {
              "version_major": 2,
              "version_minor": 0,
              "model_id": "122c39bb9f664179b1cb1f771493fc60"
            }
          },
          "metadata": {}
        },
        {
          "output_type": "display_data",
          "data": {
            "text/plain": [
              "vocab.txt:   0%|          | 0.00/996k [00:00<?, ?B/s]"
            ],
            "application/vnd.jupyter.widget-view+json": {
              "version_major": 2,
              "version_minor": 0,
              "model_id": "bcd19d3a06c14edcacc6fde39755b260"
            }
          },
          "metadata": {}
        },
        {
          "output_type": "display_data",
          "data": {
            "text/plain": [
              "tokenizer.json:   0%|          | 0.00/1.96M [00:00<?, ?B/s]"
            ],
            "application/vnd.jupyter.widget-view+json": {
              "version_major": 2,
              "version_minor": 0,
              "model_id": "6347e0560ff04775859d82a8e6e2c991"
            }
          },
          "metadata": {}
        },
        {
          "output_type": "display_data",
          "data": {
            "text/plain": [
              "config.json:   0%|          | 0.00/625 [00:00<?, ?B/s]"
            ],
            "application/vnd.jupyter.widget-view+json": {
              "version_major": 2,
              "version_minor": 0,
              "model_id": "7a27092d7393472599aef15627c6e2ec"
            }
          },
          "metadata": {}
        }
      ]
    },
    {
      "cell_type": "code",
      "execution_count": null,
      "metadata": {
        "colab": {
          "base_uri": "https://localhost:8080/"
        },
        "id": "btefWiHkhUw7",
        "outputId": "6717a976-76e1-4934-fa4c-491667ec4884"
      },
      "outputs": [
        {
          "output_type": "execute_result",
          "data": {
            "text/plain": [
              "BertTokenizerFast(name_or_path='bert-base-multilingual-cased', vocab_size=119547, model_max_length=512, is_fast=True, padding_side='right', truncation_side='right', special_tokens={'unk_token': '[UNK]', 'sep_token': '[SEP]', 'pad_token': '[PAD]', 'cls_token': '[CLS]', 'mask_token': '[MASK]'}, clean_up_tokenization_spaces=True),  added_tokens_decoder={\n",
              "\t0: AddedToken(\"[PAD]\", rstrip=False, lstrip=False, single_word=False, normalized=False, special=True),\n",
              "\t100: AddedToken(\"[UNK]\", rstrip=False, lstrip=False, single_word=False, normalized=False, special=True),\n",
              "\t101: AddedToken(\"[CLS]\", rstrip=False, lstrip=False, single_word=False, normalized=False, special=True),\n",
              "\t102: AddedToken(\"[SEP]\", rstrip=False, lstrip=False, single_word=False, normalized=False, special=True),\n",
              "\t103: AddedToken(\"[MASK]\", rstrip=False, lstrip=False, single_word=False, normalized=False, special=True),\n",
              "}"
            ]
          },
          "metadata": {},
          "execution_count": 12
        }
      ],
      "source": [
        "tokenizer"
      ]
    },
    {
      "cell_type": "code",
      "source": [
        "example_text = dataset[0]\n",
        "\n",
        "tokenized_input = tokenizer(example_text[\"tokens\"], is_split_into_words=True)"
      ],
      "metadata": {
        "id": "nODywsI7XBuc"
      },
      "execution_count": null,
      "outputs": []
    },
    {
      "cell_type": "code",
      "source": [
        "tokens = tokenizer.convert_ids_to_tokens(tokenized_input[\"input_ids\"])\n",
        "tokens"
      ],
      "metadata": {
        "colab": {
          "base_uri": "https://localhost:8080/"
        },
        "id": "EPcQqfsDXTed",
        "outputId": "6008ff05-3785-4342-8f59-d53d0d3ce315"
      },
      "execution_count": null,
      "outputs": [
        {
          "output_type": "execute_result",
          "data": {
            "text/plain": [
              "['[CLS]',\n",
              " 'Se',\n",
              " '##ção',\n",
              " 'BE',\n",
              " '##M',\n",
              " '-',\n",
              " 'Es',\n",
              " '##cala',\n",
              " 'de',\n",
              " 'bem',\n",
              " '-',\n",
              " 'estar',\n",
              " 'mental',\n",
              " 'Warwick',\n",
              " '-',\n",
              " 'Ed',\n",
              " '##in',\n",
              " '##brug',\n",
              " '##h',\n",
              " '[SEP]']"
            ]
          },
          "metadata": {},
          "execution_count": 14
        }
      ]
    },
    {
      "cell_type": "code",
      "execution_count": null,
      "metadata": {
        "id": "KxkW5Y1zhUw8"
      },
      "outputs": [],
      "source": [
        "def tokenize_and_align_labels(examples, label_all_tokens=True):\n",
        "    tokenized_inputs = tokenizer(examples[\"tokens\"], truncation=True, is_split_into_words=True)\n",
        "    labels = []\n",
        "    for i, label in enumerate(examples[\"ner_tags\"]):\n",
        "        word_ids = tokenized_inputs.word_ids(batch_index=i)\n",
        "        # word_ids() => Return a list mapping the tokens\n",
        "        # to their actual word in the initial sentence.\n",
        "        # It Returns a list indicating the word corresponding to each token.\n",
        "        previous_word_idx = None\n",
        "        label_ids = []\n",
        "        # Special tokens like `` and `<\\s>` are originally mapped to None\n",
        "        # We need to set the label to -100 so they are automatically ignored in the loss function.\n",
        "        for word_idx in word_ids:\n",
        "            if word_idx is None:\n",
        "                # set –100 as the label for these special tokens\n",
        "                label_ids.append(-100)\n",
        "            # For the other tokens in a word, we set the label to either the current label or -100, depending on\n",
        "            # the label_all_tokens flag.\n",
        "            elif word_idx != previous_word_idx:\n",
        "                # if current word_idx is != prev then its the most regular case\n",
        "                # and add the corresponding token\n",
        "                label_ids.append(label[word_idx])\n",
        "            else:\n",
        "                # to take care of sub-words which have the same word_idx\n",
        "                # set -100 as well for them, but only if label_all_tokens == False\n",
        "                label_ids.append(label[word_idx] if label_all_tokens else -100)\n",
        "                # mask the subword representations after the first subword\n",
        "\n",
        "            previous_word_idx = word_idx\n",
        "        labels.append(label_ids)\n",
        "    tokenized_inputs[\"labels\"] = labels\n",
        "    return tokenized_inputs"
      ]
    },
    {
      "cell_type": "code",
      "source": [],
      "metadata": {
        "id": "TrFdAi7idl0b"
      },
      "execution_count": null,
      "outputs": []
    },
    {
      "cell_type": "code",
      "execution_count": null,
      "metadata": {
        "colab": {
          "base_uri": "https://localhost:8080/"
        },
        "id": "-H4D8wUlhUw8",
        "outputId": "5523c418-4b9b-4efe-8edb-c506f72eddaa"
      },
      "outputs": [
        {
          "output_type": "execute_result",
          "data": {
            "text/plain": [
              "{'input_ids': [[101, 31178, 11356, 102], [101, 22495, 49219, 102]], 'token_type_ids': [[0, 0, 0, 0], [0, 0, 0, 0]], 'attention_mask': [[1, 1, 1, 1], [1, 1, 1, 1]], 'labels': [[-100, 0, 1, -100], [-100, 0, 1, -100]]}"
            ]
          },
          "metadata": {},
          "execution_count": 16
        }
      ],
      "source": [
        "# Example usage\n",
        "examples = {\n",
        "    'tokens': [[\"Hello\", \"world\"], [\"Test\", \"sentence\"]],\n",
        "    'ner_tags': [[0, 1], [0, 1]]  # Assuming simple numeric labels for demonstration\n",
        "}\n",
        "\n",
        "tokenized_and_aligned = tokenize_and_align_labels(examples)\n",
        "tokenized_and_aligned"
      ]
    },
    {
      "cell_type": "code",
      "source": [
        "q = tokenize_and_align_labels(dataset[7:8])\n",
        "print(q)"
      ],
      "metadata": {
        "colab": {
          "base_uri": "https://localhost:8080/"
        },
        "id": "IPwWP1Zid_jU",
        "outputId": "fc42d700-8bb3-4a4e-87d7-419fba0a83cf"
      },
      "execution_count": null,
      "outputs": [
        {
          "output_type": "stream",
          "name": "stdout",
          "text": [
            "{'input_ids': [[101, 124, 119, 146, 24666, 10380, 71841, 10162, 146, 12820, 20694, 12166, 10111, 12172, 33338, 119, 102]], 'token_type_ids': [[0, 0, 0, 0, 0, 0, 0, 0, 0, 0, 0, 0, 0, 0, 0, 0, 0]], 'attention_mask': [[1, 1, 1, 1, 1, 1, 1, 1, 1, 1, 1, 1, 1, 1, 1, 1, 1]], 'labels': [[-100, 0, 0, 1, 2, 2, 2, 2, 2, 2, 2, 2, 2, 2, 2, 2, -100]]}\n"
          ]
        }
      ]
    },
    {
      "cell_type": "code",
      "source": [
        "for token, label in zip(tokenizer.convert_ids_to_tokens(q[\"input_ids\"][0]),q[\"labels\"][0]):\n",
        "    print(f\"{token:_<40} {label}\")"
      ],
      "metadata": {
        "colab": {
          "base_uri": "https://localhost:8080/"
        },
        "id": "6HPHT380eMvM",
        "outputId": "176d612f-491f-4597-fe80-9c2707d97f00"
      },
      "execution_count": null,
      "outputs": [
        {
          "output_type": "stream",
          "name": "stdout",
          "text": [
            "[CLS]___________________________________ -100\n",
            "3_______________________________________ 0\n",
            "._______________________________________ 0\n",
            "I_______________________________________ 1\n",
            "felt____________________________________ 2\n",
            "so______________________________________ 2\n",
            "tire____________________________________ 2\n",
            "##d_____________________________________ 2\n",
            "I_______________________________________ 2\n",
            "just____________________________________ 2\n",
            "sat_____________________________________ 2\n",
            "around__________________________________ 2\n",
            "and_____________________________________ 2\n",
            "did_____________________________________ 2\n",
            "nothing_________________________________ 2\n",
            "._______________________________________ 2\n",
            "[SEP]___________________________________ -100\n"
          ]
        }
      ]
    },
    {
      "cell_type": "code",
      "execution_count": null,
      "metadata": {
        "colab": {
          "base_uri": "https://localhost:8080/",
          "height": 49,
          "referenced_widgets": [
            "a6994e2118ab432fb022e5efb4c0650a",
            "463bcee5b2444a8ea9dee8ab618d38b3",
            "1861baed93a04d1d9b52727b36dbb9a7",
            "19f59736ff024c28995aed400c4f7f1b",
            "f707e5fc086d4cd58f22876e1d79e520",
            "f4012aedf3c040d1bc80b386591e18a1",
            "20bb9154ac57426d9417901058ae9faa",
            "d87f3e70c2534fd69f668f3ca946bdf2",
            "c78fae9e527d48d0a9ca07e4e9f52b9b",
            "308ff8d3a2304dabac6308723d8f31e6",
            "e4821de25a1b44219f1705a9ea637299"
          ]
        },
        "id": "U1FRvt1whUw8",
        "outputId": "dfc144d1-964f-47be-b1f7-1ea90f2b9682"
      },
      "outputs": [
        {
          "output_type": "display_data",
          "data": {
            "text/plain": [
              "Map:   0%|          | 0/2902 [00:00<?, ? examples/s]"
            ],
            "application/vnd.jupyter.widget-view+json": {
              "version_major": 2,
              "version_minor": 0,
              "model_id": "a6994e2118ab432fb022e5efb4c0650a"
            }
          },
          "metadata": {}
        }
      ],
      "source": [
        "# Apply function\n",
        "tokenized_datasets = dataset.map(tokenize_and_align_labels, batched=True)"
      ]
    },
    {
      "cell_type": "code",
      "execution_count": null,
      "metadata": {
        "colab": {
          "base_uri": "https://localhost:8080/"
        },
        "id": "78XcaXGShUw9",
        "outputId": "13f42c4e-9ddf-4836-ae5d-4d1852c00185"
      },
      "outputs": [
        {
          "output_type": "execute_result",
          "data": {
            "text/plain": [
              "{'tokens': ['Seção',\n",
              "  ' ',\n",
              "  'BEM',\n",
              "  ' ',\n",
              "  '-',\n",
              "  ' ',\n",
              "  'Escala',\n",
              "  ' ',\n",
              "  'de',\n",
              "  ' ',\n",
              "  'bem-estar',\n",
              "  ' ',\n",
              "  'mental',\n",
              "  ' ',\n",
              "  'Warwick-Edinbrugh',\n",
              "  '\\r'],\n",
              " 'ner_tags': [0, 0, 0, 0, 0, 0, 0, 0, 0, 0, 0, 0, 0, 0, 0, 0],\n",
              " 'input_ids': [101,\n",
              "  11045,\n",
              "  10922,\n",
              "  46291,\n",
              "  11517,\n",
              "  118,\n",
              "  10912,\n",
              "  60494,\n",
              "  10104,\n",
              "  19685,\n",
              "  118,\n",
              "  16627,\n",
              "  27993,\n",
              "  48234,\n",
              "  118,\n",
              "  13114,\n",
              "  10245,\n",
              "  79014,\n",
              "  10237,\n",
              "  102],\n",
              " 'token_type_ids': [0,\n",
              "  0,\n",
              "  0,\n",
              "  0,\n",
              "  0,\n",
              "  0,\n",
              "  0,\n",
              "  0,\n",
              "  0,\n",
              "  0,\n",
              "  0,\n",
              "  0,\n",
              "  0,\n",
              "  0,\n",
              "  0,\n",
              "  0,\n",
              "  0,\n",
              "  0,\n",
              "  0,\n",
              "  0],\n",
              " 'attention_mask': [1,\n",
              "  1,\n",
              "  1,\n",
              "  1,\n",
              "  1,\n",
              "  1,\n",
              "  1,\n",
              "  1,\n",
              "  1,\n",
              "  1,\n",
              "  1,\n",
              "  1,\n",
              "  1,\n",
              "  1,\n",
              "  1,\n",
              "  1,\n",
              "  1,\n",
              "  1,\n",
              "  1,\n",
              "  1],\n",
              " 'labels': [-100, 0, 0, 0, 0, 0, 0, 0, 0, 0, 0, 0, 0, 0, 0, 0, 0, 0, 0, -100]}"
            ]
          },
          "metadata": {},
          "execution_count": 20
        }
      ],
      "source": [
        "tokenized_datasets[0]"
      ]
    },
    {
      "cell_type": "code",
      "source": [
        "model = AutoModelForTokenClassification.from_pretrained(\"bert-base-multilingual-cased\", num_labels=3)"
      ],
      "metadata": {
        "colab": {
          "base_uri": "https://localhost:8080/",
          "height": 138,
          "referenced_widgets": [
            "a57c527a59c44ac8807fea6bb515633a",
            "a5db6ae7bf25436f9d3c891cf452cfa7",
            "f90cbef70e114ce489a8e0cea57e2853",
            "e165c31cf1a74cf7ab44c099ff1f91bb",
            "25e64d623dec45f285efa33f0e098ad5",
            "b052506cd5df478f84f0afa49e879736",
            "3a9e09b418664815bb0c85c447c80fcb",
            "51a199dfbbcf43078bb32cc47d7d1f00",
            "5dcc8d9da0d84d09b180d3cc596539e9",
            "c1e85095b99b4807b622cfd4585c876d",
            "bfb7ee0d499843ae9669a86f22bbeaf9"
          ]
        },
        "id": "I5qogbwjeza4",
        "outputId": "d67d2c4a-9bcf-426a-c13b-26353ee679dd"
      },
      "execution_count": null,
      "outputs": [
        {
          "output_type": "stream",
          "name": "stderr",
          "text": [
            "/usr/local/lib/python3.10/dist-packages/huggingface_hub/file_download.py:1132: FutureWarning: `resume_download` is deprecated and will be removed in version 1.0.0. Downloads always resume when possible. If you want to force a new download, use `force_download=True`.\n",
            "  warnings.warn(\n"
          ]
        },
        {
          "output_type": "display_data",
          "data": {
            "text/plain": [
              "model.safetensors:   0%|          | 0.00/714M [00:00<?, ?B/s]"
            ],
            "application/vnd.jupyter.widget-view+json": {
              "version_major": 2,
              "version_minor": 0,
              "model_id": "a57c527a59c44ac8807fea6bb515633a"
            }
          },
          "metadata": {}
        },
        {
          "output_type": "stream",
          "name": "stderr",
          "text": [
            "Some weights of BertForTokenClassification were not initialized from the model checkpoint at bert-base-multilingual-cased and are newly initialized: ['classifier.bias', 'classifier.weight']\n",
            "You should probably TRAIN this model on a down-stream task to be able to use it for predictions and inference.\n"
          ]
        }
      ]
    },
    {
      "cell_type": "code",
      "execution_count": null,
      "metadata": {
        "id": "dcCFayulhUw9"
      },
      "outputs": [],
      "source": [
        "from transformers import TrainingArguments, Trainer, DataCollatorForTokenClassification"
      ]
    },
    {
      "cell_type": "code",
      "execution_count": null,
      "metadata": {
        "id": "i9yTCQQ6OKUc"
      },
      "outputs": [],
      "source": [
        "import torch"
      ]
    },
    {
      "cell_type": "code",
      "execution_count": null,
      "metadata": {
        "colab": {
          "base_uri": "https://localhost:8080/"
        },
        "id": "5Hq7Q5wjPCau",
        "outputId": "33b31a86-cca0-462d-9c8a-ee0e70a5d903"
      },
      "outputs": [
        {
          "output_type": "stream",
          "name": "stdout",
          "text": [
            "Transformers version: 4.40.2\n",
            "Accelerate version: 0.30.1\n"
          ]
        }
      ],
      "source": [
        "import transformers\n",
        "import accelerate\n",
        "print(\"Transformers version:\", transformers.__version__)\n",
        "print(\"Accelerate version:\", accelerate.__version__)"
      ]
    },
    {
      "cell_type": "code",
      "execution_count": null,
      "metadata": {
        "id": "WGIZ9djfPqOt"
      },
      "outputs": [],
      "source": [
        "from transformers import TrainingArguments"
      ]
    },
    {
      "cell_type": "code",
      "source": [
        "\n",
        "args = TrainingArguments(\n",
        "\"test-ner\",\n",
        "evaluation_strategy = \"epoch\",\n",
        "learning_rate=5e-5,\n",
        "per_device_train_batch_size=16,\n",
        "# per_device_eval_batch_size=16,\n",
        "num_train_epochs=3,\n",
        "weight_decay=0.01,\n",
        ")"
      ],
      "metadata": {
        "id": "eYe3HXcOfRXP"
      },
      "execution_count": null,
      "outputs": []
    },
    {
      "cell_type": "code",
      "source": [],
      "metadata": {
        "id": "ZPmikVWufqEx"
      },
      "execution_count": null,
      "outputs": []
    },
    {
      "cell_type": "code",
      "execution_count": null,
      "metadata": {
        "id": "A0do67ojUYmt"
      },
      "outputs": [],
      "source": [
        "# training_args = TrainingArguments(\n",
        "#     output_dir='./results',\n",
        "#     num_train_epochs=3,\n",
        "#     per_device_train_batch_size=16,\n",
        "#     learning_rate=5e-5,\n",
        "#     weight_decay=0.01\n",
        "# )"
      ]
    },
    {
      "cell_type": "code",
      "source": [
        "metric = datasets.load_metric(\"seqeval\")"
      ],
      "metadata": {
        "colab": {
          "base_uri": "https://localhost:8080/",
          "height": 173,
          "referenced_widgets": [
            "1fd2c92d08414517b0ed30def2c07dd0",
            "c53bbef13f75494c996c5ff1089b51b2",
            "77e307c0098c4dc28b9313a9f7f15b6d",
            "eb07ba3191c24ec58dd46e63221d3a6d",
            "922cfce1dc6f4e5d950611d9eca2b8cc",
            "0b2e635645cd48139b0f2fa70c758c55",
            "61224e90c3414af79978ebb767d2b981",
            "9496261ff4994ed89d6d8b548f6c7801",
            "3c007a4bf49c4606a03f99546ad85996",
            "2d45d7389c7d46eeb536a878edae05b1",
            "38af52f03fa84d3ca82ecf81ed10a25d"
          ]
        },
        "id": "j-F20is9fwBa",
        "outputId": "1513dd44-db65-46d3-f2c8-cabdb185ca27"
      },
      "execution_count": null,
      "outputs": [
        {
          "output_type": "stream",
          "name": "stderr",
          "text": [
            "<ipython-input-27-b144b02b338d>:1: FutureWarning: load_metric is deprecated and will be removed in the next major version of datasets. Use 'evaluate.load' instead, from the new library 🤗 Evaluate: https://huggingface.co/docs/evaluate\n",
            "  metric = datasets.load_metric(\"seqeval\")\n",
            "/usr/local/lib/python3.10/dist-packages/datasets/load.py:759: FutureWarning: The repository for seqeval contains custom code which must be executed to correctly load the metric. You can inspect the repository content at https://raw.githubusercontent.com/huggingface/datasets/2.19.1/metrics/seqeval/seqeval.py\n",
            "You can avoid this message in future by passing the argument `trust_remote_code=True`.\n",
            "Passing `trust_remote_code=True` will be mandatory to load this metric from the next major release of `datasets`.\n",
            "  warnings.warn(\n"
          ]
        },
        {
          "output_type": "display_data",
          "data": {
            "text/plain": [
              "Downloading builder script:   0%|          | 0.00/2.47k [00:00<?, ?B/s]"
            ],
            "application/vnd.jupyter.widget-view+json": {
              "version_major": 2,
              "version_minor": 0,
              "model_id": "1fd2c92d08414517b0ed30def2c07dd0"
            }
          },
          "metadata": {}
        }
      ]
    },
    {
      "cell_type": "code",
      "source": [
        "data_collator = DataCollatorForTokenClassification(tokenizer)"
      ],
      "metadata": {
        "id": "INAGFTjtfwtR"
      },
      "execution_count": null,
      "outputs": []
    },
    {
      "cell_type": "code",
      "source": [
        "label_list = dataset.features[\"ner_tags\"].feature.names\n",
        "\n",
        "label_list\n"
      ],
      "metadata": {
        "colab": {
          "base_uri": "https://localhost:8080/"
        },
        "id": "9JPt8yRLhE4d",
        "outputId": "98f78c27-d356-41f3-d9c4-d544c23a870e"
      },
      "execution_count": null,
      "outputs": [
        {
          "output_type": "execute_result",
          "data": {
            "text/plain": [
              "['O', 'B-QUESTION', 'I-QUESTION']"
            ]
          },
          "metadata": {},
          "execution_count": 29
        }
      ]
    },
    {
      "cell_type": "code",
      "source": [
        "import numpy as np\n",
        "\n",
        "def compute_metrics(eval_preds):\n",
        "    pred_logits, labels = eval_preds\n",
        "\n",
        "    pred_logits = np.argmax(pred_logits, axis=2)\n",
        "    # the logits and the probabilities are in the same order,\n",
        "    # so we don’t need to apply the softmax\n",
        "\n",
        "    # We remove all the values where the label is -100\n",
        "    predictions = [\n",
        "        [label_list[eval_preds] for (eval_preds, l) in zip(prediction, label) if l != -100]\n",
        "        for prediction, label in zip(pred_logits, labels)\n",
        "    ]\n",
        "\n",
        "    true_labels = [\n",
        "      [label_list[l] for (eval_preds, l) in zip(prediction, label) if l != -100]\n",
        "       for prediction, label in zip(pred_logits, labels)\n",
        "   ]\n",
        "    results = metric.compute(predictions=predictions, references=true_labels)\n",
        "\n",
        "    return {\n",
        "          \"precision\": results[\"overall_precision\"],\n",
        "          \"recall\": results[\"overall_recall\"],\n",
        "          \"f1\": results[\"overall_f1\"],\n",
        "          \"accuracy\": results[\"overall_accuracy\"],\n",
        "  }"
      ],
      "metadata": {
        "id": "XXxgUBusgKK8"
      },
      "execution_count": null,
      "outputs": []
    },
    {
      "cell_type": "code",
      "source": [
        "trainer = Trainer(\n",
        "   model,\n",
        "   args,\n",
        "   train_dataset=tokenized_datasets,\n",
        "   eval_dataset=tokenized_datasets,\n",
        "   data_collator=data_collator,\n",
        "   tokenizer=tokenizer,\n",
        "   compute_metrics=compute_metrics\n",
        ")"
      ],
      "metadata": {
        "id": "dAByul6TgNFu"
      },
      "execution_count": null,
      "outputs": []
    },
    {
      "cell_type": "code",
      "execution_count": null,
      "metadata": {
        "id": "ulrXj6eyhUw-"
      },
      "outputs": [],
      "source": [
        "# trainer = Trainer(\n",
        "#     model=model,\n",
        "#     args=training_args,\n",
        "#     train_dataset=tokenized_dataset,\n",
        "#     data_collator=DataCollatorForTokenClassification(tokenizer)\n",
        "# )\n"
      ]
    },
    {
      "cell_type": "code",
      "execution_count": null,
      "metadata": {
        "id": "x2Muk312hUw-",
        "colab": {
          "base_uri": "https://localhost:8080/",
          "height": 204
        },
        "outputId": "6b07b902-7973-4333-d8a1-dfd858736257"
      },
      "outputs": [
        {
          "output_type": "display_data",
          "data": {
            "text/plain": [
              "<IPython.core.display.HTML object>"
            ],
            "text/html": [
              "\n",
              "    <div>\n",
              "      \n",
              "      <progress value='546' max='546' style='width:300px; height:20px; vertical-align: middle;'></progress>\n",
              "      [546/546 04:08, Epoch 3/3]\n",
              "    </div>\n",
              "    <table border=\"1\" class=\"dataframe\">\n",
              "  <thead>\n",
              " <tr style=\"text-align: left;\">\n",
              "      <th>Epoch</th>\n",
              "      <th>Training Loss</th>\n",
              "      <th>Validation Loss</th>\n",
              "      <th>Precision</th>\n",
              "      <th>Recall</th>\n",
              "      <th>F1</th>\n",
              "      <th>Accuracy</th>\n",
              "    </tr>\n",
              "  </thead>\n",
              "  <tbody>\n",
              "    <tr>\n",
              "      <td>1</td>\n",
              "      <td>No log</td>\n",
              "      <td>0.126845</td>\n",
              "      <td>0.718186</td>\n",
              "      <td>0.839373</td>\n",
              "      <td>0.774065</td>\n",
              "      <td>0.955071</td>\n",
              "    </tr>\n",
              "    <tr>\n",
              "      <td>2</td>\n",
              "      <td>No log</td>\n",
              "      <td>0.042121</td>\n",
              "      <td>0.858412</td>\n",
              "      <td>0.888588</td>\n",
              "      <td>0.873239</td>\n",
              "      <td>0.982319</td>\n",
              "    </tr>\n",
              "    <tr>\n",
              "      <td>3</td>\n",
              "      <td>0.180800</td>\n",
              "      <td>0.022842</td>\n",
              "      <td>0.925469</td>\n",
              "      <td>0.933478</td>\n",
              "      <td>0.929456</td>\n",
              "      <td>0.991337</td>\n",
              "    </tr>\n",
              "  </tbody>\n",
              "</table><p>"
            ]
          },
          "metadata": {}
        },
        {
          "output_type": "execute_result",
          "data": {
            "text/plain": [
              "TrainOutput(global_step=546, training_loss=0.1686525401614961, metrics={'train_runtime': 250.6978, 'train_samples_per_second': 34.727, 'train_steps_per_second': 2.178, 'total_flos': 499780496772180.0, 'train_loss': 0.1686525401614961, 'epoch': 3.0})"
            ]
          },
          "metadata": {},
          "execution_count": 32
        }
      ],
      "source": [
        "trainer.train()"
      ]
    },
    {
      "cell_type": "code",
      "execution_count": null,
      "metadata": {
        "id": "q7q17zwH8Unr"
      },
      "outputs": [],
      "source": []
    },
    {
      "cell_type": "markdown",
      "metadata": {
        "id": "mOIk8_hy8W8M"
      },
      "source": [
        "Inference Code"
      ]
    },
    {
      "cell_type": "code",
      "source": [
        "## Save model\n",
        "model.save_pretrained(\"ner_model\")"
      ],
      "metadata": {
        "id": "yS0AOHGohVJq"
      },
      "execution_count": null,
      "outputs": []
    },
    {
      "cell_type": "code",
      "source": [
        "## Save tokenizer\n",
        "tokenizer.save_pretrained(\"tokenizer\")"
      ],
      "metadata": {
        "colab": {
          "base_uri": "https://localhost:8080/"
        },
        "id": "EJzTiFWXhb_z",
        "outputId": "2270383b-3765-46e6-e5e1-b809f747bb61"
      },
      "execution_count": null,
      "outputs": [
        {
          "output_type": "execute_result",
          "data": {
            "text/plain": [
              "('tokenizer/tokenizer_config.json',\n",
              " 'tokenizer/special_tokens_map.json',\n",
              " 'tokenizer/vocab.txt',\n",
              " 'tokenizer/added_tokens.json',\n",
              " 'tokenizer/tokenizer.json')"
            ]
          },
          "metadata": {},
          "execution_count": 34
        }
      ]
    },
    {
      "cell_type": "code",
      "source": [
        "id2label = {\n",
        "    str(i): label for i,label in enumerate(label_list)\n",
        "}\n",
        "label2id = {\n",
        "    label: str(i) for i,label in enumerate(label_list)\n",
        "}"
      ],
      "metadata": {
        "id": "U3nn4jnphpgA"
      },
      "execution_count": null,
      "outputs": []
    },
    {
      "cell_type": "code",
      "source": [
        "id2label"
      ],
      "metadata": {
        "colab": {
          "base_uri": "https://localhost:8080/"
        },
        "id": "yBFmkCJthrBU",
        "outputId": "3f9ef6ba-8f52-4a78-cc38-cfe49c0bb315"
      },
      "execution_count": null,
      "outputs": [
        {
          "output_type": "execute_result",
          "data": {
            "text/plain": [
              "{'0': 'O', '1': 'B-QUESTION', '2': 'I-QUESTION'}"
            ]
          },
          "metadata": {},
          "execution_count": 48
        }
      ]
    },
    {
      "cell_type": "code",
      "source": [
        "label2id"
      ],
      "metadata": {
        "colab": {
          "base_uri": "https://localhost:8080/"
        },
        "id": "crVqvyFzhvaY",
        "outputId": "90b5431d-551e-41bc-a5cf-20a14ba7b1ef"
      },
      "execution_count": null,
      "outputs": [
        {
          "output_type": "execute_result",
          "data": {
            "text/plain": [
              "{'O': '0', 'B-QUESTION': '1', 'I-QUESTION': '2'}"
            ]
          },
          "metadata": {},
          "execution_count": 49
        }
      ]
    },
    {
      "cell_type": "code",
      "execution_count": null,
      "metadata": {
        "id": "4HUtaqPz8UrL"
      },
      "outputs": [],
      "source": [
        "# from transformers import BertTokenizer, BertForTokenClassification\n",
        "# import torch"
      ]
    },
    {
      "cell_type": "code",
      "execution_count": null,
      "metadata": {
        "colab": {
          "base_uri": "https://localhost:8080/"
        },
        "id": "MJctjb14_fxT",
        "outputId": "fc9848b4-72ce-4a5e-be4b-71a5b54ac059"
      },
      "outputs": [
        {
          "output_type": "execute_result",
          "data": {
            "text/plain": [
              "('/content/my_model/tokenizer_config.json',\n",
              " '/content/my_model/special_tokens_map.json',\n",
              " '/content/my_model/vocab.txt',\n",
              " '/content/my_model/added_tokens.json',\n",
              " '/content/my_model/tokenizer.json')"
            ]
          },
          "metadata": {},
          "execution_count": 33
        }
      ],
      "source": [
        "# # Saving the model\n",
        "# model.save_pretrained('/content/my_model')\n",
        "\n",
        "# # Saving the tokenizer\n",
        "# tokenizer.save_pretrained('/content/my_model')"
      ]
    },
    {
      "cell_type": "code",
      "source": [
        "import json"
      ],
      "metadata": {
        "id": "7QX6uUm8h2DP"
      },
      "execution_count": null,
      "outputs": []
    },
    {
      "cell_type": "code",
      "source": [
        "config = json.load(open(\"ner_model/config.json\"))\n",
        "config[\"id2label\"] = id2label\n",
        "config[\"label2id\"] = label2id\n",
        "json.dump(config, open(\"ner_model/config.json\",\"w\"))"
      ],
      "metadata": {
        "id": "UomRaNEih3TD"
      },
      "execution_count": null,
      "outputs": []
    },
    {
      "cell_type": "code",
      "source": [
        "model_fine_tuned = AutoModelForTokenClassification.from_pretrained(\"./ner_model\")"
      ],
      "metadata": {
        "id": "dnSUgj-ah6Zc"
      },
      "execution_count": null,
      "outputs": []
    },
    {
      "cell_type": "code",
      "source": [
        "model_fine_tuned"
      ],
      "metadata": {
        "colab": {
          "base_uri": "https://localhost:8080/"
        },
        "id": "xGAQsVlNh_yR",
        "outputId": "80a9f19f-78f7-42b6-af29-ed0ab5d71b1a"
      },
      "execution_count": null,
      "outputs": [
        {
          "output_type": "execute_result",
          "data": {
            "text/plain": [
              "BertForTokenClassification(\n",
              "  (bert): BertModel(\n",
              "    (embeddings): BertEmbeddings(\n",
              "      (word_embeddings): Embedding(119547, 768, padding_idx=0)\n",
              "      (position_embeddings): Embedding(512, 768)\n",
              "      (token_type_embeddings): Embedding(2, 768)\n",
              "      (LayerNorm): LayerNorm((768,), eps=1e-12, elementwise_affine=True)\n",
              "      (dropout): Dropout(p=0.1, inplace=False)\n",
              "    )\n",
              "    (encoder): BertEncoder(\n",
              "      (layer): ModuleList(\n",
              "        (0-11): 12 x BertLayer(\n",
              "          (attention): BertAttention(\n",
              "            (self): BertSelfAttention(\n",
              "              (query): Linear(in_features=768, out_features=768, bias=True)\n",
              "              (key): Linear(in_features=768, out_features=768, bias=True)\n",
              "              (value): Linear(in_features=768, out_features=768, bias=True)\n",
              "              (dropout): Dropout(p=0.1, inplace=False)\n",
              "            )\n",
              "            (output): BertSelfOutput(\n",
              "              (dense): Linear(in_features=768, out_features=768, bias=True)\n",
              "              (LayerNorm): LayerNorm((768,), eps=1e-12, elementwise_affine=True)\n",
              "              (dropout): Dropout(p=0.1, inplace=False)\n",
              "            )\n",
              "          )\n",
              "          (intermediate): BertIntermediate(\n",
              "            (dense): Linear(in_features=768, out_features=3072, bias=True)\n",
              "            (intermediate_act_fn): GELUActivation()\n",
              "          )\n",
              "          (output): BertOutput(\n",
              "            (dense): Linear(in_features=3072, out_features=768, bias=True)\n",
              "            (LayerNorm): LayerNorm((768,), eps=1e-12, elementwise_affine=True)\n",
              "            (dropout): Dropout(p=0.1, inplace=False)\n",
              "          )\n",
              "        )\n",
              "      )\n",
              "    )\n",
              "  )\n",
              "  (dropout): Dropout(p=0.1, inplace=False)\n",
              "  (classifier): Linear(in_features=768, out_features=3, bias=True)\n",
              ")"
            ]
          },
          "metadata": {},
          "execution_count": 39
        }
      ]
    },
    {
      "cell_type": "code",
      "source": [
        "from transformers import pipeline"
      ],
      "metadata": {
        "id": "XS8mkj6aiSMd"
      },
      "execution_count": null,
      "outputs": []
    },
    {
      "cell_type": "code",
      "source": [
        "nlp = pipeline(\"ner\", model=model_fine_tuned, tokenizer=tokenizer)\n",
        "\n",
        "\n",
        "example = \"Q2.17 What is the home ownership status for you and/or your partner? We own our home outright  (1) We are paying off the mortgage on our home  (2) We are renting privately  (3) We are living with family or friends  (8) We are living in social or public housing  (9) Other (please specify)  (10) ________________________________________________\\r\"\n",
        "\n",
        "ner_results = nlp(example)\n",
        "\n",
        "print(ner_results)"
      ],
      "metadata": {
        "colab": {
          "base_uri": "https://localhost:8080/"
        },
        "id": "DP5vSV-piTex",
        "outputId": "d8b0fa33-fd71-41b0-ec45-249fca67cdcb"
      },
      "execution_count": null,
      "outputs": [
        {
          "output_type": "stream",
          "name": "stdout",
          "text": [
            "[{'entity': 'B-QUESTION', 'score': 0.99708253, 'index': 5, 'word': 'What', 'start': 6, 'end': 10}, {'entity': 'I-QUESTION', 'score': 0.9970528, 'index': 6, 'word': 'is', 'start': 11, 'end': 13}, {'entity': 'I-QUESTION', 'score': 0.99808097, 'index': 7, 'word': 'the', 'start': 14, 'end': 17}, {'entity': 'I-QUESTION', 'score': 0.9978116, 'index': 8, 'word': 'home', 'start': 18, 'end': 22}, {'entity': 'I-QUESTION', 'score': 0.99820924, 'index': 9, 'word': 'ownership', 'start': 23, 'end': 32}, {'entity': 'I-QUESTION', 'score': 0.998654, 'index': 10, 'word': 'status', 'start': 33, 'end': 39}, {'entity': 'I-QUESTION', 'score': 0.99819046, 'index': 11, 'word': 'for', 'start': 40, 'end': 43}, {'entity': 'I-QUESTION', 'score': 0.9987251, 'index': 12, 'word': 'you', 'start': 44, 'end': 47}, {'entity': 'I-QUESTION', 'score': 0.9988502, 'index': 13, 'word': 'and', 'start': 48, 'end': 51}, {'entity': 'I-QUESTION', 'score': 0.99877566, 'index': 14, 'word': '/', 'start': 51, 'end': 52}, {'entity': 'I-QUESTION', 'score': 0.9984347, 'index': 15, 'word': 'or', 'start': 52, 'end': 54}, {'entity': 'I-QUESTION', 'score': 0.9986333, 'index': 16, 'word': 'your', 'start': 55, 'end': 59}, {'entity': 'I-QUESTION', 'score': 0.99860626, 'index': 17, 'word': 'partner', 'start': 60, 'end': 67}, {'entity': 'I-QUESTION', 'score': 0.99857235, 'index': 18, 'word': '?', 'start': 67, 'end': 68}]\n"
          ]
        }
      ]
    },
    {
      "cell_type": "code",
      "source": [],
      "metadata": {
        "id": "E4IR_qBX29zQ"
      },
      "execution_count": null,
      "outputs": []
    },
    {
      "cell_type": "code",
      "source": [
        "from transformers import pipeline\n",
        "\n",
        "# Assuming model_fine_tuned and tokenizer are already defined\n",
        "nlp = pipeline(\"ner\", model=model_fine_tuned, tokenizer=tokenizer)\n",
        "\n",
        "example = \"Q14. Os seus AMIGOS ou alguém próximo a você\\r\"\n",
        "\n",
        "ner_results = nlp(example)\n",
        "\n",
        "# Initialize variables to store the current question and all questions\n",
        "current_question = []\n",
        "all_questions = []\n",
        "\n",
        "# Iterate through each entity in the NER results\n",
        "for entity in ner_results:\n",
        "    word = entity['word']\n",
        "    entity_type = entity['entity']\n",
        "\n",
        "    # Handle token continuation marked by '##'\n",
        "    if word.startswith('##'):\n",
        "        word = word[2:]  # Remove '##'\n",
        "        if current_question:\n",
        "            current_question[-1] += word  # Append directly to the last word\n",
        "        continue\n",
        "\n",
        "    # Handle new question starting\n",
        "    if entity_type == 'B-QUESTION':\n",
        "        # If there's an ongoing question, store it first\n",
        "        if current_question:\n",
        "            all_questions.append(\"\".join(current_question).strip())\n",
        "            current_question = []\n",
        "        # Add the new word to start a fresh question\n",
        "        current_question.append(word)\n",
        "    elif entity_type == 'I-QUESTION':\n",
        "        # Correct spacing issues for punctuation\n",
        "        if word in {',', '.', ';', ':'}:\n",
        "            if current_question and not current_question[-1].endswith(' '):\n",
        "                current_question[-1] += word  # Append punctuation directly to the last word\n",
        "        else:\n",
        "            # Ensure proper spacing for words\n",
        "            if current_question and not current_question[-1].endswith(' '):\n",
        "                word = ' ' + word\n",
        "            current_question.append(word)\n",
        "\n",
        "# Append the last question if not empty\n",
        "if current_question:\n",
        "    all_questions.append(\"\".join(current_question).strip())\n",
        "\n",
        "# Print all questions\n",
        "for question in all_questions:\n",
        "    print(question)\n"
      ],
      "metadata": {
        "id": "cYrKNpeY9PI7"
      },
      "execution_count": null,
      "outputs": []
    },
    {
      "cell_type": "code",
      "source": [
        "# saving files from colab"
      ],
      "metadata": {
        "id": "lJyeSsJ60pZS"
      },
      "execution_count": null,
      "outputs": []
    },
    {
      "cell_type": "code",
      "source": [
        "import os\n",
        "from zipfile import ZipFile\n",
        "\n",
        "# Specify the folder you want to download\n",
        "folder_path = '/content/ner_model'  # Change 'your_folder_name' to the name of your folder\n",
        "zip_path = '/content/ner_model.zip'  # Output zip file name\n",
        "\n",
        "# Creating a ZipFile object\n",
        "with ZipFile(zip_path, 'w') as zipf:\n",
        "    for root, dirs, files in os.walk(folder_path):\n",
        "        for file in files:\n",
        "            # Create a complete filepath of file in directory\n",
        "            file_path = os.path.join(root, file)\n",
        "            # Add file to zip\n",
        "            zipf.write(file_path, os.path.relpath(file_path, folder_path))\n"
      ],
      "metadata": {
        "id": "Aa8HfVwT9s9t"
      },
      "execution_count": null,
      "outputs": []
    },
    {
      "cell_type": "code",
      "source": [],
      "metadata": {
        "id": "9I8E-oiP0-Wv"
      },
      "execution_count": null,
      "outputs": []
    }
  ],
  "metadata": {
    "accelerator": "GPU",
    "colab": {
      "gpuType": "T4",
      "provenance": []
    },
    "kernelspec": {
      "display_name": "Python 3",
      "name": "python3"
    },
    "language_info": {
      "name": "python"
    },
    "widgets": {
      "application/vnd.jupyter.widget-state+json": {
        "122c39bb9f664179b1cb1f771493fc60": {
          "model_module": "@jupyter-widgets/controls",
          "model_name": "HBoxModel",
          "model_module_version": "1.5.0",
          "state": {
            "_dom_classes": [],
            "_model_module": "@jupyter-widgets/controls",
            "_model_module_version": "1.5.0",
            "_model_name": "HBoxModel",
            "_view_count": null,
            "_view_module": "@jupyter-widgets/controls",
            "_view_module_version": "1.5.0",
            "_view_name": "HBoxView",
            "box_style": "",
            "children": [
              "IPY_MODEL_942202c0149e4f32a516fa2e5853b3f9",
              "IPY_MODEL_342a2b10ae1e46448adfb285a3be2c0e",
              "IPY_MODEL_04df617f8c4c44669ff15c975cf6d7be"
            ],
            "layout": "IPY_MODEL_202ea6555aaa430ca419c2f77f8737c5"
          }
        },
        "942202c0149e4f32a516fa2e5853b3f9": {
          "model_module": "@jupyter-widgets/controls",
          "model_name": "HTMLModel",
          "model_module_version": "1.5.0",
          "state": {
            "_dom_classes": [],
            "_model_module": "@jupyter-widgets/controls",
            "_model_module_version": "1.5.0",
            "_model_name": "HTMLModel",
            "_view_count": null,
            "_view_module": "@jupyter-widgets/controls",
            "_view_module_version": "1.5.0",
            "_view_name": "HTMLView",
            "description": "",
            "description_tooltip": null,
            "layout": "IPY_MODEL_00ede5c58c5b43ce829440f40c753102",
            "placeholder": "​",
            "style": "IPY_MODEL_18c63f216755436d955addd5a63cdf66",
            "value": "tokenizer_config.json: 100%"
          }
        },
        "342a2b10ae1e46448adfb285a3be2c0e": {
          "model_module": "@jupyter-widgets/controls",
          "model_name": "FloatProgressModel",
          "model_module_version": "1.5.0",
          "state": {
            "_dom_classes": [],
            "_model_module": "@jupyter-widgets/controls",
            "_model_module_version": "1.5.0",
            "_model_name": "FloatProgressModel",
            "_view_count": null,
            "_view_module": "@jupyter-widgets/controls",
            "_view_module_version": "1.5.0",
            "_view_name": "ProgressView",
            "bar_style": "success",
            "description": "",
            "description_tooltip": null,
            "layout": "IPY_MODEL_f262bda8022b4e048c953a87c93f19bc",
            "max": 49,
            "min": 0,
            "orientation": "horizontal",
            "style": "IPY_MODEL_4078e2c54f9248bfb4cdb8e39eba85d4",
            "value": 49
          }
        },
        "04df617f8c4c44669ff15c975cf6d7be": {
          "model_module": "@jupyter-widgets/controls",
          "model_name": "HTMLModel",
          "model_module_version": "1.5.0",
          "state": {
            "_dom_classes": [],
            "_model_module": "@jupyter-widgets/controls",
            "_model_module_version": "1.5.0",
            "_model_name": "HTMLModel",
            "_view_count": null,
            "_view_module": "@jupyter-widgets/controls",
            "_view_module_version": "1.5.0",
            "_view_name": "HTMLView",
            "description": "",
            "description_tooltip": null,
            "layout": "IPY_MODEL_178fe34006e147cb823ef01d2ec948b8",
            "placeholder": "​",
            "style": "IPY_MODEL_f465babef1784d5baaf4e1d9445581e9",
            "value": " 49.0/49.0 [00:00&lt;00:00, 2.85kB/s]"
          }
        },
        "202ea6555aaa430ca419c2f77f8737c5": {
          "model_module": "@jupyter-widgets/base",
          "model_name": "LayoutModel",
          "model_module_version": "1.2.0",
          "state": {
            "_model_module": "@jupyter-widgets/base",
            "_model_module_version": "1.2.0",
            "_model_name": "LayoutModel",
            "_view_count": null,
            "_view_module": "@jupyter-widgets/base",
            "_view_module_version": "1.2.0",
            "_view_name": "LayoutView",
            "align_content": null,
            "align_items": null,
            "align_self": null,
            "border": null,
            "bottom": null,
            "display": null,
            "flex": null,
            "flex_flow": null,
            "grid_area": null,
            "grid_auto_columns": null,
            "grid_auto_flow": null,
            "grid_auto_rows": null,
            "grid_column": null,
            "grid_gap": null,
            "grid_row": null,
            "grid_template_areas": null,
            "grid_template_columns": null,
            "grid_template_rows": null,
            "height": null,
            "justify_content": null,
            "justify_items": null,
            "left": null,
            "margin": null,
            "max_height": null,
            "max_width": null,
            "min_height": null,
            "min_width": null,
            "object_fit": null,
            "object_position": null,
            "order": null,
            "overflow": null,
            "overflow_x": null,
            "overflow_y": null,
            "padding": null,
            "right": null,
            "top": null,
            "visibility": null,
            "width": null
          }
        },
        "00ede5c58c5b43ce829440f40c753102": {
          "model_module": "@jupyter-widgets/base",
          "model_name": "LayoutModel",
          "model_module_version": "1.2.0",
          "state": {
            "_model_module": "@jupyter-widgets/base",
            "_model_module_version": "1.2.0",
            "_model_name": "LayoutModel",
            "_view_count": null,
            "_view_module": "@jupyter-widgets/base",
            "_view_module_version": "1.2.0",
            "_view_name": "LayoutView",
            "align_content": null,
            "align_items": null,
            "align_self": null,
            "border": null,
            "bottom": null,
            "display": null,
            "flex": null,
            "flex_flow": null,
            "grid_area": null,
            "grid_auto_columns": null,
            "grid_auto_flow": null,
            "grid_auto_rows": null,
            "grid_column": null,
            "grid_gap": null,
            "grid_row": null,
            "grid_template_areas": null,
            "grid_template_columns": null,
            "grid_template_rows": null,
            "height": null,
            "justify_content": null,
            "justify_items": null,
            "left": null,
            "margin": null,
            "max_height": null,
            "max_width": null,
            "min_height": null,
            "min_width": null,
            "object_fit": null,
            "object_position": null,
            "order": null,
            "overflow": null,
            "overflow_x": null,
            "overflow_y": null,
            "padding": null,
            "right": null,
            "top": null,
            "visibility": null,
            "width": null
          }
        },
        "18c63f216755436d955addd5a63cdf66": {
          "model_module": "@jupyter-widgets/controls",
          "model_name": "DescriptionStyleModel",
          "model_module_version": "1.5.0",
          "state": {
            "_model_module": "@jupyter-widgets/controls",
            "_model_module_version": "1.5.0",
            "_model_name": "DescriptionStyleModel",
            "_view_count": null,
            "_view_module": "@jupyter-widgets/base",
            "_view_module_version": "1.2.0",
            "_view_name": "StyleView",
            "description_width": ""
          }
        },
        "f262bda8022b4e048c953a87c93f19bc": {
          "model_module": "@jupyter-widgets/base",
          "model_name": "LayoutModel",
          "model_module_version": "1.2.0",
          "state": {
            "_model_module": "@jupyter-widgets/base",
            "_model_module_version": "1.2.0",
            "_model_name": "LayoutModel",
            "_view_count": null,
            "_view_module": "@jupyter-widgets/base",
            "_view_module_version": "1.2.0",
            "_view_name": "LayoutView",
            "align_content": null,
            "align_items": null,
            "align_self": null,
            "border": null,
            "bottom": null,
            "display": null,
            "flex": null,
            "flex_flow": null,
            "grid_area": null,
            "grid_auto_columns": null,
            "grid_auto_flow": null,
            "grid_auto_rows": null,
            "grid_column": null,
            "grid_gap": null,
            "grid_row": null,
            "grid_template_areas": null,
            "grid_template_columns": null,
            "grid_template_rows": null,
            "height": null,
            "justify_content": null,
            "justify_items": null,
            "left": null,
            "margin": null,
            "max_height": null,
            "max_width": null,
            "min_height": null,
            "min_width": null,
            "object_fit": null,
            "object_position": null,
            "order": null,
            "overflow": null,
            "overflow_x": null,
            "overflow_y": null,
            "padding": null,
            "right": null,
            "top": null,
            "visibility": null,
            "width": null
          }
        },
        "4078e2c54f9248bfb4cdb8e39eba85d4": {
          "model_module": "@jupyter-widgets/controls",
          "model_name": "ProgressStyleModel",
          "model_module_version": "1.5.0",
          "state": {
            "_model_module": "@jupyter-widgets/controls",
            "_model_module_version": "1.5.0",
            "_model_name": "ProgressStyleModel",
            "_view_count": null,
            "_view_module": "@jupyter-widgets/base",
            "_view_module_version": "1.2.0",
            "_view_name": "StyleView",
            "bar_color": null,
            "description_width": ""
          }
        },
        "178fe34006e147cb823ef01d2ec948b8": {
          "model_module": "@jupyter-widgets/base",
          "model_name": "LayoutModel",
          "model_module_version": "1.2.0",
          "state": {
            "_model_module": "@jupyter-widgets/base",
            "_model_module_version": "1.2.0",
            "_model_name": "LayoutModel",
            "_view_count": null,
            "_view_module": "@jupyter-widgets/base",
            "_view_module_version": "1.2.0",
            "_view_name": "LayoutView",
            "align_content": null,
            "align_items": null,
            "align_self": null,
            "border": null,
            "bottom": null,
            "display": null,
            "flex": null,
            "flex_flow": null,
            "grid_area": null,
            "grid_auto_columns": null,
            "grid_auto_flow": null,
            "grid_auto_rows": null,
            "grid_column": null,
            "grid_gap": null,
            "grid_row": null,
            "grid_template_areas": null,
            "grid_template_columns": null,
            "grid_template_rows": null,
            "height": null,
            "justify_content": null,
            "justify_items": null,
            "left": null,
            "margin": null,
            "max_height": null,
            "max_width": null,
            "min_height": null,
            "min_width": null,
            "object_fit": null,
            "object_position": null,
            "order": null,
            "overflow": null,
            "overflow_x": null,
            "overflow_y": null,
            "padding": null,
            "right": null,
            "top": null,
            "visibility": null,
            "width": null
          }
        },
        "f465babef1784d5baaf4e1d9445581e9": {
          "model_module": "@jupyter-widgets/controls",
          "model_name": "DescriptionStyleModel",
          "model_module_version": "1.5.0",
          "state": {
            "_model_module": "@jupyter-widgets/controls",
            "_model_module_version": "1.5.0",
            "_model_name": "DescriptionStyleModel",
            "_view_count": null,
            "_view_module": "@jupyter-widgets/base",
            "_view_module_version": "1.2.0",
            "_view_name": "StyleView",
            "description_width": ""
          }
        },
        "bcd19d3a06c14edcacc6fde39755b260": {
          "model_module": "@jupyter-widgets/controls",
          "model_name": "HBoxModel",
          "model_module_version": "1.5.0",
          "state": {
            "_dom_classes": [],
            "_model_module": "@jupyter-widgets/controls",
            "_model_module_version": "1.5.0",
            "_model_name": "HBoxModel",
            "_view_count": null,
            "_view_module": "@jupyter-widgets/controls",
            "_view_module_version": "1.5.0",
            "_view_name": "HBoxView",
            "box_style": "",
            "children": [
              "IPY_MODEL_1d7a5526dd2c48ff8809244c4092f71c",
              "IPY_MODEL_7fc68fafbd1f48ce8c1d1ac7264abb31",
              "IPY_MODEL_20560dbcfa5f4206b12abd5da4c24721"
            ],
            "layout": "IPY_MODEL_7b573c78b1aa47ac87f66565917c18df"
          }
        },
        "1d7a5526dd2c48ff8809244c4092f71c": {
          "model_module": "@jupyter-widgets/controls",
          "model_name": "HTMLModel",
          "model_module_version": "1.5.0",
          "state": {
            "_dom_classes": [],
            "_model_module": "@jupyter-widgets/controls",
            "_model_module_version": "1.5.0",
            "_model_name": "HTMLModel",
            "_view_count": null,
            "_view_module": "@jupyter-widgets/controls",
            "_view_module_version": "1.5.0",
            "_view_name": "HTMLView",
            "description": "",
            "description_tooltip": null,
            "layout": "IPY_MODEL_114f1376b03647f8a404031f21fdc20c",
            "placeholder": "​",
            "style": "IPY_MODEL_dd00dfb77d6c41c89a73628e2a12dc25",
            "value": "vocab.txt: 100%"
          }
        },
        "7fc68fafbd1f48ce8c1d1ac7264abb31": {
          "model_module": "@jupyter-widgets/controls",
          "model_name": "FloatProgressModel",
          "model_module_version": "1.5.0",
          "state": {
            "_dom_classes": [],
            "_model_module": "@jupyter-widgets/controls",
            "_model_module_version": "1.5.0",
            "_model_name": "FloatProgressModel",
            "_view_count": null,
            "_view_module": "@jupyter-widgets/controls",
            "_view_module_version": "1.5.0",
            "_view_name": "ProgressView",
            "bar_style": "success",
            "description": "",
            "description_tooltip": null,
            "layout": "IPY_MODEL_274c6628aa5b4d69b70c0b66a329ccc6",
            "max": 995526,
            "min": 0,
            "orientation": "horizontal",
            "style": "IPY_MODEL_24cbe3524feb4838aae26ecd01e47241",
            "value": 995526
          }
        },
        "20560dbcfa5f4206b12abd5da4c24721": {
          "model_module": "@jupyter-widgets/controls",
          "model_name": "HTMLModel",
          "model_module_version": "1.5.0",
          "state": {
            "_dom_classes": [],
            "_model_module": "@jupyter-widgets/controls",
            "_model_module_version": "1.5.0",
            "_model_name": "HTMLModel",
            "_view_count": null,
            "_view_module": "@jupyter-widgets/controls",
            "_view_module_version": "1.5.0",
            "_view_name": "HTMLView",
            "description": "",
            "description_tooltip": null,
            "layout": "IPY_MODEL_1278d4103a7e4c65a605c83e3927ddb3",
            "placeholder": "​",
            "style": "IPY_MODEL_6e2c151ce20b4e5ca924712170b334ad",
            "value": " 996k/996k [00:00&lt;00:00, 3.79MB/s]"
          }
        },
        "7b573c78b1aa47ac87f66565917c18df": {
          "model_module": "@jupyter-widgets/base",
          "model_name": "LayoutModel",
          "model_module_version": "1.2.0",
          "state": {
            "_model_module": "@jupyter-widgets/base",
            "_model_module_version": "1.2.0",
            "_model_name": "LayoutModel",
            "_view_count": null,
            "_view_module": "@jupyter-widgets/base",
            "_view_module_version": "1.2.0",
            "_view_name": "LayoutView",
            "align_content": null,
            "align_items": null,
            "align_self": null,
            "border": null,
            "bottom": null,
            "display": null,
            "flex": null,
            "flex_flow": null,
            "grid_area": null,
            "grid_auto_columns": null,
            "grid_auto_flow": null,
            "grid_auto_rows": null,
            "grid_column": null,
            "grid_gap": null,
            "grid_row": null,
            "grid_template_areas": null,
            "grid_template_columns": null,
            "grid_template_rows": null,
            "height": null,
            "justify_content": null,
            "justify_items": null,
            "left": null,
            "margin": null,
            "max_height": null,
            "max_width": null,
            "min_height": null,
            "min_width": null,
            "object_fit": null,
            "object_position": null,
            "order": null,
            "overflow": null,
            "overflow_x": null,
            "overflow_y": null,
            "padding": null,
            "right": null,
            "top": null,
            "visibility": null,
            "width": null
          }
        },
        "114f1376b03647f8a404031f21fdc20c": {
          "model_module": "@jupyter-widgets/base",
          "model_name": "LayoutModel",
          "model_module_version": "1.2.0",
          "state": {
            "_model_module": "@jupyter-widgets/base",
            "_model_module_version": "1.2.0",
            "_model_name": "LayoutModel",
            "_view_count": null,
            "_view_module": "@jupyter-widgets/base",
            "_view_module_version": "1.2.0",
            "_view_name": "LayoutView",
            "align_content": null,
            "align_items": null,
            "align_self": null,
            "border": null,
            "bottom": null,
            "display": null,
            "flex": null,
            "flex_flow": null,
            "grid_area": null,
            "grid_auto_columns": null,
            "grid_auto_flow": null,
            "grid_auto_rows": null,
            "grid_column": null,
            "grid_gap": null,
            "grid_row": null,
            "grid_template_areas": null,
            "grid_template_columns": null,
            "grid_template_rows": null,
            "height": null,
            "justify_content": null,
            "justify_items": null,
            "left": null,
            "margin": null,
            "max_height": null,
            "max_width": null,
            "min_height": null,
            "min_width": null,
            "object_fit": null,
            "object_position": null,
            "order": null,
            "overflow": null,
            "overflow_x": null,
            "overflow_y": null,
            "padding": null,
            "right": null,
            "top": null,
            "visibility": null,
            "width": null
          }
        },
        "dd00dfb77d6c41c89a73628e2a12dc25": {
          "model_module": "@jupyter-widgets/controls",
          "model_name": "DescriptionStyleModel",
          "model_module_version": "1.5.0",
          "state": {
            "_model_module": "@jupyter-widgets/controls",
            "_model_module_version": "1.5.0",
            "_model_name": "DescriptionStyleModel",
            "_view_count": null,
            "_view_module": "@jupyter-widgets/base",
            "_view_module_version": "1.2.0",
            "_view_name": "StyleView",
            "description_width": ""
          }
        },
        "274c6628aa5b4d69b70c0b66a329ccc6": {
          "model_module": "@jupyter-widgets/base",
          "model_name": "LayoutModel",
          "model_module_version": "1.2.0",
          "state": {
            "_model_module": "@jupyter-widgets/base",
            "_model_module_version": "1.2.0",
            "_model_name": "LayoutModel",
            "_view_count": null,
            "_view_module": "@jupyter-widgets/base",
            "_view_module_version": "1.2.0",
            "_view_name": "LayoutView",
            "align_content": null,
            "align_items": null,
            "align_self": null,
            "border": null,
            "bottom": null,
            "display": null,
            "flex": null,
            "flex_flow": null,
            "grid_area": null,
            "grid_auto_columns": null,
            "grid_auto_flow": null,
            "grid_auto_rows": null,
            "grid_column": null,
            "grid_gap": null,
            "grid_row": null,
            "grid_template_areas": null,
            "grid_template_columns": null,
            "grid_template_rows": null,
            "height": null,
            "justify_content": null,
            "justify_items": null,
            "left": null,
            "margin": null,
            "max_height": null,
            "max_width": null,
            "min_height": null,
            "min_width": null,
            "object_fit": null,
            "object_position": null,
            "order": null,
            "overflow": null,
            "overflow_x": null,
            "overflow_y": null,
            "padding": null,
            "right": null,
            "top": null,
            "visibility": null,
            "width": null
          }
        },
        "24cbe3524feb4838aae26ecd01e47241": {
          "model_module": "@jupyter-widgets/controls",
          "model_name": "ProgressStyleModel",
          "model_module_version": "1.5.0",
          "state": {
            "_model_module": "@jupyter-widgets/controls",
            "_model_module_version": "1.5.0",
            "_model_name": "ProgressStyleModel",
            "_view_count": null,
            "_view_module": "@jupyter-widgets/base",
            "_view_module_version": "1.2.0",
            "_view_name": "StyleView",
            "bar_color": null,
            "description_width": ""
          }
        },
        "1278d4103a7e4c65a605c83e3927ddb3": {
          "model_module": "@jupyter-widgets/base",
          "model_name": "LayoutModel",
          "model_module_version": "1.2.0",
          "state": {
            "_model_module": "@jupyter-widgets/base",
            "_model_module_version": "1.2.0",
            "_model_name": "LayoutModel",
            "_view_count": null,
            "_view_module": "@jupyter-widgets/base",
            "_view_module_version": "1.2.0",
            "_view_name": "LayoutView",
            "align_content": null,
            "align_items": null,
            "align_self": null,
            "border": null,
            "bottom": null,
            "display": null,
            "flex": null,
            "flex_flow": null,
            "grid_area": null,
            "grid_auto_columns": null,
            "grid_auto_flow": null,
            "grid_auto_rows": null,
            "grid_column": null,
            "grid_gap": null,
            "grid_row": null,
            "grid_template_areas": null,
            "grid_template_columns": null,
            "grid_template_rows": null,
            "height": null,
            "justify_content": null,
            "justify_items": null,
            "left": null,
            "margin": null,
            "max_height": null,
            "max_width": null,
            "min_height": null,
            "min_width": null,
            "object_fit": null,
            "object_position": null,
            "order": null,
            "overflow": null,
            "overflow_x": null,
            "overflow_y": null,
            "padding": null,
            "right": null,
            "top": null,
            "visibility": null,
            "width": null
          }
        },
        "6e2c151ce20b4e5ca924712170b334ad": {
          "model_module": "@jupyter-widgets/controls",
          "model_name": "DescriptionStyleModel",
          "model_module_version": "1.5.0",
          "state": {
            "_model_module": "@jupyter-widgets/controls",
            "_model_module_version": "1.5.0",
            "_model_name": "DescriptionStyleModel",
            "_view_count": null,
            "_view_module": "@jupyter-widgets/base",
            "_view_module_version": "1.2.0",
            "_view_name": "StyleView",
            "description_width": ""
          }
        },
        "6347e0560ff04775859d82a8e6e2c991": {
          "model_module": "@jupyter-widgets/controls",
          "model_name": "HBoxModel",
          "model_module_version": "1.5.0",
          "state": {
            "_dom_classes": [],
            "_model_module": "@jupyter-widgets/controls",
            "_model_module_version": "1.5.0",
            "_model_name": "HBoxModel",
            "_view_count": null,
            "_view_module": "@jupyter-widgets/controls",
            "_view_module_version": "1.5.0",
            "_view_name": "HBoxView",
            "box_style": "",
            "children": [
              "IPY_MODEL_baafa14d9c5d4388a0483e9fa4e3f818",
              "IPY_MODEL_9426c2c3fd5b4d25b54b6bf9f1813532",
              "IPY_MODEL_a65dff1c8dd04e4d9275fc6876a4bc5f"
            ],
            "layout": "IPY_MODEL_ff3073317edd496597c98f82d83b4fc8"
          }
        },
        "baafa14d9c5d4388a0483e9fa4e3f818": {
          "model_module": "@jupyter-widgets/controls",
          "model_name": "HTMLModel",
          "model_module_version": "1.5.0",
          "state": {
            "_dom_classes": [],
            "_model_module": "@jupyter-widgets/controls",
            "_model_module_version": "1.5.0",
            "_model_name": "HTMLModel",
            "_view_count": null,
            "_view_module": "@jupyter-widgets/controls",
            "_view_module_version": "1.5.0",
            "_view_name": "HTMLView",
            "description": "",
            "description_tooltip": null,
            "layout": "IPY_MODEL_fa500af5a58a4d5d875cece72106196a",
            "placeholder": "​",
            "style": "IPY_MODEL_a31319a0d887424caa4528308e3a2aff",
            "value": "tokenizer.json: 100%"
          }
        },
        "9426c2c3fd5b4d25b54b6bf9f1813532": {
          "model_module": "@jupyter-widgets/controls",
          "model_name": "FloatProgressModel",
          "model_module_version": "1.5.0",
          "state": {
            "_dom_classes": [],
            "_model_module": "@jupyter-widgets/controls",
            "_model_module_version": "1.5.0",
            "_model_name": "FloatProgressModel",
            "_view_count": null,
            "_view_module": "@jupyter-widgets/controls",
            "_view_module_version": "1.5.0",
            "_view_name": "ProgressView",
            "bar_style": "success",
            "description": "",
            "description_tooltip": null,
            "layout": "IPY_MODEL_d59009b49ddc4e13b55cd89a8ecc3324",
            "max": 1961828,
            "min": 0,
            "orientation": "horizontal",
            "style": "IPY_MODEL_6a230e8f7124480b9ba691fe10240bc5",
            "value": 1961828
          }
        },
        "a65dff1c8dd04e4d9275fc6876a4bc5f": {
          "model_module": "@jupyter-widgets/controls",
          "model_name": "HTMLModel",
          "model_module_version": "1.5.0",
          "state": {
            "_dom_classes": [],
            "_model_module": "@jupyter-widgets/controls",
            "_model_module_version": "1.5.0",
            "_model_name": "HTMLModel",
            "_view_count": null,
            "_view_module": "@jupyter-widgets/controls",
            "_view_module_version": "1.5.0",
            "_view_name": "HTMLView",
            "description": "",
            "description_tooltip": null,
            "layout": "IPY_MODEL_c951c05a916d41349ccf5e279019dd56",
            "placeholder": "​",
            "style": "IPY_MODEL_46549ac32b79457eb93658b26a6ffb86",
            "value": " 1.96M/1.96M [00:00&lt;00:00, 40.4MB/s]"
          }
        },
        "ff3073317edd496597c98f82d83b4fc8": {
          "model_module": "@jupyter-widgets/base",
          "model_name": "LayoutModel",
          "model_module_version": "1.2.0",
          "state": {
            "_model_module": "@jupyter-widgets/base",
            "_model_module_version": "1.2.0",
            "_model_name": "LayoutModel",
            "_view_count": null,
            "_view_module": "@jupyter-widgets/base",
            "_view_module_version": "1.2.0",
            "_view_name": "LayoutView",
            "align_content": null,
            "align_items": null,
            "align_self": null,
            "border": null,
            "bottom": null,
            "display": null,
            "flex": null,
            "flex_flow": null,
            "grid_area": null,
            "grid_auto_columns": null,
            "grid_auto_flow": null,
            "grid_auto_rows": null,
            "grid_column": null,
            "grid_gap": null,
            "grid_row": null,
            "grid_template_areas": null,
            "grid_template_columns": null,
            "grid_template_rows": null,
            "height": null,
            "justify_content": null,
            "justify_items": null,
            "left": null,
            "margin": null,
            "max_height": null,
            "max_width": null,
            "min_height": null,
            "min_width": null,
            "object_fit": null,
            "object_position": null,
            "order": null,
            "overflow": null,
            "overflow_x": null,
            "overflow_y": null,
            "padding": null,
            "right": null,
            "top": null,
            "visibility": null,
            "width": null
          }
        },
        "fa500af5a58a4d5d875cece72106196a": {
          "model_module": "@jupyter-widgets/base",
          "model_name": "LayoutModel",
          "model_module_version": "1.2.0",
          "state": {
            "_model_module": "@jupyter-widgets/base",
            "_model_module_version": "1.2.0",
            "_model_name": "LayoutModel",
            "_view_count": null,
            "_view_module": "@jupyter-widgets/base",
            "_view_module_version": "1.2.0",
            "_view_name": "LayoutView",
            "align_content": null,
            "align_items": null,
            "align_self": null,
            "border": null,
            "bottom": null,
            "display": null,
            "flex": null,
            "flex_flow": null,
            "grid_area": null,
            "grid_auto_columns": null,
            "grid_auto_flow": null,
            "grid_auto_rows": null,
            "grid_column": null,
            "grid_gap": null,
            "grid_row": null,
            "grid_template_areas": null,
            "grid_template_columns": null,
            "grid_template_rows": null,
            "height": null,
            "justify_content": null,
            "justify_items": null,
            "left": null,
            "margin": null,
            "max_height": null,
            "max_width": null,
            "min_height": null,
            "min_width": null,
            "object_fit": null,
            "object_position": null,
            "order": null,
            "overflow": null,
            "overflow_x": null,
            "overflow_y": null,
            "padding": null,
            "right": null,
            "top": null,
            "visibility": null,
            "width": null
          }
        },
        "a31319a0d887424caa4528308e3a2aff": {
          "model_module": "@jupyter-widgets/controls",
          "model_name": "DescriptionStyleModel",
          "model_module_version": "1.5.0",
          "state": {
            "_model_module": "@jupyter-widgets/controls",
            "_model_module_version": "1.5.0",
            "_model_name": "DescriptionStyleModel",
            "_view_count": null,
            "_view_module": "@jupyter-widgets/base",
            "_view_module_version": "1.2.0",
            "_view_name": "StyleView",
            "description_width": ""
          }
        },
        "d59009b49ddc4e13b55cd89a8ecc3324": {
          "model_module": "@jupyter-widgets/base",
          "model_name": "LayoutModel",
          "model_module_version": "1.2.0",
          "state": {
            "_model_module": "@jupyter-widgets/base",
            "_model_module_version": "1.2.0",
            "_model_name": "LayoutModel",
            "_view_count": null,
            "_view_module": "@jupyter-widgets/base",
            "_view_module_version": "1.2.0",
            "_view_name": "LayoutView",
            "align_content": null,
            "align_items": null,
            "align_self": null,
            "border": null,
            "bottom": null,
            "display": null,
            "flex": null,
            "flex_flow": null,
            "grid_area": null,
            "grid_auto_columns": null,
            "grid_auto_flow": null,
            "grid_auto_rows": null,
            "grid_column": null,
            "grid_gap": null,
            "grid_row": null,
            "grid_template_areas": null,
            "grid_template_columns": null,
            "grid_template_rows": null,
            "height": null,
            "justify_content": null,
            "justify_items": null,
            "left": null,
            "margin": null,
            "max_height": null,
            "max_width": null,
            "min_height": null,
            "min_width": null,
            "object_fit": null,
            "object_position": null,
            "order": null,
            "overflow": null,
            "overflow_x": null,
            "overflow_y": null,
            "padding": null,
            "right": null,
            "top": null,
            "visibility": null,
            "width": null
          }
        },
        "6a230e8f7124480b9ba691fe10240bc5": {
          "model_module": "@jupyter-widgets/controls",
          "model_name": "ProgressStyleModel",
          "model_module_version": "1.5.0",
          "state": {
            "_model_module": "@jupyter-widgets/controls",
            "_model_module_version": "1.5.0",
            "_model_name": "ProgressStyleModel",
            "_view_count": null,
            "_view_module": "@jupyter-widgets/base",
            "_view_module_version": "1.2.0",
            "_view_name": "StyleView",
            "bar_color": null,
            "description_width": ""
          }
        },
        "c951c05a916d41349ccf5e279019dd56": {
          "model_module": "@jupyter-widgets/base",
          "model_name": "LayoutModel",
          "model_module_version": "1.2.0",
          "state": {
            "_model_module": "@jupyter-widgets/base",
            "_model_module_version": "1.2.0",
            "_model_name": "LayoutModel",
            "_view_count": null,
            "_view_module": "@jupyter-widgets/base",
            "_view_module_version": "1.2.0",
            "_view_name": "LayoutView",
            "align_content": null,
            "align_items": null,
            "align_self": null,
            "border": null,
            "bottom": null,
            "display": null,
            "flex": null,
            "flex_flow": null,
            "grid_area": null,
            "grid_auto_columns": null,
            "grid_auto_flow": null,
            "grid_auto_rows": null,
            "grid_column": null,
            "grid_gap": null,
            "grid_row": null,
            "grid_template_areas": null,
            "grid_template_columns": null,
            "grid_template_rows": null,
            "height": null,
            "justify_content": null,
            "justify_items": null,
            "left": null,
            "margin": null,
            "max_height": null,
            "max_width": null,
            "min_height": null,
            "min_width": null,
            "object_fit": null,
            "object_position": null,
            "order": null,
            "overflow": null,
            "overflow_x": null,
            "overflow_y": null,
            "padding": null,
            "right": null,
            "top": null,
            "visibility": null,
            "width": null
          }
        },
        "46549ac32b79457eb93658b26a6ffb86": {
          "model_module": "@jupyter-widgets/controls",
          "model_name": "DescriptionStyleModel",
          "model_module_version": "1.5.0",
          "state": {
            "_model_module": "@jupyter-widgets/controls",
            "_model_module_version": "1.5.0",
            "_model_name": "DescriptionStyleModel",
            "_view_count": null,
            "_view_module": "@jupyter-widgets/base",
            "_view_module_version": "1.2.0",
            "_view_name": "StyleView",
            "description_width": ""
          }
        },
        "7a27092d7393472599aef15627c6e2ec": {
          "model_module": "@jupyter-widgets/controls",
          "model_name": "HBoxModel",
          "model_module_version": "1.5.0",
          "state": {
            "_dom_classes": [],
            "_model_module": "@jupyter-widgets/controls",
            "_model_module_version": "1.5.0",
            "_model_name": "HBoxModel",
            "_view_count": null,
            "_view_module": "@jupyter-widgets/controls",
            "_view_module_version": "1.5.0",
            "_view_name": "HBoxView",
            "box_style": "",
            "children": [
              "IPY_MODEL_4b8eb2df452f49c08c3f8ca40d1cde65",
              "IPY_MODEL_89a8f41d76a04731bf9cedcc5a666592",
              "IPY_MODEL_545b4abf33324437b3d8de398e7914de"
            ],
            "layout": "IPY_MODEL_7ed6be262f8f45b9a13982895ecb8e23"
          }
        },
        "4b8eb2df452f49c08c3f8ca40d1cde65": {
          "model_module": "@jupyter-widgets/controls",
          "model_name": "HTMLModel",
          "model_module_version": "1.5.0",
          "state": {
            "_dom_classes": [],
            "_model_module": "@jupyter-widgets/controls",
            "_model_module_version": "1.5.0",
            "_model_name": "HTMLModel",
            "_view_count": null,
            "_view_module": "@jupyter-widgets/controls",
            "_view_module_version": "1.5.0",
            "_view_name": "HTMLView",
            "description": "",
            "description_tooltip": null,
            "layout": "IPY_MODEL_0b465e01690c47a8beda22bdaa4c7fc4",
            "placeholder": "​",
            "style": "IPY_MODEL_7dbe79690d4c43dbbbb0af5d6fe1ec80",
            "value": "config.json: 100%"
          }
        },
        "89a8f41d76a04731bf9cedcc5a666592": {
          "model_module": "@jupyter-widgets/controls",
          "model_name": "FloatProgressModel",
          "model_module_version": "1.5.0",
          "state": {
            "_dom_classes": [],
            "_model_module": "@jupyter-widgets/controls",
            "_model_module_version": "1.5.0",
            "_model_name": "FloatProgressModel",
            "_view_count": null,
            "_view_module": "@jupyter-widgets/controls",
            "_view_module_version": "1.5.0",
            "_view_name": "ProgressView",
            "bar_style": "success",
            "description": "",
            "description_tooltip": null,
            "layout": "IPY_MODEL_4c09f2628d5c45aebd4becf4875bb738",
            "max": 625,
            "min": 0,
            "orientation": "horizontal",
            "style": "IPY_MODEL_97acb0ae3c514d5181b39d8f9f1f888c",
            "value": 625
          }
        },
        "545b4abf33324437b3d8de398e7914de": {
          "model_module": "@jupyter-widgets/controls",
          "model_name": "HTMLModel",
          "model_module_version": "1.5.0",
          "state": {
            "_dom_classes": [],
            "_model_module": "@jupyter-widgets/controls",
            "_model_module_version": "1.5.0",
            "_model_name": "HTMLModel",
            "_view_count": null,
            "_view_module": "@jupyter-widgets/controls",
            "_view_module_version": "1.5.0",
            "_view_name": "HTMLView",
            "description": "",
            "description_tooltip": null,
            "layout": "IPY_MODEL_cd23af45d8eb47a2aaada9c9f5b9e750",
            "placeholder": "​",
            "style": "IPY_MODEL_aa771774c798432e9f8e6a4fe1e50a4c",
            "value": " 625/625 [00:00&lt;00:00, 44.9kB/s]"
          }
        },
        "7ed6be262f8f45b9a13982895ecb8e23": {
          "model_module": "@jupyter-widgets/base",
          "model_name": "LayoutModel",
          "model_module_version": "1.2.0",
          "state": {
            "_model_module": "@jupyter-widgets/base",
            "_model_module_version": "1.2.0",
            "_model_name": "LayoutModel",
            "_view_count": null,
            "_view_module": "@jupyter-widgets/base",
            "_view_module_version": "1.2.0",
            "_view_name": "LayoutView",
            "align_content": null,
            "align_items": null,
            "align_self": null,
            "border": null,
            "bottom": null,
            "display": null,
            "flex": null,
            "flex_flow": null,
            "grid_area": null,
            "grid_auto_columns": null,
            "grid_auto_flow": null,
            "grid_auto_rows": null,
            "grid_column": null,
            "grid_gap": null,
            "grid_row": null,
            "grid_template_areas": null,
            "grid_template_columns": null,
            "grid_template_rows": null,
            "height": null,
            "justify_content": null,
            "justify_items": null,
            "left": null,
            "margin": null,
            "max_height": null,
            "max_width": null,
            "min_height": null,
            "min_width": null,
            "object_fit": null,
            "object_position": null,
            "order": null,
            "overflow": null,
            "overflow_x": null,
            "overflow_y": null,
            "padding": null,
            "right": null,
            "top": null,
            "visibility": null,
            "width": null
          }
        },
        "0b465e01690c47a8beda22bdaa4c7fc4": {
          "model_module": "@jupyter-widgets/base",
          "model_name": "LayoutModel",
          "model_module_version": "1.2.0",
          "state": {
            "_model_module": "@jupyter-widgets/base",
            "_model_module_version": "1.2.0",
            "_model_name": "LayoutModel",
            "_view_count": null,
            "_view_module": "@jupyter-widgets/base",
            "_view_module_version": "1.2.0",
            "_view_name": "LayoutView",
            "align_content": null,
            "align_items": null,
            "align_self": null,
            "border": null,
            "bottom": null,
            "display": null,
            "flex": null,
            "flex_flow": null,
            "grid_area": null,
            "grid_auto_columns": null,
            "grid_auto_flow": null,
            "grid_auto_rows": null,
            "grid_column": null,
            "grid_gap": null,
            "grid_row": null,
            "grid_template_areas": null,
            "grid_template_columns": null,
            "grid_template_rows": null,
            "height": null,
            "justify_content": null,
            "justify_items": null,
            "left": null,
            "margin": null,
            "max_height": null,
            "max_width": null,
            "min_height": null,
            "min_width": null,
            "object_fit": null,
            "object_position": null,
            "order": null,
            "overflow": null,
            "overflow_x": null,
            "overflow_y": null,
            "padding": null,
            "right": null,
            "top": null,
            "visibility": null,
            "width": null
          }
        },
        "7dbe79690d4c43dbbbb0af5d6fe1ec80": {
          "model_module": "@jupyter-widgets/controls",
          "model_name": "DescriptionStyleModel",
          "model_module_version": "1.5.0",
          "state": {
            "_model_module": "@jupyter-widgets/controls",
            "_model_module_version": "1.5.0",
            "_model_name": "DescriptionStyleModel",
            "_view_count": null,
            "_view_module": "@jupyter-widgets/base",
            "_view_module_version": "1.2.0",
            "_view_name": "StyleView",
            "description_width": ""
          }
        },
        "4c09f2628d5c45aebd4becf4875bb738": {
          "model_module": "@jupyter-widgets/base",
          "model_name": "LayoutModel",
          "model_module_version": "1.2.0",
          "state": {
            "_model_module": "@jupyter-widgets/base",
            "_model_module_version": "1.2.0",
            "_model_name": "LayoutModel",
            "_view_count": null,
            "_view_module": "@jupyter-widgets/base",
            "_view_module_version": "1.2.0",
            "_view_name": "LayoutView",
            "align_content": null,
            "align_items": null,
            "align_self": null,
            "border": null,
            "bottom": null,
            "display": null,
            "flex": null,
            "flex_flow": null,
            "grid_area": null,
            "grid_auto_columns": null,
            "grid_auto_flow": null,
            "grid_auto_rows": null,
            "grid_column": null,
            "grid_gap": null,
            "grid_row": null,
            "grid_template_areas": null,
            "grid_template_columns": null,
            "grid_template_rows": null,
            "height": null,
            "justify_content": null,
            "justify_items": null,
            "left": null,
            "margin": null,
            "max_height": null,
            "max_width": null,
            "min_height": null,
            "min_width": null,
            "object_fit": null,
            "object_position": null,
            "order": null,
            "overflow": null,
            "overflow_x": null,
            "overflow_y": null,
            "padding": null,
            "right": null,
            "top": null,
            "visibility": null,
            "width": null
          }
        },
        "97acb0ae3c514d5181b39d8f9f1f888c": {
          "model_module": "@jupyter-widgets/controls",
          "model_name": "ProgressStyleModel",
          "model_module_version": "1.5.0",
          "state": {
            "_model_module": "@jupyter-widgets/controls",
            "_model_module_version": "1.5.0",
            "_model_name": "ProgressStyleModel",
            "_view_count": null,
            "_view_module": "@jupyter-widgets/base",
            "_view_module_version": "1.2.0",
            "_view_name": "StyleView",
            "bar_color": null,
            "description_width": ""
          }
        },
        "cd23af45d8eb47a2aaada9c9f5b9e750": {
          "model_module": "@jupyter-widgets/base",
          "model_name": "LayoutModel",
          "model_module_version": "1.2.0",
          "state": {
            "_model_module": "@jupyter-widgets/base",
            "_model_module_version": "1.2.0",
            "_model_name": "LayoutModel",
            "_view_count": null,
            "_view_module": "@jupyter-widgets/base",
            "_view_module_version": "1.2.0",
            "_view_name": "LayoutView",
            "align_content": null,
            "align_items": null,
            "align_self": null,
            "border": null,
            "bottom": null,
            "display": null,
            "flex": null,
            "flex_flow": null,
            "grid_area": null,
            "grid_auto_columns": null,
            "grid_auto_flow": null,
            "grid_auto_rows": null,
            "grid_column": null,
            "grid_gap": null,
            "grid_row": null,
            "grid_template_areas": null,
            "grid_template_columns": null,
            "grid_template_rows": null,
            "height": null,
            "justify_content": null,
            "justify_items": null,
            "left": null,
            "margin": null,
            "max_height": null,
            "max_width": null,
            "min_height": null,
            "min_width": null,
            "object_fit": null,
            "object_position": null,
            "order": null,
            "overflow": null,
            "overflow_x": null,
            "overflow_y": null,
            "padding": null,
            "right": null,
            "top": null,
            "visibility": null,
            "width": null
          }
        },
        "aa771774c798432e9f8e6a4fe1e50a4c": {
          "model_module": "@jupyter-widgets/controls",
          "model_name": "DescriptionStyleModel",
          "model_module_version": "1.5.0",
          "state": {
            "_model_module": "@jupyter-widgets/controls",
            "_model_module_version": "1.5.0",
            "_model_name": "DescriptionStyleModel",
            "_view_count": null,
            "_view_module": "@jupyter-widgets/base",
            "_view_module_version": "1.2.0",
            "_view_name": "StyleView",
            "description_width": ""
          }
        },
        "a6994e2118ab432fb022e5efb4c0650a": {
          "model_module": "@jupyter-widgets/controls",
          "model_name": "HBoxModel",
          "model_module_version": "1.5.0",
          "state": {
            "_dom_classes": [],
            "_model_module": "@jupyter-widgets/controls",
            "_model_module_version": "1.5.0",
            "_model_name": "HBoxModel",
            "_view_count": null,
            "_view_module": "@jupyter-widgets/controls",
            "_view_module_version": "1.5.0",
            "_view_name": "HBoxView",
            "box_style": "",
            "children": [
              "IPY_MODEL_463bcee5b2444a8ea9dee8ab618d38b3",
              "IPY_MODEL_1861baed93a04d1d9b52727b36dbb9a7",
              "IPY_MODEL_19f59736ff024c28995aed400c4f7f1b"
            ],
            "layout": "IPY_MODEL_f707e5fc086d4cd58f22876e1d79e520"
          }
        },
        "463bcee5b2444a8ea9dee8ab618d38b3": {
          "model_module": "@jupyter-widgets/controls",
          "model_name": "HTMLModel",
          "model_module_version": "1.5.0",
          "state": {
            "_dom_classes": [],
            "_model_module": "@jupyter-widgets/controls",
            "_model_module_version": "1.5.0",
            "_model_name": "HTMLModel",
            "_view_count": null,
            "_view_module": "@jupyter-widgets/controls",
            "_view_module_version": "1.5.0",
            "_view_name": "HTMLView",
            "description": "",
            "description_tooltip": null,
            "layout": "IPY_MODEL_f4012aedf3c040d1bc80b386591e18a1",
            "placeholder": "​",
            "style": "IPY_MODEL_20bb9154ac57426d9417901058ae9faa",
            "value": "Map: 100%"
          }
        },
        "1861baed93a04d1d9b52727b36dbb9a7": {
          "model_module": "@jupyter-widgets/controls",
          "model_name": "FloatProgressModel",
          "model_module_version": "1.5.0",
          "state": {
            "_dom_classes": [],
            "_model_module": "@jupyter-widgets/controls",
            "_model_module_version": "1.5.0",
            "_model_name": "FloatProgressModel",
            "_view_count": null,
            "_view_module": "@jupyter-widgets/controls",
            "_view_module_version": "1.5.0",
            "_view_name": "ProgressView",
            "bar_style": "success",
            "description": "",
            "description_tooltip": null,
            "layout": "IPY_MODEL_d87f3e70c2534fd69f668f3ca946bdf2",
            "max": 2902,
            "min": 0,
            "orientation": "horizontal",
            "style": "IPY_MODEL_c78fae9e527d48d0a9ca07e4e9f52b9b",
            "value": 2902
          }
        },
        "19f59736ff024c28995aed400c4f7f1b": {
          "model_module": "@jupyter-widgets/controls",
          "model_name": "HTMLModel",
          "model_module_version": "1.5.0",
          "state": {
            "_dom_classes": [],
            "_model_module": "@jupyter-widgets/controls",
            "_model_module_version": "1.5.0",
            "_model_name": "HTMLModel",
            "_view_count": null,
            "_view_module": "@jupyter-widgets/controls",
            "_view_module_version": "1.5.0",
            "_view_name": "HTMLView",
            "description": "",
            "description_tooltip": null,
            "layout": "IPY_MODEL_308ff8d3a2304dabac6308723d8f31e6",
            "placeholder": "​",
            "style": "IPY_MODEL_e4821de25a1b44219f1705a9ea637299",
            "value": " 2902/2902 [00:00&lt;00:00, 5093.95 examples/s]"
          }
        },
        "f707e5fc086d4cd58f22876e1d79e520": {
          "model_module": "@jupyter-widgets/base",
          "model_name": "LayoutModel",
          "model_module_version": "1.2.0",
          "state": {
            "_model_module": "@jupyter-widgets/base",
            "_model_module_version": "1.2.0",
            "_model_name": "LayoutModel",
            "_view_count": null,
            "_view_module": "@jupyter-widgets/base",
            "_view_module_version": "1.2.0",
            "_view_name": "LayoutView",
            "align_content": null,
            "align_items": null,
            "align_self": null,
            "border": null,
            "bottom": null,
            "display": null,
            "flex": null,
            "flex_flow": null,
            "grid_area": null,
            "grid_auto_columns": null,
            "grid_auto_flow": null,
            "grid_auto_rows": null,
            "grid_column": null,
            "grid_gap": null,
            "grid_row": null,
            "grid_template_areas": null,
            "grid_template_columns": null,
            "grid_template_rows": null,
            "height": null,
            "justify_content": null,
            "justify_items": null,
            "left": null,
            "margin": null,
            "max_height": null,
            "max_width": null,
            "min_height": null,
            "min_width": null,
            "object_fit": null,
            "object_position": null,
            "order": null,
            "overflow": null,
            "overflow_x": null,
            "overflow_y": null,
            "padding": null,
            "right": null,
            "top": null,
            "visibility": null,
            "width": null
          }
        },
        "f4012aedf3c040d1bc80b386591e18a1": {
          "model_module": "@jupyter-widgets/base",
          "model_name": "LayoutModel",
          "model_module_version": "1.2.0",
          "state": {
            "_model_module": "@jupyter-widgets/base",
            "_model_module_version": "1.2.0",
            "_model_name": "LayoutModel",
            "_view_count": null,
            "_view_module": "@jupyter-widgets/base",
            "_view_module_version": "1.2.0",
            "_view_name": "LayoutView",
            "align_content": null,
            "align_items": null,
            "align_self": null,
            "border": null,
            "bottom": null,
            "display": null,
            "flex": null,
            "flex_flow": null,
            "grid_area": null,
            "grid_auto_columns": null,
            "grid_auto_flow": null,
            "grid_auto_rows": null,
            "grid_column": null,
            "grid_gap": null,
            "grid_row": null,
            "grid_template_areas": null,
            "grid_template_columns": null,
            "grid_template_rows": null,
            "height": null,
            "justify_content": null,
            "justify_items": null,
            "left": null,
            "margin": null,
            "max_height": null,
            "max_width": null,
            "min_height": null,
            "min_width": null,
            "object_fit": null,
            "object_position": null,
            "order": null,
            "overflow": null,
            "overflow_x": null,
            "overflow_y": null,
            "padding": null,
            "right": null,
            "top": null,
            "visibility": null,
            "width": null
          }
        },
        "20bb9154ac57426d9417901058ae9faa": {
          "model_module": "@jupyter-widgets/controls",
          "model_name": "DescriptionStyleModel",
          "model_module_version": "1.5.0",
          "state": {
            "_model_module": "@jupyter-widgets/controls",
            "_model_module_version": "1.5.0",
            "_model_name": "DescriptionStyleModel",
            "_view_count": null,
            "_view_module": "@jupyter-widgets/base",
            "_view_module_version": "1.2.0",
            "_view_name": "StyleView",
            "description_width": ""
          }
        },
        "d87f3e70c2534fd69f668f3ca946bdf2": {
          "model_module": "@jupyter-widgets/base",
          "model_name": "LayoutModel",
          "model_module_version": "1.2.0",
          "state": {
            "_model_module": "@jupyter-widgets/base",
            "_model_module_version": "1.2.0",
            "_model_name": "LayoutModel",
            "_view_count": null,
            "_view_module": "@jupyter-widgets/base",
            "_view_module_version": "1.2.0",
            "_view_name": "LayoutView",
            "align_content": null,
            "align_items": null,
            "align_self": null,
            "border": null,
            "bottom": null,
            "display": null,
            "flex": null,
            "flex_flow": null,
            "grid_area": null,
            "grid_auto_columns": null,
            "grid_auto_flow": null,
            "grid_auto_rows": null,
            "grid_column": null,
            "grid_gap": null,
            "grid_row": null,
            "grid_template_areas": null,
            "grid_template_columns": null,
            "grid_template_rows": null,
            "height": null,
            "justify_content": null,
            "justify_items": null,
            "left": null,
            "margin": null,
            "max_height": null,
            "max_width": null,
            "min_height": null,
            "min_width": null,
            "object_fit": null,
            "object_position": null,
            "order": null,
            "overflow": null,
            "overflow_x": null,
            "overflow_y": null,
            "padding": null,
            "right": null,
            "top": null,
            "visibility": null,
            "width": null
          }
        },
        "c78fae9e527d48d0a9ca07e4e9f52b9b": {
          "model_module": "@jupyter-widgets/controls",
          "model_name": "ProgressStyleModel",
          "model_module_version": "1.5.0",
          "state": {
            "_model_module": "@jupyter-widgets/controls",
            "_model_module_version": "1.5.0",
            "_model_name": "ProgressStyleModel",
            "_view_count": null,
            "_view_module": "@jupyter-widgets/base",
            "_view_module_version": "1.2.0",
            "_view_name": "StyleView",
            "bar_color": null,
            "description_width": ""
          }
        },
        "308ff8d3a2304dabac6308723d8f31e6": {
          "model_module": "@jupyter-widgets/base",
          "model_name": "LayoutModel",
          "model_module_version": "1.2.0",
          "state": {
            "_model_module": "@jupyter-widgets/base",
            "_model_module_version": "1.2.0",
            "_model_name": "LayoutModel",
            "_view_count": null,
            "_view_module": "@jupyter-widgets/base",
            "_view_module_version": "1.2.0",
            "_view_name": "LayoutView",
            "align_content": null,
            "align_items": null,
            "align_self": null,
            "border": null,
            "bottom": null,
            "display": null,
            "flex": null,
            "flex_flow": null,
            "grid_area": null,
            "grid_auto_columns": null,
            "grid_auto_flow": null,
            "grid_auto_rows": null,
            "grid_column": null,
            "grid_gap": null,
            "grid_row": null,
            "grid_template_areas": null,
            "grid_template_columns": null,
            "grid_template_rows": null,
            "height": null,
            "justify_content": null,
            "justify_items": null,
            "left": null,
            "margin": null,
            "max_height": null,
            "max_width": null,
            "min_height": null,
            "min_width": null,
            "object_fit": null,
            "object_position": null,
            "order": null,
            "overflow": null,
            "overflow_x": null,
            "overflow_y": null,
            "padding": null,
            "right": null,
            "top": null,
            "visibility": null,
            "width": null
          }
        },
        "e4821de25a1b44219f1705a9ea637299": {
          "model_module": "@jupyter-widgets/controls",
          "model_name": "DescriptionStyleModel",
          "model_module_version": "1.5.0",
          "state": {
            "_model_module": "@jupyter-widgets/controls",
            "_model_module_version": "1.5.0",
            "_model_name": "DescriptionStyleModel",
            "_view_count": null,
            "_view_module": "@jupyter-widgets/base",
            "_view_module_version": "1.2.0",
            "_view_name": "StyleView",
            "description_width": ""
          }
        },
        "a57c527a59c44ac8807fea6bb515633a": {
          "model_module": "@jupyter-widgets/controls",
          "model_name": "HBoxModel",
          "model_module_version": "1.5.0",
          "state": {
            "_dom_classes": [],
            "_model_module": "@jupyter-widgets/controls",
            "_model_module_version": "1.5.0",
            "_model_name": "HBoxModel",
            "_view_count": null,
            "_view_module": "@jupyter-widgets/controls",
            "_view_module_version": "1.5.0",
            "_view_name": "HBoxView",
            "box_style": "",
            "children": [
              "IPY_MODEL_a5db6ae7bf25436f9d3c891cf452cfa7",
              "IPY_MODEL_f90cbef70e114ce489a8e0cea57e2853",
              "IPY_MODEL_e165c31cf1a74cf7ab44c099ff1f91bb"
            ],
            "layout": "IPY_MODEL_25e64d623dec45f285efa33f0e098ad5"
          }
        },
        "a5db6ae7bf25436f9d3c891cf452cfa7": {
          "model_module": "@jupyter-widgets/controls",
          "model_name": "HTMLModel",
          "model_module_version": "1.5.0",
          "state": {
            "_dom_classes": [],
            "_model_module": "@jupyter-widgets/controls",
            "_model_module_version": "1.5.0",
            "_model_name": "HTMLModel",
            "_view_count": null,
            "_view_module": "@jupyter-widgets/controls",
            "_view_module_version": "1.5.0",
            "_view_name": "HTMLView",
            "description": "",
            "description_tooltip": null,
            "layout": "IPY_MODEL_b052506cd5df478f84f0afa49e879736",
            "placeholder": "​",
            "style": "IPY_MODEL_3a9e09b418664815bb0c85c447c80fcb",
            "value": "model.safetensors: 100%"
          }
        },
        "f90cbef70e114ce489a8e0cea57e2853": {
          "model_module": "@jupyter-widgets/controls",
          "model_name": "FloatProgressModel",
          "model_module_version": "1.5.0",
          "state": {
            "_dom_classes": [],
            "_model_module": "@jupyter-widgets/controls",
            "_model_module_version": "1.5.0",
            "_model_name": "FloatProgressModel",
            "_view_count": null,
            "_view_module": "@jupyter-widgets/controls",
            "_view_module_version": "1.5.0",
            "_view_name": "ProgressView",
            "bar_style": "success",
            "description": "",
            "description_tooltip": null,
            "layout": "IPY_MODEL_51a199dfbbcf43078bb32cc47d7d1f00",
            "max": 714290682,
            "min": 0,
            "orientation": "horizontal",
            "style": "IPY_MODEL_5dcc8d9da0d84d09b180d3cc596539e9",
            "value": 714290682
          }
        },
        "e165c31cf1a74cf7ab44c099ff1f91bb": {
          "model_module": "@jupyter-widgets/controls",
          "model_name": "HTMLModel",
          "model_module_version": "1.5.0",
          "state": {
            "_dom_classes": [],
            "_model_module": "@jupyter-widgets/controls",
            "_model_module_version": "1.5.0",
            "_model_name": "HTMLModel",
            "_view_count": null,
            "_view_module": "@jupyter-widgets/controls",
            "_view_module_version": "1.5.0",
            "_view_name": "HTMLView",
            "description": "",
            "description_tooltip": null,
            "layout": "IPY_MODEL_c1e85095b99b4807b622cfd4585c876d",
            "placeholder": "​",
            "style": "IPY_MODEL_bfb7ee0d499843ae9669a86f22bbeaf9",
            "value": " 714M/714M [00:05&lt;00:00, 193MB/s]"
          }
        },
        "25e64d623dec45f285efa33f0e098ad5": {
          "model_module": "@jupyter-widgets/base",
          "model_name": "LayoutModel",
          "model_module_version": "1.2.0",
          "state": {
            "_model_module": "@jupyter-widgets/base",
            "_model_module_version": "1.2.0",
            "_model_name": "LayoutModel",
            "_view_count": null,
            "_view_module": "@jupyter-widgets/base",
            "_view_module_version": "1.2.0",
            "_view_name": "LayoutView",
            "align_content": null,
            "align_items": null,
            "align_self": null,
            "border": null,
            "bottom": null,
            "display": null,
            "flex": null,
            "flex_flow": null,
            "grid_area": null,
            "grid_auto_columns": null,
            "grid_auto_flow": null,
            "grid_auto_rows": null,
            "grid_column": null,
            "grid_gap": null,
            "grid_row": null,
            "grid_template_areas": null,
            "grid_template_columns": null,
            "grid_template_rows": null,
            "height": null,
            "justify_content": null,
            "justify_items": null,
            "left": null,
            "margin": null,
            "max_height": null,
            "max_width": null,
            "min_height": null,
            "min_width": null,
            "object_fit": null,
            "object_position": null,
            "order": null,
            "overflow": null,
            "overflow_x": null,
            "overflow_y": null,
            "padding": null,
            "right": null,
            "top": null,
            "visibility": null,
            "width": null
          }
        },
        "b052506cd5df478f84f0afa49e879736": {
          "model_module": "@jupyter-widgets/base",
          "model_name": "LayoutModel",
          "model_module_version": "1.2.0",
          "state": {
            "_model_module": "@jupyter-widgets/base",
            "_model_module_version": "1.2.0",
            "_model_name": "LayoutModel",
            "_view_count": null,
            "_view_module": "@jupyter-widgets/base",
            "_view_module_version": "1.2.0",
            "_view_name": "LayoutView",
            "align_content": null,
            "align_items": null,
            "align_self": null,
            "border": null,
            "bottom": null,
            "display": null,
            "flex": null,
            "flex_flow": null,
            "grid_area": null,
            "grid_auto_columns": null,
            "grid_auto_flow": null,
            "grid_auto_rows": null,
            "grid_column": null,
            "grid_gap": null,
            "grid_row": null,
            "grid_template_areas": null,
            "grid_template_columns": null,
            "grid_template_rows": null,
            "height": null,
            "justify_content": null,
            "justify_items": null,
            "left": null,
            "margin": null,
            "max_height": null,
            "max_width": null,
            "min_height": null,
            "min_width": null,
            "object_fit": null,
            "object_position": null,
            "order": null,
            "overflow": null,
            "overflow_x": null,
            "overflow_y": null,
            "padding": null,
            "right": null,
            "top": null,
            "visibility": null,
            "width": null
          }
        },
        "3a9e09b418664815bb0c85c447c80fcb": {
          "model_module": "@jupyter-widgets/controls",
          "model_name": "DescriptionStyleModel",
          "model_module_version": "1.5.0",
          "state": {
            "_model_module": "@jupyter-widgets/controls",
            "_model_module_version": "1.5.0",
            "_model_name": "DescriptionStyleModel",
            "_view_count": null,
            "_view_module": "@jupyter-widgets/base",
            "_view_module_version": "1.2.0",
            "_view_name": "StyleView",
            "description_width": ""
          }
        },
        "51a199dfbbcf43078bb32cc47d7d1f00": {
          "model_module": "@jupyter-widgets/base",
          "model_name": "LayoutModel",
          "model_module_version": "1.2.0",
          "state": {
            "_model_module": "@jupyter-widgets/base",
            "_model_module_version": "1.2.0",
            "_model_name": "LayoutModel",
            "_view_count": null,
            "_view_module": "@jupyter-widgets/base",
            "_view_module_version": "1.2.0",
            "_view_name": "LayoutView",
            "align_content": null,
            "align_items": null,
            "align_self": null,
            "border": null,
            "bottom": null,
            "display": null,
            "flex": null,
            "flex_flow": null,
            "grid_area": null,
            "grid_auto_columns": null,
            "grid_auto_flow": null,
            "grid_auto_rows": null,
            "grid_column": null,
            "grid_gap": null,
            "grid_row": null,
            "grid_template_areas": null,
            "grid_template_columns": null,
            "grid_template_rows": null,
            "height": null,
            "justify_content": null,
            "justify_items": null,
            "left": null,
            "margin": null,
            "max_height": null,
            "max_width": null,
            "min_height": null,
            "min_width": null,
            "object_fit": null,
            "object_position": null,
            "order": null,
            "overflow": null,
            "overflow_x": null,
            "overflow_y": null,
            "padding": null,
            "right": null,
            "top": null,
            "visibility": null,
            "width": null
          }
        },
        "5dcc8d9da0d84d09b180d3cc596539e9": {
          "model_module": "@jupyter-widgets/controls",
          "model_name": "ProgressStyleModel",
          "model_module_version": "1.5.0",
          "state": {
            "_model_module": "@jupyter-widgets/controls",
            "_model_module_version": "1.5.0",
            "_model_name": "ProgressStyleModel",
            "_view_count": null,
            "_view_module": "@jupyter-widgets/base",
            "_view_module_version": "1.2.0",
            "_view_name": "StyleView",
            "bar_color": null,
            "description_width": ""
          }
        },
        "c1e85095b99b4807b622cfd4585c876d": {
          "model_module": "@jupyter-widgets/base",
          "model_name": "LayoutModel",
          "model_module_version": "1.2.0",
          "state": {
            "_model_module": "@jupyter-widgets/base",
            "_model_module_version": "1.2.0",
            "_model_name": "LayoutModel",
            "_view_count": null,
            "_view_module": "@jupyter-widgets/base",
            "_view_module_version": "1.2.0",
            "_view_name": "LayoutView",
            "align_content": null,
            "align_items": null,
            "align_self": null,
            "border": null,
            "bottom": null,
            "display": null,
            "flex": null,
            "flex_flow": null,
            "grid_area": null,
            "grid_auto_columns": null,
            "grid_auto_flow": null,
            "grid_auto_rows": null,
            "grid_column": null,
            "grid_gap": null,
            "grid_row": null,
            "grid_template_areas": null,
            "grid_template_columns": null,
            "grid_template_rows": null,
            "height": null,
            "justify_content": null,
            "justify_items": null,
            "left": null,
            "margin": null,
            "max_height": null,
            "max_width": null,
            "min_height": null,
            "min_width": null,
            "object_fit": null,
            "object_position": null,
            "order": null,
            "overflow": null,
            "overflow_x": null,
            "overflow_y": null,
            "padding": null,
            "right": null,
            "top": null,
            "visibility": null,
            "width": null
          }
        },
        "bfb7ee0d499843ae9669a86f22bbeaf9": {
          "model_module": "@jupyter-widgets/controls",
          "model_name": "DescriptionStyleModel",
          "model_module_version": "1.5.0",
          "state": {
            "_model_module": "@jupyter-widgets/controls",
            "_model_module_version": "1.5.0",
            "_model_name": "DescriptionStyleModel",
            "_view_count": null,
            "_view_module": "@jupyter-widgets/base",
            "_view_module_version": "1.2.0",
            "_view_name": "StyleView",
            "description_width": ""
          }
        },
        "1fd2c92d08414517b0ed30def2c07dd0": {
          "model_module": "@jupyter-widgets/controls",
          "model_name": "HBoxModel",
          "model_module_version": "1.5.0",
          "state": {
            "_dom_classes": [],
            "_model_module": "@jupyter-widgets/controls",
            "_model_module_version": "1.5.0",
            "_model_name": "HBoxModel",
            "_view_count": null,
            "_view_module": "@jupyter-widgets/controls",
            "_view_module_version": "1.5.0",
            "_view_name": "HBoxView",
            "box_style": "",
            "children": [
              "IPY_MODEL_c53bbef13f75494c996c5ff1089b51b2",
              "IPY_MODEL_77e307c0098c4dc28b9313a9f7f15b6d",
              "IPY_MODEL_eb07ba3191c24ec58dd46e63221d3a6d"
            ],
            "layout": "IPY_MODEL_922cfce1dc6f4e5d950611d9eca2b8cc"
          }
        },
        "c53bbef13f75494c996c5ff1089b51b2": {
          "model_module": "@jupyter-widgets/controls",
          "model_name": "HTMLModel",
          "model_module_version": "1.5.0",
          "state": {
            "_dom_classes": [],
            "_model_module": "@jupyter-widgets/controls",
            "_model_module_version": "1.5.0",
            "_model_name": "HTMLModel",
            "_view_count": null,
            "_view_module": "@jupyter-widgets/controls",
            "_view_module_version": "1.5.0",
            "_view_name": "HTMLView",
            "description": "",
            "description_tooltip": null,
            "layout": "IPY_MODEL_0b2e635645cd48139b0f2fa70c758c55",
            "placeholder": "​",
            "style": "IPY_MODEL_61224e90c3414af79978ebb767d2b981",
            "value": "Downloading builder script: "
          }
        },
        "77e307c0098c4dc28b9313a9f7f15b6d": {
          "model_module": "@jupyter-widgets/controls",
          "model_name": "FloatProgressModel",
          "model_module_version": "1.5.0",
          "state": {
            "_dom_classes": [],
            "_model_module": "@jupyter-widgets/controls",
            "_model_module_version": "1.5.0",
            "_model_name": "FloatProgressModel",
            "_view_count": null,
            "_view_module": "@jupyter-widgets/controls",
            "_view_module_version": "1.5.0",
            "_view_name": "ProgressView",
            "bar_style": "success",
            "description": "",
            "description_tooltip": null,
            "layout": "IPY_MODEL_9496261ff4994ed89d6d8b548f6c7801",
            "max": 2471,
            "min": 0,
            "orientation": "horizontal",
            "style": "IPY_MODEL_3c007a4bf49c4606a03f99546ad85996",
            "value": 2471
          }
        },
        "eb07ba3191c24ec58dd46e63221d3a6d": {
          "model_module": "@jupyter-widgets/controls",
          "model_name": "HTMLModel",
          "model_module_version": "1.5.0",
          "state": {
            "_dom_classes": [],
            "_model_module": "@jupyter-widgets/controls",
            "_model_module_version": "1.5.0",
            "_model_name": "HTMLModel",
            "_view_count": null,
            "_view_module": "@jupyter-widgets/controls",
            "_view_module_version": "1.5.0",
            "_view_name": "HTMLView",
            "description": "",
            "description_tooltip": null,
            "layout": "IPY_MODEL_2d45d7389c7d46eeb536a878edae05b1",
            "placeholder": "​",
            "style": "IPY_MODEL_38af52f03fa84d3ca82ecf81ed10a25d",
            "value": " 6.33k/? [00:00&lt;00:00, 201kB/s]"
          }
        },
        "922cfce1dc6f4e5d950611d9eca2b8cc": {
          "model_module": "@jupyter-widgets/base",
          "model_name": "LayoutModel",
          "model_module_version": "1.2.0",
          "state": {
            "_model_module": "@jupyter-widgets/base",
            "_model_module_version": "1.2.0",
            "_model_name": "LayoutModel",
            "_view_count": null,
            "_view_module": "@jupyter-widgets/base",
            "_view_module_version": "1.2.0",
            "_view_name": "LayoutView",
            "align_content": null,
            "align_items": null,
            "align_self": null,
            "border": null,
            "bottom": null,
            "display": null,
            "flex": null,
            "flex_flow": null,
            "grid_area": null,
            "grid_auto_columns": null,
            "grid_auto_flow": null,
            "grid_auto_rows": null,
            "grid_column": null,
            "grid_gap": null,
            "grid_row": null,
            "grid_template_areas": null,
            "grid_template_columns": null,
            "grid_template_rows": null,
            "height": null,
            "justify_content": null,
            "justify_items": null,
            "left": null,
            "margin": null,
            "max_height": null,
            "max_width": null,
            "min_height": null,
            "min_width": null,
            "object_fit": null,
            "object_position": null,
            "order": null,
            "overflow": null,
            "overflow_x": null,
            "overflow_y": null,
            "padding": null,
            "right": null,
            "top": null,
            "visibility": null,
            "width": null
          }
        },
        "0b2e635645cd48139b0f2fa70c758c55": {
          "model_module": "@jupyter-widgets/base",
          "model_name": "LayoutModel",
          "model_module_version": "1.2.0",
          "state": {
            "_model_module": "@jupyter-widgets/base",
            "_model_module_version": "1.2.0",
            "_model_name": "LayoutModel",
            "_view_count": null,
            "_view_module": "@jupyter-widgets/base",
            "_view_module_version": "1.2.0",
            "_view_name": "LayoutView",
            "align_content": null,
            "align_items": null,
            "align_self": null,
            "border": null,
            "bottom": null,
            "display": null,
            "flex": null,
            "flex_flow": null,
            "grid_area": null,
            "grid_auto_columns": null,
            "grid_auto_flow": null,
            "grid_auto_rows": null,
            "grid_column": null,
            "grid_gap": null,
            "grid_row": null,
            "grid_template_areas": null,
            "grid_template_columns": null,
            "grid_template_rows": null,
            "height": null,
            "justify_content": null,
            "justify_items": null,
            "left": null,
            "margin": null,
            "max_height": null,
            "max_width": null,
            "min_height": null,
            "min_width": null,
            "object_fit": null,
            "object_position": null,
            "order": null,
            "overflow": null,
            "overflow_x": null,
            "overflow_y": null,
            "padding": null,
            "right": null,
            "top": null,
            "visibility": null,
            "width": null
          }
        },
        "61224e90c3414af79978ebb767d2b981": {
          "model_module": "@jupyter-widgets/controls",
          "model_name": "DescriptionStyleModel",
          "model_module_version": "1.5.0",
          "state": {
            "_model_module": "@jupyter-widgets/controls",
            "_model_module_version": "1.5.0",
            "_model_name": "DescriptionStyleModel",
            "_view_count": null,
            "_view_module": "@jupyter-widgets/base",
            "_view_module_version": "1.2.0",
            "_view_name": "StyleView",
            "description_width": ""
          }
        },
        "9496261ff4994ed89d6d8b548f6c7801": {
          "model_module": "@jupyter-widgets/base",
          "model_name": "LayoutModel",
          "model_module_version": "1.2.0",
          "state": {
            "_model_module": "@jupyter-widgets/base",
            "_model_module_version": "1.2.0",
            "_model_name": "LayoutModel",
            "_view_count": null,
            "_view_module": "@jupyter-widgets/base",
            "_view_module_version": "1.2.0",
            "_view_name": "LayoutView",
            "align_content": null,
            "align_items": null,
            "align_self": null,
            "border": null,
            "bottom": null,
            "display": null,
            "flex": null,
            "flex_flow": null,
            "grid_area": null,
            "grid_auto_columns": null,
            "grid_auto_flow": null,
            "grid_auto_rows": null,
            "grid_column": null,
            "grid_gap": null,
            "grid_row": null,
            "grid_template_areas": null,
            "grid_template_columns": null,
            "grid_template_rows": null,
            "height": null,
            "justify_content": null,
            "justify_items": null,
            "left": null,
            "margin": null,
            "max_height": null,
            "max_width": null,
            "min_height": null,
            "min_width": null,
            "object_fit": null,
            "object_position": null,
            "order": null,
            "overflow": null,
            "overflow_x": null,
            "overflow_y": null,
            "padding": null,
            "right": null,
            "top": null,
            "visibility": null,
            "width": null
          }
        },
        "3c007a4bf49c4606a03f99546ad85996": {
          "model_module": "@jupyter-widgets/controls",
          "model_name": "ProgressStyleModel",
          "model_module_version": "1.5.0",
          "state": {
            "_model_module": "@jupyter-widgets/controls",
            "_model_module_version": "1.5.0",
            "_model_name": "ProgressStyleModel",
            "_view_count": null,
            "_view_module": "@jupyter-widgets/base",
            "_view_module_version": "1.2.0",
            "_view_name": "StyleView",
            "bar_color": null,
            "description_width": ""
          }
        },
        "2d45d7389c7d46eeb536a878edae05b1": {
          "model_module": "@jupyter-widgets/base",
          "model_name": "LayoutModel",
          "model_module_version": "1.2.0",
          "state": {
            "_model_module": "@jupyter-widgets/base",
            "_model_module_version": "1.2.0",
            "_model_name": "LayoutModel",
            "_view_count": null,
            "_view_module": "@jupyter-widgets/base",
            "_view_module_version": "1.2.0",
            "_view_name": "LayoutView",
            "align_content": null,
            "align_items": null,
            "align_self": null,
            "border": null,
            "bottom": null,
            "display": null,
            "flex": null,
            "flex_flow": null,
            "grid_area": null,
            "grid_auto_columns": null,
            "grid_auto_flow": null,
            "grid_auto_rows": null,
            "grid_column": null,
            "grid_gap": null,
            "grid_row": null,
            "grid_template_areas": null,
            "grid_template_columns": null,
            "grid_template_rows": null,
            "height": null,
            "justify_content": null,
            "justify_items": null,
            "left": null,
            "margin": null,
            "max_height": null,
            "max_width": null,
            "min_height": null,
            "min_width": null,
            "object_fit": null,
            "object_position": null,
            "order": null,
            "overflow": null,
            "overflow_x": null,
            "overflow_y": null,
            "padding": null,
            "right": null,
            "top": null,
            "visibility": null,
            "width": null
          }
        },
        "38af52f03fa84d3ca82ecf81ed10a25d": {
          "model_module": "@jupyter-widgets/controls",
          "model_name": "DescriptionStyleModel",
          "model_module_version": "1.5.0",
          "state": {
            "_model_module": "@jupyter-widgets/controls",
            "_model_module_version": "1.5.0",
            "_model_name": "DescriptionStyleModel",
            "_view_count": null,
            "_view_module": "@jupyter-widgets/base",
            "_view_module_version": "1.2.0",
            "_view_name": "StyleView",
            "description_width": ""
          }
        }
      }
    }
  },
  "nbformat": 4,
  "nbformat_minor": 0
}