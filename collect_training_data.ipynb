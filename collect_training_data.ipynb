{
 "cells": [
  {
   "cell_type": "code",
   "execution_count": null,
   "metadata": {},
   "outputs": [],
   "source": [
    "# ! pip install pandas "
   ]
  },
  {
   "cell_type": "code",
   "execution_count": null,
   "metadata": {},
   "outputs": [],
   "source": [
    "# ! pip install scikit-learn"
   ]
  },
  {
   "cell_type": "code",
   "execution_count": 17,
   "metadata": {},
   "outputs": [
    {
     "name": "stdout",
     "output_type": "stream",
     "text": [
      "Processed files have been saved\n"
     ]
    }
   ],
   "source": [
    "import os\n",
    "import pandas as pd\n",
    "import re\n",
    "\n",
    "# Define input and output directories\n",
    "input_folder = r\"pdf_training_data\\examples_done\"\n",
    "output_folder = 'txt_df'\n",
    "\n",
    "# Create output folder if it doesn't exist\n",
    "os.makedirs(output_folder, exist_ok=True)\n",
    "\n",
    "def process_text_file(file_path):\n",
    "    try:\n",
    "        with open(file_path, 'r', encoding='utf-8') as file:\n",
    "            text = file.read()\n",
    "    except UnicodeDecodeError:\n",
    "        with open(file_path, 'r', encoding='latin-1') as file:\n",
    "            text = file.read()\n",
    "\n",
    "    # Extract questions and other lines\n",
    "    lines = text.split('\\n')\n",
    "    questions = []\n",
    "    for line in lines:\n",
    "        match = re.search(r'<q>(.*?)</q>', line)\n",
    "        if match:\n",
    "            questions.append((match.group(1), 1))\n",
    "        else:\n",
    "            questions.append((line.strip(), 0))\n",
    "\n",
    "    # Create DataFrame\n",
    "    df = pd.DataFrame(questions, columns=['text', 'label'])\n",
    "\n",
    "    # Remove empty and irrelevant rows\n",
    "    df = df[df['text'].str.strip() != '']\n",
    "    # df = df[~df['text'].str.contains('Score the MFQ|NOT TRUE|SOMETIMES|TRUE|To code|please use|checkmark', case=False)]\n",
    "    \n",
    "    return df\n",
    "\n",
    "# Process each text file in the input folder\n",
    "for filename in os.listdir(input_folder):\n",
    "    if filename.endswith('.txt'):\n",
    "        file_path = os.path.join(input_folder, filename)\n",
    "        df = process_text_file(file_path)\n",
    "        \n",
    "        # Save DataFrame to a CSV file in the output folder\n",
    "        output_file_path = os.path.join(output_folder, f\"{os.path.splitext(filename)[0]}.csv\")\n",
    "        df.to_csv(output_file_path, index=False)\n",
    "\n",
    "print(f\"Processed files have been saved\")"
   ]
  },
  {
   "cell_type": "code",
   "execution_count": null,
   "metadata": {},
   "outputs": [],
   "source": []
  }
 ],
 "metadata": {
  "kernelspec": {
   "display_name": "Python 3",
   "language": "python",
   "name": "python3"
  },
  "language_info": {
   "codemirror_mode": {
    "name": "ipython",
    "version": 3
   },
   "file_extension": ".py",
   "mimetype": "text/x-python",
   "name": "python",
   "nbconvert_exporter": "python",
   "pygments_lexer": "ipython3",
   "version": "3.9.13"
  }
 },
 "nbformat": 4,
 "nbformat_minor": 2
}
